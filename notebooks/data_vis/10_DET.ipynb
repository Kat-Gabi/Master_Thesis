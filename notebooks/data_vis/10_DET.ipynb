{
 "cells": [
  {
   "cell_type": "code",
   "execution_count": 1,
   "metadata": {},
   "outputs": [],
   "source": [
    "import math\n",
    "import operator\n",
    "from pathlib import Path\n",
    "\n",
    "from ipywidgets import fixed, interact\n",
    "import ipywidgets as widgets\n",
    "import matplotlib.patches as mpatches\n",
    "import matplotlib.pyplot as plt\n",
    "import numpy as np\n",
    "import pandas as pd\n",
    "from scipy.stats import describe, gaussian_kde\n",
    "import seaborn as sns\n",
    "\n",
    "import sys\n",
    "sys.path.insert(0, '../../utils')\n",
    "from DET_utils.DET import DET\n",
    "from DET_utils.DET_plots import *\n",
    "\n",
    "\n",
    "\n",
    "mated_colour = \"green\"\n",
    "mated_label = \"Mated scores\"\n",
    "nonmated_colour = \"red\"\n",
    "nonmated_label = \"Non-mated scores\"\n",
    "\n",
    "figure_size = (12,6)\n",
    "alpha_shade = 0.25\n",
    "alpha_fill = 1.0\n",
    "linewidth = 2\n",
    "legend_loc = \"upper left\"\n",
    "legend_anchor = (1.0, 1.02)\n",
    "legend_cols = 1\n",
    "legend_fontsize = 12\n",
    "label_fontsize = 16\n",
    "\n",
    "threshold_colour = \"black\"\n",
    "threshold_style = \"--\"\n",
    "round_digits = 5\n",
    "sns.set(style=\"white\", palette=\"muted\", color_codes=True)\n",
    "plt.rc(\"axes\", axisbelow=True)\n",
    "\n",
    "# load utils\n",
    "import sys\n",
    "sys.path.insert(0, '../utils')\n",
    "from MagFace_utils.MagFace_funcs_1 import *\n",
    "\n",
    "# Convert child ids to real ids as in child_balanced.\n",
    "\n",
    "# For all Ids, get last id name and convert to unique ids\n",
    "def convert_unique_ids(ids):\n",
    "    unique_ids_list = []\n",
    "    for id in ids:\n",
    "        im_name = id.split(\"/\")[-1][:-4]\n",
    "        if '.' in im_name:\n",
    "            un_id = im_name[:-5]\n",
    "        else:\n",
    "            un_id = \"_\".join(im_name.split(\"_\")[:-1])\n",
    "\n",
    "        unique_ids_list.append(un_id)\n",
    "    return unique_ids_list\n",
    "\n",
    "# Get unique ids\n",
    "def factorize_ids(ids):\n",
    "    unique_ids = {}\n",
    "    factors = []\n",
    "    for id in ids:\n",
    "        if id not in unique_ids:\n",
    "            unique_ids[id] = len(unique_ids)  # Assign a unique index for each unique ID\n",
    "        factors.append(unique_ids[id])  # Append the index corresponding to the ID\n",
    "    return factors, unique_ids\n"
   ]
  },
  {
   "cell_type": "code",
   "execution_count": 2,
   "metadata": {},
   "outputs": [
    {
     "data": {
      "text/plain": [
       "'/mnt/c/Dokumenter/Dokumenter/UNI/Master/Thesis/GitHub_Repo/Master_Thesis/notebooks/data_vis'"
      ]
     },
     "execution_count": 2,
     "metadata": {},
     "output_type": "execute_result"
    }
   ],
   "source": [
    "os.getcwd()"
   ]
  },
  {
   "cell_type": "code",
   "execution_count": 5,
   "metadata": {},
   "outputs": [],
   "source": [
    "path_children_feature_vector = '../../data/feature_vectors/feat_children.list'\n",
    "path_adults_feature_vector = '../../data/feature_vectors/feat_adults_new.list'"
   ]
  },
  {
   "cell_type": "code",
   "execution_count": 6,
   "metadata": {},
   "outputs": [],
   "source": [
    "# list_of_seeds = [1,2,3,4,5,6,7,8,9,10]\n",
    "\n",
    "# for i in list_of_seeds:\n",
    "#     #make subset of the related image_info_csv\n",
    "#     # store the ids so we can take the subset of features matching these ids\n",
    "#     # TODO"
   ]
  },
  {
   "cell_type": "code",
   "execution_count": 7,
   "metadata": {},
   "outputs": [],
   "source": [
    "# load childrens feature vectors and load adults featur vector\n",
    "with open(path_children_feature_vector, 'r') as f:\n",
    "    lines = f.readlines()\n",
    "    # lines make the subset of the features here\n",
    "\n",
    "img_2_feats = {}\n",
    "img_2_mag = {}\n",
    "for line in lines:\n",
    "    parts = line.strip().split(' ')\n",
    "    imgname = parts[0]\n",
    "    imgname = \"/\"+\"/\".join(imgname.split(\"/\")[4:])\n",
    "    feats = [float(e) for e in parts[1:]]\n",
    "    mag = np.linalg.norm(feats)\n",
    "    img_2_feats[imgname] = feats/mag\n",
    "    img_2_mag[imgname] = mag #magnitude of the feature vector\n",
    "\n",
    "imgnames = list(img_2_mag.keys())\n",
    "mags = [img_2_mag[imgname] for imgname in imgnames]\n",
    "sort_idx = np.argsort(mags) #sorts the magnitude/quality of the images\n",
    "feats = np.array([img_2_feats[imgnames[ele]] for ele in range(len(lines))]) #unsorted image quality\n",
    "ids_c = np.array([imgnames[ele] for ele in range(len(lines))])\n",
    "\n",
    "sim_mat_c = np.dot(feats, feats.T)\n",
    "sim_scores_c = sim_mat_c.copy()\n",
    "plot_sims = sim_scores_c[sim_scores_c < 0.9999].reshape(-1)\n"
   ]
  },
  {
   "cell_type": "code",
   "execution_count": 11,
   "metadata": {},
   "outputs": [],
   "source": [
    "\n",
    "with open(path_adults_feature_vector, 'r') as f:\n",
    "    lines = f.readlines()\n",
    "\n",
    "img_2_feats = {}\n",
    "img_2_mag = {}\n",
    "# Convert to dictionary as adaface - is done in img_2_feats\n",
    "for line in lines:\n",
    "    parts = line.strip().split(' ')\n",
    "    imgname = parts[0]\n",
    "    imgname = \"/\"+\"/\".join(imgname.split(\"/\")[4:])\n",
    "    feats = [float(e) for e in parts[1:]]\n",
    "    mag = np.linalg.norm(feats)\n",
    "    img_2_feats[imgname] = feats/mag\n",
    "    img_2_mag[imgname] = mag #magnitude of the feature vector\n",
    "imgnames = list(img_2_mag.keys())\n",
    "mags = [img_2_mag[imgname] for imgname in imgnames]\n",
    "sort_idx = np.argsort(mags) #sorts the magnitude/quality of the images\n",
    "feats_a = np.array([img_2_feats[imgnames[ele]] for ele in range(len(lines))]) #unsorted image quality\n",
    "ids_a = np.array([imgnames[ele] for ele in range(len(lines))])\n",
    "\n",
    "sim_mat_a = np.dot(feats_a, feats_a.T)\n",
    "ids_a = convert_unique_ids(ids_a)\n",
    "factors_a, unique_ids = factorize_ids(ids)\n",
    "\n",
    "\n",
    "sim_scores_a = sim_mat_a.copy()\n",
    "plot_sims_a = sim_scores_a[sim_scores_a < 0.999].reshape(-1)\n"
   ]
  },
  {
   "cell_type": "code",
   "execution_count": 12,
   "metadata": {},
   "outputs": [
    {
     "name": "stderr",
     "output_type": "stream",
     "text": [
      "/tmp/ipykernel_73190/2986043671.py:22: SettingWithCopyWarning: \n",
      "A value is trying to be set on a copy of a slice from a DataFrame.\n",
      "Try using .loc[row_indexer,col_indexer] = value instead\n",
      "\n",
      "See the caveats in the documentation: https://pandas.pydata.org/pandas-docs/stable/user_guide/indexing.html#returning-a-view-versus-a-copy\n",
      "  poor_a_ofiq['Identityname'] = poor_a_ofiq['Filename'].apply(extract_identifier)\n",
      "/tmp/ipykernel_73190/2986043671.py:23: SettingWithCopyWarning: \n",
      "A value is trying to be set on a copy of a slice from a DataFrame.\n",
      "Try using .loc[row_indexer,col_indexer] = value instead\n",
      "\n",
      "See the caveats in the documentation: https://pandas.pydata.org/pandas-docs/stable/user_guide/indexing.html#returning-a-view-versus-a-copy\n",
      "  poor_c_ofiq['Identityname'] = poor_c_ofiq['Filename'].apply(extract_identifier)\n"
     ]
    }
   ],
   "source": [
    "\n",
    "# Mated and non-mated ids\n",
    "a_df = pd.read_csv('../../data/image_info_csvs/adults_balanced.csv')\n",
    "c_df = pd.read_csv('../../data/image_info_csvs/child_balanced.csv')\n",
    "\n",
    "df_c_ofiq = pd.read_csv(\"../../data/OFIQ_results/children_all_final.csv\", sep=\";\")\n",
    "df_a_ofiq = pd.read_csv(\"../../data/OFIQ_results/adults_all_final.csv\", sep=\";\")\n",
    "df_can_ofiq = pd.read_csv(\"../../data/OFIQ_results/canonical_children.csv\", sep=\";\")\n",
    "poor_c_ofiq = df_c_ofiq[df_c_ofiq['UnifiedQualityScore.scalar'] > 29]\n",
    "poor_a_ofiq = df_a_ofiq[df_a_ofiq['UnifiedQualityScore.scalar'] > 43]\n",
    "poor_can_ofiq = df_can_ofiq[df_can_ofiq['UnifiedQualityScore.scalar'] > 29]\n",
    "\n",
    "def extract_identifier(filepath):\n",
    "    filename = filepath.split('/')[-1]\n",
    "    parts = filename.split('.')\n",
    "    if parts[-2].isdigit():\n",
    "        identifier = '.'.join(parts[-3:-1])\n",
    "    else:\n",
    "        identifier = '.'.join(parts[:-1])  # Join everything except the extension\n",
    "    return identifier\n",
    "\n",
    "# Apply the function on the DataFrame column\n",
    "poor_a_ofiq['Identityname'] = poor_a_ofiq['Filename'].apply(extract_identifier)\n",
    "poor_c_ofiq['Identityname'] = poor_c_ofiq['Filename'].apply(extract_identifier)\n",
    "poor_can_ofiq['Identityname'] = poor_can_ofiq['Filename'].apply(extract_identifier)\n"
   ]
  },
  {
   "cell_type": "markdown",
   "metadata": {},
   "source": [
    "## Subset of entire balanced dist"
   ]
  },
  {
   "cell_type": "code",
   "execution_count": 19,
   "metadata": {},
   "outputs": [],
   "source": [
    "subset_a_df = a_df[a_df['img_name'].isin(poor_a_ofiq['Identityname'])]\n",
    "subset_c_df = c_df[c_df['img_name'].isin(poor_c_ofiq['Identityname'])]\n"
   ]
  },
  {
   "cell_type": "code",
   "execution_count": 20,
   "metadata": {},
   "outputs": [],
   "source": [
    "# a_mates = subset_a_df.groupby(\"im_id\").agg({'im_id': ['count']})\n",
    "a_mates = a_df.groupby(\"im_id\").agg({'im_id': ['count']})\n",
    "a_mated_ids = a_mates[a_mates[('im_id', 'count')] > 1].index\n",
    "a_nonmated_ids = a_mates[a_mates[('im_id', 'count')] == 1].index\n",
    "\n",
    "\n",
    "# c_mates = subset_c_df.groupby(\"im_id\").agg({'im_id': ['count']})\n",
    "c_mates = c_df.groupby(\"im_id\").agg({'im_id': ['count']})\n",
    "c_mated_ids = c_mates[c_mates[('im_id', 'count')] > 1].index\n",
    "c_nonmated_ids = c_mates[c_mates[('im_id', 'count')] == 1].index\n"
   ]
  },
  {
   "cell_type": "code",
   "execution_count": 21,
   "metadata": {},
   "outputs": [],
   "source": [
    "# children\n",
    "\n",
    "ids = convert_unique_ids(ids_c)\n",
    "factors_c, unique_ids = factorize_ids(ids)\n",
    "\n",
    "\n",
    "## Threshold set based on studying the similarity scores\n",
    "thold_c = np.percentile(plot_sims, 99)\n",
    "im_ids_c = np.array(factors_c)\n",
    "\n",
    "mated_df = c_mated_ids\n",
    "non_mated_df = c_nonmated_ids\n",
    "sim_scores = sim_scores_c\n",
    "im_ids = im_ids_c\n",
    "ids = ids\n",
    "\n",
    "fnir_c = compute_fnir(c_mated_ids, sim_scores, im_ids_c, ids, thold=thold_c)\n",
    "fpir_c = compute_fpir(c_nonmated_ids, sim_scores, im_ids_c, ids, thold=thold_c)\n",
    "\n",
    "\n",
    "# adults\n",
    "thold_a = np.percentile(plot_sims_a, 99)\n",
    "im_ids_a = np.array(factors_a)\n",
    "\n",
    "mated_df = a_mated_ids\n",
    "non_mated_df = a_nonmated_ids\n",
    "sim_scores = sim_scores_a\n",
    "im_ids = im_ids_a\n",
    "ids = ids_a\n",
    "\n",
    "fnir_a = compute_fnir(mated_df, sim_scores_a, im_ids, ids, thold=thold_a)\n",
    "fpir_a = compute_fpir(non_mated_df, sim_scores_a, im_ids, ids, thold=thold_a)\n"
   ]
  },
  {
   "cell_type": "code",
   "execution_count": 22,
   "metadata": {},
   "outputs": [],
   "source": [
    "mated_scores1 = fnir_c[1]\n",
    "nonmated_scores1 = fpir_c[1]\n",
    "scores_type1 = \"similarity\"\n",
    "\n",
    "mated_scores2 = fnir_a[1]\n",
    "nonmated_scores2 = fpir_a[1]\n",
    "scores_type2 = \"similarity\""
   ]
  },
  {
   "cell_type": "code",
   "execution_count": 23,
   "metadata": {},
   "outputs": [
    {
     "name": "stderr",
     "output_type": "stream",
     "text": [
      "/tmp/ipykernel_73190/835943763.py:2: FutureWarning: this method is deprecated in favour of `Styler.hide(axis='index')`\n",
      "  display(stats_system1_df.round(round_digits).style.hide_index())\n"
     ]
    },
    {
     "data": {
      "text/html": [
       "<style type=\"text/css\">\n",
       "</style>\n",
       "<table id=\"T_8dbd5\">\n",
       "  <thead>\n",
       "    <tr>\n",
       "      <th id=\"T_8dbd5_level0_col0\" class=\"col_heading level0 col0\" >Statistic</th>\n",
       "      <th id=\"T_8dbd5_level0_col1\" class=\"col_heading level0 col1\" >Mated</th>\n",
       "      <th id=\"T_8dbd5_level0_col2\" class=\"col_heading level0 col2\" >Non-mated</th>\n",
       "    </tr>\n",
       "  </thead>\n",
       "  <tbody>\n",
       "    <tr>\n",
       "      <td id=\"T_8dbd5_row0_col0\" class=\"data row0 col0\" >Observations</td>\n",
       "      <td id=\"T_8dbd5_row0_col1\" class=\"data row0 col1\" >4050.000000</td>\n",
       "      <td id=\"T_8dbd5_row0_col2\" class=\"data row0 col2\" >4028795.000000</td>\n",
       "    </tr>\n",
       "    <tr>\n",
       "      <td id=\"T_8dbd5_row1_col0\" class=\"data row1 col0\" >Minimum</td>\n",
       "      <td id=\"T_8dbd5_row1_col1\" class=\"data row1 col1\" >0.078510</td>\n",
       "      <td id=\"T_8dbd5_row1_col2\" class=\"data row1 col2\" >-0.377520</td>\n",
       "    </tr>\n",
       "    <tr>\n",
       "      <td id=\"T_8dbd5_row2_col0\" class=\"data row2 col0\" >Maximum</td>\n",
       "      <td id=\"T_8dbd5_row2_col1\" class=\"data row2 col1\" >0.989440</td>\n",
       "      <td id=\"T_8dbd5_row2_col2\" class=\"data row2 col2\" >0.984690</td>\n",
       "    </tr>\n",
       "    <tr>\n",
       "      <td id=\"T_8dbd5_row3_col0\" class=\"data row3 col0\" >Mean</td>\n",
       "      <td id=\"T_8dbd5_row3_col1\" class=\"data row3 col1\" >0.623880</td>\n",
       "      <td id=\"T_8dbd5_row3_col2\" class=\"data row3 col2\" >0.142260</td>\n",
       "    </tr>\n",
       "    <tr>\n",
       "      <td id=\"T_8dbd5_row4_col0\" class=\"data row4 col0\" >St. Dev.</td>\n",
       "      <td id=\"T_8dbd5_row4_col1\" class=\"data row4 col1\" >0.152450</td>\n",
       "      <td id=\"T_8dbd5_row4_col2\" class=\"data row4 col2\" >0.136350</td>\n",
       "    </tr>\n",
       "    <tr>\n",
       "      <td id=\"T_8dbd5_row5_col0\" class=\"data row5 col0\" >Skewness</td>\n",
       "      <td id=\"T_8dbd5_row5_col1\" class=\"data row5 col1\" >-0.358280</td>\n",
       "      <td id=\"T_8dbd5_row5_col2\" class=\"data row5 col2\" >0.249530</td>\n",
       "    </tr>\n",
       "    <tr>\n",
       "      <td id=\"T_8dbd5_row6_col0\" class=\"data row6 col0\" >Ex. Kurtosis</td>\n",
       "      <td id=\"T_8dbd5_row6_col1\" class=\"data row6 col1\" >-0.195040</td>\n",
       "      <td id=\"T_8dbd5_row6_col2\" class=\"data row6 col2\" >-0.075410</td>\n",
       "    </tr>\n",
       "  </tbody>\n",
       "</table>\n"
      ],
      "text/plain": [
       "<pandas.io.formats.style.Styler at 0x7f9db2fad9c0>"
      ]
     },
     "metadata": {},
     "output_type": "display_data"
    },
    {
     "name": "stderr",
     "output_type": "stream",
     "text": [
      "/tmp/ipykernel_73190/835943763.py:5: FutureWarning: this method is deprecated in favour of `Styler.hide(axis='index')`\n",
      "  display(stats_system2_df.round(round_digits).style.hide_index())\n"
     ]
    },
    {
     "data": {
      "text/html": [
       "<style type=\"text/css\">\n",
       "</style>\n",
       "<table id=\"T_e4d26\">\n",
       "  <thead>\n",
       "    <tr>\n",
       "      <th id=\"T_e4d26_level0_col0\" class=\"col_heading level0 col0\" >Statistic</th>\n",
       "      <th id=\"T_e4d26_level0_col1\" class=\"col_heading level0 col1\" >Mated</th>\n",
       "      <th id=\"T_e4d26_level0_col2\" class=\"col_heading level0 col2\" >Non-mated</th>\n",
       "    </tr>\n",
       "  </thead>\n",
       "  <tbody>\n",
       "    <tr>\n",
       "      <td id=\"T_e4d26_row0_col0\" class=\"data row0 col0\" >Observations</td>\n",
       "      <td id=\"T_e4d26_row0_col1\" class=\"data row0 col1\" >722.000000</td>\n",
       "      <td id=\"T_e4d26_row0_col2\" class=\"data row0 col2\" >8551688.000000</td>\n",
       "    </tr>\n",
       "    <tr>\n",
       "      <td id=\"T_e4d26_row1_col0\" class=\"data row1 col0\" >Minimum</td>\n",
       "      <td id=\"T_e4d26_row1_col1\" class=\"data row1 col1\" >-0.004130</td>\n",
       "      <td id=\"T_e4d26_row1_col2\" class=\"data row1 col2\" >-0.328600</td>\n",
       "    </tr>\n",
       "    <tr>\n",
       "      <td id=\"T_e4d26_row2_col0\" class=\"data row2 col0\" >Maximum</td>\n",
       "      <td id=\"T_e4d26_row2_col1\" class=\"data row2 col1\" >0.964100</td>\n",
       "      <td id=\"T_e4d26_row2_col2\" class=\"data row2 col2\" >0.803650</td>\n",
       "    </tr>\n",
       "    <tr>\n",
       "      <td id=\"T_e4d26_row3_col0\" class=\"data row3 col0\" >Mean</td>\n",
       "      <td id=\"T_e4d26_row3_col1\" class=\"data row3 col1\" >0.435790</td>\n",
       "      <td id=\"T_e4d26_row3_col2\" class=\"data row3 col2\" >0.204640</td>\n",
       "    </tr>\n",
       "    <tr>\n",
       "      <td id=\"T_e4d26_row4_col0\" class=\"data row4 col0\" >St. Dev.</td>\n",
       "      <td id=\"T_e4d26_row4_col1\" class=\"data row4 col1\" >0.153310</td>\n",
       "      <td id=\"T_e4d26_row4_col2\" class=\"data row4 col2\" >0.119020</td>\n",
       "    </tr>\n",
       "    <tr>\n",
       "      <td id=\"T_e4d26_row5_col0\" class=\"data row5 col0\" >Skewness</td>\n",
       "      <td id=\"T_e4d26_row5_col1\" class=\"data row5 col1\" >-0.007400</td>\n",
       "      <td id=\"T_e4d26_row5_col2\" class=\"data row5 col2\" >0.024610</td>\n",
       "    </tr>\n",
       "    <tr>\n",
       "      <td id=\"T_e4d26_row6_col0\" class=\"data row6 col0\" >Ex. Kurtosis</td>\n",
       "      <td id=\"T_e4d26_row6_col1\" class=\"data row6 col1\" >0.078870</td>\n",
       "      <td id=\"T_e4d26_row6_col2\" class=\"data row6 col2\" >-0.024610</td>\n",
       "    </tr>\n",
       "  </tbody>\n",
       "</table>\n"
      ],
      "text/plain": [
       "<pandas.io.formats.style.Styler at 0x7f9db3177f10>"
      ]
     },
     "metadata": {},
     "output_type": "display_data"
    }
   ],
   "source": [
    "stats_system1_df = descriptive_statistics(mated_scores1, nonmated_scores1)\n",
    "display(stats_system1_df.round(round_digits).style.hide_index())\n",
    "\n",
    "stats_system2_df = descriptive_statistics(mated_scores2, nonmated_scores2)\n",
    "display(stats_system2_df.round(round_digits).style.hide_index())"
   ]
  },
  {
   "cell_type": "code",
   "execution_count": 24,
   "metadata": {},
   "outputs": [
    {
     "data": {
      "image/png": "[encoded data removed]",
      "text/plain": [
       "<Figure size 1200x600 with 1 Axes>"
      ]
     },
     "metadata": {},
     "output_type": "display_data"
    },
    {
     "data": {
      "image/png": "[encoded data removed]",
      "text/plain": [
       "<Figure size 1200x600 with 1 Axes>"
      ]
     },
     "metadata": {},
     "output_type": "display_data"
    }
   ],
   "source": [
    "plot_histogram(mated_scores1, nonmated_scores1, normalise=True)\n",
    "plot_histogram(mated_scores2, nonmated_scores2, normalise=True)"
   ]
  },
  {
   "cell_type": "code",
   "execution_count": null,
   "metadata": {},
   "outputs": [],
   "source": [
    "mated_kde, mated_pos, mated_min, mated_max = get_kde(mated_scores1)\n",
    "nonmated_kde, nonmated_pos, nonmated_min, nonmated_max = get_kde(nonmated_scores1)\n",
    "plt.figure(figsize=figure_size)\n",
    "plt.plot(mated_pos, mated_kde(mated_pos), linewidth=linewidth, color=mated_colour, label=mated_label)\n",
    "plt.plot(nonmated_pos, nonmated_kde(nonmated_pos), linewidth=linewidth, color=nonmated_colour, label=nonmated_label)\n",
    "plt.xlabel(\"Score\", size=label_fontsize)\n",
    "plt.ylabel(\"Probability Density\", size=label_fontsize)\n",
    "plt.grid(True)\n",
    "plt.legend(loc=legend_loc, bbox_to_anchor=legend_anchor, ncol=legend_cols, fontsize=legend_fontsize)\n",
    "plt.show()"
   ]
  },
  {
   "cell_type": "code",
   "execution_count": null,
   "metadata": {},
   "outputs": [],
   "source": [
    "mated_kde, mated_pos, mated_min, mated_max = get_kde(mated_scores2)\n",
    "nonmated_kde, nonmated_pos, nonmated_min, nonmated_max = get_kde(nonmated_scores2)\n",
    "plt.figure(figsize=figure_size)\n",
    "plt.plot(mated_pos, mated_kde(mated_pos), linewidth=linewidth, color=mated_colour, label=mated_label)\n",
    "plt.plot(nonmated_pos, nonmated_kde(nonmated_pos), linewidth=linewidth, color=nonmated_colour, label=nonmated_label)\n",
    "plt.xlabel(\"Score\", size=label_fontsize)\n",
    "plt.ylabel(\"Probability Density\", size=label_fontsize)\n",
    "plt.grid(True)\n",
    "plt.legend(loc=legend_loc, bbox_to_anchor=legend_anchor, ncol=legend_cols, fontsize=legend_fontsize)\n",
    "plt.show()"
   ]
  },
  {
   "cell_type": "code",
   "execution_count": null,
   "metadata": {},
   "outputs": [],
   "source": [
    "d_prime_system1 = d_prime(mated_scores1, nonmated_scores1)\n",
    "print(\"d' child =\", round(d_prime_system1, round_digits))\n",
    "\n",
    "d_prime_system2 = d_prime(mated_scores2, nonmated_scores2)\n",
    "print(\"d' adult =\", round(d_prime_system2, round_digits))"
   ]
  },
  {
   "cell_type": "code",
   "execution_count": null,
   "metadata": {},
   "outputs": [],
   "source": [
    "threshold1 = 0.36\n",
    "kde_with_threshold(mated_scores1, nonmated_scores1, scores_type1, threshold1)"
   ]
  },
  {
   "cell_type": "code",
   "execution_count": null,
   "metadata": {},
   "outputs": [],
   "source": [
    "threshold2 = 0.32\n",
    "kde_with_threshold(mated_scores2, nonmated_scores2, scores_type2, threshold2)"
   ]
  },
  {
   "cell_type": "code",
   "execution_count": null,
   "metadata": {},
   "outputs": [],
   "source": [
    "style_confusion_matrix(get_confusion_matrix(mated_scores1, nonmated_scores1, scores_type1, threshold1, mode=\"count\"))"
   ]
  },
  {
   "cell_type": "code",
   "execution_count": null,
   "metadata": {},
   "outputs": [],
   "source": [
    "det = DET(biometric_evaluation_type='identification', abbreviate_axes=True, plot_eer_line=True, plot_title=\"Children vs adults\")\n",
    "det.x_limits = np.array([1e-4, .5])\n",
    "det.y_limits = np.array([1e-4, .5])\n",
    "det.x_ticks = np.array([1e-3, 1e-2, 5e-2, 20e-2, 40e-2])\n",
    "det.x_ticklabels = np.array(['0.1', '1', '5', '20', '40'])\n",
    "det.y_ticks = np.array([1e-3, 1e-2, 5e-2, 20e-2, 40e-2])\n",
    "det.y_ticklabels = np.array(['0.1', '1', '5', '20', '40'])\n",
    "det.create_figure()\n",
    "det.plot(tar=adjust_scores_for_DET(mated_scores1, scores_type1), non=adjust_scores_for_DET(nonmated_scores1, scores_type1), label=system_name1)\n",
    "det.plot(tar=adjust_scores_for_DET(mated_scores2, scores_type2), non=adjust_scores_for_DET(nonmated_scores2, scores_type2), label=system_name2)\n",
    "det.legend_on(loc=\"upper right\")\n",
    "det.show()"
   ]
  }
 ],
 "metadata": {
  "kernelspec": {
   "display_name": "Katrine_MLOps_env",
   "language": "python",
   "name": "python3"
  },
  "language_info": {
   "codemirror_mode": {
    "name": "ipython",
    "version": 3
   },
   "file_extension": ".py",
   "mimetype": "text/x-python",
   "name": "python",
   "nbconvert_exporter": "python",
   "pygments_lexer": "ipython3",
   "version": "3.10.6"
  }
 },
 "nbformat": 4,
 "nbformat_minor": 2
}
