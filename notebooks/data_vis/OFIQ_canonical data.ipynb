{
 "cells": [
  {
   "cell_type": "code",
   "execution_count": 3,
   "metadata": {},
   "outputs": [],
   "source": [
    "import pandas as pd\n",
    "import matplotlib.pyplot as plt\n",
    "import seaborn as sns\n"
   ]
  },
  {
   "cell_type": "markdown",
   "metadata": {},
   "source": [
    "# Create canonical children data "
   ]
  },
  {
   "cell_type": "code",
   "execution_count": 6,
   "metadata": {},
   "outputs": [],
   "source": [
    "data_path = '../../data/OFIQ_results/OFIQ_children_all.csv'\n",
    "df = pd.read_csv(data_path, sep=';')\n",
    "\n",
    "df.drop_duplicates(subset=['UnifiedQualityScore','BackgroundUniformity','IlluminationUniformity','LuminanceMean'], inplace=True)\n",
    "df['Filename'] = df['Filename'].apply(lambda x: x.split('/')[-1])\n",
    "\n",
    "# the 50th percentile of UnifiedQualityScore\n",
    "top_50_percentile = df['UnifiedQualityScore.scalar'].quantile(0.5)\n",
    "\n",
    "# split the df into canonical containing the top 50 rows\n",
    "canonical = df[df['UnifiedQualityScore.scalar'] > top_50_percentile]\n",
    "\n",
    "canonical.to_csv('../../data/OFIQ_results/canonical_children_final.csv', sep=';', index=False)\n"
   ]
  },
  {
   "cell_type": "code",
   "execution_count": null,
   "metadata": {},
   "outputs": [],
   "source": []
  }
 ],
 "metadata": {
  "kernelspec": {
   "display_name": "Katrine_MLOps_env",
   "language": "python",
   "name": "python3"
  },
  "language_info": {
   "codemirror_mode": {
    "name": "ipython",
    "version": 3
   },
   "file_extension": ".py",
   "mimetype": "text/x-python",
   "name": "python",
   "nbconvert_exporter": "python",
   "pygments_lexer": "ipython3",
   "version": "3.11.8"
  }
 },
 "nbformat": 4,
 "nbformat_minor": 2
}
