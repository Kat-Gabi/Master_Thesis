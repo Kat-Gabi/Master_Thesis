{
 "cells": [
  {
   "cell_type": "markdown",
   "metadata": {},
   "source": [
    "## Data loading - YLFW Benchmark\n",
    "Source: https://github.com/JessyFrish/YLFW_Links?tab=readme-ov-file\n",
    "\n",
    "Make suitable for ArcFace and MagFace (112x112) and FaceNet (160x160)"
   ]
  },
  {
   "cell_type": "markdown",
   "metadata": {},
   "source": [
    "### Data folder structure and metadata\n"
   ]
  },
  {
   "cell_type": "code",
   "execution_count": 1,
   "metadata": {},
   "outputs": [],
   "source": [
    "# Load packages\n",
    "\n",
    "# Common\n",
    "import pandas as pd\n",
    "import numpy as np\n",
    "import os\n",
    "import cv2 as cv\n",
    "from IPython.display import clear_output as cls\n",
    "import json\n",
    "\n",
    "# Data\n",
    "from glob import glob\n",
    "\n",
    "# Data Visuaalization\n",
    "import matplotlib.pyplot as plt\n",
    "import seaborn as sns\n",
    "sns.set()\n",
    "\n",
    "# Model\n"
   ]
  },
  {
   "cell_type": "markdown",
   "metadata": {},
   "source": [
    "### Descriptive analysis of data"
   ]
  },
  {
   "cell_type": "markdown",
   "metadata": {},
   "source": [
    "#### Data concatenation"
   ]
  },
  {
   "cell_type": "code",
   "execution_count": 2,
   "metadata": {},
   "outputs": [
    {
     "data": {
      "text/html": [
       "<div>\n",
       "<style scoped>\n",
       "    .dataframe tbody tr th:only-of-type {\n",
       "        vertical-align: middle;\n",
       "    }\n",
       "\n",
       "    .dataframe tbody tr th {\n",
       "        vertical-align: top;\n",
       "    }\n",
       "\n",
       "    .dataframe thead th {\n",
       "        text-align: right;\n",
       "    }\n",
       "</style>\n",
       "<table border=\"1\" class=\"dataframe\">\n",
       "  <thead>\n",
       "    <tr style=\"text-align: right;\">\n",
       "      <th></th>\n",
       "      <th>img_name</th>\n",
       "      <th>ethnicity</th>\n",
       "    </tr>\n",
       "  </thead>\n",
       "  <tbody>\n",
       "    <tr>\n",
       "      <th>0</th>\n",
       "      <td>African_0_0</td>\n",
       "      <td>African</td>\n",
       "    </tr>\n",
       "    <tr>\n",
       "      <th>1</th>\n",
       "      <td>African_0_1</td>\n",
       "      <td>African</td>\n",
       "    </tr>\n",
       "    <tr>\n",
       "      <th>2</th>\n",
       "      <td>African_1_11</td>\n",
       "      <td>African</td>\n",
       "    </tr>\n",
       "    <tr>\n",
       "      <th>3</th>\n",
       "      <td>African_1_4</td>\n",
       "      <td>African</td>\n",
       "    </tr>\n",
       "    <tr>\n",
       "      <th>4</th>\n",
       "      <td>Asian_14_12</td>\n",
       "      <td>Asian</td>\n",
       "    </tr>\n",
       "  </tbody>\n",
       "</table>\n",
       "</div>"
      ],
      "text/plain": [
       "       img_name ethnicity\n",
       "0   African_0_0   African\n",
       "1   African_0_1   African\n",
       "2  African_1_11   African\n",
       "3   African_1_4   African\n",
       "4   Asian_14_12     Asian"
      ]
     },
     "execution_count": 2,
     "metadata": {},
     "output_type": "execute_result"
    }
   ],
   "source": [
    "## Create dataframe\n",
    "\n",
    "# Define the path to the raw data directory\n",
    "raw_data_path = '../data/raw/'\n",
    "\n",
    "# Initialize lists to store image characteristics\n",
    "img_names = []\n",
    "ethnicities = []\n",
    "genders = []\n",
    "ages = []\n",
    "\n",
    "# Iterate through the directories of each ethnicity (e.g., 'Asian')\n",
    "ethnicities_list = os.listdir(raw_data_path + 'YLFW_bench/data_p2')\n",
    "for ethnicity in ethnicities_list:\n",
    "    ethnicity_col = ethnicity.split('_')[0]\n",
    "    ethnicity_dir = os.path.join(raw_data_path + 'YLFW_bench/data_p2', ethnicity)\n",
    "    if os.path.isdir(ethnicity_dir):\n",
    "        # Iterate through image files in the ethnicity directory\n",
    "        for img_name in os.listdir(ethnicity_dir):\n",
    "            # Append image characteristics to lists\n",
    "            img_names.append(img_name[:-4])\n",
    "            ethnicities.append(ethnicity_col)\n",
    "\n",
    "\n",
    "# Create a DataFrame from the lists\n",
    "data = {'img_name': img_names, 'ethnicity': ethnicities}\n",
    "df = pd.DataFrame(data)\n",
    "\n",
    "# Display the DataFrame\n",
    "df.head()\n"
   ]
  },
  {
   "cell_type": "code",
   "execution_count": 3,
   "metadata": {},
   "outputs": [
    {
     "data": {
      "text/html": [
       "<div>\n",
       "<style scoped>\n",
       "    .dataframe tbody tr th:only-of-type {\n",
       "        vertical-align: middle;\n",
       "    }\n",
       "\n",
       "    .dataframe tbody tr th {\n",
       "        vertical-align: top;\n",
       "    }\n",
       "\n",
       "    .dataframe thead th {\n",
       "        text-align: right;\n",
       "    }\n",
       "</style>\n",
       "<table border=\"1\" class=\"dataframe\">\n",
       "  <thead>\n",
       "    <tr style=\"text-align: right;\">\n",
       "      <th></th>\n",
       "      <th>img_name</th>\n",
       "      <th>Age</th>\n",
       "    </tr>\n",
       "  </thead>\n",
       "  <tbody>\n",
       "    <tr>\n",
       "      <th>0</th>\n",
       "      <td>Caucasian_1008_18</td>\n",
       "      <td>8.0</td>\n",
       "    </tr>\n",
       "    <tr>\n",
       "      <th>1</th>\n",
       "      <td>Asian_225_72</td>\n",
       "      <td>11.0</td>\n",
       "    </tr>\n",
       "    <tr>\n",
       "      <th>2</th>\n",
       "      <td>Asian_238_1</td>\n",
       "      <td>3.0</td>\n",
       "    </tr>\n",
       "    <tr>\n",
       "      <th>3</th>\n",
       "      <td>Caucasian_1110_17</td>\n",
       "      <td>4.0</td>\n",
       "    </tr>\n",
       "    <tr>\n",
       "      <th>4</th>\n",
       "      <td>Caucasian_364_12</td>\n",
       "      <td>2.0</td>\n",
       "    </tr>\n",
       "  </tbody>\n",
       "</table>\n",
       "</div>"
      ],
      "text/plain": [
       "            img_name   Age\n",
       "0  Caucasian_1008_18   8.0\n",
       "1       Asian_225_72  11.0\n",
       "2        Asian_238_1   3.0\n",
       "3  Caucasian_1110_17   4.0\n",
       "4   Caucasian_364_12   2.0"
      ]
     },
     "execution_count": 3,
     "metadata": {},
     "output_type": "execute_result"
    }
   ],
   "source": [
    "# Read the JSON file into a JSON variable\n",
    "with open('../data/raw/age_estimation/output_data_precroped_all_age.json', 'r') as file:\n",
    "    json_data = json.load(file)\n",
    "\n",
    "# Convert the JSON data to a DataFrame\n",
    "age_df = pd.DataFrame.from_dict(json_data, orient='index', columns=['Age'])\n",
    "# Convert the 'Age' column to numeric\n",
    "age_df['Age'] = pd.to_numeric(age_df['Age'])\n",
    "age_df.reset_index(inplace=True)\n",
    "age_df.columns = ['img_name', 'Age']\n",
    "\n",
    "age_df.head()\n"
   ]
  },
  {
   "cell_type": "code",
   "execution_count": 4,
   "metadata": {},
   "outputs": [
    {
     "data": {
      "text/html": [
       "<div>\n",
       "<style scoped>\n",
       "    .dataframe tbody tr th:only-of-type {\n",
       "        vertical-align: middle;\n",
       "    }\n",
       "\n",
       "    .dataframe tbody tr th {\n",
       "        vertical-align: top;\n",
       "    }\n",
       "\n",
       "    .dataframe thead th {\n",
       "        text-align: right;\n",
       "    }\n",
       "</style>\n",
       "<table border=\"1\" class=\"dataframe\">\n",
       "  <thead>\n",
       "    <tr style=\"text-align: right;\">\n",
       "      <th></th>\n",
       "      <th>img_name</th>\n",
       "      <th>Age</th>\n",
       "      <th>ethnicity</th>\n",
       "    </tr>\n",
       "  </thead>\n",
       "  <tbody>\n",
       "    <tr>\n",
       "      <th>0</th>\n",
       "      <td>Caucasian_604_4</td>\n",
       "      <td>1.0</td>\n",
       "      <td>Caucasian</td>\n",
       "    </tr>\n",
       "    <tr>\n",
       "      <th>1</th>\n",
       "      <td>Asian_386_43</td>\n",
       "      <td>9.0</td>\n",
       "      <td>Asian</td>\n",
       "    </tr>\n",
       "    <tr>\n",
       "      <th>2</th>\n",
       "      <td>Indian_98_12</td>\n",
       "      <td>4.0</td>\n",
       "      <td>Indian</td>\n",
       "    </tr>\n",
       "    <tr>\n",
       "      <th>3</th>\n",
       "      <td>Asian_386_2</td>\n",
       "      <td>9.0</td>\n",
       "      <td>Asian</td>\n",
       "    </tr>\n",
       "    <tr>\n",
       "      <th>4</th>\n",
       "      <td>Caucasian_204_1</td>\n",
       "      <td>1.0</td>\n",
       "      <td>Caucasian</td>\n",
       "    </tr>\n",
       "  </tbody>\n",
       "</table>\n",
       "</div>"
      ],
      "text/plain": [
       "          img_name  Age  ethnicity\n",
       "0  Caucasian_604_4  1.0  Caucasian\n",
       "1     Asian_386_43  9.0      Asian\n",
       "2     Indian_98_12  4.0     Indian\n",
       "3      Asian_386_2  9.0      Asian\n",
       "4  Caucasian_204_1  1.0  Caucasian"
      ]
     },
     "execution_count": 4,
     "metadata": {},
     "output_type": "execute_result"
    }
   ],
   "source": [
    "# Concatenate dataframes\n",
    "final_df = pd.merge(age_df, df, on='img_name', how='inner')\n",
    "final_df.head()"
   ]
  },
  {
   "cell_type": "code",
   "execution_count": 9,
   "metadata": {},
   "outputs": [
    {
     "name": "stdout",
     "output_type": "stream",
     "text": [
      "<class 'pandas.core.frame.DataFrame'>\n",
      "Int64Index: 34 entries, 0 to 33\n",
      "Data columns (total 3 columns):\n",
      " #   Column     Non-Null Count  Dtype  \n",
      "---  ------     --------------  -----  \n",
      " 0   img_name   34 non-null     object \n",
      " 1   Age        34 non-null     float64\n",
      " 2   ethnicity  34 non-null     object \n",
      "dtypes: float64(1), object(2)\n",
      "memory usage: 1.1+ KB\n",
      "             Age\n",
      "count  34.000000\n",
      "mean    5.558824\n",
      "std     4.300748\n",
      "min     0.000000\n",
      "25%     2.250000\n",
      "50%     4.000000\n",
      "75%     8.750000\n",
      "max    18.000000 None img_name          Age   ethnicity\n",
      "African_0_0       7.0   African      1\n",
      "Caucasian_386_9   2.0   Caucasian    1\n",
      "Caucasian_204_27  5.0   Caucasian    1\n",
      "Caucasian_204_47  4.0   Caucasian    1\n",
      "Caucasian_204_63  5.0   Caucasian    1\n",
      "Caucasian_386_12  4.0   Caucasian    1\n",
      "Caucasian_386_3   2.0   Caucasian    1\n",
      "Caucasian_386_6   4.0   Caucasian    1\n",
      "Caucasian_604_15  1.0   Caucasian    1\n",
      "African_0_1       18.0  African      1\n",
      "Caucasian_604_20  0.0   Caucasian    1\n",
      "Caucasian_604_4   1.0   Caucasian    1\n",
      "Indian_224_0      14.0  Indian       1\n",
      "Indian_80_0       6.0   Indian       1\n",
      "Indian_80_1       5.0   Indian       1\n",
      "Indian_98_12      4.0   Indian       1\n",
      "Caucasian_204_25  1.0   Caucasian    1\n",
      "Caucasian_204_1   1.0   Caucasian    1\n",
      "Asian_386_43      9.0   Asian        1\n",
      "Asian_386_42      10.0  Asian        1\n",
      "Asian_386_40      9.0   Asian        1\n",
      "Asian_386_38      13.0  Asian        1\n",
      "Asian_386_30      10.0  Asian        1\n",
      "Asian_386_3       12.0  Asian        1\n",
      "Asian_386_27      8.0   Asian        1\n",
      "Asian_386_2       9.0   Asian        1\n",
      "Asian_14_84       2.0   Asian        1\n",
      "Asian_14_6        3.0   Asian        1\n",
      "Asian_14_33       3.0   Asian        1\n",
      "Asian_14_19       4.0   Asian        1\n",
      "Asian_14_12       3.0   Asian        1\n",
      "African_1_4       2.0   African      1\n",
      "African_1_11      5.0   African      1\n",
      "Indian_98_7       3.0   Indian       1\n",
      "dtype: int64\n"
     ]
    }
   ],
   "source": [
    "print(final_df.describe(), final_df.info(), final_df.value_counts())"
   ]
  },
  {
   "cell_type": "markdown",
   "metadata": {},
   "source": [
    "#### Data distributions\n",
    "(Evt efter age groups)"
   ]
  },
  {
   "cell_type": "code",
   "execution_count": 65,
   "metadata": {},
   "outputs": [
    {
     "data": {
      "image/png": "[encoded data removed]",
      "text/plain": [
       "<Figure size 640x480 with 1 Axes>"
      ]
     },
     "metadata": {},
     "output_type": "display_data"
    }
   ],
   "source": [
    "# Define bin edges for each group of 3 years\n",
    "bin_edges = [0, 3, 6, 9, 12, 15, 18]\n",
    "plt.hist(final_df['Age'], bins=bin_edges, color='skyblue')\n",
    "plt.xticks(bin_edges)\n",
    "plt.xlabel('Age groups')\n",
    "plt.ylabel('Frequency')\n",
    "plt.title('Age Distribution')\n",
    "plt.show()\n"
   ]
  },
  {
   "cell_type": "code",
   "execution_count": 16,
   "metadata": {},
   "outputs": [
    {
     "data": {
      "image/png": "[encoded data removed]",
      "text/plain": [
       "<Figure size 640x480 with 1 Axes>"
      ]
     },
     "metadata": {},
     "output_type": "display_data"
    }
   ],
   "source": [
    "# Define bin edges for each group of 3 years\n",
    "plt.hist(final_df['ethnicity'], bins=4, color='skyblue')\n",
    "plt.xticks(final_df['ethnicity'])\n",
    "plt.xlabel('Ethnicity')\n",
    "plt.ylabel('Frequency')\n",
    "plt.title('Ethnicity composition')\n",
    "plt.show()\n"
   ]
  },
  {
   "cell_type": "code",
   "execution_count": null,
   "metadata": {},
   "outputs": [],
   "source": []
  }
 ],
 "metadata": {
  "kernelspec": {
   "display_name": "best_master",
   "language": "python",
   "name": "python3"
  },
  "language_info": {
   "codemirror_mode": {
    "name": "ipython",
    "version": 3
   },
   "file_extension": ".py",
   "mimetype": "text/x-python",
   "name": "python",
   "nbconvert_exporter": "python",
   "pygments_lexer": "ipython3",
   "version": "3.10.6"
  }
 },
 "nbformat": 4,
 "nbformat_minor": 2
}
