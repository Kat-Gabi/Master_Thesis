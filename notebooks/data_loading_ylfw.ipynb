{
 "cells": [
  {
   "cell_type": "markdown",
   "metadata": {},
   "source": [
    "## Data loading - YLFW Benchmark\n",
    "Source: https://github.com/JessyFrish/YLFW_Links?tab=readme-ov-file\n",
    "\n",
    "Make suitable for ArcFace and MagFace (112x112) and FaceNet (160x160)"
   ]
  },
  {
   "cell_type": "markdown",
   "metadata": {},
   "source": [
    "### Data folder structure and metadata\n"
   ]
  },
  {
   "cell_type": "code",
   "execution_count": 55,
   "metadata": {},
   "outputs": [],
   "source": [
    "# Load packages\n",
    "\n",
    "# Common\n",
    "import pandas as pd\n",
    "import numpy as np\n",
    "import os\n",
    "import cv2 as cv\n",
    "from IPython.display import clear_output as cls\n",
    "import json\n",
    "\n",
    "# Data\n",
    "from glob import glob\n",
    "\n",
    "# Data Visuaalization\n",
    "import matplotlib.pyplot as plt\n",
    "import seaborn as sns\n",
    "sns.set()\n"
   ]
  },
  {
   "cell_type": "markdown",
   "metadata": {},
   "source": [
    "### Descriptive analysis of data"
   ]
  },
  {
   "cell_type": "markdown",
   "metadata": {},
   "source": [
    "#### Data concatenation"
   ]
  },
  {
   "cell_type": "code",
   "execution_count": 56,
   "metadata": {},
   "outputs": [
    {
     "name": "stdout",
     "output_type": "stream",
     "text": [
      "len of df 9810\n",
      "\n",
      "isna? img_name     0\n",
      "ethnicity    0\n",
      "id_class     0\n",
      "dtype: int64\n"
     ]
    },
    {
     "data": {
      "text/html": [
       "<div>\n",
       "<style scoped>\n",
       "    .dataframe tbody tr th:only-of-type {\n",
       "        vertical-align: middle;\n",
       "    }\n",
       "\n",
       "    .dataframe tbody tr th {\n",
       "        vertical-align: top;\n",
       "    }\n",
       "\n",
       "    .dataframe thead th {\n",
       "        text-align: right;\n",
       "    }\n",
       "</style>\n",
       "<table border=\"1\" class=\"dataframe\">\n",
       "  <thead>\n",
       "    <tr style=\"text-align: right;\">\n",
       "      <th></th>\n",
       "      <th>img_name</th>\n",
       "      <th>ethnicity</th>\n",
       "      <th>id_class</th>\n",
       "    </tr>\n",
       "  </thead>\n",
       "  <tbody>\n",
       "    <tr>\n",
       "      <th>0</th>\n",
       "      <td>African_754_1</td>\n",
       "      <td>African</td>\n",
       "      <td>754</td>\n",
       "    </tr>\n",
       "    <tr>\n",
       "      <th>1</th>\n",
       "      <td>African_566_0</td>\n",
       "      <td>African</td>\n",
       "      <td>566</td>\n",
       "    </tr>\n",
       "    <tr>\n",
       "      <th>2</th>\n",
       "      <td>Caucasian_1390_10</td>\n",
       "      <td>Caucasian</td>\n",
       "      <td>1390</td>\n",
       "    </tr>\n",
       "    <tr>\n",
       "      <th>3</th>\n",
       "      <td>Caucasian_1390_3</td>\n",
       "      <td>Caucasian</td>\n",
       "      <td>1390</td>\n",
       "    </tr>\n",
       "    <tr>\n",
       "      <th>4</th>\n",
       "      <td>African_102_0</td>\n",
       "      <td>African</td>\n",
       "      <td>102</td>\n",
       "    </tr>\n",
       "  </tbody>\n",
       "</table>\n",
       "</div>"
      ],
      "text/plain": [
       "            img_name  ethnicity  id_class\n",
       "0      African_754_1    African       754\n",
       "1      African_566_0    African       566\n",
       "2  Caucasian_1390_10  Caucasian      1390\n",
       "3   Caucasian_1390_3  Caucasian      1390\n",
       "4      African_102_0    African       102"
      ]
     },
     "execution_count": 56,
     "metadata": {},
     "output_type": "execute_result"
    }
   ],
   "source": [
    "## Create dataframe\n",
    "\n",
    "# Define the path to the raw data directory\n",
    "raw_data_path = '../data/raw_full/'\n",
    "\n",
    "# Initialize lists to store image characteristics\n",
    "img_names = []\n",
    "id_class = []\n",
    "ethnicities = []\n",
    "\n",
    "# Iterate through the directories of each ethnicity (e.g., 'Asian')\n",
    "ethnicities_list = os.listdir(raw_data_path + 'YLFW') \n",
    "#To ensure DS Store is not included. DELETE files with '.'\n",
    "ethnicities_list = [x for x in ethnicities_list if not x.startswith(\".\")]\n",
    "\n",
    "for ethnicity in ethnicities_list:\n",
    "    ethnicity_col = ethnicity.split('_')[0]\n",
    "    id = int(ethnicity.split('_')[1:][0])\n",
    "    ethnicity_dir = os.path.join(raw_data_path + 'YLFW', ethnicity)\n",
    "    if os.path.isdir(ethnicity_dir):\n",
    "        # Iterate through image files in the ethnicity directory\n",
    "        for img_name in os.listdir(ethnicity_dir):\n",
    "            # Append image characteristics to lists\n",
    "            img_name = img_name.split('.')[0]\n",
    "            img_names.append(img_name)\n",
    "            ethnicities.append(ethnicity_col)\n",
    "            id_class.append(id)\n",
    "\n",
    "\n",
    "# Create a DataFrame from the lists\n",
    "data = {'img_name': img_names, 'ethnicity': ethnicities, 'id_class': id_class} \n",
    "df = pd.DataFrame(data)\n",
    "\n",
    "# Display the DataFrame\n",
    "print(\"len of df\", len(df))\n",
    "print(\"\\nisna?\", df.isna().sum())  \n",
    "df.head()\n"
   ]
  },
  {
   "cell_type": "code",
   "execution_count": 57,
   "metadata": {},
   "outputs": [
    {
     "name": "stdout",
     "output_type": "stream",
     "text": [
      "len of age df 9810\n",
      "isna img_name      0\n",
      "Age         581\n",
      "dtype: int64\n"
     ]
    },
    {
     "data": {
      "text/html": [
       "<div>\n",
       "<style scoped>\n",
       "    .dataframe tbody tr th:only-of-type {\n",
       "        vertical-align: middle;\n",
       "    }\n",
       "\n",
       "    .dataframe tbody tr th {\n",
       "        vertical-align: top;\n",
       "    }\n",
       "\n",
       "    .dataframe thead th {\n",
       "        text-align: right;\n",
       "    }\n",
       "</style>\n",
       "<table border=\"1\" class=\"dataframe\">\n",
       "  <thead>\n",
       "    <tr style=\"text-align: right;\">\n",
       "      <th></th>\n",
       "      <th>img_name</th>\n",
       "      <th>Age</th>\n",
       "    </tr>\n",
       "  </thead>\n",
       "  <tbody>\n",
       "    <tr>\n",
       "      <th>0</th>\n",
       "      <td>Caucasian_1008_18</td>\n",
       "      <td>8.0</td>\n",
       "    </tr>\n",
       "    <tr>\n",
       "      <th>1</th>\n",
       "      <td>Asian_225_72</td>\n",
       "      <td>11.0</td>\n",
       "    </tr>\n",
       "    <tr>\n",
       "      <th>2</th>\n",
       "      <td>Asian_238_1</td>\n",
       "      <td>3.0</td>\n",
       "    </tr>\n",
       "    <tr>\n",
       "      <th>3</th>\n",
       "      <td>Caucasian_1110_17</td>\n",
       "      <td>4.0</td>\n",
       "    </tr>\n",
       "    <tr>\n",
       "      <th>4</th>\n",
       "      <td>Caucasian_364_12</td>\n",
       "      <td>2.0</td>\n",
       "    </tr>\n",
       "  </tbody>\n",
       "</table>\n",
       "</div>"
      ],
      "text/plain": [
       "            img_name   Age\n",
       "0  Caucasian_1008_18   8.0\n",
       "1       Asian_225_72  11.0\n",
       "2        Asian_238_1   3.0\n",
       "3  Caucasian_1110_17   4.0\n",
       "4   Caucasian_364_12   2.0"
      ]
     },
     "execution_count": 57,
     "metadata": {},
     "output_type": "execute_result"
    }
   ],
   "source": [
    "# Read the JSON file into a JSON variable\n",
    "with open('../data/raw/age_estimation/output_data_precroped_all_age.json', 'r') as file:\n",
    "    json_data = json.load(file)\n",
    "\n",
    "# Convert the JSON data to a DataFrame\n",
    "age_df = pd.DataFrame.from_dict(json_data, orient='index', columns=['Age'])\n",
    "# Convert the 'Age' column to numeric\n",
    "age_df['Age'] = pd.to_numeric(age_df['Age'])\n",
    "age_df.reset_index(inplace=True)\n",
    "age_df.columns = ['img_name', 'Age']\n",
    "\n",
    "print(\"len of age df\",len(age_df))\n",
    "print(\"isna\", age_df.isna().sum())\n",
    "age_df.head()\n"
   ]
  },
  {
   "cell_type": "code",
   "execution_count": 58,
   "metadata": {},
   "outputs": [
    {
     "name": "stdout",
     "output_type": "stream",
     "text": [
      "len of final df 9810\n",
      "isna? img_name       0\n",
      "Age          581\n",
      "ethnicity      0\n",
      "id_class       0\n",
      "dtype: int64\n"
     ]
    },
    {
     "data": {
      "text/html": [
       "<div>\n",
       "<style scoped>\n",
       "    .dataframe tbody tr th:only-of-type {\n",
       "        vertical-align: middle;\n",
       "    }\n",
       "\n",
       "    .dataframe tbody tr th {\n",
       "        vertical-align: top;\n",
       "    }\n",
       "\n",
       "    .dataframe thead th {\n",
       "        text-align: right;\n",
       "    }\n",
       "</style>\n",
       "<table border=\"1\" class=\"dataframe\">\n",
       "  <thead>\n",
       "    <tr style=\"text-align: right;\">\n",
       "      <th></th>\n",
       "      <th>img_name</th>\n",
       "      <th>Age</th>\n",
       "      <th>ethnicity</th>\n",
       "      <th>id_class</th>\n",
       "    </tr>\n",
       "  </thead>\n",
       "  <tbody>\n",
       "    <tr>\n",
       "      <th>0</th>\n",
       "      <td>Caucasian_1008_18</td>\n",
       "      <td>8.0</td>\n",
       "      <td>Caucasian</td>\n",
       "      <td>1008</td>\n",
       "    </tr>\n",
       "    <tr>\n",
       "      <th>1</th>\n",
       "      <td>Asian_225_72</td>\n",
       "      <td>11.0</td>\n",
       "      <td>Asian</td>\n",
       "      <td>225</td>\n",
       "    </tr>\n",
       "    <tr>\n",
       "      <th>2</th>\n",
       "      <td>Asian_238_1</td>\n",
       "      <td>3.0</td>\n",
       "      <td>Asian</td>\n",
       "      <td>238</td>\n",
       "    </tr>\n",
       "    <tr>\n",
       "      <th>3</th>\n",
       "      <td>Caucasian_1110_17</td>\n",
       "      <td>4.0</td>\n",
       "      <td>Caucasian</td>\n",
       "      <td>1110</td>\n",
       "    </tr>\n",
       "    <tr>\n",
       "      <th>4</th>\n",
       "      <td>Caucasian_364_12</td>\n",
       "      <td>2.0</td>\n",
       "      <td>Caucasian</td>\n",
       "      <td>364</td>\n",
       "    </tr>\n",
       "  </tbody>\n",
       "</table>\n",
       "</div>"
      ],
      "text/plain": [
       "            img_name   Age  ethnicity  id_class\n",
       "0  Caucasian_1008_18   8.0  Caucasian      1008\n",
       "1       Asian_225_72  11.0      Asian       225\n",
       "2        Asian_238_1   3.0      Asian       238\n",
       "3  Caucasian_1110_17   4.0  Caucasian      1110\n",
       "4   Caucasian_364_12   2.0  Caucasian       364"
      ]
     },
     "execution_count": 58,
     "metadata": {},
     "output_type": "execute_result"
    }
   ],
   "source": [
    "# Concatenate dataframes\n",
    "final_df = pd.merge(age_df, df, on='img_name', how='inner')\n",
    "print(\"len of final df\",len(final_df))\n",
    "print(\"isna?\",final_df.isna().sum())\n",
    "final_df.head()"
   ]
  },
  {
   "cell_type": "code",
   "execution_count": 60,
   "metadata": {},
   "outputs": [
    {
     "data": {
      "text/plain": [
       "0"
      ]
     },
     "execution_count": 60,
     "metadata": {},
     "output_type": "execute_result"
    }
   ],
   "source": [
    "#duplicates?\n",
    "final_df[\"img_name\"].duplicated().sum()"
   ]
  },
  {
   "cell_type": "code",
   "execution_count": 61,
   "metadata": {},
   "outputs": [
    {
     "data": {
      "text/plain": [
       "0"
      ]
     },
     "execution_count": 61,
     "metadata": {},
     "output_type": "execute_result"
    }
   ],
   "source": [
    "final_df.duplicated().sum()"
   ]
  },
  {
   "cell_type": "code",
   "execution_count": 62,
   "metadata": {},
   "outputs": [
    {
     "data": {
      "text/plain": [
       "img_name      0\n",
       "Age         581\n",
       "dtype: int64"
      ]
     },
     "execution_count": 62,
     "metadata": {},
     "output_type": "execute_result"
    }
   ],
   "source": [
    "age_df.isna().sum()"
   ]
  },
  {
   "cell_type": "code",
   "execution_count": 63,
   "metadata": {},
   "outputs": [],
   "source": [
    "isna_age = final_df[final_df.Age.isna()]"
   ]
  },
  {
   "cell_type": "markdown",
   "metadata": {},
   "source": [
    "Relatively balanced with Caucasian being the most represented - We remove"
   ]
  },
  {
   "cell_type": "code",
   "execution_count": 64,
   "metadata": {},
   "outputs": [
    {
     "data": {
      "text/plain": [
       "ethnicity\n",
       "Caucasian    0.376936\n",
       "African      0.237522\n",
       "Asian        0.234079\n",
       "Indian       0.151463\n",
       "Name: proportion, dtype: float64"
      ]
     },
     "execution_count": 64,
     "metadata": {},
     "output_type": "execute_result"
    }
   ],
   "source": [
    "isna_age.ethnicity.value_counts(normalize=True)"
   ]
  },
  {
   "cell_type": "code",
   "execution_count": 65,
   "metadata": {},
   "outputs": [
    {
     "data": {
      "text/plain": [
       "ethnicity\n",
       "Caucasian    0.285525\n",
       "Asian        0.268705\n",
       "African      0.234251\n",
       "Indian       0.211519\n",
       "Name: proportion, dtype: float64"
      ]
     },
     "execution_count": 65,
     "metadata": {},
     "output_type": "execute_result"
    }
   ],
   "source": [
    "final_df.ethnicity.value_counts(normalize=True)"
   ]
  },
  {
   "cell_type": "code",
   "execution_count": 66,
   "metadata": {},
   "outputs": [
    {
     "name": "stdout",
     "output_type": "stream",
     "text": [
      "len of final df 9229\n"
     ]
    }
   ],
   "source": [
    "# Remove NaN values\n",
    "final_df.dropna(inplace=True)\n",
    "print(\"len of final df\",len(final_df))"
   ]
  },
  {
   "cell_type": "code",
   "execution_count": 67,
   "metadata": {},
   "outputs": [],
   "source": [
    "# Ensure 'Age' is of type integer\n",
    "final_df['Age'] = final_df['Age'].astype(int)\n",
    "\n",
    "# Define the age groups and corresponding labels\n",
    "age_bins = [0, 4, 7, 10, 13, 16, 19]  # adding one more bin for 16-18\n",
    "age_labels = ['0-3', '4-6', '7-9', '10-12', '13-15', '16-18']\n",
    "\n",
    "# Update the DataFrame with age groupings\n",
    "final_df['children_agegroup'] = pd.cut(final_df['Age'], bins=age_bins, labels=age_labels, right=False)\n"
   ]
  },
  {
   "cell_type": "code",
   "execution_count": 68,
   "metadata": {},
   "outputs": [
    {
     "data": {
      "text/html": [
       "<div>\n",
       "<style scoped>\n",
       "    .dataframe tbody tr th:only-of-type {\n",
       "        vertical-align: middle;\n",
       "    }\n",
       "\n",
       "    .dataframe tbody tr th {\n",
       "        vertical-align: top;\n",
       "    }\n",
       "\n",
       "    .dataframe thead th {\n",
       "        text-align: right;\n",
       "    }\n",
       "</style>\n",
       "<table border=\"1\" class=\"dataframe\">\n",
       "  <thead>\n",
       "    <tr style=\"text-align: right;\">\n",
       "      <th></th>\n",
       "      <th>img_name</th>\n",
       "      <th>Age</th>\n",
       "      <th>ethnicity</th>\n",
       "      <th>id_class</th>\n",
       "      <th>children_agegroup</th>\n",
       "    </tr>\n",
       "  </thead>\n",
       "  <tbody>\n",
       "    <tr>\n",
       "      <th>0</th>\n",
       "      <td>Caucasian_1008_18</td>\n",
       "      <td>8</td>\n",
       "      <td>Caucasian</td>\n",
       "      <td>1008</td>\n",
       "      <td>7-9</td>\n",
       "    </tr>\n",
       "    <tr>\n",
       "      <th>1</th>\n",
       "      <td>Asian_225_72</td>\n",
       "      <td>11</td>\n",
       "      <td>Asian</td>\n",
       "      <td>225</td>\n",
       "      <td>10-12</td>\n",
       "    </tr>\n",
       "    <tr>\n",
       "      <th>2</th>\n",
       "      <td>Asian_238_1</td>\n",
       "      <td>3</td>\n",
       "      <td>Asian</td>\n",
       "      <td>238</td>\n",
       "      <td>0-3</td>\n",
       "    </tr>\n",
       "    <tr>\n",
       "      <th>3</th>\n",
       "      <td>Caucasian_1110_17</td>\n",
       "      <td>4</td>\n",
       "      <td>Caucasian</td>\n",
       "      <td>1110</td>\n",
       "      <td>4-6</td>\n",
       "    </tr>\n",
       "    <tr>\n",
       "      <th>4</th>\n",
       "      <td>Caucasian_364_12</td>\n",
       "      <td>2</td>\n",
       "      <td>Caucasian</td>\n",
       "      <td>364</td>\n",
       "      <td>0-3</td>\n",
       "    </tr>\n",
       "  </tbody>\n",
       "</table>\n",
       "</div>"
      ],
      "text/plain": [
       "            img_name  Age  ethnicity  id_class children_agegroup\n",
       "0  Caucasian_1008_18    8  Caucasian      1008               7-9\n",
       "1       Asian_225_72   11      Asian       225             10-12\n",
       "2        Asian_238_1    3      Asian       238               0-3\n",
       "3  Caucasian_1110_17    4  Caucasian      1110               4-6\n",
       "4   Caucasian_364_12    2  Caucasian       364               0-3"
      ]
     },
     "execution_count": 68,
     "metadata": {},
     "output_type": "execute_result"
    }
   ],
   "source": [
    "final_df.head() "
   ]
  },
  {
   "cell_type": "markdown",
   "metadata": {},
   "source": [
    "#### Data distributions\n",
    "(Evt efter age groups)"
   ]
  },
  {
   "cell_type": "code",
   "execution_count": 75,
   "metadata": {},
   "outputs": [
    {
     "data": {
      "image/png": "[encoded data removed]",
      "text/plain": [
       "<Figure size 640x480 with 1 Axes>"
      ]
     },
     "metadata": {},
     "output_type": "display_data"
    }
   ],
   "source": [
    "plt.hist(final_df['Age'], color='skyblue')\n",
    "plt.xlabel('Age')\n",
    "plt.ylabel('Frequency')\n",
    "plt.title('Age Distribution')\n",
    "plt.show()\n"
   ]
  },
  {
   "cell_type": "code",
   "execution_count": 77,
   "metadata": {},
   "outputs": [
    {
     "data": {
      "image/png": "[encoded data removed]",
      "text/plain": [
       "<Figure size 640x480 with 1 Axes>"
      ]
     },
     "metadata": {},
     "output_type": "display_data"
    }
   ],
   "source": [
    "# Define bin edges for each group of 3 years\n",
    "bin_edges = [0, 4, 7, 10, 13, 16, 19]\n",
    "plt.hist(final_df['Age'], bins=age_bins, color='skyblue')\n",
    "plt.xticks(bin_edges)\n",
    "plt.xlabel('Age groups')\n",
    "plt.ylabel('Frequency')\n",
    "plt.title('Childrens age Distribution')\n",
    "plt.show()\n"
   ]
  },
  {
   "cell_type": "code",
   "execution_count": 73,
   "metadata": {},
   "outputs": [
    {
     "data": {
      "image/png": "[encoded data removed]",
      "text/plain": [
       "<Figure size 640x480 with 1 Axes>"
      ]
     },
     "metadata": {},
     "output_type": "display_data"
    }
   ],
   "source": [
    "# Define bin edges for each group of 3 years\n",
    "plt.hist(final_df['ethnicity'], bins=4, color='skyblue')\n",
    "plt.xticks(final_df['ethnicity'])\n",
    "plt.xlabel('Ethnicity')\n",
    "plt.ylabel('Frequency')\n",
    "plt.title('Ethnicity composition')\n",
    "plt.show()\n"
   ]
  },
  {
   "cell_type": "markdown",
   "metadata": {},
   "source": [
    "#### Save df"
   ]
  },
  {
   "cell_type": "code",
   "execution_count": 78,
   "metadata": {},
   "outputs": [
    {
     "data": {
      "text/html": [
       "<div>\n",
       "<style scoped>\n",
       "    .dataframe tbody tr th:only-of-type {\n",
       "        vertical-align: middle;\n",
       "    }\n",
       "\n",
       "    .dataframe tbody tr th {\n",
       "        vertical-align: top;\n",
       "    }\n",
       "\n",
       "    .dataframe thead th {\n",
       "        text-align: right;\n",
       "    }\n",
       "</style>\n",
       "<table border=\"1\" class=\"dataframe\">\n",
       "  <thead>\n",
       "    <tr style=\"text-align: right;\">\n",
       "      <th></th>\n",
       "      <th>img_name</th>\n",
       "      <th>Age</th>\n",
       "      <th>ethnicity</th>\n",
       "      <th>id_class</th>\n",
       "      <th>children_agegroup</th>\n",
       "      <th>im_id</th>\n",
       "    </tr>\n",
       "  </thead>\n",
       "  <tbody>\n",
       "    <tr>\n",
       "      <th>0</th>\n",
       "      <td>Caucasian_1008_18</td>\n",
       "      <td>8</td>\n",
       "      <td>Caucasian</td>\n",
       "      <td>1008</td>\n",
       "      <td>7-9</td>\n",
       "      <td>Caucasian_1008</td>\n",
       "    </tr>\n",
       "    <tr>\n",
       "      <th>1</th>\n",
       "      <td>Asian_225_72</td>\n",
       "      <td>11</td>\n",
       "      <td>Asian</td>\n",
       "      <td>225</td>\n",
       "      <td>10-12</td>\n",
       "      <td>Asian_225</td>\n",
       "    </tr>\n",
       "    <tr>\n",
       "      <th>2</th>\n",
       "      <td>Asian_238_1</td>\n",
       "      <td>3</td>\n",
       "      <td>Asian</td>\n",
       "      <td>238</td>\n",
       "      <td>0-3</td>\n",
       "      <td>Asian_238</td>\n",
       "    </tr>\n",
       "    <tr>\n",
       "      <th>3</th>\n",
       "      <td>Caucasian_1110_17</td>\n",
       "      <td>4</td>\n",
       "      <td>Caucasian</td>\n",
       "      <td>1110</td>\n",
       "      <td>4-6</td>\n",
       "      <td>Caucasian_1110</td>\n",
       "    </tr>\n",
       "    <tr>\n",
       "      <th>4</th>\n",
       "      <td>Caucasian_364_12</td>\n",
       "      <td>2</td>\n",
       "      <td>Caucasian</td>\n",
       "      <td>364</td>\n",
       "      <td>0-3</td>\n",
       "      <td>Caucasian_364</td>\n",
       "    </tr>\n",
       "    <tr>\n",
       "      <th>...</th>\n",
       "      <td>...</td>\n",
       "      <td>...</td>\n",
       "      <td>...</td>\n",
       "      <td>...</td>\n",
       "      <td>...</td>\n",
       "      <td>...</td>\n",
       "    </tr>\n",
       "    <tr>\n",
       "      <th>9802</th>\n",
       "      <td>Indian_132_0</td>\n",
       "      <td>11</td>\n",
       "      <td>Indian</td>\n",
       "      <td>132</td>\n",
       "      <td>10-12</td>\n",
       "      <td>Indian_132</td>\n",
       "    </tr>\n",
       "    <tr>\n",
       "      <th>9805</th>\n",
       "      <td>Caucasian_367_13</td>\n",
       "      <td>8</td>\n",
       "      <td>Caucasian</td>\n",
       "      <td>367</td>\n",
       "      <td>7-9</td>\n",
       "      <td>Caucasian_367</td>\n",
       "    </tr>\n",
       "    <tr>\n",
       "      <th>9806</th>\n",
       "      <td>Asian_19_28</td>\n",
       "      <td>29</td>\n",
       "      <td>Asian</td>\n",
       "      <td>19</td>\n",
       "      <td>NaN</td>\n",
       "      <td>Asian_19</td>\n",
       "    </tr>\n",
       "    <tr>\n",
       "      <th>9807</th>\n",
       "      <td>Asian_554_5</td>\n",
       "      <td>3</td>\n",
       "      <td>Asian</td>\n",
       "      <td>554</td>\n",
       "      <td>0-3</td>\n",
       "      <td>Asian_554</td>\n",
       "    </tr>\n",
       "    <tr>\n",
       "      <th>9808</th>\n",
       "      <td>Indian_51_0</td>\n",
       "      <td>13</td>\n",
       "      <td>Indian</td>\n",
       "      <td>51</td>\n",
       "      <td>13-15</td>\n",
       "      <td>Indian_51</td>\n",
       "    </tr>\n",
       "  </tbody>\n",
       "</table>\n",
       "<p>9229 rows × 6 columns</p>\n",
       "</div>"
      ],
      "text/plain": [
       "               img_name  Age  ethnicity  id_class children_agegroup  \\\n",
       "0     Caucasian_1008_18    8  Caucasian      1008               7-9   \n",
       "1          Asian_225_72   11      Asian       225             10-12   \n",
       "2           Asian_238_1    3      Asian       238               0-3   \n",
       "3     Caucasian_1110_17    4  Caucasian      1110               4-6   \n",
       "4      Caucasian_364_12    2  Caucasian       364               0-3   \n",
       "...                 ...  ...        ...       ...               ...   \n",
       "9802       Indian_132_0   11     Indian       132             10-12   \n",
       "9805   Caucasian_367_13    8  Caucasian       367               7-9   \n",
       "9806        Asian_19_28   29      Asian        19               NaN   \n",
       "9807        Asian_554_5    3      Asian       554               0-3   \n",
       "9808        Indian_51_0   13     Indian        51             13-15   \n",
       "\n",
       "               im_id  \n",
       "0     Caucasian_1008  \n",
       "1          Asian_225  \n",
       "2          Asian_238  \n",
       "3     Caucasian_1110  \n",
       "4      Caucasian_364  \n",
       "...              ...  \n",
       "9802      Indian_132  \n",
       "9805   Caucasian_367  \n",
       "9806        Asian_19  \n",
       "9807       Asian_554  \n",
       "9808       Indian_51  \n",
       "\n",
       "[9229 rows x 6 columns]"
      ]
     },
     "execution_count": 78,
     "metadata": {},
     "output_type": "execute_result"
    }
   ],
   "source": [
    "final_df[\"im_id\"] = final_df[\"img_name\"].apply(lambda x: \"_\".join(x.split(\"_\")[:2]))\n",
    "final_df"
   ]
  },
  {
   "cell_type": "code",
   "execution_count": 79,
   "metadata": {},
   "outputs": [],
   "source": [
    "final_df.to_csv('../data/raw_full/YLFW/raw_ylfw_df.csv', index=False)"
   ]
  },
  {
   "cell_type": "markdown",
   "metadata": {},
   "source": [
    "#### OBS Overvej om man skal sænke alle aldre højere end 18 i YLFW til 18.."
   ]
  },
  {
   "cell_type": "markdown",
   "metadata": {},
   "source": [
    "Check age group difference between each id. "
   ]
  },
  {
   "cell_type": "code",
   "execution_count": 86,
   "metadata": {},
   "outputs": [
    {
     "data": {
      "text/html": [
       "<div>\n",
       "<style scoped>\n",
       "    .dataframe tbody tr th:only-of-type {\n",
       "        vertical-align: middle;\n",
       "    }\n",
       "\n",
       "    .dataframe tbody tr th {\n",
       "        vertical-align: top;\n",
       "    }\n",
       "\n",
       "    .dataframe thead th {\n",
       "        text-align: right;\n",
       "    }\n",
       "</style>\n",
       "<table border=\"1\" class=\"dataframe\">\n",
       "  <thead>\n",
       "    <tr style=\"text-align: right;\">\n",
       "      <th></th>\n",
       "      <th>img_name</th>\n",
       "      <th>Age</th>\n",
       "      <th>im_id</th>\n",
       "    </tr>\n",
       "  </thead>\n",
       "  <tbody>\n",
       "    <tr>\n",
       "      <th>0</th>\n",
       "      <td>Caucasian_1008_18</td>\n",
       "      <td>8.0</td>\n",
       "      <td>Caucasian_1008</td>\n",
       "    </tr>\n",
       "    <tr>\n",
       "      <th>1</th>\n",
       "      <td>Asian_225_72</td>\n",
       "      <td>11.0</td>\n",
       "      <td>Asian_225</td>\n",
       "    </tr>\n",
       "    <tr>\n",
       "      <th>2</th>\n",
       "      <td>Asian_238_1</td>\n",
       "      <td>3.0</td>\n",
       "      <td>Asian_238</td>\n",
       "    </tr>\n",
       "    <tr>\n",
       "      <th>3</th>\n",
       "      <td>Caucasian_1110_17</td>\n",
       "      <td>4.0</td>\n",
       "      <td>Caucasian_1110</td>\n",
       "    </tr>\n",
       "    <tr>\n",
       "      <th>4</th>\n",
       "      <td>Caucasian_364_12</td>\n",
       "      <td>2.0</td>\n",
       "      <td>Caucasian_364</td>\n",
       "    </tr>\n",
       "  </tbody>\n",
       "</table>\n",
       "</div>"
      ],
      "text/plain": [
       "            img_name   Age           im_id\n",
       "0  Caucasian_1008_18   8.0  Caucasian_1008\n",
       "1       Asian_225_72  11.0       Asian_225\n",
       "2        Asian_238_1   3.0       Asian_238\n",
       "3  Caucasian_1110_17   4.0  Caucasian_1110\n",
       "4   Caucasian_364_12   2.0   Caucasian_364"
      ]
     },
     "execution_count": 86,
     "metadata": {},
     "output_type": "execute_result"
    }
   ],
   "source": [
    "# Per image_name\n",
    "final_df[\"im_id\"] = final_df[\"img_name\"].apply(lambda x: \"_\".join(x.split(\"_\")[:2]))\n",
    "age_df.head()"
   ]
  },
  {
   "cell_type": "code",
   "execution_count": 87,
   "metadata": {},
   "outputs": [
    {
     "data": {
      "text/html": [
       "<div>\n",
       "<style scoped>\n",
       "    .dataframe tbody tr th:only-of-type {\n",
       "        vertical-align: middle;\n",
       "    }\n",
       "\n",
       "    .dataframe tbody tr th {\n",
       "        vertical-align: top;\n",
       "    }\n",
       "\n",
       "    .dataframe thead tr th {\n",
       "        text-align: left;\n",
       "    }\n",
       "\n",
       "    .dataframe thead tr:last-of-type th {\n",
       "        text-align: right;\n",
       "    }\n",
       "</style>\n",
       "<table border=\"1\" class=\"dataframe\">\n",
       "  <thead>\n",
       "    <tr>\n",
       "      <th></th>\n",
       "      <th colspan=\"4\" halign=\"left\">Age</th>\n",
       "    </tr>\n",
       "    <tr>\n",
       "      <th></th>\n",
       "      <th>min</th>\n",
       "      <th>max</th>\n",
       "      <th>std</th>\n",
       "      <th>count</th>\n",
       "    </tr>\n",
       "    <tr>\n",
       "      <th>im_id</th>\n",
       "      <th></th>\n",
       "      <th></th>\n",
       "      <th></th>\n",
       "      <th></th>\n",
       "    </tr>\n",
       "  </thead>\n",
       "  <tbody>\n",
       "    <tr>\n",
       "      <th>African_0</th>\n",
       "      <td>7</td>\n",
       "      <td>18</td>\n",
       "      <td>7.778175</td>\n",
       "      <td>2</td>\n",
       "    </tr>\n",
       "    <tr>\n",
       "      <th>African_1</th>\n",
       "      <td>2</td>\n",
       "      <td>5</td>\n",
       "      <td>2.121320</td>\n",
       "      <td>2</td>\n",
       "    </tr>\n",
       "    <tr>\n",
       "      <th>Caucasian_204</th>\n",
       "      <td>1</td>\n",
       "      <td>5</td>\n",
       "      <td>2.049390</td>\n",
       "      <td>5</td>\n",
       "    </tr>\n",
       "    <tr>\n",
       "      <th>Asian_386</th>\n",
       "      <td>8</td>\n",
       "      <td>13</td>\n",
       "      <td>1.690309</td>\n",
       "      <td>8</td>\n",
       "    </tr>\n",
       "    <tr>\n",
       "      <th>Caucasian_386</th>\n",
       "      <td>2</td>\n",
       "      <td>4</td>\n",
       "      <td>1.154701</td>\n",
       "      <td>4</td>\n",
       "    </tr>\n",
       "    <tr>\n",
       "      <th>Asian_14</th>\n",
       "      <td>2</td>\n",
       "      <td>4</td>\n",
       "      <td>0.707107</td>\n",
       "      <td>5</td>\n",
       "    </tr>\n",
       "    <tr>\n",
       "      <th>Indian_80</th>\n",
       "      <td>5</td>\n",
       "      <td>6</td>\n",
       "      <td>0.707107</td>\n",
       "      <td>2</td>\n",
       "    </tr>\n",
       "    <tr>\n",
       "      <th>Indian_98</th>\n",
       "      <td>3</td>\n",
       "      <td>4</td>\n",
       "      <td>0.707107</td>\n",
       "      <td>2</td>\n",
       "    </tr>\n",
       "    <tr>\n",
       "      <th>Caucasian_604</th>\n",
       "      <td>0</td>\n",
       "      <td>1</td>\n",
       "      <td>0.577350</td>\n",
       "      <td>3</td>\n",
       "    </tr>\n",
       "    <tr>\n",
       "      <th>Indian_224</th>\n",
       "      <td>14</td>\n",
       "      <td>14</td>\n",
       "      <td>NaN</td>\n",
       "      <td>1</td>\n",
       "    </tr>\n",
       "  </tbody>\n",
       "</table>\n",
       "</div>"
      ],
      "text/plain": [
       "              Age                    \n",
       "              min max       std count\n",
       "im_id                                \n",
       "African_0       7  18  7.778175     2\n",
       "African_1       2   5  2.121320     2\n",
       "Caucasian_204   1   5  2.049390     5\n",
       "Asian_386       8  13  1.690309     8\n",
       "Caucasian_386   2   4  1.154701     4\n",
       "Asian_14        2   4  0.707107     5\n",
       "Indian_80       5   6  0.707107     2\n",
       "Indian_98       3   4  0.707107     2\n",
       "Caucasian_604   0   1  0.577350     3\n",
       "Indian_224     14  14       NaN     1"
      ]
     },
     "execution_count": 87,
     "metadata": {},
     "output_type": "execute_result"
    }
   ],
   "source": [
    "# Groupby and get both std and counts\n",
    "\n",
    "final_df.groupby(\"im_id\").agg({'Age': ['min', 'max','std', 'count']}).sort_values(by=('Age', 'std'), ascending=False).head(10)"
   ]
  },
  {
   "cell_type": "code",
   "execution_count": 90,
   "metadata": {},
   "outputs": [
    {
     "data": {
      "text/html": [
       "<div>\n",
       "<style scoped>\n",
       "    .dataframe tbody tr th:only-of-type {\n",
       "        vertical-align: middle;\n",
       "    }\n",
       "\n",
       "    .dataframe tbody tr th {\n",
       "        vertical-align: top;\n",
       "    }\n",
       "\n",
       "    .dataframe thead th {\n",
       "        text-align: right;\n",
       "    }\n",
       "</style>\n",
       "<table border=\"1\" class=\"dataframe\">\n",
       "  <thead>\n",
       "    <tr style=\"text-align: right;\">\n",
       "      <th></th>\n",
       "      <th>img_name</th>\n",
       "      <th>Age</th>\n",
       "      <th>ethnicity</th>\n",
       "      <th>id_class</th>\n",
       "      <th>children_agegroup</th>\n",
       "      <th>im_id</th>\n",
       "    </tr>\n",
       "  </thead>\n",
       "  <tbody>\n",
       "    <tr>\n",
       "      <th>1</th>\n",
       "      <td>Asian_386_43</td>\n",
       "      <td>9</td>\n",
       "      <td>Asian</td>\n",
       "      <td>386</td>\n",
       "      <td>7-9</td>\n",
       "      <td>Asian_386</td>\n",
       "    </tr>\n",
       "    <tr>\n",
       "      <th>3</th>\n",
       "      <td>Asian_386_2</td>\n",
       "      <td>9</td>\n",
       "      <td>Asian</td>\n",
       "      <td>386</td>\n",
       "      <td>7-9</td>\n",
       "      <td>Asian_386</td>\n",
       "    </tr>\n",
       "    <tr>\n",
       "      <th>9</th>\n",
       "      <td>Asian_386_30</td>\n",
       "      <td>10</td>\n",
       "      <td>Asian</td>\n",
       "      <td>386</td>\n",
       "      <td>10-12</td>\n",
       "      <td>Asian_386</td>\n",
       "    </tr>\n",
       "    <tr>\n",
       "      <th>10</th>\n",
       "      <td>Asian_386_40</td>\n",
       "      <td>9</td>\n",
       "      <td>Asian</td>\n",
       "      <td>386</td>\n",
       "      <td>7-9</td>\n",
       "      <td>Asian_386</td>\n",
       "    </tr>\n",
       "    <tr>\n",
       "      <th>15</th>\n",
       "      <td>Asian_386_27</td>\n",
       "      <td>8</td>\n",
       "      <td>Asian</td>\n",
       "      <td>386</td>\n",
       "      <td>7-9</td>\n",
       "      <td>Asian_386</td>\n",
       "    </tr>\n",
       "    <tr>\n",
       "      <th>16</th>\n",
       "      <td>Asian_386_38</td>\n",
       "      <td>13</td>\n",
       "      <td>Asian</td>\n",
       "      <td>386</td>\n",
       "      <td>13-15</td>\n",
       "      <td>Asian_386</td>\n",
       "    </tr>\n",
       "    <tr>\n",
       "      <th>24</th>\n",
       "      <td>Asian_386_42</td>\n",
       "      <td>10</td>\n",
       "      <td>Asian</td>\n",
       "      <td>386</td>\n",
       "      <td>10-12</td>\n",
       "      <td>Asian_386</td>\n",
       "    </tr>\n",
       "    <tr>\n",
       "      <th>28</th>\n",
       "      <td>Asian_386_3</td>\n",
       "      <td>12</td>\n",
       "      <td>Asian</td>\n",
       "      <td>386</td>\n",
       "      <td>10-12</td>\n",
       "      <td>Asian_386</td>\n",
       "    </tr>\n",
       "  </tbody>\n",
       "</table>\n",
       "</div>"
      ],
      "text/plain": [
       "        img_name  Age ethnicity  id_class children_agegroup      im_id\n",
       "1   Asian_386_43    9     Asian       386               7-9  Asian_386\n",
       "3    Asian_386_2    9     Asian       386               7-9  Asian_386\n",
       "9   Asian_386_30   10     Asian       386             10-12  Asian_386\n",
       "10  Asian_386_40    9     Asian       386               7-9  Asian_386\n",
       "15  Asian_386_27    8     Asian       386               7-9  Asian_386\n",
       "16  Asian_386_38   13     Asian       386             13-15  Asian_386\n",
       "24  Asian_386_42   10     Asian       386             10-12  Asian_386\n",
       "28   Asian_386_3   12     Asian       386             10-12  Asian_386"
      ]
     },
     "execution_count": 90,
     "metadata": {},
     "output_type": "execute_result"
    }
   ],
   "source": [
    "final_df[final_df[\"im_id\"] == \"Asian_386\"]"
   ]
  },
  {
   "cell_type": "markdown",
   "metadata": {},
   "source": []
  },
  {
   "cell_type": "code",
   "execution_count": 88,
   "metadata": {},
   "outputs": [
    {
     "data": {
      "text/html": [
       "<div>\n",
       "<style scoped>\n",
       "    .dataframe tbody tr th:only-of-type {\n",
       "        vertical-align: middle;\n",
       "    }\n",
       "\n",
       "    .dataframe tbody tr th {\n",
       "        vertical-align: top;\n",
       "    }\n",
       "\n",
       "    .dataframe thead th {\n",
       "        text-align: right;\n",
       "    }\n",
       "</style>\n",
       "<table border=\"1\" class=\"dataframe\">\n",
       "  <thead>\n",
       "    <tr style=\"text-align: right;\">\n",
       "      <th></th>\n",
       "      <th>img_name</th>\n",
       "      <th>Age</th>\n",
       "      <th>im_id</th>\n",
       "    </tr>\n",
       "  </thead>\n",
       "  <tbody>\n",
       "    <tr>\n",
       "      <th>0</th>\n",
       "      <td>Caucasian_1008_18</td>\n",
       "      <td>8.0</td>\n",
       "      <td>Caucasian_1008</td>\n",
       "    </tr>\n",
       "    <tr>\n",
       "      <th>1</th>\n",
       "      <td>Asian_225_72</td>\n",
       "      <td>11.0</td>\n",
       "      <td>Asian_225</td>\n",
       "    </tr>\n",
       "    <tr>\n",
       "      <th>2</th>\n",
       "      <td>Asian_238_1</td>\n",
       "      <td>3.0</td>\n",
       "      <td>Asian_238</td>\n",
       "    </tr>\n",
       "    <tr>\n",
       "      <th>3</th>\n",
       "      <td>Caucasian_1110_17</td>\n",
       "      <td>4.0</td>\n",
       "      <td>Caucasian_1110</td>\n",
       "    </tr>\n",
       "    <tr>\n",
       "      <th>4</th>\n",
       "      <td>Caucasian_364_12</td>\n",
       "      <td>2.0</td>\n",
       "      <td>Caucasian_364</td>\n",
       "    </tr>\n",
       "  </tbody>\n",
       "</table>\n",
       "</div>"
      ],
      "text/plain": [
       "            img_name   Age           im_id\n",
       "0  Caucasian_1008_18   8.0  Caucasian_1008\n",
       "1       Asian_225_72  11.0       Asian_225\n",
       "2        Asian_238_1   3.0       Asian_238\n",
       "3  Caucasian_1110_17   4.0  Caucasian_1110\n",
       "4   Caucasian_364_12   2.0   Caucasian_364"
      ]
     },
     "execution_count": 88,
     "metadata": {},
     "output_type": "execute_result"
    }
   ],
   "source": [
    "# Per image_name\n",
    "age_df[\"im_id\"] = age_df[\"img_name\"].apply(lambda x: \"_\".join(x.split(\"_\")[:2]))\n",
    "age_df.head()"
   ]
  },
  {
   "cell_type": "code",
   "execution_count": 89,
   "metadata": {},
   "outputs": [
    {
     "data": {
      "text/html": [
       "<div>\n",
       "<style scoped>\n",
       "    .dataframe tbody tr th:only-of-type {\n",
       "        vertical-align: middle;\n",
       "    }\n",
       "\n",
       "    .dataframe tbody tr th {\n",
       "        vertical-align: top;\n",
       "    }\n",
       "\n",
       "    .dataframe thead tr th {\n",
       "        text-align: left;\n",
       "    }\n",
       "\n",
       "    .dataframe thead tr:last-of-type th {\n",
       "        text-align: right;\n",
       "    }\n",
       "</style>\n",
       "<table border=\"1\" class=\"dataframe\">\n",
       "  <thead>\n",
       "    <tr>\n",
       "      <th></th>\n",
       "      <th colspan=\"4\" halign=\"left\">Age</th>\n",
       "    </tr>\n",
       "    <tr>\n",
       "      <th></th>\n",
       "      <th>min</th>\n",
       "      <th>max</th>\n",
       "      <th>std</th>\n",
       "      <th>count</th>\n",
       "    </tr>\n",
       "    <tr>\n",
       "      <th>im_id</th>\n",
       "      <th></th>\n",
       "      <th></th>\n",
       "      <th></th>\n",
       "      <th></th>\n",
       "    </tr>\n",
       "  </thead>\n",
       "  <tbody>\n",
       "    <tr>\n",
       "      <th>Indian_87</th>\n",
       "      <td>0.0</td>\n",
       "      <td>30.0</td>\n",
       "      <td>21.213203</td>\n",
       "      <td>2</td>\n",
       "    </tr>\n",
       "    <tr>\n",
       "      <th>Asian_620</th>\n",
       "      <td>2.0</td>\n",
       "      <td>29.0</td>\n",
       "      <td>19.091883</td>\n",
       "      <td>2</td>\n",
       "    </tr>\n",
       "    <tr>\n",
       "      <th>Asian_570</th>\n",
       "      <td>2.0</td>\n",
       "      <td>35.0</td>\n",
       "      <td>18.502252</td>\n",
       "      <td>3</td>\n",
       "    </tr>\n",
       "    <tr>\n",
       "      <th>African_44</th>\n",
       "      <td>6.0</td>\n",
       "      <td>32.0</td>\n",
       "      <td>18.384776</td>\n",
       "      <td>2</td>\n",
       "    </tr>\n",
       "    <tr>\n",
       "      <th>Asian_96</th>\n",
       "      <td>0.0</td>\n",
       "      <td>26.0</td>\n",
       "      <td>18.384776</td>\n",
       "      <td>2</td>\n",
       "    </tr>\n",
       "    <tr>\n",
       "      <th>Indian_25</th>\n",
       "      <td>7.0</td>\n",
       "      <td>32.0</td>\n",
       "      <td>17.677670</td>\n",
       "      <td>2</td>\n",
       "    </tr>\n",
       "    <tr>\n",
       "      <th>Caucasian_1127</th>\n",
       "      <td>7.0</td>\n",
       "      <td>31.0</td>\n",
       "      <td>16.970563</td>\n",
       "      <td>2</td>\n",
       "    </tr>\n",
       "    <tr>\n",
       "      <th>African_343</th>\n",
       "      <td>9.0</td>\n",
       "      <td>32.0</td>\n",
       "      <td>16.263456</td>\n",
       "      <td>2</td>\n",
       "    </tr>\n",
       "    <tr>\n",
       "      <th>African_550</th>\n",
       "      <td>3.0</td>\n",
       "      <td>25.0</td>\n",
       "      <td>15.556349</td>\n",
       "      <td>2</td>\n",
       "    </tr>\n",
       "    <tr>\n",
       "      <th>Indian_109</th>\n",
       "      <td>6.0</td>\n",
       "      <td>33.0</td>\n",
       "      <td>15.307950</td>\n",
       "      <td>3</td>\n",
       "    </tr>\n",
       "  </tbody>\n",
       "</table>\n",
       "</div>"
      ],
      "text/plain": [
       "                Age                       \n",
       "                min   max        std count\n",
       "im_id                                     \n",
       "Indian_87       0.0  30.0  21.213203     2\n",
       "Asian_620       2.0  29.0  19.091883     2\n",
       "Asian_570       2.0  35.0  18.502252     3\n",
       "African_44      6.0  32.0  18.384776     2\n",
       "Asian_96        0.0  26.0  18.384776     2\n",
       "Indian_25       7.0  32.0  17.677670     2\n",
       "Caucasian_1127  7.0  31.0  16.970563     2\n",
       "African_343     9.0  32.0  16.263456     2\n",
       "African_550     3.0  25.0  15.556349     2\n",
       "Indian_109      6.0  33.0  15.307950     3"
      ]
     },
     "execution_count": 89,
     "metadata": {},
     "output_type": "execute_result"
    }
   ],
   "source": [
    "# Groupby and get both std and counts\n",
    "\n",
    "age_df.groupby(\"im_id\").agg({'Age': ['min', 'max','std', 'count']}).sort_values(by=('Age', 'std'), ascending=False).head(10)"
   ]
  },
  {
   "cell_type": "markdown",
   "metadata": {},
   "source": []
  }
 ],
 "metadata": {
  "kernelspec": {
   "display_name": "best_master",
   "language": "python",
   "name": "python3"
  },
  "language_info": {
   "codemirror_mode": {
    "name": "ipython",
    "version": 3
   },
   "file_extension": ".py",
   "mimetype": "text/x-python",
   "name": "python",
   "nbconvert_exporter": "python",
   "pygments_lexer": "ipython3",
   "version": "3.11.8"
  }
 },
 "nbformat": 4,
 "nbformat_minor": 2
}
