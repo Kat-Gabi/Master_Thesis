<<<<<<< Updated upstream
{
 "cells": [
  {
   "cell_type": "markdown",
   "metadata": {},
   "source": [
    "## Data loading - YLFW Benchmark\n",
    "Source: https://github.com/JessyFrish/YLFW_Links?tab=readme-ov-file\n",
    "\n",
    "Make suitable for ArcFace and MagFace (112x112) and FaceNet (160x160)"
   ]
  },
  {
   "cell_type": "markdown",
   "metadata": {},
   "source": [
    "### Data folder structure and metadata\n"
   ]
  },
  {
   "cell_type": "code",
   "execution_count": 1,
   "metadata": {},
   "outputs": [],
   "source": [
    "# Load packages\n",
    "\n",
    "# Common\n",
    "import pandas as pd\n",
    "import numpy as np\n",
    "import os\n",
    "import cv2 as cv\n",
    "from IPython.display import clear_output as cls\n",
    "import json\n",
    "\n",
    "# Data\n",
    "from glob import glob\n",
    "\n",
    "# Data Visuaalization\n",
    "import matplotlib.pyplot as plt\n",
    "import seaborn as sns\n",
    "sns.set()\n",
    "\n",
    "# Model\n"
   ]
  },
  {
   "cell_type": "markdown",
   "metadata": {},
   "source": [
    "### Descriptive analysis of data"
   ]
  },
  {
   "cell_type": "markdown",
   "metadata": {},
   "source": [
    "#### Data concatenation"
   ]
  },
  {
   "cell_type": "code",
   "execution_count": 2,
   "metadata": {},
   "outputs": [
    {
     "data": {
      "text/html": [
       "<div>\n",
       "<style scoped>\n",
       "    .dataframe tbody tr th:only-of-type {\n",
       "        vertical-align: middle;\n",
       "    }\n",
       "\n",
       "    .dataframe tbody tr th {\n",
       "        vertical-align: top;\n",
       "    }\n",
       "\n",
       "    .dataframe thead th {\n",
       "        text-align: right;\n",
       "    }\n",
       "</style>\n",
       "<table border=\"1\" class=\"dataframe\">\n",
       "  <thead>\n",
       "    <tr style=\"text-align: right;\">\n",
       "      <th></th>\n",
       "      <th>img_name</th>\n",
       "      <th>ethnicity</th>\n",
       "    </tr>\n",
       "  </thead>\n",
       "  <tbody>\n",
       "    <tr>\n",
       "      <th>0</th>\n",
       "      <td>African_0_0</td>\n",
       "      <td>African</td>\n",
       "    </tr>\n",
       "    <tr>\n",
       "      <th>1</th>\n",
       "      <td>African_0_1</td>\n",
       "      <td>African</td>\n",
       "    </tr>\n",
       "    <tr>\n",
       "      <th>2</th>\n",
       "      <td>African_1_11</td>\n",
       "      <td>African</td>\n",
       "    </tr>\n",
       "    <tr>\n",
       "      <th>3</th>\n",
       "      <td>African_1_4</td>\n",
       "      <td>African</td>\n",
       "    </tr>\n",
       "    <tr>\n",
       "      <th>4</th>\n",
       "      <td>Asian_14_12</td>\n",
       "      <td>Asian</td>\n",
       "    </tr>\n",
       "  </tbody>\n",
       "</table>\n",
       "</div>"
      ],
      "text/plain": [
       "       img_name ethnicity\n",
       "0   African_0_0   African\n",
       "1   African_0_1   African\n",
       "2  African_1_11   African\n",
       "3   African_1_4   African\n",
       "4   Asian_14_12     Asian"
      ]
     },
     "execution_count": 2,
     "metadata": {},
     "output_type": "execute_result"
    }
   ],
   "source": [
    "## Create dataframe\n",
    "\n",
    "# Define the path to the raw data directory\n",
    "raw_data_path = '../data/raw/'\n",
    "\n",
    "# Initialize lists to store image characteristics\n",
    "img_names = []\n",
    "ethnicities = []\n",
    "genders = []\n",
    "ages = []\n",
    "\n",
    "# Iterate through the directories of each ethnicity (e.g., 'Asian')\n",
    "ethnicities_list = os.listdir(raw_data_path + 'YLFW_bench/data_p2')\n",
    "for ethnicity in ethnicities_list:\n",
    "    ethnicity_col = ethnicity.split('_')[0]\n",
    "    ethnicity_dir = os.path.join(raw_data_path + 'YLFW_bench/data_p2', ethnicity)\n",
    "    if os.path.isdir(ethnicity_dir):\n",
    "        # Iterate through image files in the ethnicity directory\n",
    "        for img_name in os.listdir(ethnicity_dir):\n",
    "            # Append image characteristics to lists\n",
    "            img_names.append(img_name[:-4])\n",
    "            ethnicities.append(ethnicity_col)\n",
    "\n",
    "\n",
    "# Create a DataFrame from the lists\n",
    "data = {'img_name': img_names, 'ethnicity': ethnicities}\n",
    "df = pd.DataFrame(data)\n",
    "\n",
    "# Display the DataFrame\n",
    "df.head()\n"
   ]
  },
  {
   "cell_type": "code",
   "execution_count": 3,
   "metadata": {},
   "outputs": [
    {
     "data": {
      "text/html": [
       "<div>\n",
       "<style scoped>\n",
       "    .dataframe tbody tr th:only-of-type {\n",
       "        vertical-align: middle;\n",
       "    }\n",
       "\n",
       "    .dataframe tbody tr th {\n",
       "        vertical-align: top;\n",
       "    }\n",
       "\n",
       "    .dataframe thead th {\n",
       "        text-align: right;\n",
       "    }\n",
       "</style>\n",
       "<table border=\"1\" class=\"dataframe\">\n",
       "  <thead>\n",
       "    <tr style=\"text-align: right;\">\n",
       "      <th></th>\n",
       "      <th>img_name</th>\n",
       "      <th>Age</th>\n",
       "    </tr>\n",
       "  </thead>\n",
       "  <tbody>\n",
       "    <tr>\n",
       "      <th>0</th>\n",
       "      <td>Caucasian_1008_18</td>\n",
       "      <td>8.0</td>\n",
       "    </tr>\n",
       "    <tr>\n",
       "      <th>1</th>\n",
       "      <td>Asian_225_72</td>\n",
       "      <td>11.0</td>\n",
       "    </tr>\n",
       "    <tr>\n",
       "      <th>2</th>\n",
       "      <td>Asian_238_1</td>\n",
       "      <td>3.0</td>\n",
       "    </tr>\n",
       "    <tr>\n",
       "      <th>3</th>\n",
       "      <td>Caucasian_1110_17</td>\n",
       "      <td>4.0</td>\n",
       "    </tr>\n",
       "    <tr>\n",
       "      <th>4</th>\n",
       "      <td>Caucasian_364_12</td>\n",
       "      <td>2.0</td>\n",
       "    </tr>\n",
       "  </tbody>\n",
       "</table>\n",
       "</div>"
      ],
      "text/plain": [
       "            img_name   Age\n",
       "0  Caucasian_1008_18   8.0\n",
       "1       Asian_225_72  11.0\n",
       "2        Asian_238_1   3.0\n",
       "3  Caucasian_1110_17   4.0\n",
       "4   Caucasian_364_12   2.0"
      ]
     },
     "execution_count": 3,
     "metadata": {},
     "output_type": "execute_result"
    }
   ],
   "source": [
    "# Read the JSON file into a JSON variable\n",
    "with open('../data/raw/age_estimation/output_data_precroped_all_age.json', 'r') as file:\n",
    "    json_data = json.load(file)\n",
    "\n",
    "# Convert the JSON data to a DataFrame\n",
    "age_df = pd.DataFrame.from_dict(json_data, orient='index', columns=['Age'])\n",
    "# Convert the 'Age' column to numeric\n",
    "age_df['Age'] = pd.to_numeric(age_df['Age'])\n",
    "age_df.reset_index(inplace=True)\n",
    "age_df.columns = ['img_name', 'Age']\n",
    "\n",
    "age_df.head()\n"
   ]
  },
  {
   "cell_type": "code",
   "execution_count": 4,
   "metadata": {},
   "outputs": [
    {
     "data": {
      "text/html": [
       "<div>\n",
       "<style scoped>\n",
       "    .dataframe tbody tr th:only-of-type {\n",
       "        vertical-align: middle;\n",
       "    }\n",
       "\n",
       "    .dataframe tbody tr th {\n",
       "        vertical-align: top;\n",
       "    }\n",
       "\n",
       "    .dataframe thead th {\n",
       "        text-align: right;\n",
       "    }\n",
       "</style>\n",
       "<table border=\"1\" class=\"dataframe\">\n",
       "  <thead>\n",
       "    <tr style=\"text-align: right;\">\n",
       "      <th></th>\n",
       "      <th>img_name</th>\n",
       "      <th>Age</th>\n",
       "      <th>ethnicity</th>\n",
       "    </tr>\n",
       "  </thead>\n",
       "  <tbody>\n",
       "    <tr>\n",
       "      <th>0</th>\n",
       "      <td>Caucasian_604_4</td>\n",
       "      <td>1.0</td>\n",
       "      <td>Caucasian</td>\n",
       "    </tr>\n",
       "    <tr>\n",
       "      <th>1</th>\n",
       "      <td>Asian_386_43</td>\n",
       "      <td>9.0</td>\n",
       "      <td>Asian</td>\n",
       "    </tr>\n",
       "    <tr>\n",
       "      <th>2</th>\n",
       "      <td>Indian_98_12</td>\n",
       "      <td>4.0</td>\n",
       "      <td>Indian</td>\n",
       "    </tr>\n",
       "    <tr>\n",
       "      <th>3</th>\n",
       "      <td>Asian_386_2</td>\n",
       "      <td>9.0</td>\n",
       "      <td>Asian</td>\n",
       "    </tr>\n",
       "    <tr>\n",
       "      <th>4</th>\n",
       "      <td>Caucasian_204_1</td>\n",
       "      <td>1.0</td>\n",
       "      <td>Caucasian</td>\n",
       "    </tr>\n",
       "  </tbody>\n",
       "</table>\n",
       "</div>"
      ],
      "text/plain": [
       "          img_name  Age  ethnicity\n",
       "0  Caucasian_604_4  1.0  Caucasian\n",
       "1     Asian_386_43  9.0      Asian\n",
       "2     Indian_98_12  4.0     Indian\n",
       "3      Asian_386_2  9.0      Asian\n",
       "4  Caucasian_204_1  1.0  Caucasian"
      ]
     },
     "execution_count": 4,
     "metadata": {},
     "output_type": "execute_result"
    }
   ],
   "source": [
    "# Concatenate dataframes\n",
    "final_df = pd.merge(age_df, df, on='img_name', how='inner')\n",
    "final_df.head()"
   ]
  },
  {
   "cell_type": "code",
   "execution_count": 9,
   "metadata": {},
   "outputs": [
    {
     "name": "stdout",
     "output_type": "stream",
     "text": [
      "<class 'pandas.core.frame.DataFrame'>\n",
      "Int64Index: 34 entries, 0 to 33\n",
      "Data columns (total 3 columns):\n",
      " #   Column     Non-Null Count  Dtype  \n",
      "---  ------     --------------  -----  \n",
      " 0   img_name   34 non-null     object \n",
      " 1   Age        34 non-null     float64\n",
      " 2   ethnicity  34 non-null     object \n",
      "dtypes: float64(1), object(2)\n",
      "memory usage: 1.1+ KB\n",
      "             Age\n",
      "count  34.000000\n",
      "mean    5.558824\n",
      "std     4.300748\n",
      "min     0.000000\n",
      "25%     2.250000\n",
      "50%     4.000000\n",
      "75%     8.750000\n",
      "max    18.000000 None img_name          Age   ethnicity\n",
      "African_0_0       7.0   African      1\n",
      "Caucasian_386_9   2.0   Caucasian    1\n",
      "Caucasian_204_27  5.0   Caucasian    1\n",
      "Caucasian_204_47  4.0   Caucasian    1\n",
      "Caucasian_204_63  5.0   Caucasian    1\n",
      "Caucasian_386_12  4.0   Caucasian    1\n",
      "Caucasian_386_3   2.0   Caucasian    1\n",
      "Caucasian_386_6   4.0   Caucasian    1\n",
      "Caucasian_604_15  1.0   Caucasian    1\n",
      "African_0_1       18.0  African      1\n",
      "Caucasian_604_20  0.0   Caucasian    1\n",
      "Caucasian_604_4   1.0   Caucasian    1\n",
      "Indian_224_0      14.0  Indian       1\n",
      "Indian_80_0       6.0   Indian       1\n",
      "Indian_80_1       5.0   Indian       1\n",
      "Indian_98_12      4.0   Indian       1\n",
      "Caucasian_204_25  1.0   Caucasian    1\n",
      "Caucasian_204_1   1.0   Caucasian    1\n",
      "Asian_386_43      9.0   Asian        1\n",
      "Asian_386_42      10.0  Asian        1\n",
      "Asian_386_40      9.0   Asian        1\n",
      "Asian_386_38      13.0  Asian        1\n",
      "Asian_386_30      10.0  Asian        1\n",
      "Asian_386_3       12.0  Asian        1\n",
      "Asian_386_27      8.0   Asian        1\n",
      "Asian_386_2       9.0   Asian        1\n",
      "Asian_14_84       2.0   Asian        1\n",
      "Asian_14_6        3.0   Asian        1\n",
      "Asian_14_33       3.0   Asian        1\n",
      "Asian_14_19       4.0   Asian        1\n",
      "Asian_14_12       3.0   Asian        1\n",
      "African_1_4       2.0   African      1\n",
      "African_1_11      5.0   African      1\n",
      "Indian_98_7       3.0   Indian       1\n",
      "dtype: int64\n"
     ]
    }
   ],
   "source": [
    "print(final_df.describe(), final_df.info(), final_df.value_counts())"
   ]
  },
  {
   "cell_type": "markdown",
   "metadata": {},
   "source": [
    "#### Data distributions\n",
    "(Evt efter age groups)"
   ]
  },
  {
   "cell_type": "code",
   "execution_count": 65,
   "metadata": {},
   "outputs": [
    {
     "data": {
      "image/png": "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",
      "text/plain": [
       "<Figure size 640x480 with 1 Axes>"
      ]
     },
     "metadata": {},
     "output_type": "display_data"
    }
   ],
   "source": [
    "# Define bin edges for each group of 3 years\n",
    "bin_edges = [0, 3, 6, 9, 12, 15, 18]\n",
    "plt.hist(final_df['Age'], bins=bin_edges, color='skyblue')\n",
    "plt.xticks(bin_edges)\n",
    "plt.xlabel('Age groups')\n",
    "plt.ylabel('Frequency')\n",
    "plt.title('Age Distribution')\n",
    "plt.show()\n"
   ]
  },
  {
   "cell_type": "code",
   "execution_count": 16,
   "metadata": {},
   "outputs": [
    {
     "data": {
      "image/png": "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",
      "text/plain": [
       "<Figure size 640x480 with 1 Axes>"
      ]
     },
     "metadata": {},
     "output_type": "display_data"
    }
   ],
   "source": [
    "# Define bin edges for each group of 3 years\n",
    "plt.hist(final_df['ethnicity'], bins=4, color='skyblue')\n",
    "plt.xticks(final_df['ethnicity'])\n",
    "plt.xlabel('Ethnicity')\n",
    "plt.ylabel('Frequency')\n",
    "plt.title('Ethnicity composition')\n",
    "plt.show()\n"
   ]
  },
  {
   "cell_type": "code",
   "execution_count": null,
   "metadata": {},
   "outputs": [],
   "source": []
  }
 ],
 "metadata": {
  "kernelspec": {
   "display_name": "best_master",
   "language": "python",
   "name": "python3"
  },
  "language_info": {
   "codemirror_mode": {
    "name": "ipython",
    "version": 3
   },
   "file_extension": ".py",
   "mimetype": "text/x-python",
   "name": "python",
   "nbconvert_exporter": "python",
   "pygments_lexer": "ipython3",
   "version": "3.10.6"
  }
 },
 "nbformat": 4,
 "nbformat_minor": 2
}
=======
{
 "cells": [
  {
   "cell_type": "markdown",
   "metadata": {},
   "source": [
    "## Data loading - YLFW Benchmark\n",
    "Source: https://github.com/JessyFrish/YLFW_Links?tab=readme-ov-file\n",
    "\n",
    "Make suitable for ArcFace and MagFace (112x112) and FaceNet (160x160)"
   ]
  },
  {
   "cell_type": "markdown",
   "metadata": {},
   "source": [
    "### Data folder structure and metadata\n"
   ]
  },
  {
   "cell_type": "code",
   "execution_count": 1,
   "metadata": {},
   "outputs": [],
   "source": [
    "# Load packages\n",
    "\n",
    "# Common\n",
    "import pandas as pd\n",
    "import numpy as np\n",
    "import os\n",
    "import cv2 as cv\n",
    "from IPython.display import clear_output as cls\n",
    "import json\n",
    "\n",
    "# Data\n",
    "from glob import glob\n",
    "\n",
    "# Data Visuaalization\n",
    "import matplotlib.pyplot as plt\n",
    "import seaborn as sns\n",
    "sns.set()\n",
    "\n",
    "# Model\n"
   ]
  },
  {
   "cell_type": "markdown",
   "metadata": {},
   "source": [
    "### Descriptive analysis of data"
   ]
  },
  {
   "cell_type": "markdown",
   "metadata": {},
   "source": [
    "#### Data concatenation"
   ]
  },
  {
   "cell_type": "code",
   "execution_count": 2,
   "metadata": {},
   "outputs": [
    {
     "data": {
      "text/html": [
       "<div>\n",
       "<style scoped>\n",
       "    .dataframe tbody tr th:only-of-type {\n",
       "        vertical-align: middle;\n",
       "    }\n",
       "\n",
       "    .dataframe tbody tr th {\n",
       "        vertical-align: top;\n",
       "    }\n",
       "\n",
       "    .dataframe thead th {\n",
       "        text-align: right;\n",
       "    }\n",
       "</style>\n",
       "<table border=\"1\" class=\"dataframe\">\n",
       "  <thead>\n",
       "    <tr style=\"text-align: right;\">\n",
       "      <th></th>\n",
       "      <th>img_name</th>\n",
       "      <th>ethnicity</th>\n",
       "    </tr>\n",
       "  </thead>\n",
       "  <tbody>\n",
       "    <tr>\n",
       "      <th>0</th>\n",
       "      <td>Asian_14_84</td>\n",
       "      <td>Asian</td>\n",
       "    </tr>\n",
       "    <tr>\n",
       "      <th>1</th>\n",
       "      <td>Asian_14_19</td>\n",
       "      <td>Asian</td>\n",
       "    </tr>\n",
       "    <tr>\n",
       "      <th>2</th>\n",
       "      <td>Asian_14_33</td>\n",
       "      <td>Asian</td>\n",
       "    </tr>\n",
       "    <tr>\n",
       "      <th>3</th>\n",
       "      <td>Asian_14_6</td>\n",
       "      <td>Asian</td>\n",
       "    </tr>\n",
       "    <tr>\n",
       "      <th>4</th>\n",
       "      <td>Asian_14_12</td>\n",
       "      <td>Asian</td>\n",
       "    </tr>\n",
       "  </tbody>\n",
       "</table>\n",
       "</div>"
      ],
      "text/plain": [
       "      img_name ethnicity\n",
       "0  Asian_14_84     Asian\n",
       "1  Asian_14_19     Asian\n",
       "2  Asian_14_33     Asian\n",
       "3   Asian_14_6     Asian\n",
       "4  Asian_14_12     Asian"
      ]
     },
     "execution_count": 2,
     "metadata": {},
     "output_type": "execute_result"
    }
   ],
   "source": [
    "## Create dataframe\n",
    "\n",
    "# Define the path to the raw data directory\n",
    "raw_data_path = '../data/raw/'\n",
    "\n",
    "# Initialize lists to store image characteristics\n",
    "img_names = []\n",
    "ethnicities = []\n",
    "genders = []\n",
    "ages = []\n",
    "\n",
    "# Iterate through the directories of each ethnicity (e.g., 'Asian')\n",
    "ethnicities_list = os.listdir(raw_data_path + 'YLFW_bench/data_p2')\n",
    "for ethnicity in ethnicities_list:\n",
    "    ethnicity_col = ethnicity.split('_')[0]\n",
    "    ethnicity_dir = os.path.join(raw_data_path + 'YLFW_bench/data_p2', ethnicity)\n",
    "    if os.path.isdir(ethnicity_dir):\n",
    "        # Iterate through image files in the ethnicity directory\n",
    "        for img_name in os.listdir(ethnicity_dir):\n",
    "            # Append image characteristics to lists\n",
    "            img_names.append(img_name[:-4])\n",
    "            ethnicities.append(ethnicity_col)\n",
    "\n",
    "\n",
    "# Create a DataFrame from the lists\n",
    "data = {'img_name': img_names, 'ethnicity': ethnicities}\n",
    "df = pd.DataFrame(data)\n",
    "\n",
    "# Display the DataFrame\n",
    "df.head()\n"
   ]
  },
  {
   "cell_type": "code",
   "execution_count": 3,
   "metadata": {},
   "outputs": [
    {
     "data": {
      "text/html": [
       "<div>\n",
       "<style scoped>\n",
       "    .dataframe tbody tr th:only-of-type {\n",
       "        vertical-align: middle;\n",
       "    }\n",
       "\n",
       "    .dataframe tbody tr th {\n",
       "        vertical-align: top;\n",
       "    }\n",
       "\n",
       "    .dataframe thead th {\n",
       "        text-align: right;\n",
       "    }\n",
       "</style>\n",
       "<table border=\"1\" class=\"dataframe\">\n",
       "  <thead>\n",
       "    <tr style=\"text-align: right;\">\n",
       "      <th></th>\n",
       "      <th>img_name</th>\n",
       "      <th>Age</th>\n",
       "    </tr>\n",
       "  </thead>\n",
       "  <tbody>\n",
       "    <tr>\n",
       "      <th>0</th>\n",
       "      <td>Caucasian_1008_18</td>\n",
       "      <td>8.0</td>\n",
       "    </tr>\n",
       "    <tr>\n",
       "      <th>1</th>\n",
       "      <td>Asian_225_72</td>\n",
       "      <td>11.0</td>\n",
       "    </tr>\n",
       "    <tr>\n",
       "      <th>2</th>\n",
       "      <td>Asian_238_1</td>\n",
       "      <td>3.0</td>\n",
       "    </tr>\n",
       "    <tr>\n",
       "      <th>3</th>\n",
       "      <td>Caucasian_1110_17</td>\n",
       "      <td>4.0</td>\n",
       "    </tr>\n",
       "    <tr>\n",
       "      <th>4</th>\n",
       "      <td>Caucasian_364_12</td>\n",
       "      <td>2.0</td>\n",
       "    </tr>\n",
       "  </tbody>\n",
       "</table>\n",
       "</div>"
      ],
      "text/plain": [
       "            img_name   Age\n",
       "0  Caucasian_1008_18   8.0\n",
       "1       Asian_225_72  11.0\n",
       "2        Asian_238_1   3.0\n",
       "3  Caucasian_1110_17   4.0\n",
       "4   Caucasian_364_12   2.0"
      ]
     },
     "execution_count": 3,
     "metadata": {},
     "output_type": "execute_result"
    }
   ],
   "source": [
    "# Read the JSON file into a JSON variable\n",
    "with open('../data/raw/age_estimation/output_data_precroped_all_age.json', 'r') as file:\n",
    "    json_data = json.load(file)\n",
    "\n",
    "# Convert the JSON data to a DataFrame\n",
    "age_df = pd.DataFrame.from_dict(json_data, orient='index', columns=['Age'])\n",
    "# Convert the 'Age' column to numeric\n",
    "age_df['Age'] = pd.to_numeric(age_df['Age'])\n",
    "age_df.reset_index(inplace=True)\n",
    "age_df.columns = ['img_name', 'Age']\n",
    "\n",
    "age_df.head()\n"
   ]
  },
  {
   "cell_type": "code",
   "execution_count": 4,
   "metadata": {},
   "outputs": [
    {
     "data": {
      "text/html": [
       "<div>\n",
       "<style scoped>\n",
       "    .dataframe tbody tr th:only-of-type {\n",
       "        vertical-align: middle;\n",
       "    }\n",
       "\n",
       "    .dataframe tbody tr th {\n",
       "        vertical-align: top;\n",
       "    }\n",
       "\n",
       "    .dataframe thead th {\n",
       "        text-align: right;\n",
       "    }\n",
       "</style>\n",
       "<table border=\"1\" class=\"dataframe\">\n",
       "  <thead>\n",
       "    <tr style=\"text-align: right;\">\n",
       "      <th></th>\n",
       "      <th>img_name</th>\n",
       "      <th>Age</th>\n",
       "      <th>ethnicity</th>\n",
       "    </tr>\n",
       "  </thead>\n",
       "  <tbody>\n",
       "    <tr>\n",
       "      <th>0</th>\n",
       "      <td>Caucasian_604_4</td>\n",
       "      <td>1.0</td>\n",
       "      <td>Caucasian</td>\n",
       "    </tr>\n",
       "    <tr>\n",
       "      <th>1</th>\n",
       "      <td>Asian_386_43</td>\n",
       "      <td>9.0</td>\n",
       "      <td>Asian</td>\n",
       "    </tr>\n",
       "    <tr>\n",
       "      <th>2</th>\n",
       "      <td>Indian_98_12</td>\n",
       "      <td>4.0</td>\n",
       "      <td>Indian</td>\n",
       "    </tr>\n",
       "    <tr>\n",
       "      <th>3</th>\n",
       "      <td>Asian_386_2</td>\n",
       "      <td>9.0</td>\n",
       "      <td>Asian</td>\n",
       "    </tr>\n",
       "    <tr>\n",
       "      <th>4</th>\n",
       "      <td>Caucasian_204_1</td>\n",
       "      <td>1.0</td>\n",
       "      <td>Caucasian</td>\n",
       "    </tr>\n",
       "  </tbody>\n",
       "</table>\n",
       "</div>"
      ],
      "text/plain": [
       "          img_name  Age  ethnicity\n",
       "0  Caucasian_604_4  1.0  Caucasian\n",
       "1     Asian_386_43  9.0      Asian\n",
       "2     Indian_98_12  4.0     Indian\n",
       "3      Asian_386_2  9.0      Asian\n",
       "4  Caucasian_204_1  1.0  Caucasian"
      ]
     },
     "execution_count": 4,
     "metadata": {},
     "output_type": "execute_result"
    }
   ],
   "source": [
    "# Concatenate dataframes\n",
    "final_df = pd.merge(age_df, df, on='img_name', how='inner')\n",
    "final_df.head()"
   ]
  },
  {
   "cell_type": "code",
   "execution_count": 16,
   "metadata": {},
   "outputs": [
    {
     "data": {
      "text/html": [
       "<div>\n",
       "<style scoped>\n",
       "    .dataframe tbody tr th:only-of-type {\n",
       "        vertical-align: middle;\n",
       "    }\n",
       "\n",
       "    .dataframe tbody tr th {\n",
       "        vertical-align: top;\n",
       "    }\n",
       "\n",
       "    .dataframe thead th {\n",
       "        text-align: right;\n",
       "    }\n",
       "</style>\n",
       "<table border=\"1\" class=\"dataframe\">\n",
       "  <thead>\n",
       "    <tr style=\"text-align: right;\">\n",
       "      <th></th>\n",
       "      <th>img_name</th>\n",
       "      <th>Age</th>\n",
       "      <th>ethnicity</th>\n",
       "      <th>group</th>\n",
       "    </tr>\n",
       "  </thead>\n",
       "  <tbody>\n",
       "    <tr>\n",
       "      <th>9</th>\n",
       "      <td>Asian_386_30</td>\n",
       "      <td>10.0</td>\n",
       "      <td>Asian</td>\n",
       "      <td>10-13</td>\n",
       "    </tr>\n",
       "    <tr>\n",
       "      <th>24</th>\n",
       "      <td>Asian_386_42</td>\n",
       "      <td>10.0</td>\n",
       "      <td>Asian</td>\n",
       "      <td>10-13</td>\n",
       "    </tr>\n",
       "  </tbody>\n",
       "</table>\n",
       "</div>"
      ],
      "text/plain": [
       "        img_name   Age ethnicity  group\n",
       "9   Asian_386_30  10.0     Asian  10-13\n",
       "24  Asian_386_42  10.0     Asian  10-13"
      ]
     },
     "execution_count": 16,
     "metadata": {},
     "output_type": "execute_result"
    }
   ],
   "source": [
    "# Add group column \"group\", where group is defined by ages: 1-4, 4-7,7-10, 10-13, and 13-1\n",
    "# Define the age ranges\n",
    "age_ranges = [1, 4, 7, 10, 13, 100]\n",
    "\n",
    "# Define the labels for the age groups\n",
    "age_labels = ['1-4', '4-7', '7-10', '10-13', '13+']\n",
    "age_df = final_df.copy()\n",
    "# Add the \"group\" column to age_df\n",
    "age_df['group'] = pd.cut(age_df['Age'], bins=age_ranges, labels=age_labels, right=False)\n",
    "\n",
    "# Display the updated DataFrame\n",
    "age_df[age_df.Age == 10].head()\n"
   ]
  },
  {
   "cell_type": "code",
   "execution_count": 5,
   "metadata": {},
   "outputs": [
    {
     "name": "stdout",
     "output_type": "stream",
     "text": [
      "<class 'pandas.core.frame.DataFrame'>\n",
      "RangeIndex: 34 entries, 0 to 33\n",
      "Data columns (total 3 columns):\n",
      " #   Column     Non-Null Count  Dtype  \n",
      "---  ------     --------------  -----  \n",
      " 0   img_name   34 non-null     object \n",
      " 1   Age        34 non-null     float64\n",
      " 2   ethnicity  34 non-null     object \n",
      "dtypes: float64(1), object(2)\n",
      "memory usage: 948.0+ bytes\n",
      "             Age\n",
      "count  34.000000\n",
      "mean    5.558824\n",
      "std     4.300748\n",
      "min     0.000000\n",
      "25%     2.250000\n",
      "50%     4.000000\n",
      "75%     8.750000\n",
      "max    18.000000 None img_name          Age   ethnicity\n",
      "African_0_0       7.0   African      1\n",
      "Caucasian_386_9   2.0   Caucasian    1\n",
      "Caucasian_204_27  5.0   Caucasian    1\n",
      "Caucasian_204_47  4.0   Caucasian    1\n",
      "Caucasian_204_63  5.0   Caucasian    1\n",
      "Caucasian_386_12  4.0   Caucasian    1\n",
      "Caucasian_386_3   2.0   Caucasian    1\n",
      "Caucasian_386_6   4.0   Caucasian    1\n",
      "Caucasian_604_15  1.0   Caucasian    1\n",
      "African_0_1       18.0  African      1\n",
      "Caucasian_604_20  0.0   Caucasian    1\n",
      "Caucasian_604_4   1.0   Caucasian    1\n",
      "Indian_224_0      14.0  Indian       1\n",
      "Indian_80_0       6.0   Indian       1\n",
      "Indian_80_1       5.0   Indian       1\n",
      "Indian_98_12      4.0   Indian       1\n",
      "Caucasian_204_25  1.0   Caucasian    1\n",
      "Caucasian_204_1   1.0   Caucasian    1\n",
      "Asian_386_43      9.0   Asian        1\n",
      "Asian_386_42      10.0  Asian        1\n",
      "Asian_386_40      9.0   Asian        1\n",
      "Asian_386_38      13.0  Asian        1\n",
      "Asian_386_30      10.0  Asian        1\n",
      "Asian_386_3       12.0  Asian        1\n",
      "Asian_386_27      8.0   Asian        1\n",
      "Asian_386_2       9.0   Asian        1\n",
      "Asian_14_84       2.0   Asian        1\n",
      "Asian_14_6        3.0   Asian        1\n",
      "Asian_14_33       3.0   Asian        1\n",
      "Asian_14_19       4.0   Asian        1\n",
      "Asian_14_12       3.0   Asian        1\n",
      "African_1_4       2.0   African      1\n",
      "African_1_11      5.0   African      1\n",
      "Indian_98_7       3.0   Indian       1\n",
      "Name: count, dtype: int64\n"
     ]
    }
   ],
   "source": [
    "print(final_df.describe(), final_df.info(), final_df.value_counts())"
   ]
  },
  {
   "cell_type": "markdown",
   "metadata": {},
   "source": [
    "#### Data distributions\n",
    "(Evt efter age groups)"
   ]
  },
  {
   "cell_type": "code",
   "execution_count": 6,
   "metadata": {},
   "outputs": [
    {
     "data": {
      "image/png": "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",
      "text/plain": [
       "<Figure size 640x480 with 1 Axes>"
      ]
     },
     "metadata": {},
     "output_type": "display_data"
    }
   ],
   "source": [
    "# Define bin edges for each group of 3 years\n",
    "bin_edges = [0, 3, 6, 9, 12, 15, 18]\n",
    "plt.hist(final_df['Age'], bins=bin_edges, color='skyblue')\n",
    "plt.xticks(bin_edges)\n",
    "plt.xlabel('Age groups')\n",
    "plt.ylabel('Frequency')\n",
    "plt.title('Age Distribution')\n",
    "plt.show()\n"
   ]
  },
  {
   "cell_type": "code",
   "execution_count": 7,
   "metadata": {},
   "outputs": [
    {
     "data": {
      "image/png": "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",
      "text/plain": [
       "<Figure size 640x480 with 1 Axes>"
      ]
     },
     "metadata": {},
     "output_type": "display_data"
    }
   ],
   "source": [
    "# Define bin edges for each group of 3 years\n",
    "plt.hist(final_df['ethnicity'], bins=4, color='skyblue')\n",
    "plt.xticks(final_df['ethnicity'])\n",
    "plt.xlabel('Ethnicity')\n",
    "plt.ylabel('Frequency')\n",
    "plt.title('Ethnicity composition')\n",
    "plt.show()\n"
   ]
  },
  {
   "cell_type": "markdown",
   "metadata": {},
   "source": [
    "#### Save df"
   ]
  },
  {
   "cell_type": "code",
   "execution_count": 13,
   "metadata": {},
   "outputs": [],
   "source": [
    "final_df.to_csv('../data/raw/YLFW_bench/raw_ylfw_loaded_df.csv')"
   ]
  },
  {
   "cell_type": "code",
   "execution_count": null,
   "metadata": {},
   "outputs": [],
   "source": []
  }
 ],
 "metadata": {
  "kernelspec": {
   "display_name": "best_master",
   "language": "python",
   "name": "python3"
  },
  "language_info": {
   "codemirror_mode": {
    "name": "ipython",
    "version": 3
   },
   "file_extension": ".py",
   "mimetype": "text/x-python",
   "name": "python",
   "nbconvert_exporter": "python",
   "pygments_lexer": "ipython3",
   "version": "3.11.8"
  }
 },
 "nbformat": 4,
 "nbformat_minor": 2
}
>>>>>>> Stashed changes
