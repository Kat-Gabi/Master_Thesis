{
 "cells": [
  {
   "cell_type": "markdown",
   "metadata": {},
   "source": [
    "## Temporary AdaFace model\n",
    "\n",
    "source: https://github.com/mk-minchul/AdaFace.\n",
    "\n",
    "**Loaded into AdaFace-master folder**\n",
    "\n",
    "Their pre-trained models assumes BGR as input.\n",
    "\n",
    "Different pre-models can be used. We choose ResNet50 trained on WebFace4M. \n",
    "\n",
    "TESTER med ResNet18 on VGGFaceNet2 Dataset. \n"
   ]
  },
  {
   "cell_type": "code",
   "execution_count": 2,
   "metadata": {},
   "outputs": [
    {
     "name": "stdout",
     "output_type": "stream",
     "text": [
      "2.2.1\n"
     ]
    }
   ],
   "source": [
    "import torch\n",
    "print(torch.__version__)\n"
   ]
  },
  {
   "cell_type": "code",
   "execution_count": 1,
   "metadata": {},
   "outputs": [
    {
     "ename": "ModuleNotFoundError",
     "evalue": "No module named 'head'",
     "output_type": "error",
     "traceback": [
      "\u001b[0;31m---------------------------------------------------------------------------\u001b[0m",
      "\u001b[0;31mModuleNotFoundError\u001b[0m                       Traceback (most recent call last)",
      "Cell \u001b[0;32mIn[1], line 1\u001b[0m\n\u001b[0;32m----> 1\u001b[0m \u001b[38;5;28;01mfrom\u001b[39;00m \u001b[38;5;21;01mhead\u001b[39;00m \u001b[38;5;28;01mimport\u001b[39;00m AdaFace\n",
      "\u001b[0;31mModuleNotFoundError\u001b[0m: No module named 'head'"
     ]
    }
   ],
   "source": [
    "from Adaface-master.face_alignment import align\n",
    "from Adaface-master.inference import load_pretrained_model, to_input\n",
    "\n",
    "model = load_pretrained_model('ir_50')\n",
    "path = 'path_to_the_image'\n",
    "aligned_rgb_img = align.get_aligned_face(path)\n",
    "bgr_input = to_input(aligned_rgb_img)\n",
    "feature, _ = model(bgr_input)"
   ]
  },
  {
   "cell_type": "markdown",
   "metadata": {},
   "source": []
  }
 ],
 "metadata": {
  "kernelspec": {
   "display_name": "best_master",
   "language": "python",
   "name": "python3"
  },
  "language_info": {
   "codemirror_mode": {
    "name": "ipython",
    "version": 3
   },
   "file_extension": ".py",
   "mimetype": "text/x-python",
   "name": "python",
   "nbconvert_exporter": "python",
   "pygments_lexer": "ipython3",
   "version": "3.11.8"
  }
 },
 "nbformat": 4,
 "nbformat_minor": 2
}
