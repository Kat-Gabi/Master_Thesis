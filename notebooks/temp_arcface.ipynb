{
 "cells": [
  {
   "cell_type": "markdown",
   "metadata": {},
   "source": [
    "## Temporary ArcFace model\n",
    "\n",
    "source: https://github.com/ronghuaiyang/arcface-pytorch and https://github.com/deepinsight/insightface/tree/master/recognition\n"
   ]
  },
  {
   "cell_type": "markdown",
   "metadata": {},
   "source": []
  }
 ],
 "metadata": {
  "language_info": {
   "name": "python"
  }
 },
 "nbformat": 4,
 "nbformat_minor": 2
}
