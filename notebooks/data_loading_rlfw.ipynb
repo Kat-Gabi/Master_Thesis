{
 "cells": [
  {
   "cell_type": "markdown",
   "metadata": {},
   "source": [
    "## Data loading - RLFW\n",
    "Source: http://whdeng.cn/RFW/testing.html\n",
    "\n",
    "\n",
    "Make suitable for ArcFace and MagFace (112x112) and FaceNet (160x160)"
   ]
  },
  {
   "cell_type": "markdown",
   "metadata": {},
   "source": [
    "### Data folder structure and metadata\n"
   ]
  },
  {
   "cell_type": "code",
   "execution_count": 23,
   "metadata": {},
   "outputs": [],
   "source": [
    "# Load packages\n",
    "\n",
    "# Common\n",
    "import pandas as pd\n",
    "import numpy as np\n",
    "import os\n",
    "import cv2 as cv\n",
    "from IPython.display import clear_output as cls\n",
    "import json\n",
    "\n",
    "# Data\n",
    "from glob import glob\n",
    "\n",
    "# Data Visuaalization\n",
    "import matplotlib.pyplot as plt\n",
    "import seaborn as sns\n",
    "sns.set()\n",
    "\n",
    "# Model\n"
   ]
  },
  {
   "cell_type": "markdown",
   "metadata": {},
   "source": [
    "### Descriptive analysis of data"
   ]
  },
  {
   "cell_type": "markdown",
   "metadata": {},
   "source": [
    "#### Data concatenation"
   ]
  },
  {
   "cell_type": "code",
   "execution_count": 24,
   "metadata": {},
   "outputs": [
    {
     "name": "stdout",
     "output_type": "stream",
     "text": [
      "m.0b_5sd\n",
      "m.0b_1sx\n",
      "m.0_4pw\n",
      "m.0b__qdf\n",
      ".DS_Store\n",
      "m.0b_r3x\n",
      "m.0b__05j\n",
      "m.0b__9tq\n",
      "m.0b_vd5\n",
      "m.0b_c03\n",
      "m.0b_dt6\n",
      "m.0b0h05\n",
      "m.0b_lsx\n",
      "47\n"
     ]
    },
    {
     "data": {
      "text/html": [
       "<div>\n",
       "<style scoped>\n",
       "    .dataframe tbody tr th:only-of-type {\n",
       "        vertical-align: middle;\n",
       "    }\n",
       "\n",
       "    .dataframe tbody tr th {\n",
       "        vertical-align: top;\n",
       "    }\n",
       "\n",
       "    .dataframe thead th {\n",
       "        text-align: right;\n",
       "    }\n",
       "</style>\n",
       "<table border=\"1\" class=\"dataframe\">\n",
       "  <thead>\n",
       "    <tr style=\"text-align: right;\">\n",
       "      <th></th>\n",
       "      <th>img_name</th>\n",
       "      <th>ethnicity</th>\n",
       "      <th>id_class</th>\n",
       "      <th>face_id</th>\n",
       "    </tr>\n",
       "  </thead>\n",
       "  <tbody>\n",
       "    <tr>\n",
       "      <th>0</th>\n",
       "      <td>m.0b_5sd</td>\n",
       "      <td>Indian</td>\n",
       "      <td>0b_5sd</td>\n",
       "      <td>0002</td>\n",
       "    </tr>\n",
       "    <tr>\n",
       "      <th>1</th>\n",
       "      <td>m.0b_5sd</td>\n",
       "      <td>Indian</td>\n",
       "      <td>0b_5sd</td>\n",
       "      <td>0003</td>\n",
       "    </tr>\n",
       "    <tr>\n",
       "      <th>2</th>\n",
       "      <td>m.0b_5sd</td>\n",
       "      <td>Indian</td>\n",
       "      <td>0b_5sd</td>\n",
       "      <td>0001</td>\n",
       "    </tr>\n",
       "    <tr>\n",
       "      <th>3</th>\n",
       "      <td>m.0b_1sx</td>\n",
       "      <td>Indian</td>\n",
       "      <td>0b_1sx</td>\n",
       "      <td>0001</td>\n",
       "    </tr>\n",
       "    <tr>\n",
       "      <th>4</th>\n",
       "      <td>m.0b_1sx</td>\n",
       "      <td>Indian</td>\n",
       "      <td>0b_1sx</td>\n",
       "      <td>0003</td>\n",
       "    </tr>\n",
       "  </tbody>\n",
       "</table>\n",
       "</div>"
      ],
      "text/plain": [
       "   img_name ethnicity id_class face_id\n",
       "0  m.0b_5sd    Indian   0b_5sd    0002\n",
       "1  m.0b_5sd    Indian   0b_5sd    0003\n",
       "2  m.0b_5sd    Indian   0b_5sd    0001\n",
       "3  m.0b_1sx    Indian   0b_1sx    0001\n",
       "4  m.0b_1sx    Indian   0b_1sx    0003"
      ]
     },
     "execution_count": 24,
     "metadata": {},
     "output_type": "execute_result"
    }
   ],
   "source": [
    "## Create dataframe\n",
    "\n",
    "# Define the path to the raw data directory\n",
    "raw_data_path = '../data/raw/'\n",
    "\n",
    "# Initialize lists to store image characteristics\n",
    "img_names = []\n",
    "ethnicities = []\n",
    "face_ids = []\n",
    "id_class = []\n",
    "\n",
    "# Iterate through the directories of each ethnicity (e.g., 'Asian')\n",
    "ethnicities_list = os.listdir(raw_data_path + 'RLFW_mini/data')\n",
    "for ethnicity in ethnicities_list:\n",
    "    ethnicity_dir = os.path.join(raw_data_path + 'RLFW_mini/data', ethnicity)\n",
    "    if os.path.isdir(ethnicity_dir): # indside dir\n",
    "        id_list = os.listdir(ethnicity_dir) # get ids\n",
    "        for id_name in id_list:\n",
    "            id = id_name.split('.')[1]\n",
    "            print(id_name)\n",
    "\n",
    "            ids_dir = os.path.join(ethnicity_dir, id_name)\n",
    "            if os.path.isdir(ids_dir):\n",
    "                for img_name in os.listdir(ids_dir):\n",
    "                    if img_name.endswith('.jpg'):\n",
    "                        # Extract information from image filename\n",
    "                        image_name = os.path.splitext(img_name)[0]\n",
    "                        image_info = image_name.split('_')\n",
    "                        image_id = image_info[-1]\n",
    "\n",
    "                        # Append image characteristics to lists\n",
    "                        img_names.append(id_name)\n",
    "                        ethnicities.append(ethnicity)\n",
    "                        face_ids.append(image_id)\n",
    "                        id_class.append(id)\n",
    "\n",
    "                        \n",
    "\n",
    "# Create a DataFrame from the lists\n",
    "data = {'img_name': img_names, 'ethnicity': ethnicities, 'id_class':id_class, 'face_id': face_ids}\n",
    "df = pd.DataFrame(data)\n",
    "\n",
    "# Display the DataFrame\n",
    "print(len(df))\n",
    "df.head()\n"
   ]
  },
  {
   "cell_type": "code",
   "execution_count": 25,
   "metadata": {},
   "outputs": [],
   "source": [
    "raw_data_path = '../data/raw/'\n",
    "data_list = []\n",
    "\n",
    "for ethnicity_age in os.listdir(raw_data_path + 'RLFW_mini'):\n",
    "    if ethnicity_age.endswith('.json'):\n",
    "        with open(raw_data_path + 'RLFW_mini/'+ethnicity_age, 'r') as file:\n",
    "            json_data = json.load(file)\n",
    "            data_list.append(json_data)\n",
    "\n",
    "# Convert the JSON data to a DataFrame\n",
    "age_df = pd.DataFrame.from_dict(json_data, orient='index', columns=['Age'])\n",
    "# Convert the 'Age' column to numeric\n",
    "age_df['Age'] = pd.to_numeric(age_df['Age'])\n",
    "age_df.reset_index(inplace=True)\n",
    "age_df.columns = ['img_name', 'Age']\n"
   ]
  },
  {
   "cell_type": "code",
   "execution_count": 26,
   "metadata": {},
   "outputs": [],
   "source": [
    "age_df.img_name = age_df.img_name.apply(lambda x: x.split('_')[0])"
   ]
  },
  {
   "cell_type": "code",
   "execution_count": 27,
   "metadata": {},
   "outputs": [
    {
     "data": {
      "text/html": [
       "<div>\n",
       "<style scoped>\n",
       "    .dataframe tbody tr th:only-of-type {\n",
       "        vertical-align: middle;\n",
       "    }\n",
       "\n",
       "    .dataframe tbody tr th {\n",
       "        vertical-align: top;\n",
       "    }\n",
       "\n",
       "    .dataframe thead th {\n",
       "        text-align: right;\n",
       "    }\n",
       "</style>\n",
       "<table border=\"1\" class=\"dataframe\">\n",
       "  <thead>\n",
       "    <tr style=\"text-align: right;\">\n",
       "      <th></th>\n",
       "      <th>img_name</th>\n",
       "      <th>Age</th>\n",
       "      <th>ethnicity</th>\n",
       "      <th>id_class</th>\n",
       "      <th>face_id</th>\n",
       "    </tr>\n",
       "  </thead>\n",
       "  <tbody>\n",
       "    <tr>\n",
       "      <th>0</th>\n",
       "      <td>m.0b0h05</td>\n",
       "      <td>45.0</td>\n",
       "      <td>Asian</td>\n",
       "      <td>0b0h05</td>\n",
       "      <td>0002</td>\n",
       "    </tr>\n",
       "    <tr>\n",
       "      <th>1</th>\n",
       "      <td>m.0b0h05</td>\n",
       "      <td>45.0</td>\n",
       "      <td>Asian</td>\n",
       "      <td>0b0h05</td>\n",
       "      <td>0003</td>\n",
       "    </tr>\n",
       "    <tr>\n",
       "      <th>2</th>\n",
       "      <td>m.0b0h05</td>\n",
       "      <td>45.0</td>\n",
       "      <td>Asian</td>\n",
       "      <td>0b0h05</td>\n",
       "      <td>0001</td>\n",
       "    </tr>\n",
       "    <tr>\n",
       "      <th>3</th>\n",
       "      <td>m.0b0h05</td>\n",
       "      <td>47.0</td>\n",
       "      <td>Asian</td>\n",
       "      <td>0b0h05</td>\n",
       "      <td>0002</td>\n",
       "    </tr>\n",
       "    <tr>\n",
       "      <th>4</th>\n",
       "      <td>m.0b0h05</td>\n",
       "      <td>47.0</td>\n",
       "      <td>Asian</td>\n",
       "      <td>0b0h05</td>\n",
       "      <td>0003</td>\n",
       "    </tr>\n",
       "  </tbody>\n",
       "</table>\n",
       "</div>"
      ],
      "text/plain": [
       "   img_name   Age ethnicity id_class face_id\n",
       "0  m.0b0h05  45.0     Asian   0b0h05    0002\n",
       "1  m.0b0h05  45.0     Asian   0b0h05    0003\n",
       "2  m.0b0h05  45.0     Asian   0b0h05    0001\n",
       "3  m.0b0h05  47.0     Asian   0b0h05    0002\n",
       "4  m.0b0h05  47.0     Asian   0b0h05    0003"
      ]
     },
     "execution_count": 27,
     "metadata": {},
     "output_type": "execute_result"
    }
   ],
   "source": [
    "# Concatenate dataframes\n",
    "final_df = pd.merge(age_df, df, on='img_name', how='inner')\n",
    "final_df.head()"
   ]
  },
  {
   "cell_type": "code",
   "execution_count": 28,
   "metadata": {},
   "outputs": [],
   "source": [
    "# Ensure 'Age' is of type integer\n",
    "final_df['Age'] = final_df['Age'].astype(int)\n",
    "\n",
    "# Define the age groups and corresponding labels\n",
    "age_bins = [0, 4, 7, 10, 13, 16, 19]  # adding one more bin for 16-18\n",
    "age_labels = ['0-3', '4-6', '7-9', '10-12', '13-15', '16-18']\n",
    "\n",
    "# Update the DataFrame with age groupings\n",
    "final_df['children_agegroup'] = pd.cut(final_df['Age'], bins=age_bins, labels=age_labels, right=False)\n"
   ]
  },
  {
   "cell_type": "code",
   "execution_count": 29,
   "metadata": {},
   "outputs": [
    {
     "data": {
      "text/plain": [
       "9"
      ]
     },
     "execution_count": 29,
     "metadata": {},
     "output_type": "execute_result"
    }
   ],
   "source": [
    "len(final_df)"
   ]
  },
  {
   "cell_type": "markdown",
   "metadata": {},
   "source": [
    "#### Data distributions\n",
    "(Evt efter age groups)"
   ]
  },
  {
   "cell_type": "code",
   "execution_count": 30,
   "metadata": {},
   "outputs": [
    {
     "data": {
      "image/png": "[encoded data removed]",
      "text/plain": [
       "<Figure size 640x480 with 1 Axes>"
      ]
     },
     "metadata": {},
     "output_type": "display_data"
    }
   ],
   "source": [
    "# Define bin edges for each group of 3 years\n",
    "plt.hist(age_df['Age'], bins=50, color='skyblue')\n",
    "plt.xlabel('Age groups')\n",
    "plt.ylabel('Frequency')\n",
    "plt.title('Age Distribution')\n",
    "plt.show()\n"
   ]
  },
  {
   "cell_type": "markdown",
   "metadata": {},
   "source": [
    "#### Save df"
   ]
  },
  {
   "cell_type": "code",
   "execution_count": 34,
   "metadata": {},
   "outputs": [],
   "source": [
    "final_df[\"im_id\"] = final_df[\"id_class\"]\n",
    "final_df.to_csv('../data/raw/RLFW_mini/raw_rfw_df.csv', index=False)"
   ]
  },
  {
   "cell_type": "code",
   "execution_count": null,
   "metadata": {},
   "outputs": [],
   "source": []
  }
 ],
 "metadata": {
  "kernelspec": {
   "display_name": "best_master",
   "language": "python",
   "name": "python3"
  },
  "language_info": {
   "codemirror_mode": {
    "name": "ipython",
    "version": 3
   },
   "file_extension": ".py",
   "mimetype": "text/x-python",
   "name": "python",
   "nbconvert_exporter": "python",
   "pygments_lexer": "ipython3",
   "version": "3.11.8"
  }
 },
 "nbformat": 4,
 "nbformat_minor": 2
}
