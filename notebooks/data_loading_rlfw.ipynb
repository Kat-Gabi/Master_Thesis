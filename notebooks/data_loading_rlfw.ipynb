{
 "cells": [
  {
   "cell_type": "markdown",
   "metadata": {},
   "source": [
    "## Data loading - RLFW\n",
    "Source: http://whdeng.cn/RFW/testing.html\n",
    "\n",
    "\n",
    "Make suitable for ArcFace and MagFace (112x112) and FaceNet (160x160)"
   ]
  },
  {
   "cell_type": "markdown",
   "metadata": {},
   "source": [
    "### Data folder structure and metadata\n"
   ]
  },
  {
   "cell_type": "code",
   "execution_count": 1,
   "metadata": {},
   "outputs": [],
   "source": [
    "# Load packages\n",
    "\n",
    "# Common\n",
    "import pandas as pd\n",
    "import numpy as np\n",
    "import os\n",
    "import cv2 as cv\n",
    "from IPython.display import clear_output as cls\n",
    "import json\n",
    "\n",
    "# Data \n",
    "from glob import glob\n",
    "\n",
    "# Data Visuaalization\n",
    "import matplotlib.pyplot as plt\n",
    "import seaborn as sns\n",
    "sns.set()\n",
    "\n",
    "# Model\n",
    "\n"
   ]
  },
  {
   "cell_type": "markdown",
   "metadata": {},
   "source": [
    "### Descriptive analysis of data"
   ]
  },
  {
   "cell_type": "markdown",
   "metadata": {},
   "source": [
    "#### Data concatenation"
   ]
  },
  {
   "cell_type": "code",
   "execution_count": 6,
   "metadata": {},
   "outputs": [
    {
     "data": {
      "text/html": [
       "<div>\n",
       "<style scoped>\n",
       "    .dataframe tbody tr th:only-of-type {\n",
       "        vertical-align: middle;\n",
       "    }\n",
       "\n",
       "    .dataframe tbody tr th {\n",
       "        vertical-align: top;\n",
       "    }\n",
       "\n",
       "    .dataframe thead th {\n",
       "        text-align: right;\n",
       "    }\n",
       "</style>\n",
       "<table border=\"1\" class=\"dataframe\">\n",
       "  <thead>\n",
       "    <tr style=\"text-align: right;\">\n",
       "      <th></th>\n",
       "      <th>img_name</th>\n",
       "      <th>ethnicity</th>\n",
       "      <th>face_id</th>\n",
       "    </tr>\n",
       "  </thead>\n",
       "  <tbody>\n",
       "    <tr>\n",
       "      <th>0</th>\n",
       "      <td>m.0b_5sd</td>\n",
       "      <td>Indian</td>\n",
       "      <td>0002</td>\n",
       "    </tr>\n",
       "    <tr>\n",
       "      <th>1</th>\n",
       "      <td>m.0b_5sd</td>\n",
       "      <td>Indian</td>\n",
       "      <td>0003</td>\n",
       "    </tr>\n",
       "    <tr>\n",
       "      <th>2</th>\n",
       "      <td>m.0b_5sd</td>\n",
       "      <td>Indian</td>\n",
       "      <td>0001</td>\n",
       "    </tr>\n",
       "    <tr>\n",
       "      <th>3</th>\n",
       "      <td>m.0b_1sx</td>\n",
       "      <td>Indian</td>\n",
       "      <td>0001</td>\n",
       "    </tr>\n",
       "    <tr>\n",
       "      <th>4</th>\n",
       "      <td>m.0b_1sx</td>\n",
       "      <td>Indian</td>\n",
       "      <td>0003</td>\n",
       "    </tr>\n",
       "  </tbody>\n",
       "</table>\n",
       "</div>"
      ],
      "text/plain": [
       "   img_name ethnicity face_id\n",
       "0  m.0b_5sd    Indian    0002\n",
       "1  m.0b_5sd    Indian    0003\n",
       "2  m.0b_5sd    Indian    0001\n",
       "3  m.0b_1sx    Indian    0001\n",
       "4  m.0b_1sx    Indian    0003"
      ]
     },
     "execution_count": 6,
     "metadata": {},
     "output_type": "execute_result"
    }
   ],
   "source": [
    "## Create dataframe \n",
    "\n",
    "# Define the path to the raw data directory\n",
    "raw_data_path = '../data/raw/'\n",
    "\n",
    "# Initialize lists to store image characteristics\n",
    "img_names = []\n",
    "ethnicities = []\n",
    "face_ids = []\n",
    "\n",
    "# Iterate through the directories of each ethnicity (e.g., 'Asian')\n",
    "ethnicities_list = os.listdir(raw_data_path + 'RLFW_mini/data')\n",
    "for ethnicity in ethnicities_list:\n",
    "    ethnicity_dir = os.path.join(raw_data_path + 'RLFW_mini/data', ethnicity)\n",
    "    if os.path.isdir(ethnicity_dir): # indside dir\n",
    "        id_list = os.listdir(ethnicity_dir) # get ids\n",
    "        for id_name in id_list: \n",
    "            ids_dir = os.path.join(ethnicity_dir, id_name)\n",
    "            if os.path.isdir(ids_dir):\n",
    "                for img_name in os.listdir(ids_dir):\n",
    "                    if img_name.endswith('.jpg'):       \n",
    "                        # Extract information from image filename\n",
    "                        image_name = os.path.splitext(img_name)[0]\n",
    "                        image_info = image_name.split('_')\n",
    "                        image_id = image_info[-1]\n",
    "\n",
    "                        # Append image characteristics to lists\n",
    "                        img_names.append(id_name)\n",
    "                        ethnicities.append(ethnicity)\n",
    "                        face_ids.append(image_id)\n",
    "\n",
    "# Create a DataFrame from the lists\n",
    "data = {'img_name': img_names, 'ethnicity': ethnicities, 'face_id': face_ids}\n",
    "df = pd.DataFrame(data)\n",
    "\n",
    "# Display the DataFrame\n",
    "df.head()\n"
   ]
  },
  {
   "cell_type": "code",
   "execution_count": null,
   "metadata": {},
   "outputs": [],
   "source": [
    "# Read the JSON file into a JSON variable\n",
    "with open('../data/raw/age_estimation/output_data_precroped_all_age.json', 'r') as file:\n",
    "    json_data = json.load(file)\n",
    "    \n",
    "# Convert the JSON data to a DataFrame\n",
    "age_df = pd.DataFrame.from_dict(json_data, orient='index', columns=['Age'])\n",
    "# Convert the 'Age' column to numeric\n",
    "age_df['Age'] = pd.to_numeric(age_df['Age'])\n",
    "age_df.reset_index(inplace=True)\n",
    "age_df.columns = ['img_name', 'Age']\n",
    "\n",
    "age_df.head()"
   ]
  },
  {
   "cell_type": "code",
   "execution_count": null,
   "metadata": {},
   "outputs": [],
   "source": [
    "# Concatenate dataframes\n",
    "final_df = pd.merge(age_df, df, on='img_name', how='inner')\n",
    "final_df.head()"
   ]
  },
  {
   "cell_type": "markdown",
   "metadata": {},
   "source": [
    "#### Data distributions\n",
    "(Evt efter age groups)"
   ]
  },
  {
   "cell_type": "code",
   "execution_count": 5,
   "metadata": {},
   "outputs": [
    {
     "data": {
      "image/png": "[encoded data removed]",
      "text/plain": [
       "<Figure size 640x480 with 1 Axes>"
      ]
     },
     "metadata": {},
     "output_type": "display_data"
    }
   ],
   "source": [
    "# Define bin edges for each group of 3 years\n",
    "plt.hist(age_df['Age'], bins=50, color='skyblue')\n",
    "plt.xlabel('Age groups')\n",
    "plt.ylabel('Frequency')\n",
    "plt.title('Age Distribution')\n",
    "plt.show()\n",
    "\n"
   ]
  },
  {
   "cell_type": "code",
   "execution_count": null,
   "metadata": {},
   "outputs": [],
   "source": []
  }
 ],
 "metadata": {
  "kernelspec": {
   "display_name": "best_master",
   "language": "python",
   "name": "python3"
  },
  "language_info": {
   "codemirror_mode": {
    "name": "ipython",
    "version": 3
   },
   "file_extension": ".py",
   "mimetype": "text/x-python",
   "name": "python",
   "nbconvert_exporter": "python",
   "pygments_lexer": "ipython3",
   "version": "3.11.8"
  }
 },
 "nbformat": 4,
 "nbformat_minor": 2
}
