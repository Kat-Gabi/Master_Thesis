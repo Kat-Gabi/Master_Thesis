{
 "cells": [
  {
   "cell_type": "markdown",
   "metadata": {},
   "source": [
    "## Results metrics\n",
    "\n",
    "A threshold \"T\" is used to classify a test case to be either a correct (true or positive) case or false (negative) case. If the case is below a threshold \"T\" then it is classified false (negative) and if it is above threshold \"T\" it is classified true (positive).\n",
    "\n",
    "**FPIR**: is the false positive identification rate. It is the ratio of the test cases that are classified as true cases although they are false cases. It is type I error. \n",
    "FPIR= Number of test cases classified above threshold \"T\" (true) / Number of all test cases\n",
    "\n",
    "**FNIR**: is the false negative identification rate. It is  the ratio of the test cases that are classified as false cases although they are true cases. It is type II error.\n",
    "FNIR= Number of test cases classified below threshold \"T\" (false) / Number of all test cases"
   ]
  },
  {
   "cell_type": "code",
   "execution_count": 242,
   "metadata": {},
   "outputs": [],
   "source": [
    "# Load libraries\n",
    "import numpy as np\n",
    "import cv2\n",
    "from matplotlib import pyplot as plt\n",
    "import torch\n",
    "import seaborn as sns\n",
    "import pandas as pd\n",
    "sns.set(style=\"white\") \n",
    "%matplotlib inline"
   ]
  },
  {
   "cell_type": "markdown",
   "metadata": {},
   "source": [
    "## MagFace Results"
   ]
  },
  {
   "cell_type": "markdown",
   "metadata": {},
   "source": [
    "**False Negatives**\n",
    "FNIR represent the proportion of feature vectors that belong to a certain class but are incorrectly classified as not belonging to that class."
   ]
  },
  {
   "cell_type": "markdown",
   "metadata": {},
   "source": [
    "##### Load data - children"
   ]
  },
  {
   "cell_type": "code",
   "execution_count": 243,
   "metadata": {},
   "outputs": [],
   "source": [
    "# Children feature vectors\n",
    "with open('../data/feat_children.list', 'r') as f:\n",
    "    lines = f.readlines()\n"
   ]
  },
  {
   "cell_type": "code",
   "execution_count": 244,
   "metadata": {},
   "outputs": [],
   "source": [
    "img_2_feats = {}\n",
    "img_2_mag = {}\n",
    "# Convert to dictionary as adaface - is done in img_2_feats\n",
    "for line in lines:\n",
    "    parts = line.strip().split(' ')\n",
    "    imgname = parts[0]\n",
    "    imgname = \"/\"+\"/\".join(imgname.split(\"/\")[4:])\n",
    "    feats = [float(e) for e in parts[1:]]\n",
    "    mag = np.linalg.norm(feats)\n",
    "    img_2_feats[imgname] = feats/mag\n",
    "    img_2_mag[imgname] = mag #magnitude of the feature vector"
   ]
  },
  {
   "cell_type": "code",
   "execution_count": 245,
   "metadata": {},
   "outputs": [],
   "source": [
    "imgnames = list(img_2_mag.keys())\n",
    "mags = [img_2_mag[imgname] for imgname in imgnames]\n",
    "sort_idx = np.argsort(mags) #sorts the magnitude/quality of the images"
   ]
  },
  {
   "cell_type": "code",
   "execution_count": 246,
   "metadata": {},
   "outputs": [
    {
     "data": {
      "text/plain": [
       "3306"
      ]
     },
     "execution_count": 246,
     "metadata": {},
     "output_type": "execute_result"
    }
   ],
   "source": [
    "len(lines)"
   ]
  },
  {
   "cell_type": "code",
   "execution_count": 247,
   "metadata": {},
   "outputs": [],
   "source": [
    "# For all Ids, get last id name and convert to unique ids\n",
    "def convert_unique_ids(ids):\n",
    "    unique_ids_list = []\n",
    "    for id in ids:\n",
    "        im_id = id.split(\"/\")[-1][:-4]\n",
    "        if '.' in im_id:\n",
    "            un_id = im_id.split(\"_\")[0]\n",
    "        else:\n",
    "            un_id = '_'.join(im_id.split(\"_\")[:-1])\n",
    "            \n",
    "        unique_ids_list.append(un_id)\n",
    "    return unique_ids_list\n",
    "        "
   ]
  },
  {
   "cell_type": "code",
   "execution_count": 248,
   "metadata": {},
   "outputs": [],
   "source": [
    "#feats = np.array([img_2_feats[imgnames[ele]] for ele in sort_idx[:10]])\n",
    "#feats = np.array([img_2_feats[imgnames[ele]] for ele in range(10)]) #unsorted image quality\n",
    "#ids = np.array([imgnames[ele] for ele in range(10)])\n",
    "\n",
    "feats = np.array([img_2_feats[imgnames[ele]] for ele in range(len(lines))]) #unsorted image quality\n",
    "ids = np.array([imgnames[ele] for ele in range(len(lines))])\n",
    "\n",
    "sim_mat = np.dot(feats, feats.T)"
   ]
  },
  {
   "cell_type": "code",
   "execution_count": 249,
   "metadata": {},
   "outputs": [
    {
     "data": {
      "text/plain": [
       "array(['/data/raw_full/children/children/Indian_682/Indian_682_8.png',\n",
       "       '/data/raw_full/children/children/Indian_682/Indian_682_34.png',\n",
       "       '/data/raw_full/children/children/Indian_682/Indian_682_32.png',\n",
       "       ..., '/data/raw_full/children/children/Asian_386/Asian_386_38.png',\n",
       "       '/data/raw_full/children/children/African_32/African_32_0.png',\n",
       "       '/data/raw_full/children/children/African_32/African_32_3.png'],\n",
       "      dtype='<U71')"
      ]
     },
     "execution_count": 249,
     "metadata": {},
     "output_type": "execute_result"
    }
   ],
   "source": [
    "ids"
   ]
  },
  {
   "cell_type": "code",
   "execution_count": 250,
   "metadata": {},
   "outputs": [
    {
     "name": "stdout",
     "output_type": "stream",
     "text": [
      "Factorized list: [0, 0, 0, 1, 2, 2, 3, 4, 4, 5]\n",
      "Unique IDs mapping: {'Indian_682': 0, 'Asian_119': 1, 'Asian_504': 2, 'Caucasian_73': 3, 'Caucasian_249': 4, 'm.01w1069': 5, 'Caucasian_363': 6, 'm.05n': 7, 'Asian_185': 8, 'African_713': 9, 'Indian_702': 10, 'African_627': 11, 'm.06ljz3': 12, 'African_433': 13, 'm.03vq05': 14, 'African_265': 15, 'Asian_59': 16, 'African_415': 17, 'African_274': 18, 'Indian_458': 19, 'Caucasian_244': 20, 'm.0j259dq': 21, 'African_571': 22, 'African_246': 23, 'African_743': 24, 'African_486': 25, 'Asian_137': 26, 'm.04gh78q': 27, 'Indian_711': 28, 'Asian_672': 29, 'Indian_115': 30, 'Asian_638': 31, 'Indian_267': 32, 'African_665': 33, 'Indian_474': 34, 'African_767': 35, 'Indian_346': 36, 'Caucasian_1323': 37, 'Indian_442': 38, 'Indian_676': 39, 'Asian_420': 40, 'African_305': 41, 'Indian_616': 42, 'm.04y7f4r': 43, 'm.0d5060': 44, 'Indian_484': 45, 'm.05sxmf7': 46, 'm.0gcslnm': 47, 'm.05t2cs': 48, 'Asian_663': 49, 'Indian_635': 50, 'Caucasian_167': 51, 'Indian_532': 52, 'Caucasian_245': 53, 'Indian_603': 54, 'm.0bbtgy9': 55, 'African_301': 56, 'Asian_9': 57, 'Indian_385': 58, 'Indian_630': 59, 'm.03qcd6h': 60, 'Indian_286': 61, 'Indian_375': 62, 'm.01kdft': 63, 'Indian_665': 64, 'Asian_67': 65, 'Indian_485': 66, 'African_338': 67, 'African_267': 68, 'Indian_517': 69, 'African_201': 70, 'm.0cz9s7m': 71, 'African_194': 72, 'African_428': 73, 'Caucasian_1077': 74, 'African_251': 75, 'African_41': 76, 'Asian_60': 77, 'Indian_549': 78, 'Asian_83': 79, 'Caucasian_1007': 80, 'African_178': 81, 'Indian_57': 82, 'Caucasian_1355': 83, 'Asian_207': 84, 'Indian_110': 85, 'm.0g5t3dq': 86, 'African_488': 87, 'Asian_424': 88, 'Caucasian_367': 89, 'Caucasian_449': 90, 'Asian_69': 91, 'Indian_64': 92, 'Indian_695': 93, 'Indian_620': 94, 'Indian_50': 95, 'Asian_79': 96, 'Indian_529': 97, 'African_675': 98, 'm.0lq5svr': 99, 'Caucasian_57': 100, 'Asian_485': 101, 'African_367': 102, 'Caucasian_1354': 103, 'm.0gy1': 104, 'Caucasian_1163': 105, 'Caucasian_483': 106, 'Caucasian_1123': 107, 'African_630': 108, 'Asian_586': 109, 'African_270': 110, 'Indian_123': 111, 'Asian_496': 112, 'African_357': 113, 'Asian_313': 114, 'Asian_257': 115, 'Asian_22': 116, 'Caucasian_178': 117, 'Indian_87': 118, 'African_649': 119, 'African_757': 120, 'Indian_460': 121, 'Asian_64': 122, 'Asian_216': 123, 'Indian_623': 124, 'African_569': 125, 'Caucasian_234': 126, 'm.0lz2n': 127, 'African_308': 128, 'm.0c3v046': 129, 'African_420': 130, 'Asian_734': 131, 'Caucasian_574': 132, 'm.0cz84c8': 133, 'Caucasian_444': 134, 'Caucasian_522': 135, 'Caucasian_537': 136, 'African_148': 137, 'm.04k4g8': 138, 'Caucasian_301': 139, 'Asian_133': 140, 'Indian_5': 141, 'Caucasian_604': 142, 'African_280': 143, 'Asian_302': 144, 'African_782': 145, 'Caucasian_1173': 146, 'African_252': 147, 'African_424': 148, 'African_820': 149, 'm.02t': 150, 'Indian_516': 151, 'Indian_132': 152, 'Indian_426': 153, 'African_401': 154, 'Asian_41': 155, 'African_628': 156, 'Indian_689': 157, 'African_286': 158, 'Asian_475': 159, 'African_507': 160, 'Caucasian_162': 161, 'Asian_735': 162, 'African_822': 163, 'Indian_643': 164, 'm.04gq5mw': 165, 'Indian_119': 166, 'Asian_611': 167, 'Caucasian_590': 168, 'African_579': 169, 'African_241': 170, 'Asian_204': 171, 'African_806': 172, 'Indian_293': 173, 'African_175': 174, 'Indian_277': 175, 'Indian_275': 176, 'Caucasian_357': 177, 'm.0hgprs2': 178, 'Caucasian_129': 179, 'Caucasian_432': 180, 'African_290': 181, 'African_612': 182, 'Indian_53': 183, 'm.0b61': 184, 'm.0h55': 185, 'African_397': 186, 'African_284': 187, 'm.05b4s6j': 188, 'Indian_117': 189, 'm.05mzg5y': 190, 'Caucasian_560': 191, 'Indian_513': 192, 'African_306': 193, 'African_366': 194, 'Asian_130': 195, 'Caucasian_37': 196, 'm.05zkm68': 197, 'African_642': 198, 'African_313': 199, 'Indian_17': 200, 'African_556': 201, 'African_60': 202, 'Caucasian_431': 203, 'Caucasian_399': 204, 'Caucasian_397': 205, 'Caucasian_1274': 206, 'African_635': 207, 'African_314': 208, 'Asian_551': 209, 'm.09': 210, 'Indian_428': 211, 'Caucasian_1364': 212, 'African_206': 213, 'm.0ks6hg': 214, 'Indian_392': 215, 'Indian_599': 216, 'm.0crgm59': 217, 'African_167': 218, 'Indian_483': 219, 'African_303': 220, 'm.0374vb': 221, 'Indian_209': 222, 'Caucasian_484': 223, 'm.0bzync': 224, 'm.0h': 225, 'African_510': 226, 'Indian_538': 227, 'm.03d9sf': 228, 'Indian_232': 229, 'Indian_598': 230, 'African_195': 231, 'Asian_304': 232, 'Caucasian_33': 233, 'African_769': 234, 'Indian_679': 235, 'Caucasian_1278': 236, 'm.051yv36': 237, 'African_746': 238, 'm.02z35g0': 239, 'Caucasian_1064': 240, 'm.0ddf3sx': 241, 'Caucasian_1214': 242, 'm.0g577f5': 243, 'Caucasian_126': 244, 'Caucasian_418': 245, 'Indian_355': 246, 'Asian_62': 247, 'm.02knyq': 248, 'm.0jfgrjr': 249, 'm.04wd3l': 250, 'Caucasian_119': 251, 'm.0gh79sg': 252, 'African_114': 253, 'African_734': 254, 'Indian_556': 255, 'African_318': 256, 'Indian_165': 257, 'Asian_12': 258, 'Indian_597': 259, 'm.02z7z7t': 260, 'African_222': 261, 'm.04d': 262, 'Asian_320': 263, 'Caucasian_66': 264, 'Indian_276': 265, 'Asian_696': 266, 'm.01nmf8f': 267, 'Asian_604': 268, 'African_632': 269, 'Indian_650': 270, 'African_277': 271, 'Caucasian_31': 272, 'Caucasian_285': 273, 'Caucasian_179': 274, 'Caucasian_1199': 275, 'Indian_269': 276, 'African_830': 277, 'Asian_88': 278, 'Asian_144': 279, 'Caucasian_335': 280, 'Asian_179': 281, 'Asian_630': 282, 'm.02664bd': 283, 'Indian_638': 284, 'Indian_30': 285, 'Indian_637': 286, 'Indian_0': 287, 'Indian_175': 288, 'm.051t72': 289, 'Caucasian_500': 290, 'Caucasian_121': 291, 'Indian_589': 292, 'African_492': 293, 'm.02vgny': 294, 'African_602': 295, 'm.080d3c2': 296, 'Caucasian_294': 297, 'Caucasian_287': 298, 'Indian_454': 299, 'Indian_693': 300, 'African_92': 301, 'African_352': 302, 'm.04wwtz': 303, 'Asian_221': 304, 'Caucasian_1259': 305, 'Indian_568': 306, 'Caucasian_1006': 307, 'African_325': 308, 'African_279': 309, 'Caucasian_1408': 310, 'Caucasian_326': 311, 'Indian_633': 312, 'Indian_116': 313, 'Asian_521': 314, 'Asian_190': 315, 'Asian_175': 316, 'African_552': 317, 'Asian_24': 318, 'Indian_511': 319, 'Indian_142': 320, 'African_534': 321, 'Caucasian_436': 322, 'African_44': 323, 'Indian_573': 324, 'Asian_417': 325, 'Asian_38': 326, 'Indian_138': 327, 'African_780': 328, 'Caucasian_1049': 329, 'African_2': 330, 'Caucasian_205': 331, 'Caucasian_519': 332, 'Asian_122': 333, 'Indian_274': 334, 'African_80': 335, 'Asian_664': 336, 'Indian_576': 337, 'm.060ckn': 338, 'African_700': 339, 'Asian_363': 340, 'Indian_67': 341, 'Caucasian_1322': 342, 'African_501': 343, 'Caucasian_1301': 344, 'African_302': 345, 'Caucasian_60': 346, 'Asian_619': 347, 'Caucasian_410': 348, 'Indian_539': 349, 'm.01167d3z': 350, 'Caucasian_1230': 351, 'Asian_295': 352, 'African_664': 353, 'Caucasian_1011': 354, 'm.0j3g6p0': 355, 'Indian_572': 356, 'Asian_633': 357, 'Asian_435': 358, 'Caucasian_1136': 359, 'Indian_189': 360, 'Indian_420': 361, 'African_619': 362, 'Caucasian_1359': 363, 'Asian_362': 364, 'Indian_662': 365, 'Indian_320': 366, 'Asian_480': 367, 'African_393': 368, 'African_36': 369, 'Asian_157': 370, 'Indian_63': 371, 'm.05mw28f': 372, 'Caucasian_526': 373, 'Caucasian_596': 374, 'Asian_14': 375, 'm.05lq0j': 376, 'Indian_654': 377, 'African_264': 378, 'Asian_507': 379, 'Indian_212': 380, 'm.03nxqb8': 381, 'African_702': 382, 'm.07dd04': 383, 'Indian_168': 384, 'African_0': 385, 'Indian_91': 386, 'African_326': 387, 'Indian_399': 388, 'Caucasian_256': 389, 'Caucasian_405': 390, 'African_470': 391, 'Caucasian_419': 392, 'm.0ck5hsy': 393, 'Asian_410': 394, 'African_493': 395, 'Asian_469': 396, 'm.04112vx': 397, 'Indian_55': 398, 'African_555': 399, 'Caucasian_1405': 400, 'm.0bh8tm0': 401, 'm.03mc3p4': 402, 'm.0dgqy0m': 403, 'Caucasian_485': 404, 'African_319': 405, 'Caucasian_1366': 406, 'African_472': 407, 'Caucasian_386': 408, 'African_427': 409, 'Indian_341': 410, 'Indian_718': 411, 'Indian_186': 412, 'African_615': 413, 'African_91': 414, 'Asian_454': 415, 'Asian_107': 416, 'African_75': 417, 'African_454': 418, 'Indian_309': 419, 'African_329': 420, 'African_447': 421, 'Asian_559': 422, 'm.085b': 423, 'Indian_424': 424, 'Asian_265': 425, 'm.03c9': 426, 'Indian_129': 427, 'Indian_95': 428, 'Indian_51': 429, 'Indian_190': 430, 'm.0ctrtr': 431, 'Caucasian_68': 432, 'Asian_479': 433, 'African_151': 434, 'm.04ct11t': 435, 'Caucasian_1218': 436, 'Indian_179': 437, 'm.02vr704': 438, 'Indian_162': 439, 'Indian_704': 440, 'African_260': 441, 'African_724': 442, 'Caucasian_1297': 443, 'm.073bb': 444, 'm.0j9mdv2': 445, 'Caucasian_1001': 446, 'African_474': 447, 'Asian_28': 448, 'Caucasian_1329': 449, 'Indian_13': 450, 'Indian_207': 451, 'Asian_86': 452, 'Indian_655': 453, 'Asian_716': 454, 'm.0g567x3': 455, 'African_147': 456, 'Indian_136': 457, 'Caucasian_146': 458, 'Caucasian_233': 459, 'African_216': 460, 'Caucasian_1236': 461, 'African_355': 462, 'Asian_106': 463, 'Asian_462': 464, 'Caucasian_21': 465, 'Caucasian_440': 466, 'Indian_546': 467, 'African_631': 468, 'African_220': 469, 'm.0j63px2': 470, 'African_523': 471, 'Caucasian_67': 472, 'Asian_569': 473, 'Caucasian_499': 474, 'Indian_473': 475, 'Caucasian_45': 476, 'African_288': 477, 'Indian_298': 478, 'Caucasian_135': 479, 'Caucasian_450': 480, 'Indian_144': 481, 'African_375': 482, 'African_391': 483, 'African_489': 484, 'Indian_170': 485, 'African_544': 486, 'Indian_500': 487, 'Indian_413': 488, 'm.04bhjx': 489, 'Indian_203': 490, 'm.0j4c85h': 491, 'Indian_492': 492, 'African_182': 493, 'African_506': 494, 'Indian_575': 495, 'Indian_241': 496, 'm.0fpj1q0': 497, 'African_202': 498, 'Asian_141': 499, 'Indian_537': 500, 'Indian_265': 501, 'Caucasian_377': 502, 'African_779': 503, 'Asian_126': 504, 'Indian_225': 505, 'African_637': 506, 'Asian_286': 507, 'Indian_280': 508, 'Caucasian_320': 509, 'm.0rpfv5x': 510, 'Caucasian_1129': 511, 'Asian_193': 512, 'Indian_378': 513, 'Caucasian_534': 514, 'Asian_593': 515, 'African_517': 516, 'Caucasian_1022': 517, 'Indian_111': 518, 'Caucasian_1193': 519, 'African_271': 520, 'African_285': 521, 'Indian_36': 522, 'Caucasian_1279': 523, 'Caucasian_329': 524, 'African_226': 525, 'African_715': 526, 'African_690': 527, 'African_674': 528, 'Caucasian_36': 529, 'm.043qv9l': 530, 'Indian_296': 531, 'African_67': 532, 'Caucasian_176': 533, 'm.0gyrf8v': 534, 'Asian_176': 535, 'Indian_706': 536, 'African_691': 537, 'm.0n49v6t': 538, 'Asian_347': 539, 'African_389': 540, 'Indian_14': 541, 'Caucasian_458': 542, 'Asian_568': 543, 'Indian_171': 544, 'Asian_419': 545, 'Indian_127': 546, 'Caucasian_1321': 547, 'African_614': 548, 'Asian_120': 549, 'African_586': 550, 'Indian_499': 551, 'Indian_692': 552, 'African_686': 553, 'm.0223zk': 554, 'Caucasian_390': 555, 'Indian_197': 556, 'm.0bmf6f': 557, 'African_156': 558, 'African_633': 559, 'Indian_553': 560, 'Asian_644': 561, 'm.09lj1': 562, 'm.04w79y': 563, 'Indian_490': 564, 'm.03h0jf4': 565, 'African_731': 566, 'Caucasian_141': 567, 'Asian_343': 568, 'm.0j4d7r3': 569, 'Caucasian_457': 570, 'African_287': 571, 'Asian_191': 572, 'Indian_68': 573, 'African_289': 574, 'Asian_607': 575, 'Indian_210': 576, 'Indian_33': 577, 'African_654': 578, 'Indian_135': 579, 'Caucasian_44': 580, 'Indian_15': 581, 'm.02qtd23': 582, 'm.04k4jh': 583, 'Indian_251': 584, 'Asian_32': 585, 'Indian_582': 586, 'Indian_439': 587, 'Indian_166': 588, 'Asian_2': 589, 'Caucasian_1118': 590, 'm.06y4cw': 591, 'm.0k3208': 592, 'Indian_239': 593, 'Asian_246': 594, 'Caucasian_267': 595, 'Asian_174': 596, 'Indian_23': 597, 'Indian_604': 598, 'm.06': 599, 'm.0dryml1': 600, 'm.0h62': 601, 'African_695': 602, 'African_502': 603, 'm.0bhh5n': 604, 'African_402': 605, 'Asian_549': 606, 'Indian_158': 607, 'Indian_480': 608, 'm.02605bs': 609, 'Caucasian_138': 610, 'Caucasian_1299': 611, 'Caucasian_549': 612, 'Indian_245': 613, 'African_751': 614, 'Caucasian_106': 615, 'African_155': 616, 'African_696': 617, 'Asian_634': 618, 'African_327': 619, 'African_739': 620, 'Indian_224': 621, 'Asian_722': 622, 'Indian_310': 623, 'African_377': 624, 'Caucasian_1285': 625, 'Indian_612': 626, 'African_130': 627, 'Caucasian_3': 628, 'Indian_303': 629, 'African_597': 630, 'm.0rfdr0b': 631, 'Asian_602': 632, 'Indian_41': 633, 'm.02pstft': 634, 'African_699': 635, 'm.05mz42q': 636, 'm.0fw3vg': 637, 'Indian_343': 638, 'Caucasian_103': 639, 'm.026kw4b': 640, 'Asian_245': 641, 'African_480': 642, 'African_412': 643, 'Indian_684': 644, 'Indian_560': 645, 'African_132': 646, 'Asian_525': 647, 'Caucasian_555': 648, 'Indian_243': 649, 'Caucasian_152': 650, 'Indian_102': 651, 'm.0sgqn1': 652, 'Caucasian_1019': 653, 'Asian_256': 654, 'Asian_684': 655, 'Indian_669': 656, 'African_471': 657, 'Caucasian_194': 658, 'Caucasian_232': 659, 'African_164': 660, 'Asian_541': 661, 'Indian_709': 662, 'Indian_493': 663, 'Asian_342': 664, 'Asian_543': 665, 'African_13': 666, 'African_3': 667, 'm.0gfhg0w': 668, 'Caucasian_1141': 669, 'Indian_379': 670, 'Asian_446': 671, 'African_22': 672, 'Caucasian_378': 673, 'Indian_56': 674, 'Indian_491': 675, 'African_33': 676, 'Indian_636': 677, 'Asian_237': 678, 'African_333': 679, 'Asian_427': 680, 'Indian_262': 681, 'm.0qft6yv': 682, 'm.0525': 683, 'm.03by2wy': 684, 'Caucasian_163': 685, 'Caucasian_39': 686, 'Indian_302': 687, 'African_295': 688, 'm.087q51': 689, 'African_332': 690, 'Indian_319': 691, 'Indian_571': 692, 'm.0rpgm1y': 693, 'Caucasian_1277': 694, 'Asian_652': 695, 'Asian_651': 696, 'Indian_254': 697, 'Asian_132': 698, 'Indian_308': 699, 'Asian_154': 700, 'm.09v3bhx': 701, 'm.027tssp': 702, 'African_396': 703, 'm.04n3v0': 704, 'Indian_494': 705, 'Caucasian_1008': 706, 'African_813': 707, 'm.08hcd7': 708, 'Caucasian_1204': 709, 'Caucasian_219': 710, 'African_108': 711, 'Indian_188': 712, 'African_504': 713, 'm.0fn3yj': 714, 'African_435': 715, 'Asian_219': 716, 'Caucasian_1016': 717, 'm.028x00': 718, 'Indian_468': 719, 'Indian_414': 720, 'm.015076': 721, 'African_407': 722, 'African_468': 723, 'Asian_527': 724, 'Caucasian_1281': 725, 'Indian_24': 726, 'Caucasian_441': 727, 'Caucasian_365': 728, 'African_667': 729, 'Caucasian_200': 730, 'African_558': 731, 'African_173': 732, 'Caucasian_1387': 733, 'African_180': 734, 'Caucasian_559': 735, 'Asian_168': 736, 'm.0268c4v': 737, 'Indian_201': 738, 'Indian_97': 739, 'Asian_329': 740, 'African_462': 741, 'Asian_717': 742, 'Caucasian_47': 743, 'African_576': 744, 'Asian_300': 745, 'Asian_31': 746, 'Asian_724': 747, 'Indian_32': 748, 'Indian_581': 749, 'Indian_327': 750, 'Indian_16': 751, 'African_204': 752, 'African_298': 753, 'Indian_122': 754, 'm.0bkk8v': 755, 'm.0bs1m9w': 756, 'm.0b9f7t': 757, 'Asian_225': 758, 'm.0hnbj9t': 759, 'African_419': 760, 'Asian_327': 761, 'm.025wqb8': 762, 'Indian_595': 763, 'm.0d': 764, 'Asian_552': 765, 'Caucasian_488': 766, 'Caucasian_573': 767, 'Caucasian_1258': 768, 'm.02r2pwb': 769, 'Indian_434': 770, 'African_161': 771, 'm.02pln': 772, 'Indian_488': 773, 'Caucasian_421': 774, 'Asian_718': 775, 'Caucasian_584': 776, 'Indian_167': 777, 'Caucasian_1325': 778, 'm.063zl0z': 779, 'Caucasian_1096': 780, 'Asian_685': 781, 'Caucasian_168': 782, 'Indian_618': 783, 'African_802': 784, 'Caucasian_480': 785, 'Caucasian_461': 786, 'African_748': 787, 'Indian_161': 788, 'Indian_427': 789, 'African_525': 790, 'Caucasian_300': 791, 'African_646': 792, 'm.02d9q6': 793, 'Indian_374': 794, 'm.0bd6yz': 795, 'Caucasian_286': 796, 'Asian_278': 797, 'Indian_59': 798, 'Caucasian_589': 799, 'Indian_628': 800, 'Indian_523': 801, 'Indian_146': 802, 'African_765': 803, 'African_291': 804, 'African_411': 805, 'Indian_10': 806, 'Asian_474': 807, 'African_618': 808, 'African_405': 809, 'African_503': 810, 'African_670': 811, 'm.0b76gpc': 812, 'Indian_601': 813, 'African_170': 814, 'Asian_738': 815, 'Asian_277': 816, 'African_21': 817, 'African_68': 818, 'Caucasian_250': 819, 'African_31': 820, 'Caucasian_452': 821, 'Caucasian_556': 822, 'African_458': 823, 'Asian_336': 824, 'm.03qlhm5': 825, 'African_437': 826, 'African_380': 827, 'Caucasian_128': 828, 'Asian_366': 829, 'African_174': 830, 'African_217': 831, 'African_423': 832, 'African_19': 833, 'Asian_17': 834, 'Indian_389': 835, 'Asian_1': 836, 'African_278': 837, 'm.0281bfh': 838, 'Indian_27': 839, 'm.0cbxht3': 840, 'African_509': 841, 'Indian_148': 842, 'Caucasian_1252': 843, 'Asian_46': 844, 'm.07wj0y': 845, 'm.0k3n34n': 846, 'Indian_396': 847, 'Caucasian_117': 848, 'Caucasian_396': 849, 'African_181': 850, 'Asian_561': 851, 'm.05kfvp': 852, 'Asian_481': 853, 'Asian_166': 854, 'Asian_466': 855, 'African_172': 856, 'Indian_554': 857, 'African_158': 858, 'm.03cw3qr': 859, 'African_363': 860, 'Caucasian_1215': 861, 'Indian_26': 862, 'Indian_520': 863, 'm.04yc': 864, 'm.0djj4b': 865, 'African_184': 866, 'Indian_152': 867, 'Caucasian_107': 868, 'Indian_634': 869, 'African_773': 870, 'African_626': 871, 'Asian_487': 872, 'African_127': 873, 'Indian_515': 874, 'Asian_489': 875, 'Indian_607': 876, 'Caucasian_601': 877, 'Caucasian_19': 878, 'Indian_543': 879, 'Asian_114': 880, 'Indian_366': 881, 'African_316': 882, 'Caucasian_1327': 883, 'Indian_626': 884, 'm.0c03p4j': 885, 'm.09v39qm': 886, 'African_726': 887, 'African_811': 888, 'Asian_368': 889, 'Caucasian_246': 890, 'Asian_150': 891, 'African_617': 892, 'Asian_409': 893, 'Indian_227': 894, 'Asian_212': 895, 'Asian_244': 896, 'Caucasian_94': 897, 'African_432': 898, 'm.04cvpmr': 899, 'Caucasian_445': 900, 'Caucasian_521': 901, 'Indian_264': 902, 'Asian_201': 903, 'African_214': 904, 'Indian_216': 905, 'African_208': 906, 'Asian_215': 907, 'African_294': 908, 'Indian_153': 909, 'Caucasian_347': 910, 'Indian_198': 911, 'Indian_614': 912, 'm.0b90h0': 913, 'Indian_521': 914, 'm.0660zg': 915, 'African_15': 916, 'Caucasian_602': 917, 'Indian_141': 918, 'Caucasian_6': 919, 'Indian_7': 920, 'Indian_215': 921, 'm.07khttn': 922, 'African_685': 923, 'Indian_233': 924, 'African_476': 925, 'm.0868nf': 926, 'Caucasian_1217': 927, 'Caucasian_1342': 928, 'm.0bmd0': 929, 'Indian_600': 930, 'African_758': 931, 'Indian_109': 932, 'Indian_437': 933, 'Indian_211': 934, 'Asian_689': 935, 'Indian_134': 936, 'African_680': 937, 'Asian_53': 938, 'Caucasian_417': 939, 'Asian_503': 940, 'African_157': 941, 'Asian_380': 942, 'African_578': 943, 'm.04y70v': 944, 'African_794': 945, 'African_121': 946, 'Indian_174': 947, 'Asian_279': 948, 'African_417': 949, 'African_539': 950, 'Indian_208': 951, 'Asian_654': 952, 'Asian_628': 953, 'm.02w2ll4': 954, 'African_261': 955, 'African_20': 956, 'Caucasian_361': 957, 'Asian_703': 958, 'Caucasian_332': 959, 'Asian_439': 960, 'Caucasian_1151': 961, 'm.0c7fm1': 962, 'Caucasian_1362': 963, 'African_736': 964, 'm.0gwyg57': 965, 'm.0cc6nc': 966, 'Asian_459': 967, 'Caucasian_1034': 968, 'Caucasian_423': 969, 'African_550': 970, 'Caucasian_58': 971, 'Indian_62': 972, 'Caucasian_1015': 973, 'Caucasian_1027': 974, 'African_168': 975, 'Indian_40': 976, 'Asian_472': 977, 'Asian_665': 978, 'Caucasian_1317': 979, 'Caucasian_316': 980, 'Caucasian_206': 981, 'Indian_108': 982, 'Indian_240': 983, 'Caucasian_1328': 984, 'Caucasian_149': 985, 'African_236': 986, 'African_786': 987, 'Indian_353': 988, 'm.014nfw': 989, 'Indian_300': 990, 'Indian_259': 991, 'Indian_238': 992, 'Indian_226': 993, 'Asian_546': 994, 'African_587': 995, 'Asian_15': 996, 'Caucasian_1161': 997, 'm.0qc5cv8': 998, 'African_296': 999, 'm.027': 1000, 'African_256': 1001, 'Indian_405': 1002, 'm.01mb0qk': 1003, 'Caucasian_1298': 1004, 'African_538': 1005, 'm.04y88mr': 1006, 'African_211': 1007, 'm.05h2n7l': 1008, 'Caucasian_1189': 1009, 'Caucasian_238': 1010, 'African_657': 1011, 'Indian_177': 1012, 'Indian_591': 1013, 'Caucasian_532': 1014, 'African_87': 1015, 'm.0kbgjy5': 1016, 'Caucasian_263': 1017, 'm.0h3mdym': 1018, 'Caucasian_439': 1019, 'm.05qf9m': 1020, 'African_323': 1021, 'Indian_281': 1022, 'African_74': 1023, 'Caucasian_147': 1024, 'Asian_385': 1025, 'African_663': 1026, 'm.03qmrg0': 1027, 'Asian_493': 1028, 'African_829': 1029, 'African_600': 1030, 'Caucasian_346': 1031, 'African_484': 1032, 'Indian_720': 1033, 'm.01df1y': 1034, 'Asian_18': 1035, 'Caucasian_213': 1036, 'Indian_156': 1037, 'Asian_247': 1038, 'Asian_478': 1039, 'African_292': 1040, 'African_362': 1041, 'African_756': 1042, 'Caucasian_69': 1043, 'African_687': 1044, 'Indian_61': 1045, 'Caucasian_1157': 1046, 'African_708': 1047, 'Indian_588': 1048, 'Asian_11': 1049, 'Indian_99': 1050, 'Indian_339': 1051, 'Asian_359': 1052, 'Caucasian_120': 1053, 'Caucasian_1360': 1054, 'African_752': 1055, 'Indian_8': 1056, 'Indian_247': 1057, 'Caucasian_1192': 1058, 'Indian_77': 1059, 'Asian_172': 1060, 'Asian_579': 1061, 'Asian_288': 1062, 'African_560': 1063, 'Indian_417': 1064, 'Indian_373': 1065, 'Indian_659': 1066, 'African_797': 1067, 'Caucasian_255': 1068, 'Indian_536': 1069, 'African_438': 1070, 'Asian_87': 1071, 'Indian_74': 1072, 'African_395': 1073, 'Caucasian_603': 1074, 'Caucasian_101': 1075, 'Caucasian_535': 1076, 'African_374': 1077, 'Caucasian_493': 1078, 'African_212': 1079, 'African_203': 1080, 'Asian_502': 1081, 'Indian_133': 1082, 'Caucasian_218': 1083, 'African_99': 1084, 'Indian_172': 1085, 'African_387': 1086, 'Caucasian_64': 1087, 'Caucasian_278': 1088, 'African_223': 1089, 'Indian_562': 1090, 'Indian_137': 1091, 'Asian_516': 1092, 'African_210': 1093, 'Asian_44': 1094, 'African_198': 1095, 'Indian_288': 1096, 'm.03j3dpb': 1097, 'African_255': 1098, 'm.05fwlf': 1099, 'm.0h7ln9v': 1100, 'African_359': 1101, 'm.0637st': 1102, 'Asian_438': 1103, 'Indian_432': 1104, 'Caucasian_1316': 1105, 'm.06z0np': 1106, 'Caucasian_387': 1107, 'Indian_46': 1108, 'Indian_477': 1109, 'African_254': 1110, 'Indian_3': 1111, 'African_269': 1112, 'African_205': 1113, 'Asian_220': 1114, 'African_513': 1115, 'African_590': 1116, 'm.0cj071': 1117, 'Indian_229': 1118, 'Caucasian_1403': 1119, 'Indian_104': 1120, 'African_146': 1121, 'm.083yrt': 1122, 'Asian_270': 1123, 'm.05zvsg3': 1124, 'Indian_6': 1125, 'm.043pr74': 1126, 'African_599': 1127, 'Indian_696': 1128, 'African_473': 1129, 'Caucasian_5': 1130, 'Caucasian_340': 1131, 'Asian_510': 1132, 'm.03hj': 1133, 'African_119': 1134, 'African_113': 1135, 'African_788': 1136, 'Indian_313': 1137, 'Indian_617': 1138, 'Caucasian_1293': 1139, 'Asian_449': 1140, 'Indian_196': 1141, 'Asian_621': 1142, 'Indian_544': 1143, 'African_38': 1144, 'Asian_697': 1145, 'Asian_581': 1146, 'Asian_423': 1147, 'Indian_307': 1148, 'Indian_688': 1149, 'Caucasian_327': 1150, 'African_511': 1151, 'Caucasian_1126': 1152, 'Indian_358': 1153, 'African_442': 1154, 'Indian_169': 1155, 'Asian_354': 1156, 'Indian_578': 1157, 'African_482': 1158, 'Asian_100': 1159, 'Caucasian_100': 1160, 'm.0b6h8l9': 1161, 'm.03vb0y': 1162, 'Caucasian_1232': 1163, 'Indian_72': 1164, 'm.052': 1165, 'm.0hht8wn': 1166, 'Caucasian_1035': 1167, 'African_218': 1168, 'Asian_534': 1169, 'Indian_336': 1170, 'Indian_715': 1171, 'African_171': 1172, 'Caucasian_494': 1173, 'Asian_723': 1174, 'Caucasian_1021': 1175, 'Indian_89': 1176, 'Caucasian_1265': 1177, 'African_772': 1178, 'Caucasian_309': 1179, 'Asian_392': 1180, 'Indian_85': 1181, 'Asian_0': 1182, 'African_684': 1183, 'African_12': 1184, 'Indian_535': 1185, 'm.0ft3dj': 1186, 'African_39': 1187, 'Indian_552': 1188, 'Asian_236': 1189, 'Caucasian_341': 1190, 'Indian_139': 1191, 'm.06w9rdb': 1192, 'Asian_51': 1193, 'Asian_348': 1194, 'Caucasian_1294': 1195, 'Asian_234': 1196, 'Caucasian_325': 1197, 'Indian_401': 1198, 'Caucasian_9': 1199, 'Indian_608': 1200, 'African_453': 1201, 'Caucasian_1399': 1202, 'Asian_298': 1203, 'African_548': 1204, 'Asian_605': 1205, 'Indian_644': 1206, 'm.0jwwdq1': 1207, 'Indian_423': 1208, 'African_340': 1209, 'African_455': 1210, 'Caucasian_547': 1211, 'Asian_252': 1212, 'Caucasian_1300': 1213, 'African_607': 1214, 'm.01wh03h': 1215, 'Asian_357': 1216, 'Asian_530': 1217, 'Caucasian_511': 1218, 'Caucasian_553': 1219, 'Caucasian_1338': 1220, 'Caucasian_214': 1221, 'African_400': 1222, 'Asian_609': 1223, 'African_440': 1224, 'African_640': 1225, 'African_547': 1226, 'm.0kvgy': 1227, 'Caucasian_1065': 1228, 'Asian_180': 1229, 'Asian_262': 1230, 'African_498': 1231, 'African_566': 1232, 'African_621': 1233, 'Indian_105': 1234, 'Indian_278': 1235, 'Indian_306': 1236, 'Caucasian_563': 1237, 'African_209': 1238, 'Asian_161': 1239, 'Caucasian_1100': 1240, 'Indian_43': 1241, 'Asian_332': 1242, 'm.03qqm1g': 1243, 'Asian_27': 1244, 'Caucasian_221': 1245, 'Caucasian_530': 1246, 'African_192': 1247, 'm.0kcgvy5': 1248, 'Indian_31': 1249, 'African_785': 1250, 'Caucasian_343': 1251, 'Indian_213': 1252, 'Caucasian_1050': 1253, 'm.060gwl': 1254, 'Asian_52': 1255, 'Asian_458': 1256, 'African_625': 1257, 'Caucasian_99': 1258, 'Asian_269': 1259, 'm.0h7m3hg': 1260, 'African_825': 1261, 'Indian_714': 1262, 'Caucasian_1066': 1263, 'Indian_524': 1264, 'African_275': 1265, 'Caucasian_137': 1266, 'Indian_694': 1267, 'm.05p9t9q': 1268, 'Indian_58': 1269, 'Asian_101': 1270, 'm.0ll1g': 1271, 'Asian_434': 1272, 'Asian_483': 1273, 'Indian_680': 1274, 'Indian_249': 1275, 'Caucasian_71': 1276, 'Indian_19': 1277, 'Caucasian_1205': 1278, 'Indian_461': 1279, 'Asian_381': 1280, 'African_475': 1281, 'African_697': 1282, 'm.04rlb8': 1283, 'Caucasian_7': 1284, 'Indian_522': 1285, 'African_496': 1286, 'Indian_415': 1287, 'm.027yq1t': 1288, 'Indian_81': 1289, 'm.09qfk3': 1290, 'African_384': 1291, 'African_276': 1292, 'Indian_668': 1293, 'African_815': 1294, 'Asian_218': 1295, 'm.0fgt4f': 1296, 'Caucasian_156': 1297, 'Indian_195': 1298, 'Indian_66': 1299, 'Caucasian_1410': 1300, 'Caucasian_51': 1301, 'Caucasian_1339': 1302, 'm.0p3qr00': 1303, 'Asian_594': 1304, 'African_678': 1305, 'Asian_433': 1306, 'm.02q91dd': 1307, 'Caucasian_1210': 1308, 'Indian_304': 1309, 'African_215': 1310, 'Asian_267': 1311, 'Caucasian_276': 1312, 'Caucasian_298': 1313, 'Indian_402': 1314, 'African_197': 1315, 'Indian_667': 1316, 'African_176': 1317, 'Asian_90': 1318, 'm.01v': 1319, 'African_126': 1320, 'Caucasian_1253': 1321, 'African_520': 1322, 'Caucasian_323': 1323, 'Asian_388': 1324, 'm.0sgy8m8': 1325, 'African_791': 1326, 'Indian_501': 1327, 'African_330': 1328, 'African_150': 1329, 'African_814': 1330, 'Asian_242': 1331, 'Asian_228': 1332, 'Caucasian_1231': 1333, 'African_577': 1334, 'Asian_202': 1335, 'Caucasian_1168': 1336, 'African_229': 1337, 'African_312': 1338, 'Indian_326': 1339, 'Indian_272': 1340, 'African_109': 1341, 'Asian_587': 1342, 'African_96': 1343, 'Indian_663': 1344, 'Caucasian_279': 1345, 'African_485': 1346, 'Asian_592': 1347, 'Asian_600': 1348, 'Asian_183': 1349, 'Indian_235': 1350, 'Indian_356': 1351, 'Asian_251': 1352, 'Caucasian_1153': 1353, 'African_321': 1354, 'African_750': 1355, 'Caucasian_1233': 1356, 'Caucasian_1223': 1357, 'Indian_475': 1358, 'Asian_584': 1359, 'Indian_255': 1360, 'Indian_514': 1361, 'African_144': 1362, 'Caucasian_339': 1363, 'Indian_331': 1364, 'Indian_83': 1365, 'African_324': 1366, 'Indian_124': 1367, 'm.05sztm0': 1368, 'Asian_110': 1369, 'Indian_370': 1370, 'm.0c3tl': 1371, 'Indian_632': 1372, 'African_153': 1373, 'm.0gdms9': 1374, 'African_818': 1375, 'm.047sm3j': 1376, 'African_315': 1377, 'African_46': 1378, 'African_469': 1379, 'Indian_38': 1380, 'Indian_640': 1381, 'Asian_316': 1382, 'Indian_697': 1383, 'Caucasian_578': 1384, 'Caucasian_513': 1385, 'Indian_112': 1386, 'African_693': 1387, 'm.0g36rz': 1388, 'Asian_249': 1389, 'Caucasian_314': 1390, 'Asian_570': 1391, 'm.02rdtb4': 1392, 'Indian_261': 1393, 'African_557': 1394, 'Caucasian_1237': 1395, 'African_311': 1396, 'm.0ckv': 1397, 'Asian_656': 1398, 'Caucasian_1188': 1399, 'Indian_37': 1400, 'African_199': 1401, 'Indian_666': 1402, 'African_647': 1403, 'Caucasian_1406': 1404, 'Caucasian_337': 1405, 'm.0b': 1406, 'African_136': 1407, 'Caucasian_291': 1408, 'African_784': 1409, 'm.04mz6m8': 1410, 'Indian_143': 1411, 'Indian_512': 1412, 'Indian_496': 1413, 'Indian_673': 1414, 'African_655': 1415, 'm.03mhsl': 1416, 'Caucasian_111': 1417, 'Asian_148': 1418, 'Indian_140': 1419, 'African_123': 1420, 'm.03gr2g0': 1421, 'Asian_124': 1422, 'African_658': 1423, 'Asian_356': 1424, 'African_300': 1425, 'Indian_29': 1426, 'Asian_167': 1427, 'Caucasian_465': 1428, 'African_18': 1429, 'African_237': 1430, 'm.03ymb1': 1431, 'Asian_66': 1432, 'Caucasian_1315': 1433, 'Indian_574': 1434, 'Caucasian_546': 1435, 'Asian_55': 1436, 'African_711': 1437, 'African_120': 1438, 'African_240': 1439, 'Indian_457': 1440, 'Indian_671': 1441, 'African_160': 1442, 'African_740': 1443, 'Indian_476': 1444, 'm.02qnlkc': 1445, 'Indian_518': 1446, 'Caucasian_331': 1447, 'African_434': 1448, 'African_6': 1449, 'Indian_648': 1450, 'Indian_447': 1451, 'm.0286btc': 1452, 'm.03qcz13': 1453, 'Asian_305': 1454, 'African_110': 1455, 'Caucasian_420': 1456, 'Asian_421': 1457, 'African_64': 1458, 'Indian_268': 1459, 'Asian_741': 1460, 'm.09gp6y8': 1461, 'Caucasian_505': 1462, 'Indian_579': 1463, 'Indian_707': 1464, 'm.02x9x4q': 1465, 'Indian_289': 1466, 'Asian_714': 1467, 'African_421': 1468, 'Asian_490': 1469, 'Caucasian_292': 1470, 'Caucasian_520': 1471, 'Indian_700': 1472, 'African_364': 1473, 'African_369': 1474, 'Caucasian_496': 1475, 'Caucasian_260': 1476, 'Caucasian_1115': 1477, 'Asian_576': 1478, 'Caucasian_424': 1479, 'African_727': 1480, 'African_610': 1481, 'Asian_194': 1482, 'Indian_394': 1483, 'African_666': 1484, 'Indian_610': 1485, 'Indian_716': 1486, 'African_716': 1487, 'Asian_706': 1488, 'Asian_558': 1489, 'African_451': 1490, 'Caucasian_464': 1491, 'm.04972h': 1492, 'm.07k4tsn': 1493, 'Indian_411': 1494, 'African_40': 1495, 'm.0hht5gt': 1496, 'Asian_232': 1497, 'Caucasian_1108': 1498, 'African_554': 1499, 'Indian_690': 1500, 'African_446': 1501, 'Asian_61': 1502, 'African_379': 1503, 'African_546': 1504, 'Indian_80': 1505, 'Caucasian_524': 1506, 'African_681': 1507, 'm.0kvclh4': 1508, 'African_398': 1509, 'm.0k0vhdw': 1510, 'Indian_149': 1511, 'Asian_23': 1512, 'African_390': 1513, 'African_728': 1514, 'Indian_284': 1515, 'Caucasian_1093': 1516, 'Asian_637': 1517, 'Asian_153': 1518, 'African_735': 1519, 'Indian_292': 1520, 'Asian_662': 1521, 'Indian_478': 1522, 'm.0465pkb': 1523, 'African_50': 1524, 'Indian_631': 1525, 'Caucasian_1309': 1526, 'Asian_104': 1527, 'African_142': 1528, 'Indian_528': 1529, 'Caucasian_142': 1530, 'm.0hgrp': 1531, 'African_317': 1532, 'Caucasian_581': 1533, 'African_648': 1534, 'Caucasian_133': 1535, 'm.05c1gll': 1536, 'Indian_340': 1537, 'African_259': 1538, 'Asian_189': 1539, 'Asian_519': 1540, 'Caucasian_476': 1541, 'African_456': 1542, 'Indian_498': 1543, 'African_460': 1544, 'Caucasian_425': 1545, 'Caucasian_1318': 1546, 'm.0b6bj4': 1547, 'Indian_222': 1548, 'Asian_63': 1549, 'African_47': 1550, 'Caucasian_1102': 1551, 'Indian_318': 1552, 'm.02pm': 1553, 'African_582': 1554, 'Asian_94': 1555, 'Caucasian_1174': 1556, 'm.0gw5nsq': 1557, 'Indian_449': 1558, 'African_116': 1559, 'Asian_72': 1560, 'm.05znvh4': 1561, 'Caucasian_192': 1562, 'Indian_228': 1563, 'Asian_614': 1564, 'Indian_130': 1565, 'African_436': 1566, 'Asian_443': 1567, 'African_644': 1568, 'm.04gnpyg': 1569, 'Indian_220': 1570, 'Caucasian_281': 1571, 'Asian_482': 1572, 'Asian_382': 1573, 'African_733': 1574, 'Indian_664': 1575, 'African_660': 1576, 'African_512': 1577, 'African_828': 1578, 'Indian_602': 1579, 'Asian_182': 1580, 'Caucasian_1262': 1581, 'African_652': 1582, 'm.02mpmt': 1583, 'Indian_409': 1584, 'Indian_641': 1585, 'African_394': 1586, 'African_452': 1587, 'African_54': 1588, 'Indian_647': 1589, 'Asian_517': 1590, 'Indian_362': 1591, 'Caucasian_1075': 1592, 'Caucasian_229': 1593, 'm.02lrn6': 1594, 'African_425': 1595, 'Indian_54': 1596, 'Indian_646': 1597, 'Indian_510': 1598, 'm.03c62bf': 1599, 'Caucasian_239': 1600, 'African_429': 1601, 'Caucasian_533': 1602, 'Caucasian_308': 1603, 'Indian_271': 1604, 'Asian_670': 1605, 'Indian_422': 1606, 'm.092grt': 1607, 'Asian_642': 1608, 'Caucasian_1057': 1609, 'Caucasian_40': 1610, 'Asian_261': 1611, 'Caucasian_1183': 1612, 'Caucasian_463': 1613, 'm.03jygk': 1614, 'Indian_364': 1615, 'Caucasian_462': 1616, 'African_266': 1617, 'Indian_504': 1618, 'Asian_50': 1619, 'm.0ngt980': 1620, 'African_624': 1621, 'African_499': 1622, 'African_721': 1623, 'Asian_274': 1624, 'Indian_472': 1625, 'African_682': 1626, 'Indian_242': 1627, 'Caucasian_514': 1628, 'Asian_151': 1629, 'Caucasian_1073': 1630, 'Indian_406': 1631, 'm.0gl6w7': 1632, 'Asian_346': 1633, 'Asian_407': 1634, 'Indian_182': 1635, 'm.0bmgk30': 1636, 'm.03hzd3l': 1637, 'African_331': 1638, 'Indian_503': 1639, 'Asian_158': 1640, 'Indian_126': 1641, 'Asian_268': 1642, 'African_441': 1643, 'Caucasian_352': 1644, 'm.067': 1645, 'Asian_451': 1646, 'Caucasian_597': 1647, 'Asian_303': 1648, 'Asian_339': 1649, 'African_163': 1650, 'African_570': 1651, 'Asian_78': 1652, 'Caucasian_204': 1653, 'Asian_310': 1654, 'African_376': 1655, 'm.01vjy69': 1656, 'Indian_21': 1657, 'Asian_299': 1658, 'Caucasian_170': 1659, 'm.06t5x': 1660, 'Indian_125': 1661, 'Caucasian_1241': 1662, 'Indian_481': 1663, 'Caucasian_1363': 1664, 'Asian_506': 1665, 'Caucasian_1119': 1666, 'Caucasian_1107': 1667, 'Asian_338': 1668, 'm.04074lf': 1669, 'African_705': 1670, 'African_268': 1671, 'Asian_412': 1672, 'm.0gc69ms': 1673, 'Indian_541': 1674, 'Caucasian_1390': 1675, 'm.0dpt37': 1676, 'Caucasian_1369': 1677, 'Caucasian_562': 1678, 'm.04fhhp': 1679, 'Caucasian_502': 1680, 'African_403': 1681, 'm.0263vl0': 1682, 'African_283': 1683, 'Caucasian_1344': 1684, 'Indian_459': 1685, 'Caucasian_1377': 1686, 'Caucasian_1017': 1687, 'Caucasian_1': 1688, 'm.070sx4': 1689, 'African_729': 1690, 'm.07': 1691, 'African_645': 1692, 'Asian_49': 1693, 'Caucasian_393': 1694, 'm.03hnvsn': 1695, 'African_159': 1696, 'Asian_209': 1697, 'Indian_65': 1698, 'Indian_121': 1699, 'African_568': 1700, 'Indian_717': 1701, 'Caucasian_1000': 1702, 'Indian_410': 1703, 'Asian_217': 1704, 'African_336': 1705, 'African_789': 1706, 'Asian_470': 1707, 'Indian_151': 1708, 'Caucasian_1314': 1709, 'African_138': 1710, 'Caucasian_1340': 1711, 'm.01r4447': 1712, 'Caucasian_253': 1713, 'Asian_143': 1714, 'Caucasian_373': 1715, 'Indian_69': 1716, 'Indian_273': 1717, 'Asian_301': 1718, 'Asian_145': 1719, 'Indian_390': 1720, 'Caucasian_1398': 1721, 'Indian_507': 1722, 'Asian_591': 1723, 'Indian_348': 1724, 'Caucasian_1170': 1725, 'm.0hznff9': 1726, 'Caucasian_1112': 1727, 'Caucasian_1275': 1728, 'm.07krpj': 1729, 'Indian_657': 1730, 'Caucasian_307': 1731, 'African_688': 1732, 'Asian_266': 1733, 'Indian_221': 1734, 'Indian_360': 1735, 'African_466': 1736, 'African_540': 1737, 'African_754': 1738, 'African_399': 1739, 'African_248': 1740, 'Caucasian_1194': 1741, 'African_228': 1742, 'Indian_150': 1743, 'm.02z0qb9': 1744, 'm.0dyhsl': 1745, 'African_72': 1746, 'Asian_344': 1747, 'Indian_113': 1748, 'African_737': 1749, 'Indian_681': 1750, 'Indian_76': 1751, 'm.0287': 1752, 'African_662': 1753, 'Asian_95': 1754, 'Asian_76': 1755, 'Indian_687': 1756, 'Caucasian_516': 1757, 'm.0khpr49': 1758, 'Indian_451': 1759, 'Caucasian_161': 1760, 'Caucasian_208': 1761, 'Asian_139': 1762, 'Caucasian_269': 1763, 'Indian_621': 1764, 'Indian_299': 1765, 'African_634': 1766, 'African_536': 1767, 'm.0bc9r7': 1768, 'Indian_619': 1769, 'm.0gk': 1770, 'm.05r6t1': 1771, 'African_34': 1772, 'Asian_414': 1773, 'African_759': 1774, 'Indian_580': 1775, 'African_346': 1776, 'Asian_572': 1777, 'm.09gjj0m': 1778, 'Indian_380': 1779, 'Asian_467': 1780, 'Indian_363': 1781, 'm.09ld6g': 1782, 'm.0bmxpb': 1783, 'Indian_75': 1784, 'African_370': 1785, 'African_371': 1786, 'Asian_272': 1787, 'Caucasian_93': 1788, 'African_483': 1789, 'Indian_678': 1790, 'Caucasian_150': 1791, 'Asian_545': 1792, 'Asian_405': 1793, 'African_709': 1794, 'Indian_25': 1795, 'Asian_99': 1796, 'Caucasian_1383': 1797, 'Caucasian_201': 1798, 'African_207': 1799, 'm.0fpy1b': 1800, 'African_309': 1801, 'African_535': 1802, 'African_777': 1803, 'Caucasian_529': 1804, 'm.0hncksb': 1805, 'Indian_163': 1806, 'm.0b087y': 1807, 'Indian_431': 1808, 'Asian_544': 1809, 'm.02qvtbg': 1810, 'm.03smhv': 1811, 'm.0r8ntwm': 1812, 'African_8': 1813, 'm.0h9448x': 1814, 'Indian_34': 1815, 'm.051zyst': 1816, 'm.08brxy': 1817, 'Asian_47': 1818, 'Asian_554': 1819, 'African_710': 1820, 'Asian_102': 1821, 'Indian_555': 1822, 'Asian_290': 1823, 'Indian_489': 1824, 'Caucasian_282': 1825, 'm.03h1xrn': 1826, 'African_169': 1827, 'Asian_403': 1828, 'Indian_691': 1829, 'Indian_70': 1830, 'African_443': 1831, 'Caucasian_375': 1832, 'm.0ktchz': 1833, 'Asian_108': 1834, 'African_819': 1835, 'm.026m8l2': 1836, 'African_741': 1837, 'm.0bj2pt': 1838, 'African_408': 1839, 'Indian_376': 1840, 'African_49': 1841, 'm.07jtcv': 1842, 'Caucasian_1276': 1843, 'African_1': 1844, 'Asian_273': 1845, 'Indian_594': 1846, 'Caucasian_1257': 1847, 'African_57': 1848, 'African_478': 1849, 'Indian_164': 1850, 'African_56': 1851, 'm.04z': 1852, 'Indian_651': 1853, 'African_166': 1854, 'Indian_479': 1855, 'African_689': 1856, 'Asian_312': 1857, 'Asian_556': 1858, 'African_422': 1859, 'African_53': 1860, 'm.0dghc5': 1861, 'Asian_199': 1862, 'African_725': 1863, 'Caucasian_1078': 1864, 'm.03m42v3': 1865, 'Caucasian_593': 1866, 'African_584': 1867, 'Indian_18': 1868, 'm.01m49': 1869, 'Asian_514': 1870, 'African_514': 1871, 'African_193': 1872, 'm.027z7h7': 1873, 'm.0c03p4': 1874, 'Asian_453': 1875, 'African_629': 1876, 'm.04q4c8': 1877, 'African_677': 1878, 'Indian_312': 1879, 'Caucasian_130': 1880, 'Caucasian_402': 1881, 'Asian_192': 1882, 'Indian_337': 1883, 'African_409': 1884, 'African_585': 1885, 'm.0264t6l': 1886, 'Caucasian_313': 1887, 'Caucasian_1178': 1888, 'Caucasian_175': 1889, 'Caucasian_1296': 1890, 'African_347': 1891, 'm.07k9qf1': 1892, 'Indian_204': 1893, 'm.027qhjc': 1894, 'Indian_214': 1895, 'African_413': 1896, 'Indian_526': 1897, 'm.09rscjd': 1898, 'Caucasian_1026': 1899, 'm.064kgq3': 1900, 'Indian_387': 1901, 'Indian_708': 1902, 'm.018fwb': 1903, 'Indian_388': 1904, 'm.076zfcq': 1905, 'Indian_344': 1906, 'm.08jn6t': 1907, 'Indian_94': 1908, 'm.0d6316': 1909, 'Caucasian_422': 1910, 'African_719': 1911, 'Indian_672': 1912, 'Caucasian_1336': 1913, 'm.0g53y0h': 1914, 'Caucasian_1002': 1915, 'African_796': 1916, 'm.05': 1917, 'Caucasian_211': 1918, 'Caucasian_407': 1919, 'm.09lgkm': 1920, 'Caucasian_503': 1921, 'Asian_211': 1922, 'Caucasian_109': 1923, 'm.04gqx5q': 1924, 'Asian_75': 1925, 'African_703': 1926, 'Caucasian_1361': 1927, 'African_583': 1928, 'Caucasian_523': 1929, 'Indian_592': 1930, 'Indian_421': 1931, 'Caucasian_29': 1932, 'm.061b24': 1933, 'Asian_589': 1934, 'African_297': 1935, 'African_152': 1936, 'Asian_436': 1937, 'm.064n2q9': 1938, 'African_651': 1939, 'Asian_491': 1940, 'Indian_323': 1941, 'Indian_462': 1942, 'African_707': 1943, 'Indian_101': 1944, 'Asian_442': 1945, 'Indian_531': 1946, 'Caucasian_273': 1947, 'Asian_535': 1948, 'African_718': 1949, 'African_124': 1950, 'Caucasian_11': 1951, 'African_131': 1952, 'African_580': 1953, 'm.04tkfj': 1954, 'African_650': 1955, 'African_83': 1956, 'Indian_577': 1957, 'm.0bq58m': 1958, 'm.0364m5': 1959, 'Asian_360': 1960, 'African_712': 1961, 'Indian_60': 1962, 'Asian_54': 1963, 'Indian_128': 1964, 'African_581': 1965, 'Asian_425': 1966, 'Indian_661': 1967, 'Caucasian_1179': 1968, 'Caucasian_561': 1969, 'm.0crjgjj': 1970, 'Indian_84': 1971, 'African_69': 1972, 'Caucasian_185': 1973, 'Indian_547': 1974, 'Asian_334': 1975, 'm.04n3h74': 1976, 'Caucasian_394': 1977, 'Asian_36': 1978, 'm.0g1my2': 1979, 'Caucasian_102': 1980, 'Indian_533': 1981, 'African_213': 1982, 'm.0ndskm9': 1983, 'African_310': 1984, 'African_191': 1985, 'm.03hgs5g': 1986, 'African_495': 1987, 'Asian_398': 1988, 'Asian_350': 1989, 'Caucasian_22': 1990, 'Caucasian_49': 1991, 'Caucasian_183': 1992, 'African_565': 1993, 'Indian_270': 1994, 'm.0b1f8v': 1995, 'African_593': 1996, 'African_508': 1997, 'Asian_308': 1998, 'Asian_429': 1999, 'm.0dljzyy': 2000, 'Caucasian_1085': 2001, 'African_341': 2002, 'Asian_431': 2003, 'Indian_611': 2004, 'African_620': 2005, 'Asian_629': 2006, 'Asian_402': 2007, 'Caucasian_12': 2008, 'African_304': 2009, 'm.0dqlq9': 2010, 'Caucasian_159': 2011, 'Asian_639': 2012, 'm.0cc75sy': 2013, 'm.0h1fnvm': 2014, 'Indian_98': 2015, 'African_145': 2016, 'Indian_223': 2017, 'm.066063m': 2018, 'African_601': 2019, 'Asian_386': 2020, 'African_32': 2021}\n"
     ]
    }
   ],
   "source": [
    "def factorize_ids(ids):\n",
    "    unique_ids = {}\n",
    "    factors = []\n",
    "    for id in ids:\n",
    "        if id not in unique_ids:\n",
    "            unique_ids[id] = len(unique_ids)  # Assign a unique index for each unique ID\n",
    "        factors.append(unique_ids[id])  # Append the index corresponding to the ID\n",
    "    return factors, unique_ids\n",
    "\n",
    "# Example usage:\n",
    "ids = convert_unique_ids(ids)\n",
    "factors_c, unique_ids = factorize_ids(ids)\n",
    "print(\"Factorized list:\", factors_c[:10])\n",
    "print(\"Unique IDs mapping:\", unique_ids)"
   ]
  },
  {
   "cell_type": "code",
   "execution_count": 251,
   "metadata": {},
   "outputs": [],
   "source": [
    "im_ids = np.array(factors_c)"
   ]
  },
  {
   "cell_type": "code",
   "execution_count": 252,
   "metadata": {},
   "outputs": [],
   "source": [
    "# Analyze similarity scores in terms of threshold...\n",
    "# For the first 10 similarity scores - what is the distribution of the scores?\n",
    "sim_scores = sim_mat\n"
   ]
  },
  {
   "cell_type": "code",
   "execution_count": 253,
   "metadata": {},
   "outputs": [
    {
     "name": "stdout",
     "output_type": "stream",
     "text": [
      "Length of similarity scores without probe:  10926330 Equal to:  10926330 is True\n"
     ]
    }
   ],
   "source": [
    "## Data check\n",
    "\n",
    "sim_scores = sim_mat.copy()\n",
    "# E.g. classify all identities as positive if threshold is higher than 90% of all similarity scores\n",
    "sims_excluding_probe = sim_scores[sim_scores < 0.9999] # OBs check if more scientific way\n",
    "# Check that length of similarity scores are equal to len(sim_scores.flatten)- len(sim_scores)\n",
    "print(\"Length of similarity scores without probe: \", len(sims_excluding_probe), \"Equal to: \", len(sim_scores.flatten()) - len(sim_scores), \n",
    "      \"is\",len(sims_excluding_probe) == (len(sim_scores.flatten()) - len(sim_scores)))\n"
   ]
  },
  {
   "cell_type": "code",
   "execution_count": 254,
   "metadata": {},
   "outputs": [
    {
     "data": {
      "image/png": "[encoded data removed]",
      "text/plain": [
       "<Figure size 640x480 with 1 Axes>"
      ]
     },
     "metadata": {},
     "output_type": "display_data"
    },
    {
     "name": "stdout",
     "output_type": "stream",
     "text": [
      "Average similarity score:  0.14614945447812053\n",
      "\n",
      "Top 10% similarity score:  0.42232515616646227\n",
      "\n",
      "Top 10 highest similarity score: [0.98039976 0.98039976 0.98334116 0.98334116 0.98468605 0.98468605\n",
      " 0.98944222 0.98944222 0.99989667 0.99989667]\n",
      "\n",
      "Max sim scores:  0.9998966723251195\n"
     ]
    }
   ],
   "source": [
    "# Convert tensor to NumPy array\n",
    "plot_sims = sim_scores[sim_scores < 0.9999].reshape(-1) # filter out values equal to 1 #OBS check more scietific way\n",
    "# Plot histogram\n",
    "plt.hist(plot_sims, bins=len(sim_scores), color='blue',alpha=0.7)\n",
    "plt.title('Histogram of similarity scores - MagFace Children')\n",
    "plt.xlabel('Value')\n",
    "plt.ylabel('Frequency')\n",
    "plt.grid(True)\n",
    "plt.show()\n",
    "\n",
    "print(\"Average similarity score: \", np.mean(plot_sims))\n",
    "print(\"\\nTop 10% similarity score: \", np.percentile(plot_sims, 97.5))\n",
    "print(\"\\nTop 10 highest similarity score:\", np.sort(plot_sims)[-10:])\n",
    "print(\"\\nMax sim scores: \", np.max(plot_sims))"
   ]
  },
  {
   "cell_type": "code",
   "execution_count": 255,
   "metadata": {},
   "outputs": [
    {
     "data": {
      "text/plain": [
       "['Indian_682',\n",
       " 'Indian_682',\n",
       " 'Indian_682',\n",
       " 'Asian_119',\n",
       " 'Asian_504',\n",
       " 'Asian_504',\n",
       " 'Caucasian_73',\n",
       " 'Caucasian_249',\n",
       " 'Caucasian_249',\n",
       " 'm.01w1069',\n",
       " 'Caucasian_363',\n",
       " 'Caucasian_363',\n",
       " 'm.05n',\n",
       " 'Asian_185',\n",
       " 'African_713',\n",
       " 'African_713',\n",
       " 'Indian_702',\n",
       " 'African_627',\n",
       " 'm.06ljz3',\n",
       " 'African_433',\n",
       " 'm.03vq05',\n",
       " 'm.03vq05',\n",
       " 'African_265',\n",
       " 'African_265',\n",
       " 'Asian_59',\n",
       " 'Asian_59',\n",
       " 'African_415',\n",
       " 'African_274',\n",
       " 'African_274',\n",
       " 'Indian_458',\n",
       " 'Caucasian_244',\n",
       " 'm.0j259dq',\n",
       " 'African_571',\n",
       " 'African_246',\n",
       " 'African_743',\n",
       " 'African_486',\n",
       " 'African_486',\n",
       " 'Asian_137',\n",
       " 'Asian_137',\n",
       " 'Asian_137',\n",
       " 'm.04gh78q',\n",
       " 'Indian_711',\n",
       " 'Indian_711',\n",
       " 'Asian_672',\n",
       " 'Indian_115',\n",
       " 'Indian_115',\n",
       " 'Indian_115',\n",
       " 'Asian_638',\n",
       " 'Indian_267',\n",
       " 'African_665',\n",
       " 'African_665',\n",
       " 'Indian_474',\n",
       " 'African_767',\n",
       " 'African_767',\n",
       " 'African_767',\n",
       " 'Indian_346',\n",
       " 'Caucasian_1323',\n",
       " 'Indian_442',\n",
       " 'Indian_442',\n",
       " 'Indian_676',\n",
       " 'Asian_420',\n",
       " 'Asian_420',\n",
       " 'African_305',\n",
       " 'Indian_616',\n",
       " 'm.04y7f4r',\n",
       " 'm.0d5060',\n",
       " 'Indian_484',\n",
       " 'Indian_484',\n",
       " 'Indian_484',\n",
       " 'Indian_484',\n",
       " 'Indian_484',\n",
       " 'Indian_484',\n",
       " 'Indian_484',\n",
       " 'Indian_484',\n",
       " 'm.05sxmf7',\n",
       " 'm.0gcslnm',\n",
       " 'm.05t2cs',\n",
       " 'Asian_663',\n",
       " 'Asian_663',\n",
       " 'Asian_663',\n",
       " 'Indian_635',\n",
       " 'Caucasian_167',\n",
       " 'Caucasian_167',\n",
       " 'Indian_532',\n",
       " 'Indian_532',\n",
       " 'Indian_532',\n",
       " 'Caucasian_245',\n",
       " 'Indian_603',\n",
       " 'm.0bbtgy9',\n",
       " 'African_301',\n",
       " 'Asian_9',\n",
       " 'Asian_9',\n",
       " 'Indian_385',\n",
       " 'Indian_385',\n",
       " 'Indian_385',\n",
       " 'Indian_630',\n",
       " 'Indian_630',\n",
       " 'm.03qcd6h',\n",
       " 'Indian_286',\n",
       " 'Indian_286',\n",
       " 'Indian_375',\n",
       " 'm.01kdft',\n",
       " 'Indian_665',\n",
       " 'Asian_67',\n",
       " 'Indian_485',\n",
       " 'Indian_485',\n",
       " 'African_338',\n",
       " 'African_338',\n",
       " 'African_267',\n",
       " 'African_267',\n",
       " 'Indian_517',\n",
       " 'Indian_517',\n",
       " 'African_201',\n",
       " 'm.0cz9s7m',\n",
       " 'm.0cz9s7m',\n",
       " 'African_194',\n",
       " 'African_428',\n",
       " 'Caucasian_1077',\n",
       " 'African_251',\n",
       " 'African_41',\n",
       " 'African_41',\n",
       " 'Asian_60',\n",
       " 'Indian_549',\n",
       " 'Asian_83',\n",
       " 'Caucasian_1007',\n",
       " 'African_178',\n",
       " 'African_178',\n",
       " 'African_178',\n",
       " 'African_178',\n",
       " 'African_178',\n",
       " 'Indian_57',\n",
       " 'Indian_57',\n",
       " 'Indian_57',\n",
       " 'Indian_57',\n",
       " 'Caucasian_1355',\n",
       " 'Caucasian_1355',\n",
       " 'Caucasian_1355',\n",
       " 'Asian_207',\n",
       " 'Indian_110',\n",
       " 'Indian_110',\n",
       " 'm.0g5t3dq',\n",
       " 'African_488',\n",
       " 'African_488',\n",
       " 'Asian_424',\n",
       " 'Caucasian_367',\n",
       " 'Caucasian_367',\n",
       " 'Caucasian_367',\n",
       " 'Caucasian_367',\n",
       " 'Caucasian_449',\n",
       " 'Asian_69',\n",
       " 'Asian_69',\n",
       " 'Indian_64',\n",
       " 'Indian_695',\n",
       " 'Indian_695',\n",
       " 'Indian_695',\n",
       " 'Indian_695',\n",
       " 'Indian_620',\n",
       " 'Indian_620',\n",
       " 'Indian_620',\n",
       " 'Indian_620',\n",
       " 'Indian_50',\n",
       " 'Asian_79',\n",
       " 'Indian_529',\n",
       " 'African_675',\n",
       " 'm.0lq5svr',\n",
       " 'm.0lq5svr',\n",
       " 'm.0lq5svr',\n",
       " 'Caucasian_57',\n",
       " 'Asian_485',\n",
       " 'African_367',\n",
       " 'African_367',\n",
       " 'African_367',\n",
       " 'Caucasian_1354',\n",
       " 'm.0gy1',\n",
       " 'Caucasian_1163',\n",
       " 'Caucasian_483',\n",
       " 'Caucasian_1123',\n",
       " 'Caucasian_1123',\n",
       " 'African_630',\n",
       " 'Asian_586',\n",
       " 'Asian_586',\n",
       " 'Asian_586',\n",
       " 'African_270',\n",
       " 'Indian_123',\n",
       " 'Asian_496',\n",
       " 'African_357',\n",
       " 'Asian_313',\n",
       " 'Asian_257',\n",
       " 'Asian_22',\n",
       " 'Asian_22',\n",
       " 'Caucasian_178',\n",
       " 'Indian_87',\n",
       " 'African_649',\n",
       " 'African_757',\n",
       " 'Indian_460',\n",
       " 'Asian_64',\n",
       " 'Asian_216',\n",
       " 'Asian_216',\n",
       " 'Indian_623',\n",
       " 'African_569',\n",
       " 'African_569',\n",
       " 'Caucasian_234',\n",
       " 'm.0lz2n',\n",
       " 'African_308',\n",
       " 'm.0c3v046',\n",
       " 'African_420',\n",
       " 'Asian_734',\n",
       " 'Caucasian_574',\n",
       " 'm.0cz84c8',\n",
       " 'm.0cz84c8',\n",
       " 'Caucasian_444',\n",
       " 'Caucasian_444',\n",
       " 'Caucasian_444',\n",
       " 'Caucasian_522',\n",
       " 'Caucasian_537',\n",
       " 'Caucasian_537',\n",
       " 'African_148',\n",
       " 'African_148',\n",
       " 'm.04k4g8',\n",
       " 'Caucasian_301',\n",
       " 'Caucasian_301',\n",
       " 'Asian_133',\n",
       " 'Asian_133',\n",
       " 'Asian_133',\n",
       " 'Indian_5',\n",
       " 'Indian_5',\n",
       " 'Indian_5',\n",
       " 'Caucasian_604',\n",
       " 'African_280',\n",
       " 'African_280',\n",
       " 'Asian_302',\n",
       " 'Asian_302',\n",
       " 'African_782',\n",
       " 'Caucasian_1173',\n",
       " 'African_252',\n",
       " 'African_424',\n",
       " 'African_424',\n",
       " 'African_820',\n",
       " 'm.02t',\n",
       " 'Indian_516',\n",
       " 'Indian_132',\n",
       " 'Indian_132',\n",
       " 'Indian_132',\n",
       " 'Indian_426',\n",
       " 'African_401',\n",
       " 'African_401',\n",
       " 'African_401',\n",
       " 'Asian_41',\n",
       " 'African_628',\n",
       " 'African_628',\n",
       " 'African_628',\n",
       " 'African_628',\n",
       " 'Indian_689',\n",
       " 'African_286',\n",
       " 'Asian_475',\n",
       " 'Asian_475',\n",
       " 'African_507',\n",
       " 'Caucasian_162',\n",
       " 'Asian_735',\n",
       " 'African_822',\n",
       " 'Indian_643',\n",
       " 'Indian_643',\n",
       " 'Indian_643',\n",
       " 'm.04gq5mw',\n",
       " 'Indian_119',\n",
       " 'Indian_119',\n",
       " 'Asian_611',\n",
       " 'Asian_611',\n",
       " 'Asian_611',\n",
       " 'Caucasian_590',\n",
       " 'African_579',\n",
       " 'African_241',\n",
       " 'African_241',\n",
       " 'African_241',\n",
       " 'African_241',\n",
       " 'Asian_204',\n",
       " 'Asian_204',\n",
       " 'Asian_204',\n",
       " 'African_806',\n",
       " 'Indian_293',\n",
       " 'Indian_293',\n",
       " 'Indian_293',\n",
       " 'Indian_293',\n",
       " 'Indian_293',\n",
       " 'African_175',\n",
       " 'Indian_277',\n",
       " 'Indian_277',\n",
       " 'Indian_275',\n",
       " 'Caucasian_357',\n",
       " 'm.0hgprs2',\n",
       " 'm.0hgprs2',\n",
       " 'Caucasian_129',\n",
       " 'Caucasian_432',\n",
       " 'African_290',\n",
       " 'African_290',\n",
       " 'African_612',\n",
       " 'African_612',\n",
       " 'African_612',\n",
       " 'Indian_53',\n",
       " 'Indian_53',\n",
       " 'Indian_53',\n",
       " 'Indian_53',\n",
       " 'm.0b61',\n",
       " 'm.0h55',\n",
       " 'African_397',\n",
       " 'African_397',\n",
       " 'African_284',\n",
       " 'm.05b4s6j',\n",
       " 'Indian_117',\n",
       " 'm.05mzg5y',\n",
       " 'm.05mzg5y',\n",
       " 'Caucasian_560',\n",
       " 'Indian_513',\n",
       " 'African_306',\n",
       " 'African_366',\n",
       " 'Asian_130',\n",
       " 'Asian_130',\n",
       " 'Caucasian_37',\n",
       " 'm.05zkm68',\n",
       " 'African_642',\n",
       " 'African_313',\n",
       " 'African_313',\n",
       " 'Indian_17',\n",
       " 'African_556',\n",
       " 'African_60',\n",
       " 'African_60',\n",
       " 'Caucasian_431',\n",
       " 'Caucasian_399',\n",
       " 'Caucasian_397',\n",
       " 'Caucasian_1274',\n",
       " 'African_635',\n",
       " 'African_314',\n",
       " 'African_314',\n",
       " 'Asian_551',\n",
       " 'm.09',\n",
       " 'Indian_428',\n",
       " 'Caucasian_1364',\n",
       " 'Caucasian_1364',\n",
       " 'African_206',\n",
       " 'African_206',\n",
       " 'm.0ks6hg',\n",
       " 'Indian_392',\n",
       " 'Indian_392',\n",
       " 'Indian_392',\n",
       " 'Indian_392',\n",
       " 'Indian_392',\n",
       " 'Indian_392',\n",
       " 'Indian_599',\n",
       " 'Indian_599',\n",
       " 'Indian_599',\n",
       " 'Indian_599',\n",
       " 'm.0crgm59',\n",
       " 'm.0crgm59',\n",
       " 'African_167',\n",
       " 'African_167',\n",
       " 'Indian_483',\n",
       " 'African_303',\n",
       " 'African_303',\n",
       " 'm.0374vb',\n",
       " 'Indian_209',\n",
       " 'Indian_209',\n",
       " 'Caucasian_484',\n",
       " 'Caucasian_484',\n",
       " 'm.0bzync',\n",
       " 'm.0h',\n",
       " 'African_510',\n",
       " 'Indian_538',\n",
       " 'm.03d9sf',\n",
       " 'm.03d9sf',\n",
       " 'Indian_232',\n",
       " 'Indian_232',\n",
       " 'Indian_598',\n",
       " 'Indian_598',\n",
       " 'Indian_598',\n",
       " 'Indian_598',\n",
       " 'African_195',\n",
       " 'Asian_304',\n",
       " 'Asian_304',\n",
       " 'Asian_304',\n",
       " 'Caucasian_33',\n",
       " 'Caucasian_33',\n",
       " 'Caucasian_33',\n",
       " 'African_769',\n",
       " 'African_769',\n",
       " 'African_769',\n",
       " 'Indian_679',\n",
       " 'Indian_679',\n",
       " 'Indian_679',\n",
       " 'Caucasian_1278',\n",
       " 'm.051yv36',\n",
       " 'm.051yv36',\n",
       " 'African_746',\n",
       " 'African_746',\n",
       " 'm.02z35g0',\n",
       " 'Caucasian_1064',\n",
       " 'm.0ddf3sx',\n",
       " 'm.0ddf3sx',\n",
       " 'Caucasian_1214',\n",
       " 'm.0g577f5',\n",
       " 'm.0g577f5',\n",
       " 'Caucasian_126',\n",
       " 'Caucasian_418',\n",
       " 'Indian_355',\n",
       " 'Asian_62',\n",
       " 'Asian_62',\n",
       " 'm.02knyq',\n",
       " 'm.0jfgrjr',\n",
       " 'm.0jfgrjr',\n",
       " 'm.04wd3l',\n",
       " 'Caucasian_119',\n",
       " 'Caucasian_119',\n",
       " 'm.0gh79sg',\n",
       " 'African_114',\n",
       " 'African_114',\n",
       " 'African_114',\n",
       " 'African_734',\n",
       " 'Indian_556',\n",
       " 'Indian_556',\n",
       " 'Indian_556',\n",
       " 'African_318',\n",
       " 'African_318',\n",
       " 'African_318',\n",
       " 'African_318',\n",
       " 'Indian_165',\n",
       " 'Indian_165',\n",
       " 'Asian_12',\n",
       " 'Asian_12',\n",
       " 'Indian_597',\n",
       " 'm.02z7z7t',\n",
       " 'African_222',\n",
       " 'm.04d',\n",
       " 'm.04d',\n",
       " 'Asian_320',\n",
       " 'Caucasian_66',\n",
       " 'Indian_276',\n",
       " 'Asian_696',\n",
       " 'm.01nmf8f',\n",
       " 'Asian_604',\n",
       " 'African_632',\n",
       " 'African_632',\n",
       " 'African_632',\n",
       " 'Indian_650',\n",
       " 'African_277',\n",
       " 'Caucasian_31',\n",
       " 'Caucasian_285',\n",
       " 'Caucasian_285',\n",
       " 'Caucasian_285',\n",
       " 'Caucasian_179',\n",
       " 'Caucasian_1199',\n",
       " 'Indian_269',\n",
       " 'Indian_269',\n",
       " 'Indian_269',\n",
       " 'African_830',\n",
       " 'Asian_88',\n",
       " 'Asian_144',\n",
       " 'Asian_144',\n",
       " 'Caucasian_335',\n",
       " 'Asian_179',\n",
       " 'Asian_179',\n",
       " 'Asian_630',\n",
       " 'Asian_630',\n",
       " 'm.02664bd',\n",
       " 'm.02664bd',\n",
       " 'Indian_638',\n",
       " 'Indian_638',\n",
       " 'Indian_638',\n",
       " 'Indian_638',\n",
       " 'Indian_30',\n",
       " 'Indian_30',\n",
       " 'Indian_637',\n",
       " 'Indian_637',\n",
       " 'Indian_0',\n",
       " 'Indian_175',\n",
       " 'm.051t72',\n",
       " 'Caucasian_500',\n",
       " 'Caucasian_500',\n",
       " 'Caucasian_500',\n",
       " 'Caucasian_121',\n",
       " 'Indian_589',\n",
       " 'African_492',\n",
       " 'm.02vgny',\n",
       " 'African_602',\n",
       " 'm.080d3c2',\n",
       " 'Caucasian_294',\n",
       " 'Caucasian_287',\n",
       " 'Caucasian_287',\n",
       " 'Indian_454',\n",
       " 'Indian_693',\n",
       " 'African_92',\n",
       " 'African_92',\n",
       " 'African_352',\n",
       " 'm.04wwtz',\n",
       " 'Asian_221',\n",
       " 'Asian_221',\n",
       " 'Caucasian_1259',\n",
       " 'Indian_568',\n",
       " 'Indian_568',\n",
       " 'Indian_568',\n",
       " 'Caucasian_1006',\n",
       " 'African_325',\n",
       " 'African_325',\n",
       " 'African_279',\n",
       " 'Caucasian_1408',\n",
       " 'Caucasian_326',\n",
       " 'Indian_633',\n",
       " 'Indian_116',\n",
       " 'Asian_521',\n",
       " 'Asian_190',\n",
       " 'Asian_190',\n",
       " 'Asian_175',\n",
       " 'African_552',\n",
       " 'African_552',\n",
       " 'African_552',\n",
       " 'Asian_24',\n",
       " 'Asian_24',\n",
       " 'Asian_24',\n",
       " 'Indian_511',\n",
       " 'Indian_511',\n",
       " 'Indian_511',\n",
       " 'Indian_142',\n",
       " 'Indian_142',\n",
       " 'Indian_142',\n",
       " 'Indian_142',\n",
       " 'African_534',\n",
       " 'Caucasian_436',\n",
       " 'African_44',\n",
       " 'Indian_573',\n",
       " 'Indian_573',\n",
       " 'Indian_573',\n",
       " 'Asian_417',\n",
       " 'Asian_38',\n",
       " 'Indian_138',\n",
       " 'African_780',\n",
       " 'African_780',\n",
       " 'Caucasian_1049',\n",
       " 'African_2',\n",
       " 'African_2',\n",
       " 'Caucasian_205',\n",
       " 'Caucasian_205',\n",
       " 'Caucasian_519',\n",
       " 'Caucasian_519',\n",
       " 'Asian_122',\n",
       " 'Asian_122',\n",
       " 'Asian_122',\n",
       " 'Asian_122',\n",
       " 'Indian_274',\n",
       " 'African_80',\n",
       " 'African_80',\n",
       " 'Asian_664',\n",
       " 'Asian_664',\n",
       " 'Indian_576',\n",
       " 'Indian_576',\n",
       " 'Indian_576',\n",
       " 'm.060ckn',\n",
       " 'm.060ckn',\n",
       " 'African_700',\n",
       " 'African_700',\n",
       " 'Asian_363',\n",
       " 'Asian_363',\n",
       " 'Indian_67',\n",
       " 'Caucasian_1322',\n",
       " 'Caucasian_1322',\n",
       " 'Caucasian_1322',\n",
       " 'African_501',\n",
       " 'African_501',\n",
       " 'Caucasian_1301',\n",
       " 'African_302',\n",
       " 'African_302',\n",
       " 'African_302',\n",
       " 'African_302',\n",
       " 'Caucasian_60',\n",
       " 'Caucasian_60',\n",
       " 'Asian_619',\n",
       " 'Caucasian_410',\n",
       " 'Indian_539',\n",
       " 'Indian_539',\n",
       " 'm.01167d3z',\n",
       " 'Caucasian_1230',\n",
       " 'Asian_295',\n",
       " 'African_664',\n",
       " 'Caucasian_1011',\n",
       " 'm.0j3g6p0',\n",
       " 'm.0j3g6p0',\n",
       " 'm.0j3g6p0',\n",
       " 'Indian_572',\n",
       " 'Indian_572',\n",
       " 'Indian_572',\n",
       " 'Asian_633',\n",
       " 'Asian_633',\n",
       " 'Asian_633',\n",
       " 'Asian_435',\n",
       " 'Asian_435',\n",
       " 'Caucasian_1136',\n",
       " 'Indian_189',\n",
       " 'Indian_420',\n",
       " 'Indian_420',\n",
       " 'African_619',\n",
       " 'Caucasian_1359',\n",
       " 'Asian_362',\n",
       " 'Indian_662',\n",
       " 'Indian_662',\n",
       " 'Indian_320',\n",
       " 'Indian_320',\n",
       " 'Indian_320',\n",
       " 'Indian_320',\n",
       " 'Asian_480',\n",
       " 'Asian_480',\n",
       " 'African_393',\n",
       " 'African_393',\n",
       " 'African_36',\n",
       " 'African_36',\n",
       " 'African_36',\n",
       " 'Asian_157',\n",
       " 'Indian_63',\n",
       " 'Indian_63',\n",
       " 'm.05mw28f',\n",
       " 'Caucasian_526',\n",
       " 'Caucasian_596',\n",
       " 'Asian_14',\n",
       " 'm.05lq0j',\n",
       " 'm.05lq0j',\n",
       " 'Indian_654',\n",
       " 'Indian_654',\n",
       " 'African_264',\n",
       " 'African_264',\n",
       " 'Asian_507',\n",
       " 'Asian_507',\n",
       " 'Indian_212',\n",
       " 'm.03nxqb8',\n",
       " 'm.03nxqb8',\n",
       " 'm.03nxqb8',\n",
       " 'African_702',\n",
       " 'm.07dd04',\n",
       " 'Indian_168',\n",
       " 'Indian_168',\n",
       " 'African_0',\n",
       " 'Indian_91',\n",
       " 'African_326',\n",
       " 'Indian_399',\n",
       " 'Indian_399',\n",
       " 'Indian_399',\n",
       " 'Indian_399',\n",
       " 'Indian_399',\n",
       " 'Caucasian_256',\n",
       " 'Caucasian_256',\n",
       " 'Caucasian_256',\n",
       " 'Caucasian_405',\n",
       " 'Caucasian_405',\n",
       " 'Caucasian_405',\n",
       " 'African_470',\n",
       " 'African_470',\n",
       " 'Caucasian_419',\n",
       " 'm.0ck5hsy',\n",
       " 'm.0ck5hsy',\n",
       " 'Asian_410',\n",
       " 'African_493',\n",
       " 'Asian_469',\n",
       " 'Asian_469',\n",
       " 'm.04112vx',\n",
       " 'm.04112vx',\n",
       " 'Indian_55',\n",
       " 'Indian_55',\n",
       " 'Indian_55',\n",
       " 'Indian_55',\n",
       " 'African_555',\n",
       " 'African_555',\n",
       " 'Caucasian_1405',\n",
       " 'Caucasian_1405',\n",
       " 'm.0bh8tm0',\n",
       " 'm.03mc3p4',\n",
       " 'm.03mc3p4',\n",
       " 'm.03mc3p4',\n",
       " 'm.0dgqy0m',\n",
       " 'Caucasian_485',\n",
       " 'Caucasian_485',\n",
       " 'African_319',\n",
       " 'African_319',\n",
       " 'African_319',\n",
       " 'Caucasian_1366',\n",
       " 'Caucasian_1366',\n",
       " 'Caucasian_1366',\n",
       " 'African_472',\n",
       " 'Caucasian_386',\n",
       " 'Caucasian_386',\n",
       " 'African_427',\n",
       " 'Indian_341',\n",
       " 'Indian_718',\n",
       " 'Indian_186',\n",
       " 'African_615',\n",
       " 'African_91',\n",
       " 'African_91',\n",
       " 'Asian_454',\n",
       " 'Asian_454',\n",
       " 'Asian_107',\n",
       " 'Asian_107',\n",
       " 'African_75',\n",
       " 'African_75',\n",
       " 'African_454',\n",
       " 'Indian_309',\n",
       " 'African_329',\n",
       " 'African_447',\n",
       " 'Asian_559',\n",
       " 'm.085b',\n",
       " 'm.085b',\n",
       " 'Indian_424',\n",
       " 'Indian_424',\n",
       " 'Asian_265',\n",
       " 'Asian_265',\n",
       " 'Asian_265',\n",
       " 'm.03c9',\n",
       " 'm.03c9',\n",
       " 'Indian_129',\n",
       " 'Indian_95',\n",
       " 'Indian_95',\n",
       " 'Indian_51',\n",
       " 'Indian_190',\n",
       " 'm.0ctrtr',\n",
       " 'm.0ctrtr',\n",
       " 'Caucasian_68',\n",
       " 'Asian_479',\n",
       " 'Asian_479',\n",
       " 'African_151',\n",
       " 'm.04ct11t',\n",
       " 'Caucasian_1218',\n",
       " 'Indian_179',\n",
       " 'Indian_179',\n",
       " 'Indian_179',\n",
       " 'm.02vr704',\n",
       " 'Indian_162',\n",
       " 'Indian_162',\n",
       " 'Indian_704',\n",
       " 'African_260',\n",
       " 'African_724',\n",
       " 'Caucasian_1297',\n",
       " 'm.073bb',\n",
       " 'm.0j9mdv2',\n",
       " 'Caucasian_1001',\n",
       " 'African_474',\n",
       " 'African_474',\n",
       " 'Asian_28',\n",
       " 'Asian_28',\n",
       " 'Asian_28',\n",
       " 'Asian_28',\n",
       " 'Caucasian_1329',\n",
       " 'Caucasian_1329',\n",
       " 'Indian_13',\n",
       " 'Indian_207',\n",
       " 'Indian_207',\n",
       " 'Asian_86',\n",
       " 'Indian_655',\n",
       " 'Asian_716',\n",
       " 'm.0g567x3',\n",
       " 'm.0g567x3',\n",
       " 'African_147',\n",
       " 'Indian_136',\n",
       " 'Caucasian_146',\n",
       " 'Caucasian_233',\n",
       " 'African_216',\n",
       " 'Caucasian_1236',\n",
       " 'African_355',\n",
       " 'African_355',\n",
       " 'Asian_106',\n",
       " 'Asian_462',\n",
       " 'Asian_462',\n",
       " 'Caucasian_21',\n",
       " 'Caucasian_440',\n",
       " 'Indian_546',\n",
       " 'African_631',\n",
       " 'African_631',\n",
       " 'African_631',\n",
       " 'African_220',\n",
       " 'African_220',\n",
       " 'African_220',\n",
       " 'African_220',\n",
       " 'm.0j63px2',\n",
       " 'm.0j63px2',\n",
       " 'm.0j63px2',\n",
       " 'African_523',\n",
       " 'African_523',\n",
       " 'African_523',\n",
       " 'Caucasian_67',\n",
       " 'Asian_569',\n",
       " 'Caucasian_499',\n",
       " 'Indian_473',\n",
       " 'Caucasian_45',\n",
       " 'African_288',\n",
       " 'African_288',\n",
       " 'Indian_298',\n",
       " 'Indian_298',\n",
       " 'Caucasian_135',\n",
       " 'Caucasian_135',\n",
       " 'Caucasian_450',\n",
       " 'Indian_144',\n",
       " 'Indian_144',\n",
       " 'African_375',\n",
       " 'African_391',\n",
       " 'African_489',\n",
       " 'Indian_170',\n",
       " 'African_544',\n",
       " 'Indian_500',\n",
       " 'Indian_500',\n",
       " 'Indian_500',\n",
       " 'Indian_413',\n",
       " 'm.04bhjx',\n",
       " 'm.04bhjx',\n",
       " 'Indian_203',\n",
       " 'm.0j4c85h',\n",
       " 'Indian_492',\n",
       " 'Indian_492',\n",
       " 'African_182',\n",
       " 'African_182',\n",
       " 'African_182',\n",
       " 'African_506',\n",
       " 'Indian_575',\n",
       " 'Indian_575',\n",
       " 'Indian_241',\n",
       " 'Indian_241',\n",
       " 'm.0fpj1q0',\n",
       " 'African_202',\n",
       " 'Asian_141',\n",
       " 'Asian_141',\n",
       " 'Indian_537',\n",
       " 'Indian_265',\n",
       " 'Caucasian_377',\n",
       " 'Caucasian_377',\n",
       " 'African_779',\n",
       " 'Asian_126',\n",
       " 'Indian_225',\n",
       " 'Indian_225',\n",
       " 'African_637',\n",
       " 'African_637',\n",
       " 'Asian_286',\n",
       " 'Asian_286',\n",
       " 'Asian_286',\n",
       " 'Indian_280',\n",
       " 'Caucasian_320',\n",
       " 'm.0rpfv5x',\n",
       " 'Caucasian_1129',\n",
       " 'Asian_193',\n",
       " 'Asian_193',\n",
       " 'Asian_193',\n",
       " 'Indian_378',\n",
       " 'Caucasian_534',\n",
       " 'Asian_593',\n",
       " 'Asian_593',\n",
       " 'Asian_593',\n",
       " 'African_517',\n",
       " 'African_517',\n",
       " 'African_517',\n",
       " 'Caucasian_1022',\n",
       " 'Caucasian_1022',\n",
       " 'Caucasian_1022',\n",
       " 'Caucasian_1022',\n",
       " 'Indian_111',\n",
       " 'Indian_111',\n",
       " 'Caucasian_1193',\n",
       " 'African_271',\n",
       " 'African_271',\n",
       " 'African_285',\n",
       " 'African_285',\n",
       " 'African_285',\n",
       " 'African_285',\n",
       " 'Indian_36',\n",
       " 'Indian_36',\n",
       " 'Indian_36',\n",
       " 'Indian_36',\n",
       " 'Caucasian_1279',\n",
       " 'Caucasian_329',\n",
       " 'Caucasian_329',\n",
       " 'Caucasian_329',\n",
       " 'Caucasian_329',\n",
       " 'African_226',\n",
       " 'African_715',\n",
       " 'African_690',\n",
       " 'African_690',\n",
       " 'African_674',\n",
       " 'African_674',\n",
       " 'Caucasian_36',\n",
       " 'Caucasian_36',\n",
       " 'Caucasian_36',\n",
       " 'm.043qv9l',\n",
       " 'Indian_296',\n",
       " 'African_67',\n",
       " 'African_67',\n",
       " 'Caucasian_176',\n",
       " 'm.0gyrf8v',\n",
       " 'Asian_176',\n",
       " 'Indian_706',\n",
       " 'Indian_706',\n",
       " 'African_691',\n",
       " 'African_691',\n",
       " 'African_691',\n",
       " 'm.0n49v6t',\n",
       " 'Asian_347',\n",
       " 'Asian_347',\n",
       " 'African_389',\n",
       " 'African_389',\n",
       " 'Indian_14',\n",
       " 'Indian_14',\n",
       " 'Caucasian_458',\n",
       " 'Caucasian_458',\n",
       " 'Caucasian_458',\n",
       " 'Caucasian_458',\n",
       " 'Asian_568',\n",
       " 'Indian_171',\n",
       " 'Asian_419',\n",
       " 'Asian_419',\n",
       " 'Indian_127',\n",
       " 'Caucasian_1321',\n",
       " 'Caucasian_1321',\n",
       " 'African_614',\n",
       " 'African_614',\n",
       " 'Asian_120',\n",
       " 'African_586',\n",
       " 'Indian_499',\n",
       " 'Indian_692',\n",
       " 'Indian_692',\n",
       " 'African_686',\n",
       " 'm.0223zk',\n",
       " 'm.0223zk',\n",
       " 'Caucasian_390',\n",
       " 'Caucasian_390',\n",
       " 'Caucasian_390',\n",
       " 'Indian_197',\n",
       " 'm.0bmf6f',\n",
       " 'African_156',\n",
       " 'African_156',\n",
       " 'African_633',\n",
       " 'Indian_553',\n",
       " 'Asian_644',\n",
       " 'm.09lj1',\n",
       " 'm.04w79y',\n",
       " 'Indian_490',\n",
       " 'Indian_490',\n",
       " 'Indian_490',\n",
       " 'm.03h0jf4',\n",
       " 'African_731',\n",
       " 'African_731',\n",
       " 'African_731',\n",
       " 'Caucasian_141',\n",
       " 'Asian_343',\n",
       " 'Asian_343',\n",
       " 'Asian_343',\n",
       " 'Asian_343',\n",
       " 'm.0j4d7r3',\n",
       " 'Caucasian_457',\n",
       " 'African_287',\n",
       " 'Asian_191',\n",
       " 'Asian_191',\n",
       " 'Indian_68',\n",
       " 'African_289',\n",
       " 'Asian_607',\n",
       " 'Asian_607',\n",
       " 'Asian_607',\n",
       " 'Indian_210',\n",
       " 'Indian_33',\n",
       " 'African_654',\n",
       " 'Indian_135',\n",
       " 'Caucasian_44',\n",
       " 'Indian_15',\n",
       " 'm.02qtd23',\n",
       " 'm.04k4jh',\n",
       " 'm.04k4jh',\n",
       " 'Indian_251',\n",
       " 'Indian_251',\n",
       " 'Indian_251',\n",
       " 'Asian_32',\n",
       " 'Indian_582',\n",
       " 'Indian_439',\n",
       " 'Indian_166',\n",
       " 'Indian_166',\n",
       " 'Indian_166',\n",
       " 'Asian_2',\n",
       " 'Caucasian_1118',\n",
       " 'Caucasian_1118',\n",
       " 'm.06y4cw',\n",
       " 'm.0k3208',\n",
       " 'Indian_239',\n",
       " 'Indian_239',\n",
       " 'Asian_246',\n",
       " 'Caucasian_267',\n",
       " 'Asian_174',\n",
       " 'Asian_174',\n",
       " 'Indian_23',\n",
       " 'Indian_604',\n",
       " 'Indian_604',\n",
       " 'Indian_604',\n",
       " 'Indian_604',\n",
       " 'm.06',\n",
       " 'm.0dryml1',\n",
       " 'm.0h62',\n",
       " 'm.0h62',\n",
       " 'African_695',\n",
       " 'African_695',\n",
       " 'African_502',\n",
       " 'm.0bhh5n',\n",
       " 'm.0bhh5n',\n",
       " 'African_402',\n",
       " 'Asian_549',\n",
       " 'Asian_549',\n",
       " ...]"
      ]
     },
     "execution_count": 255,
     "metadata": {},
     "output_type": "execute_result"
    }
   ],
   "source": [
    "ids"
   ]
  },
  {
   "cell_type": "code",
   "execution_count": 256,
   "metadata": {},
   "outputs": [
    {
     "data": {
      "text/plain": [
       "array([   0,    0,    0, ..., 2020, 2021, 2021])"
      ]
     },
     "execution_count": 256,
     "metadata": {},
     "output_type": "execute_result"
    }
   ],
   "source": [
    "im_ids"
   ]
  },
  {
   "cell_type": "markdown",
   "metadata": {},
   "source": [
    "##### Load children data canonical"
   ]
  },
  {
   "cell_type": "code",
   "execution_count": 257,
   "metadata": {},
   "outputs": [],
   "source": [
    "df_c_can = pd.read_csv(\"../data/OFIQ_results/canonical_children.csv\", sep=\";\")"
   ]
  },
  {
   "cell_type": "code",
   "execution_count": 258,
   "metadata": {},
   "outputs": [],
   "source": [
    "# Get canonical ids and respective feature vectors\n",
    "imgnames_can = [imgnames[ele] for ele in range(len(lines)) if imgnames[ele].split(\"/\")[-1] in np.array(df_c_can.Filename)]\n",
    "feats_can = np.array([img_2_feats[imgnames_can[ele]] for ele in range(len(imgnames_can))]) #unsorted image quality\n",
    "\n",
    "sim_mat_can = np.dot(feats_can, feats_can.T)"
   ]
  },
  {
   "cell_type": "code",
   "execution_count": 259,
   "metadata": {},
   "outputs": [
    {
     "name": "stdout",
     "output_type": "stream",
     "text": [
      "Factorized list: [0, 1, 2, 3, 4, 5, 6, 7, 8, 9]\n",
      "Unique IDs mapping: {'/data/raw_full/children/children/Indian_682/Indian_682_32.png': 0, '/data/raw_full/children/children/Asian_504/Asian_504_86.png': 1, '/data/raw_full/children/children/Asian_504/Asian_504_89.png': 2, '/data/raw_full/children/children/Asian_m.01w1069/m.01w1069_0002.jpg': 3, '/data/raw_full/children/children/Asian_185/Asian_185_18.png': 4, '/data/raw_full/children/children/African_627/African_627_0.png': 5, '/data/raw_full/children/children/African_433/African_433_3.png': 6, '/data/raw_full/children/children/Caucasian_m.03vq05/m.03vq05_0003.jpg': 7, '/data/raw_full/children/children/African_265/African_265_15.png': 8, '/data/raw_full/children/children/Asian_59/Asian_59_0.png': 9, '/data/raw_full/children/children/African_415/African_415_0.png': 10, '/data/raw_full/children/children/African_274/African_274_4.png': 11, '/data/raw_full/children/children/Indian_458/Indian_458_0.png': 12, '/data/raw_full/children/children/African_m.0j259dq/m.0j259dq_0002.jpg': 13, '/data/raw_full/children/children/African_743/African_743_3.png': 14, '/data/raw_full/children/children/Asian_137/Asian_137_8.png': 15, '/data/raw_full/children/children/African_m.04gh78q/m.04gh78q_0002.jpg': 16, '/data/raw_full/children/children/Asian_672/Asian_672_24.png': 17, '/data/raw_full/children/children/Indian_115/Indian_115_1.png': 18, '/data/raw_full/children/children/African_665/African_665_0.png': 19, '/data/raw_full/children/children/African_767/African_767_3.png': 20, '/data/raw_full/children/children/African_767/African_767_1.png': 21, '/data/raw_full/children/children/African_767/African_767_7.png': 22, '/data/raw_full/children/children/Asian_420/Asian_420_41.png': 23, '/data/raw_full/children/children/Indian_616/Indian_616_0.png': 24, '/data/raw_full/children/children/African_m.04y7f4r/m.04y7f4r_0002.jpg': 25, '/data/raw_full/children/children/Indian_484/Indian_484_37.png': 26, '/data/raw_full/children/children/Indian_m.05sxmf7/m.05sxmf7_0002.jpg': 27, '/data/raw_full/children/children/Indian_m.0gcslnm/m.0gcslnm_0003.jpg': 28, '/data/raw_full/children/children/Indian_635/Indian_635_5.png': 29, '/data/raw_full/children/children/Indian_532/Indian_532_5.png': 30, '/data/raw_full/children/children/Indian_532/Indian_532_10.png': 31, '/data/raw_full/children/children/Caucasian_245/Caucasian_245_4.png': 32, '/data/raw_full/children/children/Indian_603/Indian_603_0.png': 33, '/data/raw_full/children/children/Caucasian_m.0bbtgy9/m.0bbtgy9_0002.jpg': 34, '/data/raw_full/children/children/Indian_385/Indian_385_86.png': 35, '/data/raw_full/children/children/Indian_385/Indian_385_56.png': 36, '/data/raw_full/children/children/Indian_385/Indian_385_38.png': 37, '/data/raw_full/children/children/Indian_630/Indian_630_2.png': 38, '/data/raw_full/children/children/Indian_630/Indian_630_4.png': 39, '/data/raw_full/children/children/Caucasian_m.03qcd6h/m.03qcd6h_0003.jpg': 40, '/data/raw_full/children/children/Indian_286/Indian_286_3.png': 41, '/data/raw_full/children/children/Indian_375/Indian_375_0.png': 42, '/data/raw_full/children/children/Asian_67/Asian_67_17.png': 43, '/data/raw_full/children/children/African_338/African_338_1.png': 44, '/data/raw_full/children/children/African_338/African_338_0.png': 45, '/data/raw_full/children/children/African_267/African_267_25.png': 46, '/data/raw_full/children/children/Indian_517/Indian_517_0.png': 47, '/data/raw_full/children/children/Indian_517/Indian_517_1.png': 48, '/data/raw_full/children/children/African_201/African_201_1.png': 49, '/data/raw_full/children/children/Asian_m.0cz9s7m/m.0cz9s7m_0001.jpg': 50, '/data/raw_full/children/children/African_194/African_194_6.png': 51, '/data/raw_full/children/children/African_41/African_41_0.png': 52, '/data/raw_full/children/children/Indian_549/Indian_549_1.png': 53, '/data/raw_full/children/children/African_178/African_178_39.png': 54, '/data/raw_full/children/children/African_178/African_178_64.png': 55, '/data/raw_full/children/children/African_178/African_178_18.png': 56, '/data/raw_full/children/children/African_178/African_178_44.png': 57, '/data/raw_full/children/children/African_178/African_178_77.png': 58, '/data/raw_full/children/children/Indian_57/Indian_57_5.png': 59, '/data/raw_full/children/children/Caucasian_1355/Caucasian_1355_20.png': 60, '/data/raw_full/children/children/Caucasian_1355/Caucasian_1355_8.png': 61, '/data/raw_full/children/children/Caucasian_1355/Caucasian_1355_13.png': 62, '/data/raw_full/children/children/Indian_110/Indian_110_0.png': 63, '/data/raw_full/children/children/Indian_110/Indian_110_1.png': 64, '/data/raw_full/children/children/Caucasian_m.0g5t3dq/m.0g5t3dq_0004.jpg': 65, '/data/raw_full/children/children/African_488/African_488_1.png': 66, '/data/raw_full/children/children/African_488/African_488_0.png': 67, '/data/raw_full/children/children/Asian_424/Asian_424_1.png': 68, '/data/raw_full/children/children/Caucasian_367/Caucasian_367_19.png': 69, '/data/raw_full/children/children/Caucasian_367/Caucasian_367_47.png': 70, '/data/raw_full/children/children/Caucasian_367/Caucasian_367_13.png': 71, '/data/raw_full/children/children/Asian_69/Asian_69_180.png': 72, '/data/raw_full/children/children/Indian_64/Indian_64_0.png': 73, '/data/raw_full/children/children/Indian_620/Indian_620_9.png': 74, '/data/raw_full/children/children/Indian_620/Indian_620_0.png': 75, '/data/raw_full/children/children/Indian_620/Indian_620_1.png': 76, '/data/raw_full/children/children/Indian_620/Indian_620_6.png': 77, '/data/raw_full/children/children/Asian_79/Asian_79_18.png': 78, '/data/raw_full/children/children/Indian_529/Indian_529_9.png': 79, '/data/raw_full/children/children/African_675/African_675_2.png': 80, '/data/raw_full/children/children/Asian_m.0lq5svr/m.0lq5svr_0003.jpg': 81, '/data/raw_full/children/children/African_367/African_367_21.png': 82, '/data/raw_full/children/children/African_367/African_367_26.png': 83, '/data/raw_full/children/children/Caucasian_1123/Caucasian_1123_2.png': 84, '/data/raw_full/children/children/Caucasian_1123/Caucasian_1123_1.png': 85, '/data/raw_full/children/children/African_630/African_630_1.png': 86, '/data/raw_full/children/children/Indian_123/Indian_123_3.png': 87, '/data/raw_full/children/children/African_357/African_357_1.png': 88, '/data/raw_full/children/children/Asian_313/Asian_313_31.png': 89, '/data/raw_full/children/children/Asian_22/Asian_22_4.png': 90, '/data/raw_full/children/children/Asian_22/Asian_22_0.png': 91, '/data/raw_full/children/children/African_649/African_649_4.png': 92, '/data/raw_full/children/children/African_757/African_757_3.png': 93, '/data/raw_full/children/children/Indian_460/Indian_460_0.png': 94, '/data/raw_full/children/children/Asian_216/Asian_216_30.png': 95, '/data/raw_full/children/children/Caucasian_m.0c3v046/m.0c3v046_0001.jpg': 96, '/data/raw_full/children/children/African_420/African_420_0.png': 97, '/data/raw_full/children/children/Asian_734/Asian_734_0.png': 98, '/data/raw_full/children/children/Asian_m.0cz84c8/m.0cz84c8_0001.jpg': 99, '/data/raw_full/children/children/African_148/African_148_8.png': 100, '/data/raw_full/children/children/African_148/African_148_0.png': 101, '/data/raw_full/children/children/Caucasian_301/Caucasian_301_42.png': 102, '/data/raw_full/children/children/Asian_133/Asian_133_22.png': 103, '/data/raw_full/children/children/African_280/African_280_28.png': 104, '/data/raw_full/children/children/African_280/African_280_45.png': 105, '/data/raw_full/children/children/Asian_302/Asian_302_32.png': 106, '/data/raw_full/children/children/African_782/African_782_2.png': 107, '/data/raw_full/children/children/Caucasian_1173/Caucasian_1173_9.png': 108, '/data/raw_full/children/children/African_424/African_424_0.png': 109, '/data/raw_full/children/children/African_424/African_424_1.png': 110, '/data/raw_full/children/children/Caucasian_m.02t__3/m.02t__3_0002.jpg': 111, '/data/raw_full/children/children/Indian_132/Indian_132_2.png': 112, '/data/raw_full/children/children/Indian_132/Indian_132_3.png': 113, '/data/raw_full/children/children/Indian_132/Indian_132_0.png': 114, '/data/raw_full/children/children/African_401/African_401_5.png': 115, '/data/raw_full/children/children/African_401/African_401_1.png': 116, '/data/raw_full/children/children/African_401/African_401_4.png': 117, '/data/raw_full/children/children/African_628/African_628_10.png': 118, '/data/raw_full/children/children/African_628/African_628_85.png': 119, '/data/raw_full/children/children/African_286/African_286_1.png': 120, '/data/raw_full/children/children/Asian_475/Asian_475_14.png': 121, '/data/raw_full/children/children/Asian_475/Asian_475_2.png': 122, '/data/raw_full/children/children/Indian_643/Indian_643_0.png': 123, '/data/raw_full/children/children/Indian_643/Indian_643_1.png': 124, '/data/raw_full/children/children/Indian_119/Indian_119_9.png': 125, '/data/raw_full/children/children/Indian_119/Indian_119_0.png': 126, '/data/raw_full/children/children/Asian_611/Asian_611_44.png': 127, '/data/raw_full/children/children/African_579/African_579_12.png': 128, '/data/raw_full/children/children/African_241/African_241_24.png': 129, '/data/raw_full/children/children/African_241/African_241_55.png': 130, '/data/raw_full/children/children/African_241/African_241_100.png': 131, '/data/raw_full/children/children/Asian_204/Asian_204_9.png': 132, '/data/raw_full/children/children/African_806/African_806_1.png': 133, '/data/raw_full/children/children/Indian_293/Indian_293_84.png': 134, '/data/raw_full/children/children/Indian_293/Indian_293_93.png': 135, '/data/raw_full/children/children/Indian_293/Indian_293_31.png': 136, '/data/raw_full/children/children/Indian_293/Indian_293_69.png': 137, '/data/raw_full/children/children/Indian_277/Indian_277_0.png': 138, '/data/raw_full/children/children/Indian_275/Indian_275_1.png': 139, '/data/raw_full/children/children/African_290/African_290_7.png': 140, '/data/raw_full/children/children/Indian_53/Indian_53_7.png': 141, '/data/raw_full/children/children/Indian_53/Indian_53_6.png': 142, '/data/raw_full/children/children/African_m.0h55_86/m.0h55_86_0001.jpg': 143, '/data/raw_full/children/children/African_397/African_397_1.png': 144, '/data/raw_full/children/children/African_397/African_397_4.png': 145, '/data/raw_full/children/children/African_m.05b4s6j/m.05b4s6j_0003.jpg': 146, '/data/raw_full/children/children/Indian_117/Indian_117_0.png': 147, '/data/raw_full/children/children/Indian_m.05mzg5y/m.05mzg5y_0003.jpg': 148, '/data/raw_full/children/children/Indian_m.05mzg5y/m.05mzg5y_0002.jpg': 149, '/data/raw_full/children/children/Indian_513/Indian_513_3.png': 150, '/data/raw_full/children/children/African_306/African_306_0.png': 151, '/data/raw_full/children/children/African_366/African_366_15.png': 152, '/data/raw_full/children/children/African_642/African_642_4.png': 153, '/data/raw_full/children/children/African_313/African_313_18.png': 154, '/data/raw_full/children/children/African_313/African_313_34.png': 155, '/data/raw_full/children/children/African_314/African_314_5.png': 156, '/data/raw_full/children/children/African_314/African_314_11.png': 157, '/data/raw_full/children/children/African_206/African_206_27.png': 158, '/data/raw_full/children/children/African_206/African_206_60.png': 159, '/data/raw_full/children/children/African_m.0ks6hg/m.0ks6hg_0001.jpg': 160, '/data/raw_full/children/children/Indian_392/Indian_392_16.png': 161, '/data/raw_full/children/children/Indian_392/Indian_392_76.png': 162, '/data/raw_full/children/children/Indian_392/Indian_392_15.png': 163, '/data/raw_full/children/children/Indian_392/Indian_392_58.png': 164, '/data/raw_full/children/children/Indian_599/Indian_599_57.png': 165, '/data/raw_full/children/children/Indian_599/Indian_599_36.png': 166, '/data/raw_full/children/children/Indian_599/Indian_599_31.png': 167, '/data/raw_full/children/children/Indian_599/Indian_599_79.png': 168, '/data/raw_full/children/children/Indian_m.0crgm59/m.0crgm59_0004.jpg': 169, '/data/raw_full/children/children/Indian_m.0crgm59/m.0crgm59_0003.jpg': 170, '/data/raw_full/children/children/African_167/African_167_4.png': 171, '/data/raw_full/children/children/African_167/African_167_0.png': 172, '/data/raw_full/children/children/Indian_483/Indian_483_0.png': 173, '/data/raw_full/children/children/African_303/African_303_37.png': 174, '/data/raw_full/children/children/Caucasian_484/Caucasian_484_19.png': 175, '/data/raw_full/children/children/Caucasian_484/Caucasian_484_41.png': 176, '/data/raw_full/children/children/Caucasian_m.0bzync/m.0bzync_0002.jpg': 177, '/data/raw_full/children/children/African_m.0h_gj5x/m.0h_gj5x_0002.jpg': 178, '/data/raw_full/children/children/African_510/African_510_1.png': 179, '/data/raw_full/children/children/Indian_538/Indian_538_1.png': 180, '/data/raw_full/children/children/Indian_232/Indian_232_4.png': 181, '/data/raw_full/children/children/Indian_598/Indian_598_4.png': 182, '/data/raw_full/children/children/Indian_598/Indian_598_3.png': 183, '/data/raw_full/children/children/Indian_598/Indian_598_2.png': 184, '/data/raw_full/children/children/Asian_304/Asian_304_48.png': 185, '/data/raw_full/children/children/Asian_304/Asian_304_58.png': 186, '/data/raw_full/children/children/Caucasian_33/Caucasian_33_89.png': 187, '/data/raw_full/children/children/African_769/African_769_1.png': 188, '/data/raw_full/children/children/African_769/African_769_0.png': 189, '/data/raw_full/children/children/African_769/African_769_3.png': 190, '/data/raw_full/children/children/Indian_679/Indian_679_4.png': 191, '/data/raw_full/children/children/Indian_679/Indian_679_11.png': 192, '/data/raw_full/children/children/Indian_679/Indian_679_12.png': 193, '/data/raw_full/children/children/Caucasian_m.051yv36/m.051yv36_0002.jpg': 194, '/data/raw_full/children/children/Caucasian_m.051yv36/m.051yv36_0001.jpg': 195, '/data/raw_full/children/children/Caucasian_m.02z35g0/m.02z35g0_0002.jpg': 196, '/data/raw_full/children/children/Indian_m.0ddf3sx/m.0ddf3sx_0001.jpg': 197, '/data/raw_full/children/children/Indian_m.0ddf3sx/m.0ddf3sx_0003.jpg': 198, '/data/raw_full/children/children/Caucasian_m.0g577f5/m.0g577f5_0002.jpg': 199, '/data/raw_full/children/children/Caucasian_m.0g577f5/m.0g577f5_0005.jpg': 200, '/data/raw_full/children/children/Caucasian_418/Caucasian_418_1.png': 201, '/data/raw_full/children/children/Indian_355/Indian_355_0.png': 202, '/data/raw_full/children/children/Indian_m.0jfgrjr/m.0jfgrjr_0004.jpg': 203, '/data/raw_full/children/children/Indian_m.0jfgrjr/m.0jfgrjr_0001.jpg': 204, '/data/raw_full/children/children/African_m.0gh79sg/m.0gh79sg_0002.jpg': 205, '/data/raw_full/children/children/African_114/African_114_5.png': 206, '/data/raw_full/children/children/African_734/African_734_0.png': 207, '/data/raw_full/children/children/Indian_556/Indian_556_8.png': 208, '/data/raw_full/children/children/Indian_556/Indian_556_3.png': 209, '/data/raw_full/children/children/Indian_556/Indian_556_7.png': 210, '/data/raw_full/children/children/African_318/African_318_62.png': 211, '/data/raw_full/children/children/African_318/African_318_20.png': 212, '/data/raw_full/children/children/African_318/African_318_32.png': 213, '/data/raw_full/children/children/African_318/African_318_1.png': 214, '/data/raw_full/children/children/Indian_165/Indian_165_2.png': 215, '/data/raw_full/children/children/Asian_12/Asian_12_2.png': 216, '/data/raw_full/children/children/Asian_12/Asian_12_1.png': 217, '/data/raw_full/children/children/Indian_597/Indian_597_1.png': 218, '/data/raw_full/children/children/Asian_604/Asian_604_9.png': 219, '/data/raw_full/children/children/African_632/African_632_0.png': 220, '/data/raw_full/children/children/African_632/African_632_1.png': 221, '/data/raw_full/children/children/Indian_650/Indian_650_0.png': 222, '/data/raw_full/children/children/Caucasian_285/Caucasian_285_75.png': 223, '/data/raw_full/children/children/Caucasian_285/Caucasian_285_49.png': 224, '/data/raw_full/children/children/Indian_269/Indian_269_12.png': 225, '/data/raw_full/children/children/African_830/African_830_10.png': 226, '/data/raw_full/children/children/Asian_88/Asian_88_0.png': 227, '/data/raw_full/children/children/Asian_144/Asian_144_0.png': 228, '/data/raw_full/children/children/Asian_630/Asian_630_33.png': 229, '/data/raw_full/children/children/African_m.02664bd/m.02664bd_0002.jpg': 230, '/data/raw_full/children/children/Indian_638/Indian_638_7.png': 231, '/data/raw_full/children/children/Indian_638/Indian_638_5.png': 232, '/data/raw_full/children/children/Indian_638/Indian_638_6.png': 233, '/data/raw_full/children/children/Indian_30/Indian_30_3.png': 234, '/data/raw_full/children/children/Indian_30/Indian_30_1.png': 235, '/data/raw_full/children/children/Indian_589/Indian_589_2.png': 236, '/data/raw_full/children/children/African_602/African_602_0.png': 237, '/data/raw_full/children/children/African_m.080d3c2/m.080d3c2_0001.jpg': 238, '/data/raw_full/children/children/Caucasian_287/Caucasian_287_50.png': 239, '/data/raw_full/children/children/Caucasian_287/Caucasian_287_18.png': 240, '/data/raw_full/children/children/Indian_454/Indian_454_0.png': 241, '/data/raw_full/children/children/Indian_693/Indian_693_8.png': 242, '/data/raw_full/children/children/African_92/African_92_1.png': 243, '/data/raw_full/children/children/African_92/African_92_0.png': 244, '/data/raw_full/children/children/African_352/African_352_4.png': 245, '/data/raw_full/children/children/Asian_m.04wwtz/m.04wwtz_0001.jpg': 246, '/data/raw_full/children/children/Indian_568/Indian_568_24.png': 247, '/data/raw_full/children/children/Indian_568/Indian_568_2.png': 248, '/data/raw_full/children/children/Indian_568/Indian_568_10.png': 249, '/data/raw_full/children/children/African_325/African_325_9.png': 250, '/data/raw_full/children/children/African_279/African_279_30.png': 251, '/data/raw_full/children/children/Indian_633/Indian_633_2.png': 252, '/data/raw_full/children/children/Indian_116/Indian_116_1.png': 253, '/data/raw_full/children/children/African_552/African_552_1.png': 254, '/data/raw_full/children/children/African_552/African_552_2.png': 255, '/data/raw_full/children/children/Asian_24/Asian_24_53.png': 256, '/data/raw_full/children/children/Asian_24/Asian_24_44.png': 257, '/data/raw_full/children/children/Asian_24/Asian_24_54.png': 258, '/data/raw_full/children/children/Indian_511/Indian_511_3.png': 259, '/data/raw_full/children/children/Indian_511/Indian_511_2.png': 260, '/data/raw_full/children/children/Indian_511/Indian_511_1.png': 261, '/data/raw_full/children/children/Indian_142/Indian_142_19.png': 262, '/data/raw_full/children/children/Indian_142/Indian_142_16.png': 263, '/data/raw_full/children/children/Indian_142/Indian_142_1.png': 264, '/data/raw_full/children/children/Indian_573/Indian_573_2.png': 265, '/data/raw_full/children/children/Indian_573/Indian_573_1.png': 266, '/data/raw_full/children/children/Asian_38/Asian_38_7.png': 267, '/data/raw_full/children/children/African_780/African_780_2.png': 268, '/data/raw_full/children/children/Caucasian_205/Caucasian_205_56.png': 269, '/data/raw_full/children/children/Caucasian_519/Caucasian_519_125.png': 270, '/data/raw_full/children/children/Asian_122/Asian_122_24.png': 271, '/data/raw_full/children/children/Indian_274/Indian_274_0.png': 272, '/data/raw_full/children/children/African_80/African_80_0.png': 273, '/data/raw_full/children/children/African_80/African_80_1.png': 274, '/data/raw_full/children/children/Indian_67/Indian_67_3.png': 275, '/data/raw_full/children/children/Caucasian_1322/Caucasian_1322_7.png': 276, '/data/raw_full/children/children/Caucasian_1322/Caucasian_1322_16.png': 277, '/data/raw_full/children/children/Caucasian_1322/Caucasian_1322_10.png': 278, '/data/raw_full/children/children/African_302/African_302_7.png': 279, '/data/raw_full/children/children/Caucasian_60/Caucasian_60_6.png': 280, '/data/raw_full/children/children/Asian_619/Asian_619_14.png': 281, '/data/raw_full/children/children/Indian_539/Indian_539_6.png': 282, '/data/raw_full/children/children/Indian_539/Indian_539_5.png': 283, '/data/raw_full/children/children/Asian_m.01167d3z/m.01167d3z_0004.jpg': 284, '/data/raw_full/children/children/Asian_295/Asian_295_3.png': 285, '/data/raw_full/children/children/Indian_572/Indian_572_5.png': 286, '/data/raw_full/children/children/Indian_572/Indian_572_3.png': 287, '/data/raw_full/children/children/Indian_572/Indian_572_4.png': 288, '/data/raw_full/children/children/Asian_633/Asian_633_3.png': 289, '/data/raw_full/children/children/Asian_633/Asian_633_10.png': 290, '/data/raw_full/children/children/Asian_633/Asian_633_0.png': 291, '/data/raw_full/children/children/Indian_189/Indian_189_0.png': 292, '/data/raw_full/children/children/Indian_420/Indian_420_2.png': 293, '/data/raw_full/children/children/Indian_320/Indian_320_2.png': 294, '/data/raw_full/children/children/Indian_320/Indian_320_14.png': 295, '/data/raw_full/children/children/African_393/African_393_5.png': 296, '/data/raw_full/children/children/African_36/African_36_5.png': 297, '/data/raw_full/children/children/African_36/African_36_2.png': 298, '/data/raw_full/children/children/Indian_654/Indian_654_1.png': 299, '/data/raw_full/children/children/African_264/African_264_2.png': 300, '/data/raw_full/children/children/African_264/African_264_4.png': 301, '/data/raw_full/children/children/Indian_212/Indian_212_4.png': 302, '/data/raw_full/children/children/Asian_m.03nxqb8/m.03nxqb8_0006.jpg': 303, '/data/raw_full/children/children/Asian_m.03nxqb8/m.03nxqb8_0004.jpg': 304, '/data/raw_full/children/children/Asian_m.03nxqb8/m.03nxqb8_0005.jpg': 305, '/data/raw_full/children/children/Indian_168/Indian_168_6.png': 306, '/data/raw_full/children/children/Indian_168/Indian_168_4.png': 307, '/data/raw_full/children/children/African_0/African_0_1.png': 308, '/data/raw_full/children/children/Indian_91/Indian_91_0.png': 309, '/data/raw_full/children/children/African_326/African_326_0.png': 310, '/data/raw_full/children/children/Indian_399/Indian_399_1.png': 311, '/data/raw_full/children/children/Indian_399/Indian_399_11.png': 312, '/data/raw_full/children/children/Indian_399/Indian_399_10.png': 313, '/data/raw_full/children/children/Indian_399/Indian_399_4.png': 314, '/data/raw_full/children/children/Caucasian_256/Caucasian_256_8.png': 315, '/data/raw_full/children/children/Caucasian_256/Caucasian_256_7.png': 316, '/data/raw_full/children/children/Caucasian_405/Caucasian_405_35.png': 317, '/data/raw_full/children/children/Caucasian_405/Caucasian_405_95.png': 318, '/data/raw_full/children/children/Caucasian_405/Caucasian_405_50.png': 319, '/data/raw_full/children/children/African_470/African_470_70.png': 320, '/data/raw_full/children/children/Indian_m.04112vx/m.04112vx_0003.jpg': 321, '/data/raw_full/children/children/Indian_55/Indian_55_5.png': 322, '/data/raw_full/children/children/Indian_55/Indian_55_2.png': 323, '/data/raw_full/children/children/Caucasian_1405/Caucasian_1405_174.png': 324, '/data/raw_full/children/children/Caucasian_1405/Caucasian_1405_116.png': 325, '/data/raw_full/children/children/Indian_m.0bh8tm0/m.0bh8tm0_0001.jpg': 326, '/data/raw_full/children/children/Caucasian_485/Caucasian_485_13.png': 327, '/data/raw_full/children/children/African_319/African_319_6.png': 328, '/data/raw_full/children/children/African_319/African_319_14.png': 329, '/data/raw_full/children/children/African_319/African_319_2.png': 330, '/data/raw_full/children/children/African_472/African_472_4.png': 331, '/data/raw_full/children/children/Caucasian_386/Caucasian_386_12.png': 332, '/data/raw_full/children/children/Indian_341/Indian_341_0.png': 333, '/data/raw_full/children/children/Indian_718/Indian_718_0.png': 334, '/data/raw_full/children/children/African_91/African_91_3.png': 335, '/data/raw_full/children/children/African_91/African_91_2.png': 336, '/data/raw_full/children/children/Asian_107/Asian_107_5.png': 337, '/data/raw_full/children/children/African_75/African_75_2.png': 338, '/data/raw_full/children/children/Indian_309/Indian_309_1.png': 339, '/data/raw_full/children/children/African_329/African_329_2.png': 340, '/data/raw_full/children/children/Asian_559/Asian_559_24.png': 341, '/data/raw_full/children/children/Indian_424/Indian_424_0.png': 342, '/data/raw_full/children/children/Asian_265/Asian_265_5.png': 343, '/data/raw_full/children/children/Asian_265/Asian_265_1.png': 344, '/data/raw_full/children/children/Asian_265/Asian_265_7.png': 345, '/data/raw_full/children/children/Indian_129/Indian_129_2.png': 346, '/data/raw_full/children/children/Indian_95/Indian_95_2.png': 347, '/data/raw_full/children/children/Indian_95/Indian_95_3.png': 348, '/data/raw_full/children/children/Indian_51/Indian_51_0.png': 349, '/data/raw_full/children/children/Indian_190/Indian_190_0.png': 350, '/data/raw_full/children/children/Asian_m.0ctrtr/m.0ctrtr_0001.jpg': 351, '/data/raw_full/children/children/Indian_179/Indian_179_4.png': 352, '/data/raw_full/children/children/Indian_179/Indian_179_8.png': 353, '/data/raw_full/children/children/Indian_179/Indian_179_7.png': 354, '/data/raw_full/children/children/Asian_m.02vr704/m.02vr704_0002.jpg': 355, '/data/raw_full/children/children/Indian_162/Indian_162_0.png': 356, '/data/raw_full/children/children/Indian_704/Indian_704_2.png': 357, '/data/raw_full/children/children/African_260/African_260_2.png': 358, '/data/raw_full/children/children/African_724/African_724_0.png': 359, '/data/raw_full/children/children/Caucasian_m.0j9mdv2/m.0j9mdv2_0003.jpg': 360, '/data/raw_full/children/children/African_474/African_474_4.png': 361, '/data/raw_full/children/children/Asian_28/Asian_28_11.png': 362, '/data/raw_full/children/children/Asian_28/Asian_28_19.png': 363, '/data/raw_full/children/children/Indian_207/Indian_207_2.png': 364, '/data/raw_full/children/children/Indian_655/Indian_655_1.png': 365, '/data/raw_full/children/children/Asian_716/Asian_716_12.png': 366, '/data/raw_full/children/children/African_m.0g567x3/m.0g567x3_0002.jpg': 367, '/data/raw_full/children/children/African_m.0g567x3/m.0g567x3_0005.jpg': 368, '/data/raw_full/children/children/African_147/African_147_6.png': 369, '/data/raw_full/children/children/Indian_136/Indian_136_0.png': 370, '/data/raw_full/children/children/African_216/African_216_0.png': 371, '/data/raw_full/children/children/African_355/African_355_4.png': 372, '/data/raw_full/children/children/African_355/African_355_0.png': 373, '/data/raw_full/children/children/Asian_106/Asian_106_0.png': 374, '/data/raw_full/children/children/Asian_462/Asian_462_36.png': 375, '/data/raw_full/children/children/Asian_462/Asian_462_91.png': 376, '/data/raw_full/children/children/African_631/African_631_8.png': 377, '/data/raw_full/children/children/African_631/African_631_3.png': 378, '/data/raw_full/children/children/African_220/African_220_4.png': 379, '/data/raw_full/children/children/African_220/African_220_2.png': 380, '/data/raw_full/children/children/African_220/African_220_0.png': 381, '/data/raw_full/children/children/Indian_m.0j63px2/m.0j63px2_0002.jpg': 382, '/data/raw_full/children/children/Indian_m.0j63px2/m.0j63px2_0001.jpg': 383, '/data/raw_full/children/children/African_523/African_523_11.png': 384, '/data/raw_full/children/children/African_523/African_523_0.png': 385, '/data/raw_full/children/children/Caucasian_67/Caucasian_67_1.png': 386, '/data/raw_full/children/children/Asian_569/Asian_569_3.png': 387, '/data/raw_full/children/children/Indian_298/Indian_298_0.png': 388, '/data/raw_full/children/children/Indian_298/Indian_298_3.png': 389, '/data/raw_full/children/children/Indian_144/Indian_144_1.png': 390, '/data/raw_full/children/children/African_375/African_375_2.png': 391, '/data/raw_full/children/children/African_489/African_489_0.png': 392, '/data/raw_full/children/children/Indian_500/Indian_500_5.png': 393, '/data/raw_full/children/children/Indian_500/Indian_500_6.png': 394, '/data/raw_full/children/children/Indian_203/Indian_203_0.png': 395, '/data/raw_full/children/children/Indian_m.0j4c85h/m.0j4c85h_0006.jpg': 396, '/data/raw_full/children/children/Indian_492/Indian_492_3.png': 397, '/data/raw_full/children/children/Indian_492/Indian_492_4.png': 398, '/data/raw_full/children/children/African_182/African_182_12.png': 399, '/data/raw_full/children/children/African_182/African_182_13.png': 400, '/data/raw_full/children/children/African_182/African_182_4.png': 401, '/data/raw_full/children/children/Indian_575/Indian_575_2.png': 402, '/data/raw_full/children/children/Indian_575/Indian_575_1.png': 403, '/data/raw_full/children/children/Indian_241/Indian_241_2.png': 404, '/data/raw_full/children/children/African_202/African_202_0.png': 405, '/data/raw_full/children/children/Asian_141/Asian_141_21.png': 406, '/data/raw_full/children/children/Indian_537/Indian_537_0.png': 407, '/data/raw_full/children/children/Asian_126/Asian_126_3.png': 408, '/data/raw_full/children/children/Asian_286/Asian_286_38.png': 409, '/data/raw_full/children/children/Indian_280/Indian_280_0.png': 410, '/data/raw_full/children/children/Asian_m.0rpfv5x/m.0rpfv5x_0004.jpg': 411, '/data/raw_full/children/children/Caucasian_534/Caucasian_534_7.png': 412, '/data/raw_full/children/children/Asian_593/Asian_593_5.png': 413, '/data/raw_full/children/children/African_517/African_517_15.png': 414, '/data/raw_full/children/children/African_517/African_517_8.png': 415, '/data/raw_full/children/children/African_517/African_517_3.png': 416, '/data/raw_full/children/children/Caucasian_1022/Caucasian_1022_5.png': 417, '/data/raw_full/children/children/Caucasian_1022/Caucasian_1022_11.png': 418, '/data/raw_full/children/children/Indian_111/Indian_111_0.png': 419, '/data/raw_full/children/children/Indian_111/Indian_111_2.png': 420, '/data/raw_full/children/children/African_271/African_271_15.png': 421, '/data/raw_full/children/children/African_285/African_285_20.png': 422, '/data/raw_full/children/children/Indian_36/Indian_36_5.png': 423, '/data/raw_full/children/children/Indian_36/Indian_36_40.png': 424, '/data/raw_full/children/children/Indian_36/Indian_36_35.png': 425, '/data/raw_full/children/children/Indian_36/Indian_36_2.png': 426, '/data/raw_full/children/children/Caucasian_329/Caucasian_329_96.png': 427, '/data/raw_full/children/children/Caucasian_329/Caucasian_329_85.png': 428, '/data/raw_full/children/children/Caucasian_329/Caucasian_329_24.png': 429, '/data/raw_full/children/children/Caucasian_329/Caucasian_329_78.png': 430, '/data/raw_full/children/children/Caucasian_m.043qv9l/m.043qv9l_0004.jpg': 431, '/data/raw_full/children/children/African_67/African_67_8.png': 432, '/data/raw_full/children/children/Indian_706/Indian_706_5.png': 433, '/data/raw_full/children/children/Indian_706/Indian_706_2.png': 434, '/data/raw_full/children/children/African_691/African_691_16.png': 435, '/data/raw_full/children/children/African_691/African_691_6.png': 436, '/data/raw_full/children/children/Asian_347/Asian_347_48.png': 437, '/data/raw_full/children/children/Indian_14/Indian_14_5.png': 438, '/data/raw_full/children/children/Indian_14/Indian_14_12.png': 439, '/data/raw_full/children/children/Caucasian_458/Caucasian_458_81.png': 440, '/data/raw_full/children/children/Caucasian_458/Caucasian_458_98.png': 441, '/data/raw_full/children/children/Indian_171/Indian_171_0.png': 442, '/data/raw_full/children/children/Indian_127/Indian_127_0.png': 443, '/data/raw_full/children/children/African_614/African_614_1.png': 444, '/data/raw_full/children/children/African_586/African_586_1.png': 445, '/data/raw_full/children/children/Indian_692/Indian_692_3.png': 446, '/data/raw_full/children/children/African_686/African_686_66.png': 447, '/data/raw_full/children/children/Caucasian_390/Caucasian_390_29.png': 448, '/data/raw_full/children/children/Caucasian_390/Caucasian_390_32.png': 449, '/data/raw_full/children/children/African_156/African_156_6.png': 450, '/data/raw_full/children/children/African_633/African_633_1.png': 451, '/data/raw_full/children/children/Indian_553/Indian_553_0.png': 452, '/data/raw_full/children/children/Asian_343/Asian_343_54.png': 453, '/data/raw_full/children/children/African_m.0j4d7r3/m.0j4d7r3_0003.jpg': 454, '/data/raw_full/children/children/Caucasian_457/Caucasian_457_3.png': 455, '/data/raw_full/children/children/Indian_68/Indian_68_0.png': 456, '/data/raw_full/children/children/Asian_607/Asian_607_61.png': 457, '/data/raw_full/children/children/Indian_33/Indian_33_0.png': 458, '/data/raw_full/children/children/African_654/African_654_2.png': 459, '/data/raw_full/children/children/Indian_15/Indian_15_1.png': 460, '/data/raw_full/children/children/Asian_m.02qtd23/m.02qtd23_0001.jpg': 461, '/data/raw_full/children/children/Asian_32/Asian_32_11.png': 462, '/data/raw_full/children/children/Indian_582/Indian_582_0.png': 463, '/data/raw_full/children/children/African_m.06y4cw/m.06y4cw_0001.jpg': 464, '/data/raw_full/children/children/Indian_m.0k3208/m.0k3208_0001.jpg': 465, '/data/raw_full/children/children/Indian_239/Indian_239_5.png': 466, '/data/raw_full/children/children/Indian_239/Indian_239_0.png': 467, '/data/raw_full/children/children/Indian_m.0dryml1/m.0dryml1_0004.jpg': 468, '/data/raw_full/children/children/African_m.0h62_40/m.0h62_40_0004.jpg': 469, '/data/raw_full/children/children/African_502/African_502_65.png': 470, '/data/raw_full/children/children/African_402/African_402_0.png': 471, '/data/raw_full/children/children/Asian_m.02605bs/m.02605bs_0002.jpg': 472, '/data/raw_full/children/children/Indian_245/Indian_245_8.png': 473, '/data/raw_full/children/children/Indian_245/Indian_245_23.png': 474, '/data/raw_full/children/children/Indian_245/Indian_245_2.png': 475, '/data/raw_full/children/children/African_751/African_751_0.png': 476, '/data/raw_full/children/children/African_751/African_751_11.png': 477, '/data/raw_full/children/children/Caucasian_106/Caucasian_106_5.png': 478, '/data/raw_full/children/children/African_155/African_155_4.png': 479, '/data/raw_full/children/children/African_696/African_696_0.png': 480, '/data/raw_full/children/children/Asian_634/Asian_634_23.png': 481, '/data/raw_full/children/children/Indian_224/Indian_224_0.png': 482, '/data/raw_full/children/children/Caucasian_1285/Caucasian_1285_4.png': 483, '/data/raw_full/children/children/Indian_612/Indian_612_1.png': 484, '/data/raw_full/children/children/African_130/African_130_1.png': 485, '/data/raw_full/children/children/Indian_303/Indian_303_7.png': 486, '/data/raw_full/children/children/African_597/African_597_0.png': 487, '/data/raw_full/children/children/Asian_602/Asian_602_10.png': 488, '/data/raw_full/children/children/Indian_41/Indian_41_16.png': 489, '/data/raw_full/children/children/Indian_41/Indian_41_6.png': 490, '/data/raw_full/children/children/Caucasian_m.02pstft/m.02pstft_0001.jpg': 491, '/data/raw_full/children/children/African_699/African_699_1.png': 492, '/data/raw_full/children/children/African_699/African_699_0.png': 493, '/data/raw_full/children/children/Asian_m.05mz42q/m.05mz42q_0002.jpg': 494, '/data/raw_full/children/children/Asian_m.0fw3vg/m.0fw3vg_0001.jpg': 495, '/data/raw_full/children/children/Indian_343/Indian_343_8.png': 496, '/data/raw_full/children/children/Caucasian_103/Caucasian_103_21.png': 497, '/data/raw_full/children/children/Caucasian_m.026kw4b/m.026kw4b_0002.jpg': 498, '/data/raw_full/children/children/Caucasian_m.026kw4b/m.026kw4b_0001.jpg': 499, '/data/raw_full/children/children/Caucasian_m.026kw4b/m.026kw4b_0003.jpg': 500, '/data/raw_full/children/children/African_480/African_480_0.png': 501, '/data/raw_full/children/children/African_480/African_480_77.png': 502, '/data/raw_full/children/children/African_412/African_412_52.png': 503, '/data/raw_full/children/children/African_412/African_412_30.png': 504, '/data/raw_full/children/children/African_412/African_412_21.png': 505, '/data/raw_full/children/children/Indian_684/Indian_684_0.png': 506, '/data/raw_full/children/children/Indian_560/Indian_560_1.png': 507, '/data/raw_full/children/children/African_132/African_132_0.png': 508, '/data/raw_full/children/children/Indian_243/Indian_243_0.png': 509, '/data/raw_full/children/children/Indian_243/Indian_243_11.png': 510, '/data/raw_full/children/children/Indian_243/Indian_243_12.png': 511, '/data/raw_full/children/children/Indian_102/Indian_102_1.png': 512, '/data/raw_full/children/children/Indian_102/Indian_102_3.png': 513, '/data/raw_full/children/children/Indian_102/Indian_102_2.png': 514, '/data/raw_full/children/children/Indian_102/Indian_102_0.png': 515, '/data/raw_full/children/children/Asian_m.0sgqn1_/m.0sgqn1__0001.jpg': 516, '/data/raw_full/children/children/Asian_256/Asian_256_8.png': 517, '/data/raw_full/children/children/Indian_669/Indian_669_4.png': 518, '/data/raw_full/children/children/African_471/African_471_10.png': 519, '/data/raw_full/children/children/African_471/African_471_19.png': 520, '/data/raw_full/children/children/African_164/African_164_454.png': 521, '/data/raw_full/children/children/Indian_493/Indian_493_1.png': 522, '/data/raw_full/children/children/Asian_543/Asian_543_43.png': 523, '/data/raw_full/children/children/African_13/African_13_3.png': 524, '/data/raw_full/children/children/African_3/African_3_9.png': 525, '/data/raw_full/children/children/African_3/African_3_30.png': 526, '/data/raw_full/children/children/African_m.0gfhg0w/m.0gfhg0w_0003.jpg': 527, '/data/raw_full/children/children/Asian_446/Asian_446_33.png': 528, '/data/raw_full/children/children/African_22/African_22_6.png': 529, '/data/raw_full/children/children/African_22/African_22_4.png': 530, '/data/raw_full/children/children/Indian_56/Indian_56_2.png': 531, '/data/raw_full/children/children/Indian_491/Indian_491_0.png': 532, '/data/raw_full/children/children/Indian_491/Indian_491_30.png': 533, '/data/raw_full/children/children/Indian_636/Indian_636_3.png': 534, '/data/raw_full/children/children/African_333/African_333_8.png': 535, '/data/raw_full/children/children/African_333/African_333_18.png': 536, '/data/raw_full/children/children/Indian_262/Indian_262_4.png': 537, '/data/raw_full/children/children/Indian_262/Indian_262_6.png': 538, '/data/raw_full/children/children/Indian_262/Indian_262_0.png': 539, '/data/raw_full/children/children/Indian_262/Indian_262_3.png': 540, '/data/raw_full/children/children/African_m.0qft6yv/m.0qft6yv_0002.jpg': 541, '/data/raw_full/children/children/African_m.0qft6yv/m.0qft6yv_0003.jpg': 542, '/data/raw_full/children/children/African_m.03by2wy/m.03by2wy_0002.jpg': 543, '/data/raw_full/children/children/African_m.03by2wy/m.03by2wy_0001.jpg': 544, '/data/raw_full/children/children/Indian_302/Indian_302_65.png': 545, '/data/raw_full/children/children/Indian_302/Indian_302_38.png': 546, '/data/raw_full/children/children/African_295/African_295_1.png': 547, '/data/raw_full/children/children/African_295/African_295_22.png': 548, '/data/raw_full/children/children/African_295/African_295_8.png': 549, '/data/raw_full/children/children/African_295/African_295_0.png': 550, '/data/raw_full/children/children/Indian_319/Indian_319_1.png': 551, '/data/raw_full/children/children/Indian_319/Indian_319_20.png': 552, '/data/raw_full/children/children/Indian_319/Indian_319_3.png': 553, '/data/raw_full/children/children/Indian_571/Indian_571_0.png': 554, '/data/raw_full/children/children/Indian_571/Indian_571_1.png': 555, '/data/raw_full/children/children/African_m.0rpgm1y/m.0rpgm1y_0003.jpg': 556, '/data/raw_full/children/children/Caucasian_1277/Caucasian_1277_4.png': 557, '/data/raw_full/children/children/Indian_254/Indian_254_0.png': 558, '/data/raw_full/children/children/African_m.09v3bhx/m.09v3bhx_0001.jpg': 559, '/data/raw_full/children/children/African_m.027tssp/m.027tssp_0002.jpg': 560, '/data/raw_full/children/children/African_396/African_396_0.png': 561, '/data/raw_full/children/children/Indian_m.04n3v0_/m.04n3v0__0002.jpg': 562, '/data/raw_full/children/children/Indian_494/Indian_494_0.png': 563, '/data/raw_full/children/children/Caucasian_1008/Caucasian_1008_18.png': 564, '/data/raw_full/children/children/Caucasian_1008/Caucasian_1008_4.png': 565, '/data/raw_full/children/children/African_813/African_813_5.png': 566, '/data/raw_full/children/children/African_m.08hcd7/m.08hcd7_0003.jpg': 567, '/data/raw_full/children/children/Indian_188/Indian_188_0.png': 568, '/data/raw_full/children/children/Caucasian_m.028x00/m.028x00_0003.jpg': 569, '/data/raw_full/children/children/Indian_468/Indian_468_0.png': 570, '/data/raw_full/children/children/Indian_414/Indian_414_48.png': 571, '/data/raw_full/children/children/Indian_414/Indian_414_7.png': 572, '/data/raw_full/children/children/Indian_414/Indian_414_11.png': 573, '/data/raw_full/children/children/Caucasian_m.015076/m.015076_0004.jpg': 574, '/data/raw_full/children/children/Asian_527/Asian_527_48.png': 575, '/data/raw_full/children/children/Caucasian_441/Caucasian_441_22.png': 576, '/data/raw_full/children/children/African_558/African_558_16.png': 577, '/data/raw_full/children/children/African_173/African_173_1.png': 578, '/data/raw_full/children/children/African_180/African_180_18.png': 579, '/data/raw_full/children/children/African_180/African_180_33.png': 580, '/data/raw_full/children/children/Caucasian_559/Caucasian_559_14.png': 581, '/data/raw_full/children/children/Asian_168/Asian_168_18.png': 582, '/data/raw_full/children/children/Asian_168/Asian_168_31.png': 583, '/data/raw_full/children/children/Indian_201/Indian_201_1.png': 584, '/data/raw_full/children/children/Indian_201/Indian_201_0.png': 585, '/data/raw_full/children/children/Indian_97/Indian_97_10.png': 586, '/data/raw_full/children/children/African_462/African_462_34.png': 587, '/data/raw_full/children/children/Asian_300/Asian_300_11.png': 588, '/data/raw_full/children/children/Asian_31/Asian_31_19.png': 589, '/data/raw_full/children/children/Asian_724/Asian_724_73.png': 590, '/data/raw_full/children/children/Indian_32/Indian_32_1.png': 591, '/data/raw_full/children/children/Indian_32/Indian_32_0.png': 592, '/data/raw_full/children/children/Indian_581/Indian_581_18.png': 593, '/data/raw_full/children/children/Indian_581/Indian_581_8.png': 594, '/data/raw_full/children/children/Indian_327/Indian_327_0.png': 595, '/data/raw_full/children/children/Indian_327/Indian_327_1.png': 596, '/data/raw_full/children/children/Indian_16/Indian_16_19.png': 597, '/data/raw_full/children/children/Indian_16/Indian_16_10.png': 598, '/data/raw_full/children/children/Indian_122/Indian_122_1.png': 599, '/data/raw_full/children/children/Indian_122/Indian_122_2.png': 600, '/data/raw_full/children/children/Asian_m.0bkk8v/m.0bkk8v_0004.jpg': 601, '/data/raw_full/children/children/Caucasian_m.0bs1m9w/m.0bs1m9w_0007.jpg': 602, '/data/raw_full/children/children/Caucasian_m.0bs1m9w/m.0bs1m9w_0002.jpg': 603, '/data/raw_full/children/children/Caucasian_m.0bs1m9w/m.0bs1m9w_0001.jpg': 604, '/data/raw_full/children/children/Caucasian_m.0bs1m9w/m.0bs1m9w_0006.jpg': 605, '/data/raw_full/children/children/Asian_225/Asian_225_14.png': 606, '/data/raw_full/children/children/Asian_225/Asian_225_81.png': 607, '/data/raw_full/children/children/Asian_225/Asian_225_72.png': 608, '/data/raw_full/children/children/Asian_327/Asian_327_3.png': 609, '/data/raw_full/children/children/Caucasian_m.025wqb8/m.025wqb8_0002.jpg': 610, '/data/raw_full/children/children/Caucasian_m.025wqb8/m.025wqb8_0003.jpg': 611, '/data/raw_full/children/children/Indian_595/Indian_595_1.png': 612, '/data/raw_full/children/children/African_m.0d_d7t/m.0d_d7t_0004.jpg': 613, '/data/raw_full/children/children/Asian_552/Asian_552_2.png': 614, '/data/raw_full/children/children/Asian_552/Asian_552_7.png': 615, '/data/raw_full/children/children/Caucasian_573/Caucasian_573_123.png': 616, '/data/raw_full/children/children/Caucasian_573/Caucasian_573_52.png': 617, '/data/raw_full/children/children/Caucasian_m.02r2pwb/m.02r2pwb_0003.jpg': 618, '/data/raw_full/children/children/Caucasian_m.02r2pwb/m.02r2pwb_0002.jpg': 619, '/data/raw_full/children/children/Indian_434/Indian_434_89.png': 620, '/data/raw_full/children/children/Indian_434/Indian_434_4.png': 621, '/data/raw_full/children/children/Indian_434/Indian_434_21.png': 622, '/data/raw_full/children/children/Indian_434/Indian_434_93.png': 623, '/data/raw_full/children/children/Indian_434/Indian_434_77.png': 624, '/data/raw_full/children/children/Indian_434/Indian_434_23.png': 625, '/data/raw_full/children/children/Indian_434/Indian_434_88.png': 626, '/data/raw_full/children/children/Indian_488/Indian_488_0.png': 627, '/data/raw_full/children/children/Caucasian_421/Caucasian_421_4.png': 628, '/data/raw_full/children/children/Indian_167/Indian_167_0.png': 629, '/data/raw_full/children/children/Indian_167/Indian_167_1.png': 630, '/data/raw_full/children/children/Caucasian_1325/Caucasian_1325_74.png': 631, '/data/raw_full/children/children/African_m.063zl0z/m.063zl0z_0002.jpg': 632, '/data/raw_full/children/children/African_802/African_802_5.png': 633, '/data/raw_full/children/children/African_748/African_748_0.png': 634, '/data/raw_full/children/children/Indian_161/Indian_161_0.png': 635, '/data/raw_full/children/children/African_646/African_646_2.png': 636, '/data/raw_full/children/children/African_646/African_646_1.png': 637, '/data/raw_full/children/children/Indian_374/Indian_374_0.png': 638, '/data/raw_full/children/children/Asian_m.0bd6yz/m.0bd6yz_0002.jpg': 639, '/data/raw_full/children/children/Indian_59/Indian_59_2.png': 640, '/data/raw_full/children/children/Indian_59/Indian_59_7.png': 641, '/data/raw_full/children/children/Indian_59/Indian_59_9.png': 642, '/data/raw_full/children/children/Indian_628/Indian_628_1.png': 643, '/data/raw_full/children/children/African_291/African_291_6.png': 644, '/data/raw_full/children/children/African_411/African_411_2.png': 645, '/data/raw_full/children/children/Indian_10/Indian_10_33.png': 646, '/data/raw_full/children/children/Indian_10/Indian_10_0.png': 647, '/data/raw_full/children/children/Indian_10/Indian_10_32.png': 648, '/data/raw_full/children/children/Asian_474/Asian_474_12.png': 649, '/data/raw_full/children/children/Asian_474/Asian_474_64.png': 650, '/data/raw_full/children/children/African_618/African_618_2.png': 651, '/data/raw_full/children/children/African_618/African_618_5.png': 652, '/data/raw_full/children/children/African_405/African_405_2.png': 653, '/data/raw_full/children/children/African_405/African_405_1.png': 654, '/data/raw_full/children/children/African_503/African_503_33.png': 655, '/data/raw_full/children/children/African_670/African_670_0.png': 656, '/data/raw_full/children/children/African_670/African_670_7.png': 657, '/data/raw_full/children/children/Asian_m.0b76gpc/m.0b76gpc_0004.jpg': 658, '/data/raw_full/children/children/Indian_601/Indian_601_3.png': 659, '/data/raw_full/children/children/Indian_601/Indian_601_2.png': 660, '/data/raw_full/children/children/African_170/African_170_21.png': 661, '/data/raw_full/children/children/African_170/African_170_16.png': 662, '/data/raw_full/children/children/Asian_277/Asian_277_8.png': 663, '/data/raw_full/children/children/African_21/African_21_6.png': 664, '/data/raw_full/children/children/African_68/African_68_9.png': 665, '/data/raw_full/children/children/Asian_336/Asian_336_0.png': 666, '/data/raw_full/children/children/Caucasian_m.03qlhm5/m.03qlhm5_0001.jpg': 667, '/data/raw_full/children/children/African_174/African_174_11.png': 668, '/data/raw_full/children/children/African_217/African_217_2.png': 669, '/data/raw_full/children/children/African_19/African_19_3.png': 670, '/data/raw_full/children/children/Asian_17/Asian_17_25.png': 671, '/data/raw_full/children/children/Indian_389/Indian_389_9.png': 672, '/data/raw_full/children/children/Indian_389/Indian_389_11.png': 673, '/data/raw_full/children/children/Indian_389/Indian_389_8.png': 674, '/data/raw_full/children/children/Indian_389/Indian_389_10.png': 675, '/data/raw_full/children/children/Indian_27/Indian_27_1.png': 676, '/data/raw_full/children/children/Caucasian_m.0cbxht3/m.0cbxht3_0002.jpg': 677, '/data/raw_full/children/children/African_509/African_509_0.png': 678, '/data/raw_full/children/children/Caucasian_1252/Caucasian_1252_7.png': 679, '/data/raw_full/children/children/Asian_46/Asian_46_1.png': 680, '/data/raw_full/children/children/Asian_46/Asian_46_2.png': 681, '/data/raw_full/children/children/Asian_46/Asian_46_4.png': 682, '/data/raw_full/children/children/Asian_46/Asian_46_3.png': 683, '/data/raw_full/children/children/African_m.07wj0y/m.07wj0y_0001.jpg': 684, '/data/raw_full/children/children/Indian_396/Indian_396_14.png': 685, '/data/raw_full/children/children/Indian_396/Indian_396_9.png': 686, '/data/raw_full/children/children/Asian_561/Asian_561_3.png': 687, '/data/raw_full/children/children/African_172/African_172_9.png': 688, '/data/raw_full/children/children/African_172/African_172_56.png': 689, '/data/raw_full/children/children/African_172/African_172_34.png': 690, '/data/raw_full/children/children/African_158/African_158_12.png': 691, '/data/raw_full/children/children/Asian_m.03cw3qr/m.03cw3qr_0002.jpg': 692, '/data/raw_full/children/children/African_363/African_363_10.png': 693, '/data/raw_full/children/children/Indian_520/Indian_520_4.png': 694, '/data/raw_full/children/children/Indian_520/Indian_520_0.png': 695, '/data/raw_full/children/children/African_m.0djj4b/m.0djj4b_0002.jpg': 696, '/data/raw_full/children/children/African_184/African_184_8.png': 697, '/data/raw_full/children/children/Indian_152/Indian_152_0.png': 698, '/data/raw_full/children/children/Caucasian_107/Caucasian_107_2.png': 699, '/data/raw_full/children/children/Caucasian_107/Caucasian_107_9.png': 700, '/data/raw_full/children/children/Indian_634/Indian_634_9.png': 701, '/data/raw_full/children/children/Indian_634/Indian_634_2.png': 702, '/data/raw_full/children/children/African_626/African_626_0.png': 703, '/data/raw_full/children/children/Asian_487/Asian_487_17.png': 704, '/data/raw_full/children/children/Indian_515/Indian_515_3.png': 705, '/data/raw_full/children/children/Asian_489/Asian_489_32.png': 706, '/data/raw_full/children/children/Indian_607/Indian_607_0.png': 707, '/data/raw_full/children/children/Indian_607/Indian_607_1.png': 708, '/data/raw_full/children/children/Indian_607/Indian_607_2.png': 709, '/data/raw_full/children/children/Caucasian_601/Caucasian_601_3.png': 710, '/data/raw_full/children/children/Indian_543/Indian_543_4.png': 711, '/data/raw_full/children/children/Asian_114/Asian_114_2.png': 712, '/data/raw_full/children/children/African_316/African_316_2.png': 713, '/data/raw_full/children/children/Indian_626/Indian_626_0.png': 714, '/data/raw_full/children/children/Asian_m.0c03p4j/m.0c03p4j_0003.jpg': 715, '/data/raw_full/children/children/African_m.09v39qm/m.09v39qm_0003.jpg': 716, '/data/raw_full/children/children/African_726/African_726_0.png': 717, '/data/raw_full/children/children/African_726/African_726_5.png': 718, '/data/raw_full/children/children/African_811/African_811_6.png': 719, '/data/raw_full/children/children/Asian_368/Asian_368_2.png': 720, '/data/raw_full/children/children/Caucasian_246/Caucasian_246_3.png': 721, '/data/raw_full/children/children/Indian_227/Indian_227_1.png': 722, '/data/raw_full/children/children/Asian_212/Asian_212_10.png': 723, '/data/raw_full/children/children/Asian_212/Asian_212_5.png': 724, '/data/raw_full/children/children/Asian_244/Asian_244_4.png': 725, '/data/raw_full/children/children/African_432/African_432_2.png': 726, '/data/raw_full/children/children/Caucasian_445/Caucasian_445_94.png': 727, '/data/raw_full/children/children/Indian_264/Indian_264_1.png': 728, '/data/raw_full/children/children/Asian_201/Asian_201_10.png': 729, '/data/raw_full/children/children/Indian_216/Indian_216_10.png': 730, '/data/raw_full/children/children/Indian_216/Indian_216_9.png': 731, '/data/raw_full/children/children/African_208/African_208_5.png': 732, '/data/raw_full/children/children/African_208/African_208_0.png': 733, '/data/raw_full/children/children/African_294/African_294_44.png': 734, '/data/raw_full/children/children/Indian_198/Indian_198_0.png': 735, '/data/raw_full/children/children/Caucasian_m.0b90h0/m.0b90h0_0002.jpg': 736, '/data/raw_full/children/children/Indian_521/Indian_521_3.png': 737, '/data/raw_full/children/children/Indian_521/Indian_521_7.png': 738, '/data/raw_full/children/children/Indian_521/Indian_521_10.png': 739, '/data/raw_full/children/children/Indian_521/Indian_521_4.png': 740, '/data/raw_full/children/children/African_15/African_15_10.png': 741, '/data/raw_full/children/children/Indian_141/Indian_141_8.png': 742, '/data/raw_full/children/children/Indian_215/Indian_215_1.png': 743, '/data/raw_full/children/children/Indian_215/Indian_215_0.png': 744, '/data/raw_full/children/children/Caucasian_m.07khttn/m.07khttn_0002.jpg': 745, '/data/raw_full/children/children/Caucasian_m.07khttn/m.07khttn_0001.jpg': 746, '/data/raw_full/children/children/Caucasian_m.0868nf/m.0868nf_0001.jpg': 747, '/data/raw_full/children/children/Indian_600/Indian_600_4.png': 748, '/data/raw_full/children/children/Indian_600/Indian_600_5.png': 749, '/data/raw_full/children/children/Indian_600/Indian_600_3.png': 750, '/data/raw_full/children/children/African_758/African_758_3.png': 751, '/data/raw_full/children/children/Indian_437/Indian_437_13.png': 752, '/data/raw_full/children/children/Indian_211/Indian_211_1.png': 753, '/data/raw_full/children/children/Indian_211/Indian_211_0.png': 754, '/data/raw_full/children/children/African_680/African_680_5.png': 755, '/data/raw_full/children/children/Caucasian_417/Caucasian_417_24.png': 756, '/data/raw_full/children/children/Caucasian_417/Caucasian_417_6.png': 757, '/data/raw_full/children/children/African_157/African_157_14.png': 758, '/data/raw_full/children/children/African_157/African_157_12.png': 759, '/data/raw_full/children/children/African_157/African_157_20.png': 760, '/data/raw_full/children/children/Asian_380/Asian_380_43.png': 761, '/data/raw_full/children/children/African_578/African_578_5.png': 762, '/data/raw_full/children/children/Asian_279/Asian_279_3.png': 763, '/data/raw_full/children/children/African_417/African_417_15.png': 764, '/data/raw_full/children/children/African_417/African_417_37.png': 765, '/data/raw_full/children/children/African_539/African_539_0.png': 766, '/data/raw_full/children/children/Indian_208/Indian_208_255.png': 767, '/data/raw_full/children/children/Indian_208/Indian_208_230.png': 768, '/data/raw_full/children/children/Indian_208/Indian_208_265.png': 769, '/data/raw_full/children/children/Indian_208/Indian_208_101.png': 770, '/data/raw_full/children/children/Caucasian_332/Caucasian_332_8.png': 771, '/data/raw_full/children/children/Caucasian_1362/Caucasian_1362_0.png': 772, '/data/raw_full/children/children/African_m.0gwyg57/m.0gwyg57_0004.jpg': 773, '/data/raw_full/children/children/African_m.0gwyg57/m.0gwyg57_0001.jpg': 774, '/data/raw_full/children/children/Caucasian_58/Caucasian_58_5.png': 775, '/data/raw_full/children/children/Indian_40/Indian_40_5.png': 776, '/data/raw_full/children/children/Asian_472/Asian_472_1.png': 777, '/data/raw_full/children/children/Caucasian_1317/Caucasian_1317_14.png': 778, '/data/raw_full/children/children/Caucasian_316/Caucasian_316_5.png': 779, '/data/raw_full/children/children/Caucasian_316/Caucasian_316_43.png': 780, '/data/raw_full/children/children/Indian_108/Indian_108_4.png': 781, '/data/raw_full/children/children/Indian_240/Indian_240_0.png': 782, '/data/raw_full/children/children/Indian_240/Indian_240_7.png': 783, '/data/raw_full/children/children/Indian_240/Indian_240_1.png': 784, '/data/raw_full/children/children/African_236/African_236_1.png': 785, '/data/raw_full/children/children/Indian_353/Indian_353_4.png': 786, '/data/raw_full/children/children/Indian_353/Indian_353_3.png': 787, '/data/raw_full/children/children/Indian_300/Indian_300_1.png': 788, '/data/raw_full/children/children/Indian_300/Indian_300_0.png': 789, '/data/raw_full/children/children/Indian_300/Indian_300_2.png': 790, '/data/raw_full/children/children/Indian_238/Indian_238_0.png': 791, '/data/raw_full/children/children/Indian_226/Indian_226_15.png': 792, '/data/raw_full/children/children/Asian_546/Asian_546_20.png': 793, '/data/raw_full/children/children/Asian_m.027_bsf/m.027_bsf_0004.jpg': 794, '/data/raw_full/children/children/Caucasian_1298/Caucasian_1298_61.png': 795, '/data/raw_full/children/children/African_211/African_211_48.png': 796, '/data/raw_full/children/children/Caucasian_m.05h2n7l/m.05h2n7l_0002.jpg': 797, '/data/raw_full/children/children/Indian_591/Indian_591_1.png': 798, '/data/raw_full/children/children/African_87/African_87_1.png': 799, '/data/raw_full/children/children/African_87/African_87_0.png': 800, '/data/raw_full/children/children/Asian_m.0kbgjy5/m.0kbgjy5_0001.jpg': 801, '/data/raw_full/children/children/African_m.0h3mdym/m.0h3mdym_0004.jpg': 802, '/data/raw_full/children/children/Caucasian_m.05qf9m/m.05qf9m_0004.jpg': 803, '/data/raw_full/children/children/African_323/African_323_6.png': 804, '/data/raw_full/children/children/Indian_281/Indian_281_0.png': 805, '/data/raw_full/children/children/African_74/African_74_0.png': 806, '/data/raw_full/children/children/African_74/African_74_1.png': 807, '/data/raw_full/children/children/African_663/African_663_0.png': 808, '/data/raw_full/children/children/African_663/African_663_2.png': 809, '/data/raw_full/children/children/African_m.03qmrg0/m.03qmrg0_0001.jpg': 810, '/data/raw_full/children/children/African_484/African_484_9.png': 811, '/data/raw_full/children/children/African_484/African_484_14.png': 812, '/data/raw_full/children/children/Indian_156/Indian_156_50.png': 813, '/data/raw_full/children/children/Asian_478/Asian_478_19.png': 814, '/data/raw_full/children/children/African_362/African_362_1.png': 815, '/data/raw_full/children/children/African_756/African_756_0.png': 816, '/data/raw_full/children/children/African_687/African_687_0.png': 817, '/data/raw_full/children/children/Indian_61/Indian_61_2.png': 818, '/data/raw_full/children/children/Indian_61/Indian_61_1.png': 819, '/data/raw_full/children/children/Indian_588/Indian_588_0.png': 820, '/data/raw_full/children/children/Asian_359/Asian_359_5.png': 821, '/data/raw_full/children/children/Caucasian_1360/Caucasian_1360_99.png': 822, '/data/raw_full/children/children/African_752/African_752_3.png': 823, '/data/raw_full/children/children/African_752/African_752_2.png': 824, '/data/raw_full/children/children/Indian_8/Indian_8_0.png': 825, '/data/raw_full/children/children/Indian_8/Indian_8_3.png': 826, '/data/raw_full/children/children/Indian_247/Indian_247_4.png': 827, '/data/raw_full/children/children/Indian_247/Indian_247_7.png': 828, '/data/raw_full/children/children/Indian_247/Indian_247_10.png': 829, '/data/raw_full/children/children/Asian_579/Asian_579_14.png': 830, '/data/raw_full/children/children/African_560/African_560_0.png': 831, '/data/raw_full/children/children/Indian_417/Indian_417_1.png': 832, '/data/raw_full/children/children/Indian_417/Indian_417_4.png': 833, '/data/raw_full/children/children/African_797/African_797_0.png': 834, '/data/raw_full/children/children/Indian_536/Indian_536_0.png': 835, '/data/raw_full/children/children/Indian_74/Indian_74_0.png': 836, '/data/raw_full/children/children/African_395/African_395_0.png': 837, '/data/raw_full/children/children/Caucasian_603/Caucasian_603_37.png': 838, '/data/raw_full/children/children/Caucasian_603/Caucasian_603_74.png': 839, '/data/raw_full/children/children/Caucasian_493/Caucasian_493_14.png': 840, '/data/raw_full/children/children/Asian_502/Asian_502_5.png': 841, '/data/raw_full/children/children/Indian_133/Indian_133_1.png': 842, '/data/raw_full/children/children/Indian_133/Indian_133_21.png': 843, '/data/raw_full/children/children/Indian_133/Indian_133_18.png': 844, '/data/raw_full/children/children/Indian_133/Indian_133_0.png': 845, '/data/raw_full/children/children/African_99/African_99_2.png': 846, '/data/raw_full/children/children/Indian_172/Indian_172_0.png': 847, '/data/raw_full/children/children/African_223/African_223_0.png': 848, '/data/raw_full/children/children/Indian_562/Indian_562_3.png': 849, '/data/raw_full/children/children/Indian_137/Indian_137_1.png': 850, '/data/raw_full/children/children/Asian_516/Asian_516_11.png': 851, '/data/raw_full/children/children/Asian_516/Asian_516_23.png': 852, '/data/raw_full/children/children/Asian_516/Asian_516_3.png': 853, '/data/raw_full/children/children/Asian_516/Asian_516_9.png': 854, '/data/raw_full/children/children/Asian_44/Asian_44_9.png': 855, '/data/raw_full/children/children/Asian_m.03j3dpb/m.03j3dpb_0003.jpg': 856, '/data/raw_full/children/children/Caucasian_m.0637st/m.0637st_0001.jpg': 857, '/data/raw_full/children/children/Indian_432/Indian_432_0.png': 858, '/data/raw_full/children/children/Caucasian_387/Caucasian_387_24.png': 859, '/data/raw_full/children/children/Caucasian_387/Caucasian_387_17.png': 860, '/data/raw_full/children/children/Asian_220/Asian_220_37.png': 861, '/data/raw_full/children/children/Asian_220/Asian_220_43.png': 862, '/data/raw_full/children/children/African_590/African_590_10.png': 863, '/data/raw_full/children/children/Asian_m.0cj071/m.0cj071_0003.jpg': 864, '/data/raw_full/children/children/Indian_104/Indian_104_0.png': 865, '/data/raw_full/children/children/African_146/African_146_4.png': 866, '/data/raw_full/children/children/African_146/African_146_8.png': 867, '/data/raw_full/children/children/African_m.083yrt/m.083yrt_0002.jpg': 868, '/data/raw_full/children/children/African_m.05zvsg3/m.05zvsg3_0002.jpg': 869, '/data/raw_full/children/children/Indian_6/Indian_6_1.png': 870, '/data/raw_full/children/children/African_599/African_599_1.png': 871, '/data/raw_full/children/children/African_599/African_599_0.png': 872, '/data/raw_full/children/children/Caucasian_340/Caucasian_340_72.png': 873, '/data/raw_full/children/children/Asian_510/Asian_510_10.png': 874, '/data/raw_full/children/children/Caucasian_m.03hj_vm/m.03hj_vm_0005.jpg': 875, '/data/raw_full/children/children/African_119/African_119_9.png': 876, '/data/raw_full/children/children/African_119/African_119_4.png': 877, '/data/raw_full/children/children/African_113/African_113_46.png': 878, '/data/raw_full/children/children/African_113/African_113_23.png': 879, '/data/raw_full/children/children/African_788/African_788_11.png': 880, '/data/raw_full/children/children/Indian_313/Indian_313_0.png': 881, '/data/raw_full/children/children/Indian_617/Indian_617_0.png': 882, '/data/raw_full/children/children/Caucasian_1293/Caucasian_1293_47.png': 883, '/data/raw_full/children/children/Indian_196/Indian_196_0.png': 884, '/data/raw_full/children/children/Asian_621/Asian_621_1.png': 885, '/data/raw_full/children/children/Indian_544/Indian_544_6.png': 886, '/data/raw_full/children/children/African_38/African_38_8.png': 887, '/data/raw_full/children/children/Asian_423/Asian_423_24.png': 888, '/data/raw_full/children/children/Indian_307/Indian_307_3.png': 889, '/data/raw_full/children/children/Indian_307/Indian_307_0.png': 890, '/data/raw_full/children/children/Caucasian_327/Caucasian_327_73.png': 891, '/data/raw_full/children/children/Caucasian_327/Caucasian_327_92.png': 892, '/data/raw_full/children/children/Caucasian_327/Caucasian_327_53.png': 893, '/data/raw_full/children/children/Indian_358/Indian_358_2.png': 894, '/data/raw_full/children/children/Indian_358/Indian_358_0.png': 895, '/data/raw_full/children/children/African_442/African_442_0.png': 896, '/data/raw_full/children/children/Indian_169/Indian_169_1.png': 897, '/data/raw_full/children/children/Indian_578/Indian_578_0.png': 898, '/data/raw_full/children/children/Asian_100/Asian_100_1.png': 899, '/data/raw_full/children/children/Caucasian_m.052_0jg/m.052_0jg_0002.jpg': 900, '/data/raw_full/children/children/Indian_m.0hht8wn/m.0hht8wn_0001.jpg': 901, '/data/raw_full/children/children/Caucasian_1035/Caucasian_1035_5.png': 902, '/data/raw_full/children/children/African_218/African_218_1.png': 903, '/data/raw_full/children/children/African_218/African_218_2.png': 904, '/data/raw_full/children/children/Asian_534/Asian_534_14.png': 905, '/data/raw_full/children/children/Asian_534/Asian_534_6.png': 906, '/data/raw_full/children/children/Indian_336/Indian_336_0.png': 907, '/data/raw_full/children/children/Indian_715/Indian_715_0.png': 908, '/data/raw_full/children/children/Caucasian_1021/Caucasian_1021_11.png': 909, '/data/raw_full/children/children/Indian_89/Indian_89_2.png': 910, '/data/raw_full/children/children/African_772/African_772_1.png': 911, '/data/raw_full/children/children/Caucasian_309/Caucasian_309_12.png': 912, '/data/raw_full/children/children/Indian_85/Indian_85_0.png': 913, '/data/raw_full/children/children/Asian_0/Asian_0_18.png': 914, '/data/raw_full/children/children/Asian_0/Asian_0_75.png': 915, '/data/raw_full/children/children/African_684/African_684_1.png': 916, '/data/raw_full/children/children/African_12/African_12_13.png': 917, '/data/raw_full/children/children/African_12/African_12_16.png': 918, '/data/raw_full/children/children/Indian_535/Indian_535_0.png': 919, '/data/raw_full/children/children/Caucasian_m.0ft3dj/m.0ft3dj_0003.jpg': 920, '/data/raw_full/children/children/Indian_552/Indian_552_1.png': 921, '/data/raw_full/children/children/Asian_236/Asian_236_5.png': 922, '/data/raw_full/children/children/Indian_139/Indian_139_0.png': 923, '/data/raw_full/children/children/Indian_m.06w9rdb/m.06w9rdb_0001.jpg': 924, '/data/raw_full/children/children/Asian_51/Asian_51_1.png': 925, '/data/raw_full/children/children/Asian_348/Asian_348_29.png': 926, '/data/raw_full/children/children/Indian_401/Indian_401_0.png': 927, '/data/raw_full/children/children/Caucasian_9/Caucasian_9_11.png': 928, '/data/raw_full/children/children/Indian_608/Indian_608_2.png': 929, '/data/raw_full/children/children/Indian_608/Indian_608_0.png': 930, '/data/raw_full/children/children/African_453/African_453_14.png': 931, '/data/raw_full/children/children/Asian_298/Asian_298_7.png': 932, '/data/raw_full/children/children/Indian_m.0jwwdq1/m.0jwwdq1_0001.jpg': 933, '/data/raw_full/children/children/Indian_423/Indian_423_0.png': 934, '/data/raw_full/children/children/African_340/African_340_17.png': 935, '/data/raw_full/children/children/Asian_m.01wh03h/m.01wh03h_0001.jpg': 936, '/data/raw_full/children/children/Caucasian_511/Caucasian_511_0.png': 937, '/data/raw_full/children/children/Caucasian_553/Caucasian_553_61.png': 938, '/data/raw_full/children/children/Caucasian_553/Caucasian_553_65.png': 939, '/data/raw_full/children/children/Caucasian_553/Caucasian_553_75.png': 940, '/data/raw_full/children/children/Caucasian_553/Caucasian_553_67.png': 941, '/data/raw_full/children/children/Caucasian_214/Caucasian_214_26.png': 942, '/data/raw_full/children/children/Caucasian_214/Caucasian_214_65.png': 943, '/data/raw_full/children/children/African_400/African_400_23.png': 944, '/data/raw_full/children/children/Asian_609/Asian_609_4.png': 945, '/data/raw_full/children/children/African_440/African_440_27.png': 946, '/data/raw_full/children/children/African_640/African_640_0.png': 947, '/data/raw_full/children/children/African_547/African_547_62.png': 948, '/data/raw_full/children/children/Asian_m.0kvgy_6/m.0kvgy_6_0004.jpg': 949, '/data/raw_full/children/children/Caucasian_1065/Caucasian_1065_23.png': 950, '/data/raw_full/children/children/Caucasian_1065/Caucasian_1065_19.png': 951, '/data/raw_full/children/children/Asian_262/Asian_262_25.png': 952, '/data/raw_full/children/children/Indian_105/Indian_105_11.png': 953, '/data/raw_full/children/children/Indian_105/Indian_105_4.png': 954, '/data/raw_full/children/children/Indian_105/Indian_105_3.png': 955, '/data/raw_full/children/children/Indian_105/Indian_105_21.png': 956, '/data/raw_full/children/children/Indian_105/Indian_105_20.png': 957, '/data/raw_full/children/children/Indian_278/Indian_278_38.png': 958, '/data/raw_full/children/children/Indian_306/Indian_306_0.png': 959, '/data/raw_full/children/children/African_209/African_209_33.png': 960, '/data/raw_full/children/children/Caucasian_1100/Caucasian_1100_69.png': 961, '/data/raw_full/children/children/Indian_43/Indian_43_8.png': 962, '/data/raw_full/children/children/Indian_43/Indian_43_10.png': 963, '/data/raw_full/children/children/African_m.03qqm1g/m.03qqm1g_0003.jpg': 964, '/data/raw_full/children/children/Caucasian_221/Caucasian_221_4.png': 965, '/data/raw_full/children/children/African_192/African_192_2.png': 966, '/data/raw_full/children/children/African_192/African_192_5.png': 967, '/data/raw_full/children/children/African_192/African_192_7.png': 968, '/data/raw_full/children/children/Indian_31/Indian_31_0.png': 969, '/data/raw_full/children/children/African_785/African_785_5.png': 970, '/data/raw_full/children/children/African_785/African_785_10.png': 971, '/data/raw_full/children/children/Caucasian_343/Caucasian_343_18.png': 972, '/data/raw_full/children/children/Indian_213/Indian_213_0.png': 973, '/data/raw_full/children/children/Indian_213/Indian_213_1.png': 974, '/data/raw_full/children/children/Asian_52/Asian_52_6.png': 975, '/data/raw_full/children/children/Asian_52/Asian_52_8.png': 976, '/data/raw_full/children/children/Caucasian_99/Caucasian_99_15.png': 977, '/data/raw_full/children/children/Asian_m.0h7m3hg/m.0h7m3hg_0002.jpg': 978, '/data/raw_full/children/children/African_825/African_825_0.png': 979, '/data/raw_full/children/children/Indian_714/Indian_714_0.png': 980, '/data/raw_full/children/children/Indian_714/Indian_714_2.png': 981, '/data/raw_full/children/children/Indian_524/Indian_524_5.png': 982, '/data/raw_full/children/children/Caucasian_137/Caucasian_137_0.png': 983, '/data/raw_full/children/children/Caucasian_137/Caucasian_137_9.png': 984, '/data/raw_full/children/children/Indian_694/Indian_694_0.png': 985, '/data/raw_full/children/children/Indian_694/Indian_694_2.png': 986, '/data/raw_full/children/children/Indian_m.05p9t9q/m.05p9t9q_0004.jpg': 987, '/data/raw_full/children/children/Indian_58/Indian_58_18.png': 988, '/data/raw_full/children/children/Asian_101/Asian_101_58.png': 989, '/data/raw_full/children/children/African_m.0ll1g_t/m.0ll1g_t_0004.jpg': 990, '/data/raw_full/children/children/Indian_680/Indian_680_2.png': 991, '/data/raw_full/children/children/Indian_249/Indian_249_1.png': 992, '/data/raw_full/children/children/Caucasian_71/Caucasian_71_1.png': 993, '/data/raw_full/children/children/Indian_19/Indian_19_1.png': 994, '/data/raw_full/children/children/Indian_461/Indian_461_0.png': 995, '/data/raw_full/children/children/Asian_381/Asian_381_51.png': 996, '/data/raw_full/children/children/African_475/African_475_5.png': 997, '/data/raw_full/children/children/African_697/African_697_1.png': 998, '/data/raw_full/children/children/Caucasian_7/Caucasian_7_11.png': 999, '/data/raw_full/children/children/Caucasian_7/Caucasian_7_10.png': 1000, '/data/raw_full/children/children/Indian_522/Indian_522_3.png': 1001, '/data/raw_full/children/children/Indian_522/Indian_522_1.png': 1002, '/data/raw_full/children/children/Indian_415/Indian_415_0.png': 1003, '/data/raw_full/children/children/Indian_415/Indian_415_1.png': 1004, '/data/raw_full/children/children/Indian_m.09qfk3/m.09qfk3_0002.jpg': 1005, '/data/raw_full/children/children/Indian_668/Indian_668_0.png': 1006, '/data/raw_full/children/children/African_815/African_815_18.png': 1007, '/data/raw_full/children/children/Asian_218/Asian_218_25.png': 1008, '/data/raw_full/children/children/Asian_218/Asian_218_38.png': 1009, '/data/raw_full/children/children/Asian_218/Asian_218_55.png': 1010, '/data/raw_full/children/children/Asian_m.0fgt4f/m.0fgt4f_0002.jpg': 1011, '/data/raw_full/children/children/Indian_66/Indian_66_0.png': 1012, '/data/raw_full/children/children/Caucasian_1410/Caucasian_1410_78.png': 1013, '/data/raw_full/children/children/Caucasian_1339/Caucasian_1339_7.png': 1014, '/data/raw_full/children/children/Asian_594/Asian_594_5.png': 1015, '/data/raw_full/children/children/African_678/African_678_2.png': 1016, '/data/raw_full/children/children/African_678/African_678_0.png': 1017, '/data/raw_full/children/children/Asian_433/Asian_433_18.png': 1018, '/data/raw_full/children/children/Asian_433/Asian_433_61.png': 1019, '/data/raw_full/children/children/Indian_m.02q91dd/m.02q91dd_0001.jpg': 1020, '/data/raw_full/children/children/Indian_m.02q91dd/m.02q91dd_0002.jpg': 1021, '/data/raw_full/children/children/Indian_304/Indian_304_3.png': 1022, '/data/raw_full/children/children/Caucasian_276/Caucasian_276_2.png': 1023, '/data/raw_full/children/children/Caucasian_276/Caucasian_276_80.png': 1024, '/data/raw_full/children/children/Indian_402/Indian_402_13.png': 1025, '/data/raw_full/children/children/African_197/African_197_0.png': 1026, '/data/raw_full/children/children/African_197/African_197_2.png': 1027, '/data/raw_full/children/children/Indian_667/Indian_667_19.png': 1028, '/data/raw_full/children/children/Indian_667/Indian_667_15.png': 1029, '/data/raw_full/children/children/Indian_667/Indian_667_20.png': 1030, '/data/raw_full/children/children/African_176/African_176_16.png': 1031, '/data/raw_full/children/children/African_176/African_176_4.png': 1032, '/data/raw_full/children/children/Asian_90/Asian_90_0.png': 1033, '/data/raw_full/children/children/Asian_m.01v_0pl/m.01v_0pl_0002.jpg': 1034, '/data/raw_full/children/children/African_126/African_126_3.png': 1035, '/data/raw_full/children/children/African_m.0h_5m6x/m.0h_5m6x_0002.jpg': 1036, '/data/raw_full/children/children/Caucasian_1253/Caucasian_1253_6.png': 1037, '/data/raw_full/children/children/Caucasian_323/Caucasian_323_3.png': 1038, '/data/raw_full/children/children/Asian_m.0sgy8m8/m.0sgy8m8_0002.jpg': 1039, '/data/raw_full/children/children/Indian_501/Indian_501_3.png': 1040, '/data/raw_full/children/children/Indian_501/Indian_501_7.png': 1041, '/data/raw_full/children/children/African_150/African_150_14.png': 1042, '/data/raw_full/children/children/African_150/African_150_11.png': 1043, '/data/raw_full/children/children/African_814/African_814_3.png': 1044, '/data/raw_full/children/children/African_814/African_814_1.png': 1045, '/data/raw_full/children/children/Asian_202/Asian_202_1.png': 1046, '/data/raw_full/children/children/African_312/African_312_5.png': 1047, '/data/raw_full/children/children/Indian_272/Indian_272_3.png': 1048, '/data/raw_full/children/children/African_96/African_96_1.png': 1049, '/data/raw_full/children/children/Indian_663/Indian_663_1.png': 1050, '/data/raw_full/children/children/African_485/African_485_12.png': 1051, '/data/raw_full/children/children/African_485/African_485_13.png': 1052, '/data/raw_full/children/children/Asian_600/Asian_600_11.png': 1053, '/data/raw_full/children/children/Indian_235/Indian_235_1.png': 1054, '/data/raw_full/children/children/African_750/African_750_10.png': 1055, '/data/raw_full/children/children/Indian_475/Indian_475_2.png': 1056, '/data/raw_full/children/children/Indian_475/Indian_475_0.png': 1057, '/data/raw_full/children/children/Indian_255/Indian_255_20.png': 1058, '/data/raw_full/children/children/Indian_255/Indian_255_7.png': 1059, '/data/raw_full/children/children/Indian_255/Indian_255_1.png': 1060, '/data/raw_full/children/children/Indian_255/Indian_255_18.png': 1061, '/data/raw_full/children/children/Indian_255/Indian_255_25.png': 1062, '/data/raw_full/children/children/Indian_255/Indian_255_26.png': 1063, '/data/raw_full/children/children/Indian_255/Indian_255_23.png': 1064, '/data/raw_full/children/children/African_144/African_144_10.png': 1065, '/data/raw_full/children/children/African_144/African_144_11.png': 1066, '/data/raw_full/children/children/Indian_83/Indian_83_3.png': 1067, '/data/raw_full/children/children/Indian_83/Indian_83_0.png': 1068, '/data/raw_full/children/children/African_324/African_324_5.png': 1069, '/data/raw_full/children/children/Indian_124/Indian_124_1.png': 1070, '/data/raw_full/children/children/Caucasian_m.05sztm0/m.05sztm0_0002.jpg': 1071, '/data/raw_full/children/children/Caucasian_m.05sztm0/m.05sztm0_0001.jpg': 1072, '/data/raw_full/children/children/Caucasian_m.05sztm0/m.05sztm0_0003.jpg': 1073, '/data/raw_full/children/children/Caucasian_m.05sztm0/m.05sztm0_0004.jpg': 1074, '/data/raw_full/children/children/Indian_370/Indian_370_2.png': 1075, '/data/raw_full/children/children/Caucasian_m.0c3tl_f/m.0c3tl_f_0004.jpg': 1076, '/data/raw_full/children/children/Indian_632/Indian_632_9.png': 1077, '/data/raw_full/children/children/Indian_632/Indian_632_0.png': 1078, '/data/raw_full/children/children/Indian_632/Indian_632_11.png': 1079, '/data/raw_full/children/children/Indian_632/Indian_632_5.png': 1080, '/data/raw_full/children/children/African_153/African_153_8.png': 1081, '/data/raw_full/children/children/Caucasian_m.0gdms9_/m.0gdms9__0002.jpg': 1082, '/data/raw_full/children/children/Caucasian_m.0gdms9_/m.0gdms9__0001.jpg': 1083, '/data/raw_full/children/children/African_818/African_818_1.png': 1084, '/data/raw_full/children/children/African_315/African_315_0.png': 1085, '/data/raw_full/children/children/African_469/African_469_2.png': 1086, '/data/raw_full/children/children/Asian_316/Asian_316_52.png': 1087, '/data/raw_full/children/children/Indian_697/Indian_697_5.png': 1088, '/data/raw_full/children/children/Indian_112/Indian_112_1.png': 1089, '/data/raw_full/children/children/Indian_112/Indian_112_0.png': 1090, '/data/raw_full/children/children/Indian_m.02rdtb4/m.02rdtb4_0002.jpg': 1091, '/data/raw_full/children/children/Indian_261/Indian_261_0.png': 1092, '/data/raw_full/children/children/Indian_261/Indian_261_1.png': 1093, '/data/raw_full/children/children/African_557/African_557_6.png': 1094, '/data/raw_full/children/children/African_311/African_311_0.png': 1095, '/data/raw_full/children/children/African_311/African_311_2.png': 1096, '/data/raw_full/children/children/African_m.0ckv_m/m.0ckv_m_0003.jpg': 1097, '/data/raw_full/children/children/Asian_656/Asian_656_6.png': 1098, '/data/raw_full/children/children/Indian_37/Indian_37_0.png': 1099, '/data/raw_full/children/children/African_199/African_199_8.png': 1100, '/data/raw_full/children/children/African_199/African_199_3.png': 1101, '/data/raw_full/children/children/African_647/African_647_3.png': 1102, '/data/raw_full/children/children/African_647/African_647_2.png': 1103, '/data/raw_full/children/children/Indian_m.0b_n83/m.0b_n83_0002.jpg': 1104, '/data/raw_full/children/children/Indian_m.0b_n83/m.0b_n83_0003.jpg': 1105, '/data/raw_full/children/children/African_784/African_784_6.png': 1106, '/data/raw_full/children/children/Indian_m.04mz6m8/m.04mz6m8_0002.jpg': 1107, '/data/raw_full/children/children/Indian_m.04mz6m8/m.04mz6m8_0003.jpg': 1108, '/data/raw_full/children/children/Indian_143/Indian_143_16.png': 1109, '/data/raw_full/children/children/Indian_143/Indian_143_10.png': 1110, '/data/raw_full/children/children/Indian_143/Indian_143_2.png': 1111, '/data/raw_full/children/children/Indian_512/Indian_512_1.png': 1112, '/data/raw_full/children/children/Indian_512/Indian_512_0.png': 1113, '/data/raw_full/children/children/Indian_673/Indian_673_14.png': 1114, '/data/raw_full/children/children/African_655/African_655_1.png': 1115, '/data/raw_full/children/children/Caucasian_111/Caucasian_111_9.png': 1116, '/data/raw_full/children/children/Indian_140/Indian_140_54.png': 1117, '/data/raw_full/children/children/Indian_140/Indian_140_4.png': 1118, '/data/raw_full/children/children/African_658/African_658_2.png': 1119, '/data/raw_full/children/children/African_300/African_300_5.png': 1120, '/data/raw_full/children/children/African_300/African_300_4.png': 1121, '/data/raw_full/children/children/Indian_29/Indian_29_1.png': 1122, '/data/raw_full/children/children/African_18/African_18_1.png': 1123, '/data/raw_full/children/children/African_711/African_711_1.png': 1124, '/data/raw_full/children/children/African_711/African_711_2.png': 1125, '/data/raw_full/children/children/African_711/African_711_4.png': 1126, '/data/raw_full/children/children/African_240/African_240_3.png': 1127, '/data/raw_full/children/children/Indian_457/Indian_457_1.png': 1128, '/data/raw_full/children/children/African_160/African_160_6.png': 1129, '/data/raw_full/children/children/African_160/African_160_0.png': 1130, '/data/raw_full/children/children/African_160/African_160_7.png': 1131, '/data/raw_full/children/children/African_160/African_160_2.png': 1132, '/data/raw_full/children/children/African_740/African_740_4.png': 1133, '/data/raw_full/children/children/African_740/African_740_0.png': 1134, '/data/raw_full/children/children/Indian_518/Indian_518_3.png': 1135, '/data/raw_full/children/children/Indian_518/Indian_518_4.png': 1136, '/data/raw_full/children/children/African_434/African_434_14.png': 1137, '/data/raw_full/children/children/African_434/African_434_0.png': 1138, '/data/raw_full/children/children/Indian_648/Indian_648_0.png': 1139, '/data/raw_full/children/children/Indian_447/Indian_447_1.png': 1140, '/data/raw_full/children/children/African_m.0286btc/m.0286btc_0001.jpg': 1141, '/data/raw_full/children/children/Asian_421/Asian_421_15.png': 1142, '/data/raw_full/children/children/Indian_268/Indian_268_37.png': 1143, '/data/raw_full/children/children/African_m.09gp6y8/m.09gp6y8_0003.jpg': 1144, '/data/raw_full/children/children/Indian_707/Indian_707_1.png': 1145, '/data/raw_full/children/children/Indian_m.02x9x4q/m.02x9x4q_0001.jpg': 1146, '/data/raw_full/children/children/Asian_714/Asian_714_47.png': 1147, '/data/raw_full/children/children/African_421/African_421_502.png': 1148, '/data/raw_full/children/children/Indian_700/Indian_700_9.png': 1149, '/data/raw_full/children/children/Indian_700/Indian_700_20.png': 1150, '/data/raw_full/children/children/African_364/African_364_17.png': 1151, '/data/raw_full/children/children/African_369/African_369_17.png': 1152, '/data/raw_full/children/children/African_369/African_369_19.png': 1153, '/data/raw_full/children/children/Caucasian_496/Caucasian_496_24.png': 1154, '/data/raw_full/children/children/Caucasian_496/Caucasian_496_38.png': 1155, '/data/raw_full/children/children/Asian_576/Asian_576_84.png': 1156, '/data/raw_full/children/children/Asian_576/Asian_576_151.png': 1157, '/data/raw_full/children/children/African_727/African_727_19.png': 1158, '/data/raw_full/children/children/Asian_194/Asian_194_85.png': 1159, '/data/raw_full/children/children/African_666/African_666_3.png': 1160, '/data/raw_full/children/children/Indian_716/Indian_716_0.png': 1161, '/data/raw_full/children/children/Asian_m.04972h/m.04972h_0001.jpg': 1162, '/data/raw_full/children/children/African_m.07k4tsn/m.07k4tsn_0001.jpg': 1163, '/data/raw_full/children/children/African_40/African_40_9.png': 1164, '/data/raw_full/children/children/African_40/African_40_8.png': 1165, '/data/raw_full/children/children/African_40/African_40_5.png': 1166, '/data/raw_full/children/children/Indian_m.0hht5gt/m.0hht5gt_0002.jpg': 1167, '/data/raw_full/children/children/Indian_m.0hht5gt/m.0hht5gt_0001.jpg': 1168, '/data/raw_full/children/children/African_554/African_554_7.png': 1169, '/data/raw_full/children/children/African_446/African_446_0.png': 1170, '/data/raw_full/children/children/African_546/African_546_0.png': 1171, '/data/raw_full/children/children/African_681/African_681_27.png': 1172, '/data/raw_full/children/children/African_681/African_681_23.png': 1173, '/data/raw_full/children/children/African_681/African_681_5.png': 1174, '/data/raw_full/children/children/African_m.0kvclh4/m.0kvclh4_0005.jpg': 1175, '/data/raw_full/children/children/African_m.0kvclh4/m.0kvclh4_0002.jpg': 1176, '/data/raw_full/children/children/African_m.0kvclh4/m.0kvclh4_0004.jpg': 1177, '/data/raw_full/children/children/African_398/African_398_2.png': 1178, '/data/raw_full/children/children/African_m.0k0vhdw/m.0k0vhdw_0003.jpg': 1179, '/data/raw_full/children/children/Indian_149/Indian_149_1.png': 1180, '/data/raw_full/children/children/Asian_23/Asian_23_7.png': 1181, '/data/raw_full/children/children/Asian_23/Asian_23_2.png': 1182, '/data/raw_full/children/children/Asian_23/Asian_23_1.png': 1183, '/data/raw_full/children/children/African_390/African_390_3.png': 1184, '/data/raw_full/children/children/Indian_284/Indian_284_47.png': 1185, '/data/raw_full/children/children/Indian_284/Indian_284_17.png': 1186, '/data/raw_full/children/children/Asian_153/Asian_153_71.png': 1187, '/data/raw_full/children/children/African_735/African_735_0.png': 1188, '/data/raw_full/children/children/Indian_478/Indian_478_1.png': 1189, '/data/raw_full/children/children/Caucasian_m.0465pkb/m.0465pkb_0004.jpg': 1190, '/data/raw_full/children/children/Indian_631/Indian_631_22.png': 1191, '/data/raw_full/children/children/Indian_631/Indian_631_8.png': 1192, '/data/raw_full/children/children/Indian_631/Indian_631_11.png': 1193, '/data/raw_full/children/children/African_142/African_142_11.png': 1194, '/data/raw_full/children/children/Indian_528/Indian_528_123.png': 1195, '/data/raw_full/children/children/Indian_528/Indian_528_61.png': 1196, '/data/raw_full/children/children/Indian_528/Indian_528_90.png': 1197, '/data/raw_full/children/children/Indian_528/Indian_528_118.png': 1198, '/data/raw_full/children/children/Indian_528/Indian_528_55.png': 1199, '/data/raw_full/children/children/Indian_528/Indian_528_116.png': 1200, '/data/raw_full/children/children/Indian_528/Indian_528_98.png': 1201, '/data/raw_full/children/children/Caucasian_142/Caucasian_142_3.png': 1202, '/data/raw_full/children/children/Asian_m.0hgrp_k/m.0hgrp_k_0002.jpg': 1203, '/data/raw_full/children/children/Caucasian_581/Caucasian_581_2.png': 1204, '/data/raw_full/children/children/Caucasian_581/Caucasian_581_41.png': 1205, '/data/raw_full/children/children/African_648/African_648_1.png': 1206, '/data/raw_full/children/children/Indian_m.05c1gll/m.05c1gll_0001.jpg': 1207, '/data/raw_full/children/children/African_259/African_259_2.png': 1208, '/data/raw_full/children/children/African_456/African_456_15.png': 1209, '/data/raw_full/children/children/African_460/African_460_2.png': 1210, '/data/raw_full/children/children/Caucasian_425/Caucasian_425_12.png': 1211, '/data/raw_full/children/children/Caucasian_1318/Caucasian_1318_29.png': 1212, '/data/raw_full/children/children/Caucasian_1318/Caucasian_1318_31.png': 1213, '/data/raw_full/children/children/Indian_m.0b6bj4/m.0b6bj4_0001.jpg': 1214, '/data/raw_full/children/children/Asian_63/Asian_63_2.png': 1215, '/data/raw_full/children/children/African_47/African_47_1.png': 1216, '/data/raw_full/children/children/Caucasian_1102/Caucasian_1102_14.png': 1217, '/data/raw_full/children/children/Indian_318/Indian_318_22.png': 1218, '/data/raw_full/children/children/Indian_318/Indian_318_9.png': 1219, '/data/raw_full/children/children/Indian_318/Indian_318_14.png': 1220, '/data/raw_full/children/children/Indian_318/Indian_318_23.png': 1221, '/data/raw_full/children/children/Indian_318/Indian_318_0.png': 1222, '/data/raw_full/children/children/Asian_m.02pm_7c/m.02pm_7c_0001.jpg': 1223, '/data/raw_full/children/children/African_582/African_582_3.png': 1224, '/data/raw_full/children/children/Caucasian_m.0gw5nsq/m.0gw5nsq_0002.jpg': 1225, '/data/raw_full/children/children/Asian_m.05znvh4/m.05znvh4_0003.jpg': 1226, '/data/raw_full/children/children/Indian_228/Indian_228_0.png': 1227, '/data/raw_full/children/children/African_436/African_436_0.png': 1228, '/data/raw_full/children/children/African_436/African_436_2.png': 1229, '/data/raw_full/children/children/African_436/African_436_4.png': 1230, '/data/raw_full/children/children/Asian_443/Asian_443_78.png': 1231, '/data/raw_full/children/children/Asian_443/Asian_443_16.png': 1232, '/data/raw_full/children/children/Caucasian_m.04gnpyg/m.04gnpyg_0002.jpg': 1233, '/data/raw_full/children/children/Indian_220/Indian_220_1.png': 1234, '/data/raw_full/children/children/Indian_220/Indian_220_0.png': 1235, '/data/raw_full/children/children/Asian_382/Asian_382_8.png': 1236, '/data/raw_full/children/children/African_733/African_733_1.png': 1237, '/data/raw_full/children/children/Indian_664/Indian_664_0.png': 1238, '/data/raw_full/children/children/African_660/African_660_0.png': 1239, '/data/raw_full/children/children/African_660/African_660_2.png': 1240, '/data/raw_full/children/children/Indian_602/Indian_602_48.png': 1241, '/data/raw_full/children/children/Indian_602/Indian_602_95.png': 1242, '/data/raw_full/children/children/Indian_602/Indian_602_60.png': 1243, '/data/raw_full/children/children/Asian_182/Asian_182_18.png': 1244, '/data/raw_full/children/children/Asian_182/Asian_182_40.png': 1245, '/data/raw_full/children/children/Indian_409/Indian_409_16.png': 1246, '/data/raw_full/children/children/Indian_409/Indian_409_39.png': 1247, '/data/raw_full/children/children/African_394/African_394_43.png': 1248, '/data/raw_full/children/children/African_394/African_394_34.png': 1249, '/data/raw_full/children/children/African_452/African_452_5.png': 1250, '/data/raw_full/children/children/African_54/African_54_0.png': 1251, '/data/raw_full/children/children/Indian_647/Indian_647_1.png': 1252, '/data/raw_full/children/children/Caucasian_m.02lrn6/m.02lrn6_0003.jpg': 1253, '/data/raw_full/children/children/African_425/African_425_0.png': 1254, '/data/raw_full/children/children/Indian_54/Indian_54_5.png': 1255, '/data/raw_full/children/children/Indian_646/Indian_646_1.png': 1256, '/data/raw_full/children/children/Indian_510/Indian_510_6.png': 1257, '/data/raw_full/children/children/Caucasian_239/Caucasian_239_14.png': 1258, '/data/raw_full/children/children/African_429/African_429_0.png': 1259, '/data/raw_full/children/children/African_429/African_429_3.png': 1260, '/data/raw_full/children/children/Indian_271/Indian_271_3.png': 1261, '/data/raw_full/children/children/Asian_670/Asian_670_0.png': 1262, '/data/raw_full/children/children/Caucasian_1057/Caucasian_1057_71.png': 1263, '/data/raw_full/children/children/Caucasian_40/Caucasian_40_400.png': 1264, '/data/raw_full/children/children/Asian_261/Asian_261_1.png': 1265, '/data/raw_full/children/children/Caucasian_m.03jygk/m.03jygk_0004.jpg': 1266, '/data/raw_full/children/children/Indian_364/Indian_364_0.png': 1267, '/data/raw_full/children/children/Caucasian_462/Caucasian_462_45.png': 1268, '/data/raw_full/children/children/African_266/African_266_35.png': 1269, '/data/raw_full/children/children/African_266/African_266_28.png': 1270, '/data/raw_full/children/children/Asian_50/Asian_50_1.png': 1271, '/data/raw_full/children/children/Asian_m.0ngt980/m.0ngt980_0001.jpg': 1272, '/data/raw_full/children/children/African_624/African_624_4.png': 1273, '/data/raw_full/children/children/African_499/African_499_32.png': 1274, '/data/raw_full/children/children/African_721/African_721_4.png': 1275, '/data/raw_full/children/children/Asian_274/Asian_274_18.png': 1276, '/data/raw_full/children/children/Indian_472/Indian_472_31.png': 1277, '/data/raw_full/children/children/African_682/African_682_9.png': 1278, '/data/raw_full/children/children/Indian_242/Indian_242_1.png': 1279, '/data/raw_full/children/children/Indian_242/Indian_242_3.png': 1280, '/data/raw_full/children/children/Indian_242/Indian_242_9.png': 1281, '/data/raw_full/children/children/Indian_242/Indian_242_12.png': 1282, '/data/raw_full/children/children/Asian_151/Asian_151_88.png': 1283, '/data/raw_full/children/children/Caucasian_1073/Caucasian_1073_3.png': 1284, '/data/raw_full/children/children/Caucasian_1073/Caucasian_1073_86.png': 1285, '/data/raw_full/children/children/Indian_406/Indian_406_1.png': 1286, '/data/raw_full/children/children/Indian_406/Indian_406_0.png': 1287, '/data/raw_full/children/children/Indian_406/Indian_406_2.png': 1288, '/data/raw_full/children/children/Asian_346/Asian_346_45.png': 1289, '/data/raw_full/children/children/Asian_346/Asian_346_61.png': 1290, '/data/raw_full/children/children/Asian_346/Asian_346_64.png': 1291, '/data/raw_full/children/children/Asian_407/Asian_407_1.png': 1292, '/data/raw_full/children/children/Indian_182/Indian_182_4.png': 1293, '/data/raw_full/children/children/Indian_182/Indian_182_2.png': 1294, '/data/raw_full/children/children/Asian_m.0bmgk30/m.0bmgk30_0002.jpg': 1295, '/data/raw_full/children/children/Asian_m.03hzd3l/m.03hzd3l_0002.jpg': 1296, '/data/raw_full/children/children/African_331/African_331_10.png': 1297, '/data/raw_full/children/children/African_331/African_331_4.png': 1298, '/data/raw_full/children/children/Indian_503/Indian_503_6.png': 1299, '/data/raw_full/children/children/Asian_158/Asian_158_80.png': 1300, '/data/raw_full/children/children/Asian_268/Asian_268_5.png': 1301, '/data/raw_full/children/children/African_441/African_441_3.png': 1302, '/data/raw_full/children/children/African_441/African_441_0.png': 1303, '/data/raw_full/children/children/Caucasian_352/Caucasian_352_3.png': 1304, '/data/raw_full/children/children/African_163/African_163_22.png': 1305, '/data/raw_full/children/children/African_163/African_163_19.png': 1306, '/data/raw_full/children/children/Asian_310/Asian_310_20.png': 1307, '/data/raw_full/children/children/African_376/African_376_8.png': 1308, '/data/raw_full/children/children/Indian_21/Indian_21_0.png': 1309, '/data/raw_full/children/children/Asian_299/Asian_299_5.png': 1310, '/data/raw_full/children/children/Indian_m.06t5x_/m.06t5x__0003.jpg': 1311, '/data/raw_full/children/children/Indian_125/Indian_125_1.png': 1312, '/data/raw_full/children/children/Indian_125/Indian_125_0.png': 1313, '/data/raw_full/children/children/Caucasian_1363/Caucasian_1363_0.png': 1314, '/data/raw_full/children/children/Caucasian_1107/Caucasian_1107_11.png': 1315, '/data/raw_full/children/children/African_m.04074lf/m.04074lf_0001.jpg': 1316, '/data/raw_full/children/children/Asian_m.0gc69ms/m.0gc69ms_0002.jpg': 1317, '/data/raw_full/children/children/Asian_m.0gc69ms/m.0gc69ms_0004.jpg': 1318, '/data/raw_full/children/children/Caucasian_1390/Caucasian_1390_3.png': 1319, '/data/raw_full/children/children/African_m.0dpt37/m.0dpt37_0001.jpg': 1320, '/data/raw_full/children/children/Caucasian_1369/Caucasian_1369_16.png': 1321, '/data/raw_full/children/children/Caucasian_1369/Caucasian_1369_34.png': 1322, '/data/raw_full/children/children/Caucasian_m.04fhhp/m.04fhhp_0002.jpg': 1323, '/data/raw_full/children/children/African_403/African_403_0.png': 1324, '/data/raw_full/children/children/African_283/African_283_10.png': 1325, '/data/raw_full/children/children/African_283/African_283_1.png': 1326, '/data/raw_full/children/children/Indian_459/Indian_459_5.png': 1327, '/data/raw_full/children/children/Caucasian_1/Caucasian_1_9.png': 1328, '/data/raw_full/children/children/Caucasian_1/Caucasian_1_3.png': 1329, '/data/raw_full/children/children/Caucasian_m.070sx4/m.070sx4_0002.jpg': 1330, '/data/raw_full/children/children/African_729/African_729_0.png': 1331, '/data/raw_full/children/children/Indian_m.03hnvsn/m.03hnvsn_0002.jpg': 1332, '/data/raw_full/children/children/Indian_m.03hnvsn/m.03hnvsn_0003.jpg': 1333, '/data/raw_full/children/children/Indian_m.03hnvsn/m.03hnvsn_0001.jpg': 1334, '/data/raw_full/children/children/African_159/African_159_3.png': 1335, '/data/raw_full/children/children/Indian_65/Indian_65_0.png': 1336, '/data/raw_full/children/children/Indian_121/Indian_121_1.png': 1337, '/data/raw_full/children/children/African_568/African_568_0.png': 1338, '/data/raw_full/children/children/Indian_717/Indian_717_1.png': 1339, '/data/raw_full/children/children/Indian_717/Indian_717_0.png': 1340, '/data/raw_full/children/children/African_m.04d_b8t/m.04d_b8t_0002.jpg': 1341, '/data/raw_full/children/children/African_m.04d_b8t/m.04d_b8t_0001.jpg': 1342, '/data/raw_full/children/children/Indian_410/Indian_410_0.png': 1343, '/data/raw_full/children/children/Indian_410/Indian_410_1.png': 1344, '/data/raw_full/children/children/Asian_217/Asian_217_1.png': 1345, '/data/raw_full/children/children/African_336/African_336_25.png': 1346, '/data/raw_full/children/children/African_789/African_789_1.png': 1347, '/data/raw_full/children/children/Caucasian_1314/Caucasian_1314_40.png': 1348, '/data/raw_full/children/children/Caucasian_1314/Caucasian_1314_18.png': 1349, '/data/raw_full/children/children/African_138/African_138_1.png': 1350, '/data/raw_full/children/children/Caucasian_m.01r4447/m.01r4447_0002.jpg': 1351, '/data/raw_full/children/children/Caucasian_m.01r4447/m.01r4447_0001.jpg': 1352, '/data/raw_full/children/children/Asian_143/Asian_143_27.png': 1353, '/data/raw_full/children/children/Indian_273/Indian_273_2.png': 1354, '/data/raw_full/children/children/Asian_301/Asian_301_99.png': 1355, '/data/raw_full/children/children/Asian_301/Asian_301_98.png': 1356, '/data/raw_full/children/children/Indian_390/Indian_390_0.png': 1357, '/data/raw_full/children/children/Indian_507/Indian_507_0.png': 1358, '/data/raw_full/children/children/Indian_348/Indian_348_22.png': 1359, '/data/raw_full/children/children/Indian_348/Indian_348_28.png': 1360, '/data/raw_full/children/children/African_m.0hznff9/m.0hznff9_0001.jpg': 1361, '/data/raw_full/children/children/Caucasian_1112/Caucasian_1112_22.png': 1362, '/data/raw_full/children/children/Indian_657/Indian_657_0.png': 1363, '/data/raw_full/children/children/African_688/African_688_14.png': 1364, '/data/raw_full/children/children/Asian_266/Asian_266_47.png': 1365, '/data/raw_full/children/children/Indian_221/Indian_221_2.png': 1366, '/data/raw_full/children/children/Indian_360/Indian_360_0.png': 1367, '/data/raw_full/children/children/African_466/African_466_4.png': 1368, '/data/raw_full/children/children/African_466/African_466_3.png': 1369, '/data/raw_full/children/children/African_540/African_540_5.png': 1370, '/data/raw_full/children/children/African_399/African_399_3.png': 1371, '/data/raw_full/children/children/Caucasian_m.0dyhsl/m.0dyhsl_0003.jpg': 1372, '/data/raw_full/children/children/African_72/African_72_0.png': 1373, '/data/raw_full/children/children/Asian_344/Asian_344_19.png': 1374, '/data/raw_full/children/children/Indian_113/Indian_113_1.png': 1375, '/data/raw_full/children/children/Indian_113/Indian_113_2.png': 1376, '/data/raw_full/children/children/Indian_681/Indian_681_2.png': 1377, '/data/raw_full/children/children/Indian_681/Indian_681_1.png': 1378, '/data/raw_full/children/children/Indian_76/Indian_76_0.png': 1379, '/data/raw_full/children/children/Caucasian_m.0287_p/m.0287_p_0001.jpg': 1380, '/data/raw_full/children/children/African_662/African_662_2.png': 1381, '/data/raw_full/children/children/Asian_95/Asian_95_1.png': 1382, '/data/raw_full/children/children/Indian_687/Indian_687_0.png': 1383, '/data/raw_full/children/children/African_m.0khpr49/m.0khpr49_0002.jpg': 1384, '/data/raw_full/children/children/Caucasian_269/Caucasian_269_4.png': 1385, '/data/raw_full/children/children/African_634/African_634_19.png': 1386, '/data/raw_full/children/children/African_634/African_634_24.png': 1387, '/data/raw_full/children/children/African_634/African_634_22.png': 1388, '/data/raw_full/children/children/African_536/African_536_0.png': 1389, '/data/raw_full/children/children/African_m.05r6t1/m.05r6t1_0001.jpg': 1390, '/data/raw_full/children/children/African_34/African_34_26.png': 1391, '/data/raw_full/children/children/African_346/African_346_14.png': 1392, '/data/raw_full/children/children/African_346/African_346_8.png': 1393, '/data/raw_full/children/children/Indian_380/Indian_380_2.png': 1394, '/data/raw_full/children/children/Indian_363/Indian_363_24.png': 1395, '/data/raw_full/children/children/Indian_m.09ld6g/m.09ld6g_0001.jpg': 1396, '/data/raw_full/children/children/Indian_75/Indian_75_0.png': 1397, '/data/raw_full/children/children/African_370/African_370_1.png': 1398, '/data/raw_full/children/children/African_370/African_370_11.png': 1399, '/data/raw_full/children/children/Asian_272/Asian_272_0.png': 1400, '/data/raw_full/children/children/African_483/African_483_8.png': 1401, '/data/raw_full/children/children/African_483/African_483_1.png': 1402, '/data/raw_full/children/children/African_709/African_709_0.png': 1403, '/data/raw_full/children/children/Indian_25/Indian_25_5.png': 1404, '/data/raw_full/children/children/Caucasian_201/Caucasian_201_29.png': 1405, '/data/raw_full/children/children/Caucasian_201/Caucasian_201_6.png': 1406, '/data/raw_full/children/children/African_207/African_207_3.png': 1407, '/data/raw_full/children/children/African_m.0fpy1b/m.0fpy1b_0002.jpg': 1408, '/data/raw_full/children/children/African_309/African_309_2.png': 1409, '/data/raw_full/children/children/African_535/African_535_5.png': 1410, '/data/raw_full/children/children/African_535/African_535_57.png': 1411, '/data/raw_full/children/children/African_535/African_535_34.png': 1412, '/data/raw_full/children/children/African_535/African_535_41.png': 1413, '/data/raw_full/children/children/African_535/African_535_53.png': 1414, '/data/raw_full/children/children/African_777/African_777_5.png': 1415, '/data/raw_full/children/children/Indian_m.0hncksb/m.0hncksb_0001.jpg': 1416, '/data/raw_full/children/children/Indian_163/Indian_163_3.png': 1417, '/data/raw_full/children/children/Indian_431/Indian_431_15.png': 1418, '/data/raw_full/children/children/Caucasian_m.02qvtbg/m.02qvtbg_0002.jpg': 1419, '/data/raw_full/children/children/Caucasian_m.03smhv/m.03smhv_0001.jpg': 1420, '/data/raw_full/children/children/Indian_m.0r8ntwm/m.0r8ntwm_0003.jpg': 1421, '/data/raw_full/children/children/Indian_m.0h9448x/m.0h9448x_0002.jpg': 1422, '/data/raw_full/children/children/Indian_m.0h9448x/m.0h9448x_0001.jpg': 1423, '/data/raw_full/children/children/Asian_47/Asian_47_7.png': 1424, '/data/raw_full/children/children/African_710/African_710_2.png': 1425, '/data/raw_full/children/children/African_710/African_710_4.png': 1426, '/data/raw_full/children/children/African_710/African_710_6.png': 1427, '/data/raw_full/children/children/Asian_102/Asian_102_7.png': 1428, '/data/raw_full/children/children/Indian_555/Indian_555_0.png': 1429, '/data/raw_full/children/children/Caucasian_282/Caucasian_282_4.png': 1430, '/data/raw_full/children/children/Caucasian_m.03h1xrn/m.03h1xrn_0005.jpg': 1431, '/data/raw_full/children/children/African_169/African_169_4.png': 1432, '/data/raw_full/children/children/Asian_403/Asian_403_20.png': 1433, '/data/raw_full/children/children/Asian_403/Asian_403_41.png': 1434, '/data/raw_full/children/children/Indian_691/Indian_691_6.png': 1435, '/data/raw_full/children/children/Indian_691/Indian_691_5.png': 1436, '/data/raw_full/children/children/Indian_691/Indian_691_4.png': 1437, '/data/raw_full/children/children/Indian_691/Indian_691_0.png': 1438, '/data/raw_full/children/children/Indian_691/Indian_691_2.png': 1439, '/data/raw_full/children/children/African_443/African_443_1.png': 1440, '/data/raw_full/children/children/African_443/African_443_0.png': 1441, '/data/raw_full/children/children/Asian_108/Asian_108_5.png': 1442, '/data/raw_full/children/children/African_819/African_819_22.png': 1443, '/data/raw_full/children/children/African_819/African_819_31.png': 1444, '/data/raw_full/children/children/African_741/African_741_1.png': 1445, '/data/raw_full/children/children/African_408/African_408_0.png': 1446, '/data/raw_full/children/children/African_49/African_49_164.png': 1447, '/data/raw_full/children/children/Asian_m.07jtcv/m.07jtcv_0001.jpg': 1448, '/data/raw_full/children/children/African_1/African_1_11.png': 1449, '/data/raw_full/children/children/Indian_594/Indian_594_0.png': 1450, '/data/raw_full/children/children/Caucasian_1257/Caucasian_1257_22.png': 1451, '/data/raw_full/children/children/African_57/African_57_3.png': 1452, '/data/raw_full/children/children/African_57/African_57_1.png': 1453, '/data/raw_full/children/children/African_57/African_57_2.png': 1454, '/data/raw_full/children/children/African_478/African_478_0.png': 1455, '/data/raw_full/children/children/Indian_164/Indian_164_3.png': 1456, '/data/raw_full/children/children/Indian_164/Indian_164_1.png': 1457, '/data/raw_full/children/children/Asian_312/Asian_312_0.png': 1458, '/data/raw_full/children/children/African_422/African_422_1.png': 1459, '/data/raw_full/children/children/Asian_m.03m42v3/m.03m42v3_0001.jpg': 1460, '/data/raw_full/children/children/Asian_m.03m42v3/m.03m42v3_0003.jpg': 1461, '/data/raw_full/children/children/Caucasian_593/Caucasian_593_5.png': 1462, '/data/raw_full/children/children/Indian_18/Indian_18_4.png': 1463, '/data/raw_full/children/children/Indian_18/Indian_18_7.png': 1464, '/data/raw_full/children/children/African_193/African_193_15.png': 1465, '/data/raw_full/children/children/Asian_m.027z7h7/m.027z7h7_0004.jpg': 1466, '/data/raw_full/children/children/Asian_m.027z7h7/m.027z7h7_0002.jpg': 1467, '/data/raw_full/children/children/Asian_m.0c03p4_/m.0c03p4__0004.jpg': 1468, '/data/raw_full/children/children/African_629/African_629_0.png': 1469, '/data/raw_full/children/children/African_677/African_677_1.png': 1470, '/data/raw_full/children/children/Indian_312/Indian_312_3.png': 1471, '/data/raw_full/children/children/Caucasian_130/Caucasian_130_0.png': 1472, '/data/raw_full/children/children/African_409/African_409_3.png': 1473, '/data/raw_full/children/children/African_409/African_409_29.png': 1474, '/data/raw_full/children/children/African_409/African_409_19.png': 1475, '/data/raw_full/children/children/African_409/African_409_25.png': 1476, '/data/raw_full/children/children/African_585/African_585_5.png': 1477, '/data/raw_full/children/children/Caucasian_m.07k9qf1/m.07k9qf1_0002.jpg': 1478, '/data/raw_full/children/children/Caucasian_m.07k9qf1/m.07k9qf1_0003.jpg': 1479, '/data/raw_full/children/children/Caucasian_m.07k9qf1/m.07k9qf1_0004.jpg': 1480, '/data/raw_full/children/children/African_m.027qhjc/m.027qhjc_0001.jpg': 1481, '/data/raw_full/children/children/African_413/African_413_1.png': 1482, '/data/raw_full/children/children/Indian_526/Indian_526_2.png': 1483, '/data/raw_full/children/children/Caucasian_m.09rscjd/m.09rscjd_0001.jpg': 1484, '/data/raw_full/children/children/Caucasian_m.09rscjd/m.09rscjd_0003.jpg': 1485, '/data/raw_full/children/children/Caucasian_m.09rscjd/m.09rscjd_0002.jpg': 1486, '/data/raw_full/children/children/Indian_387/Indian_387_0.png': 1487, '/data/raw_full/children/children/Indian_708/Indian_708_3.png': 1488, '/data/raw_full/children/children/Caucasian_m.018fwb/m.018fwb_0001.jpg': 1489, '/data/raw_full/children/children/Caucasian_m.018fwb/m.018fwb_0002.jpg': 1490, '/data/raw_full/children/children/Indian_388/Indian_388_2.png': 1491, '/data/raw_full/children/children/Indian_388/Indian_388_1.png': 1492, '/data/raw_full/children/children/Indian_344/Indian_344_4.png': 1493, '/data/raw_full/children/children/Indian_94/Indian_94_14.png': 1494, '/data/raw_full/children/children/African_m.0d6316/m.0d6316_0003.jpg': 1495, '/data/raw_full/children/children/African_719/African_719_4.png': 1496, '/data/raw_full/children/children/African_719/African_719_0.png': 1497, '/data/raw_full/children/children/Indian_672/Indian_672_0.png': 1498, '/data/raw_full/children/children/Caucasian_1336/Caucasian_1336_7.png': 1499, '/data/raw_full/children/children/Caucasian_1336/Caucasian_1336_6.png': 1500, '/data/raw_full/children/children/African_796/African_796_0.png': 1501, '/data/raw_full/children/children/Caucasian_211/Caucasian_211_12.png': 1502, '/data/raw_full/children/children/Caucasian_211/Caucasian_211_15.png': 1503, '/data/raw_full/children/children/Caucasian_407/Caucasian_407_39.png': 1504, '/data/raw_full/children/children/Indian_m.09lgkm/m.09lgkm_0003.jpg': 1505, '/data/raw_full/children/children/Asian_211/Asian_211_4.png': 1506, '/data/raw_full/children/children/African_m.04gqx5q/m.04gqx5q_0001.jpg': 1507, '/data/raw_full/children/children/African_m.04gqx5q/m.04gqx5q_0004.jpg': 1508, '/data/raw_full/children/children/Asian_75/Asian_75_51.png': 1509, '/data/raw_full/children/children/Caucasian_1361/Caucasian_1361_26.png': 1510, '/data/raw_full/children/children/Caucasian_523/Caucasian_523_9.png': 1511, '/data/raw_full/children/children/Indian_421/Indian_421_0.png': 1512, '/data/raw_full/children/children/Caucasian_m.061b24/m.061b24_0002.jpg': 1513, '/data/raw_full/children/children/Caucasian_m.061b24/m.061b24_0001.jpg': 1514, '/data/raw_full/children/children/African_297/African_297_3.png': 1515, '/data/raw_full/children/children/African_152/African_152_0.png': 1516, '/data/raw_full/children/children/African_152/African_152_2.png': 1517, '/data/raw_full/children/children/African_m.064n2q9/m.064n2q9_0003.jpg': 1518, '/data/raw_full/children/children/African_651/African_651_2.png': 1519, '/data/raw_full/children/children/Indian_323/Indian_323_3.png': 1520, '/data/raw_full/children/children/Indian_323/Indian_323_1.png': 1521, '/data/raw_full/children/children/Indian_323/Indian_323_2.png': 1522, '/data/raw_full/children/children/Indian_462/Indian_462_0.png': 1523, '/data/raw_full/children/children/Indian_101/Indian_101_1.png': 1524, '/data/raw_full/children/children/Indian_101/Indian_101_0.png': 1525, '/data/raw_full/children/children/Asian_442/Asian_442_18.png': 1526, '/data/raw_full/children/children/Asian_442/Asian_442_2.png': 1527, '/data/raw_full/children/children/Asian_442/Asian_442_10.png': 1528, '/data/raw_full/children/children/Indian_531/Indian_531_21.png': 1529, '/data/raw_full/children/children/Indian_531/Indian_531_20.png': 1530, '/data/raw_full/children/children/Indian_531/Indian_531_32.png': 1531, '/data/raw_full/children/children/Asian_535/Asian_535_1.png': 1532, '/data/raw_full/children/children/African_718/African_718_0.png': 1533, '/data/raw_full/children/children/African_131/African_131_3.png': 1534, '/data/raw_full/children/children/African_131/African_131_4.png': 1535, '/data/raw_full/children/children/African_580/African_580_16.png': 1536, '/data/raw_full/children/children/African_580/African_580_15.png': 1537, '/data/raw_full/children/children/African_650/African_650_1.png': 1538, '/data/raw_full/children/children/African_650/African_650_0.png': 1539, '/data/raw_full/children/children/African_83/African_83_3.png': 1540, '/data/raw_full/children/children/African_83/African_83_2.png': 1541, '/data/raw_full/children/children/Indian_577/Indian_577_36.png': 1542, '/data/raw_full/children/children/Indian_577/Indian_577_20.png': 1543, '/data/raw_full/children/children/Indian_577/Indian_577_14.png': 1544, '/data/raw_full/children/children/Indian_577/Indian_577_18.png': 1545, '/data/raw_full/children/children/Caucasian_m.0bq58m/m.0bq58m_0001.jpg': 1546, '/data/raw_full/children/children/Caucasian_m.0364m5/m.0364m5_0002.jpg': 1547, '/data/raw_full/children/children/African_712/African_712_5.png': 1548, '/data/raw_full/children/children/Indian_60/Indian_60_4.png': 1549, '/data/raw_full/children/children/Asian_54/Asian_54_10.png': 1550, '/data/raw_full/children/children/Indian_128/Indian_128_0.png': 1551, '/data/raw_full/children/children/African_581/African_581_1.png': 1552, '/data/raw_full/children/children/Asian_425/Asian_425_13.png': 1553, '/data/raw_full/children/children/Caucasian_561/Caucasian_561_28.png': 1554, '/data/raw_full/children/children/African_m.0crjgjj/m.0crjgjj_0002.jpg': 1555, '/data/raw_full/children/children/Indian_84/Indian_84_0.png': 1556, '/data/raw_full/children/children/Asian_334/Asian_334_6.png': 1557, '/data/raw_full/children/children/Caucasian_394/Caucasian_394_20.png': 1558, '/data/raw_full/children/children/Caucasian_394/Caucasian_394_67.png': 1559, '/data/raw_full/children/children/African_m.0g1my2/m.0g1my2_0003.jpg': 1560, '/data/raw_full/children/children/Indian_533/Indian_533_34.png': 1561, '/data/raw_full/children/children/Indian_533/Indian_533_5.png': 1562, '/data/raw_full/children/children/African_213/African_213_10.png': 1563, '/data/raw_full/children/children/African_213/African_213_2.png': 1564, '/data/raw_full/children/children/Asian_m.0ndskm9/m.0ndskm9_0004.jpg': 1565, '/data/raw_full/children/children/African_310/African_310_9.png': 1566, '/data/raw_full/children/children/African_310/African_310_8.png': 1567, '/data/raw_full/children/children/African_191/African_191_6.png': 1568, '/data/raw_full/children/children/African_191/African_191_19.png': 1569, '/data/raw_full/children/children/African_191/African_191_12.png': 1570, '/data/raw_full/children/children/African_m.03hgs5g/m.03hgs5g_0001.jpg': 1571, '/data/raw_full/children/children/African_495/African_495_5.png': 1572, '/data/raw_full/children/children/African_495/African_495_1.png': 1573, '/data/raw_full/children/children/African_495/African_495_2.png': 1574, '/data/raw_full/children/children/African_565/African_565_0.png': 1575, '/data/raw_full/children/children/Indian_270/Indian_270_7.png': 1576, '/data/raw_full/children/children/Caucasian_m.0b1f8v/m.0b1f8v_0003.jpg': 1577, '/data/raw_full/children/children/African_593/African_593_4.png': 1578, '/data/raw_full/children/children/African_508/African_508_1.png': 1579, '/data/raw_full/children/children/Asian_308/Asian_308_40.png': 1580, '/data/raw_full/children/children/Asian_429/Asian_429_33.png': 1581, '/data/raw_full/children/children/African_m.0dljzyy/m.0dljzyy_0002.jpg': 1582, '/data/raw_full/children/children/Asian_431/Asian_431_22.png': 1583, '/data/raw_full/children/children/Asian_431/Asian_431_63.png': 1584, '/data/raw_full/children/children/African_620/African_620_0.png': 1585, '/data/raw_full/children/children/Asian_629/Asian_629_35.png': 1586, '/data/raw_full/children/children/Caucasian_12/Caucasian_12_10.png': 1587, '/data/raw_full/children/children/African_304/African_304_5.png': 1588, '/data/raw_full/children/children/African_m.0dqlq9/m.0dqlq9_0001.jpg': 1589, '/data/raw_full/children/children/African_m.0cc75sy/m.0cc75sy_0003.jpg': 1590, '/data/raw_full/children/children/Indian_m.0h1fnvm/m.0h1fnvm_0001.jpg': 1591, '/data/raw_full/children/children/Indian_m.0h1fnvm/m.0h1fnvm_0003.jpg': 1592, '/data/raw_full/children/children/Indian_m.0h1fnvm/m.0h1fnvm_0002.jpg': 1593, '/data/raw_full/children/children/African_145/African_145_23.png': 1594, '/data/raw_full/children/children/Caucasian_m.066063m/m.066063m_0003.jpg': 1595, '/data/raw_full/children/children/Caucasian_m.066063m/m.066063m_0004.jpg': 1596, '/data/raw_full/children/children/African_601/African_601_0.png': 1597, '/data/raw_full/children/children/Asian_386/Asian_386_42.png': 1598, '/data/raw_full/children/children/African_32/African_32_0.png': 1599, '/data/raw_full/children/children/African_32/African_32_3.png': 1600}\n",
      "Image IDs mapping: [   0    1    2 ... 1598 1599 1600]\n"
     ]
    }
   ],
   "source": [
    "ids_can = convert_unique_ids(imgnames_can)\n",
    "factors_can, unique_ids_can = factorize_ids(imgnames_can)\n",
    "im_ids_can = np.array(factors_can)\n",
    "print(\"Factorized list:\", factors_can[:10])\n",
    "print(\"Unique IDs mapping:\", unique_ids_can)\n",
    "print(\"Image IDs mapping:\", im_ids_can)"
   ]
  },
  {
   "cell_type": "code",
   "execution_count": 260,
   "metadata": {},
   "outputs": [
    {
     "name": "stdout",
     "output_type": "stream",
     "text": [
      "Length of similarity scores without probe:  2561600 Equal to:  2561600 is True\n"
     ]
    }
   ],
   "source": [
    "## Data check\n",
    "\n",
    "sim_score_can = sim_mat_can.copy()\n",
    "# E.g. classify all identities as positive if threshold is higher than 90% of all similarity scores\n",
    "sims_excluding_probe_can = sim_score_can[sim_score_can < 0.9999] # OBs check if more scientific way\n",
    "# Check that length of similarity scores are equal to len(sim_scores.flatten)- len(sim_scores)\n",
    "print(\"Length of similarity scores without probe: \", len(sims_excluding_probe_can), \"Equal to: \", len(sim_score_can.flatten()) - len(sim_score_can), \n",
    "      \"is\",len(sims_excluding_probe_can) == (len(sim_score_can.flatten()) - len(sim_score_can)))\n"
   ]
  },
  {
   "cell_type": "code",
   "execution_count": 261,
   "metadata": {},
   "outputs": [
    {
     "data": {
      "image/png": "[encoded data removed]",
      "text/plain": [
       "<Figure size 640x480 with 1 Axes>"
      ]
     },
     "metadata": {},
     "output_type": "display_data"
    },
    {
     "name": "stdout",
     "output_type": "stream",
     "text": [
      "Average similarity score:  0.13716368803082954\n",
      "\n",
      "Top 10% similarity score:  0.4165981756598543\n",
      "\n",
      "Top 10 highest similarity score: [0.98039976 0.98039976 0.98334116 0.98334116 0.98468605 0.98468605\n",
      " 0.98944222 0.98944222 0.99989667 0.99989667]\n",
      "\n",
      "Max sim scores:  0.9998966723251195\n"
     ]
    }
   ],
   "source": [
    "# Convert tensor to NumPy array\n",
    "plot_sims_can = sim_score_can[sim_score_can < 0.9999].reshape(-1) # filter out values equal to 1 #OBS check more scietific way\n",
    "# Plot histogram\n",
    "plt.hist(plot_sims, bins=len(sim_score_can), color='blue',alpha=0.7)\n",
    "plt.title('Histogram of similarity scores - MagFace Canonical Children')\n",
    "plt.xlabel('Value')\n",
    "plt.ylabel('Frequency')\n",
    "plt.grid(True)\n",
    "plt.show()\n",
    "\n",
    "print(\"Average similarity score: \", np.mean(plot_sims_can))\n",
    "print(\"\\nTop 10% similarity score: \", np.percentile(plot_sims_can, 97.5))\n",
    "print(\"\\nTop 10 highest similarity score:\", np.sort(plot_sims_can)[-10:])\n",
    "print(\"\\nMax sim scores: \", np.max(plot_sims_can))"
   ]
  },
  {
   "cell_type": "markdown",
   "metadata": {},
   "source": [
    "##### Load data - adults\n"
   ]
  },
  {
   "cell_type": "code",
   "execution_count": 262,
   "metadata": {},
   "outputs": [],
   "source": [
    "# Children feature vectors\n",
    "with open('../data/feat_adults.list', 'r') as f:\n",
    "    lines = f.readlines()\n"
   ]
  },
  {
   "cell_type": "code",
   "execution_count": 263,
   "metadata": {},
   "outputs": [],
   "source": [
    "img_2_feats = {}\n",
    "img_2_mag = {}\n",
    "# Convert to dictionary as adaface - is done in img_2_feats\n",
    "for line in lines:\n",
    "    parts = line.strip().split(' ')\n",
    "    imgname = parts[0]\n",
    "    imgname = \"/\"+\"/\".join(imgname.split(\"/\")[4:])\n",
    "    feats = [float(e) for e in parts[1:]]\n",
    "    mag = np.linalg.norm(feats)\n",
    "    img_2_feats[imgname] = feats/mag\n",
    "    img_2_mag[imgname] = mag #magnitude of the feature vector"
   ]
  },
  {
   "cell_type": "code",
   "execution_count": 264,
   "metadata": {},
   "outputs": [],
   "source": [
    "imgnames = list(img_2_mag.keys())\n",
    "mags = [img_2_mag[imgname] for imgname in imgnames]\n",
    "sort_idx = np.argsort(mags) #sorts the magnitude/quality of the images"
   ]
  },
  {
   "cell_type": "code",
   "execution_count": 265,
   "metadata": {},
   "outputs": [
    {
     "data": {
      "text/plain": [
       "3306"
      ]
     },
     "execution_count": 265,
     "metadata": {},
     "output_type": "execute_result"
    }
   ],
   "source": [
    "len(lines)"
   ]
  },
  {
   "cell_type": "code",
   "execution_count": 266,
   "metadata": {},
   "outputs": [],
   "source": [
    "#feats = np.array([img_2_feats[imgnames[ele]] for ele in sort_idx[:10]])\n",
    "#feats = np.array([img_2_feats[imgnames[ele]] for ele in range(10)]) #unsorted image quality\n",
    "#ids = np.array([imgnames[ele] for ele in range(10)])\n",
    "\n",
    "feats_a = np.array([img_2_feats[imgnames[ele]] for ele in range(len(lines))]) #unsorted image quality\n",
    "ids_a = np.array([imgnames[ele] for ele in range(len(lines))])\n",
    "\n",
    "sim_mat_a = np.dot(feats_a, feats_a.T)"
   ]
  },
  {
   "cell_type": "code",
   "execution_count": 267,
   "metadata": {},
   "outputs": [
    {
     "name": "stdout",
     "output_type": "stream",
     "text": [
      "Factorized list: [0, 0, 0, 1, 2, 2, 3, 4, 4, 5]\n",
      "Unique IDs mapping: {'Indian_682': 0, 'Asian_119': 1, 'Asian_504': 2, 'Caucasian_73': 3, 'Caucasian_249': 4, 'm.01w1069': 5, 'Caucasian_363': 6, 'm.05n': 7, 'Asian_185': 8, 'African_713': 9, 'Indian_702': 10, 'African_627': 11, 'm.06ljz3': 12, 'African_433': 13, 'm.03vq05': 14, 'African_265': 15, 'Asian_59': 16, 'African_415': 17, 'African_274': 18, 'Indian_458': 19, 'Caucasian_244': 20, 'm.0j259dq': 21, 'African_571': 22, 'African_246': 23, 'African_743': 24, 'African_486': 25, 'Asian_137': 26, 'm.04gh78q': 27, 'Indian_711': 28, 'Asian_672': 29, 'Indian_115': 30, 'Asian_638': 31, 'Indian_267': 32, 'African_665': 33, 'Indian_474': 34, 'African_767': 35, 'Indian_346': 36, 'Caucasian_1323': 37, 'Indian_442': 38, 'Indian_676': 39, 'Asian_420': 40, 'African_305': 41, 'Indian_616': 42, 'm.04y7f4r': 43, 'm.0d5060': 44, 'Indian_484': 45, 'm.05sxmf7': 46, 'm.0gcslnm': 47, 'm.05t2cs': 48, 'Asian_663': 49, 'Indian_635': 50, 'Caucasian_167': 51, 'Indian_532': 52, 'Caucasian_245': 53, 'Indian_603': 54, 'm.0bbtgy9': 55, 'African_301': 56, 'Asian_9': 57, 'Indian_385': 58, 'Indian_630': 59, 'm.03qcd6h': 60, 'Indian_286': 61, 'Indian_375': 62, 'm.01kdft': 63, 'Indian_665': 64, 'Asian_67': 65, 'Indian_485': 66, 'African_338': 67, 'African_267': 68, 'Indian_517': 69, 'African_201': 70, 'm.0cz9s7m': 71, 'African_194': 72, 'African_428': 73, 'Caucasian_1077': 74, 'African_251': 75, 'African_41': 76, 'Asian_60': 77, 'Indian_549': 78, 'Asian_83': 79, 'Caucasian_1007': 80, 'African_178': 81, 'Indian_57': 82, 'Caucasian_1355': 83, 'Asian_207': 84, 'Indian_110': 85, 'm.0g5t3dq': 86, 'African_488': 87, 'Asian_424': 88, 'Caucasian_367': 89, 'Caucasian_449': 90, 'Asian_69': 91, 'Indian_64': 92, 'Indian_695': 93, 'Indian_620': 94, 'Indian_50': 95, 'Asian_79': 96, 'Indian_529': 97, 'African_675': 98, 'm.0lq5svr': 99, 'Caucasian_57': 100, 'Asian_485': 101, 'African_367': 102, 'Caucasian_1354': 103, 'm.0gy1': 104, 'Caucasian_1163': 105, 'Caucasian_483': 106, 'Caucasian_1123': 107, 'African_630': 108, 'Asian_586': 109, 'African_270': 110, 'Indian_123': 111, 'Asian_496': 112, 'African_357': 113, 'Asian_313': 114, 'Asian_257': 115, 'Asian_22': 116, 'Caucasian_178': 117, 'Indian_87': 118, 'African_649': 119, 'African_757': 120, 'Indian_460': 121, 'Asian_64': 122, 'Asian_216': 123, 'Indian_623': 124, 'African_569': 125, 'Caucasian_234': 126, 'm.0lz2n': 127, 'African_308': 128, 'm.0c3v046': 129, 'African_420': 130, 'Asian_734': 131, 'Caucasian_574': 132, 'm.0cz84c8': 133, 'Caucasian_444': 134, 'Caucasian_522': 135, 'Caucasian_537': 136, 'African_148': 137, 'm.04k4g8': 138, 'Caucasian_301': 139, 'Asian_133': 140, 'Indian_5': 141, 'Caucasian_604': 142, 'African_280': 143, 'Asian_302': 144, 'African_782': 145, 'Caucasian_1173': 146, 'African_252': 147, 'African_424': 148, 'African_820': 149, 'm.02t': 150, 'Indian_516': 151, 'Indian_132': 152, 'Indian_426': 153, 'African_401': 154, 'Asian_41': 155, 'African_628': 156, 'Indian_689': 157, 'African_286': 158, 'Asian_475': 159, 'African_507': 160, 'Caucasian_162': 161, 'Asian_735': 162, 'African_822': 163, 'Indian_643': 164, 'm.04gq5mw': 165, 'Indian_119': 166, 'Asian_611': 167, 'Caucasian_590': 168, 'African_579': 169, 'African_241': 170, 'Asian_204': 171, 'African_806': 172, 'Indian_293': 173, 'African_175': 174, 'Indian_277': 175, 'Indian_275': 176, 'Caucasian_357': 177, 'm.0hgprs2': 178, 'Caucasian_129': 179, 'Caucasian_432': 180, 'African_290': 181, 'African_612': 182, 'Indian_53': 183, 'm.0b61': 184, 'm.0h55': 185, 'African_397': 186, 'African_284': 187, 'm.05b4s6j': 188, 'Indian_117': 189, 'm.05mzg5y': 190, 'Caucasian_560': 191, 'Indian_513': 192, 'African_306': 193, 'African_366': 194, 'Asian_130': 195, 'Caucasian_37': 196, 'm.05zkm68': 197, 'African_642': 198, 'African_313': 199, 'Indian_17': 200, 'African_556': 201, 'African_60': 202, 'Caucasian_431': 203, 'Caucasian_399': 204, 'Caucasian_397': 205, 'Caucasian_1274': 206, 'African_635': 207, 'African_314': 208, 'Asian_551': 209, 'm.09': 210, 'Indian_428': 211, 'Caucasian_1364': 212, 'African_206': 213, 'm.0ks6hg': 214, 'Indian_392': 215, 'Indian_599': 216, 'm.0crgm59': 217, 'African_167': 218, 'Indian_483': 219, 'African_303': 220, 'm.0374vb': 221, 'Indian_209': 222, 'Caucasian_484': 223, 'm.0bzync': 224, 'm.0h': 225, 'African_510': 226, 'Indian_538': 227, 'm.03d9sf': 228, 'Indian_232': 229, 'Indian_598': 230, 'African_195': 231, 'Asian_304': 232, 'Caucasian_33': 233, 'African_769': 234, 'Indian_679': 235, 'Caucasian_1278': 236, 'm.051yv36': 237, 'African_746': 238, 'm.02z35g0': 239, 'Caucasian_1064': 240, 'm.0ddf3sx': 241, 'Caucasian_1214': 242, 'm.0g577f5': 243, 'Caucasian_126': 244, 'Caucasian_418': 245, 'Indian_355': 246, 'Asian_62': 247, 'm.02knyq': 248, 'm.0jfgrjr': 249, 'm.04wd3l': 250, 'Caucasian_119': 251, 'm.0gh79sg': 252, 'African_114': 253, 'African_734': 254, 'Indian_556': 255, 'African_318': 256, 'Indian_165': 257, 'Asian_12': 258, 'Indian_597': 259, 'm.02z7z7t': 260, 'African_222': 261, 'm.04d': 262, 'Asian_320': 263, 'Caucasian_66': 264, 'Indian_276': 265, 'Asian_696': 266, 'm.01nmf8f': 267, 'Asian_604': 268, 'African_632': 269, 'Indian_650': 270, 'African_277': 271, 'Caucasian_31': 272, 'Caucasian_285': 273, 'Caucasian_179': 274, 'Caucasian_1199': 275, 'Indian_269': 276, 'African_830': 277, 'Asian_88': 278, 'Asian_144': 279, 'Caucasian_335': 280, 'Asian_179': 281, 'Asian_630': 282, 'm.02664bd': 283, 'Indian_638': 284, 'Indian_30': 285, 'Indian_637': 286, 'Indian_0': 287, 'Indian_175': 288, 'm.051t72': 289, 'Caucasian_500': 290, 'Caucasian_121': 291, 'Indian_589': 292, 'African_492': 293, 'm.02vgny': 294, 'African_602': 295, 'm.080d3c2': 296, 'Caucasian_294': 297, 'Caucasian_287': 298, 'Indian_454': 299, 'Indian_693': 300, 'African_92': 301, 'African_352': 302, 'm.04wwtz': 303, 'Asian_221': 304, 'Caucasian_1259': 305, 'Indian_568': 306, 'Caucasian_1006': 307, 'African_325': 308, 'African_279': 309, 'Caucasian_1408': 310, 'Caucasian_326': 311, 'Indian_633': 312, 'Indian_116': 313, 'Asian_521': 314, 'Asian_190': 315, 'Asian_175': 316, 'African_552': 317, 'Asian_24': 318, 'Indian_511': 319, 'Indian_142': 320, 'African_534': 321, 'Caucasian_436': 322, 'African_44': 323, 'Indian_573': 324, 'Asian_417': 325, 'Asian_38': 326, 'Indian_138': 327, 'African_780': 328, 'Caucasian_1049': 329, 'African_2': 330, 'Caucasian_205': 331, 'Caucasian_519': 332, 'Asian_122': 333, 'Indian_274': 334, 'African_80': 335, 'Asian_664': 336, 'Indian_576': 337, 'm.060ckn': 338, 'African_700': 339, 'Asian_363': 340, 'Indian_67': 341, 'Caucasian_1322': 342, 'African_501': 343, 'Caucasian_1301': 344, 'African_302': 345, 'Caucasian_60': 346, 'Asian_619': 347, 'Caucasian_410': 348, 'Indian_539': 349, 'm.01167d3z': 350, 'Caucasian_1230': 351, 'Asian_295': 352, 'African_664': 353, 'Caucasian_1011': 354, 'm.0j3g6p0': 355, 'Indian_572': 356, 'Asian_633': 357, 'Asian_435': 358, 'Caucasian_1136': 359, 'Indian_189': 360, 'Indian_420': 361, 'African_619': 362, 'Caucasian_1359': 363, 'Asian_362': 364, 'Indian_662': 365, 'Indian_320': 366, 'Asian_480': 367, 'African_393': 368, 'African_36': 369, 'Asian_157': 370, 'Indian_63': 371, 'm.05mw28f': 372, 'Caucasian_526': 373, 'Caucasian_596': 374, 'Asian_14': 375, 'm.05lq0j': 376, 'Indian_654': 377, 'African_264': 378, 'Asian_507': 379, 'Indian_212': 380, 'm.03nxqb8': 381, 'African_702': 382, 'm.07dd04': 383, 'Indian_168': 384, 'African_0': 385, 'Indian_91': 386, 'African_326': 387, 'Indian_399': 388, 'Caucasian_256': 389, 'Caucasian_405': 390, 'African_470': 391, 'Caucasian_419': 392, 'm.0ck5hsy': 393, 'Asian_410': 394, 'African_493': 395, 'Asian_469': 396, 'm.04112vx': 397, 'Indian_55': 398, 'African_555': 399, 'Caucasian_1405': 400, 'm.0bh8tm0': 401, 'm.03mc3p4': 402, 'm.0dgqy0m': 403, 'Caucasian_485': 404, 'African_319': 405, 'Caucasian_1366': 406, 'African_472': 407, 'Caucasian_386': 408, 'African_427': 409, 'Indian_341': 410, 'Indian_718': 411, 'Indian_186': 412, 'African_615': 413, 'African_91': 414, 'Asian_454': 415, 'Asian_107': 416, 'African_75': 417, 'African_454': 418, 'Indian_309': 419, 'African_329': 420, 'African_447': 421, 'Asian_559': 422, 'm.085b': 423, 'Indian_424': 424, 'Asian_265': 425, 'm.03c9': 426, 'Indian_129': 427, 'Indian_95': 428, 'Indian_51': 429, 'Indian_190': 430, 'm.0ctrtr': 431, 'Caucasian_68': 432, 'Asian_479': 433, 'African_151': 434, 'm.04ct11t': 435, 'Caucasian_1218': 436, 'Indian_179': 437, 'm.02vr704': 438, 'Indian_162': 439, 'Indian_704': 440, 'African_260': 441, 'African_724': 442, 'Caucasian_1297': 443, 'm.073bb': 444, 'm.0j9mdv2': 445, 'Caucasian_1001': 446, 'African_474': 447, 'Asian_28': 448, 'Caucasian_1329': 449, 'Indian_13': 450, 'Indian_207': 451, 'Asian_86': 452, 'Indian_655': 453, 'Asian_716': 454, 'm.0g567x3': 455, 'African_147': 456, 'Indian_136': 457, 'Caucasian_146': 458, 'Caucasian_233': 459, 'African_216': 460, 'Caucasian_1236': 461, 'African_355': 462, 'Asian_106': 463, 'Asian_462': 464, 'Caucasian_21': 465, 'Caucasian_440': 466, 'Indian_546': 467, 'African_631': 468, 'African_220': 469, 'm.0j63px2': 470, 'African_523': 471, 'Caucasian_67': 472, 'Asian_569': 473, 'Caucasian_499': 474, 'Indian_473': 475, 'Caucasian_45': 476, 'African_288': 477, 'Indian_298': 478, 'Caucasian_135': 479, 'Caucasian_450': 480, 'Indian_144': 481, 'African_375': 482, 'African_391': 483, 'African_489': 484, 'Indian_170': 485, 'African_544': 486, 'Indian_500': 487, 'Indian_413': 488, 'm.04bhjx': 489, 'Indian_203': 490, 'm.0j4c85h': 491, 'Indian_492': 492, 'African_182': 493, 'African_506': 494, 'Indian_575': 495, 'Indian_241': 496, 'm.0fpj1q0': 497, 'African_202': 498, 'Asian_141': 499, 'Indian_537': 500, 'Indian_265': 501, 'Caucasian_377': 502, 'African_779': 503, 'Asian_126': 504, 'Indian_225': 505, 'African_637': 506, 'Asian_286': 507, 'Indian_280': 508, 'Caucasian_320': 509, 'm.0rpfv5x': 510, 'Caucasian_1129': 511, 'Asian_193': 512, 'Indian_378': 513, 'Caucasian_534': 514, 'Asian_593': 515, 'African_517': 516, 'Caucasian_1022': 517, 'Indian_111': 518, 'Caucasian_1193': 519, 'African_271': 520, 'African_285': 521, 'Indian_36': 522, 'Caucasian_1279': 523, 'Caucasian_329': 524, 'African_226': 525, 'African_715': 526, 'African_690': 527, 'African_674': 528, 'Caucasian_36': 529, 'm.043qv9l': 530, 'Indian_296': 531, 'African_67': 532, 'Caucasian_176': 533, 'm.0gyrf8v': 534, 'Asian_176': 535, 'Indian_706': 536, 'African_691': 537, 'm.0n49v6t': 538, 'Asian_347': 539, 'African_389': 540, 'Indian_14': 541, 'Caucasian_458': 542, 'Asian_568': 543, 'Indian_171': 544, 'Asian_419': 545, 'Indian_127': 546, 'Caucasian_1321': 547, 'African_614': 548, 'Asian_120': 549, 'African_586': 550, 'Indian_499': 551, 'Indian_692': 552, 'African_686': 553, 'm.0223zk': 554, 'Caucasian_390': 555, 'Indian_197': 556, 'm.0bmf6f': 557, 'African_156': 558, 'African_633': 559, 'Indian_553': 560, 'Asian_644': 561, 'm.09lj1': 562, 'm.04w79y': 563, 'Indian_490': 564, 'm.03h0jf4': 565, 'African_731': 566, 'Caucasian_141': 567, 'Asian_343': 568, 'm.0j4d7r3': 569, 'Caucasian_457': 570, 'African_287': 571, 'Asian_191': 572, 'Indian_68': 573, 'African_289': 574, 'Asian_607': 575, 'Indian_210': 576, 'Indian_33': 577, 'African_654': 578, 'Indian_135': 579, 'Caucasian_44': 580, 'Indian_15': 581, 'm.02qtd23': 582, 'm.04k4jh': 583, 'Indian_251': 584, 'Asian_32': 585, 'Indian_582': 586, 'Indian_439': 587, 'Indian_166': 588, 'Asian_2': 589, 'Caucasian_1118': 590, 'm.06y4cw': 591, 'm.0k3208': 592, 'Indian_239': 593, 'Asian_246': 594, 'Caucasian_267': 595, 'Asian_174': 596, 'Indian_23': 597, 'Indian_604': 598, 'm.06': 599, 'm.0dryml1': 600, 'm.0h62': 601, 'African_695': 602, 'African_502': 603, 'm.0bhh5n': 604, 'African_402': 605, 'Asian_549': 606, 'Indian_158': 607, 'Indian_480': 608, 'm.02605bs': 609, 'Caucasian_138': 610, 'Caucasian_1299': 611, 'Caucasian_549': 612, 'Indian_245': 613, 'African_751': 614, 'Caucasian_106': 615, 'African_155': 616, 'African_696': 617, 'Asian_634': 618, 'African_327': 619, 'African_739': 620, 'Indian_224': 621, 'Asian_722': 622, 'Indian_310': 623, 'African_377': 624, 'Caucasian_1285': 625, 'Indian_612': 626, 'African_130': 627, 'Caucasian_3': 628, 'Indian_303': 629, 'African_597': 630, 'm.0rfdr0b': 631, 'Asian_602': 632, 'Indian_41': 633, 'm.02pstft': 634, 'African_699': 635, 'm.05mz42q': 636, 'm.0fw3vg': 637, 'Indian_343': 638, 'Caucasian_103': 639, 'm.026kw4b': 640, 'Asian_245': 641, 'African_480': 642, 'African_412': 643, 'Indian_684': 644, 'Indian_560': 645, 'African_132': 646, 'Asian_525': 647, 'Caucasian_555': 648, 'Indian_243': 649, 'Caucasian_152': 650, 'Indian_102': 651, 'm.0sgqn1': 652, 'Caucasian_1019': 653, 'Asian_256': 654, 'Asian_684': 655, 'Indian_669': 656, 'African_471': 657, 'Caucasian_194': 658, 'Caucasian_232': 659, 'African_164': 660, 'Asian_541': 661, 'Indian_709': 662, 'Indian_493': 663, 'Asian_342': 664, 'Asian_543': 665, 'African_13': 666, 'African_3': 667, 'm.0gfhg0w': 668, 'Caucasian_1141': 669, 'Indian_379': 670, 'Asian_446': 671, 'African_22': 672, 'Caucasian_378': 673, 'Indian_56': 674, 'Indian_491': 675, 'African_33': 676, 'Indian_636': 677, 'Asian_237': 678, 'African_333': 679, 'Asian_427': 680, 'Indian_262': 681, 'm.0qft6yv': 682, 'm.0525': 683, 'm.03by2wy': 684, 'Caucasian_163': 685, 'Caucasian_39': 686, 'Indian_302': 687, 'African_295': 688, 'm.087q51': 689, 'African_332': 690, 'Indian_319': 691, 'Indian_571': 692, 'm.0rpgm1y': 693, 'Caucasian_1277': 694, 'Asian_652': 695, 'Asian_651': 696, 'Indian_254': 697, 'Asian_132': 698, 'Indian_308': 699, 'Asian_154': 700, 'm.09v3bhx': 701, 'm.027tssp': 702, 'African_396': 703, 'm.04n3v0': 704, 'Indian_494': 705, 'Caucasian_1008': 706, 'African_813': 707, 'm.08hcd7': 708, 'Caucasian_1204': 709, 'Caucasian_219': 710, 'African_108': 711, 'Indian_188': 712, 'African_504': 713, 'm.0fn3yj': 714, 'African_435': 715, 'Asian_219': 716, 'Caucasian_1016': 717, 'm.028x00': 718, 'Indian_468': 719, 'Indian_414': 720, 'm.015076': 721, 'African_407': 722, 'African_468': 723, 'Asian_527': 724, 'Caucasian_1281': 725, 'Indian_24': 726, 'Caucasian_441': 727, 'Caucasian_365': 728, 'African_667': 729, 'Caucasian_200': 730, 'African_558': 731, 'African_173': 732, 'Caucasian_1387': 733, 'African_180': 734, 'Caucasian_559': 735, 'Asian_168': 736, 'm.0268c4v': 737, 'Indian_201': 738, 'Indian_97': 739, 'Asian_329': 740, 'African_462': 741, 'Asian_717': 742, 'Caucasian_47': 743, 'African_576': 744, 'Asian_300': 745, 'Asian_31': 746, 'Asian_724': 747, 'Indian_32': 748, 'Indian_581': 749, 'Indian_327': 750, 'Indian_16': 751, 'African_204': 752, 'African_298': 753, 'Indian_122': 754, 'm.0bkk8v': 755, 'm.0bs1m9w': 756, 'm.0b9f7t': 757, 'Asian_225': 758, 'm.0hnbj9t': 759, 'African_419': 760, 'Asian_327': 761, 'm.025wqb8': 762, 'Indian_595': 763, 'm.0d': 764, 'Asian_552': 765, 'Caucasian_488': 766, 'Caucasian_573': 767, 'Caucasian_1258': 768, 'm.02r2pwb': 769, 'Indian_434': 770, 'African_161': 771, 'm.02pln': 772, 'Indian_488': 773, 'Caucasian_421': 774, 'Asian_718': 775, 'Caucasian_584': 776, 'Indian_167': 777, 'Caucasian_1325': 778, 'm.063zl0z': 779, 'Caucasian_1096': 780, 'Asian_685': 781, 'Caucasian_168': 782, 'Indian_618': 783, 'African_802': 784, 'Caucasian_480': 785, 'Caucasian_461': 786, 'African_748': 787, 'Indian_161': 788, 'Indian_427': 789, 'African_525': 790, 'Caucasian_300': 791, 'African_646': 792, 'm.02d9q6': 793, 'Indian_374': 794, 'm.0bd6yz': 795, 'Caucasian_286': 796, 'Asian_278': 797, 'Indian_59': 798, 'Caucasian_589': 799, 'Indian_628': 800, 'Indian_523': 801, 'Indian_146': 802, 'African_765': 803, 'African_291': 804, 'African_411': 805, 'Indian_10': 806, 'Asian_474': 807, 'African_618': 808, 'African_405': 809, 'African_503': 810, 'African_670': 811, 'm.0b76gpc': 812, 'Indian_601': 813, 'African_170': 814, 'Asian_738': 815, 'Asian_277': 816, 'African_21': 817, 'African_68': 818, 'Caucasian_250': 819, 'African_31': 820, 'Caucasian_452': 821, 'Caucasian_556': 822, 'African_458': 823, 'Asian_336': 824, 'm.03qlhm5': 825, 'African_437': 826, 'African_380': 827, 'Caucasian_128': 828, 'Asian_366': 829, 'African_174': 830, 'African_217': 831, 'African_423': 832, 'African_19': 833, 'Asian_17': 834, 'Indian_389': 835, 'Asian_1': 836, 'African_278': 837, 'm.0281bfh': 838, 'Indian_27': 839, 'm.0cbxht3': 840, 'African_509': 841, 'Indian_148': 842, 'Caucasian_1252': 843, 'Asian_46': 844, 'm.07wj0y': 845, 'm.0k3n34n': 846, 'Indian_396': 847, 'Caucasian_117': 848, 'Caucasian_396': 849, 'African_181': 850, 'Asian_561': 851, 'm.05kfvp': 852, 'Asian_481': 853, 'Asian_166': 854, 'Asian_466': 855, 'African_172': 856, 'Indian_554': 857, 'African_158': 858, 'm.03cw3qr': 859, 'African_363': 860, 'Caucasian_1215': 861, 'Indian_26': 862, 'Indian_520': 863, 'm.04yc': 864, 'm.0djj4b': 865, 'African_184': 866, 'Indian_152': 867, 'Caucasian_107': 868, 'Indian_634': 869, 'African_773': 870, 'African_626': 871, 'Asian_487': 872, 'African_127': 873, 'Indian_515': 874, 'Asian_489': 875, 'Indian_607': 876, 'Caucasian_601': 877, 'Caucasian_19': 878, 'Indian_543': 879, 'Asian_114': 880, 'Indian_366': 881, 'African_316': 882, 'Caucasian_1327': 883, 'Indian_626': 884, 'm.0c03p4j': 885, 'm.09v39qm': 886, 'African_726': 887, 'African_811': 888, 'Asian_368': 889, 'Caucasian_246': 890, 'Asian_150': 891, 'African_617': 892, 'Asian_409': 893, 'Indian_227': 894, 'Asian_212': 895, 'Asian_244': 896, 'Caucasian_94': 897, 'African_432': 898, 'm.04cvpmr': 899, 'Caucasian_445': 900, 'Caucasian_521': 901, 'Indian_264': 902, 'Asian_201': 903, 'African_214': 904, 'Indian_216': 905, 'African_208': 906, 'Asian_215': 907, 'African_294': 908, 'Indian_153': 909, 'Caucasian_347': 910, 'Indian_198': 911, 'Indian_614': 912, 'm.0b90h0': 913, 'Indian_521': 914, 'm.0660zg': 915, 'African_15': 916, 'Caucasian_602': 917, 'Indian_141': 918, 'Caucasian_6': 919, 'Indian_7': 920, 'Indian_215': 921, 'm.07khttn': 922, 'African_685': 923, 'Indian_233': 924, 'African_476': 925, 'm.0868nf': 926, 'Caucasian_1217': 927, 'Caucasian_1342': 928, 'm.0bmd0': 929, 'Indian_600': 930, 'African_758': 931, 'Indian_109': 932, 'Indian_437': 933, 'Indian_211': 934, 'Asian_689': 935, 'Indian_134': 936, 'African_680': 937, 'Asian_53': 938, 'Caucasian_417': 939, 'Asian_503': 940, 'African_157': 941, 'Asian_380': 942, 'African_578': 943, 'm.04y70v': 944, 'African_794': 945, 'African_121': 946, 'Indian_174': 947, 'Asian_279': 948, 'African_417': 949, 'African_539': 950, 'Indian_208': 951, 'Asian_654': 952, 'Asian_628': 953, 'm.02w2ll4': 954, 'African_261': 955, 'African_20': 956, 'Caucasian_361': 957, 'Asian_703': 958, 'Caucasian_332': 959, 'Asian_439': 960, 'Caucasian_1151': 961, 'm.0c7fm1': 962, 'Caucasian_1362': 963, 'African_736': 964, 'm.0gwyg57': 965, 'm.0cc6nc': 966, 'Asian_459': 967, 'Caucasian_1034': 968, 'Caucasian_423': 969, 'African_550': 970, 'Caucasian_58': 971, 'Indian_62': 972, 'Caucasian_1015': 973, 'Caucasian_1027': 974, 'African_168': 975, 'Indian_40': 976, 'Asian_472': 977, 'Asian_665': 978, 'Caucasian_1317': 979, 'Caucasian_316': 980, 'Caucasian_206': 981, 'Indian_108': 982, 'Indian_240': 983, 'Caucasian_1328': 984, 'Caucasian_149': 985, 'African_236': 986, 'African_786': 987, 'Indian_353': 988, 'm.014nfw': 989, 'Indian_300': 990, 'Indian_259': 991, 'Indian_238': 992, 'Indian_226': 993, 'Asian_546': 994, 'African_587': 995, 'Asian_15': 996, 'Caucasian_1161': 997, 'm.0qc5cv8': 998, 'African_296': 999, 'm.027': 1000, 'African_256': 1001, 'Indian_405': 1002, 'm.01mb0qk': 1003, 'Caucasian_1298': 1004, 'African_538': 1005, 'm.04y88mr': 1006, 'African_211': 1007, 'm.05h2n7l': 1008, 'Caucasian_1189': 1009, 'Caucasian_238': 1010, 'African_657': 1011, 'Indian_177': 1012, 'Indian_591': 1013, 'Caucasian_532': 1014, 'African_87': 1015, 'm.0kbgjy5': 1016, 'Caucasian_263': 1017, 'm.0h3mdym': 1018, 'Caucasian_439': 1019, 'm.05qf9m': 1020, 'African_323': 1021, 'Indian_281': 1022, 'African_74': 1023, 'Caucasian_147': 1024, 'Asian_385': 1025, 'African_663': 1026, 'm.03qmrg0': 1027, 'Asian_493': 1028, 'African_829': 1029, 'African_600': 1030, 'Caucasian_346': 1031, 'African_484': 1032, 'Indian_720': 1033, 'm.01df1y': 1034, 'Asian_18': 1035, 'Caucasian_213': 1036, 'Indian_156': 1037, 'Asian_247': 1038, 'Asian_478': 1039, 'African_292': 1040, 'African_362': 1041, 'African_756': 1042, 'Caucasian_69': 1043, 'African_687': 1044, 'Indian_61': 1045, 'Caucasian_1157': 1046, 'African_708': 1047, 'Indian_588': 1048, 'Asian_11': 1049, 'Indian_99': 1050, 'Indian_339': 1051, 'Asian_359': 1052, 'Caucasian_120': 1053, 'Caucasian_1360': 1054, 'African_752': 1055, 'Indian_8': 1056, 'Indian_247': 1057, 'Caucasian_1192': 1058, 'Indian_77': 1059, 'Asian_172': 1060, 'Asian_579': 1061, 'Asian_288': 1062, 'African_560': 1063, 'Indian_417': 1064, 'Indian_373': 1065, 'Indian_659': 1066, 'African_797': 1067, 'Caucasian_255': 1068, 'Indian_536': 1069, 'African_438': 1070, 'Asian_87': 1071, 'Indian_74': 1072, 'African_395': 1073, 'Caucasian_603': 1074, 'Caucasian_101': 1075, 'Caucasian_535': 1076, 'African_374': 1077, 'Caucasian_493': 1078, 'African_212': 1079, 'African_203': 1080, 'Asian_502': 1081, 'Indian_133': 1082, 'Caucasian_218': 1083, 'African_99': 1084, 'Indian_172': 1085, 'African_387': 1086, 'Caucasian_64': 1087, 'Caucasian_278': 1088, 'African_223': 1089, 'Indian_562': 1090, 'Indian_137': 1091, 'Asian_516': 1092, 'African_210': 1093, 'Asian_44': 1094, 'African_198': 1095, 'Indian_288': 1096, 'm.03j3dpb': 1097, 'African_255': 1098, 'm.05fwlf': 1099, 'm.0h7ln9v': 1100, 'African_359': 1101, 'm.0637st': 1102, 'Asian_438': 1103, 'Indian_432': 1104, 'Caucasian_1316': 1105, 'm.06z0np': 1106, 'Caucasian_387': 1107, 'Indian_46': 1108, 'Indian_477': 1109, 'African_254': 1110, 'Indian_3': 1111, 'African_269': 1112, 'African_205': 1113, 'Asian_220': 1114, 'African_513': 1115, 'African_590': 1116, 'm.0cj071': 1117, 'Indian_229': 1118, 'Caucasian_1403': 1119, 'Indian_104': 1120, 'African_146': 1121, 'm.083yrt': 1122, 'Asian_270': 1123, 'm.05zvsg3': 1124, 'Indian_6': 1125, 'm.043pr74': 1126, 'African_599': 1127, 'Indian_696': 1128, 'African_473': 1129, 'Caucasian_5': 1130, 'Caucasian_340': 1131, 'Asian_510': 1132, 'm.03hj': 1133, 'African_119': 1134, 'African_113': 1135, 'African_788': 1136, 'Indian_313': 1137, 'Indian_617': 1138, 'Caucasian_1293': 1139, 'Asian_449': 1140, 'Indian_196': 1141, 'Asian_621': 1142, 'Indian_544': 1143, 'African_38': 1144, 'Asian_697': 1145, 'Asian_581': 1146, 'Asian_423': 1147, 'Indian_307': 1148, 'Indian_688': 1149, 'Caucasian_327': 1150, 'African_511': 1151, 'Caucasian_1126': 1152, 'Indian_358': 1153, 'African_442': 1154, 'Indian_169': 1155, 'Asian_354': 1156, 'Indian_578': 1157, 'African_482': 1158, 'Asian_100': 1159, 'Caucasian_100': 1160, 'm.0b6h8l9': 1161, 'm.03vb0y': 1162, 'Caucasian_1232': 1163, 'Indian_72': 1164, 'm.052': 1165, 'm.0hht8wn': 1166, 'Caucasian_1035': 1167, 'African_218': 1168, 'Asian_534': 1169, 'Indian_336': 1170, 'Indian_715': 1171, 'African_171': 1172, 'Caucasian_494': 1173, 'Asian_723': 1174, 'Caucasian_1021': 1175, 'Indian_89': 1176, 'Caucasian_1265': 1177, 'African_772': 1178, 'Caucasian_309': 1179, 'Asian_392': 1180, 'Indian_85': 1181, 'Asian_0': 1182, 'African_684': 1183, 'African_12': 1184, 'Indian_535': 1185, 'm.0ft3dj': 1186, 'African_39': 1187, 'Indian_552': 1188, 'Asian_236': 1189, 'Caucasian_341': 1190, 'Indian_139': 1191, 'm.06w9rdb': 1192, 'Asian_51': 1193, 'Asian_348': 1194, 'Caucasian_1294': 1195, 'Asian_234': 1196, 'Caucasian_325': 1197, 'Indian_401': 1198, 'Caucasian_9': 1199, 'Indian_608': 1200, 'African_453': 1201, 'Caucasian_1399': 1202, 'Asian_298': 1203, 'African_548': 1204, 'Asian_605': 1205, 'Indian_644': 1206, 'm.0jwwdq1': 1207, 'Indian_423': 1208, 'African_340': 1209, 'African_455': 1210, 'Caucasian_547': 1211, 'Asian_252': 1212, 'Caucasian_1300': 1213, 'African_607': 1214, 'm.01wh03h': 1215, 'Asian_357': 1216, 'Asian_530': 1217, 'Caucasian_511': 1218, 'Caucasian_553': 1219, 'Caucasian_1338': 1220, 'Caucasian_214': 1221, 'African_400': 1222, 'Asian_609': 1223, 'African_440': 1224, 'African_640': 1225, 'African_547': 1226, 'm.0kvgy': 1227, 'Caucasian_1065': 1228, 'Asian_180': 1229, 'Asian_262': 1230, 'African_498': 1231, 'African_566': 1232, 'African_621': 1233, 'Indian_105': 1234, 'Indian_278': 1235, 'Indian_306': 1236, 'Caucasian_563': 1237, 'African_209': 1238, 'Asian_161': 1239, 'Caucasian_1100': 1240, 'Indian_43': 1241, 'Asian_332': 1242, 'm.03qqm1g': 1243, 'Asian_27': 1244, 'Caucasian_221': 1245, 'Caucasian_530': 1246, 'African_192': 1247, 'm.0kcgvy5': 1248, 'Indian_31': 1249, 'African_785': 1250, 'Caucasian_343': 1251, 'Indian_213': 1252, 'Caucasian_1050': 1253, 'm.060gwl': 1254, 'Asian_52': 1255, 'Asian_458': 1256, 'African_625': 1257, 'Caucasian_99': 1258, 'Asian_269': 1259, 'm.0h7m3hg': 1260, 'African_825': 1261, 'Indian_714': 1262, 'Caucasian_1066': 1263, 'Indian_524': 1264, 'African_275': 1265, 'Caucasian_137': 1266, 'Indian_694': 1267, 'm.05p9t9q': 1268, 'Indian_58': 1269, 'Asian_101': 1270, 'm.0ll1g': 1271, 'Asian_434': 1272, 'Asian_483': 1273, 'Indian_680': 1274, 'Indian_249': 1275, 'Caucasian_71': 1276, 'Indian_19': 1277, 'Caucasian_1205': 1278, 'Indian_461': 1279, 'Asian_381': 1280, 'African_475': 1281, 'African_697': 1282, 'm.04rlb8': 1283, 'Caucasian_7': 1284, 'Indian_522': 1285, 'African_496': 1286, 'Indian_415': 1287, 'm.027yq1t': 1288, 'Indian_81': 1289, 'm.09qfk3': 1290, 'African_384': 1291, 'African_276': 1292, 'Indian_668': 1293, 'African_815': 1294, 'Asian_218': 1295, 'm.0fgt4f': 1296, 'Caucasian_156': 1297, 'Indian_195': 1298, 'Indian_66': 1299, 'Caucasian_1410': 1300, 'Caucasian_51': 1301, 'Caucasian_1339': 1302, 'm.0p3qr00': 1303, 'Asian_594': 1304, 'African_678': 1305, 'Asian_433': 1306, 'm.02q91dd': 1307, 'Caucasian_1210': 1308, 'Indian_304': 1309, 'African_215': 1310, 'Asian_267': 1311, 'Caucasian_276': 1312, 'Caucasian_298': 1313, 'Indian_402': 1314, 'African_197': 1315, 'Indian_667': 1316, 'African_176': 1317, 'Asian_90': 1318, 'm.01v': 1319, 'African_126': 1320, 'Caucasian_1253': 1321, 'African_520': 1322, 'Caucasian_323': 1323, 'Asian_388': 1324, 'm.0sgy8m8': 1325, 'African_791': 1326, 'Indian_501': 1327, 'African_330': 1328, 'African_150': 1329, 'African_814': 1330, 'Asian_242': 1331, 'Asian_228': 1332, 'Caucasian_1231': 1333, 'African_577': 1334, 'Asian_202': 1335, 'Caucasian_1168': 1336, 'African_229': 1337, 'African_312': 1338, 'Indian_326': 1339, 'Indian_272': 1340, 'African_109': 1341, 'Asian_587': 1342, 'African_96': 1343, 'Indian_663': 1344, 'Caucasian_279': 1345, 'African_485': 1346, 'Asian_592': 1347, 'Asian_600': 1348, 'Asian_183': 1349, 'Indian_235': 1350, 'Indian_356': 1351, 'Asian_251': 1352, 'Caucasian_1153': 1353, 'African_321': 1354, 'African_750': 1355, 'Caucasian_1233': 1356, 'Caucasian_1223': 1357, 'Indian_475': 1358, 'Asian_584': 1359, 'Indian_255': 1360, 'Indian_514': 1361, 'African_144': 1362, 'Caucasian_339': 1363, 'Indian_331': 1364, 'Indian_83': 1365, 'African_324': 1366, 'Indian_124': 1367, 'm.05sztm0': 1368, 'Asian_110': 1369, 'Indian_370': 1370, 'm.0c3tl': 1371, 'Indian_632': 1372, 'African_153': 1373, 'm.0gdms9': 1374, 'African_818': 1375, 'm.047sm3j': 1376, 'African_315': 1377, 'African_46': 1378, 'African_469': 1379, 'Indian_38': 1380, 'Indian_640': 1381, 'Asian_316': 1382, 'Indian_697': 1383, 'Caucasian_578': 1384, 'Caucasian_513': 1385, 'Indian_112': 1386, 'African_693': 1387, 'm.0g36rz': 1388, 'Asian_249': 1389, 'Caucasian_314': 1390, 'Asian_570': 1391, 'm.02rdtb4': 1392, 'Indian_261': 1393, 'African_557': 1394, 'Caucasian_1237': 1395, 'African_311': 1396, 'm.0ckv': 1397, 'Asian_656': 1398, 'Caucasian_1188': 1399, 'Indian_37': 1400, 'African_199': 1401, 'Indian_666': 1402, 'African_647': 1403, 'Caucasian_1406': 1404, 'Caucasian_337': 1405, 'm.0b': 1406, 'African_136': 1407, 'Caucasian_291': 1408, 'African_784': 1409, 'm.04mz6m8': 1410, 'Indian_143': 1411, 'Indian_512': 1412, 'Indian_496': 1413, 'Indian_673': 1414, 'African_655': 1415, 'm.03mhsl': 1416, 'Caucasian_111': 1417, 'Asian_148': 1418, 'Indian_140': 1419, 'African_123': 1420, 'm.03gr2g0': 1421, 'Asian_124': 1422, 'African_658': 1423, 'Asian_356': 1424, 'African_300': 1425, 'Indian_29': 1426, 'Asian_167': 1427, 'Caucasian_465': 1428, 'African_18': 1429, 'African_237': 1430, 'm.03ymb1': 1431, 'Asian_66': 1432, 'Caucasian_1315': 1433, 'Indian_574': 1434, 'Caucasian_546': 1435, 'Asian_55': 1436, 'African_711': 1437, 'African_120': 1438, 'African_240': 1439, 'Indian_457': 1440, 'Indian_671': 1441, 'African_160': 1442, 'African_740': 1443, 'Indian_476': 1444, 'm.02qnlkc': 1445, 'Indian_518': 1446, 'Caucasian_331': 1447, 'African_434': 1448, 'African_6': 1449, 'Indian_648': 1450, 'Indian_447': 1451, 'm.0286btc': 1452, 'm.03qcz13': 1453, 'Asian_305': 1454, 'African_110': 1455, 'Caucasian_420': 1456, 'Asian_421': 1457, 'African_64': 1458, 'Indian_268': 1459, 'Asian_741': 1460, 'm.09gp6y8': 1461, 'Caucasian_505': 1462, 'Indian_579': 1463, 'Indian_707': 1464, 'm.02x9x4q': 1465, 'Indian_289': 1466, 'Asian_714': 1467, 'African_421': 1468, 'Asian_490': 1469, 'Caucasian_292': 1470, 'Caucasian_520': 1471, 'Indian_700': 1472, 'African_364': 1473, 'African_369': 1474, 'Caucasian_496': 1475, 'Caucasian_260': 1476, 'Caucasian_1115': 1477, 'Asian_576': 1478, 'Caucasian_424': 1479, 'African_727': 1480, 'African_610': 1481, 'Asian_194': 1482, 'Indian_394': 1483, 'African_666': 1484, 'Indian_610': 1485, 'Indian_716': 1486, 'African_716': 1487, 'Asian_706': 1488, 'Asian_558': 1489, 'African_451': 1490, 'Caucasian_464': 1491, 'm.04972h': 1492, 'm.07k4tsn': 1493, 'Indian_411': 1494, 'African_40': 1495, 'm.0hht5gt': 1496, 'Asian_232': 1497, 'Caucasian_1108': 1498, 'African_554': 1499, 'Indian_690': 1500, 'African_446': 1501, 'Asian_61': 1502, 'African_379': 1503, 'African_546': 1504, 'Indian_80': 1505, 'Caucasian_524': 1506, 'African_681': 1507, 'm.0kvclh4': 1508, 'African_398': 1509, 'm.0k0vhdw': 1510, 'Indian_149': 1511, 'Asian_23': 1512, 'African_390': 1513, 'African_728': 1514, 'Indian_284': 1515, 'Caucasian_1093': 1516, 'Asian_637': 1517, 'Asian_153': 1518, 'African_735': 1519, 'Indian_292': 1520, 'Asian_662': 1521, 'Indian_478': 1522, 'm.0465pkb': 1523, 'African_50': 1524, 'Indian_631': 1525, 'Caucasian_1309': 1526, 'Asian_104': 1527, 'African_142': 1528, 'Indian_528': 1529, 'Caucasian_142': 1530, 'm.0hgrp': 1531, 'African_317': 1532, 'Caucasian_581': 1533, 'African_648': 1534, 'Caucasian_133': 1535, 'm.05c1gll': 1536, 'Indian_340': 1537, 'African_259': 1538, 'Asian_189': 1539, 'Asian_519': 1540, 'Caucasian_476': 1541, 'African_456': 1542, 'Indian_498': 1543, 'African_460': 1544, 'Caucasian_425': 1545, 'Caucasian_1318': 1546, 'm.0b6bj4': 1547, 'Indian_222': 1548, 'Asian_63': 1549, 'African_47': 1550, 'Caucasian_1102': 1551, 'Indian_318': 1552, 'm.02pm': 1553, 'African_582': 1554, 'Asian_94': 1555, 'Caucasian_1174': 1556, 'm.0gw5nsq': 1557, 'Indian_449': 1558, 'African_116': 1559, 'Asian_72': 1560, 'm.05znvh4': 1561, 'Caucasian_192': 1562, 'Indian_228': 1563, 'Asian_614': 1564, 'Indian_130': 1565, 'African_436': 1566, 'Asian_443': 1567, 'African_644': 1568, 'm.04gnpyg': 1569, 'Indian_220': 1570, 'Caucasian_281': 1571, 'Asian_482': 1572, 'Asian_382': 1573, 'African_733': 1574, 'Indian_664': 1575, 'African_660': 1576, 'African_512': 1577, 'African_828': 1578, 'Indian_602': 1579, 'Asian_182': 1580, 'Caucasian_1262': 1581, 'African_652': 1582, 'm.02mpmt': 1583, 'Indian_409': 1584, 'Indian_641': 1585, 'African_394': 1586, 'African_452': 1587, 'African_54': 1588, 'Indian_647': 1589, 'Asian_517': 1590, 'Indian_362': 1591, 'Caucasian_1075': 1592, 'Caucasian_229': 1593, 'm.02lrn6': 1594, 'African_425': 1595, 'Indian_54': 1596, 'Indian_646': 1597, 'Indian_510': 1598, 'm.03c62bf': 1599, 'Caucasian_239': 1600, 'African_429': 1601, 'Caucasian_533': 1602, 'Caucasian_308': 1603, 'Indian_271': 1604, 'Asian_670': 1605, 'Indian_422': 1606, 'm.092grt': 1607, 'Asian_642': 1608, 'Caucasian_1057': 1609, 'Caucasian_40': 1610, 'Asian_261': 1611, 'Caucasian_1183': 1612, 'Caucasian_463': 1613, 'm.03jygk': 1614, 'Indian_364': 1615, 'Caucasian_462': 1616, 'African_266': 1617, 'Indian_504': 1618, 'Asian_50': 1619, 'm.0ngt980': 1620, 'African_624': 1621, 'African_499': 1622, 'African_721': 1623, 'Asian_274': 1624, 'Indian_472': 1625, 'African_682': 1626, 'Indian_242': 1627, 'Caucasian_514': 1628, 'Asian_151': 1629, 'Caucasian_1073': 1630, 'Indian_406': 1631, 'm.0gl6w7': 1632, 'Asian_346': 1633, 'Asian_407': 1634, 'Indian_182': 1635, 'm.0bmgk30': 1636, 'm.03hzd3l': 1637, 'African_331': 1638, 'Indian_503': 1639, 'Asian_158': 1640, 'Indian_126': 1641, 'Asian_268': 1642, 'African_441': 1643, 'Caucasian_352': 1644, 'm.067': 1645, 'Asian_451': 1646, 'Caucasian_597': 1647, 'Asian_303': 1648, 'Asian_339': 1649, 'African_163': 1650, 'African_570': 1651, 'Asian_78': 1652, 'Caucasian_204': 1653, 'Asian_310': 1654, 'African_376': 1655, 'm.01vjy69': 1656, 'Indian_21': 1657, 'Asian_299': 1658, 'Caucasian_170': 1659, 'm.06t5x': 1660, 'Indian_125': 1661, 'Caucasian_1241': 1662, 'Indian_481': 1663, 'Caucasian_1363': 1664, 'Asian_506': 1665, 'Caucasian_1119': 1666, 'Caucasian_1107': 1667, 'Asian_338': 1668, 'm.04074lf': 1669, 'African_705': 1670, 'African_268': 1671, 'Asian_412': 1672, 'm.0gc69ms': 1673, 'Indian_541': 1674, 'Caucasian_1390': 1675, 'm.0dpt37': 1676, 'Caucasian_1369': 1677, 'Caucasian_562': 1678, 'm.04fhhp': 1679, 'Caucasian_502': 1680, 'African_403': 1681, 'm.0263vl0': 1682, 'African_283': 1683, 'Caucasian_1344': 1684, 'Indian_459': 1685, 'Caucasian_1377': 1686, 'Caucasian_1017': 1687, 'Caucasian_1': 1688, 'm.070sx4': 1689, 'African_729': 1690, 'm.07': 1691, 'African_645': 1692, 'Asian_49': 1693, 'Caucasian_393': 1694, 'm.03hnvsn': 1695, 'African_159': 1696, 'Asian_209': 1697, 'Indian_65': 1698, 'Indian_121': 1699, 'African_568': 1700, 'Indian_717': 1701, 'Caucasian_1000': 1702, 'Indian_410': 1703, 'Asian_217': 1704, 'African_336': 1705, 'African_789': 1706, 'Asian_470': 1707, 'Indian_151': 1708, 'Caucasian_1314': 1709, 'African_138': 1710, 'Caucasian_1340': 1711, 'm.01r4447': 1712, 'Caucasian_253': 1713, 'Asian_143': 1714, 'Caucasian_373': 1715, 'Indian_69': 1716, 'Indian_273': 1717, 'Asian_301': 1718, 'Asian_145': 1719, 'Indian_390': 1720, 'Caucasian_1398': 1721, 'Indian_507': 1722, 'Asian_591': 1723, 'Indian_348': 1724, 'Caucasian_1170': 1725, 'm.0hznff9': 1726, 'Caucasian_1112': 1727, 'Caucasian_1275': 1728, 'm.07krpj': 1729, 'Indian_657': 1730, 'Caucasian_307': 1731, 'African_688': 1732, 'Asian_266': 1733, 'Indian_221': 1734, 'Indian_360': 1735, 'African_466': 1736, 'African_540': 1737, 'African_754': 1738, 'African_399': 1739, 'African_248': 1740, 'Caucasian_1194': 1741, 'African_228': 1742, 'Indian_150': 1743, 'm.02z0qb9': 1744, 'm.0dyhsl': 1745, 'African_72': 1746, 'Asian_344': 1747, 'Indian_113': 1748, 'African_737': 1749, 'Indian_681': 1750, 'Indian_76': 1751, 'm.0287': 1752, 'African_662': 1753, 'Asian_95': 1754, 'Asian_76': 1755, 'Indian_687': 1756, 'Caucasian_516': 1757, 'm.0khpr49': 1758, 'Indian_451': 1759, 'Caucasian_161': 1760, 'Caucasian_208': 1761, 'Asian_139': 1762, 'Caucasian_269': 1763, 'Indian_621': 1764, 'Indian_299': 1765, 'African_634': 1766, 'African_536': 1767, 'm.0bc9r7': 1768, 'Indian_619': 1769, 'm.0gk': 1770, 'm.05r6t1': 1771, 'African_34': 1772, 'Asian_414': 1773, 'African_759': 1774, 'Indian_580': 1775, 'African_346': 1776, 'Asian_572': 1777, 'm.09gjj0m': 1778, 'Indian_380': 1779, 'Asian_467': 1780, 'Indian_363': 1781, 'm.09ld6g': 1782, 'm.0bmxpb': 1783, 'Indian_75': 1784, 'African_370': 1785, 'African_371': 1786, 'Asian_272': 1787, 'Caucasian_93': 1788, 'African_483': 1789, 'Indian_678': 1790, 'Caucasian_150': 1791, 'Asian_545': 1792, 'Asian_405': 1793, 'African_709': 1794, 'Indian_25': 1795, 'Asian_99': 1796, 'Caucasian_1383': 1797, 'Caucasian_201': 1798, 'African_207': 1799, 'm.0fpy1b': 1800, 'African_309': 1801, 'African_535': 1802, 'African_777': 1803, 'Caucasian_529': 1804, 'm.0hncksb': 1805, 'Indian_163': 1806, 'm.0b087y': 1807, 'Indian_431': 1808, 'Asian_544': 1809, 'm.02qvtbg': 1810, 'm.03smhv': 1811, 'm.0r8ntwm': 1812, 'African_8': 1813, 'm.0h9448x': 1814, 'Indian_34': 1815, 'm.051zyst': 1816, 'm.08brxy': 1817, 'Asian_47': 1818, 'Asian_554': 1819, 'African_710': 1820, 'Asian_102': 1821, 'Indian_555': 1822, 'Asian_290': 1823, 'Indian_489': 1824, 'Caucasian_282': 1825, 'm.03h1xrn': 1826, 'African_169': 1827, 'Asian_403': 1828, 'Indian_691': 1829, 'Indian_70': 1830, 'African_443': 1831, 'Caucasian_375': 1832, 'm.0ktchz': 1833, 'Asian_108': 1834, 'African_819': 1835, 'm.026m8l2': 1836, 'African_741': 1837, 'm.0bj2pt': 1838, 'African_408': 1839, 'Indian_376': 1840, 'African_49': 1841, 'm.07jtcv': 1842, 'Caucasian_1276': 1843, 'African_1': 1844, 'Asian_273': 1845, 'Indian_594': 1846, 'Caucasian_1257': 1847, 'African_57': 1848, 'African_478': 1849, 'Indian_164': 1850, 'African_56': 1851, 'm.04z': 1852, 'Indian_651': 1853, 'African_166': 1854, 'Indian_479': 1855, 'African_689': 1856, 'Asian_312': 1857, 'Asian_556': 1858, 'African_422': 1859, 'African_53': 1860, 'm.0dghc5': 1861, 'Asian_199': 1862, 'African_725': 1863, 'Caucasian_1078': 1864, 'm.03m42v3': 1865, 'Caucasian_593': 1866, 'African_584': 1867, 'Indian_18': 1868, 'm.01m49': 1869, 'Asian_514': 1870, 'African_514': 1871, 'African_193': 1872, 'm.027z7h7': 1873, 'm.0c03p4': 1874, 'Asian_453': 1875, 'African_629': 1876, 'm.04q4c8': 1877, 'African_677': 1878, 'Indian_312': 1879, 'Caucasian_130': 1880, 'Caucasian_402': 1881, 'Asian_192': 1882, 'Indian_337': 1883, 'African_409': 1884, 'African_585': 1885, 'm.0264t6l': 1886, 'Caucasian_313': 1887, 'Caucasian_1178': 1888, 'Caucasian_175': 1889, 'Caucasian_1296': 1890, 'African_347': 1891, 'm.07k9qf1': 1892, 'Indian_204': 1893, 'm.027qhjc': 1894, 'Indian_214': 1895, 'African_413': 1896, 'Indian_526': 1897, 'm.09rscjd': 1898, 'Caucasian_1026': 1899, 'm.064kgq3': 1900, 'Indian_387': 1901, 'Indian_708': 1902, 'm.018fwb': 1903, 'Indian_388': 1904, 'm.076zfcq': 1905, 'Indian_344': 1906, 'm.08jn6t': 1907, 'Indian_94': 1908, 'm.0d6316': 1909, 'Caucasian_422': 1910, 'African_719': 1911, 'Indian_672': 1912, 'Caucasian_1336': 1913, 'm.0g53y0h': 1914, 'Caucasian_1002': 1915, 'African_796': 1916, 'm.05': 1917, 'Caucasian_211': 1918, 'Caucasian_407': 1919, 'm.09lgkm': 1920, 'Caucasian_503': 1921, 'Asian_211': 1922, 'Caucasian_109': 1923, 'm.04gqx5q': 1924, 'Asian_75': 1925, 'African_703': 1926, 'Caucasian_1361': 1927, 'African_583': 1928, 'Caucasian_523': 1929, 'Indian_592': 1930, 'Indian_421': 1931, 'Caucasian_29': 1932, 'm.061b24': 1933, 'Asian_589': 1934, 'African_297': 1935, 'African_152': 1936, 'Asian_436': 1937, 'm.064n2q9': 1938, 'African_651': 1939, 'Asian_491': 1940, 'Indian_323': 1941, 'Indian_462': 1942, 'African_707': 1943, 'Indian_101': 1944, 'Asian_442': 1945, 'Indian_531': 1946, 'Caucasian_273': 1947, 'Asian_535': 1948, 'African_718': 1949, 'African_124': 1950, 'Caucasian_11': 1951, 'African_131': 1952, 'African_580': 1953, 'm.04tkfj': 1954, 'African_650': 1955, 'African_83': 1956, 'Indian_577': 1957, 'm.0bq58m': 1958, 'm.0364m5': 1959, 'Asian_360': 1960, 'African_712': 1961, 'Indian_60': 1962, 'Asian_54': 1963, 'Indian_128': 1964, 'African_581': 1965, 'Asian_425': 1966, 'Indian_661': 1967, 'Caucasian_1179': 1968, 'Caucasian_561': 1969, 'm.0crjgjj': 1970, 'Indian_84': 1971, 'African_69': 1972, 'Caucasian_185': 1973, 'Indian_547': 1974, 'Asian_334': 1975, 'm.04n3h74': 1976, 'Caucasian_394': 1977, 'Asian_36': 1978, 'm.0g1my2': 1979, 'Caucasian_102': 1980, 'Indian_533': 1981, 'African_213': 1982, 'm.0ndskm9': 1983, 'African_310': 1984, 'African_191': 1985, 'm.03hgs5g': 1986, 'African_495': 1987, 'Asian_398': 1988, 'Asian_350': 1989, 'Caucasian_22': 1990, 'Caucasian_49': 1991, 'Caucasian_183': 1992, 'African_565': 1993, 'Indian_270': 1994, 'm.0b1f8v': 1995, 'African_593': 1996, 'African_508': 1997, 'Asian_308': 1998, 'Asian_429': 1999, 'm.0dljzyy': 2000, 'Caucasian_1085': 2001, 'African_341': 2002, 'Asian_431': 2003, 'Indian_611': 2004, 'African_620': 2005, 'Asian_629': 2006, 'Asian_402': 2007, 'Caucasian_12': 2008, 'African_304': 2009, 'm.0dqlq9': 2010, 'Caucasian_159': 2011, 'Asian_639': 2012, 'm.0cc75sy': 2013, 'm.0h1fnvm': 2014, 'Indian_98': 2015, 'African_145': 2016, 'Indian_223': 2017, 'm.066063m': 2018, 'African_601': 2019, 'Asian_386': 2020, 'African_32': 2021}\n"
     ]
    }
   ],
   "source": [
    "# convert ids\n",
    "ids_a = convert_unique_ids(ids_a)\n",
    "factors_a, unique_ids = factorize_ids(ids)\n",
    "print(\"Factorized list:\", factors_a[:10])\n",
    "print(\"Unique IDs mapping:\", unique_ids)"
   ]
  },
  {
   "cell_type": "code",
   "execution_count": 268,
   "metadata": {},
   "outputs": [
    {
     "name": "stdout",
     "output_type": "stream",
     "text": [
      "Length of similarity scores without probe:  10926330 Equal to:  10926330 is True\n"
     ]
    }
   ],
   "source": [
    "## Data check\n",
    "sim_scores_a = sim_mat_a.copy()\n",
    "# E.g. classify all identities as positive if threshold is higher than 90% of all similarity scores\n",
    "sims_excluding_probe = sim_scores_a[sim_scores_a < 0.99] # OBs check if more scientific way\n",
    "# Check that length of similarity scores are equal to len(sim_scores.flatten)- len(sim_scores)\n",
    "print(\"Length of similarity scores without probe: \", len(sims_excluding_probe), \"Equal to: \", len(sim_scores_a.flatten()) - len(sim_scores_a), \n",
    "      \"is\",len(sims_excluding_probe) == (len(sim_scores_a.flatten()) - len(sim_scores_a)))\n"
   ]
  },
  {
   "cell_type": "code",
   "execution_count": 269,
   "metadata": {},
   "outputs": [
    {
     "data": {
      "image/png": "[encoded data removed]",
      "text/plain": [
       "<Figure size 640x480 with 1 Axes>"
      ]
     },
     "metadata": {},
     "output_type": "display_data"
    },
    {
     "name": "stdout",
     "output_type": "stream",
     "text": [
      "Average similarity score:  0.20604788258925932\n",
      "\n",
      "Top 10% similarity score:  0.4404752278903723\n",
      "\n",
      "Top 10 highest similarity score: [0.80635714 0.80635714 0.80751627 0.80751627 0.83381147 0.83381147\n",
      " 0.88859401 0.88859401 0.93653139 0.93653139]\n",
      "\n",
      "Max sim scores:  0.9365313871699896\n"
     ]
    }
   ],
   "source": [
    "# Analyze similarity scores in terms of threshold...\n",
    "# For the first 10 similarity scores - what is the distribution of the scores?\n",
    "plot_sims_a = sim_scores_a[sim_scores_a < 0.999].reshape(-1) # filter out values equal to 1 #OBS check more scietific way\n",
    "# Plot histogram\n",
    "plt.hist(plot_sims_a, bins=len(sim_scores_a), color='red', alpha=0.5)\n",
    "plt.title('Histogram of similarity scores - MagFace Adults')\n",
    "plt.xlabel('Value')\n",
    "plt.ylabel('Frequency')\n",
    "plt.grid(True)\n",
    "plt.show()\n",
    "\n",
    "print(\"Average similarity score: \", np.mean(plot_sims_a))\n",
    "print(\"\\nTop 10% similarity score: \", np.percentile(plot_sims_a, 97.5))\n",
    "print(\"\\nTop 10 highest similarity score:\", np.sort(plot_sims_a)[-10:])\n",
    "print(\"\\nMax sim scores: \", np.max(plot_sims_a))"
   ]
  },
  {
   "cell_type": "markdown",
   "metadata": {},
   "source": [
    "##### Load data children - canonical"
   ]
  },
  {
   "cell_type": "markdown",
   "metadata": {},
   "source": [
    "### Convert stats\n",
    "+ find threshold"
   ]
  },
  {
   "cell_type": "code",
   "execution_count": 270,
   "metadata": {},
   "outputs": [
    {
     "data": {
      "image/png": "[encoded data removed]",
      "text/plain": [
       "<Figure size 640x480 with 1 Axes>"
      ]
     },
     "metadata": {},
     "output_type": "display_data"
    }
   ],
   "source": [
    "import numpy as np\n",
    "import matplotlib.pyplot as plt\n",
    "\n",
    "# Define quantiles\n",
    "quantiles = [90, 95, 97.5, 99]\n",
    "\n",
    "# Calculate threshold values for each group and each quantile\n",
    "thresholds_1 = [np.percentile(plot_sims, q) for q in quantiles]\n",
    "thresholds_2 = [np.percentile(plot_sims_a, q) for q in quantiles]\n",
    "\n",
    "# Plot histograms for both groups\n",
    "plt.hist(plot_sims, bins=len(sim_scores), color='blue', alpha=0.7, label='Group 1')\n",
    "plt.hist(plot_sims_a, bins=len(sim_scores_a), color='orange', alpha=0.7, label='Group 2')\n",
    "plt.title('Histogram of similarity scores')\n",
    "plt.xlabel('Similarity score max value')\n",
    "plt.ylabel('Frequency')\n",
    "\n",
    "# Plot threshold values for group 1\n",
    "for threshold in thresholds_1:\n",
    "    plt.axvline(x=threshold, color='blue', linestyle='--', label=f'Group 1 Threshold: {threshold:.2f}')\n",
    "\n",
    "# Plot threshold values for group 2\n",
    "for threshold in thresholds_2:\n",
    "    plt.axvline(x=threshold, color='orange', linestyle='--', label=f'Group 2 Threshold: {threshold:.2f}')\n",
    "\n",
    "plt.legend()\n",
    "plt.grid(True)\n",
    "plt.show()\n"
   ]
  },
  {
   "cell_type": "markdown",
   "metadata": {},
   "source": [
    "Observation: a threshold at 0.48 can be set. That's approximately the 99th quantile for each. "
   ]
  },
  {
   "cell_type": "code",
   "execution_count": 271,
   "metadata": {},
   "outputs": [
    {
     "data": {
      "text/plain": [
       "0.9166819462240097"
      ]
     },
     "execution_count": 271,
     "metadata": {},
     "output_type": "execute_result"
    }
   ],
   "source": [
    "# How many ids above threshold? only approximatly 1% of the data? Does that approximately corresponds to how many mated samples there are?\n",
    "\n",
    "((np.sum(sim_scores > 0.48)-3306) / len(sim_scores.flatten()))*100"
   ]
  },
  {
   "cell_type": "code",
   "execution_count": 272,
   "metadata": {},
   "outputs": [
    {
     "data": {
      "text/plain": [
       "1.1423436242524454"
      ]
     },
     "execution_count": 272,
     "metadata": {},
     "output_type": "execute_result"
    }
   ],
   "source": [
    "(np.sum(sim_scores_a > 0.48) / len(sim_scores_a.flatten()))*100"
   ]
  },
  {
   "cell_type": "code",
   "execution_count": 273,
   "metadata": {},
   "outputs": [
    {
     "data": {
      "text/plain": [
       "3306"
      ]
     },
     "execution_count": 273,
     "metadata": {},
     "output_type": "execute_result"
    }
   ],
   "source": [
    "len(im_ids)"
   ]
  },
  {
   "cell_type": "markdown",
   "metadata": {},
   "source": [
    "### FNIR and FPIR - functions\n",
    "\n",
    "$$\n",
    "\\operatorname{FNIR}(N, R, T)=\\frac{\\left|\\left\\{i \\in M_D \\mid\\left(\\operatorname{rank}_i\\left(m_i\\right)>R\\right) \\operatorname{or}\\left(\\operatorname{score}_i\\left(m_i\\right) \\leq T\\right)\\right\\}\\right|}{\\left|M_D\\right|}\n",
    "$$\n",
    "where:\n",
    "$M_D \\quad$ is the set of mated identification transactions with reference database $R$;\n",
    "$m_i \\quad$ is the mated reference for transaction $i$;\n",
    "$\\operatorname{rank}_i()$ gives the candidate rank of a reference in identification transaction $i$; and\n",
    "$\\operatorname{score}_i()$ gives the candidate score of a reference in identification transaction $i$.\n",
    "\n",
    "\n",
    "\n",
    "\n",
    "$$\n",
    "\\operatorname{FPIR}(N, T)=\\frac{\\mid\\left\\{i \\in U_D \\mid \\text { score }_i\\left(t_i\\right)>T\\right\\} \\mid}{\\left|U_D\\right|}\n",
    "$$\n",
    "where:\n",
    "$U_D \\quad$ is the set of non-mated identification transactions with reference database $R$;\n",
    "$t_i \\quad$ is the top-ranked reference identifier in identification transaction $i$; and\n",
    "score $_i()$ gives the candidate score of a reference in identification transaction $i$."
   ]
  },
  {
   "cell_type": "code",
   "execution_count": 274,
   "metadata": {},
   "outputs": [],
   "source": [
    "## Function for calculating FNIR \n",
    "\n",
    "def compute_fnir(mated_df, sim_scores, im_ids, ids, thold=0.5):\n",
    "\n",
    "    # M_D: set of mated identification transactions with reference database. I.e. equal to number IDs with enrolled ids. \n",
    "    M_d_set = set(mated_df)\n",
    "    M_d_set_len = len(M_d_set)\n",
    "    neg_ref = 0\n",
    "\n",
    "    # for each m_i (mated reference for transaction i), get score of a reference in identification transaction i. I.e. number of transactions equal to number of mated ids**2\n",
    "\n",
    "    for m_i in range(0,len(sim_scores)):\n",
    "        probe = im_ids[m_i]\n",
    "        id_name = ids[m_i]\n",
    "        \n",
    "        # check if probe is in mated\n",
    "        if id_name in M_d_set:\n",
    "            \n",
    "            # if reference probe id is in negative list/below treshold, count 1\n",
    "            classified_negative_list = sim_scores[m_i] <= thold\n",
    "            classified_negative_idx = list(np.where(classified_negative_list)[0]) # get indexes where the score is below threshold\n",
    "            face_idx_neg_class = im_ids[classified_negative_idx] # get numerical ids in the negative class\n",
    "            \n",
    "            # if numerical id in negtive list is equal to the probe id, count 1\n",
    "            if probe in face_idx_neg_class:\n",
    "                neg_ref += 1\n",
    "        \n",
    "    fnir = neg_ref/M_d_set_len\n",
    "    \n",
    "    return fnir"
   ]
  },
  {
   "cell_type": "code",
   "execution_count": 275,
   "metadata": {},
   "outputs": [],
   "source": [
    "## Function for calculating FPIR \n",
    "\n",
    "\n",
    "def remove_probeid_in_classification(arr, value):\n",
    "    for i, v in enumerate(arr):\n",
    "        if v == value:\n",
    "            return np.delete(arr, i)\n",
    "    return arr  # Value not found in the array, return the original array\n",
    "\n",
    "\n",
    "def compute_fpir(non_mated_df, sim_scores, im_ids, ids, thold=0.5):\n",
    "\n",
    "    # U_D: set of non-mated identification transactions with reference database D. I.e. equal to number IDs with no enrolled ids. \n",
    "    U_d_set = set(non_mated_df)\n",
    "    U_d_set_len = len(U_d_set)\n",
    "    cand_list_returned = 0\n",
    "\n",
    "    # for each m_i (mated reference for transaction i), get score of a reference in identification transaction i. I.e. number of transactions equal to number of mated ids**2\n",
    "\n",
    "    for t_i in range(0,len(sim_scores)):\n",
    "        probe = im_ids[t_i]\n",
    "        id_name = ids[t_i]\n",
    "        \n",
    "        # check if probe is in mated\n",
    "        if id_name in U_d_set:\n",
    "            \n",
    "            # if reference probe id is in negative list/below treshold, count 1\n",
    "            classified_pos_list = sim_scores[t_i] > thold\n",
    "            classified_pos_idx = list(np.where(classified_pos_list)[0]) # get indexes where the score is above threshold\n",
    "            face_idx_pos_class = im_ids[classified_pos_idx] # get numerical ids in the positive class\n",
    "            # remove first instance of probe id in classification list\n",
    "            face_idx_pos_class_filtered = remove_probeid_in_classification(face_idx_pos_class, probe)\n",
    "            \n",
    "            # if length of candidate list (filtered, i.e. without the probe itsef) is greater than 0, count 1\n",
    "            if len(face_idx_pos_class_filtered) > 0:\n",
    "                cand_list_returned += 1\n",
    "        \n",
    "    fnir = cand_list_returned/U_d_set_len\n",
    "    \n",
    "    return fnir"
   ]
  },
  {
   "cell_type": "code",
   "execution_count": 276,
   "metadata": {},
   "outputs": [],
   "source": [
    "## Function for calculating confusion matrix scores\n",
    "\n",
    "\n",
    "# False Positives = Number of instances belonging to the negative class but are classified as the positive class\n",
    "# True Negatives = Number of instances belonging to the negative class that are correctly classsified as the negative class\n",
    "# True positives: N instances belonging to the positive class that were also correctly classified as the positive class\n",
    "# False negatives: N instances belonging to the positive class that were incorrectly classified to the negative class\n",
    "\n",
    "\n",
    "def remove_probeid_in_classification(arr, value):\n",
    "    for i, v in enumerate(arr):\n",
    "        if v == value:\n",
    "            return np.delete(arr, i)\n",
    "    return arr  # Value not found in the array, return the original array\n",
    "\n",
    "def confusion_matrix_scores(thold, sim_scores, im_ids, ids):\n",
    "    \"ids corresponds to identity class that is either mated or non-mated\"\n",
    "    tps = []\n",
    "    fps = []\n",
    "    tns = []\n",
    "    fns = []\n",
    "\n",
    "    for i in range(0,len(sim_scores)):\n",
    "        probe = im_ids[i]\n",
    "        print(probe)\n",
    "        \n",
    "        # for probe i\n",
    "        \n",
    "        if ids[i] in non_mated_ids:\n",
    "            a = 1\n",
    "        else: \n",
    "            # Positive classification list\n",
    "            classified_positive_list = sim_scores[i] >= thold\n",
    "            classified_positive_idx = list(np.where(classified_positive_list)[0])\n",
    "                \n",
    "            # get the classified identities - positive\n",
    "            face_idx_pos_class = im_ids[classified_positive_idx]\n",
    "            print(\"correct ids\",face_idx_pos_class)\n",
    "            \n",
    "            # remove first instance of probe id in classification list\n",
    "            face_idx_pos_class_filtered = remove_probeid_in_classification(face_idx_pos_class, probe)\n",
    "            print(\"filtered ids\",face_idx_pos_class_filtered)\n",
    "\n",
    "            ### Only for closed set\n",
    "            # get TP\n",
    "            tp = np.sum(face_idx_pos_class_filtered == probe)\n",
    "            tps.append(tp)\n",
    "            \n",
    "            # get FP (classified as correct but not equal to probe)\n",
    "            fp = len(face_idx_pos_class_filtered) - tp\n",
    "            fps.append(fp)\n",
    "            \n",
    "            # Negative classification list\n",
    "            classified_negative_list = sim_scores[i] < thold\n",
    "            classified_negative_idx = list(np.where(classified_negative_list)[0])\n",
    "            \n",
    "            # get the classified identities - negative\n",
    "            face_idx_neg_class = im_ids[classified_negative_idx]\n",
    "            face_idx_neg_class_filtered = remove_probeid_in_classification(face_idx_neg_class, probe)\n",
    "\n",
    "\n",
    "            # get TN (classified as false and not equal to probe)\n",
    "            tn = np.sum(face_idx_neg_class_filtered != probe)\n",
    "            tns.append(tn)\n",
    "            \n",
    "            # get FN (classified as false, but is actually equal to probe)\n",
    "            fn = len(face_idx_neg_class_filtered) - tn\n",
    "            fns.append(fn)\n",
    "        \n",
    "    return tps, fps, tns, fns\n"
   ]
  },
  {
   "cell_type": "markdown",
   "metadata": {},
   "source": [
    "## Final results - FNIR and FPIR"
   ]
  },
  {
   "cell_type": "code",
   "execution_count": 277,
   "metadata": {},
   "outputs": [],
   "source": [
    "# Mated and non-mated ids\n",
    "a_df = pd.read_csv('../data/adults_balanced.csv')\n",
    "a_mates = a_df.groupby(\"img_name\").agg({'img_org_name': ['count']})\n",
    "a_mated_ids = a_mates[a_mates[('img_org_name', 'count')] > 1].index\n",
    "a_nonmated_ids = a_mates[a_mates[('img_org_name', 'count')] == 1].index\n",
    "\n",
    "# Mated and non-mated ids \n",
    "c_df = pd.read_csv('../data/child_balanced.csv')\n",
    "c_mates = c_df.groupby(\"im_id\").agg({'img_name': ['count']})\n",
    "c_mated_ids = c_mates[c_mates[('img_name', 'count')] > 1].index\n",
    "c_nonmated_ids = c_mates[c_mates[('img_name', 'count')] == 1].index"
   ]
  },
  {
   "cell_type": "markdown",
   "metadata": {},
   "source": [
    "#### children"
   ]
  },
  {
   "cell_type": "code",
   "execution_count": 278,
   "metadata": {},
   "outputs": [
    {
     "name": "stdout",
     "output_type": "stream",
     "text": [
      "FNIR for children:  0.47648514851485146\n",
      "FPIR for children:  0.7249589490968801\n"
     ]
    }
   ],
   "source": [
    "# children\n",
    "\n",
    "## Threshold set based on studying the similarity scores\n",
    "thold_c = np.percentile(plot_sims, 99)\n",
    "im_ids_c = np.array(factors_c)\n",
    "\n",
    "\n",
    "mated_df = c_mated_ids\n",
    "non_mated_df = c_nonmated_ids\n",
    "sim_scores = sim_scores\n",
    "im_ids = im_ids_c\n",
    "ids = ids\n",
    "\n",
    "fnir_c = compute_fnir(c_mated_ids, sim_scores, im_ids_c, ids, thold=thold_c)\n",
    "fpir_c = compute_fpir(c_nonmated_ids, sim_scores, im_ids_c, ids, thold=thold_c)\n",
    "#fnir_c = compute_fnir(mated_df, sim_scores, im_ids, ids, thold=thold_c)\n",
    "#fpir_c = compute_fpir(non_mated_df, sim_scores, im_ids, ids, thold=thold_c)\n",
    "print(\"FNIR for children: \", fnir_c)\n",
    "print(\"FPIR for children: \", fpir_c)\n",
    "\n",
    "# Old confusion matrix scores \n",
    "#tps_c, fps_c, tns_c, fns_c = confusion_matrix_scores(thold_c, sim_scores, im_ids)\n",
    "\n",
    "#n_comparisons_children = len(factors_c)\n",
    "#print(\"Number of comparisons for adults: \", n_comparisons_children)\n",
    "#print(\"Number of probes adults\", len(im_ids))"
   ]
  },
  {
   "cell_type": "code",
   "execution_count": 279,
   "metadata": {},
   "outputs": [
    {
     "name": "stdout",
     "output_type": "stream",
     "text": [
      "FNIR for adults:  0.26704545454545453\n",
      "FPIR for adults:  0.8001552192471867\n"
     ]
    }
   ],
   "source": [
    "# adults\n",
    "\n",
    "\n",
    "## Threshold set based on studying the similarity scores\n",
    "thold_a = np.percentile(plot_sims_a, 99)\n",
    "im_ids_a = np.array(factors_a)\n",
    "\n",
    "\n",
    "mated_df = a_mated_ids\n",
    "non_mated_df = a_nonmated_ids\n",
    "sim_scores_a = sim_scores_a\n",
    "im_ids = im_ids_a\n",
    "ids = ids_a\n",
    "\n",
    "fnir_a = compute_fnir(mated_df, sim_scores, im_ids, ids, thold=thold_a)\n",
    "fpir_a = compute_fpir(non_mated_df, sim_scores, im_ids, ids, thold=thold_a)\n",
    "print(\"FNIR for adults: \", fnir_a)\n",
    "print(\"FPIR for adults: \", fpir_a)\n",
    "\n",
    "\n",
    "\n",
    "\n",
    "# Old confusion matrix scores\n",
    "# tps_a, fps_a, tns_a, fns_a = confusion_matrix_scores(thold_a, sim_scores_a, im_ids_a)\n",
    "\n",
    "# n_comparisons_adults = len(factors_a)\n",
    "# print(\"Number of comparisons for adults: \", n_comparisons_adults)\n",
    "# print(\"Number of probes adults\", len(im_ids_a))\n",
    "\n"
   ]
  },
  {
   "cell_type": "markdown",
   "metadata": {},
   "source": [
    "##### FNIR"
   ]
  },
  {
   "cell_type": "code",
   "execution_count": 222,
   "metadata": {},
   "outputs": [
    {
     "ename": "NameError",
     "evalue": "name 'fns_c' is not defined",
     "output_type": "error",
     "traceback": [
      "\u001b[0;31m---------------------------------------------------------------------------\u001b[0m",
      "\u001b[0;31mNameError\u001b[0m                                 Traceback (most recent call last)",
      "Cell \u001b[0;32mIn[222], line 2\u001b[0m\n\u001b[1;32m      1\u001b[0m \u001b[38;5;66;03m# FNIR = FN / (TP + FN)\u001b[39;00m\n\u001b[0;32m----> 2\u001b[0m fnir_children \u001b[38;5;241m=\u001b[39m np\u001b[38;5;241m.\u001b[39msum(\u001b[43mfns_c\u001b[49m) \u001b[38;5;241m/\u001b[39m (np\u001b[38;5;241m.\u001b[39msum(tps_c) \u001b[38;5;241m+\u001b[39m np\u001b[38;5;241m.\u001b[39msum(fns_c))\n\u001b[1;32m      3\u001b[0m \u001b[38;5;28mprint\u001b[39m(\u001b[38;5;124m\"\u001b[39m\u001b[38;5;124mFNIR children result: \u001b[39m\u001b[38;5;124m\"\u001b[39m, fnir_children)\n\u001b[1;32m      5\u001b[0m fnir_adults \u001b[38;5;241m=\u001b[39m np\u001b[38;5;241m.\u001b[39msum(fns_a) \u001b[38;5;241m/\u001b[39m (np\u001b[38;5;241m.\u001b[39msum(tps_a) \u001b[38;5;241m+\u001b[39m np\u001b[38;5;241m.\u001b[39msum(fns_a))\n",
      "\u001b[0;31mNameError\u001b[0m: name 'fns_c' is not defined"
     ]
    }
   ],
   "source": [
    "# FNIR = FN / (TP + FN)\n",
    "fnir_children = np.sum(fns_c) / (np.sum(tps_c) + np.sum(fns_c))\n",
    "print(\"FNIR children result: \", fnir_children)\n",
    "\n",
    "fnir_adults = np.sum(fns_a) / (np.sum(tps_a) + np.sum(fns_a))\n",
    "print(\"FNIR children result: \", fnir_adults)"
   ]
  },
  {
   "cell_type": "markdown",
   "metadata": {},
   "source": [
    "##### FPIR"
   ]
  },
  {
   "cell_type": "code",
   "execution_count": 205,
   "metadata": {},
   "outputs": [
    {
     "name": "stdout",
     "output_type": "stream",
     "text": [
      "FPIR children result:  0.009695989323809532\n",
      "FPIR adults result:  0.01224272806556988\n"
     ]
    }
   ],
   "source": [
    "# FPIR = FP / (FP + TN)\n",
    "fpir_children = np.sum(fps_c) / (np.sum(fps_c) + np.sum(tns_c))\n",
    "print(\"FPIR children result: \", fpir_children)\n",
    "\n",
    "fpir_adults = np.sum(fps_a) / (np.sum(fps_a) + np.sum(tns_a))\n",
    "print(\"FPIR adults result: \", fpir_adults)"
   ]
  },
  {
   "cell_type": "markdown",
   "metadata": {},
   "source": [
    "#### GARBE\n",
    "\n",
    "Low value of alpha to put more weight on FND - rather capture more children than less\n",
    "\n",
    "$$\n",
    "\\begin{aligned}\n",
    "& F P D(\\tau)=\\left(\\frac{n}{n-1}\\right) \\frac{\\sum_i \\sum_j\\left|F P I R_{d_i}-F P I R_{d_j}\\right|}{2 n^2 \\overline{F P I R}} \\forall d_i, d_j \\in D \\\\\n",
    "& F N D(\\tau)=\\left(\\frac{n}{n-1}\\right) \\frac{\\sum_i \\sum_j\\left|F N I R_{d_i}-F N I R_{d_j}\\right|}{2 n^2 \\overline{F N I R}} \\forall d_i, d_j \\in D\n",
    "\\end{aligned}\n",
    "$$\n",
    "\n",
    "$$\n",
    "\\operatorname{GARBE}(\\tau)=\\alpha F P D(\\tau)+(1-\\alpha) F N D(\\tau)\n",
    "$$"
   ]
  },
  {
   "cell_type": "code",
   "execution_count": 253,
   "metadata": {},
   "outputs": [
    {
     "data": {
      "text/plain": [
       "0.484826381318001"
      ]
     },
     "execution_count": 253,
     "metadata": {},
     "output_type": "execute_result"
    }
   ],
   "source": [
    "thold_a"
   ]
  },
  {
   "cell_type": "code",
   "execution_count": 254,
   "metadata": {},
   "outputs": [
    {
     "data": {
      "text/plain": [
       "0.47529050181868826"
      ]
     },
     "execution_count": 254,
     "metadata": {},
     "output_type": "execute_result"
    }
   ],
   "source": [
    "thold_c"
   ]
  },
  {
   "cell_type": "code",
   "execution_count": 256,
   "metadata": {},
   "outputs": [],
   "source": [
    "n = n_comparisons_children + n_comparisons_adults "
   ]
  },
  {
   "cell_type": "code",
   "execution_count": 257,
   "metadata": {},
   "outputs": [
    {
     "data": {
      "text/plain": [
       "21852660"
      ]
     },
     "execution_count": 257,
     "metadata": {},
     "output_type": "execute_result"
    }
   ],
   "source": [
    "n"
   ]
  },
  {
   "cell_type": "code",
   "execution_count": 258,
   "metadata": {},
   "outputs": [
    {
     "name": "stdout",
     "output_type": "stream",
     "text": [
      "FPD result:  2.430885839291632e-16\n",
      "FND result:  1.6906444166595878e-15\n"
     ]
    }
   ],
   "source": [
    "fpir_avg = (fpir_children + fpir_adults) / 2\n",
    "FPD = (n/(n-1))*((np.abs(fpir_children - fpir_adults)) / (2*(n**2)*fpir_avg))\n",
    "print(\"FPD result: \", FPD)\n",
    "\n",
    "fnir_avg = (fnir_children + fnir_adults) / 2\n",
    "FND = (n/(n-1))*((np.abs(fnir_children - fnir_adults)) / (2*(n**2)*fnir_avg))\n",
    "print(\"FND result: \", FND)"
   ]
  },
  {
   "cell_type": "code",
   "execution_count": 261,
   "metadata": {},
   "outputs": [
    {
     "name": "stdout",
     "output_type": "stream",
     "text": [
      "GARBE result MagFace:  1.4011332501135028e-15\n"
     ]
    }
   ],
   "source": [
    "alpha_val = 0.2\n",
    "GARBE = alpha_val * FPD + (1 - alpha_val) * FND\n",
    "print(\"GARBE result MagFace: \", GARBE)"
   ]
  },
  {
   "cell_type": "code",
   "execution_count": null,
   "metadata": {},
   "outputs": [],
   "source": []
  },
  {
   "cell_type": "code",
   "execution_count": null,
   "metadata": {},
   "outputs": [],
   "source": []
  }
 ],
 "metadata": {
  "kernelspec": {
   "display_name": "best_master",
   "language": "python",
   "name": "python3"
  },
  "language_info": {
   "codemirror_mode": {
    "name": "ipython",
    "version": 3
   },
   "file_extension": ".py",
   "mimetype": "text/x-python",
   "name": "python",
   "nbconvert_exporter": "python",
   "pygments_lexer": "ipython3",
   "version": "3.11.8"
  }
 },
 "nbformat": 4,
 "nbformat_minor": 2
}
