{
 "cells": [
  {
   "cell_type": "markdown",
   "metadata": {},
   "source": [
    "## Results metrics\n",
    "\n",
    "A threshold \"T\" is used to classify a test case to be either a correct (true or positive) case or false (negative) case. If the case is below a threshold \"T\" then it is classified false (negative) and if it is above threshold \"T\" it is classified true (positive).\n",
    "\n",
    "**FPIR**: is the false positive identification rate. It is the ratio of the test cases that are classified as true cases although they are false cases. It is type I error. \n",
    "FPIR= Number of test cases classified above threshold \"T\" (true) / Number of all test cases\n",
    "\n",
    "**FNIR**: is the false negative identification rate. It is  the ratio of the test cases that are classified as false cases although they are true cases. It is type II error.\n",
    "FNIR= Number of test cases classified below threshold \"T\" (false) / Number of all test cases"
   ]
  },
  {
   "cell_type": "code",
   "execution_count": 2,
   "metadata": {},
   "outputs": [],
   "source": [
    "# Load libraries\n",
    "import numpy as np\n",
    "import cv2\n",
    "from matplotlib import pyplot as plt\n",
    "import torch\n",
    "import seaborn as sns\n",
    "sns.set(style=\"white\") \n",
    "%matplotlib inline"
   ]
  },
  {
   "cell_type": "markdown",
   "metadata": {},
   "source": [
    "### AdaFace results"
   ]
  },
  {
   "cell_type": "code",
   "execution_count": 3,
   "metadata": {},
   "outputs": [
    {
     "data": {
      "text/plain": [
       "dict_keys(['image_id', 'feature_vectors', 'similarity_scores'])"
      ]
     },
     "execution_count": 3,
     "metadata": {},
     "output_type": "execute_result"
    }
   ],
   "source": [
    "# File path\n",
    "file_path = '/Users/gabriellakierulff/Desktop/HCAI/speciale/Master_Thesis/master_thesis/saved_predictions/image_data_similarity_scores_ylfw.pt'\n",
    "\n",
    "# Load the file\n",
    "data = torch.load(file_path)\n",
    "data.keys()"
   ]
  },
  {
   "cell_type": "markdown",
   "metadata": {},
   "source": [
    "**False Negatives**\n",
    "FNIR represent the proportion of feature vectors that belong to a certain class but are incorrectly classified as not belonging to that class."
   ]
  },
  {
   "cell_type": "code",
   "execution_count": 71,
   "metadata": {},
   "outputs": [],
   "source": [
    "# Analyze similarity scores in terms of threshold...\n",
    "\n",
    "# For the first 10 similarity scores - what is the distribution of the scores?\n",
    "sim_scores = data[\"similarity_scores\"][:10,:10]\n",
    "\n"
   ]
  },
  {
   "cell_type": "code",
   "execution_count": 106,
   "metadata": {},
   "outputs": [
    {
     "data": {
      "text/plain": [
       "100"
      ]
     },
     "execution_count": 106,
     "metadata": {},
     "output_type": "execute_result"
    }
   ],
   "source": [
    "plot_sims = sim_scores.detach().flatten().numpy()\n",
    "len(plot_sims)"
   ]
  },
  {
   "cell_type": "code",
   "execution_count": 109,
   "metadata": {},
   "outputs": [
    {
     "data": {
      "text/plain": [
       "array([0.999, 0.99 ])"
      ]
     },
     "execution_count": 109,
     "metadata": {},
     "output_type": "execute_result"
    }
   ],
   "source": [
    "# Example array\n",
    "plot_sims = np.array([0.9999999, 0.99994, 0.999, 0.99])\n",
    "\n",
    "# Tolerance level\n",
    "tolerance = 1e-4  # Adjust tolerance level as needed\n",
    "\n",
    "# Filter out values close to 1 using np.isclose()\n",
    "plot_sims_filtered = plot_sims[~np.isclose(plot_sims, 1.0, atol=tolerance)]\n",
    "plot_sims_filtered"
   ]
  },
  {
   "cell_type": "code",
   "execution_count": 104,
   "metadata": {},
   "outputs": [
    {
     "data": {
      "text/plain": [
       "False"
      ]
     },
     "execution_count": 104,
     "metadata": {},
     "output_type": "execute_result"
    }
   ],
   "source": [
    "all_close_to_1"
   ]
  },
  {
   "cell_type": "code",
   "execution_count": 112,
   "metadata": {},
   "outputs": [
    {
     "data": {
      "text/plain": [
       "tensor([[ 1.0000,  0.5107,  0.3419,  0.0360, -0.0292,  0.1497,  0.1862,  0.1650,\n",
       "          0.0163,  0.3325],\n",
       "        [ 0.5107,  1.0000,  0.3804,  0.1542, -0.0509,  0.2338,  0.1970,  0.2137,\n",
       "          0.0543,  0.2434],\n",
       "        [ 0.3419,  0.3804,  1.0000,  0.2527,  0.1244,  0.2784,  0.3202,  0.2186,\n",
       "          0.1324,  0.1956],\n",
       "        [ 0.0360,  0.1542,  0.2527,  1.0000,  0.2807,  0.1589,  0.2542,  0.3198,\n",
       "          0.2264, -0.0018],\n",
       "        [-0.0292, -0.0509,  0.1244,  0.2807,  1.0000,  0.3786,  0.3950,  0.2787,\n",
       "          0.2726,  0.1439],\n",
       "        [ 0.1497,  0.2338,  0.2784,  0.1589,  0.3786,  1.0000,  0.4893,  0.3422,\n",
       "          0.2151,  0.2240],\n",
       "        [ 0.1862,  0.1970,  0.3202,  0.2542,  0.3950,  0.4893,  1.0000,  0.3547,\n",
       "          0.2331,  0.2444],\n",
       "        [ 0.1650,  0.2137,  0.2186,  0.3198,  0.2787,  0.3422,  0.3547,  1.0000,\n",
       "          0.3798,  0.2078],\n",
       "        [ 0.0163,  0.0543,  0.1324,  0.2264,  0.2726,  0.2151,  0.2331,  0.3798,\n",
       "          1.0000,  0.0533],\n",
       "        [ 0.3325,  0.2434,  0.1956, -0.0018,  0.1439,  0.2240,  0.2444,  0.2078,\n",
       "          0.0533,  1.0000]], grad_fn=<SliceBackward0>)"
      ]
     },
     "execution_count": 112,
     "metadata": {},
     "output_type": "execute_result"
    }
   ],
   "source": [
    "sim_scores"
   ]
  },
  {
   "cell_type": "code",
   "execution_count": 120,
   "metadata": {},
   "outputs": [
    {
     "data": {
      "text/plain": [
       "90"
      ]
     },
     "execution_count": 120,
     "metadata": {},
     "output_type": "execute_result"
    }
   ],
   "source": [
    "len(sim_scores[sim_scores < 0.9999])"
   ]
  },
  {
   "cell_type": "code",
   "execution_count": 138,
   "metadata": {},
   "outputs": [
    {
     "data": {
      "text/plain": [
       "10"
      ]
     },
     "execution_count": 138,
     "metadata": {},
     "output_type": "execute_result"
    }
   ],
   "source": [
    "len(sim_scores)"
   ]
  },
  {
   "cell_type": "code",
   "execution_count": 139,
   "metadata": {},
   "outputs": [
    {
     "data": {
      "text/plain": [
       "90"
      ]
     },
     "execution_count": 139,
     "metadata": {},
     "output_type": "execute_result"
    }
   ],
   "source": [
    "plot_sims = sim_scores[sim_scores < 0.999].detach().flatten().numpy()\n",
    "len(plot_sims)"
   ]
  },
  {
   "cell_type": "code",
   "execution_count": 132,
   "metadata": {},
   "outputs": [
    {
     "data": {
      "image/png": "[encoded data removed]",
      "text/plain": [
       "<Figure size 640x480 with 1 Axes>"
      ]
     },
     "metadata": {},
     "output_type": "display_data"
    },
    {
     "name": "stdout",
     "output_type": "stream",
     "text": [
      "Average similarity score:  0.2246168\n",
      "\n",
      "Top 10% similarity score:  0.48925721645355225\n",
      "\n",
      "Top 10 highest similarity score: [0.37976742 0.37976742 0.3803856  0.3803856  0.39495435 0.39495435\n",
      " 0.48925722 0.48925722 0.5106703  0.5106703 ]\n",
      "\n",
      "Max sim scores:  0.5106703\n"
     ]
    }
   ],
   "source": [
    "# Convert tensor to NumPy array\n",
    "plot_sims = sim_scores[sim_scores < 0.999].detach().flatten().numpy() # filter out values equal to 1 #OBS check more scietific way\n",
    "# Plot histogram\n",
    "plt.hist(plot_sims, bins=len(sim_scores), color='blue', alpha=0.7)\n",
    "plt.title('Histogram of similarity scores')\n",
    "plt.xlabel('Value')\n",
    "plt.ylabel('Frequency')\n",
    "plt.grid(True)\n",
    "plt.show()\n",
    "\n",
    "print(\"Average similarity score: \", np.mean(plot_sims))\n",
    "print(\"\\nTop 10% similarity score: \", np.percentile(plot_sims, 97.5))\n",
    "print(\"\\nTop 10 highest similarity score:\", np.sort(plot_sims)[-10:])\n",
    "print(\"\\nMax sim scores: \", np.max(plot_sims))"
   ]
  },
  {
   "cell_type": "code",
   "execution_count": 146,
   "metadata": {},
   "outputs": [
    {
     "name": "stdout",
     "output_type": "stream",
     "text": [
      "Length of similarity scores without probe:  90 Equal to:  90 is True\n"
     ]
    }
   ],
   "source": [
    "## Data\n",
    "\n",
    "\n",
    "sim_scores = data[\"similarity_scores\"][:10,:10]\n",
    "# E.g. classify all identities as positive if threshold is higher than 90% of all similarity scores\n",
    "sims_excluding_probe = sim_scores[sim_scores < 0.99] # OBs check if more scientific way\n",
    "# Check that length of similarity scores are equal to len(sim_scores.flatten)- len(sim_scores)\n",
    "print(\"Length of similarity scores without probe: \", len(sims_excluding_probe), \"Equal to: \", len(sim_scores.flatten()) - len(sim_scores), \n",
    "      \"is\",len(sims_excluding_probe) == (len(sim_scores.flatten()) - len(sim_scores)))\n"
   ]
  },
  {
   "cell_type": "code",
   "execution_count": 167,
   "metadata": {},
   "outputs": [
    {
     "name": "stdout",
     "output_type": "stream",
     "text": [
      "0\n",
      "cor ids [0 0]\n",
      "filt, ids [0]\n",
      "0\n",
      "cor ids [0 0 1]\n",
      "filt, ids [0 1]\n",
      "1\n",
      "cor ids [0 1]\n",
      "filt, ids [0]\n",
      "1\n",
      "cor ids [1]\n",
      "filt, ids []\n",
      "2\n",
      "cor ids [2 2]\n",
      "filt, ids [2]\n",
      "2\n",
      "cor ids [2 2]\n",
      "filt, ids [2]\n",
      "2\n",
      "cor ids [2 2 2]\n",
      "filt, ids [2 2]\n",
      "2\n",
      "cor ids [2 2]\n",
      "filt, ids [2]\n",
      "2\n",
      "cor ids [2 2]\n",
      "filt, ids [2]\n",
      "3\n",
      "cor ids [3]\n",
      "filt, ids []\n"
     ]
    }
   ],
   "source": [
    "# False Positives = Number of instances belonging to the negative class but are classified as the positive class\n",
    "# True Negatives = Number of instances belonging to the negative class that are correctly classsified as the negative class\n",
    "# True positives: N instances belonging to the positive class that were also correctly classified as the positive class\n",
    "# False negatives: N instances belonging to the positive class that were incorrectly classified to the negative class\n",
    "\n",
    "\n",
    "def remove_probeid_in_classification(arr, value):\n",
    "    for i, v in enumerate(arr):\n",
    "        if v == value:\n",
    "            return np.delete(arr, i)\n",
    "    return arr  # Value not found in the array, return the original array\n",
    "\n",
    "\n",
    "## Threshold set based on studying the similarity scores\n",
    "thold = np.percentile(plot_sims, 90)\n",
    "im_ids = np.array(data[\"image_id\"][:10])\n",
    "\n",
    "tps = []\n",
    "fps = []\n",
    "tns = []\n",
    "fns = []\n",
    "\n",
    "for i in range(0,len(sim_scores)):\n",
    "    probe = im_ids[i]\n",
    "    print(probe)\n",
    "    \n",
    "    # for probe i\n",
    "    # Positive classification list\n",
    "    classified_positive_list = sim_scores[i] >= thold\n",
    "    classified_positive_idx = list(np.where(classified_positive_list)[0])\n",
    "        \n",
    "    # get the classified identities - positive\n",
    "    face_idx_pos_class = im_ids[classified_positive_idx]\n",
    "    print(\"cor ids\",face_idx_pos_class)\n",
    "    \n",
    "    # remove first instance of probe id in classification list\n",
    "    face_idx_pos_class_filtered = remove_probeid_in_classification(face_idx_pos_class, probe)\n",
    "    print(\"filt, ids\",face_idx_pos_class_filtered)\n",
    "\n",
    "    \n",
    "    # get TP\n",
    "    tp = np.sum(face_idx_pos_class_filtered == probe)\n",
    "    tps.append(tp)\n",
    "    \n",
    "    # get FP (classified as correct but not equal to probe)\n",
    "    fp = len(face_idx_pos_class_filtered) - tp\n",
    "    fps.append(fp)\n",
    "    \n",
    "    # Negative classification list\n",
    "    classified_negative_list = sim_scores[i] < thold\n",
    "    classified_negative_idx = list(np.where(classified_negative_list)[0])\n",
    "    \n",
    "    # get the classified identities - negative\n",
    "    face_idx_neg_class = im_ids[classified_negative_idx]\n",
    "    face_idx_neg_class_filtered = remove_probeid_in_classification(face_idx_neg_class, probe)\n",
    "\n",
    "\n",
    "    # get TN (classified as false and not equal to probe)\n",
    "    tn = np.sum(face_idx_neg_class_filtered != probe)\n",
    "    tns.append(tn)\n",
    "    \n",
    "    # get FN (classified as false, but is actually equal to probe)\n",
    "    fn = len(face_idx_neg_class_filtered) - tn\n",
    "    fns.append(fn)\n"
   ]
  },
  {
   "cell_type": "markdown",
   "metadata": {},
   "source": [
    "##### FNIR"
   ]
  },
  {
   "cell_type": "code",
   "execution_count": 170,
   "metadata": {},
   "outputs": [
    {
     "name": "stdout",
     "output_type": "stream",
     "text": [
      "FNIR result:  0.5294117647058824\n"
     ]
    }
   ],
   "source": [
    "# FNIR = FN / (TP + FN)\n",
    "fnir = np.sum(fns) / (np.sum(tps) + np.sum(fns))\n",
    "print(\"FNIR result: \", fnir)"
   ]
  },
  {
   "cell_type": "markdown",
   "metadata": {},
   "source": [
    "##### FPIR"
   ]
  },
  {
   "cell_type": "code",
   "execution_count": 171,
   "metadata": {},
   "outputs": [
    {
     "name": "stdout",
     "output_type": "stream",
     "text": [
      "FPIR result:  0.030303030303030304\n"
     ]
    }
   ],
   "source": [
    "# FPIR = FP / (FP + TN)\n",
    "fpir = np.sum(fps) / (np.sum(fps) + np.sum(tns))\n",
    "print(\"FPIR result: \", fpir)"
   ]
  },
  {
   "cell_type": "markdown",
   "metadata": {},
   "source": [
    "#### GARBE"
   ]
  },
  {
   "cell_type": "markdown",
   "metadata": {},
   "source": []
  },
  {
   "cell_type": "markdown",
   "metadata": {},
   "source": [
    "### MagFace Results"
   ]
  },
  {
   "cell_type": "code",
   "execution_count": null,
   "metadata": {},
   "outputs": [],
   "source": [
    "# File path\n",
    "# YLFW\n",
    "with open('../data/raw/YLFW_bench/feat.list', 'r') as f:\n",
    "    lines = f.readlines()\n",
    "# Load the file\n",
    "data = torch.load(file_path)\n",
    "data.keys()"
   ]
  },
  {
   "cell_type": "code",
   "execution_count": null,
   "metadata": {},
   "outputs": [],
   "source": [
    "img_2_feats = {}\n",
    "img_2_mag = {}\n",
    "for line in lines:\n",
    "    parts = line.strip().split(' ')\n",
    "    imgname = parts[0]\n",
    "    imgname = \"/\"+\"/\".join(imgname.split(\"/\")[4:])\n",
    "    feats = [float(e) for e in parts[1:]]\n",
    "    mag = np.linalg.norm(feats)\n",
    "    img_2_feats[imgname] = feats/mag\n",
    "    img_2_mag[imgname] = mag #magnitude of the feature vector"
   ]
  },
  {
   "cell_type": "code",
   "execution_count": null,
   "metadata": {},
   "outputs": [],
   "source": [
    "imgnames = list(img_2_mag.keys())\n",
    "mags = [img_2_mag[imgname] for imgname in imgnames]\n",
    "sort_idx = np.argsort(mags) #sorts the magnitude/quality of the images"
   ]
  },
  {
   "cell_type": "code",
   "execution_count": null,
   "metadata": {},
   "outputs": [],
   "source": [
    "#feats = np.array([img_2_feats[imgnames[ele]] for ele in sort_idx[:10]])\n",
    "feats = np.array([img_2_feats[imgnames[ele]] for ele in range(10)]) #unsorted image quality\n",
    "ids = np.array([imgnames[ele] for ele in range(10)])\n",
    "\n",
    "sim_mat = np.dot(feats, feats.T)"
   ]
  }
 ],
 "metadata": {
  "kernelspec": {
   "display_name": "best_master",
   "language": "python",
   "name": "python3"
  },
  "language_info": {
   "codemirror_mode": {
    "name": "ipython",
    "version": 3
   },
   "file_extension": ".py",
   "mimetype": "text/x-python",
   "name": "python",
   "nbconvert_exporter": "python",
   "pygments_lexer": "ipython3",
   "version": "3.11.8"
  }
 },
 "nbformat": 4,
 "nbformat_minor": 2
}
