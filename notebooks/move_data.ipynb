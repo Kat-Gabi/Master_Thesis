{
 "cells": [
  {
   "cell_type": "code",
   "execution_count": 2,
   "metadata": {},
   "outputs": [],
   "source": [
    "import os\n",
    "import shutil\n",
    "import pandas as pd\n"
   ]
  },
  {
   "cell_type": "code",
   "execution_count": 3,
   "metadata": {},
   "outputs": [],
   "source": [
    "# function to check number of images in folders\n",
    "import os\n",
    "\n",
    "def count_images_in_directory(directory):\n",
    "    \"\"\"\n",
    "    Count the number of image files in a directory.\n",
    "    \"\"\"\n",
    "    image_extensions = ['.jpg', '.jpeg', '.png', '.gif', '.bmp']  # Add more extensions if needed\n",
    "    image_count = 0\n",
    "\n",
    "    # Iterate through all files in the directory\n",
    "    for file_name in os.listdir(directory):\n",
    "        file_path = os.path.join(directory, file_name)\n",
    "\n",
    "        # Check if the file is a regular file (not a directory)\n",
    "        if os.path.isfile(file_path):\n",
    "            # Check if the file has a recognized image extension\n",
    "            if any(file_name.lower().endswith(ext) for ext in image_extensions):\n",
    "                image_count += 1\n",
    "\n",
    "    return image_count\n",
    "\n",
    "def count_images_in_all_directories(root_directory):\n",
    "    \"\"\"\n",
    "    Count the number of image files in all directories and subdirectories.\n",
    "    \"\"\"\n",
    "    total_image_count = 0\n",
    "\n",
    "    # Walk through all directories and subdirectories\n",
    "    for dirpath, dirnames, filenames in os.walk(root_directory):\n",
    "        # Count the number of image files in the current directory\n",
    "        current_dir_image_count = count_images_in_directory(dirpath)\n",
    "\n",
    "        # Add the count to the total image count\n",
    "        total_image_count += current_dir_image_count\n",
    "\n",
    "        # Print the directory path and the number of images\n",
    "        #print(f\"Directory: {dirpath}, Images: {current_dir_image_count}\")\n",
    "\n",
    "    return total_image_count\n"
   ]
  },
  {
   "cell_type": "markdown",
   "metadata": {},
   "source": [
    "### ADULTS: Only move files from RFW full also in balanced adulst csv folder\n",
    "**OBS: to file structure as child data**"
   ]
  },
  {
   "cell_type": "code",
   "execution_count": 5,
   "metadata": {},
   "outputs": [
    {
     "data": {
      "text/plain": [
       "3306"
      ]
     },
     "execution_count": 5,
     "metadata": {},
     "output_type": "execute_result"
    }
   ],
   "source": [
    "adults_csv = pd.read_csv('../data/adults_balanced.csv')\n",
    "len(adults_csv)"
   ]
  },
  {
   "cell_type": "code",
   "execution_count": 6,
   "metadata": {},
   "outputs": [
    {
     "data": {
      "text/html": [
       "<div>\n",
       "<style scoped>\n",
       "    .dataframe tbody tr th:only-of-type {\n",
       "        vertical-align: middle;\n",
       "    }\n",
       "\n",
       "    .dataframe tbody tr th {\n",
       "        vertical-align: top;\n",
       "    }\n",
       "\n",
       "    .dataframe thead th {\n",
       "        text-align: right;\n",
       "    }\n",
       "</style>\n",
       "<table border=\"1\" class=\"dataframe\">\n",
       "  <thead>\n",
       "    <tr style=\"text-align: right;\">\n",
       "      <th></th>\n",
       "      <th>img_org_name</th>\n",
       "      <th>img_name</th>\n",
       "      <th>ethnicity</th>\n",
       "      <th>id_class</th>\n",
       "      <th>face_id</th>\n",
       "      <th>Age</th>\n",
       "      <th>children_agegroup</th>\n",
       "      <th>im_id</th>\n",
       "    </tr>\n",
       "  </thead>\n",
       "  <tbody>\n",
       "    <tr>\n",
       "      <th>0</th>\n",
       "      <td>m.04n46w8_0002</td>\n",
       "      <td>m.04n46w8</td>\n",
       "      <td>African</td>\n",
       "      <td>04n46w8</td>\n",
       "      <td>2</td>\n",
       "      <td>23</td>\n",
       "      <td>NaN</td>\n",
       "      <td>04n46w8</td>\n",
       "    </tr>\n",
       "    <tr>\n",
       "      <th>1</th>\n",
       "      <td>m.02rwxpr_0001</td>\n",
       "      <td>m.02rwxpr</td>\n",
       "      <td>African</td>\n",
       "      <td>02rwxpr</td>\n",
       "      <td>1</td>\n",
       "      <td>21</td>\n",
       "      <td>NaN</td>\n",
       "      <td>02rwxpr</td>\n",
       "    </tr>\n",
       "    <tr>\n",
       "      <th>2</th>\n",
       "      <td>m.03cjn2s_0004</td>\n",
       "      <td>m.03cjn2s</td>\n",
       "      <td>African</td>\n",
       "      <td>03cjn2s</td>\n",
       "      <td>4</td>\n",
       "      <td>22</td>\n",
       "      <td>NaN</td>\n",
       "      <td>03cjn2s</td>\n",
       "    </tr>\n",
       "    <tr>\n",
       "      <th>3</th>\n",
       "      <td>m.0fqscpg_0003</td>\n",
       "      <td>m.0fqscpg</td>\n",
       "      <td>African</td>\n",
       "      <td>0fqscpg</td>\n",
       "      <td>3</td>\n",
       "      <td>21</td>\n",
       "      <td>NaN</td>\n",
       "      <td>0fqscpg</td>\n",
       "    </tr>\n",
       "    <tr>\n",
       "      <th>4</th>\n",
       "      <td>m.01c_3f_0003</td>\n",
       "      <td>m.01c_3f</td>\n",
       "      <td>African</td>\n",
       "      <td>01c_3f</td>\n",
       "      <td>3</td>\n",
       "      <td>33</td>\n",
       "      <td>NaN</td>\n",
       "      <td>01c_3f</td>\n",
       "    </tr>\n",
       "    <tr>\n",
       "      <th>...</th>\n",
       "      <td>...</td>\n",
       "      <td>...</td>\n",
       "      <td>...</td>\n",
       "      <td>...</td>\n",
       "      <td>...</td>\n",
       "      <td>...</td>\n",
       "      <td>...</td>\n",
       "      <td>...</td>\n",
       "    </tr>\n",
       "    <tr>\n",
       "      <th>3301</th>\n",
       "      <td>m.0g991pt_0004</td>\n",
       "      <td>m.0g991pt</td>\n",
       "      <td>Indian</td>\n",
       "      <td>0g991pt</td>\n",
       "      <td>4</td>\n",
       "      <td>35</td>\n",
       "      <td>NaN</td>\n",
       "      <td>0g991pt</td>\n",
       "    </tr>\n",
       "    <tr>\n",
       "      <th>3302</th>\n",
       "      <td>m.026p3wd_0001</td>\n",
       "      <td>m.026p3wd</td>\n",
       "      <td>Indian</td>\n",
       "      <td>026p3wd</td>\n",
       "      <td>1</td>\n",
       "      <td>49</td>\n",
       "      <td>NaN</td>\n",
       "      <td>026p3wd</td>\n",
       "    </tr>\n",
       "    <tr>\n",
       "      <th>3303</th>\n",
       "      <td>m.04f4sx6_0003</td>\n",
       "      <td>m.04f4sx6</td>\n",
       "      <td>Indian</td>\n",
       "      <td>04f4sx6</td>\n",
       "      <td>3</td>\n",
       "      <td>23</td>\n",
       "      <td>NaN</td>\n",
       "      <td>04f4sx6</td>\n",
       "    </tr>\n",
       "    <tr>\n",
       "      <th>3304</th>\n",
       "      <td>m.02q97xt_0001</td>\n",
       "      <td>m.02q97xt</td>\n",
       "      <td>Indian</td>\n",
       "      <td>02q97xt</td>\n",
       "      <td>1</td>\n",
       "      <td>49</td>\n",
       "      <td>NaN</td>\n",
       "      <td>02q97xt</td>\n",
       "    </tr>\n",
       "    <tr>\n",
       "      <th>3305</th>\n",
       "      <td>m.02w2_m6_0005</td>\n",
       "      <td>m.02w2_m6</td>\n",
       "      <td>Indian</td>\n",
       "      <td>02w2_m6</td>\n",
       "      <td>5</td>\n",
       "      <td>56</td>\n",
       "      <td>NaN</td>\n",
       "      <td>02w2_m6</td>\n",
       "    </tr>\n",
       "  </tbody>\n",
       "</table>\n",
       "<p>3306 rows × 8 columns</p>\n",
       "</div>"
      ],
      "text/plain": [
       "        img_org_name   img_name ethnicity id_class  face_id  Age  \\\n",
       "0     m.04n46w8_0002  m.04n46w8   African  04n46w8        2   23   \n",
       "1     m.02rwxpr_0001  m.02rwxpr   African  02rwxpr        1   21   \n",
       "2     m.03cjn2s_0004  m.03cjn2s   African  03cjn2s        4   22   \n",
       "3     m.0fqscpg_0003  m.0fqscpg   African  0fqscpg        3   21   \n",
       "4      m.01c_3f_0003   m.01c_3f   African   01c_3f        3   33   \n",
       "...              ...        ...       ...      ...      ...  ...   \n",
       "3301  m.0g991pt_0004  m.0g991pt    Indian  0g991pt        4   35   \n",
       "3302  m.026p3wd_0001  m.026p3wd    Indian  026p3wd        1   49   \n",
       "3303  m.04f4sx6_0003  m.04f4sx6    Indian  04f4sx6        3   23   \n",
       "3304  m.02q97xt_0001  m.02q97xt    Indian  02q97xt        1   49   \n",
       "3305  m.02w2_m6_0005  m.02w2_m6    Indian  02w2_m6        5   56   \n",
       "\n",
       "      children_agegroup    im_id  \n",
       "0                   NaN  04n46w8  \n",
       "1                   NaN  02rwxpr  \n",
       "2                   NaN  03cjn2s  \n",
       "3                   NaN  0fqscpg  \n",
       "4                   NaN   01c_3f  \n",
       "...                 ...      ...  \n",
       "3301                NaN  0g991pt  \n",
       "3302                NaN  026p3wd  \n",
       "3303                NaN  04f4sx6  \n",
       "3304                NaN  02q97xt  \n",
       "3305                NaN  02w2_m6  \n",
       "\n",
       "[3306 rows x 8 columns]"
      ]
     },
     "execution_count": 6,
     "metadata": {},
     "output_type": "execute_result"
    }
   ],
   "source": [
    "adults_csv"
   ]
  },
  {
   "cell_type": "code",
   "execution_count": 7,
   "metadata": {},
   "outputs": [],
   "source": [
    "def move_adults(image_dir, dst_root):\n",
    "    image_file_names = adults_csv['img_org_name'].tolist()\n",
    "\n",
    "    # Get the list of folders in the image directory\n",
    "    folders = [os.path.join(image_dir, d) for d in os.listdir(image_dir) if os.path.isdir(os.path.join(image_dir, d))]\n",
    "    # Iterate through each folder\n",
    "    for folder in folders:\n",
    "        # Get the list of subfolders\n",
    "        folders2 = [os.path.join(folder, d) for d in os.listdir(folder) if os.path.isdir(os.path.join(folder, d))]\n",
    "        for folder2 in folders2:\n",
    "        # Get the list of image files in the folder\n",
    "            files = [f for f in os.listdir(folder2) if os.path.isfile(os.path.join(folder2, f))]\n",
    "\n",
    "            # Check if any of the image file names from the CSV are in the folder\n",
    "            for file in files:\n",
    "                if file[:-4] in image_file_names:\n",
    "                    # Move the image file to the output directory\n",
    "\n",
    "                    # Make folder with ethnicityname_imageid\n",
    "                    folder2_add = folder2.split(\"/\")[-2:]\n",
    "                    folder2_add_real = '_'.join(folder2_add)\n",
    "\n",
    "                    dst_root = dst_root\n",
    "                    src = os.path.join(folder2, file)\n",
    "                    dst = os.path.join(dst_root, folder2_add_real)\n",
    "                    os.makedirs(dst,exist_ok=True)\n",
    "                    shutil.copy(src, dst)\n",
    "    print('Done moving files')"
   ]
  },
  {
   "cell_type": "code",
   "execution_count": 8,
   "metadata": {},
   "outputs": [
    {
     "ename": "FileNotFoundError",
     "evalue": "[Errno 2] No such file or directory: '../data/raw_full/RFW/data'",
     "output_type": "error",
     "traceback": [
      "\u001b[0;31m---------------------------------------------------------------------------\u001b[0m",
      "\u001b[0;31mFileNotFoundError\u001b[0m                         Traceback (most recent call last)",
      "Cell \u001b[0;32mIn[8], line 4\u001b[0m\n\u001b[1;32m      1\u001b[0m image_dir \u001b[38;5;241m=\u001b[39m \u001b[38;5;124m'\u001b[39m\u001b[38;5;124m../data/raw_full/RFW/data\u001b[39m\u001b[38;5;124m'\u001b[39m\n\u001b[1;32m      2\u001b[0m dst_root \u001b[38;5;241m=\u001b[39m \u001b[38;5;124m'\u001b[39m\u001b[38;5;124m../data/raw_full/adults\u001b[39m\u001b[38;5;124m'\u001b[39m \u001b[38;5;66;03m#../data/raw_full/adults'\u001b[39;00m\n\u001b[0;32m----> 4\u001b[0m \u001b[43mmove_adults\u001b[49m\u001b[43m(\u001b[49m\u001b[43mimage_dir\u001b[49m\u001b[43m,\u001b[49m\u001b[43m \u001b[49m\u001b[43mdst_root\u001b[49m\u001b[43m)\u001b[49m\n",
      "Cell \u001b[0;32mIn[7], line 5\u001b[0m, in \u001b[0;36mmove_adults\u001b[0;34m(image_dir, dst_root)\u001b[0m\n\u001b[1;32m      2\u001b[0m image_file_names \u001b[38;5;241m=\u001b[39m adults_csv[\u001b[38;5;124m'\u001b[39m\u001b[38;5;124mimg_org_name\u001b[39m\u001b[38;5;124m'\u001b[39m]\u001b[38;5;241m.\u001b[39mtolist()\n\u001b[1;32m      4\u001b[0m \u001b[38;5;66;03m# Get the list of folders in the image directory\u001b[39;00m\n\u001b[0;32m----> 5\u001b[0m folders \u001b[38;5;241m=\u001b[39m [os\u001b[38;5;241m.\u001b[39mpath\u001b[38;5;241m.\u001b[39mjoin(image_dir, d) \u001b[38;5;28;01mfor\u001b[39;00m d \u001b[38;5;129;01min\u001b[39;00m \u001b[43mos\u001b[49m\u001b[38;5;241;43m.\u001b[39;49m\u001b[43mlistdir\u001b[49m\u001b[43m(\u001b[49m\u001b[43mimage_dir\u001b[49m\u001b[43m)\u001b[49m \u001b[38;5;28;01mif\u001b[39;00m os\u001b[38;5;241m.\u001b[39mpath\u001b[38;5;241m.\u001b[39misdir(os\u001b[38;5;241m.\u001b[39mpath\u001b[38;5;241m.\u001b[39mjoin(image_dir, d))]\n\u001b[1;32m      6\u001b[0m \u001b[38;5;66;03m# Iterate through each folder\u001b[39;00m\n\u001b[1;32m      7\u001b[0m \u001b[38;5;28;01mfor\u001b[39;00m folder \u001b[38;5;129;01min\u001b[39;00m folders:\n\u001b[1;32m      8\u001b[0m     \u001b[38;5;66;03m# Get the list of subfolders\u001b[39;00m\n",
      "\u001b[0;31mFileNotFoundError\u001b[0m: [Errno 2] No such file or directory: '../data/raw_full/RFW/data'"
     ]
    }
   ],
   "source": [
    "image_dir = '../data/raw_full/RFW/data'\n",
    "dst_root = '../data/raw_full/adults' #../data/raw_full/adults'\n",
    "\n",
    "move_adults(image_dir, dst_root)"
   ]
  },
  {
   "cell_type": "code",
   "execution_count": 32,
   "metadata": {},
   "outputs": [
    {
     "name": "stdout",
     "output_type": "stream",
     "text": [
      "Total number of images: 3308\n"
     ]
    }
   ],
   "source": [
    "## Check number of images in folder\n",
    "root_directory = '/Users/gabriellakierulff/Desktop/HCAI/speciale/Master_Thesis/data/raw_full/adults'\n",
    "total_images = count_images_in_all_directories(root_directory)\n",
    "print(f\"Total number of images: {total_images}\")"
   ]
  },
  {
   "cell_type": "code",
   "execution_count": 9,
   "metadata": {},
   "outputs": [],
   "source": [
    "# Where's the duplicates?\n",
    "\n",
    "# Function to find duplicate file names within a folder and remove the first instance\n",
    "def remove_first_instance_of_duplicate_file_names(folder_path):\n",
    "    file_names = {}  # Dictionary to store file names and their counts\n",
    "\n",
    "    # Traverse each folder recursively\n",
    "    for root, dirs, files in os.walk(folder_path):\n",
    "        for file_name in files:\n",
    "            file_path = os.path.join(root, file_name)\n",
    "            # Increment count for file name in dictionary\n",
    "            if file_name in file_names:\n",
    "                # If the file name already exists, delete the first occurrence\n",
    "                os.remove(file_path)\n",
    "                print(f\"Removed first instance of duplicate file: {file_path}\")\n",
    "            else:\n",
    "                file_names[file_name] = file_path\n",
    "\n",
    "# Main function to check for duplicate file names in all folders\n",
    "def check_for_duplicate_file_names_and_remove_first_instance(root_folder):\n",
    "    for root, dirs, files in os.walk(root_folder):\n",
    "        print(f\"Checking duplicates in folder: {root}\")\n",
    "        remove_first_instance_of_duplicate_file_names(root)\n",
    "\n",
    "# Example usage:\n",
    "root_folder = '/Users/gabriellakierulff/Desktop/HCAI/speciale/Master_Thesis/data/raw_full/adults'\n",
    "check_for_duplicate_file_names_and_remove_first_instance(root_folder)\n"
   ]
  },
  {
   "cell_type": "code",
   "execution_count": 39,
   "metadata": {},
   "outputs": [
    {
     "name": "stdout",
     "output_type": "stream",
     "text": [
      "Total number of images: 3306\n"
     ]
    }
   ],
   "source": [
    "## Check number of images in folder now\n",
    "root_directory = '/Users/gabriellakierulff/Desktop/HCAI/speciale/Master_Thesis/data/raw_full/adults'\n",
    "total_images = count_images_in_all_directories(root_directory)\n",
    "print(f\"Total number of images: {total_images}\")"
   ]
  },
  {
   "cell_type": "markdown",
   "metadata": {},
   "source": [
    "### CHILDREN: Only move files from YLFW full and RFW full also in balanced children csv folder\n",
    "**OBS: RFW to file structure as child data**"
   ]
  },
  {
   "cell_type": "code",
   "execution_count": 10,
   "metadata": {},
   "outputs": [
    {
     "data": {
      "text/plain": [
       "3306"
      ]
     },
     "execution_count": 10,
     "metadata": {},
     "output_type": "execute_result"
    }
   ],
   "source": [
    "children_csv = pd.read_csv('../data/child_balanced.csv')\n",
    "len(children_csv)"
   ]
  },
  {
   "cell_type": "code",
   "execution_count": 11,
   "metadata": {},
   "outputs": [],
   "source": [
    "def move_children(image_dir_rfw, image_dir_ylfw, dst_root):\n",
    "\n",
    "    # First for RFW\n",
    "    rfw_csv = children_csv[children_csv.img_org_name.notna()]\n",
    "    image_file_names = rfw_csv['img_org_name'].tolist()\n",
    "\n",
    "    # Get the list of folders in the image directory\n",
    "    folders = [os.path.join(image_dir_rfw, d) for d in os.listdir(image_dir_rfw) if os.path.isdir(os.path.join(image_dir_rfw, d))]\n",
    "    # Iterate through each folder\n",
    "    for folder in folders:\n",
    "        # Get the list of subfolders\n",
    "        folders2 = [os.path.join(folder, d) for d in os.listdir(folder) if os.path.isdir(os.path.join(folder, d))]\n",
    "        for folder2 in folders2:\n",
    "        # Get the list of image files in the folder\n",
    "            files = [f for f in os.listdir(folder2) if os.path.isfile(os.path.join(folder2, f))]\n",
    "\n",
    "            # Check if any of the image file names from the CSV are in the folder\n",
    "            for file in files:\n",
    "                if file[:-4] in image_file_names:\n",
    "                    # Move the image file to the output directory\n",
    "\n",
    "                    # Make folder with ethnicityname_imageid\n",
    "                    folder2_add = folder2.split(\"/\")[-2:]\n",
    "                    folder2_add_real = '_'.join(folder2_add)\n",
    "\n",
    "                    dst_root = dst_root\n",
    "                    src = os.path.join(folder2, file)\n",
    "                    dst = os.path.join(dst_root, folder2_add_real)\n",
    "                    os.makedirs(dst,exist_ok=True)\n",
    "                    shutil.copy(src, dst)\n",
    "    print('Done moving RFW files')\n",
    "\n",
    "\n",
    "    # THEN YLFW\n",
    "    ylfw_csv = children_csv[children_csv.img_org_name.isna()]\n",
    "    ylfw_image_file_names = ylfw_csv['img_name'].tolist()\n",
    "\n",
    "    # Get the list of folders in the image directory\n",
    "    folders = [os.path.join(image_dir_ylfw, d) for d in os.listdir(image_dir_ylfw) if os.path.isdir(os.path.join(image_dir_ylfw, d))]\n",
    "    # Iterate through each folder\n",
    "    for folder in folders:\n",
    "        # Get the list of image files in the folder\n",
    "        files = [f for f in os.listdir(folder) if os.path.isfile(os.path.join(folder, f))]\n",
    "        # Check if any of the image file names from the CSV are in the folder\n",
    "        for file in files:\n",
    "            if file[:-4] in ylfw_image_file_names:\n",
    "                # Move the image file to same foldername in the output directory\n",
    "                folder_dst = folder.split(\"/\")[-1]\n",
    "\n",
    "                dst_root = dst_root\n",
    "                src = os.path.join(folder, file)\n",
    "                dst = os.path.join(dst_root, folder_dst)\n",
    "                os.makedirs(dst,exist_ok=True)\n",
    "                shutil.copy(src, dst)\n",
    "\n",
    "    print('Done moving YLFW files')\n"
   ]
  },
  {
   "cell_type": "code",
   "execution_count": 13,
   "metadata": {},
   "outputs": [
    {
     "name": "stdout",
     "output_type": "stream",
     "text": [
      "Done moving RFW files\n",
      "Done moving YLFW files\n"
     ]
    }
   ],
   "source": [
    "image_dir_rfw = \"../data/raw_full/RFW_full/data\"\n",
    "image_dir_ylfw = \"../data/raw_full/YLFW/data_aligned/data_aligned\"\n",
    "dst_root = \"../data/raw_full/children\"\n",
    "\n",
    "move_children(image_dir_rfw, image_dir_ylfw, dst_root)"
   ]
  },
  {
   "cell_type": "code",
   "execution_count": 14,
   "metadata": {},
   "outputs": [
    {
     "name": "stdout",
     "output_type": "stream",
     "text": [
      "Total number of images: 3306\n"
     ]
    }
   ],
   "source": [
    "## Check number of images in folder\n",
    "root_directory = '../data/raw_full/children'\n",
    "total_images = count_images_in_all_directories(root_directory)\n",
    "print(f\"Total number of images: {total_images}\")"
   ]
  },
  {
   "cell_type": "code",
   "execution_count": null,
   "metadata": {},
   "outputs": [],
   "source": []
  }
 ],
 "metadata": {
  "kernelspec": {
   "display_name": "best_master",
   "language": "python",
   "name": "python3"
  },
  "language_info": {
   "codemirror_mode": {
    "name": "ipython",
    "version": 3
   },
   "file_extension": ".py",
   "mimetype": "text/x-python",
   "name": "python",
   "nbconvert_exporter": "python",
   "pygments_lexer": "ipython3",
   "version": "3.10.6"
  }
 },
 "nbformat": 4,
 "nbformat_minor": 2
}
