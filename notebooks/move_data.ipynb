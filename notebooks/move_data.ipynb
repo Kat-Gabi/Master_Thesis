{
 "cells": [
  {
   "cell_type": "code",
   "execution_count": 5,
   "metadata": {},
   "outputs": [],
   "source": [
    "import os\n",
    "import shutil\n",
    "import pandas as pd\n"
   ]
  },
  {
   "cell_type": "markdown",
   "metadata": {},
   "source": [
    "### ADULTS: Only move files from RFW full also in balanced adulst csv folder\n",
    "**OBS: to file structure as child data**"
   ]
  },
  {
   "cell_type": "code",
   "execution_count": 6,
   "metadata": {},
   "outputs": [],
   "source": [
    "adults_csv = pd.read_csv('../data/adults_balanced.csv')"
   ]
  },
  {
   "cell_type": "code",
   "execution_count": 7,
   "metadata": {},
   "outputs": [],
   "source": [
    "image_dir = '/Users/gabriellakierulff/Desktop/HCAI/speciale/Master_Thesis/data/raw/RLFW_mini/data_kopi'\n",
    "dst_root = '/Users/gabriellakierulff/Desktop/HCAI/speciale/Master_Thesis/data/raw/RLFW_mini/adults_data'\n",
    "\n",
    "def move_adults(image_dir, dst_root):\n",
    "    image_file_names = adults_csv['img_org_name'].tolist()\n",
    "        \n",
    "    # Get the list of folders in the image directory\n",
    "    folders = [os.path.join(image_dir, d) for d in os.listdir(image_dir) if os.path.isdir(os.path.join(image_dir, d))]\n",
    "    # Iterate through each folder\n",
    "    for folder in folders:\n",
    "        # Get the list of subfolders \n",
    "        folders2 = [os.path.join(folder, d) for d in os.listdir(folder) if os.path.isdir(os.path.join(folder, d))]\n",
    "        for folder2 in folders2:\n",
    "        # Get the list of image files in the folder\n",
    "            files = [f for f in os.listdir(folder2) if os.path.isfile(os.path.join(folder2, f))]\n",
    "\n",
    "            # Check if any of the image file names from the CSV are in the folder\n",
    "            for file in files:\n",
    "                if file[:-4] in image_file_names:\n",
    "                    # Move the image file to the output directory\n",
    "                    \n",
    "                    # Make folder with ethnicityname_imageid \n",
    "                    folder2_add = folder2.split(\"/\")[-2:]\n",
    "                    folder2_add_real = '_'.join(folder2_add)\n",
    "                    \n",
    "                    dst_root = dst_root\n",
    "                    src = os.path.join(folder2, file)\n",
    "                    dst = os.path.join(dst_root + \"/\"+folder2_add_real, file)\n",
    "                    os.makedirs(dst)\n",
    "                    shutil.move(src, dst)\n",
    "    print('Done moving files')"
   ]
  },
  {
   "cell_type": "code",
   "execution_count": 8,
   "metadata": {},
   "outputs": [
    {
     "name": "stdout",
     "output_type": "stream",
     "text": [
      "Done moving files\n"
     ]
    }
   ],
   "source": [
    "image_dir = '../data/raw_full/RLFW/data'\n",
    "dst_root = '../data/raw_full/adults'\n",
    "\n",
    "move_adults(image_dir, dst_root)"
   ]
  },
  {
   "cell_type": "markdown",
   "metadata": {},
   "source": [
    "### ADULTS: Only move files from RFW full also in balanced adulst csv folder\n",
    "**OBS: to file structure as child data**"
   ]
  },
  {
   "cell_type": "markdown",
   "metadata": {},
   "source": []
  }
 ],
 "metadata": {
  "kernelspec": {
   "display_name": "best_master",
   "language": "python",
   "name": "python3"
  },
  "language_info": {
   "codemirror_mode": {
    "name": "ipython",
    "version": 3
   },
   "file_extension": ".py",
   "mimetype": "text/x-python",
   "name": "python",
   "nbconvert_exporter": "python",
   "pygments_lexer": "ipython3",
   "version": "3.11.8"
  }
 },
 "nbformat": 4,
 "nbformat_minor": 2
}
