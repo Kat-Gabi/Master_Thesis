{
 "cells": [
  {
   "cell_type": "markdown",
   "metadata": {},
   "source": [
    "## Data loading - MRCD - Praveen\n",
    "Source: https://github.com/praveenkumarchandaliya/ChildGAN_Tamp1"
   ]
  },
  {
   "cell_type": "code",
   "execution_count": 1,
   "metadata": {},
   "outputs": [],
   "source": [
    "# Load packages\n",
    "\n",
    "# Common\n",
    "import numpy as np\n",
    "import os\n",
    "import cv2 as cv\n",
    "from IPython.display import clear_output as cls\n",
    "\n",
    "# Data \n",
    "from glob import glob\n",
    "\n",
    "# Data Visuaalization\n",
    "import matplotlib.pyplot as plt\n",
    "import seaborn as sns\n",
    "sns.set()\n",
    "\n",
    "# Model\n",
    "\n"
   ]
  },
  {
   "cell_type": "markdown",
   "metadata": {},
   "source": [
    "**Descriptive analysis of data**"
   ]
  },
  {
   "cell_type": "code",
   "execution_count": null,
   "metadata": {},
   "outputs": [],
   "source": [
    "# For total number of images... Brug evt:\n",
    "\n",
    "import os\n",
    "from PIL import Image\n",
    "\n",
    "def count_images_in_folder(folder_path):\n",
    "    total_images = 0\n",
    "    \n",
    "    # Walk through the directory tree\n",
    "    for root, dirs, files in os.walk(folder_path):\n",
    "        for file in files:\n",
    "            # Check if the file is an image file\n",
    "            if is_image_file(file):\n",
    "                total_images += 1\n",
    "                \n",
    "    return total_images\n",
    "\n",
    "def is_image_file(file):\n",
    "    try:\n",
    "        # Attempt to open the file using PIL\n",
    "        Image.open(file)\n",
    "        return True\n",
    "    except (IOError, SyntaxError):\n",
    "        # IOError: Unable to open the file\n",
    "        # SyntaxError: Invalid image file\n",
    "        return False\n",
    "\n",
    "# Provide the path to the folder containing images\n",
    "folder_path = '/path/to/your/image/folder'\n",
    "\n",
    "# Call the function to count images\n",
    "total_images = count_images_in_folder(folder_path)\n",
    "\n",
    "print(\"Total number of images:\", total_images)\n",
    "\n"
   ]
  },
  {
   "cell_type": "code",
   "execution_count": 9,
   "metadata": {},
   "outputs": [
    {
     "name": "stdout",
     "output_type": "stream",
     "text": [
      "Total number of images: 10\n",
      "\n"
     ]
    }
   ],
   "source": [
    "#'3 Total Number of images\n",
    "raw_data_path = '../data/raw/'\n",
    "\n",
    "dir_name = os.listdir(raw_data_path + 'MRCD/'+'Asian')\n",
    "print(f\"Total number of images: {len(dir_name)}\\n\")\n",
    "\n",
    "## Number of identities in each class\n",
    "\n",
    "# Gender\n",
    "gender = np.array([int(gen.split(\"_\")[1]) for gen in dir_name])\n",
    "\n",
    "\n",
    "#print(f\"Total number of images: {n_individuals}\\n\")\n"
   ]
  },
  {
   "cell_type": "code",
   "execution_count": null,
   "metadata": {},
   "outputs": [],
   "source": [
    "# Make dataframe"
   ]
  }
 ],
 "metadata": {
  "kernelspec": {
   "display_name": "best_master",
   "language": "python",
   "name": "python3"
  },
  "language_info": {
   "codemirror_mode": {
    "name": "ipython",
    "version": 3
   },
   "file_extension": ".py",
   "mimetype": "text/x-python",
   "name": "python",
   "nbconvert_exporter": "python",
   "pygments_lexer": "ipython3",
   "version": "3.12.2"
  }
 },
 "nbformat": 4,
 "nbformat_minor": 2
}
