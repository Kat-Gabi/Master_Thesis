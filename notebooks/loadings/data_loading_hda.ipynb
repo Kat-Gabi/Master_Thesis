{
 "cells": [
  {
   "cell_type": "markdown",
   "metadata": {},
   "source": [
    "## Data loading - HDA\n",
    "Source: https://arxiv.org/abs/2304.11685 (data fra CR)\n",
    "\n",
    "Folder: accepted??\n",
    "-  brug bare 'images' direkte - Umiddelbart ! \n",
    "\n",
    "Make suitable for MagFace (112x112)"
   ]
  },
  {
   "cell_type": "code",
   "execution_count": 1,
   "metadata": {},
   "outputs": [],
   "source": [
    "# Load packages\n",
    "\n",
    "# Common\n",
    "import pandas as pd\n",
    "import numpy as np\n",
    "import os\n",
    "import cv2 as cv\n",
    "from IPython.display import clear_output as cls\n",
    "import json\n",
    "\n",
    "# Data \n",
    "from glob import glob\n",
    "\n",
    "# Data Visualization\n",
    "import matplotlib.pyplot as plt\n",
    "import seaborn as sns\n",
    "sns.set()\n",
    "\n",
    "# Model\n",
    "\n"
   ]
  },
  {
   "cell_type": "markdown",
   "metadata": {},
   "source": [
    "### Data folder structure and metadata\n",
    "\n",
    "HDA\n",
    "\n",
    "For each age group, load images and save metadata of information in df:\n",
    "- age group\n",
    "    - probes\n",
    "        - images\n",
    "            - im_id_M/F_ethnicity\n",
    "    - references\n",
    "        - images\n",
    "            - im_id_M/F_ethnicity\n"
   ]
  },
  {
   "cell_type": "code",
   "execution_count": 2,
   "metadata": {},
   "outputs": [
    {
     "name": "stdout",
     "output_type": "stream",
     "text": [
      "age_group_1\n",
      "age_group_0\n",
      "age_group_2\n",
      "age_group_4\n",
      "age_group_3\n"
     ]
    }
   ],
   "source": [
    "root_dir = '../data/raw/HDA'\n",
    "\n",
    "for age_folder in os.listdir(root_dir):\n",
    "    if \"age\" in age_folder:\n",
    "        print(age_folder)"
   ]
  },
  {
   "cell_type": "code",
   "execution_count": 3,
   "metadata": {},
   "outputs": [
    {
     "name": "stdout",
     "output_type": "stream",
     "text": [
      "19847_12_M_white_8\n",
      "['19847', '12', 'M', 'white', '8']\n",
      "19847\n"
     ]
    }
   ],
   "source": [
    "\n",
    "# Extract information from image filename\n",
    "image_name = os.path.splitext('19847_12_M_white_8.png')[0]\n",
    "print(image_name)\n",
    "image_info = image_name.split('_')\n",
    "print(image_info)\n",
    "\n",
    "image_id = image_info[0]\n",
    "print(image_id)\n",
    "\n",
    "image_gender = image_info[1]\n",
    "image_ethnicity = image_info[2]"
   ]
  },
  {
   "cell_type": "code",
   "execution_count": 4,
   "metadata": {},
   "outputs": [
    {
     "name": "stdout",
     "output_type": "stream",
     "text": [
      "136\n"
     ]
    },
    {
     "data": {
      "text/html": [
       "<div>\n",
       "<style scoped>\n",
       "    .dataframe tbody tr th:only-of-type {\n",
       "        vertical-align: middle;\n",
       "    }\n",
       "\n",
       "    .dataframe tbody tr th {\n",
       "        vertical-align: top;\n",
       "    }\n",
       "\n",
       "    .dataframe thead th {\n",
       "        text-align: right;\n",
       "    }\n",
       "</style>\n",
       "<table border=\"1\" class=\"dataframe\">\n",
       "  <thead>\n",
       "    <tr style=\"text-align: right;\">\n",
       "      <th></th>\n",
       "      <th>ID</th>\n",
       "      <th>Age_maybe</th>\n",
       "      <th>Gender</th>\n",
       "      <th>Ethnicity</th>\n",
       "      <th>SubID</th>\n",
       "      <th>Age_group</th>\n",
       "      <th>Probe</th>\n",
       "    </tr>\n",
       "  </thead>\n",
       "  <tbody>\n",
       "    <tr>\n",
       "      <th>53</th>\n",
       "      <td>19847</td>\n",
       "      <td>9</td>\n",
       "      <td>M</td>\n",
       "      <td>white</td>\n",
       "      <td>1</td>\n",
       "      <td>2</td>\n",
       "      <td>1</td>\n",
       "    </tr>\n",
       "    <tr>\n",
       "      <th>58</th>\n",
       "      <td>19847</td>\n",
       "      <td>9</td>\n",
       "      <td>M</td>\n",
       "      <td>white</td>\n",
       "      <td>6</td>\n",
       "      <td>2</td>\n",
       "      <td>1</td>\n",
       "    </tr>\n",
       "    <tr>\n",
       "      <th>45</th>\n",
       "      <td>19847</td>\n",
       "      <td>9</td>\n",
       "      <td>M</td>\n",
       "      <td>white</td>\n",
       "      <td>14</td>\n",
       "      <td>2</td>\n",
       "      <td>1</td>\n",
       "    </tr>\n",
       "    <tr>\n",
       "      <th>46</th>\n",
       "      <td>19847</td>\n",
       "      <td>9</td>\n",
       "      <td>M</td>\n",
       "      <td>white</td>\n",
       "      <td>15</td>\n",
       "      <td>2</td>\n",
       "      <td>1</td>\n",
       "    </tr>\n",
       "    <tr>\n",
       "      <th>48</th>\n",
       "      <td>19847</td>\n",
       "      <td>9</td>\n",
       "      <td>M</td>\n",
       "      <td>white</td>\n",
       "      <td>12</td>\n",
       "      <td>2</td>\n",
       "      <td>1</td>\n",
       "    </tr>\n",
       "  </tbody>\n",
       "</table>\n",
       "</div>"
      ],
      "text/plain": [
       "       ID Age_maybe Gender Ethnicity SubID  Age_group  Probe\n",
       "53  19847         9      M     white     1          2      1\n",
       "58  19847         9      M     white     6          2      1\n",
       "45  19847         9      M     white    14          2      1\n",
       "46  19847         9      M     white    15          2      1\n",
       "48  19847         9      M     white    12          2      1"
      ]
     },
     "execution_count": 4,
     "metadata": {},
     "output_type": "execute_result"
    }
   ],
   "source": [
    "# Data loading\n",
    "\n",
    "# df med im_id, M/F, ethnicity, age \n",
    "\n",
    "import os\n",
    "import re\n",
    "from PIL import Image\n",
    "import pandas as pd\n",
    "\n",
    "# Define the root directory containing age group folders\n",
    "root_dir = '../data/raw/HDA'\n",
    "\n",
    "# Initialize lists to store image information\n",
    "ids = []\n",
    "age_maybe = []\n",
    "genders = []\n",
    "ethnicities = []\n",
    "subid = []\n",
    "age_group = []\n",
    "probe = []\n",
    "\n",
    "# Iterate through each age group folder\n",
    "for age_folder in os.listdir(root_dir)[1:]:\n",
    "    if \"age_group\" in age_folder:\n",
    "        age_path = os.path.join(root_dir, age_folder)\n",
    "        if os.path.isdir(age_path):\n",
    "            # Iterate through subfolders in each age group folder (probe and references)\n",
    "            for subfolder in os.listdir(age_path):\n",
    "                subfolder_path = os.path.join(age_path, subfolder)\n",
    "                if os.path.isdir(subfolder_path):\n",
    "                    subfolder_path = subfolder_path + \"/images/\"\n",
    "                    # Iterate through images in each subfolder\n",
    "                    for image_file in os.listdir(subfolder_path):\n",
    "                        if image_file.endswith('.png'):  # Assuming images are PNG format\n",
    "                            image_path = os.path.join(subfolder_path, image_file)\n",
    "                            \n",
    "                            # Extract information from image filename\n",
    "                            image_name = os.path.splitext(image_file)[0]\n",
    "                            image_info = image_name.split('_')\n",
    "                            image_id = image_info[0]\n",
    "                            image_age_maybe = image_info[1]\n",
    "                            image_gender = image_info[2]\n",
    "                            image_ethnicity = image_info[3]\n",
    "                            \n",
    "                            # for probes: they have intraclass variation number \n",
    "                            try: \n",
    "                                image_subid = image_info[4] \n",
    "                            except: \n",
    "                                image_subid = 42\n",
    "                                                        \n",
    "                            # Assuming age is derived from the age folder name\n",
    "                            age_match = re.search(r'\\d+', age_folder)\n",
    "\n",
    "                            # Check if a match is found\n",
    "                            if age_match:\n",
    "                                # Extract the matched integer\n",
    "                                age_integer = int(age_match.group())\n",
    "                            else:\n",
    "                                print(\"No age information found in the string.\")\n",
    "                                \n",
    "                            image_age_group = age_integer\n",
    "                            \n",
    "                            probe_yes = 1 if subfolder==\"probes\" else 0\n",
    "                            \n",
    "                            # Append information to lists\n",
    "                            ids.append(image_id)\n",
    "                            age_maybe.append(image_age_maybe)\n",
    "                            genders.append(image_gender)\n",
    "                            ethnicities.append(image_ethnicity)\n",
    "                            subid.append(image_subid)\n",
    "                            age_group.append(image_age_group)\n",
    "                            probe.append(probe_yes)\n",
    "                            \n",
    "\n",
    "    # Create a DataFrame from the lists\n",
    "    data = {'ID': ids, 'Age_maybe': age_maybe, 'Gender': genders, 'Ethnicity': ethnicities, 'SubID': subid, 'Age_group': age_group, \"Probe\":probe}\n",
    "    df = pd.DataFrame(data).sort_values(by='Age_maybe',ascending=False)\n",
    "\n",
    "    # Display the DataFrame\n",
    "print(len(df))\n",
    "df.head()\n"
   ]
  },
  {
   "cell_type": "markdown",
   "metadata": {},
   "source": [
    "### Descriptive analysis of data"
   ]
  },
  {
   "cell_type": "markdown",
   "metadata": {},
   "source": [
    "#### Data distributions\n",
    "(Evt efter age groups)"
   ]
  },
  {
   "cell_type": "code",
   "execution_count": 5,
   "metadata": {},
   "outputs": [
    {
     "data": {
      "image/png": "[encoded data removed]",
      "text/plain": [
       "<Figure size 640x480 with 1 Axes>"
      ]
     },
     "metadata": {},
     "output_type": "display_data"
    }
   ],
   "source": [
    "# Define bin edges for each group of 3 years\n",
    "plt.hist(df['Age_maybe'], bins=10, color='skyblue')\n",
    "plt.xlabel('Age groups')\n",
    "plt.ylabel('Frequency')\n",
    "plt.title('Age Distribution')\n",
    "plt.show()\n",
    "\n"
   ]
  },
  {
   "cell_type": "code",
   "execution_count": null,
   "metadata": {},
   "outputs": [],
   "source": []
  }
 ],
 "metadata": {
  "kernelspec": {
   "display_name": "best_master",
   "language": "python",
   "name": "python3"
  },
  "language_info": {
   "codemirror_mode": {
    "name": "ipython",
    "version": 3
   },
   "file_extension": ".py",
   "mimetype": "text/x-python",
   "name": "python",
   "nbconvert_exporter": "python",
   "pygments_lexer": "ipython3",
   "version": "3.11.8"
  }
 },
 "nbformat": 4,
 "nbformat_minor": 2
}
