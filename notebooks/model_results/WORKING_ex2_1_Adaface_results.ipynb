{
 "cells": [
  {
   "cell_type": "markdown",
   "metadata": {},
   "source": [
    "## EXPERIMENT 2.1: AdaFace"
   ]
  },
  {
   "cell_type": "code",
   "execution_count": null,
   "metadata": {},
   "outputs": [],
   "source": [
    "## Load libraries\n",
    "\n",
    "import numpy as np\n",
    "import cv2\n",
    "from matplotlib import pyplot as plt\n",
    "import torch\n",
    "import seaborn as sns\n",
    "import pandas as pd\n",
    "from sklearn.preprocessing import normalize\n",
    "import sys\n",
    "sns.set(style=\"white\")\n",
    "%matplotlib inline\n",
    "sys.path.append('../../utils')\n",
    "from Model_utils.Model_funcs import *\n",
    "from Result_metric_utils.result_metrics import *\n",
    "from Data_proc_utils.Data_proc_funcs import *\n",
    "from Plotting_stats_utils.plotting_threshold import *\n",
    "from Plotting_stats_utils.stats_tables import *\n",
    "\n",
    "\n",
    "from IPython import embed\n"
   ]
  },
  {
   "cell_type": "markdown",
   "metadata": {},
   "source": [
    "### AdaFace Results\n",
    "\n",
    "This notebook loads the feature vectors from MagFace and run them through the results metrics:\n",
    "FNIR, FPIR, FND, FPD, and GARBE"
   ]
  },
  {
   "cell_type": "code",
   "execution_count": null,
   "metadata": {},
   "outputs": [],
   "source": [
    "feature_list_children = '../../data/data_full/feature_vectors/adaface_feature_vectors/TODO_NYE_SIMILARITY_SCORES'\n",
    "feature_list_adults = '../../data/data_full/feature_vectors/adaface_feature_vectors/TODO_NYE_SIMILARITY_SCORES'\n",
    "\n",
    "\n",
    "image_names_c, ids_c, num_ids_c, norm_feats_c = load_adaface_vectors(feature_list_children)\n",
    "# image_names_a, ids_a, num_ids_a, norm_feats_a = load_adaface_vectors(feature_list_adults)\n",
    "image_names_a, ids_a, num_ids_a, norm_feats_a = load_adaface_vectors_adults(feature_list_adults) # virker for den gamle, men ikke de cropped af en eller anden grund\n",
    "\n",
    "ids_a = [\"_\".join(x.split(\"_\")[1:]) for x in ids_a]\n",
    "\n",
    "\n",
    "# Similarity matrices from adaface - all\n",
    "sim_mat_c = np.dot(norm_feats_c, norm_feats_c.T)\n",
    "sim_mat_a = np.dot(norm_feats_a, norm_feats_a.T)\n",
    "\n",
    "\n",
    "# Dataframes with info, removes names not in magface results\n",
    "children_all = pd.read_csv('../../data/image_info_csvs/final_filtered_children_df_BIBEL.csv')\n",
    "children_all = children_all[children_all.image_name.isin(image_names_c)]\n",
    "\n",
    "adults_all_org = pd.read_csv('../../data/image_info_csvs/final_filtered_adults_df_BIBEL.csv')\n",
    "adults_all = adults_all_org[adults_all_org.image_name.isin(image_names_a)]"
   ]
  },
  {
   "cell_type": "code",
   "execution_count": null,
   "metadata": {},
   "outputs": [],
   "source": [
    "her = 2\n",
    "image_names_a[her], ids_a[her], num_ids_a[her]"
   ]
  },
  {
   "cell_type": "markdown",
   "metadata": {},
   "source": [
    "# Finding the right threshold"
   ]
  },
  {
   "cell_type": "code",
   "execution_count": null,
   "metadata": {},
   "outputs": [],
   "source": [
    "\n",
    "random_states = [4, 5, 6]\n",
    "percentiles = [70, 72, 74, 76, 78, 80, 82, 84, 86, 88, 90, 92, 94, 96, 98]\n",
    "\n",
    "df_all_threshold_x = compute_metrics_ex_1_1(random_states, percentiles, children_all, adults_all, image_names_c, image_names_a, sim_mat_c, sim_mat_a, num_ids_c, num_ids_a, ids_c, ids_a, balance_child_data, balance_adults_data_enrolled, compute_fnir, compute_fpir, GARBE)\n"
   ]
  },
  {
   "cell_type": "code",
   "execution_count": null,
   "metadata": {},
   "outputs": [],
   "source": [
    "\n",
    "plot_threshold_metrics_ex_1_1(df_all_threshold_x)"
   ]
  },
  {
   "cell_type": "markdown",
   "metadata": {},
   "source": [
    "# then the threshold should be based on the childrens and that would be 22"
   ]
  },
  {
   "cell_type": "markdown",
   "metadata": {},
   "source": [
    "# Stats"
   ]
  },
  {
   "cell_type": "code",
   "execution_count": null,
   "metadata": {},
   "outputs": [],
   "source": [
    "\n",
    "random_states = [1, 2, 3, 4, 5, 6, 7, 8, 9, 10]\n",
    "\n",
    "df_all_results, sim_mat_dict_all_magface_ex1_1 = evaluate_metrics_ex_1_1(\n",
    "    random_states, children_all, adults_all, image_names_c, image_names_a,\n",
    "    sim_mat_c, sim_mat_a, num_ids_c, num_ids_a, ids_c, ids_a, balance_child_data,\n",
    "    balance_adults_data_enrolled, compute_fnir, compute_fpir, GARBE, remove_ones, 0.22\n",
    ")\n",
    "\n",
    "df_all_results.describe().applymap(lambda x: f\"{x:.3f}\")"
   ]
  },
  {
   "cell_type": "code",
   "execution_count": null,
   "metadata": {},
   "outputs": [],
   "source": [
    "df_all_results.applymap(lambda x: f\"{x:.3f}\")"
   ]
  },
  {
   "cell_type": "markdown",
   "metadata": {},
   "source": [
    "# Gemmer simscores"
   ]
  },
  {
   "cell_type": "code",
   "execution_count": null,
   "metadata": {},
   "outputs": [],
   "source": [
    "\n",
    "sim_mat_c_enrolled_iterations = []\n",
    "\n",
    "# Loop to access each array and append it to the list\n",
    "for i in range(1, 11):\n",
    "    key = f'sim_mat_c_enrolled_iteration_{i}'\n",
    "    if key in sim_mat_dict_all_magface_ex1_1:\n",
    "        sim_mat_c_enrolled_iterations.append(sim_mat_dict_all_magface_ex1_1[key])\n",
    "\n",
    "# Concatenate all arrays into one big array\n",
    "sim_mat_c_enrolled_iterations_all = np.concatenate(sim_mat_c_enrolled_iterations)\n",
    "sim_mat_c_enrolled_iterations_all = pd.DataFrame(sim_mat_c_enrolled_iterations_all)\n",
    "sim_mat_c_enrolled_iterations_all.to_csv('sim_mat_c_enrolled_iterations_all_ada.csv', index=False)\n",
    "# Print the big array\n",
    "print(len(sim_mat_c_enrolled_iterations_all))\n",
    "\n",
    "sim_mat_a_enrolled_iterations = []\n",
    "\n",
    "# Loop to access each array and append it to the list\n",
    "for i in range(1, 11):\n",
    "    key = f'sim_mat_a_enrolled_iteration_{i}'\n",
    "    if key in sim_mat_dict_all_magface_ex1_1:\n",
    "        sim_mat_a_enrolled_iterations.append(sim_mat_dict_all_magface_ex1_1[key])\n",
    "\n",
    "# Concatenate all arrays into one big array\n",
    "sim_mat_a_enrolled_iterations_all = np.concatenate(sim_mat_a_enrolled_iterations)\n",
    "sim_mat_a_enrolled_iterations_all = pd.DataFrame(sim_mat_a_enrolled_iterations_all)\n",
    "sim_mat_a_enrolled_iterations_all.to_csv('sim_mat_a_enrolled_iterations_all_ada.csv', index=False)\n",
    "\n",
    "\n",
    "# Print the big array\n",
    "print(len(sim_mat_a_enrolled_iterations_all))\n"
   ]
  },
  {
   "cell_type": "code",
   "execution_count": null,
   "metadata": {},
   "outputs": [],
   "source": [
    "\n",
    "sim_mat_c_non_enrolled_iterations = []\n",
    "\n",
    "# Loop to access each array and append it to the list\n",
    "for i in range(1, 11):\n",
    "    key = f'sim_mat_c_non_enrolled_iteration_{i}'\n",
    "    if key in sim_mat_dict_all_magface_ex1_1:\n",
    "        sim_mat_c_non_enrolled_iterations.append(sim_mat_dict_all_magface_ex1_1[key])\n",
    "\n",
    "sim_mat_c_non_enrolled_iterations_all = np.concatenate(sim_mat_c_non_enrolled_iterations)\n",
    "sim_mat_c_non_enrolled_iterations_all = pd.DataFrame(sim_mat_c_non_enrolled_iterations_all)\n",
    "sim_mat_c_non_enrolled_iterations_all.to_csv('sim_mat_c_non_enrolled_iterations_all_ada.csv', index=False)\n",
    "# Print the big array\n",
    "print(len(sim_mat_c_non_enrolled_iterations_all))\n",
    "\n",
    "\n",
    "sim_mat_a_non_enrolled_iterations = []\n",
    "\n",
    "# Loop to access each array and append it to the list\n",
    "for i in range(1, 11):\n",
    "    key = f'sim_mat_a_non_enrolled_iteration_{i}'\n",
    "    if key in sim_mat_dict_all_magface_ex1_1:\n",
    "        sim_mat_a_non_enrolled_iterations.append(sim_mat_dict_all_magface_ex1_1[key])\n",
    "\n",
    "sim_mat_a_non_enrolled_iterations_all = np.concatenate(sim_mat_a_non_enrolled_iterations)\n",
    "sim_mat_a_non_enrolled_iterations_all = pd.DataFrame(sim_mat_a_non_enrolled_iterations_all)\n",
    "sim_mat_a_non_enrolled_iterations_all.to_csv('sim_mat_a_non_enrolled_iterations_all_ada.csv', index=False)\n",
    "\n",
    "# Print the big array\n",
    "print(len(sim_mat_a_non_enrolled_iterations_all))\n"
   ]
  },
  {
   "cell_type": "markdown",
   "metadata": {},
   "source": [
    "# loader sim scores"
   ]
  },
  {
   "cell_type": "code",
   "execution_count": null,
   "metadata": {},
   "outputs": [],
   "source": [
    "sim_mat_c_enrolled_iterations_all_ada = (pd.read_csv('sim_mat_c_enrolled_iterations_all_ada.csv')).values.flatten()\n",
    "sim_mat_a_enrolled_iterations_all_ada = (pd.read_csv('sim_mat_a_enrolled_iterations_all_ada.csv')).values.flatten()\n",
    "sim_mat_c_non_enrolled_iterations_all_ada = (pd.read_csv('sim_mat_c_non_enrolled_iterations_all_ada.csv')).values.flatten()\n",
    "sim_mat_a_non_enrolled_iterations_all_ada = (pd.read_csv('sim_mat_a_non_enrolled_iterations_all_ada.csv')).values.flatten()\n"
   ]
  },
  {
   "cell_type": "code",
   "execution_count": null,
   "metadata": {},
   "outputs": [],
   "source": [
    "from scipy.stats import describe, gaussian_kde\n",
    "import math\n",
    "\n",
    "def descriptive_statistics(mated_scores, nonmated_scores):\n",
    "    stats_labels = [\"Observations\", \"Minimum\", \"Maximum\", \"Mean\", \"St. Dev.\", \"Skewness\", \"Ex. Kurtosis\"]\n",
    "    mated_stats = describe(mated_scores)\n",
    "    mated_stats = [mated_stats.nobs, mated_stats.minmax[0], mated_stats.minmax[1], mated_stats.mean, math.sqrt(mated_stats.variance), mated_stats.skewness, mated_stats.kurtosis]\n",
    "    nonmated_stats = describe(nonmated_scores)\n",
    "    nonmated_stats = [nonmated_stats.nobs, nonmated_stats.minmax[0], nonmated_stats.minmax[1], nonmated_stats.mean, math.sqrt(nonmated_stats.variance), nonmated_stats.skewness, nonmated_stats.kurtosis]\n",
    "\n",
    "    stats_system_df = pd.DataFrame(np.array([stats_labels, mated_stats, nonmated_stats]).T, columns=[\"Statistic\", \"Mated\", \"Non-mated\"])\n",
    "    stats_system_df = stats_system_df.astype({\"Statistic\": str, \"Mated\": float, \"Non-mated\": float})\n",
    "    return stats_system_df"
   ]
  },
  {
   "cell_type": "code",
   "execution_count": null,
   "metadata": {},
   "outputs": [],
   "source": [
    "mated_scores1 = sim_mat_a_enrolled_iterations_all_ada\n",
    "nonmated_scores1 = sim_mat_a_non_enrolled_iterations_all_ada\n",
    "scores_type1 = \"similarity\"\n",
    "stats_system1_df = descriptive_statistics(mated_scores1, nonmated_scores1)\n",
    "display(stats_system1_df)"
   ]
  },
  {
   "cell_type": "code",
   "execution_count": null,
   "metadata": {},
   "outputs": [],
   "source": [
    "mated_scores2 = sim_mat_c_enrolled_iterations_all_ada\n",
    "nonmated_scores2 = sim_mat_c_non_enrolled_iterations_all_ada\n",
    "scores_type2 = \"similarity\"\n",
    "stats_system2_df = descriptive_statistics(mated_scores2, nonmated_scores2)\n",
    "display(stats_system2_df)"
   ]
  },
  {
   "cell_type": "code",
   "execution_count": null,
   "metadata": {},
   "outputs": [],
   "source": []
  },
  {
   "cell_type": "code",
   "execution_count": null,
   "metadata": {},
   "outputs": [],
   "source": [
    "mated_colour = \"green\"\n",
    "mated_label = \"Mated scores\"\n",
    "nonmated_colour = \"red\"\n",
    "nonmated_label = \"Non-mated scores\"\n",
    "\n",
    "figure_size = (12,6)\n",
    "alpha_shade = 0.25\n",
    "alpha_fill = 1.0\n",
    "linewidth = 2\n",
    "legend_loc = \"upper left\"\n",
    "legend_anchor = (1.0, 1.02)\n",
    "legend_cols = 1\n",
    "legend_fontsize = 12\n",
    "label_fontsize = 16\n",
    "\n",
    "threshold_colour = \"black\"\n",
    "threshold_style = \"--\"\n",
    "round_digits = 5\n",
    "sns.set(style=\"white\", palette=\"muted\", color_codes=True)\n",
    "plt.rc(\"axes\", axisbelow=True)"
   ]
  },
  {
   "cell_type": "code",
   "execution_count": null,
   "metadata": {},
   "outputs": [],
   "source": [
    "\n",
    "import matplotlib.pyplot as plt\n",
    "import numpy as np\n",
    "\n",
    "def plot_histogram(mated_scores, nonmated_scores, normalise=True, savename=None, title=\"Histogram\"):\n",
    "    def normalise_scores(distribution):\n",
    "        return np.ones_like(distribution) / len(distribution)\n",
    "\n",
    "    mated_mean = np.mean(mated_scores)\n",
    "\n",
    "    plt.figure(figsize=(10, 6))  # Replace 'figure_size' with a specific size if not defined\n",
    "\n",
    "    if normalise:\n",
    "        plt.hist(mated_scores, bins=50, weights=normalise_scores(mated_scores), color='green', alpha=0.5, label='Mated Scores')  # Replace 'mated_label' with 'Mated Scores'\n",
    "        plt.hist(nonmated_scores, bins=30, weights=normalise_scores(nonmated_scores), color='red', alpha=0.5, label='Non-mated Scores')  # Replace 'nonmated_label' with 'Non-mated Scores'\n",
    "        ylabel = \"Probability Density\"\n",
    "    else:\n",
    "        plt.hist(mated_scores, bins=50, color='green', alpha=0.5, label='Mated Scores')\n",
    "        plt.hist(nonmated_scores, bins=30, color='red', alpha=0.5, label='Non-mated Scores')\n",
    "        ylabel = \"Count\"\n",
    "\n",
    "    plt.axvline(mated_mean, color='darkgreen', linestyle='--', linewidth=2, label=f'Mated Mean: {mated_mean:.2f}')\n",
    "\n",
    "    plt.xlabel(\"Comparison Score\", size=12)  # Replace 'label_fontsize' with 12 or any preferred size\n",
    "    plt.ylabel(ylabel, size=12)  # Replace 'label_fontsize' with 12 or any preferred size\n",
    "    plt.title(title, size=14)  # Title added here\n",
    "    plt.grid(True)\n",
    "    plt.legend(loc='upper right', bbox_to_anchor=(1, 1), ncol=1, fontsize=10)  # Adjust legend parameters as needed\n",
    "\n",
    "    if savename is not None:\n",
    "        plt.savefig(savename, bbox_inches=\"tight\")\n",
    "        plt.cla()\n",
    "        plt.clf()\n",
    "        plt.close()\n",
    "    else:\n",
    "        plt.show()\n"
   ]
  },
  {
   "cell_type": "code",
   "execution_count": null,
   "metadata": {},
   "outputs": [],
   "source": [
    "\n",
    "plot_histogram(mated_scores1, nonmated_scores1, normalise=True, title = 'Adults - AdaFace ex. 1.1 ')\n"
   ]
  },
  {
   "cell_type": "code",
   "execution_count": null,
   "metadata": {},
   "outputs": [],
   "source": [
    "plot_histogram(mated_scores2, nonmated_scores2, normalise=True, title = 'Children - AdaFace ex. 1.1 ')\n"
   ]
  },
  {
   "cell_type": "markdown",
   "metadata": {},
   "source": [
    "# DET curves\n"
   ]
  },
  {
   "cell_type": "code",
   "execution_count": null,
   "metadata": {},
   "outputs": [],
   "source": [
    "from DET_utils.DET_plots import *"
   ]
  },
  {
   "cell_type": "code",
   "execution_count": null,
   "metadata": {},
   "outputs": [],
   "source": [
    "# mated_kde, mated_pos, mated_min, mated_max = get_kde(mated_scores1)\n",
    "# nonmated_kde, nonmated_pos, nonmated_min, nonmated_max = get_kde(nonmated_scores1)\n",
    "# plt.figure(figsize=figure_size)\n",
    "# plt.plot(mated_pos, mated_kde(mated_pos), linewidth=linewidth, color=mated_colour, label=mated_label)\n",
    "# plt.plot(nonmated_pos, nonmated_kde(nonmated_pos), linewidth=linewidth, color=nonmated_colour, label=nonmated_label)\n",
    "# plt.xlabel(\"Score\", size=label_fontsize)\n",
    "# plt.ylabel(\"Probability Density\", size=label_fontsize)\n",
    "# plt.grid(True)\n",
    "# plt.legend(loc=legend_loc, bbox_to_anchor=legend_anchor, ncol=legend_cols, fontsize=legend_fontsize)\n",
    "# plt.show()"
   ]
  },
  {
   "cell_type": "code",
   "execution_count": null,
   "metadata": {},
   "outputs": [],
   "source": [
    "d_prime_system1 = d_prime(mated_scores1, nonmated_scores1)\n",
    "print(\"d' child =\", round(d_prime_system1, round_digits))\n",
    "\n",
    "d_prime_system2 = d_prime(mated_scores2, nonmated_scores2)\n",
    "print(\"d' adult =\", round(d_prime_system2, round_digits))\n",
    "\n",
    "# d_prime_system3 = d_prime(mated_scores3, nonmated_scores3)\n",
    "# print(\"d' canonical =\", round(d_prime_system3, round_digits))\n"
   ]
  },
  {
   "cell_type": "code",
   "execution_count": null,
   "metadata": {},
   "outputs": [],
   "source": [
    "threshold1 = 0.22\n",
    "kde_with_threshold(mated_scores1, nonmated_scores1, scores_type1, threshold1)"
   ]
  },
  {
   "cell_type": "code",
   "execution_count": null,
   "metadata": {},
   "outputs": [],
   "source": [
    "threshold2 = 0.22\n",
    "kde_with_threshold(mated_scores2, nonmated_scores2, scores_type2, threshold2)"
   ]
  },
  {
   "cell_type": "code",
   "execution_count": null,
   "metadata": {},
   "outputs": [],
   "source": [
    "system_name1 = 'Adults'\n",
    "system_name2 = 'Children'\n",
    "\n",
    "det = DET(biometric_evaluation_type='identification', abbreviate_axes=True, plot_eer_line=True, plot_title=\"Children vs adults\")\n",
    "det.x_limits = np.array([1e-4, .5])\n",
    "det.y_limits = np.array([1e-4, .5])\n",
    "det.x_ticks = np.array([1e-3, 1e-2, 5e-2, 20e-2, 40e-2])\n",
    "det.x_ticklabels = np.array(['0.1', '1', '5', '20', '40'])\n",
    "det.y_ticks = np.array([1e-3, 1e-2, 5e-2, 20e-2, 40e-2])\n",
    "det.y_ticklabels = np.array(['0.1', '1', '5', '20', '40'])\n",
    "det.create_figure()\n",
    "det.plot(tar=adjust_scores_for_DET(mated_scores1, scores_type1), non=adjust_scores_for_DET(nonmated_scores1, scores_type1), label=system_name1)\n",
    "det.plot(tar=adjust_scores_for_DET(mated_scores2, scores_type2), non=adjust_scores_for_DET(nonmated_scores2, scores_type2), label=system_name2)\n",
    "det.legend_on(loc=\"upper right\")\n",
    "det.show()"
   ]
  },
  {
   "cell_type": "code",
   "execution_count": null,
   "metadata": {},
   "outputs": [],
   "source": []
  }
 ],
 "metadata": {
  "kernelspec": {
   "display_name": "best_master",
   "language": "python",
   "name": "python3"
  },
  "language_info": {
   "codemirror_mode": {
    "name": "ipython",
    "version": 3
   },
   "file_extension": ".py",
   "mimetype": "text/x-python",
   "name": "python",
   "nbconvert_exporter": "python",
   "pygments_lexer": "ipython3",
   "version": "3.10.12"
  }
 },
 "nbformat": 4,
 "nbformat_minor": 2
}
