{
 "cells": [
  {
   "cell_type": "markdown",
   "metadata": {},
   "source": [
    "## Results metrics\n",
    "\n",
    "A threshold \"T\" is used to classify a test case to be either a correct (true or positive) case or false (negative) case. If the case is below a threshold \"T\" then it is classified false (negative) and if it is above threshold \"T\" it is classified true (positive).\n",
    "\n",
    "**FPIR**: is the false positive identification rate. It is the ratio of the test cases that are classified as true cases although they are false cases. It is type I error. \n",
    "FPIR= Number of test cases classified above threshold \"T\" (true) / Number of all test cases\n",
    "\n",
    "**FNIR**: is the false negative identification rate. It is  the ratio of the test cases that are classified as false cases although they are true cases. It is type II error.\n",
    "FNIR= Number of test cases classified below threshold \"T\" (false) / Number of all test cases"
   ]
  },
  {
   "cell_type": "markdown",
   "metadata": {},
   "source": [
    "Lige nu er denne note book lavet sådan, at den loader kun adults og laver nogle numpy filer af similarity scores, som ikke er helt rigtige måske, men hvo den kigger på dem med gode OFIQ og dem med dårlige OFIQ. "
   ]
  },
  {
   "cell_type": "code",
   "execution_count": 1,
   "metadata": {},
   "outputs": [],
   "source": [
    "# Load libraries\n",
    "import numpy as np\n",
    "import cv2\n",
    "from matplotlib import pyplot as plt\n",
    "# import torch\n",
    "import seaborn as sns\n",
    "import pandas as pd\n",
    "sns.set(style=\"white\")\n",
    "%matplotlib inline"
   ]
  },
  {
   "cell_type": "code",
   "execution_count": 2,
   "metadata": {},
   "outputs": [],
   "source": [
    "# load utils\n",
    "import sys\n",
    "sys.path.insert(0, '../utils')\n",
    "from MagFace_utils.MagFace_funcs_1 import *\n"
   ]
  },
  {
   "cell_type": "code",
   "execution_count": 3,
   "metadata": {},
   "outputs": [],
   "source": [
    "# Convert child ids to real ids as in child_balanced.\n",
    "\n",
    "# For all Ids, get last id name and convert to unique ids\n",
    "def convert_unique_ids(ids):\n",
    "    unique_ids_list = []\n",
    "    for id in ids:\n",
    "        im_name = id.split(\"/\")[-1][:-4]\n",
    "        if '.' in im_name:\n",
    "            un_id = im_name[:-5]\n",
    "        else:\n",
    "            un_id = \"_\".join(im_name.split(\"_\")[:-1])\n",
    "\n",
    "        unique_ids_list.append(un_id)\n",
    "    return unique_ids_list\n",
    "\n",
    "# Get unique ids\n",
    "def factorize_ids(ids):\n",
    "    unique_ids = {}\n",
    "    factors = []\n",
    "    for id in ids:\n",
    "        if id not in unique_ids:\n",
    "            unique_ids[id] = len(unique_ids)  # Assign a unique index for each unique ID\n",
    "        factors.append(unique_ids[id])  # Append the index corresponding to the ID\n",
    "    return factors, unique_ids\n"
   ]
  },
  {
   "cell_type": "code",
   "execution_count": 4,
   "metadata": {},
   "outputs": [],
   "source": [
    "# load childrens feature vectors and load adults featur vector\n",
    "# with open('../data/raw_full/feat_img_children_full.list', 'r') as f:\n",
    "#     lines = f.readlines()\n",
    "\n",
    "with open('../data/raw_full/feat_img_adults_full.list', 'r') as f:\n",
    "    lines = f.readlines()[5000:10000]\n",
    "\n",
    "\n",
    "img_2_feats = {}\n",
    "img_2_mag = {}\n",
    "for line in lines:\n",
    "    parts = line.strip().split(' ')\n",
    "    imgname = parts[0]\n",
    "    imgname = \"/\"+\"/\".join(imgname.split(\"/\")[4:])\n",
    "    feats = [float(e) for e in parts[1:]]\n",
    "    mag = np.linalg.norm(feats)\n",
    "    img_2_feats[imgname] = feats/mag\n",
    "    img_2_mag[imgname] = mag #magnitude of the feature vector\n",
    "\n",
    "imgnames = list(img_2_mag.keys())\n",
    "mags = [img_2_mag[imgname] for imgname in imgnames]\n",
    "sort_idx = np.argsort(mags) #sorts the magnitude/quality of the images\n",
    "feats = np.array([img_2_feats[imgnames[ele]] for ele in range(len(lines))]) #unsorted image quality\n",
    "ids_c = np.array([imgnames[ele] for ele in range(len(lines))])\n",
    "\n",
    "sim_mat_c = np.dot(feats, feats.T)\n",
    "sim_scores_c = sim_mat_c.copy()\n",
    "plot_sims = sim_scores_c[sim_scores_c < 0.9999].reshape(-1)\n"
   ]
  },
  {
   "cell_type": "code",
   "execution_count": null,
   "metadata": {},
   "outputs": [],
   "source": []
  },
  {
   "cell_type": "code",
   "execution_count": 5,
   "metadata": {},
   "outputs": [],
   "source": [
    "\n",
    "# with open('../data/raw_full/feat_img_adults_full.list', 'r') as f:\n",
    "#     lines = f.readlines()\n",
    "import random\n",
    "\n",
    "# Open the file\n",
    "with open('../data/raw_full/feat_img_adults_full.list', 'r') as f:\n",
    "    lines = f.readlines()[:5000]\n",
    "\n",
    "# # Extract identities\n",
    "# identities = []\n",
    "# for line in lines:\n",
    "#     # Split the line by '/' and extract the second last part\n",
    "#     parts = line.strip().split('/')\n",
    "#     identity = parts[-2]\n",
    "#     identities.append(identity)\n",
    "\n",
    "# # Take a random sample of 500 identities\n",
    "# random_sample = random.sample(identities, 500)\n",
    "\n",
    "# # Print the random sample (optional)\n",
    "# print(random_sample)\n"
   ]
  },
  {
   "cell_type": "code",
   "execution_count": 6,
   "metadata": {},
   "outputs": [],
   "source": [
    "\n",
    "img_2_feats = {}\n",
    "img_2_mag = {}\n",
    "# Convert to dictionary as adaface - is done in img_2_feats\n",
    "for line in lines:\n",
    "    parts = line.strip().split(' ')\n",
    "    imgname = parts[0]\n",
    "    imgname = \"/\"+\"/\".join(imgname.split(\"/\")[4:])\n",
    "    feats = [float(e) for e in parts[1:]]\n",
    "    mag = np.linalg.norm(feats)\n",
    "    img_2_feats[imgname] = feats/mag\n",
    "    img_2_mag[imgname] = mag #magnitude of the feature vector\n",
    "imgnames = list(img_2_mag.keys())\n",
    "mags = [img_2_mag[imgname] for imgname in imgnames]\n",
    "sort_idx = np.argsort(mags) #sorts the magnitude/quality of the images\n",
    "feats_a = np.array([img_2_feats[imgnames[ele]] for ele in range(len(lines))]) #unsorted image quality\n",
    "ids_a = np.array([imgnames[ele] for ele in range(len(lines))])\n"
   ]
  },
  {
   "cell_type": "code",
   "execution_count": 7,
   "metadata": {},
   "outputs": [],
   "source": [
    "\n",
    "sim_mat_a = np.dot(feats_a, feats_a.T)\n"
   ]
  },
  {
   "cell_type": "code",
   "execution_count": 8,
   "metadata": {},
   "outputs": [],
   "source": [
    "\n",
    "ids_a = convert_unique_ids(ids_a)\n"
   ]
  },
  {
   "cell_type": "code",
   "execution_count": 9,
   "metadata": {},
   "outputs": [],
   "source": [
    "factors_a, unique_ids = factorize_ids(ids_a)\n",
    "\n",
    "\n",
    "sim_scores_a = sim_mat_a.copy()\n",
    "plot_sims_a = sim_scores_a[sim_scores_a < 0.999].reshape(-1)\n"
   ]
  },
  {
   "cell_type": "code",
   "execution_count": 10,
   "metadata": {},
   "outputs": [
    {
     "name": "stderr",
     "output_type": "stream",
     "text": [
      "/tmp/ipykernel_11916/2398259758.py:30: SettingWithCopyWarning: \n",
      "A value is trying to be set on a copy of a slice from a DataFrame.\n",
      "Try using .loc[row_indexer,col_indexer] = value instead\n",
      "\n",
      "See the caveats in the documentation: https://pandas.pydata.org/pandas-docs/stable/user_guide/indexing.html#returning-a-view-versus-a-copy\n",
      "  poor_a_ofiq['Identityname'] = poor_a_ofiq['Filename'].apply(extract_identifier)\n",
      "/tmp/ipykernel_11916/2398259758.py:31: SettingWithCopyWarning: \n",
      "A value is trying to be set on a copy of a slice from a DataFrame.\n",
      "Try using .loc[row_indexer,col_indexer] = value instead\n",
      "\n",
      "See the caveats in the documentation: https://pandas.pydata.org/pandas-docs/stable/user_guide/indexing.html#returning-a-view-versus-a-copy\n",
      "  poor_c_ofiq['Identityname'] = poor_c_ofiq['Filename'].apply(extract_identifier)\n"
     ]
    }
   ],
   "source": [
    "\n",
    "# Mated and non-mated ids\n",
    "a_df = pd.read_csv('../data/image_info_csvs/final_filtered_adults_df_BIBEL.csv')\n",
    "c_df = pd.read_csv('../data/image_info_csvs/final_filtered_children_df_BIBEL.csv')\n",
    "# can_df = pd.read_csv('../data/can_balanced.csv')\n",
    "# a_df = pd.read_csv('/mnt/c/Dokumenter/Dokumenter/UNI/Master/Thesis/GitHub_Repo/Master_Thesis/notebooks/loadings/mated_adults_image_info.csv')\n",
    "# c_df = pd.read_csv('/mnt/c/Dokumenter/Dokumenter/UNI/Master/Thesis/GitHub_Repo/Master_Thesis/notebooks/loadings/mated_children_image_info.csv')\n",
    "\n",
    "\n",
    "# load the OFIQ csv for children and adults\n",
    "\n",
    "df_c_ofiq = pd.read_csv(\"../data/OFIQ_results/OFIQ_children_all.csv\", sep=\";\")\n",
    "df_a_ofiq = pd.read_csv(\"../data/OFIQ_results/table_adults_all_in_one.csv\", sep=\";\")\n",
    "df_can_ofiq = pd.read_csv(\"../data/OFIQ_results/canonical_children.csv\", sep=\";\")\n",
    "# poor_c_ofiq = df_c_ofiq[df_c_ofiq['UnifiedQualityScore.scalar'] < 70]\n",
    "poor_c_ofiq = df_a_ofiq[df_a_ofiq['UnifiedQualityScore.scalar'] < 40]\n",
    "\n",
    "poor_a_ofiq = df_a_ofiq[df_a_ofiq['UnifiedQualityScore.scalar'] > 70]\n",
    "poor_can_ofiq = df_can_ofiq[df_can_ofiq['UnifiedQualityScore.scalar'] > 29]\n",
    "\n",
    "def extract_identifier(filepath):\n",
    "    filename = filepath.split('/')[-1]\n",
    "    parts = filename.split('.')\n",
    "    if parts[-2].isdigit():\n",
    "        identifier = '.'.join(parts[-3:-1])\n",
    "    else:\n",
    "        identifier = '.'.join(parts[:-1])  # Join everything except the extension\n",
    "    return identifier\n",
    "\n",
    "# Apply the function on the DataFrame column\n",
    "poor_a_ofiq['Identityname'] = poor_a_ofiq['Filename'].apply(extract_identifier)\n",
    "poor_c_ofiq['Identityname'] = poor_c_ofiq['Filename'].apply(extract_identifier)\n",
    "poor_can_ofiq['Identityname'] = poor_can_ofiq['Filename'].apply(extract_identifier)\n",
    "\n",
    "\n",
    "subset_a_df = a_df[a_df['image_name'].isin(poor_a_ofiq['Identityname'])]\n",
    "# subset_c_df = c_df[c_df['image_name'].isin(poor_c_ofiq['Identityname'])]\n",
    "subset_c_df = a_df[a_df['image_name'].isin(poor_c_ofiq['Identityname'])]\n",
    "\n",
    "# subset_can_df = can_df[can_df['img_name'].isin(poor_can_ofiq['Identityname'])]\n"
   ]
  },
  {
   "cell_type": "code",
   "execution_count": 11,
   "metadata": {},
   "outputs": [
    {
     "data": {
      "text/html": [
       "<div>\n",
       "<style scoped>\n",
       "    .dataframe tbody tr th:only-of-type {\n",
       "        vertical-align: middle;\n",
       "    }\n",
       "\n",
       "    .dataframe tbody tr th {\n",
       "        vertical-align: top;\n",
       "    }\n",
       "\n",
       "    .dataframe thead th {\n",
       "        text-align: right;\n",
       "    }\n",
       "</style>\n",
       "<table border=\"1\" class=\"dataframe\">\n",
       "  <thead>\n",
       "    <tr style=\"text-align: right;\">\n",
       "      <th></th>\n",
       "      <th>Unnamed: 0</th>\n",
       "      <th>image_name</th>\n",
       "      <th>identity_name</th>\n",
       "      <th>ethnicity</th>\n",
       "      <th>Age</th>\n",
       "      <th>children_agegroup</th>\n",
       "    </tr>\n",
       "  </thead>\n",
       "  <tbody>\n",
       "    <tr>\n",
       "      <th>0</th>\n",
       "      <td>0</td>\n",
       "      <td>m.010lz5_0001</td>\n",
       "      <td>m.010lz5</td>\n",
       "      <td>African</td>\n",
       "      <td>38</td>\n",
       "      <td>NaN</td>\n",
       "    </tr>\n",
       "    <tr>\n",
       "      <th>2</th>\n",
       "      <td>2</td>\n",
       "      <td>m.010lz5_0003</td>\n",
       "      <td>m.010lz5</td>\n",
       "      <td>African</td>\n",
       "      <td>37</td>\n",
       "      <td>NaN</td>\n",
       "    </tr>\n",
       "    <tr>\n",
       "      <th>3</th>\n",
       "      <td>3</td>\n",
       "      <td>m.011y5k_0001</td>\n",
       "      <td>m.011y5k</td>\n",
       "      <td>African</td>\n",
       "      <td>40</td>\n",
       "      <td>NaN</td>\n",
       "    </tr>\n",
       "    <tr>\n",
       "      <th>5</th>\n",
       "      <td>5</td>\n",
       "      <td>m.011y5k_0003</td>\n",
       "      <td>m.011y5k</td>\n",
       "      <td>African</td>\n",
       "      <td>40</td>\n",
       "      <td>NaN</td>\n",
       "    </tr>\n",
       "    <tr>\n",
       "      <th>6</th>\n",
       "      <td>6</td>\n",
       "      <td>m.011y5k_0004</td>\n",
       "      <td>m.011y5k</td>\n",
       "      <td>African</td>\n",
       "      <td>45</td>\n",
       "      <td>NaN</td>\n",
       "    </tr>\n",
       "    <tr>\n",
       "      <th>...</th>\n",
       "      <td>...</td>\n",
       "      <td>...</td>\n",
       "      <td>...</td>\n",
       "      <td>...</td>\n",
       "      <td>...</td>\n",
       "      <td>...</td>\n",
       "    </tr>\n",
       "    <tr>\n",
       "      <th>24562</th>\n",
       "      <td>36390</td>\n",
       "      <td>m.0sgg_cr_0004</td>\n",
       "      <td>m.0sgg_cr</td>\n",
       "      <td>Indian</td>\n",
       "      <td>29</td>\n",
       "      <td>NaN</td>\n",
       "    </tr>\n",
       "    <tr>\n",
       "      <th>24568</th>\n",
       "      <td>36396</td>\n",
       "      <td>m.0tj9_0003</td>\n",
       "      <td>m.0tj9</td>\n",
       "      <td>Indian</td>\n",
       "      <td>42</td>\n",
       "      <td>NaN</td>\n",
       "    </tr>\n",
       "    <tr>\n",
       "      <th>24569</th>\n",
       "      <td>36397</td>\n",
       "      <td>m.0tj9_0004</td>\n",
       "      <td>m.0tj9</td>\n",
       "      <td>Indian</td>\n",
       "      <td>46</td>\n",
       "      <td>NaN</td>\n",
       "    </tr>\n",
       "    <tr>\n",
       "      <th>24570</th>\n",
       "      <td>36398</td>\n",
       "      <td>m.0t_d791_0001</td>\n",
       "      <td>m.0t_d791</td>\n",
       "      <td>Indian</td>\n",
       "      <td>21</td>\n",
       "      <td>NaN</td>\n",
       "    </tr>\n",
       "    <tr>\n",
       "      <th>24571</th>\n",
       "      <td>36399</td>\n",
       "      <td>m.0t_d791_0002</td>\n",
       "      <td>m.0t_d791</td>\n",
       "      <td>Indian</td>\n",
       "      <td>20</td>\n",
       "      <td>NaN</td>\n",
       "    </tr>\n",
       "  </tbody>\n",
       "</table>\n",
       "<p>11403 rows × 6 columns</p>\n",
       "</div>"
      ],
      "text/plain": [
       "       Unnamed: 0      image_name identity_name ethnicity  Age  \\\n",
       "0               0   m.010lz5_0001      m.010lz5   African   38   \n",
       "2               2   m.010lz5_0003      m.010lz5   African   37   \n",
       "3               3   m.011y5k_0001      m.011y5k   African   40   \n",
       "5               5   m.011y5k_0003      m.011y5k   African   40   \n",
       "6               6   m.011y5k_0004      m.011y5k   African   45   \n",
       "...           ...             ...           ...       ...  ...   \n",
       "24562       36390  m.0sgg_cr_0004     m.0sgg_cr    Indian   29   \n",
       "24568       36396     m.0tj9_0003        m.0tj9    Indian   42   \n",
       "24569       36397     m.0tj9_0004        m.0tj9    Indian   46   \n",
       "24570       36398  m.0t_d791_0001     m.0t_d791    Indian   21   \n",
       "24571       36399  m.0t_d791_0002     m.0t_d791    Indian   20   \n",
       "\n",
       "       children_agegroup  \n",
       "0                    NaN  \n",
       "2                    NaN  \n",
       "3                    NaN  \n",
       "5                    NaN  \n",
       "6                    NaN  \n",
       "...                  ...  \n",
       "24562                NaN  \n",
       "24568                NaN  \n",
       "24569                NaN  \n",
       "24570                NaN  \n",
       "24571                NaN  \n",
       "\n",
       "[11403 rows x 6 columns]"
      ]
     },
     "execution_count": 11,
     "metadata": {},
     "output_type": "execute_result"
    }
   ],
   "source": [
    "subset_c_df"
   ]
  },
  {
   "cell_type": "code",
   "execution_count": 12,
   "metadata": {},
   "outputs": [
    {
     "data": {
      "text/plain": [
       "1        35\n",
       "3        34\n",
       "4        16\n",
       "5        15\n",
       "6        24\n",
       "         ..\n",
       "36431    39\n",
       "36434    22\n",
       "36435    39\n",
       "36439    16\n",
       "36440    24\n",
       "Name: UnifiedQualityScore.scalar, Length: 17517, dtype: int64"
      ]
     },
     "execution_count": 12,
     "metadata": {},
     "output_type": "execute_result"
    }
   ],
   "source": [
    "poor_c_ofiq['UnifiedQualityScore.scalar']"
   ]
  },
  {
   "cell_type": "code",
   "execution_count": 13,
   "metadata": {},
   "outputs": [],
   "source": [
    "\n",
    "a_mates = subset_a_df.groupby(\"identity_name\").agg({'identity_name': ['count']})\n",
    "a_mated_ids = a_mates[a_mates[('identity_name', 'count')] > 1].index\n",
    "a_nonmated_ids = a_mates[a_mates[('identity_name', 'count')] == 1].index\n",
    "\n",
    "\n",
    "# c_mates = subset_c_df.groupby(\"identity_name\").agg({'identity_name': ['count']})\n",
    "# c_mated_ids = c_mates[c_mates[('identity_name', 'count')] > 1].index\n",
    "# c_nonmated_ids = c_mates[c_mates[('identity_name', 'count')] == 1].index\n",
    "\n",
    "c_mates = subset_c_df.groupby(\"identity_name\").agg({'identity_name': ['count']})\n",
    "c_mated_ids = c_mates[c_mates[('identity_name', 'count')] > 1].index\n",
    "c_nonmated_ids = c_mates[c_mates[('identity_name', 'count')] == 1].index\n",
    "\n",
    "\n",
    "\n",
    "# Mated and non-mated ids\n",
    "# can_mates = can_df.groupby(\"im_id\").agg({'im_id': ['count']})\n",
    "# can_mated_ids = can_mates[can_mates[('im_id', 'count')] > 1].index\n",
    "# can_nonmated_ids = can_mates[can_mates[('im_id', 'count')] == 1].index"
   ]
  },
  {
   "cell_type": "code",
   "execution_count": 14,
   "metadata": {},
   "outputs": [
    {
     "data": {
      "text/plain": [
       "6443"
      ]
     },
     "execution_count": 14,
     "metadata": {},
     "output_type": "execute_result"
    }
   ],
   "source": [
    "# check if any name from a_nonmated_ids.im_id appear in /mnt/c/Dokumenter/Dokumenter/UNI/Master/Thesis/GitHub_Repo/Master_Thesis/notebooks/loadings/mated_adults_image_info.csv\n",
    "mated_adults_image_info = pd.read_csv('../data/image_info_csvs/mated_adults_image_info.csv')\n",
    "len(mated_adults_image_info[mated_adults_image_info['identity_name'].isin(a_nonmated_ids)])\n"
   ]
  },
  {
   "cell_type": "code",
   "execution_count": 15,
   "metadata": {},
   "outputs": [
    {
     "name": "stdout",
     "output_type": "stream",
     "text": [
      "FNIR for children:  (0.41420637240572933, array([0.41077094, 0.49642645, 0.41077094, ..., 0.29700869, 0.56593077,\n",
      "       0.56593077]))\n",
      "FPIR for children:  (0.3485984998026056, array([0.25365961, 0.14209082, 0.44292441, ..., 0.47911358, 0.32823405,\n",
      "       0.29828852]), array([[1.        , 0.5161158 , 0.54919303, ..., 0.28889761, 0.39738569,\n",
      "        0.29305024],\n",
      "       [0.5161158 , 1.        , 0.38956422, ..., 0.19925718, 0.48271644,\n",
      "        0.3923601 ],\n",
      "       [0.54919303, 0.38956422, 1.        , ..., 0.42882323, 0.46564409,\n",
      "        0.45509644],\n",
      "       ...,\n",
      "       [0.28889761, 0.19925718, 0.42882323, ..., 1.        , 0.32823405,\n",
      "        0.29828852],\n",
      "       [0.39738569, 0.48271644, 0.46564409, ..., 0.32823405, 1.        ,\n",
      "        0.56593077],\n",
      "       [0.29305024, 0.3923601 , 0.45509644, ..., 0.29828852, 0.56593077,\n",
      "        1.        ]]))\n"
     ]
    }
   ],
   "source": [
    "# children\n",
    "\n",
    "ids_c = convert_unique_ids(ids_c)\n",
    "factors_c, unique_ids = factorize_ids(ids_c)\n",
    "\n",
    "\n",
    "## Threshold set based on studying the similarity scores\n",
    "thold_c = np.percentile(plot_sims, 99)\n",
    "im_ids_c = np.array(factors_c)\n",
    "\n",
    "mated_df = c_mated_ids\n",
    "non_mated_df = c_nonmated_ids\n",
    "sim_scores = sim_scores_c\n",
    "im_ids = im_ids_c\n",
    "ids = ids_c\n",
    "\n",
    "fnir_c = compute_fnir(c_mated_ids, sim_scores, im_ids_c, ids, thold=thold_c)\n",
    "fpir_c = compute_fpir(c_nonmated_ids, sim_scores, im_ids_c, ids, thold=thold_c)\n",
    "\n",
    "print(\"FNIR for children: \", fnir_c)\n",
    "print(\"FPIR for children: \", fpir_c)"
   ]
  },
  {
   "cell_type": "code",
   "execution_count": 16,
   "metadata": {},
   "outputs": [],
   "source": [
    "mated_sim_scores_child_below_29 = fnir_c[1]\n",
    "nonmated_sim_scores_child_below_29 = fpir_c[1]"
   ]
  },
  {
   "cell_type": "code",
   "execution_count": 17,
   "metadata": {},
   "outputs": [],
   "source": [
    "np.save('mated_sim_scores_child_below_29.npy', mated_sim_scores_child_below_29)\n",
    "np.save('nonmated_sim_scores_child_below_29.npy', nonmated_sim_scores_child_below_29)\n"
   ]
  },
  {
   "cell_type": "markdown",
   "metadata": {},
   "source": [
    "### adults"
   ]
  },
  {
   "cell_type": "code",
   "execution_count": 18,
   "metadata": {},
   "outputs": [],
   "source": [
    "# adults\n",
    "## Threshold set based on studying the similarity scores\n",
    "thold_a = np.percentile(plot_sims_a, 99)\n",
    "im_ids_a = np.array(factors_a)\n",
    "\n",
    "mated_df = a_mated_ids\n",
    "non_mated_df = a_nonmated_ids\n",
    "sim_scores = sim_scores_a\n",
    "im_ids = im_ids_a\n",
    "ids = ids_a\n",
    "\n",
    "fnir_a = compute_fnir(mated_df, sim_scores_a, im_ids, ids, thold=thold_a)\n",
    "fpir_a = compute_fpir(non_mated_df, sim_scores_a, im_ids, ids, thold=thold_a)\n"
   ]
  },
  {
   "cell_type": "code",
   "execution_count": 19,
   "metadata": {},
   "outputs": [
    {
     "data": {
      "text/plain": [
       "(0.29102167182662536,\n",
       " array([0.69150321, 0.7381981 , 0.71222648, ..., 0.35472051, 0.75561926,\n",
       "        0.35472051]))"
      ]
     },
     "execution_count": 19,
     "metadata": {},
     "output_type": "execute_result"
    }
   ],
   "source": [
    "fnir_a"
   ]
  },
  {
   "cell_type": "code",
   "execution_count": 20,
   "metadata": {},
   "outputs": [
    {
     "name": "stdout",
     "output_type": "stream",
     "text": [
      "FNIR for adults:  0.29102167182662536\n",
      "FPIR for adults:  0.39371624938635247\n"
     ]
    }
   ],
   "source": [
    "print(\"FNIR for adults: \", fnir_a[0])\n",
    "print(\"FPIR for adults: \", fpir_a[0])\n"
   ]
  },
  {
   "cell_type": "code",
   "execution_count": 21,
   "metadata": {},
   "outputs": [],
   "source": [
    "mated_sim_scores_adult_below_29 = fnir_a[1]\n",
    "nonmated_sim_scores_adult_below_29 = fpir_a[1]"
   ]
  },
  {
   "cell_type": "code",
   "execution_count": 22,
   "metadata": {},
   "outputs": [],
   "source": [
    "np.save('mated_sim_scores_adult_below_29.npy', mated_sim_scores_adult_below_29)\n",
    "np.save('nonmated_sim_scores_adult_below_29.npy', nonmated_sim_scores_adult_below_29)"
   ]
  },
  {
   "cell_type": "code",
   "execution_count": 23,
   "metadata": {},
   "outputs": [
    {
     "data": {
      "text/plain": [
       "0.4864962619937836"
      ]
     },
     "execution_count": 23,
     "metadata": {},
     "output_type": "execute_result"
    }
   ],
   "source": [
    "thold_a"
   ]
  },
  {
   "cell_type": "code",
   "execution_count": 24,
   "metadata": {},
   "outputs": [
    {
     "data": {
      "text/plain": [
       "0.49317433787574666"
      ]
     },
     "execution_count": 24,
     "metadata": {},
     "output_type": "execute_result"
    }
   ],
   "source": [
    "thold_c"
   ]
  },
  {
   "cell_type": "code",
   "execution_count": 25,
   "metadata": {},
   "outputs": [],
   "source": [
    "# Total number of transactions = n child ids + n adult ids\n",
    "n_child_ids = len(im_ids_c)\n",
    "n_adult_ids = len(im_ids_a)\n",
    "n = n_child_ids + n_adult_ids"
   ]
  },
  {
   "cell_type": "code",
   "execution_count": 26,
   "metadata": {},
   "outputs": [
    {
     "name": "stdout",
     "output_type": "stream",
     "text": [
      "FPD result:  0.8854054165809322\n",
      "FND result:  1.4232835987984105\n"
     ]
    }
   ],
   "source": [
    "# FPD = fpir_c/fpir_a\n",
    "# print(\"FPD result: \", FPD)\n",
    "\n",
    "\n",
    "# FND = fnir_c/fnir_a\n",
    "# print(\"FND result: \", FND)\n",
    "\n",
    "\n",
    "\n",
    "FPD = fpir_c[0]/fpir_a[0]\n",
    "print(\"FPD result: \", FPD)\n",
    "\n",
    "\n",
    "FND = fnir_c[0]/(fnir_a[0])\n",
    "print(\"FND result: \", FND)\n"
   ]
  },
  {
   "cell_type": "markdown",
   "metadata": {},
   "source": [
    "# GARBE"
   ]
  },
  {
   "cell_type": "code",
   "execution_count": 27,
   "metadata": {},
   "outputs": [
    {
     "name": "stdout",
     "output_type": "stream",
     "text": [
      "GARBE result MagFace:  1.3157079623549148\n"
     ]
    }
   ],
   "source": [
    "alpha_val = 0.2\n",
    "GARBE = alpha_val * FPD + (1 - alpha_val) * FND\n",
    "print(\"GARBE result MagFace: \", GARBE)"
   ]
  },
  {
   "cell_type": "code",
   "execution_count": null,
   "metadata": {},
   "outputs": [],
   "source": []
  },
  {
   "cell_type": "markdown",
   "metadata": {},
   "source": [
    "# DET"
   ]
  },
  {
   "cell_type": "code",
   "execution_count": 28,
   "metadata": {},
   "outputs": [],
   "source": [
    "import math\n",
    "import operator\n",
    "from pathlib import Path\n",
    "\n",
    "from ipywidgets import fixed, interact\n",
    "import ipywidgets as widgets\n",
    "import matplotlib.patches as mpatches\n",
    "import matplotlib.pyplot as plt\n",
    "import numpy as np\n",
    "import pandas as pd\n",
    "from scipy.stats import describe, gaussian_kde\n",
    "import seaborn as sns\n",
    "\n",
    "import sys\n",
    "sys.path.insert(0, '../../utils')\n",
    "from DET_utils.DET import DET\n",
    "from DET_utils.DET_plots import *\n",
    "\n",
    "\n",
    "\n",
    "mated_colour = \"green\"\n",
    "mated_label = \"Mated scores\"\n",
    "nonmated_colour = \"red\"\n",
    "nonmated_label = \"Non-mated scores\"\n",
    "\n",
    "figure_size = (12,6)\n",
    "alpha_shade = 0.25\n",
    "alpha_fill = 1.0\n",
    "linewidth = 2\n",
    "legend_loc = \"upper left\"\n",
    "legend_anchor = (1.0, 1.02)\n",
    "legend_cols = 1\n",
    "legend_fontsize = 12\n",
    "label_fontsize = 16\n",
    "\n",
    "threshold_colour = \"black\"\n",
    "threshold_style = \"--\"\n",
    "round_digits = 5\n",
    "sns.set(style=\"white\", palette=\"muted\", color_codes=True)\n",
    "plt.rc(\"axes\", axisbelow=True)"
   ]
  },
  {
   "cell_type": "code",
   "execution_count": 29,
   "metadata": {},
   "outputs": [],
   "source": [
    "mated_scores1 = np.load('mated_sim_scores_child_below_29.npy')\n",
    "nonmated_scores1 = np.load('nonmated_sim_scores_child_below_29.npy')\n",
    "scores_type1 = \"similarity\"\n",
    "\n",
    "mated_scores2 = np.load('mated_sim_scores_adult_below_29.npy')\n",
    "nonmated_scores2 = np.load('nonmated_sim_scores_adult_below_29.npy')\n",
    "scores_type2 = \"similarity\"\n"
   ]
  },
  {
   "cell_type": "code",
   "execution_count": 30,
   "metadata": {},
   "outputs": [
    {
     "name": "stderr",
     "output_type": "stream",
     "text": [
      "/tmp/ipykernel_11916/2890155579.py:2: FutureWarning: this method is deprecated in favour of `Styler.hide(axis='index')`\n",
      "  stats_system1_df.round(round_digits).style.hide_index()\n"
     ]
    },
    {
     "data": {
      "text/html": [
       "<style type=\"text/css\">\n",
       "</style>\n",
       "<table id=\"T_ba4e0\">\n",
       "  <thead>\n",
       "    <tr>\n",
       "      <th id=\"T_ba4e0_level0_col0\" class=\"col_heading level0 col0\" >Statistic</th>\n",
       "      <th id=\"T_ba4e0_level0_col1\" class=\"col_heading level0 col1\" >Mated</th>\n",
       "      <th id=\"T_ba4e0_level0_col2\" class=\"col_heading level0 col2\" >Non-mated</th>\n",
       "    </tr>\n",
       "  </thead>\n",
       "  <tbody>\n",
       "    <tr>\n",
       "      <td id=\"T_ba4e0_row0_col0\" class=\"data row0 col0\" >Observations</td>\n",
       "      <td id=\"T_ba4e0_row0_col1\" class=\"data row0 col1\" >4650.000000</td>\n",
       "      <td id=\"T_ba4e0_row0_col2\" class=\"data row0 col2\" >4909018.000000</td>\n",
       "    </tr>\n",
       "    <tr>\n",
       "      <td id=\"T_ba4e0_row1_col0\" class=\"data row1 col0\" >Minimum</td>\n",
       "      <td id=\"T_ba4e0_row1_col1\" class=\"data row1 col1\" >-0.035700</td>\n",
       "      <td id=\"T_ba4e0_row1_col2\" class=\"data row1 col2\" >-0.337100</td>\n",
       "    </tr>\n",
       "    <tr>\n",
       "      <td id=\"T_ba4e0_row2_col0\" class=\"data row2 col0\" >Maximum</td>\n",
       "      <td id=\"T_ba4e0_row2_col1\" class=\"data row2 col1\" >0.925110</td>\n",
       "      <td id=\"T_ba4e0_row2_col2\" class=\"data row2 col2\" >0.964100</td>\n",
       "    </tr>\n",
       "    <tr>\n",
       "      <td id=\"T_ba4e0_row3_col0\" class=\"data row3 col0\" >Mean</td>\n",
       "      <td id=\"T_ba4e0_row3_col1\" class=\"data row3 col1\" >0.435650</td>\n",
       "      <td id=\"T_ba4e0_row3_col2\" class=\"data row3 col2\" >0.209830</td>\n",
       "    </tr>\n",
       "    <tr>\n",
       "      <td id=\"T_ba4e0_row4_col0\" class=\"data row4 col0\" >St. Dev.</td>\n",
       "      <td id=\"T_ba4e0_row4_col1\" class=\"data row4 col1\" >0.152430</td>\n",
       "      <td id=\"T_ba4e0_row4_col2\" class=\"data row4 col2\" >0.120300</td>\n",
       "    </tr>\n",
       "    <tr>\n",
       "      <td id=\"T_ba4e0_row5_col0\" class=\"data row5 col0\" >Skewness</td>\n",
       "      <td id=\"T_ba4e0_row5_col1\" class=\"data row5 col1\" >0.029710</td>\n",
       "      <td id=\"T_ba4e0_row5_col2\" class=\"data row5 col2\" >0.033490</td>\n",
       "    </tr>\n",
       "    <tr>\n",
       "      <td id=\"T_ba4e0_row6_col0\" class=\"data row6 col0\" >Ex. Kurtosis</td>\n",
       "      <td id=\"T_ba4e0_row6_col1\" class=\"data row6 col1\" >-0.152100</td>\n",
       "      <td id=\"T_ba4e0_row6_col2\" class=\"data row6 col2\" >-0.033630</td>\n",
       "    </tr>\n",
       "  </tbody>\n",
       "</table>\n"
      ],
      "text/plain": [
       "<pandas.io.formats.style.Styler at 0x7f9ab01d5540>"
      ]
     },
     "execution_count": 30,
     "metadata": {},
     "output_type": "execute_result"
    }
   ],
   "source": [
    "stats_system1_df = descriptive_statistics(mated_scores1, nonmated_scores1)\n",
    "stats_system1_df.round(round_digits).style.hide_index()\n"
   ]
  },
  {
   "cell_type": "code",
   "execution_count": 31,
   "metadata": {},
   "outputs": [
    {
     "name": "stderr",
     "output_type": "stream",
     "text": [
      "/tmp/ipykernel_11916/1952787033.py:2: FutureWarning: this method is deprecated in favour of `Styler.hide(axis='index')`\n",
      "  stats_system2_df.round(round_digits).style.hide_index()\n"
     ]
    },
    {
     "data": {
      "text/html": [
       "<style type=\"text/css\">\n",
       "</style>\n",
       "<table id=\"T_4c431\">\n",
       "  <thead>\n",
       "    <tr>\n",
       "      <th id=\"T_4c431_level0_col0\" class=\"col_heading level0 col0\" >Statistic</th>\n",
       "      <th id=\"T_4c431_level0_col1\" class=\"col_heading level0 col1\" >Mated</th>\n",
       "      <th id=\"T_4c431_level0_col2\" class=\"col_heading level0 col2\" >Non-mated</th>\n",
       "    </tr>\n",
       "  </thead>\n",
       "  <tbody>\n",
       "    <tr>\n",
       "      <td id=\"T_4c431_row0_col0\" class=\"data row0 col0\" >Observations</td>\n",
       "      <td id=\"T_4c431_row0_col1\" class=\"data row0 col1\" >1722.000000</td>\n",
       "      <td id=\"T_4c431_row0_col2\" class=\"data row0 col2\" >4389122.000000</td>\n",
       "    </tr>\n",
       "    <tr>\n",
       "      <td id=\"T_4c431_row1_col0\" class=\"data row1 col0\" >Minimum</td>\n",
       "      <td id=\"T_4c431_row1_col1\" class=\"data row1 col1\" >-0.032130</td>\n",
       "      <td id=\"T_4c431_row1_col2\" class=\"data row1 col2\" >-0.320400</td>\n",
       "    </tr>\n",
       "    <tr>\n",
       "      <td id=\"T_4c431_row2_col0\" class=\"data row2 col0\" >Maximum</td>\n",
       "      <td id=\"T_4c431_row2_col1\" class=\"data row2 col1\" >0.939050</td>\n",
       "      <td id=\"T_4c431_row2_col2\" class=\"data row2 col2\" >0.933600</td>\n",
       "    </tr>\n",
       "    <tr>\n",
       "      <td id=\"T_4c431_row3_col0\" class=\"data row3 col0\" >Mean</td>\n",
       "      <td id=\"T_4c431_row3_col1\" class=\"data row3 col1\" >0.518740</td>\n",
       "      <td id=\"T_4c431_row3_col2\" class=\"data row3 col2\" >0.210680</td>\n",
       "    </tr>\n",
       "    <tr>\n",
       "      <td id=\"T_4c431_row4_col0\" class=\"data row4 col0\" >St. Dev.</td>\n",
       "      <td id=\"T_4c431_row4_col1\" class=\"data row4 col1\" >0.141830</td>\n",
       "      <td id=\"T_4c431_row4_col2\" class=\"data row4 col2\" >0.118560</td>\n",
       "    </tr>\n",
       "    <tr>\n",
       "      <td id=\"T_4c431_row5_col0\" class=\"data row5 col0\" >Skewness</td>\n",
       "      <td id=\"T_4c431_row5_col1\" class=\"data row5 col1\" >-0.207540</td>\n",
       "      <td id=\"T_4c431_row5_col2\" class=\"data row5 col2\" >0.040130</td>\n",
       "    </tr>\n",
       "    <tr>\n",
       "      <td id=\"T_4c431_row6_col0\" class=\"data row6 col0\" >Ex. Kurtosis</td>\n",
       "      <td id=\"T_4c431_row6_col1\" class=\"data row6 col1\" >0.277800</td>\n",
       "      <td id=\"T_4c431_row6_col2\" class=\"data row6 col2\" >-0.025660</td>\n",
       "    </tr>\n",
       "  </tbody>\n",
       "</table>\n"
      ],
      "text/plain": [
       "<pandas.io.formats.style.Styler at 0x7f9a62783550>"
      ]
     },
     "execution_count": 31,
     "metadata": {},
     "output_type": "execute_result"
    }
   ],
   "source": [
    "stats_system2_df = descriptive_statistics(mated_scores2, nonmated_scores2)\n",
    "stats_system2_df.round(round_digits).style.hide_index()"
   ]
  },
  {
   "cell_type": "code",
   "execution_count": 32,
   "metadata": {},
   "outputs": [
    {
     "data": {
      "image/png": "[encoded data removed]",
      "text/plain": [
       "<Figure size 1200x600 with 1 Axes>"
      ]
     },
     "metadata": {},
     "output_type": "display_data"
    }
   ],
   "source": [
    "plot_histogram(mated_scores1, nonmated_scores1, normalise=True)"
   ]
  },
  {
   "cell_type": "code",
   "execution_count": 33,
   "metadata": {},
   "outputs": [
    {
     "data": {
      "image/png": "[encoded data removed]",
      "text/plain": [
       "<Figure size 1200x600 with 1 Axes>"
      ]
     },
     "metadata": {},
     "output_type": "display_data"
    }
   ],
   "source": [
    "plot_histogram(mated_scores2, nonmated_scores2, normalise=True)"
   ]
  },
  {
   "cell_type": "markdown",
   "metadata": {},
   "source": []
  }
 ],
 "metadata": {
  "kernelspec": {
   "display_name": "best_master",
   "language": "python",
   "name": "python3"
  },
  "language_info": {
   "codemirror_mode": {
    "name": "ipython",
    "version": 3
   },
   "file_extension": ".py",
   "mimetype": "text/x-python",
   "name": "python",
   "nbconvert_exporter": "python",
   "pygments_lexer": "ipython3",
   "version": "3.10.6"
  }
 },
 "nbformat": 4,
 "nbformat_minor": 2
}
