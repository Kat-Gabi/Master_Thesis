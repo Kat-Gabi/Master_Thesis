{
 "cells": [
  {
   "cell_type": "markdown",
   "metadata": {},
   "source": [
    "## EXPERIMENT 1"
   ]
  },
  {
   "cell_type": "markdown",
   "metadata": {},
   "source": [
    "### MagFace Results\n",
    "\n",
    "This notebook loads the feature vectors from MagFace and run them through the results metrics:\n",
    "FNIR, FPIR, FND, FPD, and GARBE"
   ]
  },
  {
   "cell_type": "code",
   "execution_count": 1,
   "metadata": {},
   "outputs": [],
   "source": [
    "## Load libraries\n",
    "\n",
    "import numpy as np\n",
    "import cv2\n",
    "from matplotlib import pyplot as plt\n",
    "import torch\n",
    "import seaborn as sns\n",
    "import pandas as pd\n",
    "from sklearn.preprocessing import normalize\n",
    "import sys\n",
    "sns.set(style=\"white\") \n",
    "%matplotlib inline\n",
    "sys.path.append('../../utils') \n",
    "from MagFace_utils.MagFace_funcs import *"
   ]
  },
  {
   "cell_type": "markdown",
   "metadata": {},
   "source": [
    "### Load data"
   ]
  },
  {
   "cell_type": "code",
   "execution_count": 2,
   "metadata": {},
   "outputs": [],
   "source": [
    "a_df = pd.read_csv('../../data/adults_balanced.csv')\n",
    "a_mates = a_df.groupby(\"im_id\").agg({'im_id': ['count']})\n",
    "a_enrolled_ids = a_mates[a_mates[('im_id', 'count')] > 1].index\n",
    "a_nonmated_ids = a_mates[a_mates[('im_id', 'count')] == 1].index\n",
    "\n"
   ]
  },
  {
   "cell_type": "markdown",
   "metadata": {},
   "source": [
    "#### Adults data"
   ]
  },
  {
   "cell_type": "code",
   "execution_count": 6,
   "metadata": {},
   "outputs": [],
   "source": [
    "# Adults data - enrolled\n",
    "feature_list_adults = '../../data/feat_adults_new.list'\n",
    "\n",
    "\n",
    "### OBS brug KATS df\n",
    "#enrolled_image_names_a = df_enr[df_enr.enrolled == \"enrolled\"].img_name.to_list()\n",
    "a_df = pd.read_csv('../../data/adults_balanced.csv')\n",
    "a_mates = a_df.groupby(\"im_id\").agg({'im_id': ['count']})\n",
    "enrolled_image_names_a = a_mates[a_mates[('im_id', 'count')] > 1].index\n",
    "non_enrolled_image_names_a = a_mates[a_mates[('im_id', 'count')] == 1].index\n",
    "\n",
    "\n",
    "image_name_a_enrolled, identity_names_a_enrolled, num_ids_a_enrolled, norm_feature_vectors_a_enrolled = load_enrolled_magface_vectors(feature_list_adults, enrolled_image_names_a, canonical=False, df_c_can=None)\n",
    "\n",
    "image_name_a_non_enrolled, identity_names_a_non_enrolled, num_ids_a_non_enrolled, norm_feature_vectors_a_non_enrolled = load_magface_vectors(feature_list_adults, canonical=False, df_c_can=None)\n",
    "\n"
   ]
  },
  {
   "cell_type": "markdown",
   "metadata": {},
   "source": [
    "#### Children data"
   ]
  },
  {
   "cell_type": "code",
   "execution_count": 7,
   "metadata": {},
   "outputs": [],
   "source": [
    "# Adults data - enrolled\n",
    "feature_list_children = '../../data/feat_children.list'\n",
    "\n",
    "### OBS brug KATS df\n",
    "#enrolled_image_names_c = df_enr[df_enr.enrolled == \"enrolled\"].img_name.to_list()\n",
    "c_df = pd.read_csv('/Users/gabriellakierulff/Desktop/HCAI/speciale/Master_Thesis/data/child_balanced.csv')\n",
    "c_mates = c_df.groupby(\"im_id\").agg({'im_id': ['count']})\n",
    "enrolled_image_names_c = c_mates[c_mates[('im_id', 'count')] > 1].index\n",
    "non_enrolled_image_names_c = c_mates[c_mates[('im_id', 'count')] == 1].index\n",
    "\n",
    "image_name_c_enrolled, identity_names_c_enrolled, num_ids_c_enrolled, norm_feature_vectors_c_enrolled = load_enrolled_magface_vectors(feature_list_children, enrolled_image_names_c, canonical=False, df_c_can=None)\n",
    "\n",
    "image_name_c_non_enrolled, identity_names_c_non_enrolled, num_ids_c_non_enrolled, norm_feature_vectors_c_non_enrolled = load_magface_vectors(feature_list_children, canonical=False, df_c_can=None)\n",
    "\n"
   ]
  },
  {
   "cell_type": "markdown",
   "metadata": {},
   "source": [
    "##### Canonical children data"
   ]
  },
  {
   "cell_type": "code",
   "execution_count": null,
   "metadata": {},
   "outputs": [],
   "source": [
    "c_df_can = pd.read_csv(\"../data/OFIQ_results/canonical_children.csv\", sep=\";\")\n",
    "#enrolled_image_names_c = df_enr[df_enr.enrolled == \"enrolled\"].img_name.to_list()\n",
    "image_name_c_enrolled_can, identity_names_c_enrolled_can, num_ids_c_enrolled_can, norm_feature_vectors_c_enrolled_can = load_enrolled_magface_vectors(feature_list_children, enrolled_image_names_c, canonical=True, df_c_can=None)\n",
    "\n",
    "image_name_c_non_enrolled_can, identity_names_c_non_enrolled_can, num_ids_c_non_enrolled_can, norm_feature_vectors_c_non_enrolled_can = load_magface_vectors(feature_list_children, canonical=True, df_c_can=None)\n"
   ]
  },
  {
   "cell_type": "markdown",
   "metadata": {},
   "source": [
    "## Experiment 1.1"
   ]
  },
  {
   "cell_type": "markdown",
   "metadata": {},
   "source": [
    "### Similarity matrices\n",
    "(using nomalized feature vectors from loading above)"
   ]
  },
  {
   "cell_type": "code",
   "execution_count": null,
   "metadata": {},
   "outputs": [],
   "source": []
  }
 ],
 "metadata": {
  "kernelspec": {
   "display_name": "best_master",
   "language": "python",
   "name": "python3"
  },
  "language_info": {
   "codemirror_mode": {
    "name": "ipython",
    "version": 3
   },
   "file_extension": ".py",
   "mimetype": "text/x-python",
   "name": "python",
   "nbconvert_exporter": "python",
   "pygments_lexer": "ipython3",
   "version": "3.11.8"
  }
 },
 "nbformat": 4,
 "nbformat_minor": 2
}
