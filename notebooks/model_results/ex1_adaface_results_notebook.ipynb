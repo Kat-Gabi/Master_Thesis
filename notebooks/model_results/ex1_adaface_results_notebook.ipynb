{
 "cells": [
  {
   "cell_type": "markdown",
   "metadata": {},
   "source": [
    "## EXPERIMENT 1: AdaFace"
   ]
  },
  {
   "cell_type": "code",
   "execution_count": 1,
   "metadata": {},
   "outputs": [
    {
     "ename": "ModuleNotFoundError",
     "evalue": "No module named 'MagFace_utils.MagFace_funcs'",
     "output_type": "error",
     "traceback": [
      "\u001b[0;31m---------------------------------------------------------------------------\u001b[0m",
      "\u001b[0;31mModuleNotFoundError\u001b[0m                       Traceback (most recent call last)",
      "Cell \u001b[0;32mIn[1], line 14\u001b[0m\n\u001b[1;32m     12\u001b[0m get_ipython()\u001b[38;5;241m.\u001b[39mrun_line_magic(\u001b[38;5;124m'\u001b[39m\u001b[38;5;124mmatplotlib\u001b[39m\u001b[38;5;124m'\u001b[39m, \u001b[38;5;124m'\u001b[39m\u001b[38;5;124minline\u001b[39m\u001b[38;5;124m'\u001b[39m)\n\u001b[1;32m     13\u001b[0m sys\u001b[38;5;241m.\u001b[39mpath\u001b[38;5;241m.\u001b[39mappend(\u001b[38;5;124m'\u001b[39m\u001b[38;5;124m../../utils\u001b[39m\u001b[38;5;124m'\u001b[39m)\n\u001b[0;32m---> 14\u001b[0m \u001b[38;5;28;01mfrom\u001b[39;00m \u001b[38;5;21;01mMagFace_utils\u001b[39;00m\u001b[38;5;21;01m.\u001b[39;00m\u001b[38;5;21;01mMagFace_funcs\u001b[39;00m \u001b[38;5;28;01mimport\u001b[39;00m \u001b[38;5;241m*\u001b[39m\n\u001b[1;32m     15\u001b[0m \u001b[38;5;28;01mfrom\u001b[39;00m \u001b[38;5;21;01mData_proc_utils\u001b[39;00m\u001b[38;5;21;01m.\u001b[39;00m\u001b[38;5;21;01mData_proc_funcs\u001b[39;00m \u001b[38;5;28;01mimport\u001b[39;00m \u001b[38;5;241m*\u001b[39m\n",
      "\u001b[0;31mModuleNotFoundError\u001b[0m: No module named 'MagFace_utils.MagFace_funcs'"
     ]
    }
   ],
   "source": [
    "## Load libraries\n",
    "\n",
    "import numpy as np\n",
    "import cv2\n",
    "from matplotlib import pyplot as plt\n",
    "import torch\n",
    "import seaborn as sns\n",
    "import pandas as pd\n",
    "from sklearn.preprocessing import normalize\n",
    "import sys\n",
    "sns.set(style=\"white\")\n",
    "%matplotlib inline\n",
    "sys.path.append('../../utils')\n",
    "from MagFace_utils.MagFace_funcs import *\n",
    "from Data_proc_utils.Data_proc_funcs import *"
   ]
  },
  {
   "cell_type": "markdown",
   "metadata": {},
   "source": [
    "### AdaFace Results\n",
    "\n",
    "This notebook loads the feature vectors from MagFace and run them through the results metrics:\n",
    "FNIR, FPIR, FND, FPD, and GARBE"
   ]
  },
  {
   "cell_type": "markdown",
   "metadata": {},
   "source": [
    "### Load data"
   ]
  },
  {
   "cell_type": "code",
   "execution_count": 2,
   "metadata": {},
   "outputs": [],
   "source": [
    "# Get all features from feature lists from magface model\n",
    "feature_list_children = '../../master_thesis/saved_predictions/similarity_scores_children_full_baseline1.pt'\n",
    "feature_list_adults = '../../master_thesis/saved_predictions/similarity_scores_adults_full_baseline1.pt'\n",
    "\n",
    "image_names_c, ids_c, num_ids_c, norm_feats_c = load_adaface_vectors(feature_list_children)\n",
    "image_names_a, ids_a, num_ids_a, norm_feats_a = load_adaface_vectors(feature_list_adults)\n",
    "ids_a = [\"_\".join(x.split(\"_\")[1:]) for x in ids_a]\n",
    "\n",
    "\n",
    "# Similarity matrices from adaface - all\n",
    "sim_mat_c = np.dot(norm_feats_c, norm_feats_c.T)\n",
    "sim_mat_a = np.dot(norm_feats_a, norm_feats_a.T)\n",
    "\n",
    "# Dataframes with info, removes names not in adaface results\n",
    "children_all = pd.read_csv('../../data/YLFW_full_info_excluding_adults.csv') #erstat med den opdaterede\n",
    "children_all = children_all[children_all.image_name.isin(image_names_c)]\n",
    "adults_all = pd.read_csv('../../data/RFW_full_info_excluding_children.csv') #erstat med den opdaterede\n",
    "adults_all = adults_all[adults_all.image_name.isin(image_names_a)] # OBS, this operation because some adaface images has not been through all adults images.\n"
   ]
  },
  {
   "cell_type": "markdown",
   "metadata": {},
   "source": [
    "### GET METRICS 10 TIMES"
   ]
  },
  {
   "cell_type": "code",
   "execution_count": 3,
   "metadata": {},
   "outputs": [
    {
     "name": "stdout",
     "output_type": "stream",
     "text": [
      "FPD result:  0.6593406593406593\n",
      "FND result:  0.4350556304787593\n",
      "GARBE result, GARBE close to 1 means more unfair:  0.5471981449097093\n",
      "done\n"
     ]
    }
   ],
   "source": [
    "random_states = [1]#[1,2,3,4,5,6,7,8,9,10]\n",
    "sim_mat_dict_all_adaface_ex1_1 = {}\n",
    "FNIR_c_list=[]\n",
    "FNIR_a_list=[]\n",
    "FPIR_c_list=[]\n",
    "FPIR_a_list=[]\n",
    "FPD_list=[]\n",
    "FND_list=[]\n",
    "GARBE_list=[]\n",
    "\n",
    "for random_state_i in random_states:\n",
    "\n",
    "    ### Load children and adults balanced data ###\n",
    "    children_balanced_df_i = balance_child_data(children_all, print_stats=False, random_state=random_state_i)\n",
    "    adults_balanced_df_i = balance_adults_data_enrolled(children_balanced_df_i, adults_all, print_stats=False, random_state=random_state_i)\n",
    "\n",
    "\n",
    "    ### All reference image names, enrolled and non-enrolled image names - children ###\n",
    "    c_mates = children_balanced_df_i.groupby(\"identity_name\").agg({'identity_name': ['count']})\n",
    "    enrolled_identity_names_c = c_mates[c_mates[('identity_name', 'count')] > 1].index\n",
    "    enrolled_image_names_c = list(children_balanced_df_i[children_balanced_df_i[\"identity_name\"].isin(enrolled_identity_names_c)].image_name)\n",
    "    non_enrolled_identity_names_c = c_mates[c_mates[('identity_name', 'count')] == 1].index\n",
    "    non_enrolled_image_names_c = list(children_balanced_df_i[children_balanced_df_i[\"identity_name\"].isin(non_enrolled_identity_names_c)].image_name)\n",
    "    all_reference_image_names_c = list(children_balanced_df_i.image_name)\n",
    "\n",
    "    ### All reference image names, enrolled and non-enrolled image names - adults ###\n",
    "    a_mates = adults_balanced_df_i.groupby(\"identity_name\").agg({'identity_name': ['count']})\n",
    "    enrolled_identity_names_a = a_mates[a_mates[('identity_name', 'count')] > 1].index\n",
    "    enrolled_image_names_a = list(adults_balanced_df_i[adults_balanced_df_i[\"identity_name\"].isin(enrolled_identity_names_a)].image_name)\n",
    "    non_enrolled_identity_names_a = a_mates[a_mates[('identity_name', 'count')] == 1].index\n",
    "    non_enrolled_image_names_a = list(adults_balanced_df_i[adults_balanced_df_i[\"identity_name\"].isin(non_enrolled_identity_names_a)].image_name)\n",
    "    all_reference_image_names_a = list(adults_balanced_df_i.image_name)\n",
    "\n",
    "    ### Similarity matrices for ids in reference database ###\n",
    "    indices_c_all_reference = [image_names_c.index(name) for name in all_reference_image_names_c]\n",
    "    indices_a_all_reference = [image_names_a.index(name) for name in all_reference_image_names_a]\n",
    "\n",
    "    # Extract corresponding columns from the similarity matrix\n",
    "    sim_mat_c_reference_cols = sim_mat_c[:, indices_c_all_reference]\n",
    "    sim_mat_a_reference_cols = sim_mat_a[:, indices_a_all_reference]\n",
    "\n",
    "    # Extract corresponding rows from the numerical ids\n",
    "    num_ids_c_reference = num_ids_c[indices_c_all_reference]\n",
    "    num_ids_a_reference = num_ids_a[indices_a_all_reference]\n",
    "\n",
    "\n",
    "    ### Similarity matrices for non-enrolled ids ###\n",
    "    # Get indices of all feature and numerical id elements that are non-enrolled  ids\n",
    "    indices_c_non_enrolled = [image_names_c.index(name) for name in non_enrolled_image_names_c]\n",
    "    indices_a_non_enrolled = [image_names_a.index(name) for name in non_enrolled_image_names_a]\n",
    "\n",
    "\n",
    "    # Extract corresponding rows from the similarity matrix\n",
    "    sim_mat_c_non_enrolled = sim_mat_c_reference_cols[indices_c_non_enrolled]\n",
    "    sim_mat_a_non_enrolled = sim_mat_a_reference_cols[indices_a_non_enrolled]\n",
    "\n",
    "    # Extract corresponding rows from the numerical ids\n",
    "    num_ids_c_non_enrolled = num_ids_c[indices_c_non_enrolled]\n",
    "    num_ids_a_non_enrolled = num_ids_a[indices_a_non_enrolled]\n",
    "\n",
    "\n",
    "    ### Similarity matrices for enrolled ids ###\n",
    "    # Get indices of all feature and numerical id elements that are enrolled ids\n",
    "    indices_c_enrolled = [image_names_c.index(name) for name in enrolled_image_names_c]\n",
    "    indices_a_enrolled = [image_names_a.index(name) for name in enrolled_image_names_a]\n",
    "\n",
    "    # Extract corresponding rows from the similarity matrix\n",
    "    sim_mat_c_enrolled = sim_mat_c[np.ix_(indices_c_enrolled, indices_c_enrolled)] # only enrolled columns and rows\n",
    "    sim_mat_a_enrolled = sim_mat_a[np.ix_(indices_a_enrolled, indices_a_enrolled)]\n",
    "\n",
    "    # Extract corresponding rows from the numerical ids\n",
    "    num_ids_c_enrolled = num_ids_c[indices_c_enrolled]\n",
    "    num_ids_a_enrolled = num_ids_a[indices_a_enrolled]\n",
    "\n",
    "\n",
    "    ### DET THINGS ###\n",
    "    thold = 0.50\n",
    "\n",
    "    ### Evaluation metrics ###\n",
    "    # FNIR\n",
    "    FNIR_c, sim_mat_c_enrolled = compute_fnir(sim_mat_c_enrolled, sim_mat_c, enrolled_identity_names_c, num_ids_c_enrolled, ids_c, thold=thold)\n",
    "    FNIR_a, sim_mat_a_enrolled = compute_fnir(sim_mat_a_enrolled, sim_mat_a, enrolled_identity_names_a, num_ids_a_enrolled, ids_a, thold=thold)\n",
    "    # FPIR\n",
    "    FPIR_c = compute_fpir(sim_mat_c_non_enrolled, num_ids_c_non_enrolled, num_ids_c_reference, thold=thold)\n",
    "    FPIR_a = compute_fpir(sim_mat_a_non_enrolled, num_ids_a_non_enrolled, num_ids_a_reference, thold=thold)\n",
    "\n",
    "\n",
    "    # OBS maybe compute Garbe outside funtion to choose a good alpha?\n",
    "    alpha_garbe = 0.5\n",
    "    FPD_i, FND_i, GARBE_i = GARBE(FNIR_c, FNIR_a, FPIR_c, FPIR_a, alpha=alpha_garbe)\n",
    "\n",
    "    FNIR_c_list.append(FNIR_c)\n",
    "    FNIR_a_list.append(FNIR_a)\n",
    "    FPIR_c_list.append(FPIR_c)\n",
    "    FPIR_a_list.append(FPIR_a)\n",
    "    FPD_list.append(FPD_i)\n",
    "    FND_list.append(FND_i)\n",
    "    GARBE_list.append(GARBE_i)\n",
    "\n",
    "    sim_mat_dict_all_adaface_ex1_1['sim_mat_c_enrolled_iteration_{}'.format(random_state_i)]=sim_mat_c_enrolled\n",
    "    sim_mat_dict_all_adaface_ex1_1['sim_mat_a_enrolled_iteration_{}'.format(random_state_i)]=sim_mat_a_enrolled\n",
    "    sim_mat_dict_all_adaface_ex1_1['sim_mat_c_non_enrolled_iteration_{}'.format(random_state_i)]=remove_ones(sim_mat_c_non_enrolled)\n",
    "    sim_mat_dict_all_adaface_ex1_1['sim_mat_a_non_enrolled_iteration_{}'.format(random_state_i)]=remove_ones(sim_mat_a_non_enrolled)\n",
    "\n",
    "\n",
    "    print(\"done\")\n",
    "\n",
    "# Create a DataFrame from the lists\n",
    "data = {'Iteration': random_states,'FNIR_c': FNIR_c_list, 'FNIR_a': FNIR_a_list, \"FPIR_c\": FPIR_c_list, \"FPIR_a\": FPIR_a_list, \"FPD\": FPD_list, \"FND\": FND_list, \"GARBE\": GARBE_list, \"Threshold\": thold}\n",
    "df_all_results = pd.DataFrame(data)\n"
   ]
  },
  {
   "cell_type": "code",
   "execution_count": 4,
   "metadata": {},
   "outputs": [
    {
     "data": {
      "text/html": [
       "<div>\n",
       "<style scoped>\n",
       "    .dataframe tbody tr th:only-of-type {\n",
       "        vertical-align: middle;\n",
       "    }\n",
       "\n",
       "    .dataframe tbody tr th {\n",
       "        vertical-align: top;\n",
       "    }\n",
       "\n",
       "    .dataframe thead th {\n",
       "        text-align: right;\n",
       "    }\n",
       "</style>\n",
       "<table border=\"1\" class=\"dataframe\">\n",
       "  <thead>\n",
       "    <tr style=\"text-align: right;\">\n",
       "      <th></th>\n",
       "      <th>Iteration</th>\n",
       "      <th>FNIR_c</th>\n",
       "      <th>FNIR_a</th>\n",
       "      <th>FPIR_c</th>\n",
       "      <th>FPIR_a</th>\n",
       "      <th>FPD</th>\n",
       "      <th>FND</th>\n",
       "      <th>GARBE</th>\n",
       "      <th>Threshold</th>\n",
       "    </tr>\n",
       "  </thead>\n",
       "  <tbody>\n",
       "    <tr>\n",
       "      <th>0</th>\n",
       "      <td>1</td>\n",
       "      <td>0.374241</td>\n",
       "      <td>0.860215</td>\n",
       "      <td>0.441718</td>\n",
       "      <td>0.669939</td>\n",
       "      <td>0.659341</td>\n",
       "      <td>0.435056</td>\n",
       "      <td>0.547198</td>\n",
       "      <td>0.5</td>\n",
       "    </tr>\n",
       "  </tbody>\n",
       "</table>\n",
       "</div>"
      ],
      "text/plain": [
       "   Iteration    FNIR_c    FNIR_a    FPIR_c    FPIR_a       FPD       FND  \\\n",
       "0          1  0.374241  0.860215  0.441718  0.669939  0.659341  0.435056   \n",
       "\n",
       "      GARBE  Threshold  \n",
       "0  0.547198        0.5  "
      ]
     },
     "execution_count": 4,
     "metadata": {},
     "output_type": "execute_result"
    }
   ],
   "source": [
    "df_all_results #0.8,"
   ]
  },
  {
   "cell_type": "markdown",
   "metadata": {},
   "source": [
    "##### From DET utils - check import"
   ]
  },
  {
   "cell_type": "code",
   "execution_count": 5,
   "metadata": {},
   "outputs": [],
   "source": [
    "from scipy.stats import describe, gaussian_kde\n",
    "import math\n",
    "\n",
    "def descriptive_statistics(mated_scores, nonmated_scores):\n",
    "    stats_labels = [\"Observations\", \"Minimum\", \"Maximum\", \"Mean\", \"St. Dev.\", \"Skewness\", \"Ex. Kurtosis\"]\n",
    "    mated_stats = describe(mated_scores)\n",
    "    mated_stats = [mated_stats.nobs, mated_stats.minmax[0], mated_stats.minmax[1], mated_stats.mean, math.sqrt(mated_stats.variance), mated_stats.skewness, mated_stats.kurtosis]\n",
    "    nonmated_stats = describe(nonmated_scores)\n",
    "    nonmated_stats = [nonmated_stats.nobs, nonmated_stats.minmax[0], nonmated_stats.minmax[1], nonmated_stats.mean, math.sqrt(nonmated_stats.variance), nonmated_stats.skewness, nonmated_stats.kurtosis]\n",
    "\n",
    "    stats_system_df = pd.DataFrame(np.array([stats_labels, mated_stats, nonmated_stats]).T, columns=[\"Statistic\", \"Mated\", \"Non-mated\"])\n",
    "    stats_system_df = stats_system_df.astype({\"Statistic\": str, \"Mated\": float, \"Non-mated\": float})\n",
    "    return stats_system_df"
   ]
  },
  {
   "cell_type": "code",
   "execution_count": 14,
   "metadata": {},
   "outputs": [
    {
     "data": {
      "text/html": [
       "<div>\n",
       "<style scoped>\n",
       "    .dataframe tbody tr th:only-of-type {\n",
       "        vertical-align: middle;\n",
       "    }\n",
       "\n",
       "    .dataframe tbody tr th {\n",
       "        vertical-align: top;\n",
       "    }\n",
       "\n",
       "    .dataframe thead th {\n",
       "        text-align: right;\n",
       "    }\n",
       "</style>\n",
       "<table border=\"1\" class=\"dataframe\">\n",
       "  <thead>\n",
       "    <tr style=\"text-align: right;\">\n",
       "      <th></th>\n",
       "      <th>Statistic</th>\n",
       "      <th>Mated</th>\n",
       "      <th>Non-mated</th>\n",
       "    </tr>\n",
       "  </thead>\n",
       "  <tbody>\n",
       "    <tr>\n",
       "      <th>0</th>\n",
       "      <td>Observations</td>\n",
       "      <td>4710.000000</td>\n",
       "      <td>2.179310e+06</td>\n",
       "    </tr>\n",
       "    <tr>\n",
       "      <th>1</th>\n",
       "      <td>Minimum</td>\n",
       "      <td>-0.096158</td>\n",
       "      <td>-3.345173e-01</td>\n",
       "    </tr>\n",
       "    <tr>\n",
       "      <th>2</th>\n",
       "      <td>Maximum</td>\n",
       "      <td>0.975974</td>\n",
       "      <td>7.257347e-01</td>\n",
       "    </tr>\n",
       "    <tr>\n",
       "      <th>3</th>\n",
       "      <td>Mean</td>\n",
       "      <td>0.429120</td>\n",
       "      <td>1.889355e-01</td>\n",
       "    </tr>\n",
       "    <tr>\n",
       "      <th>4</th>\n",
       "      <td>St. Dev.</td>\n",
       "      <td>0.157334</td>\n",
       "      <td>1.126055e-01</td>\n",
       "    </tr>\n",
       "    <tr>\n",
       "      <th>5</th>\n",
       "      <td>Skewness</td>\n",
       "      <td>0.098204</td>\n",
       "      <td>1.206547e-01</td>\n",
       "    </tr>\n",
       "    <tr>\n",
       "      <th>6</th>\n",
       "      <td>Ex. Kurtosis</td>\n",
       "      <td>-0.001775</td>\n",
       "      <td>2.609833e-02</td>\n",
       "    </tr>\n",
       "  </tbody>\n",
       "</table>\n",
       "</div>"
      ],
      "text/plain": [
       "      Statistic        Mated     Non-mated\n",
       "0  Observations  4710.000000  2.179310e+06\n",
       "1       Minimum    -0.096158 -3.345173e-01\n",
       "2       Maximum     0.975974  7.257347e-01\n",
       "3          Mean     0.429120  1.889355e-01\n",
       "4      St. Dev.     0.157334  1.126055e-01\n",
       "5      Skewness     0.098204  1.206547e-01\n",
       "6  Ex. Kurtosis    -0.001775  2.609833e-02"
      ]
     },
     "metadata": {},
     "output_type": "display_data"
    }
   ],
   "source": [
    "mated_scores1 = sim_mat_a_enrolled\n",
    "nonmated_scores1 = remove_ones(sim_mat_a_non_enrolled)\n",
    "scores_type1 = \"similarity\"\n",
    "stats_system1_df = descriptive_statistics(mated_scores1, nonmated_scores1)\n",
    "display(stats_system1_df)"
   ]
  },
  {
   "cell_type": "code",
   "execution_count": 15,
   "metadata": {},
   "outputs": [],
   "source": [
    "mated_colour = \"green\"\n",
    "mated_label = \"Mated scores\"\n",
    "nonmated_colour = \"red\"\n",
    "nonmated_label = \"Non-mated scores\"\n",
    "\n",
    "figure_size = (12,6)\n",
    "alpha_shade = 0.25\n",
    "alpha_fill = 1.0\n",
    "linewidth = 2\n",
    "legend_loc = \"upper left\"\n",
    "legend_anchor = (1.0, 1.02)\n",
    "legend_cols = 1\n",
    "legend_fontsize = 12\n",
    "label_fontsize = 16\n",
    "\n",
    "threshold_colour = \"black\"\n",
    "threshold_style = \"--\"\n",
    "round_digits = 5\n",
    "sns.set(style=\"white\", palette=\"muted\", color_codes=True)\n",
    "plt.rc(\"axes\", axisbelow=True)"
   ]
  },
  {
   "cell_type": "code",
   "execution_count": 16,
   "metadata": {},
   "outputs": [],
   "source": [
    "def plot_histogram(mated_scores, nonmated_scores, normalise=True, savename=None):\n",
    "    def normalise_scores(distribution):\n",
    "        return np.ones_like(distribution) / len(distribution)\n",
    "    plt.figure(figsize=figure_size)\n",
    "    if normalise:\n",
    "        plt.hist(mated_scores, bins=50, weights=normalise_scores(mated_scores), color='red', alpha=0.5, label=mated_label)\n",
    "        plt.hist(nonmated_scores, bins=30, weights=normalise_scores(nonmated_scores), color='green', alpha=0.5, label=nonmated_label)\n",
    "        xlabel = \"Probability Density\"\n",
    "    else:\n",
    "        plt.hist(mated_scores, bins=50, color='red', alpha=0.5, label=mated_label)\n",
    "        plt.hist(nonmated_scores, bins=30, color='green', alpha=0.5, label=nonmated_label)\n",
    "        xlabel = \"Count\"\n",
    "    plt.xlabel(\"Comparison Score\", size=label_fontsize)\n",
    "    plt.ylabel(xlabel, size=label_fontsize)\n",
    "    plt.grid(True)\n",
    "    plt.legend(loc=legend_loc, bbox_to_anchor=legend_anchor, ncol=legend_cols, fontsize=legend_fontsize)\n",
    "\n",
    "    if savename is not None:\n",
    "        plt.savefig(savename, bbox_inches=\"tight\")\n",
    "        plt.cla()\n",
    "        plt.clf()\n",
    "        plt.close()\n",
    "    else:\n",
    "        plt.show()"
   ]
  },
  {
   "cell_type": "code",
   "execution_count": 17,
   "metadata": {},
   "outputs": [
    {
     "data": {
      "image/png": "[encoded data removed]",
      "text/plain": [
       "<Figure size 1200x600 with 1 Axes>"
      ]
     },
     "metadata": {},
     "output_type": "display_data"
    }
   ],
   "source": [
    "\n",
    "plot_histogram(mated_scores1, nonmated_scores1, normalise=True)\n"
   ]
  },
  {
   "cell_type": "markdown",
   "metadata": {},
   "source": [
    "### Experiment 1.2: Canonical, non-canonical"
   ]
  },
  {
   "cell_type": "code",
   "execution_count": 18,
   "metadata": {},
   "outputs": [],
   "source": [
    "df_canonical = pd.read_csv(\"../../data/OFIQ_results/canonical_children_final.csv\", sep=\";\")"
   ]
  },
  {
   "cell_type": "code",
   "execution_count": 19,
   "metadata": {},
   "outputs": [],
   "source": [
    "image_names_can, ids_can, num_ids_can, norm_feats_can = load_adaface_vectors(feature_list_children, canonical=True, df_c_can=df_canonical)\n",
    "# Similarity matrices from adaface - canonical\n",
    "sim_mat_canonical = np.dot(norm_feats_can, norm_feats_can.T)\n"
   ]
  },
  {
   "cell_type": "code",
   "execution_count": 21,
   "metadata": {},
   "outputs": [
    {
     "name": "stdout",
     "output_type": "stream",
     "text": [
      "done\n"
     ]
    }
   ],
   "source": [
    "random_states = [3]#[1,2,3,4,5,6,7,8,9,10]\n",
    "sim_mat_dict_all_adaface_ex1_2 = {}\n",
    "FNIR_c_list=[]\n",
    "FNIR_can_list=[]\n",
    "FPIR_c_list=[]\n",
    "FPIR_can_list=[]\n",
    "\n",
    "\n",
    "for random_state_i in random_states:\n",
    "\n",
    "    ### Load children and canonical balanced data ###\n",
    "    children_balanced_df_i = balance_child_data(children_all, print_stats=False, random_state=random_state_i)\n",
    "    canonical_names = list(df_canonical.Filename.apply(lambda x: x[:-4]))\n",
    "    canonical_children_balanced_df_i = children_balanced_df_i[children_balanced_df_i.image_name.isin(canonical_names)]\n",
    "\n",
    "    ### All reference image names, enrolled and non-enrolled image names - children ###\n",
    "    c_mates = children_balanced_df_i.groupby(\"identity_name\").agg({'identity_name': ['count']})\n",
    "    enrolled_identity_names_c = c_mates[c_mates[('identity_name', 'count')] > 1].index\n",
    "    enrolled_image_names_c = list(children_balanced_df_i[children_balanced_df_i[\"identity_name\"].isin(enrolled_identity_names_c)].image_name)\n",
    "    non_enrolled_identity_names_c = c_mates[c_mates[('identity_name', 'count')] == 1].index\n",
    "    non_enrolled_image_names_c = list(children_balanced_df_i[children_balanced_df_i[\"identity_name\"].isin(non_enrolled_identity_names_c)].image_name)\n",
    "    all_reference_image_names_c = list(children_balanced_df_i.image_name)\n",
    "\n",
    "\n",
    "    ### All reference image names, enrolled and non-enrolled image names - canonical ###\n",
    "    can_mates = canonical_children_balanced_df_i.groupby(\"identity_name\").agg({'identity_name': ['count']})\n",
    "    enrolled_identity_names_can = can_mates[can_mates[('identity_name', 'count')] > 1].index\n",
    "    enrolled_image_names_can = list(canonical_children_balanced_df_i[canonical_children_balanced_df_i[\"identity_name\"].isin(enrolled_identity_names_can)].image_name)\n",
    "    non_enrolled_identity_names_can = can_mates[can_mates[('identity_name', 'count')] == 1].index\n",
    "    non_enrolled_image_names_can = list(canonical_children_balanced_df_i[canonical_children_balanced_df_i[\"identity_name\"].isin(non_enrolled_identity_names_can)].image_name)\n",
    "    all_reference_image_names_can = list(canonical_children_balanced_df_i.image_name)\n",
    "\n",
    "\n",
    "    ### Similarity matrices for ids in reference database ###\n",
    "    indices_c_all_reference = [image_names_c.index(name) for name in all_reference_image_names_c]\n",
    "    indices_can_all_reference = [image_names_can.index(name) for name in all_reference_image_names_can]\n",
    "\n",
    "    # Extract corresponding columns from the similarity matrix\n",
    "    sim_mat_c_reference_cols = sim_mat_c[:, indices_c_all_reference]\n",
    "    sim_mat_can_reference_cols = sim_mat_canonical[:, indices_can_all_reference]\n",
    "\n",
    "    # Extract corresponding rows from the numerical ids\n",
    "    num_ids_c_reference = num_ids_c[indices_c_all_reference]\n",
    "    num_ids_can_reference = num_ids_can[indices_can_all_reference]\n",
    "\n",
    "\n",
    "    ### Similarity matrices for non-enrolled ids ###\n",
    "    # Get indices of all feature and numerical id elements that are non-enrolled  ids\n",
    "    indices_c_non_enrolled = [image_names_c.index(name) for name in non_enrolled_image_names_c]\n",
    "    indices_can_non_enrolled = [image_names_can.index(name) for name in non_enrolled_image_names_can]\n",
    "\n",
    "    # Extract corresponding rows from the similarity matrix\n",
    "    sim_mat_c_non_enrolled = sim_mat_c_reference_cols[indices_c_non_enrolled]\n",
    "    sim_mat_can_non_enrolled = sim_mat_can_reference_cols[indices_can_non_enrolled]\n",
    "\n",
    "    # Extract corresponding rows from the numerical ids\n",
    "    num_ids_c_non_enrolled = num_ids_c[indices_c_non_enrolled]\n",
    "    num_ids_can_non_enrolled = num_ids_can[indices_can_non_enrolled]\n",
    "\n",
    "    ### Similarity matrices for enrolled ids ###\n",
    "    # Get indices of all feature and numerical id elements that are enrolled ids\n",
    "    indices_c_enrolled = [image_names_c.index(name) for name in enrolled_image_names_c]\n",
    "    indices_can_enrolled = [image_names_can.index(name) for name in enrolled_image_names_can]\n",
    "\n",
    "    # Extract corresponding rows from the similarity matrix\n",
    "    sim_mat_c_enrolled = sim_mat_c[np.ix_(indices_c_enrolled, indices_c_enrolled)] # only enrolled columns and rows\n",
    "    sim_mat_can_enrolled = sim_mat_a[np.ix_(indices_can_enrolled, indices_can_enrolled)]\n",
    "\n",
    "    # Extract corresponding rows from the numerical ids\n",
    "    num_ids_c_enrolled = num_ids_c[indices_c_enrolled]\n",
    "    num_ids_can_enrolled = num_ids_can[indices_can_enrolled]\n",
    "\n",
    "\n",
    "    ### DET THINGS ###\n",
    "    thold = 0.43\n",
    "\n",
    "    ### Evaluation metrics ###\n",
    "    # FNIR\n",
    "    FNIR_c, sim_mat_c_enrolled = compute_fnir(sim_mat_c_enrolled, sim_mat_c, enrolled_identity_names_c, num_ids_c_enrolled, ids_c, thold=thold)\n",
    "    FNIR_can, sim_mat_can_enrolled = compute_fnir(sim_mat_can_enrolled, sim_mat_canonical, enrolled_identity_names_can, num_ids_can_enrolled, ids_can, thold=thold)\n",
    "    # FPIR\n",
    "    FPIR_c = compute_fpir(sim_mat_c_non_enrolled, num_ids_c_non_enrolled, num_ids_c_reference, thold=thold)\n",
    "    FPIR_can = compute_fpir(sim_mat_can_non_enrolled, num_ids_can_non_enrolled, num_ids_can_reference, thold=thold)\n",
    "\n",
    "\n",
    "    FNIR_c_list.append(FNIR_c)\n",
    "    FNIR_can_list.append(FNIR_can)\n",
    "    FPIR_c_list.append(FPIR_c)\n",
    "    FPIR_can_list.append(FPIR_can)\n",
    "\n",
    "\n",
    "    sim_mat_dict_all_adaface_ex1_2['sim_mat_c_enrolled_iteration_{}'.format(random_state_i)]=sim_mat_c_enrolled\n",
    "    sim_mat_dict_all_adaface_ex1_2['sim_mat_can_enrolled_iteration_{}'.format(random_state_i)]=sim_mat_can_enrolled\n",
    "    sim_mat_dict_all_adaface_ex1_2['sim_mat_c_non_enrolled_iteration_{}'.format(random_state_i)]=remove_ones(sim_mat_c_non_enrolled)\n",
    "    sim_mat_dict_all_adaface_ex1_2['sim_mat_can_non_enrolled_iteration_{}'.format(random_state_i)]=remove_ones(sim_mat_can_non_enrolled)\n",
    "\n",
    "\n",
    "    print(\"done\")\n",
    "\n",
    "# Create a DataFrame from the lists\n",
    "data_can = {'Iteration': random_states,'FNIR_c': FNIR_c_list, 'FNIR_can': FNIR_can_list, \"FPIR_c\": FPIR_c_list, \"FPIR_can\": FPIR_can_list, \"Threshold\": thold}\n",
    "df_can_results = pd.DataFrame(data_can)\n"
   ]
  },
  {
   "cell_type": "code",
   "execution_count": 8,
   "metadata": {},
   "outputs": [
    {
     "data": {
      "text/html": [
       "<div>\n",
       "<style scoped>\n",
       "    .dataframe tbody tr th:only-of-type {\n",
       "        vertical-align: middle;\n",
       "    }\n",
       "\n",
       "    .dataframe tbody tr th {\n",
       "        vertical-align: top;\n",
       "    }\n",
       "\n",
       "    .dataframe thead th {\n",
       "        text-align: right;\n",
       "    }\n",
       "</style>\n",
       "<table border=\"1\" class=\"dataframe\">\n",
       "  <thead>\n",
       "    <tr style=\"text-align: right;\">\n",
       "      <th></th>\n",
       "      <th>Iteration</th>\n",
       "      <th>FNIR_c</th>\n",
       "      <th>FNIR_can</th>\n",
       "      <th>FPIR_c</th>\n",
       "      <th>FPIR_can</th>\n",
       "    </tr>\n",
       "  </thead>\n",
       "  <tbody>\n",
       "    <tr>\n",
       "      <th>0</th>\n",
       "      <td>3</td>\n",
       "      <td>0.228193</td>\n",
       "      <td>0.82768</td>\n",
       "      <td>0.722543</td>\n",
       "      <td>0.702465</td>\n",
       "    </tr>\n",
       "  </tbody>\n",
       "</table>\n",
       "</div>"
      ],
      "text/plain": [
       "   Iteration    FNIR_c  FNIR_can    FPIR_c  FPIR_can\n",
       "0          3  0.228193   0.82768  0.722543  0.702465"
      ]
     },
     "execution_count": 8,
     "metadata": {},
     "output_type": "execute_result"
    }
   ],
   "source": [
    "df_all_results"
   ]
  },
  {
   "cell_type": "code",
   "execution_count": 22,
   "metadata": {},
   "outputs": [
    {
     "data": {
      "text/plain": [
       "{'sim_mat_c_enrolled_iteration_3': array([0.5901362 , 0.5901362 , 0.53564537, ..., 0.6373243 , 0.69479847,\n",
       "        0.6947131 ], dtype=float32),\n",
       " 'sim_mat_can_enrolled_iteration_3': array([0.5901362 , 0.5901362 , 0.82328725, ..., 0.8431181 , 0.75716245,\n",
       "        0.8431181 ], dtype=float32),\n",
       " 'sim_mat_c_non_enrolled_iteration_3': array([ 0.19151929, -0.15339991,  0.01917464, ...,  0.06998728,\n",
       "        -0.02960831,  0.06521846], dtype=float32),\n",
       " 'sim_mat_can_non_enrolled_iteration_3': array([ 0.19151929, -0.15339991,  0.06253705, ...,  0.29800534,\n",
       "         0.23421547,  0.12478343], dtype=float32)}"
      ]
     },
     "execution_count": 22,
     "metadata": {},
     "output_type": "execute_result"
    }
   ],
   "source": [
    "sim_mat_dict_all_adaface_ex1_2"
   ]
  },
  {
   "cell_type": "code",
   "execution_count": null,
   "metadata": {},
   "outputs": [],
   "source": []
  }
 ],
 "metadata": {
  "kernelspec": {
   "display_name": "best_master",
   "language": "python",
   "name": "python3"
  },
  "language_info": {
   "codemirror_mode": {
    "name": "ipython",
    "version": 3
   },
   "file_extension": ".py",
   "mimetype": "text/x-python",
   "name": "python",
   "nbconvert_exporter": "python",
   "pygments_lexer": "ipython3",
   "version": "3.10.6"
  }
 },
 "nbformat": 4,
 "nbformat_minor": 2
}
