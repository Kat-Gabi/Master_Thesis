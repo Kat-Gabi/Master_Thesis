{
 "cells": [
  {
   "cell_type": "markdown",
   "metadata": {},
   "source": [
    "# Statistical tests "
   ]
  },
  {
   "cell_type": "markdown",
   "metadata": {},
   "source": [
    "# Magface 1.1 FNIR "
   ]
  },
  {
   "cell_type": "code",
   "execution_count": 1,
   "metadata": {},
   "outputs": [
    {
     "name": "stdout",
     "output_type": "stream",
     "text": [
      "T-statistic: 16.483869505641145\n",
      "P-value: 4.959422699384852e-08\n"
     ]
    }
   ],
   "source": [
    "import pandas as pd\n",
    "from scipy import stats\n",
    "\n",
    "# Assuming you have the DataFrame with the following data\n",
    "data = {\n",
    "    'Iter': [1, 2, 3, 4, 5, 6, 7, 8, 9, 10],\n",
    "    'FNIR_c': [0.0534, 0.040438, 0.042005, 0.051270, 0.055046, 0.046968, 0.039599, 0.044831, 0.042976, 0.049977],\n",
    "    'FNIR_a': [0.0155, 0.014144, 0.017344, 0.013438, 0.012785, 0.015214, 0.016575, 0.012862, 0.009901, 0.016667]\n",
    "}\n",
    "\n",
    "df = pd.DataFrame(data)\n",
    "\n",
    "# Performing the paired t-test\n",
    "t_statistic, p_value = stats.ttest_rel(df['FNIR_c'], df['FNIR_a'])\n",
    "\n",
    "# Output the results\n",
    "print(f'T-statistic: {t_statistic}')\n",
    "print(f'P-value: {p_value}')\n"
   ]
  },
  {
   "cell_type": "markdown",
   "metadata": {},
   "source": [
    "# Adaface 1.1 FNIR\n"
   ]
  },
  {
   "cell_type": "markdown",
   "metadata": {},
   "source": []
  },
  {
   "cell_type": "markdown",
   "metadata": {},
   "source": [
    "# Magface 1.1 FND \n"
   ]
  },
  {
   "cell_type": "code",
   "execution_count": 20,
   "metadata": {},
   "outputs": [
    {
     "name": "stdout",
     "output_type": "stream",
     "text": [
      "Mean: 1.8581818288654393, Std Dev: 0.3939755911565259, Confidence Interval: (1.5763486689407797, 2.140014988790099)\n",
      "Mean: 2.1289302360466342, Std Dev: 0.4642592498893943, Confidence Interval: (1.7968191754692895, 2.461041296623979)\n"
     ]
    }
   ],
   "source": [
    "import numpy as np\n",
    "import scipy.stats as stats\n",
    "import pandas as pd\n",
    "\n",
    "# Load data\n",
    "mag_fnd_baseline = pd.read_csv('df_all_results_mag_1_1.csv').FND\n",
    "ada_fnd_baseline = pd.read_csv('df_all_results_ada_1_1.csv').FND\n",
    "\n",
    "# List of FND values\n",
    "fnd_values = [mag_fnd_baseline, ada_fnd_baseline]\n",
    "\n",
    "for fnd_data in fnd_values:\n",
    "    # print(fnd_data)\n",
    "    # Calculate the mean and standard deviation\n",
    "    mean_fnd = np.mean(fnd_data)\n",
    "    std_fnd = np.std(fnd_data, ddof=1)  # sample standard deviation\n",
    "\n",
    "    # Compute the confidence interval\n",
    "    confidence_level = 0.95\n",
    "    degrees_freedom = len(fnd_data) - 1\n",
    "    confidence_interval = stats.t.interval(confidence_level, degrees_freedom, mean_fnd, std_fnd / np.sqrt(len(fnd_data)))\n",
    "\n",
    "    print(f\"Mean: {mean_fnd}, Std Dev: {std_fnd}, Confidence Interval: {confidence_interval}\")\n"
   ]
  },
  {
   "cell_type": "code",
   "execution_count": 21,
   "metadata": {},
   "outputs": [
    {
     "data": {
      "text/plain": [
       "(-1.4061230543683547, 0.17671609737077149)"
      ]
     },
     "execution_count": 21,
     "metadata": {},
     "output_type": "execute_result"
    }
   ],
   "source": [
    "import scipy.stats as stats\n",
    "\n",
    "\n",
    "\n",
    "# Perform an independent two-sample t-test\n",
    "t_statistic, p_value = stats.ttest_ind(mag_fnd_baseline, ada_fnd_baseline)\n",
    "\n",
    "t_statistic, p_value\n"
   ]
  },
  {
   "cell_type": "code",
   "execution_count": 13,
   "metadata": {},
   "outputs": [
    {
     "data": {
      "text/plain": [
       "(12.06298174549398, 4.638434459815163e-10)"
      ]
     },
     "execution_count": 13,
     "metadata": {},
     "output_type": "execute_result"
    }
   ],
   "source": [
    "mag_fnir_baseline = pd.read_csv('df_all_results_mag_1_1.csv')\n",
    "ada_fnir_baseline = pd.read_csv('df_all_results_ada_1_1.csv')\n",
    "mag_fnir_baseline_c =mag_fnir_baseline.FNIR_c\n",
    "ada_fnir_baseline_c =ada_fnir_baseline.FNIR_c\n",
    "mag_fnir_baseline_a =mag_fnir_baseline.FNIR_a\n",
    "ada_fnir_baseline_a =ada_fnir_baseline.FNIR_a\n",
    "\n",
    "# Perform an independent two-sample t-test\n",
    "t_statistic, p_value = stats.ttest_ind(mag_fnir_baseline_c, mag_fnir_baseline_a)\n",
    "t_statistic, p_value = stats.ttest_ind(ada_fnir_baseline_c, ada_fnir_baseline_a)\n",
    "\n",
    "t_statistic, p_value"
   ]
  },
  {
   "cell_type": "markdown",
   "metadata": {},
   "source": []
  },
  {
   "cell_type": "markdown",
   "metadata": {},
   "source": [
    "# Canonical children 1.2\n"
   ]
  },
  {
   "cell_type": "code",
   "execution_count": 18,
   "metadata": {},
   "outputs": [
    {
     "name": "stdout",
     "output_type": "stream",
     "text": [
      "-23.34866587578463 6.5520854540011494e-15\n",
      "-23.88926642582699 4.393002557273037e-15\n"
     ]
    }
   ],
   "source": [
    "mag_fnir_1_2 = pd.read_csv('df_all_results_mag_1_2.csv')\n",
    "ada_fnir_1_2 = pd.read_csv('df_all_results_ada_1_2.csv')\n",
    "mag_fnir_1_2_c =mag_fnir_1_2.FNIR_c\n",
    "ada_fnir_1_2_c =ada_fnir_1_2.FNIR_c\n",
    "mag_fnir_1_2_a =mag_fnir_1_2.FNIR_a\n",
    "ada_fnir_1_2_a =ada_fnir_1_2.FNIR_a\n",
    "\n",
    "# Perform an independent two-sample t-test\n",
    "t_statistic, p_value = stats.ttest_ind(mag_fnir_1_2_c, mag_fnir_1_2_a)\n",
    "print(t_statistic, p_value)\n",
    "\n",
    "t_statistic, p_value = stats.ttest_ind(ada_fnir_1_2_c, ada_fnir_1_2_a)\n",
    "print(t_statistic, p_value)\n"
   ]
  },
  {
   "cell_type": "code",
   "execution_count": 2,
   "metadata": {},
   "outputs": [
    {
     "data": {
      "text/plain": [
       "4.636363636363637"
      ]
     },
     "execution_count": 2,
     "metadata": {},
     "output_type": "execute_result"
    }
   ],
   "source": [
    "0.051/0.011"
   ]
  },
  {
   "cell_type": "code",
   "execution_count": 19,
   "metadata": {},
   "outputs": [
    {
     "name": "stdout",
     "output_type": "stream",
     "text": [
      "Mean: 5.52413446300781, Std Dev: 1.4247144169894816, Confidence Interval: (4.504955165753233, 6.543313760262387)\n",
      "Mean: 4.762342709011853, Std Dev: 1.3063906175496895, Confidence Interval: (3.8278071588293106, 5.696878259194396)\n"
     ]
    }
   ],
   "source": [
    "import numpy as np\n",
    "import scipy.stats as stats\n",
    "import pandas as pd\n",
    "\n",
    "# Load data\n",
    "mag_fnd_1_2 = pd.read_csv('df_all_results_mag_1_2.csv').FND\n",
    "ada_fnd_1_2 = pd.read_csv('df_all_results_ada_1_2.csv').FND\n",
    "\n",
    "# List of FND values\n",
    "fnd_values = [mag_fnd_1_2, ada_fnd_1_2]\n",
    "\n",
    "for fnd_data in fnd_values:\n",
    "    # print(fnd_data)\n",
    "    # Calculate the mean and standard deviation\n",
    "    mean_fnd = np.mean(fnd_data)\n",
    "    std_fnd = np.std(fnd_data, ddof=1)  # sample standard deviation\n",
    "\n",
    "    # Compute the confidence interval\n",
    "    confidence_level = 0.95\n",
    "    degrees_freedom = len(fnd_data) - 1\n",
    "    confidence_interval = stats.t.interval(confidence_level, degrees_freedom, mean_fnd, std_fnd / np.sqrt(len(fnd_data)))\n",
    "\n",
    "    print(f\"Mean: {mean_fnd}, Std Dev: {std_fnd}, Confidence Interval: {confidence_interval}\")"
   ]
  },
  {
   "cell_type": "code",
   "execution_count": 4,
   "metadata": {},
   "outputs": [
    {
     "data": {
      "text/plain": [
       "(-1.3864620412101387, 0.18254023140553743)"
      ]
     },
     "execution_count": 4,
     "metadata": {},
     "output_type": "execute_result"
    }
   ],
   "source": [
    "\n",
    "# Perform an independent two-sample t-test\n",
    "t_statistic, p_value = stats.ttest_ind(mag_fnd_1_2, ada_fnd_1_2)\n",
    "\n",
    "t_statistic, p_value\n"
   ]
  },
  {
   "cell_type": "markdown",
   "metadata": {},
   "source": [
    "# MAGFACE T-test på FND baseline vs FND_2.1"
   ]
  },
  {
   "cell_type": "code",
   "execution_count": 16,
   "metadata": {},
   "outputs": [
    {
     "data": {
      "text/plain": [
       "(-2.585391452141736, 0.018663418796975705)"
      ]
     },
     "execution_count": 16,
     "metadata": {},
     "output_type": "execute_result"
    }
   ],
   "source": [
    "import scipy.stats as stats\n",
    "import pandas as pd\n",
    "import sys\n",
    "%matplotlib inline\n",
    "sys.path.append('../../utils')\n",
    "\n",
    "\n",
    "\n",
    "mag_fnd_baseline = pd.read_csv('df_all_results_mag_1_1.csv')\n",
    "mag_fnd_2_1 = pd.read_csv('df_all_results_mag_2_1.csv')\n",
    "mag_fnd_baseline =mag_fnd_baseline.FND\n",
    "mag_fnd_2_1 =mag_fnd_2_1.FND\n",
    "\n",
    "# Perform an independent two-sample t-test\n",
    "t_statistic, p_value = stats.ttest_ind(mag_fnd_baseline, mag_fnd_2_1)\n",
    "\n",
    "t_statistic, p_value\n"
   ]
  },
  {
   "cell_type": "code",
   "execution_count": 7,
   "metadata": {},
   "outputs": [
    {
     "name": "stdout",
     "output_type": "stream",
     "text": [
      "4.079888830405284 6.552341597526724\n"
     ]
    }
   ],
   "source": [
    "print(mag_fnd_2_1.mean(), ada_fnd_2_1.mean())"
   ]
  },
  {
   "cell_type": "code",
   "execution_count": 24,
   "metadata": {},
   "outputs": [
    {
     "data": {
      "text/plain": [
       "(1.184712291089601, 0.2515384892893966)"
      ]
     },
     "execution_count": 24,
     "metadata": {},
     "output_type": "execute_result"
    }
   ],
   "source": [
    "import scipy.stats as stats\n",
    "import pandas as pd\n",
    "import sys\n",
    "%matplotlib inline\n",
    "sys.path.append('../../utils')\n",
    "\n",
    "\n",
    "mag_fnir_baseline = pd.read_csv('df_all_results_ada_1_1.csv')\n",
    "mag_fnir_2_1 = pd.read_csv('df_all_results_ada_2_1.csv')\n",
    "mag_fnir_baseline =mag_fnir_baseline.FNIR_c\n",
    "mag_fnir_2_1 =mag_fnir_2_1.FNIR_c\n",
    "\n",
    "# Perform an independent two-sample t-test\n",
    "t_statistic, p_value = stats.ttest_ind(mag_fnir_baseline, mag_fnir_2_1)\n",
    "\n",
    "t_statistic, p_value"
   ]
  },
  {
   "cell_type": "markdown",
   "metadata": {},
   "source": [
    "# MAGFACE T-test på FND baseline vs FND_2.2"
   ]
  },
  {
   "cell_type": "code",
   "execution_count": 1,
   "metadata": {},
   "outputs": [
    {
     "data": {
      "text/plain": [
       "(-3.823039787240387, 0.0012457574600220646)"
      ]
     },
     "execution_count": 1,
     "metadata": {},
     "output_type": "execute_result"
    }
   ],
   "source": [
    "import scipy.stats as stats\n",
    "import pandas as pd\n",
    "import sys\n",
    "%matplotlib inline\n",
    "sys.path.append('../../utils')\n",
    "\n",
    "\n",
    "# Load the data\n",
    "\n",
    "mag_fnd_1_1 = pd.read_csv('df_all_results_mag_1_1.csv').FND\n",
    "mag_fnd_2_1 = pd.read_csv('df_all_results_mag_2_1.csv').FND\n",
    "mag_fnd_2_2 = pd.read_csv('df_all_results_mag_2_2.csv').FND\n",
    "\n",
    "ada_fnd_1_1 = pd.read_csv('df_all_results_ada_1_1.csv').FND\n",
    "ada_fnd_2_1 = pd.read_csv('df_all_results_ada_2_1.csv').FND\n",
    "ada_fnd_2_2 = pd.read_csv('df_all_results_ada_2_2.csv').FND\n",
    "\n",
    "\n",
    "ada_fnir_1_1_c = pd.read_csv('df_all_results_ada_1_1.csv').FNIR_c\n",
    "ada_fnir_2_1_c = pd.read_csv('df_all_results_ada_2_1.csv').FNIR_c\n",
    "ada_fnir_2_2_c = pd.read_csv('df_all_results_ada_2_2.csv').FNIR_c\n",
    "\n",
    "ada_fnir_1_1_a = pd.read_csv('df_all_results_ada_1_1.csv').FNIR_a\n",
    "ada_fnir_2_1_a = pd.read_csv('df_all_results_ada_2_1.csv').FNIR_a\n",
    "ada_fnir_2_2_a = pd.read_csv('df_all_results_ada_2_2.csv').FNIR_a\n",
    "\n",
    "mag_fnir_1_1_c = pd.read_csv('df_all_results_mag_1_1.csv').FNIR_c\n",
    "mag_fnir_2_1_c = pd.read_csv('df_all_results_mag_2_1.csv').FNIR_c\n",
    "mag_fnir_2_2_c = pd.read_csv('df_all_results_mag_2_2.csv').FNIR_c\n",
    "\n",
    "mag_fnir_1_1_a = pd.read_csv('df_all_results_mag_1_1.csv').FNIR_a\n",
    "mag_fnir_2_1_a = pd.read_csv('df_all_results_mag_2_1.csv').FNIR_a\n",
    "mag_fnir_2_2_a = pd.read_csv('df_all_results_mag_2_2.csv').FNIR_a\n",
    "\n",
    "\n",
    "# Perform an independent two-sample t-test\n",
    "t_statistic, p_value = stats.ttest_ind(mag_fnd_1_1, mag_fnd_2_2)\n",
    "\n",
    "t_statistic, p_value"
   ]
  },
  {
   "cell_type": "code",
   "execution_count": 17,
   "metadata": {},
   "outputs": [
    {
     "name": "stdout",
     "output_type": "stream",
     "text": [
      "Mean: 0.05143244698630965, Std Dev: 0.004734819330971319, Confidence Interval: (0.04804536127929223, 0.054819532693327074)\n",
      "Mean: 0.0333348573322162, Std Dev: 0.003490285222881166, Confidence Interval: (0.030838057694159107, 0.035831656970273296)\n"
     ]
    }
   ],
   "source": [
    "import numpy as np\n",
    "import scipy.stats as stats\n",
    "import pandas as pd\n",
    "\n",
    "# List of FND values\n",
    "fnd_values = [ada_fnir_1_1_c, ada_fnir_2_2_c]\n",
    "\n",
    "for fnd_data in fnd_values:\n",
    "    # print(fnd_data)\n",
    "    # Calculate the mean and standard deviation\n",
    "    mean_fnd = np.mean(fnd_data)\n",
    "    std_fnd = np.std(fnd_data, ddof=1)  # sample standard deviation\n",
    "\n",
    "    # Compute the confidence interval\n",
    "    confidence_level = 0.95\n",
    "    degrees_freedom = len(fnd_data) - 1\n",
    "    confidence_interval = stats.t.interval(confidence_level, degrees_freedom, mean_fnd, std_fnd / np.sqrt(len(fnd_data)))\n",
    "\n",
    "    print(f\"Mean: {mean_fnd}, Std Dev: {std_fnd}, Confidence Interval: {confidence_interval}\")"
   ]
  },
  {
   "cell_type": "code",
   "execution_count": 9,
   "metadata": {},
   "outputs": [
    {
     "name": "stdout",
     "output_type": "stream",
     "text": [
      "1.8581818288654393 2.1289302360466342\n"
     ]
    }
   ],
   "source": [
    "print(mag_fnd_1_1.mean(), ada_fnd_1_1.mean() )"
   ]
  },
  {
   "cell_type": "code",
   "execution_count": 18,
   "metadata": {},
   "outputs": [
    {
     "name": "stdout",
     "output_type": "stream",
     "text": [
      "9.729239408382757 1.3602638057655215e-08\n"
     ]
    }
   ],
   "source": [
    "t_statistic, p_value = stats.ttest_ind(ada_fnir_1_1_c, ada_fnir_2_2_c)\n",
    "print(t_statistic, p_value)"
   ]
  },
  {
   "cell_type": "code",
   "execution_count": 26,
   "metadata": {},
   "outputs": [
    {
     "name": "stdout",
     "output_type": "stream",
     "text": [
      "7.502131164907377 6.043961905914023e-07\n",
      "1.4762525400295852 0.1571566719067474\n",
      "0.06655839404506704 0.9476669820567176\n"
     ]
    }
   ],
   "source": [
    "# Perform an independent two-sample t-test\n",
    "t_statistic, p_value = stats.ttest_ind(mag_fnir_2_1_c, ada_fnir_2_1_c)\n",
    "print(t_statistic, p_value)\n",
    "\n",
    "t_statistic, p_value = stats.ttest_ind(mag_fnir_2_1_a, ada_fnir_2_1_a)\n",
    "print(t_statistic, p_value)\n",
    "\n",
    "t_statistic, p_value = stats.ttest_ind(mag_fnd_2_1, ada_fnd_2_1)\n",
    "print(t_statistic, p_value)"
   ]
  },
  {
   "cell_type": "code",
   "execution_count": 19,
   "metadata": {},
   "outputs": [
    {
     "data": {
      "text/plain": [
       "(-4.348900329296553, 0.00038682771569137624)"
      ]
     },
     "execution_count": 19,
     "metadata": {},
     "output_type": "execute_result"
    }
   ],
   "source": [
    "import scipy.stats as stats\n",
    "import pandas as pd\n",
    "import sys\n",
    "%matplotlib inline\n",
    "sys.path.append('../../utils')\n",
    "\n",
    "\n",
    "\n",
    "\n",
    "# Perform an independent two-sample t-test\n",
    "t_statistic, p_value = stats.ttest_ind(mag_fnir_1_1_c, mag_fnir_2_2_c)\n",
    "\n",
    "t_statistic, p_value"
   ]
  },
  {
   "cell_type": "code",
   "execution_count": 8,
   "metadata": {},
   "outputs": [
    {
     "data": {
      "text/plain": [
       "(1.6778753564575863, 0.11064919034819899)"
      ]
     },
     "execution_count": 8,
     "metadata": {},
     "output_type": "execute_result"
    }
   ],
   "source": [
    "import scipy.stats as stats\n",
    "import pandas as pd\n",
    "import sys\n",
    "%matplotlib inline\n",
    "sys.path.append('../../utils')\n",
    "\n",
    "\n",
    "\n",
    "# Perform an independent two-sample t-test\n",
    "t_statistic, p_value = stats.ttest_ind(mag_fnir_2_1, mag_fnir_2_2)\n",
    "\n",
    "t_statistic, p_value"
   ]
  },
  {
   "cell_type": "markdown",
   "metadata": {},
   "source": []
  },
  {
   "cell_type": "code",
   "execution_count": 14,
   "metadata": {},
   "outputs": [
    {
     "data": {
      "text/plain": [
       "(5.8317862323004785, 1.5934122277819306e-05)"
      ]
     },
     "execution_count": 14,
     "metadata": {},
     "output_type": "execute_result"
    }
   ],
   "source": [
    "import scipy.stats as stats\n",
    "import pandas as pd\n",
    "import sys\n",
    "%matplotlib inline\n",
    "sys.path.append('../../utils')\n",
    "\n",
    "\n",
    "\n",
    "\n",
    "\n",
    "# Perform an independent two-sample t-test\n",
    "t_statistic, p_value = stats.ttest_ind(mag_fnir_baseline, mag_fnir_2_1)\n",
    "\n",
    "t_statistic, p_value"
   ]
  },
  {
   "cell_type": "code",
   "execution_count": 16,
   "metadata": {},
   "outputs": [
    {
     "data": {
      "text/plain": [
       "'0.00000005269'"
      ]
     },
     "execution_count": 16,
     "metadata": {},
     "output_type": "execute_result"
    }
   ],
   "source": [
    "import numpy as np\n",
    "\n",
    "np.format_float_positional(5.2689204453019394e-08, precision=11)"
   ]
  },
  {
   "cell_type": "code",
   "execution_count": 10,
   "metadata": {},
   "outputs": [
    {
     "data": {
      "text/plain": [
       "(9.042121988745532, 4.1082819574137854e-08)"
      ]
     },
     "execution_count": 10,
     "metadata": {},
     "output_type": "execute_result"
    }
   ],
   "source": [
    "import scipy.stats as stats\n",
    "import pandas as pd\n",
    "import sys\n",
    "%matplotlib inline\n",
    "sys.path.append('../../utils')\n",
    "\n",
    "\n",
    "\n",
    "# Perform an independent two-sample t-test\n",
    "t_statistic, p_value = stats.ttest_ind(mag_fnir_baseline, mag_fnir_2_2)\n",
    "\n",
    "t_statistic, p_value"
   ]
  },
  {
   "cell_type": "markdown",
   "metadata": {},
   "source": [
    "# AdaFace baseline vs AdaFace 2.1"
   ]
  },
  {
   "cell_type": "markdown",
   "metadata": {},
   "source": []
  },
  {
   "cell_type": "code",
   "execution_count": 14,
   "metadata": {},
   "outputs": [
    {
     "data": {
      "text/plain": [
       "(-3.2614405532894803, 0.0043347423615482375)"
      ]
     },
     "execution_count": 14,
     "metadata": {},
     "output_type": "execute_result"
    }
   ],
   "source": [
    "import scipy.stats as stats\n",
    "import pandas as pd\n",
    "import sys\n",
    "%matplotlib inline\n",
    "sys.path.append('../../utils')\n",
    "\n",
    "\n",
    "\n",
    "\n",
    "\n",
    "# Perform an independent two-sample t-test\n",
    "t_statistic, p_value = stats.ttest_ind(ada_fnd_baseline, ada_fnd_2_1)\n",
    "\n",
    "t_statistic, p_value\n"
   ]
  },
  {
   "cell_type": "code",
   "execution_count": 15,
   "metadata": {},
   "outputs": [
    {
     "name": "stdout",
     "output_type": "stream",
     "text": [
      "2.1289302360466342 6.552341597526724\n"
     ]
    }
   ],
   "source": [
    "print(ada_fnd_baseline.mean(), ada_fnd_2_1.mean() )"
   ]
  },
  {
   "cell_type": "code",
   "execution_count": 13,
   "metadata": {},
   "outputs": [
    {
     "data": {
      "text/plain": [
       "(10.765400161341526, 2.8373719984148042e-09)"
      ]
     },
     "execution_count": 13,
     "metadata": {},
     "output_type": "execute_result"
    }
   ],
   "source": [
    "\n",
    "\n",
    "# Perform an independent two-sample t-test\n",
    "t_statistic, p_value = stats.ttest_ind(ada_fnir_baseline, ada_fnir_2_1)\n",
    "\n",
    "t_statistic, p_value\n"
   ]
  },
  {
   "cell_type": "code",
   "execution_count": 8,
   "metadata": {},
   "outputs": [
    {
     "data": {
      "text/plain": [
       "(-1.8206238399950612, 0.08533155326346334)"
      ]
     },
     "execution_count": 8,
     "metadata": {},
     "output_type": "execute_result"
    }
   ],
   "source": [
    "\n",
    "\n",
    "# Perform an independent two-sample t-test\n",
    "t_statistic, p_value = stats.ttest_ind(mag_fnd_2_1, ada_fnd_2_2)\n",
    "\n",
    "t_statistic, p_value"
   ]
  },
  {
   "cell_type": "markdown",
   "metadata": {},
   "source": [
    "# AdaFace baseline vs AdaFace 2.2"
   ]
  },
  {
   "cell_type": "code",
   "execution_count": 9,
   "metadata": {},
   "outputs": [
    {
     "data": {
      "text/plain": [
       "(-3.416027599472596, 0.0030801849072322643)"
      ]
     },
     "execution_count": 9,
     "metadata": {},
     "output_type": "execute_result"
    }
   ],
   "source": [
    "import scipy.stats as stats\n",
    "import pandas as pd\n",
    "import sys\n",
    "%matplotlib inline\n",
    "sys.path.append('../../utils')\n",
    "\n",
    "\n",
    "\n",
    "ada_fnd_baseline = pd.read_csv('df_all_results_ada_1_1.csv')\n",
    "ada_fnd_2_2 = pd.read_csv('df_all_results_ada_2_2.csv')\n",
    "ada_fnd_baseline =ada_fnd_baseline.FND\n",
    "ada_fnd_2_2 =ada_fnd_2_2.FND\n",
    "\n",
    "# Perform an independent two-sample t-test\n",
    "t_statistic, p_value = stats.ttest_ind(ada_fnd_baseline, ada_fnd_2_2)\n",
    "\n",
    "t_statistic, p_value\n"
   ]
  },
  {
   "cell_type": "code",
   "execution_count": 11,
   "metadata": {},
   "outputs": [
    {
     "name": "stdout",
     "output_type": "stream",
     "text": [
      "2.1289302360466342 7.168333342286202\n"
     ]
    }
   ],
   "source": [
    "print(ada_fnd_baseline.mean(), ada_fnd_2_2.mean() )"
   ]
  },
  {
   "cell_type": "code",
   "execution_count": 8,
   "metadata": {},
   "outputs": [
    {
     "data": {
      "text/plain": [
       "(9.729239408382757, 1.3602638057655215e-08)"
      ]
     },
     "execution_count": 8,
     "metadata": {},
     "output_type": "execute_result"
    }
   ],
   "source": [
    "\n",
    "ada_fnir_baseline = pd.read_csv('df_all_results_ada_1_1.csv')\n",
    "ada_fnir_2_2 = pd.read_csv('df_all_results_ada_2_2.csv')\n",
    "ada_fnir_baseline =ada_fnir_baseline.FNIR_c\n",
    "ada_fnir_2_2 =ada_fnir_2_2.FNIR_c\n",
    "\n",
    "# Perform an independent two-sample t-test\n",
    "t_statistic, p_value = stats.ttest_ind(ada_fnir_baseline, ada_fnir_2_2)\n",
    "\n",
    "t_statistic, p_value\n"
   ]
  },
  {
   "cell_type": "code",
   "execution_count": 11,
   "metadata": {},
   "outputs": [
    {
     "data": {
      "text/plain": [
       "0.018869999999999998"
      ]
     },
     "execution_count": 11,
     "metadata": {},
     "output_type": "execute_result"
    }
   ],
   "source": [
    "0.051*0.37"
   ]
  },
  {
   "cell_type": "code",
   "execution_count": 12,
   "metadata": {},
   "outputs": [
    {
     "data": {
      "text/plain": [
       "0.03219999999999999"
      ]
     },
     "execution_count": 12,
     "metadata": {},
     "output_type": "execute_result"
    }
   ],
   "source": [
    "0.051-0.0188"
   ]
  },
  {
   "cell_type": "code",
   "execution_count": null,
   "metadata": {},
   "outputs": [],
   "source": []
  }
 ],
 "metadata": {
  "kernelspec": {
   "display_name": "venv",
   "language": "python",
   "name": "python3"
  },
  "language_info": {
   "codemirror_mode": {
    "name": "ipython",
    "version": 3
   },
   "file_extension": ".py",
   "mimetype": "text/x-python",
   "name": "python",
   "nbconvert_exporter": "python",
   "pygments_lexer": "ipython3",
   "version": "3.10.14"
  }
 },
 "nbformat": 4,
 "nbformat_minor": 2
}
