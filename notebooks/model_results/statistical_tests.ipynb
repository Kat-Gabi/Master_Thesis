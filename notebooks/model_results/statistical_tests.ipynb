{
 "cells": [
  {
   "cell_type": "markdown",
   "metadata": {},
   "source": [
    "# Statistical tests "
   ]
  },
  {
   "cell_type": "code",
   "execution_count": 39,
   "metadata": {},
   "outputs": [],
   "source": [
    "import scipy.stats as stats\n",
    "import pandas as pd\n",
    "import sys\n",
    "%matplotlib inline\n",
    "sys.path.append('../../utils')\n",
    "\n",
    "\n",
    "# Load the data\n",
    "\n",
    "mag_fnd_1_1 = pd.read_csv('df_all_results_mag_1_1.csv').FND\n",
    "mag_fnd_2_1 = pd.read_csv('df_all_results_mag_2_1.csv').FND\n",
    "mag_fnd_2_2 = pd.read_csv('df_all_results_mag_2_2.csv').FND\n",
    "\n",
    "ada_fnd_1_1 = pd.read_csv('df_all_results_ada_1_1.csv').FND\n",
    "ada_fnd_2_1 = pd.read_csv('df_all_results_ada_2_1.csv').FND\n",
    "ada_fnd_2_2 = pd.read_csv('df_all_results_ada_2_2.csv').FND\n",
    "\n",
    "\n",
    "ada_fnir_1_1_c = pd.read_csv('df_all_results_ada_1_1.csv').FNIR_c\n",
    "ada_fnir_2_1_c = pd.read_csv('df_all_results_ada_2_1.csv').FNIR_c\n",
    "ada_fnir_2_2_c = pd.read_csv('df_all_results_ada_2_2.csv').FNIR_c\n",
    "\n",
    "ada_fnir_1_1_a = pd.read_csv('df_all_results_ada_1_1.csv').FNIR_a\n",
    "ada_fnir_2_1_a = pd.read_csv('df_all_results_ada_2_1.csv').FNIR_a\n",
    "ada_fnir_2_2_a = pd.read_csv('df_all_results_ada_2_2.csv').FNIR_a\n",
    "\n",
    "mag_fnir_1_1_c = pd.read_csv('df_all_results_mag_1_1.csv').FNIR_c\n",
    "mag_fnir_2_1_c = pd.read_csv('df_all_results_mag_2_1.csv').FNIR_c\n",
    "mag_fnir_2_2_c = pd.read_csv('df_all_results_mag_2_2.csv').FNIR_c\n",
    "\n",
    "mag_fnir_1_1_a = pd.read_csv('df_all_results_mag_1_1.csv').FNIR_a\n",
    "mag_fnir_2_1_a = pd.read_csv('df_all_results_mag_2_1.csv').FNIR_a\n",
    "mag_fnir_2_2_a = pd.read_csv('df_all_results_mag_2_2.csv').FNIR_a\n",
    "\n",
    "\n",
    "# Perform an independent two-sample t-test\n",
    "#t_statistic, p_value = stats.ttest_ind(mag_fnd_1_1, mag_fnd_2_2)\n",
    "\n",
    "#t_statistic, p_value\n"
   ]
  },
  {
   "cell_type": "markdown",
   "metadata": {},
   "source": [
    "## Experiment 1.1"
   ]
  },
  {
   "cell_type": "code",
   "execution_count": 43,
   "metadata": {},
   "outputs": [
    {
     "name": "stdout",
     "output_type": "stream",
     "text": [
      "13.811114928650634 5.089798957845768e-11\n",
      "17.524904099763937 9.29844728581586e-13\n"
     ]
    }
   ],
   "source": [
    "# fnir children vs adults for both models\n",
    "# Perform an independent two-sample t-test\n",
    "t_statistic, p_value = stats.ttest_ind(mag_fnir_1_1_c, mag_fnir_1_1_a)\n",
    "print(t_statistic, p_value)\n",
    "\n",
    "t_statistic, p_value = stats.ttest_ind(ada_fnir_1_1_c, ada_fnir_1_1_a)\n",
    "print(t_statistic, p_value)"
   ]
  },
  {
   "cell_type": "code",
   "execution_count": 44,
   "metadata": {},
   "outputs": [
    {
     "name": "stdout",
     "output_type": "stream",
     "text": [
      "0.67598539060789 0.5076430098737476\n",
      "Mean: 1.8925683252135546, Std Dev: 0.29222837862161144, Confidence Interval: (1.6835207364408096, 2.1016159139862998)\n",
      "Mean: 1.8203757837952668, Std Dev: 0.169282157117098, Confidence Interval: (1.6992786236409476, 1.941472943949586)\n"
     ]
    }
   ],
   "source": [
    "# Ada and Mag Model FND diff\n",
    "\n",
    "# List of FND values\n",
    "fnd_values = [mag_fnd_1_1, ada_fnd_1_1]\n",
    "\n",
    "t_statistic, p_value = stats.ttest_ind(mag_fnd_1_1, ada_fnd_1_1)\n",
    "print(t_statistic, p_value)\n",
    "\n",
    "for fnd_data in fnd_values:\n",
    "    # print(fnd_data)\n",
    "    # Calculate the mean and standard deviation\n",
    "    mean_fnd = np.mean(fnd_data)\n",
    "    std_fnd = np.std(fnd_data, ddof=1)  # sample standard deviation\n",
    "\n",
    "    # Compute the confidence interval\n",
    "    confidence_level = 0.95\n",
    "    degrees_freedom = len(fnd_data) - 1\n",
    "    confidence_interval = stats.t.interval(confidence_level, degrees_freedom, mean_fnd, std_fnd / np.sqrt(len(fnd_data)))\n",
    "\n",
    "    print(f\"Mean: {mean_fnd}, Std Dev: {std_fnd}, Confidence Interval: {confidence_interval}\")\n"
   ]
  },
  {
   "cell_type": "markdown",
   "metadata": {},
   "source": [
    "## Experiment 1.2"
   ]
  },
  {
   "cell_type": "code",
   "execution_count": 46,
   "metadata": {},
   "outputs": [
    {
     "name": "stdout",
     "output_type": "stream",
     "text": [
      "Mean: 5.96638871035947, Std Dev: 1.384220328539415, Confidence Interval: (4.9761771389293505, 6.95660028178959)\n",
      "Mean: 5.995262495351096, Std Dev: 1.1486871607973275, Confidence Interval: (5.173541202054588, 6.816983788647603)\n",
      "-0.05076095535178312 0.9600750621215053\n",
      "-31.6690111017706 3.0778817260464353e-17\n",
      "-41.27504794239061 2.7817829468456213e-19\n"
     ]
    }
   ],
   "source": [
    "mag_fnir_1_2 = pd.read_csv('df_all_results_mag_1_2.csv')\n",
    "ada_fnir_1_2 = pd.read_csv('df_all_results_ada_1_2.csv')\n",
    "mag_fnir_1_2_c =mag_fnir_1_2.FNIR_c\n",
    "ada_fnir_1_2_c =ada_fnir_1_2.FNIR_c\n",
    "mag_fnir_1_2_a =mag_fnir_1_2.FNIR_a\n",
    "ada_fnir_1_2_a =ada_fnir_1_2.FNIR_a\n",
    "\n",
    "mag_fnd_1_2 = pd.read_csv('df_all_results_mag_1_2.csv').FND\n",
    "ada_fnd_1_2 = pd.read_csv('df_all_results_ada_1_2.csv').FND\n",
    "\n",
    "# List of FND values\n",
    "fnd_values = [mag_fnd_1_2, ada_fnd_1_2]\n",
    "\n",
    "for fnd_data in fnd_values:\n",
    "    # print(fnd_data)\n",
    "    # Calculate the mean and standard deviation\n",
    "    mean_fnd = np.mean(fnd_data)\n",
    "    std_fnd = np.std(fnd_data, ddof=1)  # sample standard deviation\n",
    "\n",
    "    # Compute the confidence interval\n",
    "    confidence_level = 0.95\n",
    "    degrees_freedom = len(fnd_data) - 1\n",
    "    confidence_interval = stats.t.interval(confidence_level, degrees_freedom, mean_fnd, std_fnd / np.sqrt(len(fnd_data)))\n",
    "\n",
    "    print(f\"Mean: {mean_fnd}, Std Dev: {std_fnd}, Confidence Interval: {confidence_interval}\")\n",
    "\n",
    "\n",
    "\n",
    "# Perform an independent two-sample t-test\n",
    "t_statistic, p_value = stats.ttest_ind(mag_fnd_1_2, ada_fnd_1_2)\n",
    "print(t_statistic, p_value)\n",
    "\n",
    "t_statistic, p_value = stats.ttest_ind(mag_fnir_1_2_c, mag_fnir_1_2_a)\n",
    "print(t_statistic, p_value)\n",
    "\n",
    "t_statistic, p_value = stats.ttest_ind(ada_fnir_1_2_c, ada_fnir_1_2_a)\n",
    "print(t_statistic, p_value)\n"
   ]
  },
  {
   "cell_type": "markdown",
   "metadata": {},
   "source": [
    "## Experiment 2.1"
   ]
  },
  {
   "cell_type": "code",
   "execution_count": 48,
   "metadata": {},
   "outputs": [
    {
     "name": "stdout",
     "output_type": "stream",
     "text": [
      "Mean: 1.8925683252135546, Std Dev: 0.29222837862161144, Confidence Interval: (1.6835207364408096, 2.1016159139862998)\n",
      "Mean: 7.231902925321913, Std Dev: 2.619930534642604, Confidence Interval: (5.357717524155603, 9.106088326488223)\n"
     ]
    }
   ],
   "source": [
    "# List of FND values\n",
    "fnd_values = [mag_fnd_1_1, mag_fnd_2_1]\n",
    "\n",
    "for fnd_data in fnd_values:\n",
    "    # print(fnd_data)\n",
    "    # Calculate the mean and standard deviation\n",
    "    mean_fnd = np.mean(fnd_data)\n",
    "    std_fnd = np.std(fnd_data, ddof=1)  # sample standard deviation\n",
    "\n",
    "    # Compute the confidence interval\n",
    "    confidence_level = 0.95\n",
    "    degrees_freedom = len(fnd_data) - 1\n",
    "    confidence_interval = stats.t.interval(confidence_level, degrees_freedom, mean_fnd, std_fnd / np.sqrt(len(fnd_data)))\n",
    "\n",
    "    print(f\"Mean: {mean_fnd}, Std Dev: {std_fnd}, Confidence Interval: {confidence_interval}\")\n"
   ]
  },
  {
   "cell_type": "code",
   "execution_count": 49,
   "metadata": {},
   "outputs": [
    {
     "name": "stdout",
     "output_type": "stream",
     "text": [
      "-6.404901247337691 4.97107134574073e-06\n",
      "-4.358820793816676 0.00037842300885096897\n",
      "12.47805874321477 2.6838726346870253e-10\n",
      "-9.054263843530919 4.0268736283454537e-08\n",
      "6.506931188390658 4.058530019518031e-06\n",
      "22.002891429944487 1.8430057771875578e-14\n"
     ]
    }
   ],
   "source": [
    "# fnir children vs adults for both models\n",
    "# Perform an independent two-sample t-test\n",
    "t_statistic, p_value = stats.ttest_ind(mag_fnd_1_1, mag_fnd_2_1)\n",
    "print(t_statistic, p_value)\n",
    "\n",
    "t_statistic, p_value = stats.ttest_ind(mag_fnir_1_1_c, mag_fnir_2_1_c)\n",
    "print(t_statistic, p_value)\n",
    "\n",
    "t_statistic, p_value = stats.ttest_ind(mag_fnir_1_1_a, mag_fnir_2_1_a)\n",
    "print(t_statistic, p_value)\n",
    "\n",
    "\n",
    "\n",
    "t_statistic, p_value = stats.ttest_ind(ada_fnd_1_1, ada_fnd_2_1)\n",
    "print(t_statistic, p_value)\n",
    "\n",
    "t_statistic, p_value = stats.ttest_ind(ada_fnir_1_1_c, ada_fnir_2_1_c)\n",
    "print(t_statistic, p_value)\n",
    "\n",
    "t_statistic, p_value = stats.ttest_ind(ada_fnir_1_1_a, ada_fnir_2_1_a)\n",
    "print(t_statistic, p_value)\n"
   ]
  },
  {
   "cell_type": "code",
   "execution_count": 50,
   "metadata": {},
   "outputs": [
    {
     "name": "stdout",
     "output_type": "stream",
     "text": [
      "-3.1098337758304595 0.006047784228849617\n"
     ]
    }
   ],
   "source": [
    "t_statistic, p_value = stats.ttest_ind(ada_fnir_2_1_c, mag_fnir_2_1_c)\n",
    "print(t_statistic, p_value)"
   ]
  },
  {
   "cell_type": "markdown",
   "metadata": {},
   "source": [
    "## Experiment 2.2"
   ]
  },
  {
   "cell_type": "code",
   "execution_count": 51,
   "metadata": {},
   "outputs": [
    {
     "name": "stdout",
     "output_type": "stream",
     "text": [
      "-6.1115584089894295 8.975280330137841e-06\n",
      "-1.7044576844096904 0.10549547592450845\n",
      "12.631701113684782 2.1999619513534497e-10\n",
      "-9.634951115110692 1.5779447379649612e-08\n",
      "5.245094487607566 5.4789202146724666e-05\n",
      "22.19700693495596 1.5819102108899925e-14\n"
     ]
    }
   ],
   "source": [
    "# fnir children vs adults for both models\n",
    "# Perform an independent two-sample t-test\n",
    "t_statistic, p_value = stats.ttest_ind(mag_fnd_1_1, mag_fnd_2_2)\n",
    "print(t_statistic, p_value)\n",
    "\n",
    "t_statistic, p_value = stats.ttest_ind(mag_fnir_1_1_c, mag_fnir_2_2_c)\n",
    "print(t_statistic, p_value)\n",
    "\n",
    "t_statistic, p_value = stats.ttest_ind(mag_fnir_1_1_a, mag_fnir_2_2_a)\n",
    "print(t_statistic, p_value)\n",
    "\n",
    "\n",
    "\n",
    "t_statistic, p_value = stats.ttest_ind(ada_fnd_1_1, ada_fnd_2_2)\n",
    "print(t_statistic, p_value)\n",
    "\n",
    "t_statistic, p_value = stats.ttest_ind(ada_fnir_1_1_c, ada_fnir_2_2_c)\n",
    "print(t_statistic, p_value)\n",
    "\n",
    "t_statistic, p_value = stats.ttest_ind(ada_fnir_1_1_a, ada_fnir_2_2_a)\n",
    "print(t_statistic, p_value)"
   ]
  },
  {
   "cell_type": "code",
   "execution_count": 57,
   "metadata": {},
   "outputs": [
    {
     "name": "stdout",
     "output_type": "stream",
     "text": [
      "0.04048323490735155 0.04135950540304984\n",
      "-0.5191308939655442 0.609993809145116\n",
      "NO significant difference in FNIR_c between Ada 2.1 and Ada 2.2\n"
     ]
    }
   ],
   "source": [
    "t_statistic, p_value = stats.ttest_ind(ada_fnir_2_1_c, ada_fnir_2_2_c)\n",
    "print(ada_fnir_2_1_c.mean(), ada_fnir_2_2_c.mean())\n",
    "print(t_statistic, p_value)\n",
    "print(\"NO significant difference in FNIR_c between Ada 2.1 and Ada 2.2\")"
   ]
  },
  {
   "cell_type": "code",
   "execution_count": 56,
   "metadata": {},
   "outputs": [
    {
     "name": "stdout",
     "output_type": "stream",
     "text": [
      "0.0454597870483736 0.041719612778285\n",
      "2.101723299353434 0.049921557302452374\n",
      "Significant difference in FNIR_c between Mag 2.1 and Mag 2.2, with Mag_2.2 being better\n"
     ]
    }
   ],
   "source": [
    "t_statistic, p_value = stats.ttest_ind(mag_fnir_2_1_c, mag_fnir_2_2_c)\n",
    "print(mag_fnir_2_1_c.mean(), mag_fnir_2_2_c.mean())\n",
    "print(t_statistic, p_value)\n",
    "print(\"Significant difference in FNIR_c between Mag 2.1 and Mag 2.2, with Mag_2.2 being better\")"
   ]
  },
  {
   "cell_type": "markdown",
   "metadata": {},
   "source": [
    "# Magface 1.1 FNIR "
   ]
  },
  {
   "cell_type": "code",
   "execution_count": 1,
   "metadata": {},
   "outputs": [
    {
     "name": "stdout",
     "output_type": "stream",
     "text": [
      "T-statistic: 16.483869505641145\n",
      "P-value: 4.959422699384852e-08\n"
     ]
    }
   ],
   "source": [
    "import pandas as pd\n",
    "from scipy import stats\n",
    "\n",
    "# Assuming you have the DataFrame with the following data\n",
    "data = {\n",
    "    'Iter': [1, 2, 3, 4, 5, 6, 7, 8, 9, 10],\n",
    "    'FNIR_c': [0.0534, 0.040438, 0.042005, 0.051270, 0.055046, 0.046968, 0.039599, 0.044831, 0.042976, 0.049977],\n",
    "    'FNIR_a': [0.0155, 0.014144, 0.017344, 0.013438, 0.012785, 0.015214, 0.016575, 0.012862, 0.009901, 0.016667]\n",
    "}\n",
    "\n",
    "df = pd.DataFrame(data)\n",
    "\n",
    "# Performing the paired t-test\n",
    "t_statistic, p_value = stats.ttest_rel(df['FNIR_c'], df['FNIR_a'])\n",
    "\n",
    "# Output the results\n",
    "print(f'T-statistic: {t_statistic}')\n",
    "print(f'P-value: {p_value}')\n"
   ]
  },
  {
   "cell_type": "markdown",
   "metadata": {},
   "source": [
    "# Adaface 1.1 FNIR\n"
   ]
  },
  {
   "cell_type": "markdown",
   "metadata": {},
   "source": []
  },
  {
   "cell_type": "markdown",
   "metadata": {},
   "source": [
    "# Magface 1.1 FND \n"
   ]
  },
  {
   "cell_type": "code",
   "execution_count": 2,
   "metadata": {},
   "outputs": [
    {
     "name": "stdout",
     "output_type": "stream",
     "text": [
      "Mean: 1.8925683252135546, Std Dev: 0.29222837862161144, Confidence Interval: (1.6835207364408096, 2.1016159139862998)\n",
      "Mean: 1.9635829039679806, Std Dev: 0.48595474549164935, Confidence Interval: (1.6159518207827233, 2.3112139871532382)\n"
     ]
    }
   ],
   "source": [
    "import numpy as np\n",
    "import scipy.stats as stats\n",
    "import pandas as pd\n",
    "\n",
    "# Load data\n",
    "mag_fnd_baseline = pd.read_csv('df_all_results_mag_1_1.csv').FND\n",
    "ada_fnd_baseline = pd.read_csv('df_all_results_ada_1_1.csv').FND\n",
    "\n",
    "# List of FND values\n",
    "fnd_values = [mag_fnd_baseline, ada_fnd_baseline]\n",
    "\n",
    "for fnd_data in fnd_values:\n",
    "    # print(fnd_data)\n",
    "    # Calculate the mean and standard deviation\n",
    "    mean_fnd = np.mean(fnd_data)\n",
    "    std_fnd = np.std(fnd_data, ddof=1)  # sample standard deviation\n",
    "\n",
    "    # Compute the confidence interval\n",
    "    confidence_level = 0.95\n",
    "    degrees_freedom = len(fnd_data) - 1\n",
    "    confidence_interval = stats.t.interval(confidence_level, degrees_freedom, mean_fnd, std_fnd / np.sqrt(len(fnd_data)))\n",
    "\n",
    "    print(f\"Mean: {mean_fnd}, Std Dev: {std_fnd}, Confidence Interval: {confidence_interval}\")\n"
   ]
  },
  {
   "cell_type": "code",
   "execution_count": 3,
   "metadata": {},
   "outputs": [
    {
     "data": {
      "text/plain": [
       "(-0.3960259427524992, 0.6967409229633528)"
      ]
     },
     "execution_count": 3,
     "metadata": {},
     "output_type": "execute_result"
    }
   ],
   "source": [
    "import scipy.stats as stats\n",
    "\n",
    "\n",
    "\n",
    "# Perform an independent two-sample t-test\n",
    "t_statistic, p_value = stats.ttest_ind(mag_fnd_baseline, ada_fnd_baseline)\n",
    "\n",
    "t_statistic, p_value\n"
   ]
  },
  {
   "cell_type": "code",
   "execution_count": 23,
   "metadata": {},
   "outputs": [
    {
     "data": {
      "text/plain": [
       "(9.128862929609712, 3.5623112990472395e-08)"
      ]
     },
     "execution_count": 23,
     "metadata": {},
     "output_type": "execute_result"
    }
   ],
   "source": [
    "mag_fnir_baseline = pd.read_csv('df_all_results_mag_1_1.csv')\n",
    "ada_fnir_baseline = pd.read_csv('df_all_results_ada_1_1.csv')\n",
    "mag_fnir_baseline_c =mag_fnir_baseline.FNIR_c\n",
    "ada_fnir_baseline_c =ada_fnir_baseline.FNIR_c\n",
    "mag_fnir_baseline_a =mag_fnir_baseline.FNIR_a\n",
    "ada_fnir_baseline_a =ada_fnir_baseline.FNIR_a\n",
    "\n",
    "# Perform an independent two-sample t-test\n",
    "t_statistic, p_value = stats.ttest_ind(mag_fnir_baseline_c, mag_fnir_baseline_a)\n",
    "t_statistic, p_value = stats.ttest_ind(ada_fnir_baseline_c, ada_fnir_baseline_a)\n",
    "\n",
    "t_statistic, p_value"
   ]
  },
  {
   "cell_type": "code",
   "execution_count": 24,
   "metadata": {},
   "outputs": [
    {
     "data": {
      "text/plain": [
       "(13.811114928650634, 5.089798957845768e-11)"
      ]
     },
     "execution_count": 24,
     "metadata": {},
     "output_type": "execute_result"
    }
   ],
   "source": [
    "t_statistic, p_value = stats.ttest_ind(mag_fnir_baseline_c, mag_fnir_baseline_a)\n",
    "t_statistic, p_value"
   ]
  },
  {
   "cell_type": "markdown",
   "metadata": {},
   "source": []
  },
  {
   "cell_type": "markdown",
   "metadata": {},
   "source": [
    "# Canonical children 1.2\n"
   ]
  },
  {
   "cell_type": "code",
   "execution_count": 22,
   "metadata": {},
   "outputs": [
    {
     "name": "stdout",
     "output_type": "stream",
     "text": [
      "-31.6690111017706 3.0778817260464353e-17\n",
      "-18.83325482089566 2.711663874256318e-13\n"
     ]
    }
   ],
   "source": [
    "mag_fnir_1_2 = pd.read_csv('df_all_results_mag_1_2.csv')\n",
    "ada_fnir_1_2 = pd.read_csv('df_all_results_ada_1_2.csv')\n",
    "mag_fnir_1_2_c =mag_fnir_1_2.FNIR_c\n",
    "ada_fnir_1_2_c =ada_fnir_1_2.FNIR_c\n",
    "mag_fnir_1_2_a =mag_fnir_1_2.FNIR_a\n",
    "ada_fnir_1_2_a =ada_fnir_1_2.FNIR_a\n",
    "\n",
    "# Perform an independent two-sample t-test\n",
    "t_statistic, p_value = stats.ttest_ind(mag_fnir_1_2_c, mag_fnir_1_2_a)\n",
    "print(t_statistic, p_value)\n",
    "\n",
    "t_statistic, p_value = stats.ttest_ind(ada_fnir_1_2_c, ada_fnir_1_2_a)\n",
    "print(t_statistic, p_value)\n"
   ]
  },
  {
   "cell_type": "code",
   "execution_count": 6,
   "metadata": {},
   "outputs": [
    {
     "data": {
      "text/plain": [
       "4.636363636363637"
      ]
     },
     "execution_count": 6,
     "metadata": {},
     "output_type": "execute_result"
    }
   ],
   "source": [
    "0.051/0.011"
   ]
  },
  {
   "cell_type": "code",
   "execution_count": 25,
   "metadata": {},
   "outputs": [
    {
     "name": "stdout",
     "output_type": "stream",
     "text": [
      "Mean: 5.96638871035947, Std Dev: 1.384220328539415, Confidence Interval: (4.9761771389293505, 6.95660028178959)\n",
      "Mean: 5.034855550531544, Std Dev: 1.557608531597271, Confidence Interval: (3.920609530627079, 6.1491015704360095)\n"
     ]
    }
   ],
   "source": [
    "import numpy as np\n",
    "import scipy.stats as stats\n",
    "import pandas as pd\n",
    "\n",
    "# Load data\n",
    "mag_fnd_1_2 = pd.read_csv('df_all_results_mag_1_2.csv').FND\n",
    "ada_fnd_1_2 = pd.read_csv('df_all_results_ada_1_2.csv').FND\n",
    "\n",
    "# List of FND values\n",
    "fnd_values = [mag_fnd_1_2, ada_fnd_1_2]\n",
    "\n",
    "for fnd_data in fnd_values:\n",
    "    # print(fnd_data)\n",
    "    # Calculate the mean and standard deviation\n",
    "    mean_fnd = np.mean(fnd_data)\n",
    "    std_fnd = np.std(fnd_data, ddof=1)  # sample standard deviation\n",
    "\n",
    "    # Compute the confidence interval\n",
    "    confidence_level = 0.95\n",
    "    degrees_freedom = len(fnd_data) - 1\n",
    "    confidence_interval = stats.t.interval(confidence_level, degrees_freedom, mean_fnd, std_fnd / np.sqrt(len(fnd_data)))\n",
    "\n",
    "    print(f\"Mean: {mean_fnd}, Std Dev: {std_fnd}, Confidence Interval: {confidence_interval}\")"
   ]
  },
  {
   "cell_type": "code",
   "execution_count": 26,
   "metadata": {},
   "outputs": [
    {
     "data": {
      "text/plain": [
       "(1.4136532459810367, 0.17452559918478475)"
      ]
     },
     "execution_count": 26,
     "metadata": {},
     "output_type": "execute_result"
    }
   ],
   "source": [
    "\n",
    "# Perform an independent two-sample t-test\n",
    "t_statistic, p_value = stats.ttest_ind(mag_fnd_1_2, ada_fnd_1_2)\n",
    "\n",
    "t_statistic, p_value\n"
   ]
  },
  {
   "cell_type": "markdown",
   "metadata": {},
   "source": [
    "# MAGFACE T-test på FND baseline vs FND_2.1"
   ]
  },
  {
   "cell_type": "code",
   "execution_count": 9,
   "metadata": {},
   "outputs": [
    {
     "data": {
      "text/plain": [
       "(-6.404901247337691, 4.97107134574073e-06)"
      ]
     },
     "execution_count": 9,
     "metadata": {},
     "output_type": "execute_result"
    }
   ],
   "source": [
    "import scipy.stats as stats\n",
    "import pandas as pd\n",
    "import sys\n",
    "%matplotlib inline\n",
    "sys.path.append('../../utils')\n",
    "\n",
    "\n",
    "\n",
    "mag_fnd_baseline = pd.read_csv('df_all_results_mag_1_1.csv')\n",
    "mag_fnd_2_1 = pd.read_csv('df_all_results_mag_2_1.csv')\n",
    "mag_fnd_baseline =mag_fnd_baseline.FND\n",
    "mag_fnd_2_1 =mag_fnd_2_1.FND\n",
    "\n",
    "# Perform an independent two-sample t-test\n",
    "t_statistic, p_value = stats.ttest_ind(mag_fnd_baseline, mag_fnd_2_1)\n",
    "\n",
    "t_statistic, p_value\n"
   ]
  },
  {
   "cell_type": "code",
   "execution_count": 10,
   "metadata": {},
   "outputs": [
    {
     "data": {
      "text/plain": [
       "(9.370251771090734, 2.4067869787086654e-08)"
      ]
     },
     "execution_count": 10,
     "metadata": {},
     "output_type": "execute_result"
    }
   ],
   "source": [
    "import scipy.stats as stats\n",
    "import pandas as pd\n",
    "import sys\n",
    "%matplotlib inline\n",
    "sys.path.append('../../utils')\n",
    "\n",
    "\n",
    "mag_fnir_baseline = pd.read_csv('df_all_results_ada_1_1.csv')\n",
    "mag_fnir_2_1 = pd.read_csv('df_all_results_ada_2_1.csv')\n",
    "mag_fnir_baseline =mag_fnir_baseline.FNIR_c\n",
    "mag_fnir_2_1 =mag_fnir_2_1.FNIR_c\n",
    "\n",
    "# Perform an independent two-sample t-test\n",
    "t_statistic, p_value = stats.ttest_ind(mag_fnir_baseline, mag_fnir_2_1)\n",
    "\n",
    "t_statistic, p_value"
   ]
  },
  {
   "cell_type": "markdown",
   "metadata": {},
   "source": [
    "# MAGFACE T-test på FND baseline vs FND_2.2"
   ]
  },
  {
   "cell_type": "code",
   "execution_count": 27,
   "metadata": {},
   "outputs": [
    {
     "data": {
      "text/plain": [
       "(-6.1115584089894295, 8.975280330137841e-06)"
      ]
     },
     "execution_count": 27,
     "metadata": {},
     "output_type": "execute_result"
    }
   ],
   "source": [
    "import scipy.stats as stats\n",
    "import pandas as pd\n",
    "import sys\n",
    "%matplotlib inline\n",
    "sys.path.append('../../utils')\n",
    "\n",
    "\n",
    "# Load the data\n",
    "\n",
    "mag_fnd_1_1 = pd.read_csv('df_all_results_mag_1_1.csv').FND\n",
    "mag_fnd_2_1 = pd.read_csv('df_all_results_mag_2_1.csv').FND\n",
    "mag_fnd_2_2 = pd.read_csv('df_all_results_mag_2_2.csv').FND\n",
    "\n",
    "ada_fnd_1_1 = pd.read_csv('df_all_results_ada_1_1.csv').FND\n",
    "ada_fnd_2_1 = pd.read_csv('df_all_results_ada_2_1.csv').FND\n",
    "ada_fnd_2_2 = pd.read_csv('df_all_results_ada_2_2.csv').FND\n",
    "\n",
    "\n",
    "ada_fnir_1_1_c = pd.read_csv('df_all_results_ada_1_1.csv').FNIR_c\n",
    "ada_fnir_2_1_c = pd.read_csv('df_all_results_ada_2_1.csv').FNIR_c\n",
    "ada_fnir_2_2_c = pd.read_csv('df_all_results_ada_2_2.csv').FNIR_c\n",
    "\n",
    "ada_fnir_1_1_a = pd.read_csv('df_all_results_ada_1_1.csv').FNIR_a\n",
    "ada_fnir_2_1_a = pd.read_csv('df_all_results_ada_2_1.csv').FNIR_a\n",
    "ada_fnir_2_2_a = pd.read_csv('df_all_results_ada_2_2.csv').FNIR_a\n",
    "\n",
    "mag_fnir_1_1_c = pd.read_csv('df_all_results_mag_1_1.csv').FNIR_c\n",
    "mag_fnir_2_1_c = pd.read_csv('df_all_results_mag_2_1.csv').FNIR_c\n",
    "mag_fnir_2_2_c = pd.read_csv('df_all_results_mag_2_2.csv').FNIR_c\n",
    "\n",
    "mag_fnir_1_1_a = pd.read_csv('df_all_results_mag_1_1.csv').FNIR_a\n",
    "mag_fnir_2_1_a = pd.read_csv('df_all_results_mag_2_1.csv').FNIR_a\n",
    "mag_fnir_2_2_a = pd.read_csv('df_all_results_mag_2_2.csv').FNIR_a\n",
    "\n",
    "\n",
    "# Perform an independent two-sample t-test\n",
    "t_statistic, p_value = stats.ttest_ind(mag_fnd_1_1, mag_fnd_2_2)\n",
    "\n",
    "t_statistic, p_value"
   ]
  },
  {
   "cell_type": "code",
   "execution_count": 28,
   "metadata": {},
   "outputs": [
    {
     "name": "stdout",
     "output_type": "stream",
     "text": [
      "-2.783333812890938 0.012266778628008365\n"
     ]
    }
   ],
   "source": [
    "t_statistic, p_value = stats.ttest_ind(ada_fnd_1_1, ada_fnd_2_1)\n",
    "print(t_statistic, p_value)"
   ]
  },
  {
   "cell_type": "code",
   "execution_count": 30,
   "metadata": {},
   "outputs": [
    {
     "name": "stdout",
     "output_type": "stream",
     "text": [
      "9.383623570101982 2.3555436155905915e-08\n"
     ]
    }
   ],
   "source": [
    "t_statistic, p_value = stats.ttest_ind(ada_fnir_1_1_a, ada_fnir_2_1_a)\n",
    "print(t_statistic, p_value)"
   ]
  },
  {
   "cell_type": "code",
   "execution_count": 31,
   "metadata": {},
   "outputs": [
    {
     "name": "stdout",
     "output_type": "stream",
     "text": [
      "9.370251771090734 2.4067869787086654e-08\n"
     ]
    }
   ],
   "source": [
    "t_statistic, p_value = stats.ttest_ind(ada_fnir_1_1_c, ada_fnir_2_1_c)\n",
    "print(t_statistic, p_value)"
   ]
  },
  {
   "cell_type": "code",
   "execution_count": 32,
   "metadata": {},
   "outputs": [
    {
     "name": "stdout",
     "output_type": "stream",
     "text": [
      "12.47805874321477 2.6838726346870253e-10\n"
     ]
    }
   ],
   "source": [
    "t_statistic, p_value = stats.ttest_ind(mag_fnir_1_1_a, mag_fnir_2_1_a)\n",
    "print(t_statistic, p_value)"
   ]
  },
  {
   "cell_type": "code",
   "execution_count": 33,
   "metadata": {},
   "outputs": [
    {
     "name": "stdout",
     "output_type": "stream",
     "text": [
      "-4.358820793816676 0.00037842300885096897\n"
     ]
    }
   ],
   "source": [
    "t_statistic, p_value = stats.ttest_ind(mag_fnir_1_1_c, mag_fnir_2_1_c)\n",
    "print(t_statistic, p_value)"
   ]
  },
  {
   "cell_type": "code",
   "execution_count": 18,
   "metadata": {},
   "outputs": [
    {
     "name": "stdout",
     "output_type": "stream",
     "text": [
      "28.124199529150772 2.5045299072078227e-16\n",
      "-4.358820793816676 0.00037842300885096897\n",
      "5.485246882760122 3.288585114834227e-05\n",
      "-6.404901247337691 4.97107134574073e-06\n",
      "-2.783333812890938 0.012266778628008365\n",
      "9.370251771090734 2.4067869787086654e-08\n",
      "1.024148155252082 0.31933300566080863\n"
     ]
    }
   ],
   "source": [
    "# Perform an independent two-sample t-test\n",
    "t_statistic, p_value = stats.ttest_ind(mag_fnir_2_1_c, ada_fnir_2_1_c)\n",
    "print(t_statistic, p_value)\n",
    "\n",
    "t_statistic, p_value = stats.ttest_ind(mag_fnir_1_1_c, mag_fnir_2_1_c)\n",
    "print(t_statistic, p_value)\n",
    "\n",
    "t_statistic, p_value = stats.ttest_ind(mag_fnir_2_1_a, ada_fnir_2_1_a)\n",
    "print(t_statistic, p_value)\n",
    "\n",
    "t_statistic, p_value = stats.ttest_ind(mag_fnd_1_1, mag_fnd_2_1)\n",
    "print(t_statistic, p_value)\n",
    "\n",
    "t_statistic, p_value = stats.ttest_ind(ada_fnd_1_1, ada_fnd_2_1)\n",
    "print(t_statistic, p_value)\n",
    "\n",
    "t_statistic, p_value = stats.ttest_ind(ada_fnir_1_1_c, ada_fnir_2_1_c)\n",
    "print(t_statistic, p_value)\n",
    "\n",
    "t_statistic, p_value = stats.ttest_ind(mag_fnd_2_1, ada_fnd_2_1)\n",
    "print(t_statistic, p_value)"
   ]
  },
  {
   "cell_type": "code",
   "execution_count": 21,
   "metadata": {},
   "outputs": [
    {
     "name": "stdout",
     "output_type": "stream",
     "text": [
      "-2.9279759322705226 0.008985175756483407\n"
     ]
    }
   ],
   "source": [
    "\n",
    "t_statistic, p_value = stats.ttest_ind(ada_fnir_c_1_1, ada_fnd_2_2)\n",
    "print(t_statistic, p_value)"
   ]
  },
  {
   "cell_type": "code",
   "execution_count": 19,
   "metadata": {},
   "outputs": [
    {
     "data": {
      "text/plain": [
       "(-4.348900329296553, 0.00038682771569137624)"
      ]
     },
     "execution_count": 19,
     "metadata": {},
     "output_type": "execute_result"
    }
   ],
   "source": [
    "import scipy.stats as stats\n",
    "import pandas as pd\n",
    "import sys\n",
    "%matplotlib inline\n",
    "sys.path.append('../../utils')\n",
    "\n",
    "\n",
    "\n",
    "\n",
    "# Perform an independent two-sample t-test\n",
    "t_statistic, p_value = stats.ttest_ind(mag_fnir_1_1_c, mag_fnir_2_2_c)\n",
    "\n",
    "t_statistic, p_value"
   ]
  },
  {
   "cell_type": "code",
   "execution_count": 8,
   "metadata": {},
   "outputs": [
    {
     "data": {
      "text/plain": [
       "(1.6778753564575863, 0.11064919034819899)"
      ]
     },
     "execution_count": 8,
     "metadata": {},
     "output_type": "execute_result"
    }
   ],
   "source": [
    "import scipy.stats as stats\n",
    "import pandas as pd\n",
    "import sys\n",
    "%matplotlib inline\n",
    "sys.path.append('../../utils')\n",
    "\n",
    "\n",
    "\n",
    "# Perform an independent two-sample t-test\n",
    "t_statistic, p_value = stats.ttest_ind(mag_fnir_2_1, mag_fnir_2_2)\n",
    "\n",
    "t_statistic, p_value"
   ]
  },
  {
   "cell_type": "markdown",
   "metadata": {},
   "source": []
  },
  {
   "cell_type": "code",
   "execution_count": 14,
   "metadata": {},
   "outputs": [
    {
     "data": {
      "text/plain": [
       "(5.8317862323004785, 1.5934122277819306e-05)"
      ]
     },
     "execution_count": 14,
     "metadata": {},
     "output_type": "execute_result"
    }
   ],
   "source": [
    "import scipy.stats as stats\n",
    "import pandas as pd\n",
    "import sys\n",
    "%matplotlib inline\n",
    "sys.path.append('../../utils')\n",
    "\n",
    "\n",
    "\n",
    "\n",
    "\n",
    "# Perform an independent two-sample t-test\n",
    "t_statistic, p_value = stats.ttest_ind(mag_fnir_baseline, mag_fnir_2_1)\n",
    "\n",
    "t_statistic, p_value"
   ]
  },
  {
   "cell_type": "code",
   "execution_count": 16,
   "metadata": {},
   "outputs": [
    {
     "data": {
      "text/plain": [
       "'0.00000005269'"
      ]
     },
     "execution_count": 16,
     "metadata": {},
     "output_type": "execute_result"
    }
   ],
   "source": [
    "import numpy as np\n",
    "\n",
    "np.format_float_positional(5.2689204453019394e-08, precision=11)"
   ]
  },
  {
   "cell_type": "code",
   "execution_count": 10,
   "metadata": {},
   "outputs": [
    {
     "data": {
      "text/plain": [
       "(9.042121988745532, 4.1082819574137854e-08)"
      ]
     },
     "execution_count": 10,
     "metadata": {},
     "output_type": "execute_result"
    }
   ],
   "source": [
    "import scipy.stats as stats\n",
    "import pandas as pd\n",
    "import sys\n",
    "%matplotlib inline\n",
    "sys.path.append('../../utils')\n",
    "\n",
    "\n",
    "\n",
    "# Perform an independent two-sample t-test\n",
    "t_statistic, p_value = stats.ttest_ind(mag_fnir_baseline, mag_fnir_2_2)\n",
    "\n",
    "t_statistic, p_value"
   ]
  },
  {
   "cell_type": "markdown",
   "metadata": {},
   "source": [
    "# AdaFace baseline vs AdaFace 2.1"
   ]
  },
  {
   "cell_type": "markdown",
   "metadata": {},
   "source": []
  },
  {
   "cell_type": "code",
   "execution_count": 5,
   "metadata": {},
   "outputs": [
    {
     "data": {
      "text/plain": [
       "(-6.498588298572615, 4.1261809078484e-06)"
      ]
     },
     "execution_count": 5,
     "metadata": {},
     "output_type": "execute_result"
    }
   ],
   "source": [
    "import scipy.stats as stats\n",
    "import pandas as pd\n",
    "import sys\n",
    "%matplotlib inline\n",
    "sys.path.append('../../utils')\n",
    "\n",
    "\n",
    "\n",
    "\n",
    "\n",
    "# Perform an independent two-sample t-test\n",
    "t_statistic, p_value = stats.ttest_ind(ada_fnd_baseline, ada_fnd_2_1)\n",
    "\n",
    "t_statistic, p_value\n"
   ]
  },
  {
   "cell_type": "code",
   "execution_count": 13,
   "metadata": {},
   "outputs": [
    {
     "data": {
      "text/plain": [
       "(10.765400161341526, 2.8373719984148042e-09)"
      ]
     },
     "execution_count": 13,
     "metadata": {},
     "output_type": "execute_result"
    }
   ],
   "source": [
    "\n",
    "\n",
    "# Perform an independent two-sample t-test\n",
    "t_statistic, p_value = stats.ttest_ind(ada_fnir_baseline, ada_fnir_2_1)\n",
    "\n",
    "t_statistic, p_value\n"
   ]
  },
  {
   "cell_type": "code",
   "execution_count": 38,
   "metadata": {},
   "outputs": [
    {
     "data": {
      "text/plain": [
       "(21.87831635860077, 2.0341923991313536e-14)"
      ]
     },
     "execution_count": 38,
     "metadata": {},
     "output_type": "execute_result"
    }
   ],
   "source": [
    "\n",
    "# Perform an independent two-sample t-test\n",
    "t_statistic, p_value = stats.ttest_ind(mag_fnir_2_2_c, ada_fnir_2_2_c)\n",
    "\n",
    "t_statistic, p_value"
   ]
  },
  {
   "cell_type": "code",
   "execution_count": 37,
   "metadata": {},
   "outputs": [
    {
     "data": {
      "text/plain": [
       "(28.124199529150772, 2.5045299072078227e-16)"
      ]
     },
     "execution_count": 37,
     "metadata": {},
     "output_type": "execute_result"
    }
   ],
   "source": [
    "\n",
    "# Perform an independent two-sample t-test\n",
    "t_statistic, p_value = stats.ttest_ind(mag_fnir_2_1_c, ada_fnir_2_1_c)\n",
    "\n",
    "t_statistic, p_value"
   ]
  },
  {
   "cell_type": "code",
   "execution_count": 36,
   "metadata": {},
   "outputs": [
    {
     "data": {
      "text/plain": [
       "(0.49650653262240496, 0.6255459921402154)"
      ]
     },
     "execution_count": 36,
     "metadata": {},
     "output_type": "execute_result"
    }
   ],
   "source": [
    "\n",
    "\n",
    "# Perform an independent two-sample t-test\n",
    "t_statistic, p_value = stats.ttest_ind(mag_fnd_2_2, ada_fnd_2_2)\n",
    "\n",
    "t_statistic, p_value"
   ]
  },
  {
   "cell_type": "code",
   "execution_count": 35,
   "metadata": {},
   "outputs": [
    {
     "data": {
      "text/plain": [
       "(1.024148155252082, 0.31933300566080863)"
      ]
     },
     "execution_count": 35,
     "metadata": {},
     "output_type": "execute_result"
    }
   ],
   "source": [
    "\n",
    "\n",
    "# Perform an independent two-sample t-test\n",
    "t_statistic, p_value = stats.ttest_ind(mag_fnd_2_1, ada_fnd_2_1)\n",
    "\n",
    "t_statistic, p_value"
   ]
  },
  {
   "cell_type": "markdown",
   "metadata": {},
   "source": [
    "# AdaFace baseline vs AdaFace 2.2"
   ]
  },
  {
   "cell_type": "code",
   "execution_count": 12,
   "metadata": {},
   "outputs": [
    {
     "data": {
      "text/plain": [
       "(-2.9279759322705226, 0.008985175756483407)"
      ]
     },
     "execution_count": 12,
     "metadata": {},
     "output_type": "execute_result"
    }
   ],
   "source": [
    "import scipy.stats as stats\n",
    "import pandas as pd\n",
    "import sys\n",
    "%matplotlib inline\n",
    "sys.path.append('../../utils')\n",
    "\n",
    "\n",
    "\n",
    "ada_fnd_baseline = pd.read_csv('df_all_results_ada_1_1.csv')\n",
    "ada_fnd_2_2 = pd.read_csv('df_all_results_ada_2_2.csv')\n",
    "ada_fnd_baseline =ada_fnd_baseline.FND\n",
    "ada_fnd_2_2 =ada_fnd_2_2.FND\n",
    "\n",
    "# Perform an independent two-sample t-test\n",
    "t_statistic, p_value = stats.ttest_ind(ada_fnd_baseline, ada_fnd_2_2)\n",
    "\n",
    "t_statistic, p_value\n"
   ]
  },
  {
   "cell_type": "code",
   "execution_count": 13,
   "metadata": {},
   "outputs": [
    {
     "data": {
      "text/plain": [
       "(8.852690171951576, 5.6269930091467076e-08)"
      ]
     },
     "execution_count": 13,
     "metadata": {},
     "output_type": "execute_result"
    }
   ],
   "source": [
    "\n",
    "ada_fnir_baseline = pd.read_csv('df_all_results_ada_1_1.csv')\n",
    "ada_fnir_2_2 = pd.read_csv('df_all_results_ada_2_2.csv')\n",
    "ada_fnir_baseline =ada_fnir_baseline.FNIR_c\n",
    "ada_fnir_2_2 =ada_fnir_2_2.FNIR_c\n",
    "\n",
    "# Perform an independent two-sample t-test\n",
    "t_statistic, p_value = stats.ttest_ind(ada_fnir_baseline, ada_fnir_2_2)\n",
    "\n",
    "t_statistic, p_value\n"
   ]
  },
  {
   "cell_type": "code",
   "execution_count": 14,
   "metadata": {},
   "outputs": [
    {
     "data": {
      "text/plain": [
       "0.018869999999999998"
      ]
     },
     "execution_count": 14,
     "metadata": {},
     "output_type": "execute_result"
    }
   ],
   "source": [
    "0.051*0.37"
   ]
  },
  {
   "cell_type": "code",
   "execution_count": 15,
   "metadata": {},
   "outputs": [
    {
     "data": {
      "text/plain": [
       "0.03219999999999999"
      ]
     },
     "execution_count": 15,
     "metadata": {},
     "output_type": "execute_result"
    }
   ],
   "source": [
    "0.051-0.0188"
   ]
  },
  {
   "cell_type": "code",
   "execution_count": null,
   "metadata": {},
   "outputs": [],
   "source": []
  },
  {
   "cell_type": "code",
   "execution_count": null,
   "metadata": {},
   "outputs": [],
   "source": []
  },
  {
   "cell_type": "code",
   "execution_count": null,
   "metadata": {},
   "outputs": [],
   "source": []
  },
  {
   "cell_type": "code",
   "execution_count": null,
   "metadata": {},
   "outputs": [],
   "source": []
  },
  {
   "cell_type": "code",
   "execution_count": null,
   "metadata": {},
   "outputs": [],
   "source": []
  }
 ],
 "metadata": {
  "kernelspec": {
   "display_name": "venv",
   "language": "python",
   "name": "python3"
  },
  "language_info": {
   "codemirror_mode": {
    "name": "ipython",
    "version": 3
   },
   "file_extension": ".py",
   "mimetype": "text/x-python",
   "name": "python",
   "nbconvert_exporter": "python",
   "pygments_lexer": "ipython3",
   "version": "3.10.14"
  }
 },
 "nbformat": 4,
 "nbformat_minor": 2
}
