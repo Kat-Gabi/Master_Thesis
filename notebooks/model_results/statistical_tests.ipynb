{
 "cells": [
  {
   "cell_type": "markdown",
   "metadata": {},
   "source": [
    "# Statistical tests "
   ]
  },
  {
   "cell_type": "markdown",
   "metadata": {},
   "source": [
    "# Magface 1.1 FNIR "
   ]
  },
  {
   "cell_type": "code",
   "execution_count": 1,
   "metadata": {},
   "outputs": [
    {
     "name": "stdout",
     "output_type": "stream",
     "text": [
      "T-statistic: 16.483869505641145\n",
      "P-value: 4.959422699384852e-08\n"
     ]
    }
   ],
   "source": [
    "import pandas as pd\n",
    "from scipy import stats\n",
    "\n",
    "# Assuming you have the DataFrame with the following data\n",
    "data = {\n",
    "    'Iter': [1, 2, 3, 4, 5, 6, 7, 8, 9, 10],\n",
    "    'FNIR_c': [0.0534, 0.040438, 0.042005, 0.051270, 0.055046, 0.046968, 0.039599, 0.044831, 0.042976, 0.049977],\n",
    "    'FNIR_a': [0.0155, 0.014144, 0.017344, 0.013438, 0.012785, 0.015214, 0.016575, 0.012862, 0.009901, 0.016667]\n",
    "}\n",
    "\n",
    "df = pd.DataFrame(data)\n",
    "\n",
    "# Performing the paired t-test\n",
    "t_statistic, p_value = stats.ttest_rel(df['FNIR_c'], df['FNIR_a'])\n",
    "\n",
    "# Output the results\n",
    "print(f'T-statistic: {t_statistic}')\n",
    "print(f'P-value: {p_value}')\n"
   ]
  },
  {
   "cell_type": "markdown",
   "metadata": {},
   "source": [
    "# Adaface 1.1 FNIR\n"
   ]
  },
  {
   "cell_type": "markdown",
   "metadata": {},
   "source": []
  }
 ],
 "metadata": {
  "kernelspec": {
   "display_name": "venv",
   "language": "python",
   "name": "python3"
  },
  "language_info": {
   "codemirror_mode": {
    "name": "ipython",
    "version": 3
   },
   "file_extension": ".py",
   "mimetype": "text/x-python",
   "name": "python",
   "nbconvert_exporter": "python",
   "pygments_lexer": "ipython3",
   "version": "3.10.12"
  }
 },
 "nbformat": 4,
 "nbformat_minor": 2
}
