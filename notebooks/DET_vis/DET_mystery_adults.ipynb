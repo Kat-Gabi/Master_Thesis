{
 "cells": [
  {
   "cell_type": "code",
   "execution_count": 1,
   "metadata": {},
   "outputs": [],
   "source": [
    "import math\n",
    "import operator\n",
    "from pathlib import Path\n",
    "\n",
    "from ipywidgets import fixed, interact\n",
    "import ipywidgets as widgets\n",
    "import matplotlib.patches as mpatches\n",
    "import matplotlib.pyplot as plt\n",
    "import numpy as np\n",
    "import pandas as pd\n",
    "from scipy.stats import describe, gaussian_kde\n",
    "import seaborn as sns\n",
    "\n",
    "import sys\n",
    "sys.path.insert(0, '../../utils')\n",
    "\n",
    "\n",
    "\n",
    "\n",
    "mated_colour = \"green\"\n",
    "mated_label = \"Mated scores\"\n",
    "nonmated_colour = \"red\"\n",
    "nonmated_label = \"Non-mated scores\"\n",
    "\n",
    "figure_size = (12,6)\n",
    "alpha_shade = 0.25\n",
    "alpha_fill = 1.0\n",
    "linewidth = 2\n",
    "legend_loc = \"upper left\"\n",
    "legend_anchor = (1.0, 1.02)\n",
    "legend_cols = 1\n",
    "legend_fontsize = 12\n",
    "label_fontsize = 16\n",
    "\n",
    "threshold_colour = \"black\"\n",
    "threshold_style = \"--\"\n",
    "round_digits = 5\n",
    "sns.set(style=\"white\", palette=\"muted\", color_codes=True)\n",
    "plt.rc(\"axes\", axisbelow=True)\n",
    "\n",
    "# load utils\n",
    "import sys\n",
    "sys.path.insert(0, '../utils')\n",
    "from Model_utils.Model_funcs import *\n",
    "\n",
    "# Convert child ids to real ids as in child_balanced.\n",
    "\n",
    "# For all Ids, get last id name and convert to unique ids\n",
    "def convert_unique_ids(ids):\n",
    "    unique_ids_list = []\n",
    "    for id in ids:\n",
    "        im_name = id.split(\"/\")[-1][:-4]\n",
    "        if '.' in im_name:\n",
    "            un_id = im_name[:-5]\n",
    "        else:\n",
    "            un_id = \"_\".join(im_name.split(\"_\")[:-1])\n",
    "\n",
    "        unique_ids_list.append(un_id)\n",
    "    return unique_ids_list\n",
    "\n",
    "# Get unique ids\n",
    "def factorize_ids(ids):\n",
    "    unique_ids = {}\n",
    "    factors = []\n",
    "    for id in ids:\n",
    "        if id not in unique_ids:\n",
    "            unique_ids[id] = len(unique_ids)  # Assign a unique index for each unique ID\n",
    "        factors.append(unique_ids[id])  # Append the index corresponding to the ID\n",
    "    return factors, unique_ids\n"
   ]
  },
  {
   "cell_type": "code",
   "execution_count": 2,
   "metadata": {},
   "outputs": [],
   "source": [
    "# path_children_feature_vector = '../../data/data_full/feature_vectors/magface_feature_vectors/feat_img_children_full.list'\n",
    "\n",
    "path_adults_feature_vector = '../../data/data_full/feature_vectors/magface_feature_vectors/feat_img_adults_full.list'"
   ]
  },
  {
   "cell_type": "code",
   "execution_count": 3,
   "metadata": {},
   "outputs": [],
   "source": [
    "# from Data_proc_utils.Data_proc_funcs import *\n",
    "# random_states = [42]\n",
    "# a_df = pd.read_csv('../../data/image_info_csvs/final_filtered_adults_df_BIBEL.csv')\n",
    "# adults_all = a_df\n",
    "# children_all = pd.read_csv('../../data/image_info_csvs/final_filtered_children_df_BIBEL.csv')\n",
    "# children_balanced_df_1 = balance_child_data(children_all, print_stats=True, random_state=random_states[0])\n",
    "# adults_balanced_df_1 = balance_adults_data_enrolled(children_balanced_df_1, adults_all, print_stats=True, random_state=random_states[0])\n"
   ]
  },
  {
   "cell_type": "code",
   "execution_count": 4,
   "metadata": {},
   "outputs": [],
   "source": [
    "with open(path_adults_feature_vector, 'r') as f:\n",
    "    lines = f.readlines()[:2000]\n",
    "\n",
    "\n",
    "img_2_feats = {}\n",
    "img_2_mag = {}\n",
    "# Convert to dictionary as adaface - is done in img_2_feats\n",
    "for line in lines:\n",
    "    parts = line.strip().split(' ')\n",
    "    imgname = parts[0]\n",
    "    imgname = \"/\"+\"/\".join(imgname.split(\"/\")[4:])\n",
    "    feats = [float(e) for e in parts[1:]]\n",
    "    mag = np.linalg.norm(feats)\n",
    "    img_2_feats[imgname] = feats/mag\n",
    "    img_2_mag[imgname] = mag #magnitude of the feature vector\n",
    "imgnames = list(img_2_mag.keys())\n",
    "mags = [img_2_mag[imgname] for imgname in imgnames]\n",
    "sort_idx = np.argsort(mags) #sorts the magnitude/quality of the images\n",
    "feats_a = np.array([img_2_feats[imgnames[ele]] for ele in range(len(lines))]) #unsorted image quality\n",
    "ids_a = np.array([imgnames[ele] for ele in range(len(lines))])\n"
   ]
  },
  {
   "cell_type": "code",
   "execution_count": 5,
   "metadata": {},
   "outputs": [],
   "source": [
    "sim_mat_a = np.dot(feats_a, feats_a.T)"
   ]
  },
  {
   "cell_type": "code",
   "execution_count": 6,
   "metadata": {},
   "outputs": [],
   "source": [
    "ids_a = convert_unique_ids(ids_a)"
   ]
  },
  {
   "cell_type": "code",
   "execution_count": 7,
   "metadata": {},
   "outputs": [],
   "source": [
    "factors_a, unique_ids = factorize_ids(ids_a)"
   ]
  },
  {
   "cell_type": "code",
   "execution_count": 8,
   "metadata": {},
   "outputs": [],
   "source": [
    "sim_scores_a = sim_mat_a.copy()\n",
    "plot_sims_a = sim_scores_a[sim_scores_a < 0.999].reshape(-1)"
   ]
  },
  {
   "cell_type": "code",
   "execution_count": 9,
   "metadata": {},
   "outputs": [],
   "source": [
    "\n",
    "# Mated and non-mated ids\n",
    "a_df = pd.read_csv('../../data/image_info_csvs/final_filtered_adults_df_BIBEL.csv')\n",
    "c_df = pd.read_csv('../../data/image_info_csvs/final_filtered_adults_df_BIBEL.csv')\n",
    "\n",
    "OFIQ_component_1 = 'UnifiedQualityScore.scalar' #'HeadPoseYaw.scalar' #\t\t'HeadPosePitch.scalar'\t'HeadPoseRoll.scalar'\n",
    "# OFIQ_component_2 = 'HeadPoseRoll.scalar'\n",
    "# OFIQ_component_3 = 'UnifiedQualityScore.scalar'\n",
    "\n",
    "\n",
    "poor_c_ofiq = c_df[c_df[OFIQ_component_1] < c_df[OFIQ_component_1].quantile(0.75)]\n",
    "poor_a_ofiq = a_df[a_df[OFIQ_component_1] > a_df[OFIQ_component_1].quantile(0.75)]\n"
   ]
  },
  {
   "cell_type": "code",
   "execution_count": 10,
   "metadata": {},
   "outputs": [
    {
     "name": "stdout",
     "output_type": "stream",
     "text": [
      "6534 26263 6534\n"
     ]
    }
   ],
   "source": [
    "subset_a_df = a_df[a_df['image_name'].isin(poor_a_ofiq['image_name'])]\n",
    "subset_c_df = c_df[c_df['image_name'].isin(poor_c_ofiq['image_name'])]\n",
    "\n",
    "print(len(subset_a_df),len(a_df),len(poor_a_ofiq))"
   ]
  },
  {
   "cell_type": "code",
   "execution_count": 11,
   "metadata": {},
   "outputs": [],
   "source": [
    "a_mates = subset_a_df.groupby(\"identity_name\").agg({'identity_name': ['count']})\n",
    "# a_mates = a_df.groupby(\"identity_name\").agg({'identity_name': ['count']})\n",
    "a_mated_ids = a_mates[a_mates[('identity_name', 'count')] > 1].index\n",
    "a_nonmated_ids = a_mates[a_mates[('identity_name', 'count')] == 1].index\n",
    "\n",
    "\n",
    "c_mates = subset_c_df.groupby(\"identity_name\").agg({'identity_name': ['count']})\n",
    "# c_mates = c_df.groupby(\"identity_name\").agg({'identity_name': ['count']})\n",
    "c_mated_ids = c_mates[c_mates[('identity_name', 'count')] > 1].index\n",
    "c_nonmated_ids = c_mates[c_mates[('identity_name', 'count')] == 1].index"
   ]
  },
  {
   "cell_type": "code",
   "execution_count": null,
   "metadata": {},
   "outputs": [],
   "source": []
  },
  {
   "cell_type": "code",
   "execution_count": null,
   "metadata": {},
   "outputs": [],
   "source": []
  },
  {
   "cell_type": "code",
   "execution_count": null,
   "metadata": {},
   "outputs": [],
   "source": [
    "compute_fnir(c_mated_ids, sim_scores, im_ids_c, ids, thold=thold_c)\n",
    "# compute_fnir(enrolled_sim_mat, sim_mat, enrolled_ids, enrolled_num_id, ids, thold=0.5):\n"
   ]
  },
  {
   "cell_type": "code",
   "execution_count": null,
   "metadata": {},
   "outputs": [],
   "source": []
  },
  {
   "cell_type": "code",
   "execution_count": null,
   "metadata": {},
   "outputs": [],
   "source": [
    "# children\n",
    "\n",
    "ids = convert_unique_ids(ids_c)\n",
    "factors_c, unique_ids = factorize_ids(ids)\n",
    "\n",
    "\n",
    "## Threshold set based on studying the similarity scores\n",
    "thold_c = np.percentile(plot_sims_c, 99)\n",
    "im_ids_c = np.array(factors_c)\n",
    "\n",
    "mated_df = c_mated_ids\n",
    "non_mated_df = c_nonmated_ids\n",
    "sim_scores = sim_scores_c\n",
    "im_ids = im_ids_c\n",
    "ids = ids\n",
    "\n",
    "fnir_c = compute_fnir(c_mated_ids, sim_scores, im_ids_c, ids, thold=thold_c)\n",
    "fpir_c = compute_fpir(c_nonmated_ids, sim_scores, im_ids_c, ids, thold=thold_c)\n",
    "\n",
    "\n",
    "# adults\n",
    "thold_a = np.percentile(plot_sims_a, 99)\n",
    "im_ids_a = np.array(factors_a)\n",
    "\n",
    "mated_df = a_mated_ids\n",
    "non_mated_df = a_nonmated_ids\n",
    "sim_scores = sim_scores_a\n",
    "im_ids = im_ids_a\n",
    "ids = ids_a\n",
    "\n",
    "fnir_a = compute_fnir(mated_df, sim_scores_a, im_ids, ids, thold=thold_a)\n",
    "fpir_a = compute_fpir(non_mated_df, sim_scores_a, im_ids, ids, thold=thold_a)\n"
   ]
  }
 ],
 "metadata": {
  "kernelspec": {
   "display_name": "Katrine_MLOps_env",
   "language": "python",
   "name": "python3"
  },
  "language_info": {
   "codemirror_mode": {
    "name": "ipython",
    "version": 3
   },
   "file_extension": ".py",
   "mimetype": "text/x-python",
   "name": "python",
   "nbconvert_exporter": "python",
   "pygments_lexer": "ipython3",
   "version": "3.10.6"
  }
 },
 "nbformat": 4,
 "nbformat_minor": 2
}
