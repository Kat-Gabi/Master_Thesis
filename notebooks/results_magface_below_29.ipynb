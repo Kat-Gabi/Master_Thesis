{
 "cells": [
  {
   "cell_type": "markdown",
   "metadata": {},
   "source": [
    "## Results metrics\n",
    "\n",
    "A threshold \"T\" is used to classify a test case to be either a correct (true or positive) case or false (negative) case. If the case is below a threshold \"T\" then it is classified false (negative) and if it is above threshold \"T\" it is classified true (positive).\n",
    "\n",
    "**FPIR**: is the false positive identification rate. It is the ratio of the test cases that are classified as true cases although they are false cases. It is type I error. \n",
    "FPIR= Number of test cases classified above threshold \"T\" (true) / Number of all test cases\n",
    "\n",
    "**FNIR**: is the false negative identification rate. It is  the ratio of the test cases that are classified as false cases although they are true cases. It is type II error.\n",
    "FNIR= Number of test cases classified below threshold \"T\" (false) / Number of all test cases"
   ]
  },
  {
   "cell_type": "code",
   "execution_count": 8,
   "metadata": {},
   "outputs": [],
   "source": [
    "# Load libraries\n",
    "import numpy as np\n",
    "import cv2\n",
    "from matplotlib import pyplot as plt\n",
    "# import torch\n",
    "import seaborn as sns\n",
    "import pandas as pd\n",
    "sns.set(style=\"white\")\n",
    "%matplotlib inline"
   ]
  },
  {
   "cell_type": "code",
   "execution_count": 2,
   "metadata": {},
   "outputs": [],
   "source": [
    "# load utils\n",
    "import sys\n",
    "sys.path.insert(0, '../utils')\n",
    "from MagFace_utils.MagFace_funcs import *\n"
   ]
  },
  {
   "cell_type": "code",
   "execution_count": null,
   "metadata": {},
   "outputs": [],
   "source": [
    "# Convert child ids to real ids as in child_balanced.\n",
    "\n",
    "# For all Ids, get last id name and convert to unique ids\n",
    "def convert_unique_ids(ids):\n",
    "    unique_ids_list = []\n",
    "    for id in ids:\n",
    "        im_name = id.split(\"/\")[-1][:-4]\n",
    "        if '.' in im_name:\n",
    "            un_id = im_name[:-5]\n",
    "        else:\n",
    "            un_id = \"_\".join(im_name.split(\"_\")[:-1])\n",
    "\n",
    "        unique_ids_list.append(un_id)\n",
    "    return unique_ids_list\n",
    "\n",
    "# Get unique ids\n",
    "def factorize_ids(ids):\n",
    "    unique_ids = {}\n",
    "    factors = []\n",
    "    for id in ids:\n",
    "        if id not in unique_ids:\n",
    "            unique_ids[id] = len(unique_ids)  # Assign a unique index for each unique ID\n",
    "        factors.append(unique_ids[id])  # Append the index corresponding to the ID\n",
    "    return factors, unique_ids\n"
   ]
  },
  {
   "cell_type": "code",
   "execution_count": 3,
   "metadata": {},
   "outputs": [],
   "source": [
    "# load childrens feature vectors and load adults featur vector\n",
    "with open('../data/feat_children.list', 'r') as f:\n",
    "    lines = f.readlines()\n",
    "img_2_feats = {}\n",
    "img_2_mag = {}\n",
    "for line in lines:\n",
    "    parts = line.strip().split(' ')\n",
    "    imgname = parts[0]\n",
    "    imgname = \"/\"+\"/\".join(imgname.split(\"/\")[4:])\n",
    "    feats = [float(e) for e in parts[1:]]\n",
    "    mag = np.linalg.norm(feats)\n",
    "    img_2_feats[imgname] = feats/mag\n",
    "    img_2_mag[imgname] = mag #magnitude of the feature vector\n",
    "\n",
    "imgnames = list(img_2_mag.keys())\n",
    "mags = [img_2_mag[imgname] for imgname in imgnames]\n",
    "sort_idx = np.argsort(mags) #sorts the magnitude/quality of the images\n",
    "feats = np.array([img_2_feats[imgnames[ele]] for ele in range(len(lines))]) #unsorted image quality\n",
    "ids = np.array([imgnames[ele] for ele in range(len(lines))])\n",
    "\n",
    "sim_mat_c = np.dot(feats, feats.T)\n",
    "sim_scores_c = sim_mat_c.copy()\n",
    "plot_sims = sim_scores_c[sim_scores_c < 0.9999].reshape(-1)\n"
   ]
  },
  {
   "cell_type": "code",
   "execution_count": null,
   "metadata": {},
   "outputs": [],
   "source": []
  },
  {
   "cell_type": "code",
   "execution_count": 4,
   "metadata": {},
   "outputs": [],
   "source": [
    "\n",
    "with open('../data/feat_adults_new.list', 'r') as f:\n",
    "    lines = f.readlines()\n",
    "\n",
    "img_2_feats = {}\n",
    "img_2_mag = {}\n",
    "# Convert to dictionary as adaface - is done in img_2_feats\n",
    "for line in lines:\n",
    "    parts = line.strip().split(' ')\n",
    "    imgname = parts[0]\n",
    "    imgname = \"/\"+\"/\".join(imgname.split(\"/\")[4:])\n",
    "    feats = [float(e) for e in parts[1:]]\n",
    "    mag = np.linalg.norm(feats)\n",
    "    img_2_feats[imgname] = feats/mag\n",
    "    img_2_mag[imgname] = mag #magnitude of the feature vector\n",
    "imgnames = list(img_2_mag.keys())\n",
    "mags = [img_2_mag[imgname] for imgname in imgnames]\n",
    "sort_idx = np.argsort(mags) #sorts the magnitude/quality of the images\n",
    "feats_a = np.array([img_2_feats[imgnames[ele]] for ele in range(len(lines))]) #unsorted image quality\n",
    "ids_a = np.array([imgnames[ele] for ele in range(len(lines))])\n",
    "\n",
    "sim_mat_a = np.dot(feats_a, feats_a.T)\n",
    "ids_a = convert_unique_ids(ids_a)\n",
    "factors_a, unique_ids = factorize_ids(ids)\n",
    "\n",
    "\n",
    "sim_scores_a = sim_mat_a.copy()\n",
    "plot_sims_a = sim_scores_a[sim_scores_a < 0.999].reshape(-1)\n"
   ]
  },
  {
   "cell_type": "code",
   "execution_count": 10,
   "metadata": {},
   "outputs": [
    {
     "name": "stderr",
     "output_type": "stream",
     "text": [
      "/tmp/ipykernel_36518/4145593324.py:28: SettingWithCopyWarning: \n",
      "A value is trying to be set on a copy of a slice from a DataFrame.\n",
      "Try using .loc[row_indexer,col_indexer] = value instead\n",
      "\n",
      "See the caveats in the documentation: https://pandas.pydata.org/pandas-docs/stable/user_guide/indexing.html#returning-a-view-versus-a-copy\n",
      "  poor_a_ofiq['Identityname'] = poor_a_ofiq['Filename'].apply(extract_identifier)\n",
      "/tmp/ipykernel_36518/4145593324.py:29: SettingWithCopyWarning: \n",
      "A value is trying to be set on a copy of a slice from a DataFrame.\n",
      "Try using .loc[row_indexer,col_indexer] = value instead\n",
      "\n",
      "See the caveats in the documentation: https://pandas.pydata.org/pandas-docs/stable/user_guide/indexing.html#returning-a-view-versus-a-copy\n",
      "  poor_c_ofiq['Identityname'] = poor_c_ofiq['Filename'].apply(extract_identifier)\n"
     ]
    }
   ],
   "source": [
    "\n",
    "# Mated and non-mated ids\n",
    "a_df = pd.read_csv('../data/adults_balanced.csv')\n",
    "c_df = pd.read_csv('../data/child_balanced.csv')\n",
    "# can_df = pd.read_csv('../data/can_balanced.csv')\n",
    "# a_df = pd.read_csv('/mnt/c/Dokumenter/Dokumenter/UNI/Master/Thesis/GitHub_Repo/Master_Thesis/notebooks/loadings/mated_adults_image_info.csv')\n",
    "# c_df = pd.read_csv('/mnt/c/Dokumenter/Dokumenter/UNI/Master/Thesis/GitHub_Repo/Master_Thesis/notebooks/loadings/mated_children_image_info.csv')\n",
    "\n",
    "\n",
    "# load the OFIQ csv for children and adults\n",
    "\n",
    "df_c_ofiq = pd.read_csv(\"../data/OFIQ_results/children_all_final.csv\", sep=\";\")\n",
    "df_a_ofiq = pd.read_csv(\"../data/OFIQ_results/adults_all_final.csv\", sep=\";\")\n",
    "df_can_ofiq = pd.read_csv(\"../data/OFIQ_results/canonical_children.csv\", sep=\";\")\n",
    "poor_c_ofiq = df_c_ofiq[df_c_ofiq['UnifiedQualityScore.scalar'] < 29]\n",
    "poor_a_ofiq = df_a_ofiq[df_a_ofiq['UnifiedQualityScore.scalar'] < 29]\n",
    "poor_can_ofiq = df_can_ofiq[df_can_ofiq['UnifiedQualityScore.scalar'] < 29]\n",
    "\n",
    "def extract_identifier(filepath):\n",
    "    filename = filepath.split('/')[-1]\n",
    "    parts = filename.split('.')\n",
    "    if parts[-2].isdigit():\n",
    "        identifier = '.'.join(parts[-3:-1])\n",
    "    else:\n",
    "        identifier = '.'.join(parts[:-1])  # Join everything except the extension\n",
    "    return identifier\n",
    "\n",
    "# Apply the function on the DataFrame column\n",
    "poor_a_ofiq['Identityname'] = poor_a_ofiq['Filename'].apply(extract_identifier)\n",
    "poor_c_ofiq['Identityname'] = poor_c_ofiq['Filename'].apply(extract_identifier)\n",
    "poor_can_ofiq['Identityname'] = poor_can_ofiq['Filename'].apply(extract_identifier)\n",
    "\n",
    "\n",
    "subset_a_df = a_df[a_df['img_name'].isin(poor_a_ofiq['Identityname'])]\n",
    "subset_c_df = c_df[c_df['img_name'].isin(poor_c_ofiq['Identityname'])]\n",
    "# subset_can_df = can_df[can_df['img_name'].isin(poor_can_ofiq['Identityname'])]\n"
   ]
  },
  {
   "cell_type": "code",
   "execution_count": 11,
   "metadata": {},
   "outputs": [],
   "source": [
    "\n",
    "a_mates = subset_a_df.groupby(\"im_id\").agg({'im_id': ['count']})\n",
    "a_mated_ids = a_mates[a_mates[('im_id', 'count')] > 1].index\n",
    "a_nonmated_ids = a_mates[a_mates[('im_id', 'count')] == 1].index\n",
    "\n",
    "\n",
    "c_mates = subset_c_df.groupby(\"im_id\").agg({'im_id': ['count']})\n",
    "c_mated_ids = c_mates[c_mates[('im_id', 'count')] > 1].index\n",
    "c_nonmated_ids = c_mates[c_mates[('im_id', 'count')] == 1].index\n",
    "\n",
    "\n",
    "# Mated and non-mated ids\n",
    "# can_mates = can_df.groupby(\"im_id\").agg({'im_id': ['count']})\n",
    "# can_mated_ids = can_mates[can_mates[('im_id', 'count')] > 1].index\n",
    "# can_nonmated_ids = can_mates[can_mates[('im_id', 'count')] == 1].index"
   ]
  },
  {
   "cell_type": "code",
   "execution_count": 12,
   "metadata": {},
   "outputs": [
    {
     "data": {
      "text/plain": [
       "Index(['m.011_2h', 'm.014dv4', 'm.018fkc', 'm.01cy59', 'm.01h1r7', 'm.01k0jt',\n",
       "       'm.01l03w2', 'm.01l4tnh', 'm.01l_04j', 'm.01mm_tv',\n",
       "       ...\n",
       "       'm.0jwrx0x', 'm.0jzt0s', 'm.0k_lgy', 'm.0ks_18', 'm.0lyqn', 'm.0n52p_l',\n",
       "       'm.0r4xp0m', 'm.0rpgdj5', 'm.0rytzv1', 'm.0sw4nqr'],\n",
       "      dtype='object', name='im_id', length=153)"
      ]
     },
     "execution_count": 12,
     "metadata": {},
     "output_type": "execute_result"
    }
   ],
   "source": [
    "a_nonmated_ids"
   ]
  },
  {
   "cell_type": "code",
   "execution_count": 22,
   "metadata": {},
   "outputs": [],
   "source": [
    "# check if any name from a_nonmated_ids.im_id appear in /mnt/c/Dokumenter/Dokumenter/UNI/Master/Thesis/GitHub_Repo/Master_Thesis/notebooks/loadings/mated_adults_image_info.csv\n",
    "mated_adults_image_info = pd.read_csv('/mnt/c/Dokumenter/Dokumenter/UNI/Master/Thesis/GitHub_Repo/Master_Thesis/notebooks/loadings/mated_adults_image_info.csv')\n",
    "\n",
    "\n",
    "# lll\n",
    "# lll"
   ]
  },
  {
   "cell_type": "code",
   "execution_count": 30,
   "metadata": {},
   "outputs": [
    {
     "data": {
      "text/plain": [
       "60"
      ]
     },
     "execution_count": 30,
     "metadata": {},
     "output_type": "execute_result"
    }
   ],
   "source": [
    "# return all the identities which occur both in mated_adults_image_info.identity_name and in a_nonmated_ids\n",
    "len(mated_adults_image_info[mated_adults_image_info['identity_name'].isin(a_nonmated_ids)])\n",
    "# observation: der er mange filer fra mated info, der befinder sig i nonmated_ids\n"
   ]
  },
  {
   "cell_type": "code",
   "execution_count": 6,
   "metadata": {},
   "outputs": [
    {
     "name": "stdout",
     "output_type": "stream",
     "text": [
      "FNIR for children:  (1.0097087378640777, array([0.72422793, 0.67901897, 0.72422793, ..., 0.45288209, 0.52189381,\n",
      "       0.45288209]))\n",
      "FPIR for children:  (1.265625, array([ 0.10366938,  0.09752617,  0.14648501, ...,  0.00873054,\n",
      "       -0.12769796, -0.02518599]), array([[1.        , 0.72422793, 0.67901897, ..., 0.10887856, 0.16981499,\n",
      "        0.1959246 ],\n",
      "       [0.72422793, 1.        , 0.7677642 , ..., 0.16553825, 0.17820952,\n",
      "        0.29758607],\n",
      "       [0.67901897, 0.7677642 , 1.        , ..., 0.19140869, 0.08421105,\n",
      "        0.19525943],\n",
      "       ...,\n",
      "       [0.10887856, 0.16553825, 0.19140869, ..., 1.        , 0.28783875,\n",
      "        0.28300633],\n",
      "       [0.16981499, 0.17820952, 0.08421105, ..., 0.28783875, 1.        ,\n",
      "        0.66417667],\n",
      "       [0.1959246 , 0.29758607, 0.19525943, ..., 0.28300633, 0.66417667,\n",
      "        1.        ]]))\n"
     ]
    }
   ],
   "source": [
    "# children\n",
    "\n",
    "ids = convert_unique_ids(ids)\n",
    "factors_c, unique_ids = factorize_ids(ids)\n",
    "\n",
    "\n",
    "## Threshold set based on studying the similarity scores\n",
    "thold_c = np.percentile(plot_sims, 99)\n",
    "im_ids_c = np.array(factors_c)\n",
    "\n",
    "mated_df = c_mated_ids\n",
    "non_mated_df = c_nonmated_ids\n",
    "sim_scores = sim_scores_c\n",
    "im_ids = im_ids_c\n",
    "ids = ids\n",
    "\n",
    "fnir_c = compute_fnir(c_mated_ids, sim_scores, im_ids_c, ids, thold=thold_c)\n",
    "fpir_c = compute_fpir(c_nonmated_ids, sim_scores, im_ids_c, ids, thold=thold_c)\n",
    "\n",
    "print(\"FNIR for children: \", fnir_c)\n",
    "print(\"FPIR for children: \", fpir_c)"
   ]
  },
  {
   "cell_type": "code",
   "execution_count": 7,
   "metadata": {},
   "outputs": [
    {
     "name": "stdout",
     "output_type": "stream",
     "text": [
      "FNIR for children:  (0.0, array([], dtype=float64))\n",
      "FPIR for children:  (0.0, array([], dtype=float64), array([[1.        , 0.72422793, 0.67901897, ..., 0.10887856, 0.16981499,\n",
      "        0.1959246 ],\n",
      "       [0.72422793, 1.        , 0.7677642 , ..., 0.16553825, 0.17820952,\n",
      "        0.29758607],\n",
      "       [0.67901897, 0.7677642 , 1.        , ..., 0.19140869, 0.08421105,\n",
      "        0.19525943],\n",
      "       ...,\n",
      "       [0.10887856, 0.16553825, 0.19140869, ..., 1.        , 0.28783875,\n",
      "        0.28300633],\n",
      "       [0.16981499, 0.17820952, 0.08421105, ..., 0.28783875, 1.        ,\n",
      "        0.66417667],\n",
      "       [0.1959246 , 0.29758607, 0.19525943, ..., 0.28300633, 0.66417667,\n",
      "        1.        ]]))\n"
     ]
    }
   ],
   "source": [
    "# children\n",
    "\n",
    "ids = convert_unique_ids(ids)\n",
    "factors_c, unique_ids = factorize_ids(ids)\n",
    "\n",
    "\n",
    "## Threshold set based on studying the similarity scores\n",
    "thold_c = np.percentile(plot_sims, 99)\n",
    "im_ids_c = np.array(factors_c)\n",
    "\n",
    "mated_df = c_mated_ids\n",
    "non_mated_df = c_nonmated_ids\n",
    "sim_scores = sim_scores_c\n",
    "im_ids = im_ids_c\n",
    "ids = ids\n",
    "\n",
    "fnir_c = compute_fnir(c_mated_ids, sim_scores, im_ids_c, ids, thold=thold_c)\n",
    "fpir_c = compute_fpir(c_nonmated_ids, sim_scores, im_ids_c, ids, thold=thold_c)\n",
    "\n",
    "print(\"FNIR for children: \", fnir_c)\n",
    "print(\"FPIR for children: \", fpir_c)"
   ]
  },
  {
   "cell_type": "code",
   "execution_count": 8,
   "metadata": {},
   "outputs": [],
   "source": [
    "mated_sim_scores_child_below_29 = compute_fnir(c_mated_ids, sim_scores, im_ids_c, ids, thold=thold_c)[1]\n",
    "nonmated_sim_scores_child_below_29 = compute_fpir(c_nonmated_ids, sim_scores, im_ids_c, ids, thold=thold_c)[1]"
   ]
  },
  {
   "cell_type": "code",
   "execution_count": 9,
   "metadata": {},
   "outputs": [],
   "source": [
    "np.save('mated_sim_scores_child_below_29.npy', mated_sim_scores_child_below_29)\n",
    "np.save('nonmated_sim_scores_child_below_29.npy', nonmated_sim_scores_child_below_29)\n"
   ]
  },
  {
   "cell_type": "markdown",
   "metadata": {},
   "source": [
    "### adults"
   ]
  },
  {
   "cell_type": "code",
   "execution_count": 10,
   "metadata": {},
   "outputs": [],
   "source": [
    "# adults\n",
    "## Threshold set based on studying the similarity scores\n",
    "thold_a = np.percentile(plot_sims_a, 99)\n",
    "im_ids_a = np.array(factors_a)\n",
    "\n",
    "mated_df = a_mated_ids\n",
    "non_mated_df = a_nonmated_ids\n",
    "sim_scores = sim_scores_a\n",
    "im_ids = im_ids_a\n",
    "ids = ids_a\n",
    "\n",
    "fnir_a = compute_fnir(mated_df, sim_scores_a, im_ids, ids, thold=thold_a)\n",
    "fpir_a = compute_fpir(non_mated_df, sim_scores_a, im_ids, ids, thold=thold_a)\n"
   ]
  },
  {
   "cell_type": "code",
   "execution_count": 11,
   "metadata": {},
   "outputs": [
    {
     "name": "stdout",
     "output_type": "stream",
     "text": [
      "FNIR for adults:  0.0\n",
      "FPIR for adults:  0.8235294117647058\n"
     ]
    }
   ],
   "source": [
    "print(\"FNIR for adults: \", fnir_a[0])\n",
    "print(\"FPIR for adults: \", fpir_a[0])\n"
   ]
  },
  {
   "cell_type": "code",
   "execution_count": 12,
   "metadata": {},
   "outputs": [],
   "source": [
    "mated_sim_scores_adult_below_29 = fnir_a[1]\n",
    "nonmated_sim_scores_adult_below_29 = fpir_a[1]"
   ]
  },
  {
   "cell_type": "code",
   "execution_count": 13,
   "metadata": {},
   "outputs": [],
   "source": [
    "np.save('mated_sim_scores_adult_below_29.npy', mated_sim_scores_adult_below_29)\n",
    "np.save('nonmated_sim_scores_adult_below_29.npy', nonmated_sim_scores_adult_below_29)"
   ]
  },
  {
   "cell_type": "code",
   "execution_count": 14,
   "metadata": {},
   "outputs": [
    {
     "data": {
      "text/plain": [
       "0.4825735789771279"
      ]
     },
     "execution_count": 14,
     "metadata": {},
     "output_type": "execute_result"
    }
   ],
   "source": [
    "thold_a"
   ]
  },
  {
   "cell_type": "code",
   "execution_count": 15,
   "metadata": {},
   "outputs": [
    {
     "data": {
      "text/plain": [
       "0.4752905018186878"
      ]
     },
     "execution_count": 15,
     "metadata": {},
     "output_type": "execute_result"
    }
   ],
   "source": [
    "thold_c"
   ]
  },
  {
   "cell_type": "code",
   "execution_count": 16,
   "metadata": {},
   "outputs": [],
   "source": [
    "# Total number of transactions = n child ids + n adult ids\n",
    "n_child_ids = len(im_ids_c)\n",
    "n_adult_ids = len(im_ids_a)\n",
    "n = n_child_ids + n_adult_ids"
   ]
  },
  {
   "cell_type": "code",
   "execution_count": 17,
   "metadata": {},
   "outputs": [
    {
     "name": "stdout",
     "output_type": "stream",
     "text": [
      "FPD result:  0.0\n",
      "FND result:  0.0\n"
     ]
    }
   ],
   "source": [
    "# FPD = fpir_c/fpir_a\n",
    "# print(\"FPD result: \", FPD)\n",
    "\n",
    "\n",
    "# FND = fnir_c/fnir_a\n",
    "# print(\"FND result: \", FND)\n",
    "\n",
    "\n",
    "\n",
    "FPD = fpir_c[0]/fpir_a[0]\n",
    "print(\"FPD result: \", FPD)\n",
    "\n",
    "\n",
    "FND = fnir_c[0]/(fnir_a[0]+0.00000001)\n",
    "print(\"FND result: \", FND)\n"
   ]
  },
  {
   "cell_type": "markdown",
   "metadata": {},
   "source": [
    "# GARBE"
   ]
  },
  {
   "cell_type": "code",
   "execution_count": 18,
   "metadata": {},
   "outputs": [
    {
     "name": "stdout",
     "output_type": "stream",
     "text": [
      "GARBE result MagFace:  0.0\n"
     ]
    }
   ],
   "source": [
    "alpha_val = 0.2\n",
    "GARBE = alpha_val * FPD + (1 - alpha_val) * FND\n",
    "print(\"GARBE result MagFace: \", GARBE)"
   ]
  },
  {
   "cell_type": "code",
   "execution_count": null,
   "metadata": {},
   "outputs": [],
   "source": []
  },
  {
   "cell_type": "markdown",
   "metadata": {},
   "source": [
    "# DET"
   ]
  },
  {
   "cell_type": "code",
   "execution_count": 19,
   "metadata": {},
   "outputs": [],
   "source": [
    "import math\n",
    "import operator\n",
    "from pathlib import Path\n",
    "\n",
    "from ipywidgets import fixed, interact\n",
    "import ipywidgets as widgets\n",
    "import matplotlib.patches as mpatches\n",
    "import matplotlib.pyplot as plt\n",
    "import numpy as np\n",
    "import pandas as pd\n",
    "from scipy.stats import describe, gaussian_kde\n",
    "import seaborn as sns\n",
    "\n",
    "import sys\n",
    "sys.path.insert(0, '../../utils')\n",
    "from DET_utils.DET import DET\n",
    "from DET_utils.DET_plots import *\n",
    "\n",
    "\n",
    "\n",
    "mated_colour = \"green\"\n",
    "mated_label = \"Mated scores\"\n",
    "nonmated_colour = \"red\"\n",
    "nonmated_label = \"Non-mated scores\"\n",
    "\n",
    "figure_size = (12,6)\n",
    "alpha_shade = 0.25\n",
    "alpha_fill = 1.0\n",
    "linewidth = 2\n",
    "legend_loc = \"upper left\"\n",
    "legend_anchor = (1.0, 1.02)\n",
    "legend_cols = 1\n",
    "legend_fontsize = 12\n",
    "label_fontsize = 16\n",
    "\n",
    "threshold_colour = \"black\"\n",
    "threshold_style = \"--\"\n",
    "round_digits = 5\n",
    "sns.set(style=\"white\", palette=\"muted\", color_codes=True)\n",
    "plt.rc(\"axes\", axisbelow=True)"
   ]
  },
  {
   "cell_type": "code",
   "execution_count": 20,
   "metadata": {},
   "outputs": [],
   "source": [
    "mated_scores1 = np.load('mated_sim_scores_child_below_29.npy')\n",
    "nonmated_scores1 = np.load('nonmated_sim_scores_child_below_29.npy')\n",
    "scores_type1 = \"similarity\"\n",
    "\n",
    "mated_scores2 = np.load('mated_sim_scores_adult_below_29.npy')\n",
    "nonmated_scores2 = np.load('nonmated_sim_scores_adult_below_29.npy')\n",
    "scores_type2 = \"similarity\"\n"
   ]
  },
  {
   "cell_type": "code",
   "execution_count": 21,
   "metadata": {},
   "outputs": [
    {
     "ename": "ValueError",
     "evalue": "The input must not be empty.",
     "output_type": "error",
     "traceback": [
      "\u001b[0;31m---------------------------------------------------------------------------\u001b[0m",
      "\u001b[0;31mValueError\u001b[0m                                Traceback (most recent call last)",
      "Cell \u001b[0;32mIn[21], line 1\u001b[0m\n\u001b[0;32m----> 1\u001b[0m stats_system1_df \u001b[38;5;241m=\u001b[39m \u001b[43mdescriptive_statistics\u001b[49m\u001b[43m(\u001b[49m\u001b[43mmated_scores1\u001b[49m\u001b[43m,\u001b[49m\u001b[43m \u001b[49m\u001b[43mnonmated_scores1\u001b[49m\u001b[43m)\u001b[49m\n\u001b[1;32m      2\u001b[0m stats_system1_df\u001b[38;5;241m.\u001b[39mround(round_digits)\u001b[38;5;241m.\u001b[39mstyle\u001b[38;5;241m.\u001b[39mhide_index()\n",
      "File \u001b[0;32m/mnt/c/Dokumenter/Dokumenter/UNI/Master/Thesis/GitHub_Repo/Master_Thesis/notebooks/../utils/DET_utils/DET_plots.py:54\u001b[0m, in \u001b[0;36mdescriptive_statistics\u001b[0;34m(mated_scores, nonmated_scores)\u001b[0m\n\u001b[1;32m     52\u001b[0m \u001b[38;5;28;01mdef\u001b[39;00m \u001b[38;5;21mdescriptive_statistics\u001b[39m(mated_scores, nonmated_scores):\n\u001b[1;32m     53\u001b[0m     stats_labels \u001b[38;5;241m=\u001b[39m [\u001b[38;5;124m\"\u001b[39m\u001b[38;5;124mObservations\u001b[39m\u001b[38;5;124m\"\u001b[39m, \u001b[38;5;124m\"\u001b[39m\u001b[38;5;124mMinimum\u001b[39m\u001b[38;5;124m\"\u001b[39m, \u001b[38;5;124m\"\u001b[39m\u001b[38;5;124mMaximum\u001b[39m\u001b[38;5;124m\"\u001b[39m, \u001b[38;5;124m\"\u001b[39m\u001b[38;5;124mMean\u001b[39m\u001b[38;5;124m\"\u001b[39m, \u001b[38;5;124m\"\u001b[39m\u001b[38;5;124mSt. Dev.\u001b[39m\u001b[38;5;124m\"\u001b[39m, \u001b[38;5;124m\"\u001b[39m\u001b[38;5;124mSkewness\u001b[39m\u001b[38;5;124m\"\u001b[39m, \u001b[38;5;124m\"\u001b[39m\u001b[38;5;124mEx. Kurtosis\u001b[39m\u001b[38;5;124m\"\u001b[39m]\n\u001b[0;32m---> 54\u001b[0m     mated_stats \u001b[38;5;241m=\u001b[39m \u001b[43mdescribe\u001b[49m\u001b[43m(\u001b[49m\u001b[43mmated_scores\u001b[49m\u001b[43m)\u001b[49m\n\u001b[1;32m     55\u001b[0m     mated_stats \u001b[38;5;241m=\u001b[39m [mated_stats\u001b[38;5;241m.\u001b[39mnobs, mated_stats\u001b[38;5;241m.\u001b[39mminmax[\u001b[38;5;241m0\u001b[39m], mated_stats\u001b[38;5;241m.\u001b[39mminmax[\u001b[38;5;241m1\u001b[39m], mated_stats\u001b[38;5;241m.\u001b[39mmean, math\u001b[38;5;241m.\u001b[39msqrt(mated_stats\u001b[38;5;241m.\u001b[39mvariance), mated_stats\u001b[38;5;241m.\u001b[39mskewness, mated_stats\u001b[38;5;241m.\u001b[39mkurtosis]\n\u001b[1;32m     56\u001b[0m     nonmated_stats \u001b[38;5;241m=\u001b[39m describe(nonmated_scores)\n",
      "File \u001b[0;32m~/miniconda3/envs/Katrine_MLOps_env/lib/python3.10/site-packages/scipy/stats/_stats_py.py:1400\u001b[0m, in \u001b[0;36mdescribe\u001b[0;34m(a, axis, ddof, bias, nan_policy)\u001b[0m\n\u001b[1;32m   1397\u001b[0m     \u001b[38;5;28;01mreturn\u001b[39;00m mstats_basic\u001b[38;5;241m.\u001b[39mdescribe(a, axis, ddof, bias)\n\u001b[1;32m   1399\u001b[0m \u001b[38;5;28;01mif\u001b[39;00m a\u001b[38;5;241m.\u001b[39msize \u001b[38;5;241m==\u001b[39m \u001b[38;5;241m0\u001b[39m:\n\u001b[0;32m-> 1400\u001b[0m     \u001b[38;5;28;01mraise\u001b[39;00m \u001b[38;5;167;01mValueError\u001b[39;00m(\u001b[38;5;124m\"\u001b[39m\u001b[38;5;124mThe input must not be empty.\u001b[39m\u001b[38;5;124m\"\u001b[39m)\n\u001b[1;32m   1401\u001b[0m n \u001b[38;5;241m=\u001b[39m a\u001b[38;5;241m.\u001b[39mshape[axis]\n\u001b[1;32m   1402\u001b[0m mm \u001b[38;5;241m=\u001b[39m (np\u001b[38;5;241m.\u001b[39mmin(a, axis\u001b[38;5;241m=\u001b[39maxis), np\u001b[38;5;241m.\u001b[39mmax(a, axis\u001b[38;5;241m=\u001b[39maxis))\n",
      "\u001b[0;31mValueError\u001b[0m: The input must not be empty."
     ]
    }
   ],
   "source": [
    "stats_system1_df = descriptive_statistics(mated_scores1, nonmated_scores1)\n",
    "stats_system1_df.round(round_digits).style.hide_index()\n"
   ]
  },
  {
   "cell_type": "code",
   "execution_count": null,
   "metadata": {},
   "outputs": [
    {
     "name": "stderr",
     "output_type": "stream",
     "text": [
      "/tmp/ipykernel_13958/1952787033.py:2: FutureWarning: this method is deprecated in favour of `Styler.hide(axis='index')`\n",
      "  stats_system2_df.round(round_digits).style.hide_index()\n"
     ]
    },
    {
     "data": {
      "text/html": [
       "<style type=\"text/css\">\n",
       "</style>\n",
       "<table id=\"T_545e4\">\n",
       "  <thead>\n",
       "    <tr>\n",
       "      <th id=\"T_545e4_level0_col0\" class=\"col_heading level0 col0\" >Statistic</th>\n",
       "      <th id=\"T_545e4_level0_col1\" class=\"col_heading level0 col1\" >Mated</th>\n",
       "      <th id=\"T_545e4_level0_col2\" class=\"col_heading level0 col2\" >Non-mated</th>\n",
       "    </tr>\n",
       "  </thead>\n",
       "  <tbody>\n",
       "    <tr>\n",
       "      <td id=\"T_545e4_row0_col0\" class=\"data row0 col0\" >Observations</td>\n",
       "      <td id=\"T_545e4_row0_col1\" class=\"data row0 col1\" >42.000000</td>\n",
       "      <td id=\"T_545e4_row0_col2\" class=\"data row0 col2\" >802130.000000</td>\n",
       "    </tr>\n",
       "    <tr>\n",
       "      <td id=\"T_545e4_row1_col0\" class=\"data row1 col0\" >Minimum</td>\n",
       "      <td id=\"T_545e4_row1_col1\" class=\"data row1 col1\" >0.203590</td>\n",
       "      <td id=\"T_545e4_row1_col2\" class=\"data row1 col2\" >-0.308030</td>\n",
       "    </tr>\n",
       "    <tr>\n",
       "      <td id=\"T_545e4_row2_col0\" class=\"data row2 col0\" >Maximum</td>\n",
       "      <td id=\"T_545e4_row2_col1\" class=\"data row2 col1\" >0.764130</td>\n",
       "      <td id=\"T_545e4_row2_col2\" class=\"data row2 col2\" >0.844750</td>\n",
       "    </tr>\n",
       "    <tr>\n",
       "      <td id=\"T_545e4_row3_col0\" class=\"data row3 col0\" >Mean</td>\n",
       "      <td id=\"T_545e4_row3_col1\" class=\"data row3 col1\" >0.438570</td>\n",
       "      <td id=\"T_545e4_row3_col2\" class=\"data row3 col2\" >0.215630</td>\n",
       "    </tr>\n",
       "    <tr>\n",
       "      <td id=\"T_545e4_row4_col0\" class=\"data row4 col0\" >St. Dev.</td>\n",
       "      <td id=\"T_545e4_row4_col1\" class=\"data row4 col1\" >0.129850</td>\n",
       "      <td id=\"T_545e4_row4_col2\" class=\"data row4 col2\" >0.119990</td>\n",
       "    </tr>\n",
       "    <tr>\n",
       "      <td id=\"T_545e4_row5_col0\" class=\"data row5 col0\" >Skewness</td>\n",
       "      <td id=\"T_545e4_row5_col1\" class=\"data row5 col1\" >0.157550</td>\n",
       "      <td id=\"T_545e4_row5_col2\" class=\"data row5 col2\" >0.003920</td>\n",
       "    </tr>\n",
       "    <tr>\n",
       "      <td id=\"T_545e4_row6_col0\" class=\"data row6 col0\" >Ex. Kurtosis</td>\n",
       "      <td id=\"T_545e4_row6_col1\" class=\"data row6 col1\" >0.413000</td>\n",
       "      <td id=\"T_545e4_row6_col2\" class=\"data row6 col2\" >-0.042390</td>\n",
       "    </tr>\n",
       "  </tbody>\n",
       "</table>\n"
      ],
      "text/plain": [
       "<pandas.io.formats.style.Styler at 0x7f2bc22a88e0>"
      ]
     },
     "execution_count": 70,
     "metadata": {},
     "output_type": "execute_result"
    }
   ],
   "source": [
    "stats_system2_df = descriptive_statistics(mated_scores2, nonmated_scores2)\n",
    "stats_system2_df.round(round_digits).style.hide_index()"
   ]
  },
  {
   "cell_type": "code",
   "execution_count": null,
   "metadata": {},
   "outputs": [
    {
     "data": {
      "image/png": "[encoded data removed]",
      "text/plain": [
       "<Figure size 1200x600 with 1 Axes>"
      ]
     },
     "metadata": {},
     "output_type": "display_data"
    }
   ],
   "source": [
    "plot_histogram(mated_scores1, nonmated_scores1, normalise=True)"
   ]
  },
  {
   "cell_type": "code",
   "execution_count": null,
   "metadata": {},
   "outputs": [
    {
     "data": {
      "image/png": "[encoded data removed]",
      "text/plain": [
       "<Figure size 1200x600 with 1 Axes>"
      ]
     },
     "metadata": {},
     "output_type": "display_data"
    }
   ],
   "source": [
    "plot_histogram(mated_scores2, nonmated_scores2, normalise=True)"
   ]
  },
  {
   "cell_type": "markdown",
   "metadata": {},
   "source": []
  }
 ],
 "metadata": {
  "kernelspec": {
   "display_name": "best_master",
   "language": "python",
   "name": "python3"
  },
  "language_info": {
   "codemirror_mode": {
    "name": "ipython",
    "version": 3
   },
   "file_extension": ".py",
   "mimetype": "text/x-python",
   "name": "python",
   "nbconvert_exporter": "python",
   "pygments_lexer": "ipython3",
   "version": "3.10.6"
  }
 },
 "nbformat": 4,
 "nbformat_minor": 2
}
