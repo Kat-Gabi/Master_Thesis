{
 "cells": [
  {
   "cell_type": "markdown",
   "metadata": {},
   "source": [
    "## Results metrics\n",
    "\n",
    "A threshold \"T\" is used to classify a test case to be either a correct (true or positive) case or false (negative) case. If the case is below a threshold \"T\" then it is classified false (negative) and if it is above threshold \"T\" it is classified true (positive).\n",
    "\n",
    "**FPIR**: is the false positive identification rate. It is the ratio of the test cases that are classified as true cases although they are false cases. It is type I error. \n",
    "FPIR= Number of test cases classified above threshold \"T\" (true) / Number of all test cases\n",
    "\n",
    "**FNIR**: is the false negative identification rate. It is  the ratio of the test cases that are classified as false cases although they are true cases. It is type II error.\n",
    "FNIR= Number of test cases classified below threshold \"T\" (false) / Number of all test cases"
   ]
  },
  {
   "cell_type": "code",
   "execution_count": 1,
   "metadata": {},
   "outputs": [],
   "source": [
    "# Load libraries\n",
    "import numpy as np\n",
    "import cv2\n",
    "from matplotlib import pyplot as plt\n",
    "# import torch\n",
    "import seaborn as sns\n",
    "import pandas as pd\n",
    "sns.set(style=\"white\")\n",
    "%matplotlib inline"
   ]
  },
  {
   "cell_type": "code",
   "execution_count": 2,
   "metadata": {},
   "outputs": [],
   "source": [
    "# load utils\n",
    "import sys\n",
    "sys.path.insert(0, '../utils')\n",
    "from MagFace_utils.MagFace_funcs_1 import *\n"
   ]
  },
  {
   "cell_type": "code",
   "execution_count": 3,
   "metadata": {},
   "outputs": [],
   "source": [
    "# Convert child ids to real ids as in child_balanced.\n",
    "\n",
    "# For all Ids, get last id name and convert to unique ids\n",
    "def convert_unique_ids(ids):\n",
    "    unique_ids_list = []\n",
    "    for id in ids:\n",
    "        im_name = id.split(\"/\")[-1][:-4]\n",
    "        if '.' in im_name:\n",
    "            un_id = im_name[:-5]\n",
    "        else:\n",
    "            un_id = \"_\".join(im_name.split(\"_\")[:-1])\n",
    "\n",
    "        unique_ids_list.append(un_id)\n",
    "    return unique_ids_list\n",
    "\n",
    "# Get unique ids\n",
    "def factorize_ids(ids):\n",
    "    unique_ids = {}\n",
    "    factors = []\n",
    "    for id in ids:\n",
    "        if id not in unique_ids:\n",
    "            unique_ids[id] = len(unique_ids)  # Assign a unique index for each unique ID\n",
    "        factors.append(unique_ids[id])  # Append the index corresponding to the ID\n",
    "    return factors, unique_ids\n"
   ]
  },
  {
   "cell_type": "code",
   "execution_count": 4,
   "metadata": {},
   "outputs": [],
   "source": [
    "# load childrens feature vectors and load adults featur vector\n",
    "with open('../data/feat_children.list', 'r') as f:\n",
    "    lines = f.readlines()\n",
    "img_2_feats = {}\n",
    "img_2_mag = {}\n",
    "for line in lines:\n",
    "    parts = line.strip().split(' ')\n",
    "    imgname = parts[0]\n",
    "    imgname = \"/\"+\"/\".join(imgname.split(\"/\")[4:])\n",
    "    feats = [float(e) for e in parts[1:]]\n",
    "    mag = np.linalg.norm(feats)\n",
    "    img_2_feats[imgname] = feats/mag\n",
    "    img_2_mag[imgname] = mag #magnitude of the feature vector\n",
    "\n",
    "imgnames = list(img_2_mag.keys())\n",
    "mags = [img_2_mag[imgname] for imgname in imgnames]\n",
    "sort_idx = np.argsort(mags) #sorts the magnitude/quality of the images\n",
    "feats = np.array([img_2_feats[imgnames[ele]] for ele in range(len(lines))]) #unsorted image quality\n",
    "ids = np.array([imgnames[ele] for ele in range(len(lines))])\n",
    "\n",
    "sim_mat_c = np.dot(feats, feats.T)\n",
    "sim_scores_c = sim_mat_c.copy()\n",
    "plot_sims = sim_scores_c[sim_scores_c < 0.9999].reshape(-1)\n"
   ]
  },
  {
   "cell_type": "code",
   "execution_count": null,
   "metadata": {},
   "outputs": [],
   "source": []
  },
  {
   "cell_type": "code",
   "execution_count": 5,
   "metadata": {},
   "outputs": [],
   "source": [
    "\n",
    "with open('../data/feat_adults_new.list', 'r') as f:\n",
    "    lines = f.readlines()\n",
    "\n",
    "img_2_feats = {}\n",
    "img_2_mag = {}\n",
    "# Convert to dictionary as adaface - is done in img_2_feats\n",
    "for line in lines:\n",
    "    parts = line.strip().split(' ')\n",
    "    imgname = parts[0]\n",
    "    imgname = \"/\"+\"/\".join(imgname.split(\"/\")[4:])\n",
    "    feats = [float(e) for e in parts[1:]]\n",
    "    mag = np.linalg.norm(feats)\n",
    "    img_2_feats[imgname] = feats/mag\n",
    "    img_2_mag[imgname] = mag #magnitude of the feature vector\n",
    "imgnames = list(img_2_mag.keys())\n",
    "mags = [img_2_mag[imgname] for imgname in imgnames]\n",
    "sort_idx = np.argsort(mags) #sorts the magnitude/quality of the images\n",
    "feats_a = np.array([img_2_feats[imgnames[ele]] for ele in range(len(lines))]) #unsorted image quality\n",
    "ids_a = np.array([imgnames[ele] for ele in range(len(lines))])\n",
    "\n",
    "sim_mat_a = np.dot(feats_a, feats_a.T)\n",
    "ids_a = convert_unique_ids(ids_a)\n",
    "factors_a, unique_ids = factorize_ids(ids)\n",
    "\n",
    "\n",
    "sim_scores_a = sim_mat_a.copy()\n",
    "plot_sims_a = sim_scores_a[sim_scores_a < 0.999].reshape(-1)\n"
   ]
  },
  {
   "cell_type": "code",
   "execution_count": 8,
   "metadata": {},
   "outputs": [
    {
     "name": "stderr",
     "output_type": "stream",
     "text": [
      "/tmp/ipykernel_116255/1882593794.py:28: SettingWithCopyWarning: \n",
      "A value is trying to be set on a copy of a slice from a DataFrame.\n",
      "Try using .loc[row_indexer,col_indexer] = value instead\n",
      "\n",
      "See the caveats in the documentation: https://pandas.pydata.org/pandas-docs/stable/user_guide/indexing.html#returning-a-view-versus-a-copy\n",
      "  poor_a_ofiq['Identityname'] = poor_a_ofiq['Filename'].apply(extract_identifier)\n",
      "/tmp/ipykernel_116255/1882593794.py:29: SettingWithCopyWarning: \n",
      "A value is trying to be set on a copy of a slice from a DataFrame.\n",
      "Try using .loc[row_indexer,col_indexer] = value instead\n",
      "\n",
      "See the caveats in the documentation: https://pandas.pydata.org/pandas-docs/stable/user_guide/indexing.html#returning-a-view-versus-a-copy\n",
      "  poor_c_ofiq['Identityname'] = poor_c_ofiq['Filename'].apply(extract_identifier)\n"
     ]
    }
   ],
   "source": [
    "\n",
    "# Mated and non-mated ids\n",
    "a_df = pd.read_csv('../data/adults_balanced.csv')\n",
    "c_df = pd.read_csv('../data/child_balanced.csv')\n",
    "# can_df = pd.read_csv('../data/can_balanced.csv')\n",
    "# a_df = pd.read_csv('/mnt/c/Dokumenter/Dokumenter/UNI/Master/Thesis/GitHub_Repo/Master_Thesis/notebooks/loadings/mated_adults_image_info.csv')\n",
    "# c_df = pd.read_csv('/mnt/c/Dokumenter/Dokumenter/UNI/Master/Thesis/GitHub_Repo/Master_Thesis/notebooks/loadings/mated_children_image_info.csv')\n",
    "\n",
    "\n",
    "# load the OFIQ csv for children and adults\n",
    "\n",
    "df_c_ofiq = pd.read_csv(\"../data/OFIQ_results/children_all_final.csv\", sep=\";\")\n",
    "df_a_ofiq = pd.read_csv(\"../data/OFIQ_results/adults_all_final.csv\", sep=\";\")\n",
    "df_can_ofiq = pd.read_csv(\"../data/OFIQ_results/canonical_children.csv\", sep=\";\")\n",
    "poor_c_ofiq = df_c_ofiq[df_c_ofiq['UnifiedQualityScore.scalar'] > 29]\n",
    "poor_a_ofiq = df_a_ofiq[df_a_ofiq['UnifiedQualityScore.scalar'] > 29]\n",
    "poor_can_ofiq = df_can_ofiq[df_can_ofiq['UnifiedQualityScore.scalar'] > 29]\n",
    "\n",
    "def extract_identifier(filepath):\n",
    "    filename = filepath.split('/')[-1]\n",
    "    parts = filename.split('.')\n",
    "    if parts[-2].isdigit():\n",
    "        identifier = '.'.join(parts[-3:-1])\n",
    "    else:\n",
    "        identifier = '.'.join(parts[:-1])  # Join everything except the extension\n",
    "    return identifier\n",
    "\n",
    "# Apply the function on the DataFrame column\n",
    "poor_a_ofiq['Identityname'] = poor_a_ofiq['Filename'].apply(extract_identifier)\n",
    "poor_c_ofiq['Identityname'] = poor_c_ofiq['Filename'].apply(extract_identifier)\n",
    "poor_can_ofiq['Identityname'] = poor_can_ofiq['Filename'].apply(extract_identifier)\n",
    "\n",
    "\n",
    "subset_a_df = a_df[a_df['img_name'].isin(poor_a_ofiq['Identityname'])]\n",
    "subset_c_df = c_df[c_df['img_name'].isin(poor_c_ofiq['Identityname'])]\n",
    "# subset_can_df = can_df[can_df['img_name'].isin(poor_can_ofiq['Identityname'])]\n"
   ]
  },
  {
   "cell_type": "code",
   "execution_count": 9,
   "metadata": {},
   "outputs": [
    {
     "data": {
      "text/plain": [
       "0       42\n",
       "3       32\n",
       "5       87\n",
       "6       86\n",
       "7       35\n",
       "        ..\n",
       "3457    61\n",
       "3461    65\n",
       "3462    89\n",
       "3464    62\n",
       "3466    70\n",
       "Name: UnifiedQualityScore.scalar, Length: 2234, dtype: int64"
      ]
     },
     "execution_count": 9,
     "metadata": {},
     "output_type": "execute_result"
    }
   ],
   "source": [
    "poor_a_ofiq['UnifiedQualityScore.scalar']"
   ]
  },
  {
   "cell_type": "code",
   "execution_count": 15,
   "metadata": {},
   "outputs": [
    {
     "data": {
      "text/plain": [
       "Index(['m.01jscz', 'm.02729k2', 'm.0281mp2', 'm.02vldwh', 'm.02x1rwq',\n",
       "       'm.03c6hwt', 'm.04nzf7', 'm.0515p2', 'm.051jw_', 'm.052vh2',\n",
       "       'm.05p9q60', 'm.05syl08', 'm.06zq52', 'm.0cf93t'],\n",
       "      dtype='object', name='im_id')"
      ]
     },
     "execution_count": 15,
     "metadata": {},
     "output_type": "execute_result"
    }
   ],
   "source": [
    "a_mated_ids"
   ]
  },
  {
   "cell_type": "code",
   "execution_count": 21,
   "metadata": {},
   "outputs": [
    {
     "data": {
      "text/html": [
       "<div>\n",
       "<style scoped>\n",
       "    .dataframe tbody tr th:only-of-type {\n",
       "        vertical-align: middle;\n",
       "    }\n",
       "\n",
       "    .dataframe tbody tr th {\n",
       "        vertical-align: top;\n",
       "    }\n",
       "\n",
       "    .dataframe thead th {\n",
       "        text-align: right;\n",
       "    }\n",
       "</style>\n",
       "<table border=\"1\" class=\"dataframe\">\n",
       "  <thead>\n",
       "    <tr style=\"text-align: right;\">\n",
       "      <th></th>\n",
       "      <th>img_name</th>\n",
       "      <th>im_id</th>\n",
       "      <th>ethnicity</th>\n",
       "      <th>id_class</th>\n",
       "      <th>face_id</th>\n",
       "      <th>Age</th>\n",
       "      <th>children_agegroup</th>\n",
       "    </tr>\n",
       "  </thead>\n",
       "  <tbody>\n",
       "    <tr>\n",
       "      <th>1866</th>\n",
       "      <td>m.0cf93t_0003</td>\n",
       "      <td>m.0cf93t</td>\n",
       "      <td>Asian</td>\n",
       "      <td>0cf93t</td>\n",
       "      <td>3</td>\n",
       "      <td>36</td>\n",
       "      <td>NaN</td>\n",
       "    </tr>\n",
       "    <tr>\n",
       "      <th>2314</th>\n",
       "      <td>m.0cf93t_0005</td>\n",
       "      <td>m.0cf93t</td>\n",
       "      <td>Asian</td>\n",
       "      <td>0cf93t</td>\n",
       "      <td>5</td>\n",
       "      <td>33</td>\n",
       "      <td>NaN</td>\n",
       "    </tr>\n",
       "  </tbody>\n",
       "</table>\n",
       "</div>"
      ],
      "text/plain": [
       "           img_name     im_id ethnicity id_class  face_id  Age  \\\n",
       "1866  m.0cf93t_0003  m.0cf93t     Asian   0cf93t        3   36   \n",
       "2314  m.0cf93t_0005  m.0cf93t     Asian   0cf93t        5   33   \n",
       "\n",
       "      children_agegroup  \n",
       "1866                NaN  \n",
       "2314                NaN  "
      ]
     },
     "execution_count": 21,
     "metadata": {},
     "output_type": "execute_result"
    }
   ],
   "source": [
    "subset_a_df[subset_a_df.im_id == 'm.0cf93t']"
   ]
  },
  {
   "cell_type": "code",
   "execution_count": 11,
   "metadata": {},
   "outputs": [],
   "source": [
    "\n",
    "a_mates = subset_a_df.groupby(\"im_id\").agg({'im_id': ['count']})\n",
    "a_mated_ids = a_mates[a_mates[('im_id', 'count')] > 1].index\n",
    "a_nonmated_ids = a_mates[a_mates[('im_id', 'count')] == 1].index\n",
    "\n",
    "\n",
    "c_mates = subset_c_df.groupby(\"im_id\").agg({'im_id': ['count']})\n",
    "c_mated_ids = c_mates[c_mates[('im_id', 'count')] > 1].index\n",
    "c_nonmated_ids = c_mates[c_mates[('im_id', 'count')] == 1].index\n",
    "\n",
    "\n",
    "# Mated and non-mated ids\n",
    "# can_mates = can_df.groupby(\"im_id\").agg({'im_id': ['count']})\n",
    "# can_mated_ids = can_mates[can_mates[('im_id', 'count')] > 1].index\n",
    "# can_nonmated_ids = can_mates[can_mates[('im_id', 'count')] == 1].index"
   ]
  },
  {
   "cell_type": "code",
   "execution_count": 10,
   "metadata": {},
   "outputs": [
    {
     "data": {
      "text/plain": [
       "574"
      ]
     },
     "execution_count": 10,
     "metadata": {},
     "output_type": "execute_result"
    }
   ],
   "source": [
    "# check if any name from a_nonmated_ids.im_id appear in /mnt/c/Dokumenter/Dokumenter/UNI/Master/Thesis/GitHub_Repo/Master_Thesis/notebooks/loadings/mated_adults_image_info.csv\n",
    "mated_adults_image_info = pd.read_csv('/mnt/c/Dokumenter/Dokumenter/UNI/Master/Thesis/GitHub_Repo/Master_Thesis/notebooks/loadings/mated_adults_image_info.csv')\n",
    "len(mated_adults_image_info[mated_adults_image_info['identity_name'].isin(a_nonmated_ids)])\n"
   ]
  },
  {
   "cell_type": "code",
   "execution_count": 11,
   "metadata": {},
   "outputs": [
    {
     "name": "stdout",
     "output_type": "stream",
     "text": [
      "FNIR for children:  (0.48717948717948717, array([0.85544998, 0.85544998, 0.84072569, ..., 0.07851467, 0.66417667,\n",
      "       0.66417667]))\n",
      "FPIR for children:  (1.3315436241610739, array([0.72422793, 0.67901897, 0.29993762, ..., 0.45288209, 0.28783875,\n",
      "       0.28300633]), array([[1.        , 0.72422793, 0.67901897, ..., 0.10887856, 0.16981499,\n",
      "        0.1959246 ],\n",
      "       [0.72422793, 1.        , 0.7677642 , ..., 0.16553825, 0.17820952,\n",
      "        0.29758607],\n",
      "       [0.67901897, 0.7677642 , 1.        , ..., 0.19140869, 0.08421105,\n",
      "        0.19525943],\n",
      "       ...,\n",
      "       [0.10887856, 0.16553825, 0.19140869, ..., 1.        , 0.28783875,\n",
      "        0.28300633],\n",
      "       [0.16981499, 0.17820952, 0.08421105, ..., 0.28783875, 1.        ,\n",
      "        0.66417667],\n",
      "       [0.1959246 , 0.29758607, 0.19525943, ..., 0.28300633, 0.66417667,\n",
      "        1.        ]]))\n"
     ]
    }
   ],
   "source": [
    "# children\n",
    "\n",
    "ids = convert_unique_ids(ids)\n",
    "factors_c, unique_ids = factorize_ids(ids)\n",
    "\n",
    "\n",
    "## Threshold set based on studying the similarity scores\n",
    "thold_c = np.percentile(plot_sims, 99)\n",
    "im_ids_c = np.array(factors_c)\n",
    "\n",
    "mated_df = c_mated_ids\n",
    "non_mated_df = c_nonmated_ids\n",
    "sim_scores = sim_scores_c\n",
    "im_ids = im_ids_c\n",
    "ids = ids\n",
    "\n",
    "fnir_c = compute_fnir(c_mated_ids, sim_scores, im_ids_c, ids, thold=thold_c)\n",
    "fpir_c = compute_fpir(c_nonmated_ids, sim_scores, im_ids_c, ids, thold=thold_c)\n",
    "\n",
    "print(\"FNIR for children: \", fnir_c)\n",
    "print(\"FPIR for children: \", fpir_c)"
   ]
  },
  {
   "cell_type": "code",
   "execution_count": 12,
   "metadata": {},
   "outputs": [],
   "source": [
    "mated_sim_scores_child_below_29 = fnir_c[1]\n",
    "nonmated_sim_scores_child_below_29 = fpir_c[1]"
   ]
  },
  {
   "cell_type": "code",
   "execution_count": 13,
   "metadata": {},
   "outputs": [],
   "source": [
    "np.save('mated_sim_scores_child_below_29.npy', mated_sim_scores_child_below_29)\n",
    "np.save('nonmated_sim_scores_child_below_29.npy', nonmated_sim_scores_child_below_29)\n"
   ]
  },
  {
   "cell_type": "markdown",
   "metadata": {},
   "source": [
    "### adults"
   ]
  },
  {
   "cell_type": "code",
   "execution_count": 12,
   "metadata": {},
   "outputs": [],
   "source": [
    "# adults\n",
    "## Threshold set based on studying the similarity scores\n",
    "thold_a = np.percentile(plot_sims_a, 99)\n",
    "im_ids_a = np.array(factors_a)\n",
    "\n",
    "mated_df = a_mated_ids\n",
    "non_mated_df = a_nonmated_ids\n",
    "sim_scores = sim_scores_a\n",
    "im_ids = im_ids_a\n",
    "ids = ids_a\n",
    "\n",
    "fnir_a = compute_fnir(mated_df, sim_scores_a, im_ids, ids, thold=thold_a)\n",
    "fpir_a = compute_fpir(non_mated_df, sim_scores_a, im_ids, ids, thold=thold_a)\n"
   ]
  },
  {
   "cell_type": "code",
   "execution_count": 14,
   "metadata": {},
   "outputs": [
    {
     "data": {
      "text/plain": [
       "(0.0,\n",
       " array([0.52638644, 0.52638644, 0.4456527 , 0.4456527 , 0.58511219,\n",
       "        0.48827342, 0.58511219, 0.45511159, 0.48827342, 0.45511159,\n",
       "        0.76413406, 0.76413406, 0.54734365, 0.54734365, 0.27932374,\n",
       "        0.20484915, 0.27932374, 0.54074685, 0.20484915, 0.54074685,\n",
       "        0.34600735, 0.53585463, 0.34600735, 0.38214526, 0.53585463,\n",
       "        0.38214526, 0.28382528, 0.28382528, 0.38684709, 0.38684709,\n",
       "        0.5084038 , 0.5084038 , 0.49773424, 0.49773424, 0.20359328,\n",
       "        0.20359328, 0.4064335 , 0.4064335 , 0.43578232, 0.45275664,\n",
       "        0.43578232, 0.46005252, 0.45275664, 0.46005252]))"
      ]
     },
     "execution_count": 14,
     "metadata": {},
     "output_type": "execute_result"
    }
   ],
   "source": [
    "fnir_a"
   ]
  },
  {
   "cell_type": "code",
   "execution_count": 13,
   "metadata": {},
   "outputs": [
    {
     "name": "stdout",
     "output_type": "stream",
     "text": [
      "FNIR for adults:  0.0\n",
      "FPIR for adults:  1.1223628691983123\n"
     ]
    }
   ],
   "source": [
    "print(\"FNIR for adults: \", fnir_a[0])\n",
    "print(\"FPIR for adults: \", fpir_a[0])\n"
   ]
  },
  {
   "cell_type": "code",
   "execution_count": 16,
   "metadata": {},
   "outputs": [],
   "source": [
    "mated_sim_scores_adult_below_29 = fnir_a[1]\n",
    "nonmated_sim_scores_adult_below_29 = fpir_a[1]"
   ]
  },
  {
   "cell_type": "code",
   "execution_count": 17,
   "metadata": {},
   "outputs": [],
   "source": [
    "np.save('mated_sim_scores_adult_below_29.npy', mated_sim_scores_adult_below_29)\n",
    "np.save('nonmated_sim_scores_adult_below_29.npy', nonmated_sim_scores_adult_below_29)"
   ]
  },
  {
   "cell_type": "code",
   "execution_count": 18,
   "metadata": {},
   "outputs": [
    {
     "data": {
      "text/plain": [
       "0.4825735789771279"
      ]
     },
     "execution_count": 18,
     "metadata": {},
     "output_type": "execute_result"
    }
   ],
   "source": [
    "thold_a"
   ]
  },
  {
   "cell_type": "code",
   "execution_count": 19,
   "metadata": {},
   "outputs": [
    {
     "data": {
      "text/plain": [
       "0.4752905018186878"
      ]
     },
     "execution_count": 19,
     "metadata": {},
     "output_type": "execute_result"
    }
   ],
   "source": [
    "thold_c"
   ]
  },
  {
   "cell_type": "code",
   "execution_count": 20,
   "metadata": {},
   "outputs": [],
   "source": [
    "# Total number of transactions = n child ids + n adult ids\n",
    "n_child_ids = len(im_ids_c)\n",
    "n_adult_ids = len(im_ids_a)\n",
    "n = n_child_ids + n_adult_ids"
   ]
  },
  {
   "cell_type": "code",
   "execution_count": 21,
   "metadata": {},
   "outputs": [
    {
     "name": "stdout",
     "output_type": "stream",
     "text": [
      "FPD result:  1.1863753343089267\n",
      "FND result:  48717948.71794871\n"
     ]
    }
   ],
   "source": [
    "# FPD = fpir_c/fpir_a\n",
    "# print(\"FPD result: \", FPD)\n",
    "\n",
    "\n",
    "# FND = fnir_c/fnir_a\n",
    "# print(\"FND result: \", FND)\n",
    "\n",
    "\n",
    "\n",
    "FPD = fpir_c[0]/fpir_a[0]\n",
    "print(\"FPD result: \", FPD)\n",
    "\n",
    "\n",
    "FND = fnir_c[0]/(fnir_a[0]+0.00000001)\n",
    "print(\"FND result: \", FND)\n"
   ]
  },
  {
   "cell_type": "markdown",
   "metadata": {},
   "source": [
    "# GARBE"
   ]
  },
  {
   "cell_type": "code",
   "execution_count": 22,
   "metadata": {},
   "outputs": [
    {
     "name": "stdout",
     "output_type": "stream",
     "text": [
      "GARBE result MagFace:  38974359.21163403\n"
     ]
    }
   ],
   "source": [
    "alpha_val = 0.2\n",
    "GARBE = alpha_val * FPD + (1 - alpha_val) * FND\n",
    "print(\"GARBE result MagFace: \", GARBE)"
   ]
  },
  {
   "cell_type": "code",
   "execution_count": null,
   "metadata": {},
   "outputs": [],
   "source": []
  },
  {
   "cell_type": "markdown",
   "metadata": {},
   "source": [
    "# DET"
   ]
  },
  {
   "cell_type": "code",
   "execution_count": 23,
   "metadata": {},
   "outputs": [],
   "source": [
    "import math\n",
    "import operator\n",
    "from pathlib import Path\n",
    "\n",
    "from ipywidgets import fixed, interact\n",
    "import ipywidgets as widgets\n",
    "import matplotlib.patches as mpatches\n",
    "import matplotlib.pyplot as plt\n",
    "import numpy as np\n",
    "import pandas as pd\n",
    "from scipy.stats import describe, gaussian_kde\n",
    "import seaborn as sns\n",
    "\n",
    "import sys\n",
    "sys.path.insert(0, '../../utils')\n",
    "from DET_utils.DET import DET\n",
    "from DET_utils.DET_plots import *\n",
    "\n",
    "\n",
    "\n",
    "mated_colour = \"green\"\n",
    "mated_label = \"Mated scores\"\n",
    "nonmated_colour = \"red\"\n",
    "nonmated_label = \"Non-mated scores\"\n",
    "\n",
    "figure_size = (12,6)\n",
    "alpha_shade = 0.25\n",
    "alpha_fill = 1.0\n",
    "linewidth = 2\n",
    "legend_loc = \"upper left\"\n",
    "legend_anchor = (1.0, 1.02)\n",
    "legend_cols = 1\n",
    "legend_fontsize = 12\n",
    "label_fontsize = 16\n",
    "\n",
    "threshold_colour = \"black\"\n",
    "threshold_style = \"--\"\n",
    "round_digits = 5\n",
    "sns.set(style=\"white\", palette=\"muted\", color_codes=True)\n",
    "plt.rc(\"axes\", axisbelow=True)"
   ]
  },
  {
   "cell_type": "code",
   "execution_count": 24,
   "metadata": {},
   "outputs": [],
   "source": [
    "mated_scores1 = np.load('mated_sim_scores_child_below_29.npy')\n",
    "nonmated_scores1 = np.load('nonmated_sim_scores_child_below_29.npy')\n",
    "scores_type1 = \"similarity\"\n",
    "\n",
    "mated_scores2 = np.load('mated_sim_scores_adult_below_29.npy')\n",
    "nonmated_scores2 = np.load('nonmated_sim_scores_adult_below_29.npy')\n",
    "scores_type2 = \"similarity\"\n"
   ]
  },
  {
   "cell_type": "code",
   "execution_count": 25,
   "metadata": {},
   "outputs": [
    {
     "name": "stderr",
     "output_type": "stream",
     "text": [
      "/tmp/ipykernel_113809/2890155579.py:2: FutureWarning: this method is deprecated in favour of `Styler.hide(axis='index')`\n",
      "  stats_system1_df.round(round_digits).style.hide_index()\n"
     ]
    },
    {
     "data": {
      "text/html": [
       "<style type=\"text/css\">\n",
       "</style>\n",
       "<table id=\"T_45f86\">\n",
       "  <thead>\n",
       "    <tr>\n",
       "      <th id=\"T_45f86_level0_col0\" class=\"col_heading level0 col0\" >Statistic</th>\n",
       "      <th id=\"T_45f86_level0_col1\" class=\"col_heading level0 col1\" >Mated</th>\n",
       "      <th id=\"T_45f86_level0_col2\" class=\"col_heading level0 col2\" >Non-mated</th>\n",
       "    </tr>\n",
       "  </thead>\n",
       "  <tbody>\n",
       "    <tr>\n",
       "      <td id=\"T_45f86_row0_col0\" class=\"data row0 col0\" >Observations</td>\n",
       "      <td id=\"T_45f86_row0_col1\" class=\"data row0 col1\" >2328.000000</td>\n",
       "      <td id=\"T_45f86_row0_col2\" class=\"data row0 col2\" >3529740.000000</td>\n",
       "    </tr>\n",
       "    <tr>\n",
       "      <td id=\"T_45f86_row1_col0\" class=\"data row1 col0\" >Minimum</td>\n",
       "      <td id=\"T_45f86_row1_col1\" class=\"data row1 col1\" >0.078510</td>\n",
       "      <td id=\"T_45f86_row1_col2\" class=\"data row1 col2\" >-0.377520</td>\n",
       "    </tr>\n",
       "    <tr>\n",
       "      <td id=\"T_45f86_row2_col0\" class=\"data row2 col0\" >Maximum</td>\n",
       "      <td id=\"T_45f86_row2_col1\" class=\"data row2 col1\" >0.989440</td>\n",
       "      <td id=\"T_45f86_row2_col2\" class=\"data row2 col2\" >0.984690</td>\n",
       "    </tr>\n",
       "    <tr>\n",
       "      <td id=\"T_45f86_row3_col0\" class=\"data row3 col0\" >Mean</td>\n",
       "      <td id=\"T_45f86_row3_col1\" class=\"data row3 col1\" >0.655360</td>\n",
       "      <td id=\"T_45f86_row3_col2\" class=\"data row3 col2\" >0.143270</td>\n",
       "    </tr>\n",
       "    <tr>\n",
       "      <td id=\"T_45f86_row4_col0\" class=\"data row4 col0\" >St. Dev.</td>\n",
       "      <td id=\"T_45f86_row4_col1\" class=\"data row4 col1\" >0.145790</td>\n",
       "      <td id=\"T_45f86_row4_col2\" class=\"data row4 col2\" >0.136870</td>\n",
       "    </tr>\n",
       "    <tr>\n",
       "      <td id=\"T_45f86_row5_col0\" class=\"data row5 col0\" >Skewness</td>\n",
       "      <td id=\"T_45f86_row5_col1\" class=\"data row5 col1\" >-0.541480</td>\n",
       "      <td id=\"T_45f86_row5_col2\" class=\"data row5 col2\" >0.224060</td>\n",
       "    </tr>\n",
       "    <tr>\n",
       "      <td id=\"T_45f86_row6_col0\" class=\"data row6 col0\" >Ex. Kurtosis</td>\n",
       "      <td id=\"T_45f86_row6_col1\" class=\"data row6 col1\" >0.198640</td>\n",
       "      <td id=\"T_45f86_row6_col2\" class=\"data row6 col2\" >-0.091380</td>\n",
       "    </tr>\n",
       "  </tbody>\n",
       "</table>\n"
      ],
      "text/plain": [
       "<pandas.io.formats.style.Styler at 0x7f234ac53ee0>"
      ]
     },
     "execution_count": 25,
     "metadata": {},
     "output_type": "execute_result"
    }
   ],
   "source": [
    "stats_system1_df = descriptive_statistics(mated_scores1, nonmated_scores1)\n",
    "stats_system1_df.round(round_digits).style.hide_index()\n"
   ]
  },
  {
   "cell_type": "code",
   "execution_count": 26,
   "metadata": {},
   "outputs": [
    {
     "name": "stderr",
     "output_type": "stream",
     "text": [
      "/tmp/ipykernel_113809/1952787033.py:2: FutureWarning: this method is deprecated in favour of `Styler.hide(axis='index')`\n",
      "  stats_system2_df.round(round_digits).style.hide_index()\n"
     ]
    },
    {
     "data": {
      "text/html": [
       "<style type=\"text/css\">\n",
       "</style>\n",
       "<table id=\"T_334d3\">\n",
       "  <thead>\n",
       "    <tr>\n",
       "      <th id=\"T_334d3_level0_col0\" class=\"col_heading level0 col0\" >Statistic</th>\n",
       "      <th id=\"T_334d3_level0_col1\" class=\"col_heading level0 col1\" >Mated</th>\n",
       "      <th id=\"T_334d3_level0_col2\" class=\"col_heading level0 col2\" >Non-mated</th>\n",
       "    </tr>\n",
       "  </thead>\n",
       "  <tbody>\n",
       "    <tr>\n",
       "      <td id=\"T_334d3_row0_col0\" class=\"data row0 col0\" >Observations</td>\n",
       "      <td id=\"T_334d3_row0_col1\" class=\"data row0 col1\" >44.000000</td>\n",
       "      <td id=\"T_334d3_row0_col2\" class=\"data row0 col2\" >939638.000000</td>\n",
       "    </tr>\n",
       "    <tr>\n",
       "      <td id=\"T_334d3_row1_col0\" class=\"data row1 col0\" >Minimum</td>\n",
       "      <td id=\"T_334d3_row1_col1\" class=\"data row1 col1\" >0.203590</td>\n",
       "      <td id=\"T_334d3_row1_col2\" class=\"data row1 col2\" >-0.308030</td>\n",
       "    </tr>\n",
       "    <tr>\n",
       "      <td id=\"T_334d3_row2_col0\" class=\"data row2 col0\" >Maximum</td>\n",
       "      <td id=\"T_334d3_row2_col1\" class=\"data row2 col1\" >0.764130</td>\n",
       "      <td id=\"T_334d3_row2_col2\" class=\"data row2 col2\" >0.844750</td>\n",
       "    </tr>\n",
       "    <tr>\n",
       "      <td id=\"T_334d3_row3_col0\" class=\"data row3 col0\" >Mean</td>\n",
       "      <td id=\"T_334d3_row3_col1\" class=\"data row3 col1\" >0.442560</td>\n",
       "      <td id=\"T_334d3_row3_col2\" class=\"data row3 col2\" >0.214890</td>\n",
       "    </tr>\n",
       "    <tr>\n",
       "      <td id=\"T_334d3_row4_col0\" class=\"data row4 col0\" >St. Dev.</td>\n",
       "      <td id=\"T_334d3_row4_col1\" class=\"data row4 col1\" >0.128140</td>\n",
       "      <td id=\"T_334d3_row4_col2\" class=\"data row4 col2\" >0.119370</td>\n",
       "    </tr>\n",
       "    <tr>\n",
       "      <td id=\"T_334d3_row5_col0\" class=\"data row5 col0\" >Skewness</td>\n",
       "      <td id=\"T_334d3_row5_col1\" class=\"data row5 col1\" >0.076820</td>\n",
       "      <td id=\"T_334d3_row5_col2\" class=\"data row5 col2\" >0.005680</td>\n",
       "    </tr>\n",
       "    <tr>\n",
       "      <td id=\"T_334d3_row6_col0\" class=\"data row6 col0\" >Ex. Kurtosis</td>\n",
       "      <td id=\"T_334d3_row6_col1\" class=\"data row6 col1\" >0.422820</td>\n",
       "      <td id=\"T_334d3_row6_col2\" class=\"data row6 col2\" >-0.036050</td>\n",
       "    </tr>\n",
       "  </tbody>\n",
       "</table>\n"
      ],
      "text/plain": [
       "<pandas.io.formats.style.Styler at 0x7f234ab92380>"
      ]
     },
     "execution_count": 26,
     "metadata": {},
     "output_type": "execute_result"
    }
   ],
   "source": [
    "stats_system2_df = descriptive_statistics(mated_scores2, nonmated_scores2)\n",
    "stats_system2_df.round(round_digits).style.hide_index()"
   ]
  },
  {
   "cell_type": "code",
   "execution_count": 27,
   "metadata": {},
   "outputs": [
    {
     "data": {
      "image/png": "[encoded data removed]",
      "text/plain": [
       "<Figure size 1200x600 with 1 Axes>"
      ]
     },
     "metadata": {},
     "output_type": "display_data"
    }
   ],
   "source": [
    "plot_histogram(mated_scores1, nonmated_scores1, normalise=True)"
   ]
  },
  {
   "cell_type": "code",
   "execution_count": 28,
   "metadata": {},
   "outputs": [
    {
     "data": {
      "image/png": "[encoded data removed]",
      "text/plain": [
       "<Figure size 1200x600 with 1 Axes>"
      ]
     },
     "metadata": {},
     "output_type": "display_data"
    }
   ],
   "source": [
    "plot_histogram(mated_scores2, nonmated_scores2, normalise=True)"
   ]
  },
  {
   "cell_type": "markdown",
   "metadata": {},
   "source": []
  }
 ],
 "metadata": {
  "kernelspec": {
   "display_name": "best_master",
   "language": "python",
   "name": "python3"
  },
  "language_info": {
   "codemirror_mode": {
    "name": "ipython",
    "version": 3
   },
   "file_extension": ".py",
   "mimetype": "text/x-python",
   "name": "python",
   "nbconvert_exporter": "python",
   "pygments_lexer": "ipython3",
   "version": "3.10.6"
  }
 },
 "nbformat": 4,
 "nbformat_minor": 2
}
