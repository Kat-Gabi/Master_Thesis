{
 "cells": [
  {
   "cell_type": "markdown",
   "metadata": {},
   "source": [
    "Check cropped magface images"
   ]
  },
  {
   "cell_type": "code",
   "execution_count": 4,
   "metadata": {},
   "outputs": [],
   "source": [
    "def replace_substring_in_file(input_file, output_file, old_substring, new_substring):\n",
    "    \"\"\"Replace a substring in each line of a file and write to a new file.\"\"\"\n",
    "    with open(input_file, 'r') as file:\n",
    "        lines = file.readlines()\n",
    "\n",
    "    updated_lines = [line.replace(old_substring, new_substring) for line in lines]\n",
    "\n",
    "    with open(output_file, 'w') as file:\n",
    "        file.writelines(updated_lines)\n",
    "        \n",
    "        \n",
    "replace_substring_in_file(\"/Users/gabriellakierulff/Desktop/HCAI/speciale/Master_Thesis/data/data_full/feature_vectors/image_lists_magface/image_list_adults_bibel_pre_cropped.list\", \n",
    "                           \"/Users/gabriellakierulff/Desktop/HCAI/speciale/Master_Thesis/data/data_full/feature_vectors/image_lists_magface/image_list_adults_bibel_pre_cropped_wo_cropped.list\", \"adults_filtered_bibel_cropped\", \"adults_filtered_bibel\")\n"
   ]
  },
  {
   "cell_type": "code",
   "execution_count": 5,
   "metadata": {},
   "outputs": [
    {
     "name": "stdout",
     "output_type": "stream",
     "text": [
      "Unique lines in /Users/gabriellakierulff/Desktop/HCAI/speciale/Master_Thesis/data/data_full/feature_vectors/image_lists_magface/adults_bibel_not_cropped.list that are not in /Users/gabriellakierulff/Desktop/HCAI/speciale/Master_Thesis/data/data_full/feature_vectors/image_lists_magface/image_list_adults_bibel_pre_cropped_wo_cropped.list have been written to /Users/gabriellakierulff/Desktop/HCAI/speciale/Master_Thesis/data/data_full/feature_vectors/image_lists_magface/not_in_not_cropped.list.\n"
     ]
    }
   ],
   "source": [
    "def replace_substring_in_file(input_file, output_file, old_substring, new_substring):\n",
    "    \"\"\"Replace a substring in each line of a file and write to a new file.\"\"\"\n",
    "    with open(input_file, 'r') as file:\n",
    "        lines = file.readlines()\n",
    "\n",
    "    updated_lines = [line.replace(old_substring, new_substring) for line in lines]\n",
    "\n",
    "    with open(output_file, 'w') as file:\n",
    "        file.writelines(updated_lines)\n",
    "\n",
    "\n",
    "def read_list_file(file_path):\n",
    "    \"\"\"Read a .list file and return a set of lines.\"\"\"\n",
    "    with open(file_path, 'r') as file:\n",
    "        return set(file.read().splitlines())\n",
    "\n",
    "def find_unique_lines(file1, file2):\n",
    "    \"\"\"Find lines that are in file1 but not in file2.\"\"\"\n",
    "    lines_file1 = read_list_file(file1)\n",
    "    lines_file2 = read_list_file(file2)\n",
    "    unique_lines = lines_file1 - lines_file2\n",
    "    return unique_lines\n",
    "\n",
    "def write_unique_lines(output_file, unique_lines):\n",
    "    \"\"\"Write the unique lines to an output file.\"\"\"\n",
    "    with open(output_file, 'w') as file:\n",
    "        for line in unique_lines:\n",
    "            file.write(f\"{line}\\n\")\n",
    "\n",
    "if __name__ == \"__main__\":\n",
    "    file1 = \"/Users/gabriellakierulff/Desktop/HCAI/speciale/Master_Thesis/data/data_full/feature_vectors/image_lists_magface/adults_bibel_not_cropped.list\"  # Replace with the path to your first .list file\n",
    "    file2 =  \"/Users/gabriellakierulff/Desktop/HCAI/speciale/Master_Thesis/data/data_full/feature_vectors/image_lists_magface/image_list_adults_bibel_pre_cropped_wo_cropped.list\" # Replace with the path to your second .list file\n",
    "    output_file = \"/Users/gabriellakierulff/Desktop/HCAI/speciale/Master_Thesis/data/data_full/feature_vectors/image_lists_magface/not_in_not_cropped.list\"  # Replace with the path to your output .list file\n",
    "\n",
    "    unique_lines = find_unique_lines(file1, file2)\n",
    "    write_unique_lines(output_file, unique_lines)\n",
    "\n",
    "    print(f\"Unique lines in {file1} that are not in {file2} have been written to {output_file}.\")"
   ]
  },
  {
   "cell_type": "code",
   "execution_count": null,
   "metadata": {},
   "outputs": [],
   "source": []
  }
 ],
 "metadata": {
  "kernelspec": {
   "display_name": "best_master",
   "language": "python",
   "name": "python3"
  },
  "language_info": {
   "codemirror_mode": {
    "name": "ipython",
    "version": 3
   },
   "file_extension": ".py",
   "mimetype": "text/x-python",
   "name": "python",
   "nbconvert_exporter": "python",
   "pygments_lexer": "ipython3",
   "version": "3.10.14"
  }
 },
 "nbformat": 4,
 "nbformat_minor": 2
}
