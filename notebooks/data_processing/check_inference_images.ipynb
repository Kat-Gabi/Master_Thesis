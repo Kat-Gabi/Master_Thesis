{
 "cells": [
  {
   "cell_type": "markdown",
   "metadata": {},
   "source": [
    "Check cropped magface images"
   ]
  },
  {
   "cell_type": "code",
   "execution_count": 4,
   "metadata": {},
   "outputs": [],
   "source": [
    "def replace_substring_in_file(input_file, output_file, old_substring, new_substring):\n",
    "    \"\"\"Replace a substring in each line of a file and write to a new file.\"\"\"\n",
    "    with open(input_file, 'r') as file:\n",
    "        lines = file.readlines()\n",
    "\n",
    "    updated_lines = [line.replace(old_substring, new_substring) for line in lines]\n",
    "\n",
    "    with open(output_file, 'w') as file:\n",
    "        file.writelines(updated_lines)\n",
    "        \n",
    "        \n",
    "replace_substring_in_file(\"/Users/gabriellakierulff/Desktop/HCAI/speciale/Master_Thesis/data/data_full/feature_vectors/image_lists_magface/image_list_adults_bibel_pre_cropped.list\", \n",
    "                           \"/Users/gabriellakierulff/Desktop/HCAI/speciale/Master_Thesis/data/data_full/feature_vectors/image_lists_magface/image_list_adults_bibel_pre_cropped_wo_cropped.list\", \"adults_filtered_bibel_cropped\", \"adults_filtered_bibel\")\n"
   ]
  },
  {
   "cell_type": "code",
   "execution_count": 3,
   "metadata": {},
   "outputs": [
    {
     "ename": "TypeError",
     "evalue": "expected str, bytes or os.PathLike object, not NoneType",
     "output_type": "error",
     "traceback": [
      "\u001b[0;31m---------------------------------------------------------------------------\u001b[0m",
      "\u001b[0;31mTypeError\u001b[0m                                 Traceback (most recent call last)",
      "Cell \u001b[0;32mIn[3], line 36\u001b[0m\n\u001b[1;32m     33\u001b[0m file2 \u001b[38;5;241m=\u001b[39m \u001b[38;5;124m\"\u001b[39m\u001b[38;5;124m/Users/gabriellakierulff/Desktop/HCAI/speciale/Master_Thesis/data/data_full/feature_vectors/image_lists_magface/image_list_adults_bibel_pre_cropped.list\u001b[39m\u001b[38;5;124m\"\u001b[39m  \u001b[38;5;66;03m# Replace with the path to your second .list file\u001b[39;00m\n\u001b[1;32m     34\u001b[0m output_file \u001b[38;5;241m=\u001b[39m \u001b[38;5;124m\"\u001b[39m\u001b[38;5;124m/Users/gabriellakierulff/Desktop/HCAI/speciale/Master_Thesis/data/data_full/feature_vectors/image_lists_magface/not_in_not_cropped.list\u001b[39m\u001b[38;5;124m\"\u001b[39m  \u001b[38;5;66;03m# Replace with the path to your output .list file\u001b[39;00m\n\u001b[0;32m---> 36\u001b[0m unique_lines \u001b[38;5;241m=\u001b[39m \u001b[43mfind_unique_lines\u001b[49m\u001b[43m(\u001b[49m\u001b[43mfile1\u001b[49m\u001b[43m,\u001b[49m\u001b[43m \u001b[49m\u001b[43mfile2\u001b[49m\u001b[43m)\u001b[49m\n\u001b[1;32m     37\u001b[0m write_unique_lines(output_file, unique_lines)\n\u001b[1;32m     39\u001b[0m \u001b[38;5;28mprint\u001b[39m(\u001b[38;5;124mf\u001b[39m\u001b[38;5;124m\"\u001b[39m\u001b[38;5;124mUnique lines in \u001b[39m\u001b[38;5;132;01m{\u001b[39;00mfile1\u001b[38;5;132;01m}\u001b[39;00m\u001b[38;5;124m that are not in \u001b[39m\u001b[38;5;132;01m{\u001b[39;00mfile2\u001b[38;5;132;01m}\u001b[39;00m\u001b[38;5;124m have been written to \u001b[39m\u001b[38;5;132;01m{\u001b[39;00moutput_file\u001b[38;5;132;01m}\u001b[39;00m\u001b[38;5;124m.\u001b[39m\u001b[38;5;124m\"\u001b[39m)\n",
      "Cell \u001b[0;32mIn[3], line 20\u001b[0m, in \u001b[0;36mfind_unique_lines\u001b[0;34m(file1, file2)\u001b[0m\n\u001b[1;32m     18\u001b[0m \u001b[38;5;250m\u001b[39m\u001b[38;5;124;03m\"\"\"Find lines that are in file1 but not in file2.\"\"\"\u001b[39;00m\n\u001b[1;32m     19\u001b[0m file1 \u001b[38;5;241m=\u001b[39m replace_substring_in_file(file1, \u001b[38;5;124m\"\u001b[39m\u001b[38;5;124madults_filtered_bibel_cropped\u001b[39m\u001b[38;5;124m\"\u001b[39m, \u001b[38;5;124m\"\u001b[39m\u001b[38;5;124madults_filtered_bibel\u001b[39m\u001b[38;5;124m\"\u001b[39m)\n\u001b[0;32m---> 20\u001b[0m lines_file1 \u001b[38;5;241m=\u001b[39m \u001b[43mread_list_file\u001b[49m\u001b[43m(\u001b[49m\u001b[43mfile1\u001b[49m\u001b[43m)\u001b[49m\n\u001b[1;32m     21\u001b[0m lines_file2 \u001b[38;5;241m=\u001b[39m read_list_file(file2)\n\u001b[1;32m     22\u001b[0m unique_lines \u001b[38;5;241m=\u001b[39m lines_file1 \u001b[38;5;241m-\u001b[39m lines_file2\n",
      "Cell \u001b[0;32mIn[3], line 14\u001b[0m, in \u001b[0;36mread_list_file\u001b[0;34m(file_path)\u001b[0m\n\u001b[1;32m     12\u001b[0m \u001b[38;5;28;01mdef\u001b[39;00m \u001b[38;5;21mread_list_file\u001b[39m(file_path):\n\u001b[1;32m     13\u001b[0m \u001b[38;5;250m    \u001b[39m\u001b[38;5;124;03m\"\"\"Read a .list file and return a set of lines.\"\"\"\u001b[39;00m\n\u001b[0;32m---> 14\u001b[0m     \u001b[38;5;28;01mwith\u001b[39;00m \u001b[38;5;28;43mopen\u001b[39;49m\u001b[43m(\u001b[49m\u001b[43mfile_path\u001b[49m\u001b[43m,\u001b[49m\u001b[43m \u001b[49m\u001b[38;5;124;43m'\u001b[39;49m\u001b[38;5;124;43mr\u001b[39;49m\u001b[38;5;124;43m'\u001b[39;49m\u001b[43m)\u001b[49m \u001b[38;5;28;01mas\u001b[39;00m file:\n\u001b[1;32m     15\u001b[0m         \u001b[38;5;28;01mreturn\u001b[39;00m \u001b[38;5;28mset\u001b[39m(file\u001b[38;5;241m.\u001b[39mread()\u001b[38;5;241m.\u001b[39msplitlines())\n",
      "File \u001b[0;32m~/anaconda3/envs/best_master/lib/python3.10/site-packages/IPython/core/interactiveshell.py:324\u001b[0m, in \u001b[0;36m_modified_open\u001b[0;34m(file, *args, **kwargs)\u001b[0m\n\u001b[1;32m    317\u001b[0m \u001b[38;5;28;01mif\u001b[39;00m file \u001b[38;5;129;01min\u001b[39;00m {\u001b[38;5;241m0\u001b[39m, \u001b[38;5;241m1\u001b[39m, \u001b[38;5;241m2\u001b[39m}:\n\u001b[1;32m    318\u001b[0m     \u001b[38;5;28;01mraise\u001b[39;00m \u001b[38;5;167;01mValueError\u001b[39;00m(\n\u001b[1;32m    319\u001b[0m         \u001b[38;5;124mf\u001b[39m\u001b[38;5;124m\"\u001b[39m\u001b[38;5;124mIPython won\u001b[39m\u001b[38;5;124m'\u001b[39m\u001b[38;5;124mt let you open fd=\u001b[39m\u001b[38;5;132;01m{\u001b[39;00mfile\u001b[38;5;132;01m}\u001b[39;00m\u001b[38;5;124m by default \u001b[39m\u001b[38;5;124m\"\u001b[39m\n\u001b[1;32m    320\u001b[0m         \u001b[38;5;124m\"\u001b[39m\u001b[38;5;124mas it is likely to crash IPython. If you know what you are doing, \u001b[39m\u001b[38;5;124m\"\u001b[39m\n\u001b[1;32m    321\u001b[0m         \u001b[38;5;124m\"\u001b[39m\u001b[38;5;124myou can use builtins\u001b[39m\u001b[38;5;124m'\u001b[39m\u001b[38;5;124m open.\u001b[39m\u001b[38;5;124m\"\u001b[39m\n\u001b[1;32m    322\u001b[0m     )\n\u001b[0;32m--> 324\u001b[0m \u001b[38;5;28;01mreturn\u001b[39;00m \u001b[43mio_open\u001b[49m\u001b[43m(\u001b[49m\u001b[43mfile\u001b[49m\u001b[43m,\u001b[49m\u001b[43m \u001b[49m\u001b[38;5;241;43m*\u001b[39;49m\u001b[43margs\u001b[49m\u001b[43m,\u001b[49m\u001b[43m \u001b[49m\u001b[38;5;241;43m*\u001b[39;49m\u001b[38;5;241;43m*\u001b[39;49m\u001b[43mkwargs\u001b[49m\u001b[43m)\u001b[49m\n",
      "\u001b[0;31mTypeError\u001b[0m: expected str, bytes or os.PathLike object, not NoneType"
     ]
    }
   ],
   "source": [
    "def replace_substring_in_file(input_file, output_file, old_substring, new_substring):\n",
    "    \"\"\"Replace a substring in each line of a file and write to a new file.\"\"\"\n",
    "    with open(input_file, 'r') as file:\n",
    "        lines = file.readlines()\n",
    "\n",
    "    updated_lines = [line.replace(old_substring, new_substring) for line in lines]\n",
    "\n",
    "    with open(output_file, 'w') as file:\n",
    "        file.writelines(updated_lines)\n",
    "\n",
    "\n",
    "def read_list_file(file_path):\n",
    "    \"\"\"Read a .list file and return a set of lines.\"\"\"\n",
    "    with open(file_path, 'r') as file:\n",
    "        return set(file.read().splitlines())\n",
    "\n",
    "def find_unique_lines(file1, file2):\n",
    "    \"\"\"Find lines that are in file1 but not in file2.\"\"\"\n",
    "    lines_file1 = read_list_file(file1)\n",
    "    lines_file2 = read_list_file(file2)\n",
    "    unique_lines = lines_file1 - lines_file2\n",
    "    return unique_lines\n",
    "\n",
    "def write_unique_lines(output_file, unique_lines):\n",
    "    \"\"\"Write the unique lines to an output file.\"\"\"\n",
    "    with open(output_file, 'w') as file:\n",
    "        for line in unique_lines:\n",
    "            file.write(f\"{line}\\n\")\n",
    "\n",
    "if __name__ == \"__main__\":\n",
    "    file1 = \"/Users/gabriellakierulff/Desktop/HCAI/speciale/Master_Thesis/data/data_full/feature_vectors/image_lists_magface/adults_bibel_not_cropped.list\"  # Replace with the path to your first .list file\n",
    "    file2 =  \"/Users/gabriellakierulff/Desktop/HCAI/speciale/Master_Thesis/data/data_full/feature_vectors/image_lists_magface/image_list_adults_bibel_pre_cropped_wo_cropped.list\" # Replace with the path to your second .list file\n",
    "    output_file = \"/Users/gabriellakierulff/Desktop/HCAI/speciale/Master_Thesis/data/data_full/feature_vectors/image_lists_magface/not_in_not_cropped.list\"  # Replace with the path to your output .list file\n",
    "\n",
    "    unique_lines = find_unique_lines(file1, file2)\n",
    "    write_unique_lines(output_file, unique_lines)\n",
    "\n",
    "    print(f\"Unique lines in {file1} that are not in {file2} have been written to {output_file}.\")"
   ]
  },
  {
   "cell_type": "code",
   "execution_count": null,
   "metadata": {},
   "outputs": [],
   "source": []
  }
 ],
 "metadata": {
  "kernelspec": {
   "display_name": "best_master",
   "language": "python",
   "name": "python3"
  },
  "language_info": {
   "codemirror_mode": {
    "name": "ipython",
    "version": 3
   },
   "file_extension": ".py",
   "mimetype": "text/x-python",
   "name": "python",
   "nbconvert_exporter": "python",
   "pygments_lexer": "ipython3",
   "version": "3.10.14"
  }
 },
 "nbformat": 4,
 "nbformat_minor": 2
}
