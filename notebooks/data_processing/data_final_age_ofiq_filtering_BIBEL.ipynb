{
 "cells": [
  {
   "cell_type": "markdown",
   "metadata": {},
   "source": [
    "## Resulting data frames to use for descriptive stats"
   ]
  },
  {
   "cell_type": "markdown",
   "metadata": {},
   "source": [
    "This notebook loads the original data frames and removes age std above 5 for adults and outliers above 10 for children.\n",
    "\n",
    "Additionally, adults data with OFIQ score below the 20th quantile are removed. "
   ]
  },
  {
   "cell_type": "code",
   "execution_count": 1,
   "metadata": {},
   "outputs": [],
   "source": [
    "import pandas as pd\n",
    "import seaborn as sns\n",
    "sns.set()\n",
    "import random\n",
    "random.seed(42)\n",
    "import numpy as np\n",
    "from collections import Counter\n"
   ]
  },
  {
   "cell_type": "code",
   "execution_count": 12,
   "metadata": {},
   "outputs": [],
   "source": [
    "# Dataframes with info, removes names not in magface results\n",
    "children_all = pd.read_csv('../../data/image_info_csvs/YLFW_full_info_including_children_from_adults.csv')\n",
    "adults_all = pd.read_csv('../../data/image_info_csvs/RFW_full_info_excluding_children.csv')"
   ]
  },
  {
   "cell_type": "code",
   "execution_count": 13,
   "metadata": {},
   "outputs": [
    {
     "data": {
      "text/html": [
       "<div>\n",
       "<style scoped>\n",
       "    .dataframe tbody tr th:only-of-type {\n",
       "        vertical-align: middle;\n",
       "    }\n",
       "\n",
       "    .dataframe tbody tr th {\n",
       "        vertical-align: top;\n",
       "    }\n",
       "\n",
       "    .dataframe thead th {\n",
       "        text-align: right;\n",
       "    }\n",
       "</style>\n",
       "<table border=\"1\" class=\"dataframe\">\n",
       "  <thead>\n",
       "    <tr style=\"text-align: right;\">\n",
       "      <th></th>\n",
       "      <th>files_list</th>\n",
       "      <th>image_name</th>\n",
       "      <th>enrolled</th>\n",
       "      <th>identity_name</th>\n",
       "      <th>ethnicity</th>\n",
       "      <th>Age</th>\n",
       "      <th>Identity</th>\n",
       "      <th>UnifiedQualityScore.scalar</th>\n",
       "      <th>HeadPoseYaw.scalar</th>\n",
       "      <th>HeadPosePitch.scalar</th>\n",
       "      <th>HeadPoseRoll.scalar</th>\n",
       "      <th>children_agegroup</th>\n",
       "    </tr>\n",
       "  </thead>\n",
       "  <tbody>\n",
       "    <tr>\n",
       "      <th>0</th>\n",
       "      <td>African_0/African_0_0.png</td>\n",
       "      <td>African_0_0</td>\n",
       "      <td>enrolled</td>\n",
       "      <td>African_0</td>\n",
       "      <td>African</td>\n",
       "      <td>7</td>\n",
       "      <td>African_0</td>\n",
       "      <td>34.0</td>\n",
       "      <td>100.0</td>\n",
       "      <td>93.0</td>\n",
       "      <td>100.0</td>\n",
       "      <td>7-9</td>\n",
       "    </tr>\n",
       "    <tr>\n",
       "      <th>1</th>\n",
       "      <td>African_1/African_1_11.png</td>\n",
       "      <td>African_1_11</td>\n",
       "      <td>enrolled</td>\n",
       "      <td>African_1</td>\n",
       "      <td>African</td>\n",
       "      <td>5</td>\n",
       "      <td>African_1</td>\n",
       "      <td>65.0</td>\n",
       "      <td>100.0</td>\n",
       "      <td>99.0</td>\n",
       "      <td>100.0</td>\n",
       "      <td>4-6</td>\n",
       "    </tr>\n",
       "    <tr>\n",
       "      <th>2</th>\n",
       "      <td>African_1/African_1_4.png</td>\n",
       "      <td>African_1_4</td>\n",
       "      <td>enrolled</td>\n",
       "      <td>African_1</td>\n",
       "      <td>African</td>\n",
       "      <td>2</td>\n",
       "      <td>African_1</td>\n",
       "      <td>23.0</td>\n",
       "      <td>95.0</td>\n",
       "      <td>99.0</td>\n",
       "      <td>100.0</td>\n",
       "      <td>1-3</td>\n",
       "    </tr>\n",
       "    <tr>\n",
       "      <th>3</th>\n",
       "      <td>African_10/African_10_1.png</td>\n",
       "      <td>African_10_1</td>\n",
       "      <td>enrolled</td>\n",
       "      <td>African_10</td>\n",
       "      <td>African</td>\n",
       "      <td>5</td>\n",
       "      <td>African_10</td>\n",
       "      <td>50.0</td>\n",
       "      <td>100.0</td>\n",
       "      <td>97.0</td>\n",
       "      <td>100.0</td>\n",
       "      <td>4-6</td>\n",
       "    </tr>\n",
       "    <tr>\n",
       "      <th>4</th>\n",
       "      <td>African_10/African_10_3.png</td>\n",
       "      <td>African_10_3</td>\n",
       "      <td>enrolled</td>\n",
       "      <td>African_10</td>\n",
       "      <td>African</td>\n",
       "      <td>6</td>\n",
       "      <td>African_10</td>\n",
       "      <td>25.0</td>\n",
       "      <td>90.0</td>\n",
       "      <td>100.0</td>\n",
       "      <td>100.0</td>\n",
       "      <td>4-6</td>\n",
       "    </tr>\n",
       "    <tr>\n",
       "      <th>...</th>\n",
       "      <td>...</td>\n",
       "      <td>...</td>\n",
       "      <td>...</td>\n",
       "      <td>...</td>\n",
       "      <td>...</td>\n",
       "      <td>...</td>\n",
       "      <td>...</td>\n",
       "      <td>...</td>\n",
       "      <td>...</td>\n",
       "      <td>...</td>\n",
       "      <td>...</td>\n",
       "      <td>...</td>\n",
       "    </tr>\n",
       "    <tr>\n",
       "      <th>7812</th>\n",
       "      <td>Indian_m.0h9448x/m.0h9448x_0002.jpg</td>\n",
       "      <td>m.0h9448x_0002</td>\n",
       "      <td>enrolled</td>\n",
       "      <td>m.0h9448x</td>\n",
       "      <td>Indian</td>\n",
       "      <td>14</td>\n",
       "      <td>m.0h9448x</td>\n",
       "      <td>86.0</td>\n",
       "      <td>100.0</td>\n",
       "      <td>100.0</td>\n",
       "      <td>100.0</td>\n",
       "      <td>13-15</td>\n",
       "    </tr>\n",
       "    <tr>\n",
       "      <th>7813</th>\n",
       "      <td>Indian_m.0hncksb/m.0hncksb_0003.jpg</td>\n",
       "      <td>m.0hncksb_0003</td>\n",
       "      <td>enrolled</td>\n",
       "      <td>m.0hncksb</td>\n",
       "      <td>Indian</td>\n",
       "      <td>11</td>\n",
       "      <td>m.0hncksb</td>\n",
       "      <td>20.0</td>\n",
       "      <td>96.0</td>\n",
       "      <td>94.0</td>\n",
       "      <td>100.0</td>\n",
       "      <td>10-12</td>\n",
       "    </tr>\n",
       "    <tr>\n",
       "      <th>7814</th>\n",
       "      <td>Indian_m.0j63px2/m.0j63px2_0003.jpg</td>\n",
       "      <td>m.0j63px2_0003</td>\n",
       "      <td>enrolled</td>\n",
       "      <td>m.0j63px2</td>\n",
       "      <td>Indian</td>\n",
       "      <td>12</td>\n",
       "      <td>m.0j63px2</td>\n",
       "      <td>88.0</td>\n",
       "      <td>99.0</td>\n",
       "      <td>98.0</td>\n",
       "      <td>100.0</td>\n",
       "      <td>10-12</td>\n",
       "    </tr>\n",
       "    <tr>\n",
       "      <th>7815</th>\n",
       "      <td>Indian_m.0j63px2/m.0j63px2_0004.jpg</td>\n",
       "      <td>m.0j63px2_0004</td>\n",
       "      <td>enrolled</td>\n",
       "      <td>m.0j63px2</td>\n",
       "      <td>Indian</td>\n",
       "      <td>15</td>\n",
       "      <td>m.0j63px2</td>\n",
       "      <td>24.0</td>\n",
       "      <td>64.0</td>\n",
       "      <td>98.0</td>\n",
       "      <td>99.0</td>\n",
       "      <td>13-15</td>\n",
       "    </tr>\n",
       "    <tr>\n",
       "      <th>7816</th>\n",
       "      <td>Indian_m.0jwwdq1/m.0jwwdq1_0002.jpg</td>\n",
       "      <td>m.0jwwdq1_0002</td>\n",
       "      <td>enrolled</td>\n",
       "      <td>m.0jwwdq1</td>\n",
       "      <td>Indian</td>\n",
       "      <td>6</td>\n",
       "      <td>m.0jwwdq1</td>\n",
       "      <td>17.0</td>\n",
       "      <td>98.0</td>\n",
       "      <td>98.0</td>\n",
       "      <td>100.0</td>\n",
       "      <td>4-6</td>\n",
       "    </tr>\n",
       "  </tbody>\n",
       "</table>\n",
       "<p>7817 rows × 12 columns</p>\n",
       "</div>"
      ],
      "text/plain": [
       "                               files_list      image_name  enrolled  \\\n",
       "0               African_0/African_0_0.png     African_0_0  enrolled   \n",
       "1              African_1/African_1_11.png    African_1_11  enrolled   \n",
       "2               African_1/African_1_4.png     African_1_4  enrolled   \n",
       "3             African_10/African_10_1.png    African_10_1  enrolled   \n",
       "4             African_10/African_10_3.png    African_10_3  enrolled   \n",
       "...                                   ...             ...       ...   \n",
       "7812  Indian_m.0h9448x/m.0h9448x_0002.jpg  m.0h9448x_0002  enrolled   \n",
       "7813  Indian_m.0hncksb/m.0hncksb_0003.jpg  m.0hncksb_0003  enrolled   \n",
       "7814  Indian_m.0j63px2/m.0j63px2_0003.jpg  m.0j63px2_0003  enrolled   \n",
       "7815  Indian_m.0j63px2/m.0j63px2_0004.jpg  m.0j63px2_0004  enrolled   \n",
       "7816  Indian_m.0jwwdq1/m.0jwwdq1_0002.jpg  m.0jwwdq1_0002  enrolled   \n",
       "\n",
       "     identity_name ethnicity  Age    Identity  UnifiedQualityScore.scalar  \\\n",
       "0        African_0   African    7   African_0                        34.0   \n",
       "1        African_1   African    5   African_1                        65.0   \n",
       "2        African_1   African    2   African_1                        23.0   \n",
       "3       African_10   African    5  African_10                        50.0   \n",
       "4       African_10   African    6  African_10                        25.0   \n",
       "...            ...       ...  ...         ...                         ...   \n",
       "7812     m.0h9448x    Indian   14   m.0h9448x                        86.0   \n",
       "7813     m.0hncksb    Indian   11   m.0hncksb                        20.0   \n",
       "7814     m.0j63px2    Indian   12   m.0j63px2                        88.0   \n",
       "7815     m.0j63px2    Indian   15   m.0j63px2                        24.0   \n",
       "7816     m.0jwwdq1    Indian    6   m.0jwwdq1                        17.0   \n",
       "\n",
       "      HeadPoseYaw.scalar  HeadPosePitch.scalar  HeadPoseRoll.scalar  \\\n",
       "0                  100.0                  93.0                100.0   \n",
       "1                  100.0                  99.0                100.0   \n",
       "2                   95.0                  99.0                100.0   \n",
       "3                  100.0                  97.0                100.0   \n",
       "4                   90.0                 100.0                100.0   \n",
       "...                  ...                   ...                  ...   \n",
       "7812               100.0                 100.0                100.0   \n",
       "7813                96.0                  94.0                100.0   \n",
       "7814                99.0                  98.0                100.0   \n",
       "7815                64.0                  98.0                 99.0   \n",
       "7816                98.0                  98.0                100.0   \n",
       "\n",
       "     children_agegroup  \n",
       "0                  7-9  \n",
       "1                  4-6  \n",
       "2                  1-3  \n",
       "3                  4-6  \n",
       "4                  4-6  \n",
       "...                ...  \n",
       "7812             13-15  \n",
       "7813             10-12  \n",
       "7814             10-12  \n",
       "7815             13-15  \n",
       "7816               4-6  \n",
       "\n",
       "[7817 rows x 12 columns]"
      ]
     },
     "execution_count": 13,
     "metadata": {},
     "output_type": "execute_result"
    }
   ],
   "source": [
    "children_all"
   ]
  },
  {
   "cell_type": "code",
   "execution_count": 14,
   "metadata": {},
   "outputs": [
    {
     "data": {
      "text/html": [
       "<div>\n",
       "<style scoped>\n",
       "    .dataframe tbody tr th:only-of-type {\n",
       "        vertical-align: middle;\n",
       "    }\n",
       "\n",
       "    .dataframe tbody tr th {\n",
       "        vertical-align: top;\n",
       "    }\n",
       "\n",
       "    .dataframe thead th {\n",
       "        text-align: right;\n",
       "    }\n",
       "</style>\n",
       "<table border=\"1\" class=\"dataframe\">\n",
       "  <thead>\n",
       "    <tr style=\"text-align: right;\">\n",
       "      <th></th>\n",
       "      <th>files_list</th>\n",
       "      <th>image_name</th>\n",
       "      <th>identity_name</th>\n",
       "      <th>enrolled</th>\n",
       "      <th>ethnicity</th>\n",
       "      <th>Age</th>\n",
       "      <th>Identity</th>\n",
       "      <th>UnifiedQualityScore.scalar</th>\n",
       "      <th>HeadPoseYaw.scalar</th>\n",
       "      <th>HeadPosePitch.scalar</th>\n",
       "      <th>HeadPoseRoll.scalar</th>\n",
       "      <th>children_agegroup</th>\n",
       "    </tr>\n",
       "  </thead>\n",
       "  <tbody>\n",
       "    <tr>\n",
       "      <th>0</th>\n",
       "      <td>African_m.010lz5/m.010lz5_0001.jpg</td>\n",
       "      <td>m.010lz5_0001</td>\n",
       "      <td>m.010lz5</td>\n",
       "      <td>enrolled</td>\n",
       "      <td>African</td>\n",
       "      <td>38</td>\n",
       "      <td>m.010lz5</td>\n",
       "      <td>35</td>\n",
       "      <td>100</td>\n",
       "      <td>100</td>\n",
       "      <td>100</td>\n",
       "      <td>NaN</td>\n",
       "    </tr>\n",
       "    <tr>\n",
       "      <th>1</th>\n",
       "      <td>African_m.010lz5/m.010lz5_0002.jpg</td>\n",
       "      <td>m.010lz5_0002</td>\n",
       "      <td>m.010lz5</td>\n",
       "      <td>enrolled</td>\n",
       "      <td>African</td>\n",
       "      <td>29</td>\n",
       "      <td>m.010lz5</td>\n",
       "      <td>40</td>\n",
       "      <td>76</td>\n",
       "      <td>81</td>\n",
       "      <td>97</td>\n",
       "      <td>NaN</td>\n",
       "    </tr>\n",
       "    <tr>\n",
       "      <th>2</th>\n",
       "      <td>African_m.010lz5/m.010lz5_0003.jpg</td>\n",
       "      <td>m.010lz5_0003</td>\n",
       "      <td>m.010lz5</td>\n",
       "      <td>enrolled</td>\n",
       "      <td>African</td>\n",
       "      <td>37</td>\n",
       "      <td>m.010lz5</td>\n",
       "      <td>34</td>\n",
       "      <td>99</td>\n",
       "      <td>76</td>\n",
       "      <td>100</td>\n",
       "      <td>NaN</td>\n",
       "    </tr>\n",
       "    <tr>\n",
       "      <th>3</th>\n",
       "      <td>African_m.011y5k/m.011y5k_0001.jpg</td>\n",
       "      <td>m.011y5k_0001</td>\n",
       "      <td>m.011y5k</td>\n",
       "      <td>enrolled</td>\n",
       "      <td>African</td>\n",
       "      <td>40</td>\n",
       "      <td>m.011y5k</td>\n",
       "      <td>5</td>\n",
       "      <td>90</td>\n",
       "      <td>100</td>\n",
       "      <td>100</td>\n",
       "      <td>NaN</td>\n",
       "    </tr>\n",
       "    <tr>\n",
       "      <th>4</th>\n",
       "      <td>African_m.011y5k/m.011y5k_0002.jpg</td>\n",
       "      <td>m.011y5k_0002</td>\n",
       "      <td>m.011y5k</td>\n",
       "      <td>enrolled</td>\n",
       "      <td>African</td>\n",
       "      <td>43</td>\n",
       "      <td>m.011y5k</td>\n",
       "      <td>51</td>\n",
       "      <td>100</td>\n",
       "      <td>100</td>\n",
       "      <td>100</td>\n",
       "      <td>NaN</td>\n",
       "    </tr>\n",
       "    <tr>\n",
       "      <th>...</th>\n",
       "      <td>...</td>\n",
       "      <td>...</td>\n",
       "      <td>...</td>\n",
       "      <td>...</td>\n",
       "      <td>...</td>\n",
       "      <td>...</td>\n",
       "      <td>...</td>\n",
       "      <td>...</td>\n",
       "      <td>...</td>\n",
       "      <td>...</td>\n",
       "      <td>...</td>\n",
       "      <td>...</td>\n",
       "    </tr>\n",
       "    <tr>\n",
       "      <th>39355</th>\n",
       "      <td>Indian_m.0vshsz9/m.0vshsz9_0003.jpg</td>\n",
       "      <td>m.0vshsz9_0003</td>\n",
       "      <td>m.0vshsz9</td>\n",
       "      <td>enrolled</td>\n",
       "      <td>Indian</td>\n",
       "      <td>25</td>\n",
       "      <td>m.0vshsz9</td>\n",
       "      <td>76</td>\n",
       "      <td>99</td>\n",
       "      <td>96</td>\n",
       "      <td>100</td>\n",
       "      <td>NaN</td>\n",
       "    </tr>\n",
       "    <tr>\n",
       "      <th>39356</th>\n",
       "      <td>Indian_m.0_4pw/m.0_4pw_0001.jpg</td>\n",
       "      <td>m.0_4pw_0001</td>\n",
       "      <td>m.0_4pw</td>\n",
       "      <td>enrolled</td>\n",
       "      <td>Indian</td>\n",
       "      <td>38</td>\n",
       "      <td>m.0_4pw</td>\n",
       "      <td>28</td>\n",
       "      <td>100</td>\n",
       "      <td>100</td>\n",
       "      <td>100</td>\n",
       "      <td>NaN</td>\n",
       "    </tr>\n",
       "    <tr>\n",
       "      <th>39357</th>\n",
       "      <td>Indian_m.0_4pw/m.0_4pw_0002.jpg</td>\n",
       "      <td>m.0_4pw_0002</td>\n",
       "      <td>m.0_4pw</td>\n",
       "      <td>enrolled</td>\n",
       "      <td>Indian</td>\n",
       "      <td>64</td>\n",
       "      <td>m.0_4pw</td>\n",
       "      <td>16</td>\n",
       "      <td>90</td>\n",
       "      <td>100</td>\n",
       "      <td>100</td>\n",
       "      <td>NaN</td>\n",
       "    </tr>\n",
       "    <tr>\n",
       "      <th>39358</th>\n",
       "      <td>Indian_m.0_4pw/m.0_4pw_0003.jpg</td>\n",
       "      <td>m.0_4pw_0003</td>\n",
       "      <td>m.0_4pw</td>\n",
       "      <td>enrolled</td>\n",
       "      <td>Indian</td>\n",
       "      <td>37</td>\n",
       "      <td>m.0_4pw</td>\n",
       "      <td>24</td>\n",
       "      <td>89</td>\n",
       "      <td>99</td>\n",
       "      <td>100</td>\n",
       "      <td>NaN</td>\n",
       "    </tr>\n",
       "    <tr>\n",
       "      <th>39359</th>\n",
       "      <td>Indian_m.0_4pw/m.0_4pw_0004.jpg</td>\n",
       "      <td>m.0_4pw_0004</td>\n",
       "      <td>m.0_4pw</td>\n",
       "      <td>enrolled</td>\n",
       "      <td>Indian</td>\n",
       "      <td>51</td>\n",
       "      <td>m.0_4pw</td>\n",
       "      <td>70</td>\n",
       "      <td>84</td>\n",
       "      <td>92</td>\n",
       "      <td>99</td>\n",
       "      <td>NaN</td>\n",
       "    </tr>\n",
       "  </tbody>\n",
       "</table>\n",
       "<p>39360 rows × 12 columns</p>\n",
       "</div>"
      ],
      "text/plain": [
       "                                files_list      image_name identity_name  \\\n",
       "0       African_m.010lz5/m.010lz5_0001.jpg   m.010lz5_0001      m.010lz5   \n",
       "1       African_m.010lz5/m.010lz5_0002.jpg   m.010lz5_0002      m.010lz5   \n",
       "2       African_m.010lz5/m.010lz5_0003.jpg   m.010lz5_0003      m.010lz5   \n",
       "3       African_m.011y5k/m.011y5k_0001.jpg   m.011y5k_0001      m.011y5k   \n",
       "4       African_m.011y5k/m.011y5k_0002.jpg   m.011y5k_0002      m.011y5k   \n",
       "...                                    ...             ...           ...   \n",
       "39355  Indian_m.0vshsz9/m.0vshsz9_0003.jpg  m.0vshsz9_0003     m.0vshsz9   \n",
       "39356      Indian_m.0_4pw/m.0_4pw_0001.jpg    m.0_4pw_0001       m.0_4pw   \n",
       "39357      Indian_m.0_4pw/m.0_4pw_0002.jpg    m.0_4pw_0002       m.0_4pw   \n",
       "39358      Indian_m.0_4pw/m.0_4pw_0003.jpg    m.0_4pw_0003       m.0_4pw   \n",
       "39359      Indian_m.0_4pw/m.0_4pw_0004.jpg    m.0_4pw_0004       m.0_4pw   \n",
       "\n",
       "       enrolled ethnicity  Age   Identity  UnifiedQualityScore.scalar  \\\n",
       "0      enrolled   African   38   m.010lz5                          35   \n",
       "1      enrolled   African   29   m.010lz5                          40   \n",
       "2      enrolled   African   37   m.010lz5                          34   \n",
       "3      enrolled   African   40   m.011y5k                           5   \n",
       "4      enrolled   African   43   m.011y5k                          51   \n",
       "...         ...       ...  ...        ...                         ...   \n",
       "39355  enrolled    Indian   25  m.0vshsz9                          76   \n",
       "39356  enrolled    Indian   38    m.0_4pw                          28   \n",
       "39357  enrolled    Indian   64    m.0_4pw                          16   \n",
       "39358  enrolled    Indian   37    m.0_4pw                          24   \n",
       "39359  enrolled    Indian   51    m.0_4pw                          70   \n",
       "\n",
       "       HeadPoseYaw.scalar  HeadPosePitch.scalar  HeadPoseRoll.scalar  \\\n",
       "0                     100                   100                  100   \n",
       "1                      76                    81                   97   \n",
       "2                      99                    76                  100   \n",
       "3                      90                   100                  100   \n",
       "4                     100                   100                  100   \n",
       "...                   ...                   ...                  ...   \n",
       "39355                  99                    96                  100   \n",
       "39356                 100                   100                  100   \n",
       "39357                  90                   100                  100   \n",
       "39358                  89                    99                  100   \n",
       "39359                  84                    92                   99   \n",
       "\n",
       "       children_agegroup  \n",
       "0                    NaN  \n",
       "1                    NaN  \n",
       "2                    NaN  \n",
       "3                    NaN  \n",
       "4                    NaN  \n",
       "...                  ...  \n",
       "39355                NaN  \n",
       "39356                NaN  \n",
       "39357                NaN  \n",
       "39358                NaN  \n",
       "39359                NaN  \n",
       "\n",
       "[39360 rows x 12 columns]"
      ]
     },
     "execution_count": 14,
     "metadata": {},
     "output_type": "execute_result"
    }
   ],
   "source": [
    "adults_all"
   ]
  },
  {
   "cell_type": "markdown",
   "metadata": {},
   "source": [
    "### OFIQ"
   ]
  },
  {
   "cell_type": "markdown",
   "metadata": {},
   "source": [
    "#### Stratify på alder"
   ]
  },
  {
   "cell_type": "markdown",
   "metadata": {},
   "source": [
    "**Adults age std - before**"
   ]
  },
  {
   "cell_type": "code",
   "execution_count": 15,
   "metadata": {},
   "outputs": [
    {
     "data": {
      "text/plain": [
       "count    11238.000000\n",
       "mean         4.527498\n",
       "std          3.340651\n",
       "min          0.000000\n",
       "25%          2.217356\n",
       "50%          3.701351\n",
       "75%          5.737305\n",
       "90%          8.717798\n",
       "95%         11.212343\n",
       "max         34.648232\n",
       "Name: Age, dtype: float64"
      ]
     },
     "execution_count": 15,
     "metadata": {},
     "output_type": "execute_result"
    }
   ],
   "source": [
    "# ADULTS STD DEVIATIONS - BEFORE\n",
    "\n",
    "### All reference image names, enrolled and non-enrolled image names - adults ###\n",
    "a_mates = adults_all.groupby(\"identity_name\").agg({'identity_name': ['count']})\n",
    "enrolled_identity_names_a = a_mates[a_mates[('identity_name', 'count')] > 1].index\n",
    "\n",
    "\n",
    "\n",
    "adults_all[adults_all.identity_name.isin(enrolled_identity_names_a)].groupby(\"identity_name\").Age.std().describe(percentiles=[.25, .5, .75, .9, .95])"
   ]
  },
  {
   "cell_type": "markdown",
   "metadata": {},
   "source": [
    "**Remove adults data with age standard deviation above 5.** "
   ]
  },
  {
   "cell_type": "code",
   "execution_count": 16,
   "metadata": {},
   "outputs": [],
   "source": [
    "adults_age_std = adults_all[adults_all.identity_name.isin(enrolled_identity_names_a)].groupby(\"identity_name\").Age.std().sort_values(ascending=False)\n",
    "adults_below_5std = adults_age_std[adults_age_std >= 5].index\n",
    "#all adults NOT with age std below 5\n",
    "final_filtered_adults_df = adults_all[~adults_all.identity_name.isin(adults_below_5std)]\n"
   ]
  },
  {
   "cell_type": "code",
   "execution_count": 22,
   "metadata": {},
   "outputs": [
    {
     "name": "stdout",
     "output_type": "stream",
     "text": [
      "39360 11238 3675 26263\n"
     ]
    }
   ],
   "source": [
    "print(len(adults_all),len(adults_age_std), len(adults_below_5std), len(final_filtered_adults_df))"
   ]
  },
  {
   "cell_type": "code",
   "execution_count": 17,
   "metadata": {},
   "outputs": [
    {
     "data": {
      "text/plain": [
       "count    7563.000000\n",
       "mean        2.751549\n",
       "std         1.255654\n",
       "min         0.000000\n",
       "25%         1.732051\n",
       "50%         2.774887\n",
       "75%         3.774917\n",
       "90%         4.509250\n",
       "95%         4.725816\n",
       "max         4.996666\n",
       "Name: Age, dtype: float64"
      ]
     },
     "execution_count": 17,
     "metadata": {},
     "output_type": "execute_result"
    }
   ],
   "source": [
    "# check\n",
    "final_filtered_adults_df.groupby(\"identity_name\").Age.std().describe(percentiles=[.25, .5, .75, .9, .95])"
   ]
  },
  {
   "cell_type": "markdown",
   "metadata": {},
   "source": [
    "**Children age deviation - before**"
   ]
  },
  {
   "cell_type": "code",
   "execution_count": 18,
   "metadata": {},
   "outputs": [
    {
     "data": {
      "text/plain": [
       "count    2098.000000\n",
       "mean        1.401640\n",
       "std         1.181351\n",
       "min         0.000000\n",
       "25%         0.577350\n",
       "50%         1.154701\n",
       "75%         2.061553\n",
       "90%         2.886751\n",
       "95%         3.703566\n",
       "99%         5.132960\n",
       "max         9.899495\n",
       "Name: Age, dtype: float64"
      ]
     },
     "execution_count": 18,
     "metadata": {},
     "output_type": "execute_result"
    }
   ],
   "source": [
    "\n",
    "### All reference image names, enrolled and non-enrolled image names - children ###\n",
    "c_mates = children_all.groupby(\"identity_name\").agg({'identity_name': ['count']})\n",
    "enrolled_identity_names_c = c_mates[c_mates[('identity_name', 'count')] > 1].index\n",
    "\n",
    "\n",
    "\n",
    "children_all[children_all.identity_name.isin(enrolled_identity_names_c)].groupby(\"identity_name\").Age.std().describe(percentiles=[.25, .5, .75, .9, .95, .99])"
   ]
  },
  {
   "cell_type": "markdown",
   "metadata": {},
   "source": [
    "**Remove children with age deviation above 10**"
   ]
  },
  {
   "cell_type": "code",
   "execution_count": 19,
   "metadata": {},
   "outputs": [],
   "source": [
    "children_age_std = children_all[children_all.identity_name.isin(enrolled_identity_names_c)].groupby(\"identity_name\").Age.std().sort_values(ascending=False)\n",
    "children_below_10std = children_age_std[children_age_std >= 10].index\n",
    "final_filtered_children_df = children_all[~children_all.identity_name.isin(children_below_10std)]\n"
   ]
  },
  {
   "cell_type": "code",
   "execution_count": 20,
   "metadata": {},
   "outputs": [
    {
     "data": {
      "text/plain": [
       "count    2098.000000\n",
       "mean        1.401640\n",
       "std         1.181351\n",
       "min         0.000000\n",
       "25%         0.577350\n",
       "50%         1.154701\n",
       "75%         2.061553\n",
       "90%         2.886751\n",
       "95%         3.703566\n",
       "max         9.899495\n",
       "Name: Age, dtype: float64"
      ]
     },
     "execution_count": 20,
     "metadata": {},
     "output_type": "execute_result"
    }
   ],
   "source": [
    "#check\n",
    "final_filtered_children_df.groupby(\"identity_name\").Age.std().describe(percentiles=[.25, .5, .75, .9, .95])"
   ]
  },
  {
   "cell_type": "markdown",
   "metadata": {},
   "source": [
    "# Removing the worst OFIQ samples "
   ]
  },
  {
   "cell_type": "code",
   "execution_count": 11,
   "metadata": {},
   "outputs": [
    {
     "data": {
      "text/plain": [
       "'/mnt/c/Dokumenter/Dokumenter/UNI/Master/Thesis/GitHub_Repo/Master_Thesis/notebooks/data_processing'"
      ]
     },
     "execution_count": 11,
     "metadata": {},
     "output_type": "execute_result"
    }
   ],
   "source": [
    "import os\n",
    "os.getcwd()"
   ]
  },
  {
   "cell_type": "code",
   "execution_count": 12,
   "metadata": {},
   "outputs": [],
   "source": [
    "OFIQ_children = pd.read_csv('../../data/OFIQ_results/OFIQ_children_all.csv', sep=';')\n",
    "OFIQ_adults = pd.read_csv('../../data/OFIQ_results/table_adults_all_in_one.csv', sep=';')"
   ]
  },
  {
   "cell_type": "code",
   "execution_count": 13,
   "metadata": {},
   "outputs": [],
   "source": [
    "OFIQ_adults['image_name'] = OFIQ_adults.Filename.str.split('/').str[-1]\n",
    "OFIQ_adults['image_name'] = OFIQ_adults['image_name'].apply(lambda x: os.path.splitext(x)[0])"
   ]
  },
  {
   "cell_type": "code",
   "execution_count": 14,
   "metadata": {},
   "outputs": [
    {
     "data": {
      "text/plain": [
       "25.0"
      ]
     },
     "execution_count": 14,
     "metadata": {},
     "output_type": "execute_result"
    }
   ],
   "source": [
    "np.percentile(OFIQ_adults['UnifiedQualityScore.scalar'], 30)"
   ]
  },
  {
   "cell_type": "code",
   "execution_count": 21,
   "metadata": {},
   "outputs": [],
   "source": [
    "import numpy as np\n",
    "\n",
    "# Calculate the threshold using numpy.percentile\n",
    "threshold = np.percentile(OFIQ_adults['UnifiedQualityScore.scalar'], 30)\n",
    "\n",
    "# Filter the DataFrame based on the threshold\n",
    "OFIQ_adults_filtered = OFIQ_adults[OFIQ_adults['UnifiedQualityScore.scalar'] > threshold]\n"
   ]
  },
  {
   "cell_type": "code",
   "execution_count": 22,
   "metadata": {},
   "outputs": [],
   "source": [
    "# add the column OFIQ_adults_filtered[]'UnifiedQualityScore.scalar'] to the final_filtered_adults_df based on image_name\n",
    "final_filtered_adults_df_final = final_filtered_adults_df.merge(OFIQ_adults_filtered[['image_name', 'UnifiedQualityScore.scalar']], on='image_name', how='left')\n"
   ]
  },
  {
   "cell_type": "code",
   "execution_count": 23,
   "metadata": {},
   "outputs": [
    {
     "data": {
      "text/plain": [
       "7323"
      ]
     },
     "execution_count": 23,
     "metadata": {},
     "output_type": "execute_result"
    }
   ],
   "source": [
    "final_filtered_adults_df_final[\"UnifiedQualityScore.scalar\"].isna().sum()"
   ]
  },
  {
   "cell_type": "code",
   "execution_count": 24,
   "metadata": {},
   "outputs": [],
   "source": [
    "# drop children age column\n",
    "final_filtered_adults_df_final = final_filtered_adults_df_final.drop(columns=\"children_agegroup\")"
   ]
  },
  {
   "cell_type": "code",
   "execution_count": 25,
   "metadata": {},
   "outputs": [],
   "source": [
    "# Drop nans corresponding to rows with bad ofiq score\n",
    "final_filtered_adults_df_final = final_filtered_adults_df_final.dropna()"
   ]
  },
  {
   "cell_type": "markdown",
   "metadata": {},
   "source": [
    "# Final filtered csvs"
   ]
  },
  {
   "cell_type": "code",
   "execution_count": 21,
   "metadata": {},
   "outputs": [
    {
     "name": "stdout",
     "output_type": "stream",
     "text": [
      "7817 26263\n"
     ]
    }
   ],
   "source": [
    "print(len(final_filtered_children_df), len(final_filtered_adults_df))"
   ]
  },
  {
   "cell_type": "code",
   "execution_count": 33,
   "metadata": {},
   "outputs": [
    {
     "data": {
      "text/plain": [
       "Index(['files_list', 'image_name', 'enrolled', 'identity_name', 'ethnicity',\n",
       "       'Age', 'Identity', 'UnifiedQualityScore.scalar', 'HeadPoseYaw.scalar',\n",
       "       'HeadPosePitch.scalar', 'HeadPoseRoll.scalar', 'children_agegroup'],\n",
       "      dtype='object')"
      ]
     },
     "execution_count": 33,
     "metadata": {},
     "output_type": "execute_result"
    }
   ],
   "source": [
    "final_filtered_children_df.columns"
   ]
  },
  {
   "cell_type": "code",
   "execution_count": 34,
   "metadata": {},
   "outputs": [],
   "source": [
    "high_OFIQ = final_filtered_children_df[final_filtered_children_df['UnifiedQualityScore.scalar'] > final_filtered_children_df['UnifiedQualityScore.scalar'].median()]"
   ]
  },
  {
   "cell_type": "code",
   "execution_count": 36,
   "metadata": {},
   "outputs": [
    {
     "data": {
      "text/plain": [
       "24.0"
      ]
     },
     "execution_count": 36,
     "metadata": {},
     "output_type": "execute_result"
    }
   ],
   "source": [
    "final_filtered_children_df['UnifiedQualityScore.scalar'].median()"
   ]
  },
  {
   "cell_type": "code",
   "execution_count": 35,
   "metadata": {},
   "outputs": [
    {
     "data": {
      "text/html": [
       "<div>\n",
       "<style scoped>\n",
       "    .dataframe tbody tr th:only-of-type {\n",
       "        vertical-align: middle;\n",
       "    }\n",
       "\n",
       "    .dataframe tbody tr th {\n",
       "        vertical-align: top;\n",
       "    }\n",
       "\n",
       "    .dataframe thead th {\n",
       "        text-align: right;\n",
       "    }\n",
       "</style>\n",
       "<table border=\"1\" class=\"dataframe\">\n",
       "  <thead>\n",
       "    <tr style=\"text-align: right;\">\n",
       "      <th></th>\n",
       "      <th>files_list</th>\n",
       "      <th>image_name</th>\n",
       "      <th>enrolled</th>\n",
       "      <th>identity_name</th>\n",
       "      <th>ethnicity</th>\n",
       "      <th>Age</th>\n",
       "      <th>Identity</th>\n",
       "      <th>UnifiedQualityScore.scalar</th>\n",
       "      <th>HeadPoseYaw.scalar</th>\n",
       "      <th>HeadPosePitch.scalar</th>\n",
       "      <th>HeadPoseRoll.scalar</th>\n",
       "      <th>children_agegroup</th>\n",
       "    </tr>\n",
       "  </thead>\n",
       "  <tbody>\n",
       "    <tr>\n",
       "      <th>0</th>\n",
       "      <td>African_0/African_0_0.png</td>\n",
       "      <td>African_0_0</td>\n",
       "      <td>enrolled</td>\n",
       "      <td>African_0</td>\n",
       "      <td>African</td>\n",
       "      <td>7</td>\n",
       "      <td>African_0</td>\n",
       "      <td>34.0</td>\n",
       "      <td>100.0</td>\n",
       "      <td>93.0</td>\n",
       "      <td>100.0</td>\n",
       "      <td>7-9</td>\n",
       "    </tr>\n",
       "    <tr>\n",
       "      <th>1</th>\n",
       "      <td>African_1/African_1_11.png</td>\n",
       "      <td>African_1_11</td>\n",
       "      <td>enrolled</td>\n",
       "      <td>African_1</td>\n",
       "      <td>African</td>\n",
       "      <td>5</td>\n",
       "      <td>African_1</td>\n",
       "      <td>65.0</td>\n",
       "      <td>100.0</td>\n",
       "      <td>99.0</td>\n",
       "      <td>100.0</td>\n",
       "      <td>4-6</td>\n",
       "    </tr>\n",
       "    <tr>\n",
       "      <th>3</th>\n",
       "      <td>African_10/African_10_1.png</td>\n",
       "      <td>African_10_1</td>\n",
       "      <td>enrolled</td>\n",
       "      <td>African_10</td>\n",
       "      <td>African</td>\n",
       "      <td>5</td>\n",
       "      <td>African_10</td>\n",
       "      <td>50.0</td>\n",
       "      <td>100.0</td>\n",
       "      <td>97.0</td>\n",
       "      <td>100.0</td>\n",
       "      <td>4-6</td>\n",
       "    </tr>\n",
       "    <tr>\n",
       "      <th>4</th>\n",
       "      <td>African_10/African_10_3.png</td>\n",
       "      <td>African_10_3</td>\n",
       "      <td>enrolled</td>\n",
       "      <td>African_10</td>\n",
       "      <td>African</td>\n",
       "      <td>6</td>\n",
       "      <td>African_10</td>\n",
       "      <td>25.0</td>\n",
       "      <td>90.0</td>\n",
       "      <td>100.0</td>\n",
       "      <td>100.0</td>\n",
       "      <td>4-6</td>\n",
       "    </tr>\n",
       "    <tr>\n",
       "      <th>5</th>\n",
       "      <td>African_10/African_10_4.png</td>\n",
       "      <td>African_10_4</td>\n",
       "      <td>enrolled</td>\n",
       "      <td>African_10</td>\n",
       "      <td>African</td>\n",
       "      <td>6</td>\n",
       "      <td>African_10</td>\n",
       "      <td>71.0</td>\n",
       "      <td>100.0</td>\n",
       "      <td>100.0</td>\n",
       "      <td>100.0</td>\n",
       "      <td>4-6</td>\n",
       "    </tr>\n",
       "    <tr>\n",
       "      <th>...</th>\n",
       "      <td>...</td>\n",
       "      <td>...</td>\n",
       "      <td>...</td>\n",
       "      <td>...</td>\n",
       "      <td>...</td>\n",
       "      <td>...</td>\n",
       "      <td>...</td>\n",
       "      <td>...</td>\n",
       "      <td>...</td>\n",
       "      <td>...</td>\n",
       "      <td>...</td>\n",
       "      <td>...</td>\n",
       "    </tr>\n",
       "    <tr>\n",
       "      <th>7809</th>\n",
       "      <td>Indian_m.0h1fnvm/m.0h1fnvm_0003.jpg</td>\n",
       "      <td>m.0h1fnvm_0003</td>\n",
       "      <td>enrolled</td>\n",
       "      <td>m.0h1fnvm</td>\n",
       "      <td>Indian</td>\n",
       "      <td>12</td>\n",
       "      <td>m.0h1fnvm</td>\n",
       "      <td>40.0</td>\n",
       "      <td>70.0</td>\n",
       "      <td>97.0</td>\n",
       "      <td>99.0</td>\n",
       "      <td>10-12</td>\n",
       "    </tr>\n",
       "    <tr>\n",
       "      <th>7810</th>\n",
       "      <td>Indian_m.0h1fnvm/m.0h1fnvm_0004.jpg</td>\n",
       "      <td>m.0h1fnvm_0004</td>\n",
       "      <td>enrolled</td>\n",
       "      <td>m.0h1fnvm</td>\n",
       "      <td>Indian</td>\n",
       "      <td>6</td>\n",
       "      <td>m.0h1fnvm</td>\n",
       "      <td>28.0</td>\n",
       "      <td>100.0</td>\n",
       "      <td>99.0</td>\n",
       "      <td>100.0</td>\n",
       "      <td>4-6</td>\n",
       "    </tr>\n",
       "    <tr>\n",
       "      <th>7811</th>\n",
       "      <td>Indian_m.0h9448x/m.0h9448x_0001.jpg</td>\n",
       "      <td>m.0h9448x_0001</td>\n",
       "      <td>enrolled</td>\n",
       "      <td>m.0h9448x</td>\n",
       "      <td>Indian</td>\n",
       "      <td>14</td>\n",
       "      <td>m.0h9448x</td>\n",
       "      <td>53.0</td>\n",
       "      <td>99.0</td>\n",
       "      <td>100.0</td>\n",
       "      <td>100.0</td>\n",
       "      <td>13-15</td>\n",
       "    </tr>\n",
       "    <tr>\n",
       "      <th>7812</th>\n",
       "      <td>Indian_m.0h9448x/m.0h9448x_0002.jpg</td>\n",
       "      <td>m.0h9448x_0002</td>\n",
       "      <td>enrolled</td>\n",
       "      <td>m.0h9448x</td>\n",
       "      <td>Indian</td>\n",
       "      <td>14</td>\n",
       "      <td>m.0h9448x</td>\n",
       "      <td>86.0</td>\n",
       "      <td>100.0</td>\n",
       "      <td>100.0</td>\n",
       "      <td>100.0</td>\n",
       "      <td>13-15</td>\n",
       "    </tr>\n",
       "    <tr>\n",
       "      <th>7814</th>\n",
       "      <td>Indian_m.0j63px2/m.0j63px2_0003.jpg</td>\n",
       "      <td>m.0j63px2_0003</td>\n",
       "      <td>enrolled</td>\n",
       "      <td>m.0j63px2</td>\n",
       "      <td>Indian</td>\n",
       "      <td>12</td>\n",
       "      <td>m.0j63px2</td>\n",
       "      <td>88.0</td>\n",
       "      <td>99.0</td>\n",
       "      <td>98.0</td>\n",
       "      <td>100.0</td>\n",
       "      <td>10-12</td>\n",
       "    </tr>\n",
       "  </tbody>\n",
       "</table>\n",
       "<p>3829 rows × 12 columns</p>\n",
       "</div>"
      ],
      "text/plain": [
       "                               files_list      image_name  enrolled  \\\n",
       "0               African_0/African_0_0.png     African_0_0  enrolled   \n",
       "1              African_1/African_1_11.png    African_1_11  enrolled   \n",
       "3             African_10/African_10_1.png    African_10_1  enrolled   \n",
       "4             African_10/African_10_3.png    African_10_3  enrolled   \n",
       "5             African_10/African_10_4.png    African_10_4  enrolled   \n",
       "...                                   ...             ...       ...   \n",
       "7809  Indian_m.0h1fnvm/m.0h1fnvm_0003.jpg  m.0h1fnvm_0003  enrolled   \n",
       "7810  Indian_m.0h1fnvm/m.0h1fnvm_0004.jpg  m.0h1fnvm_0004  enrolled   \n",
       "7811  Indian_m.0h9448x/m.0h9448x_0001.jpg  m.0h9448x_0001  enrolled   \n",
       "7812  Indian_m.0h9448x/m.0h9448x_0002.jpg  m.0h9448x_0002  enrolled   \n",
       "7814  Indian_m.0j63px2/m.0j63px2_0003.jpg  m.0j63px2_0003  enrolled   \n",
       "\n",
       "     identity_name ethnicity  Age    Identity  UnifiedQualityScore.scalar  \\\n",
       "0        African_0   African    7   African_0                        34.0   \n",
       "1        African_1   African    5   African_1                        65.0   \n",
       "3       African_10   African    5  African_10                        50.0   \n",
       "4       African_10   African    6  African_10                        25.0   \n",
       "5       African_10   African    6  African_10                        71.0   \n",
       "...            ...       ...  ...         ...                         ...   \n",
       "7809     m.0h1fnvm    Indian   12   m.0h1fnvm                        40.0   \n",
       "7810     m.0h1fnvm    Indian    6   m.0h1fnvm                        28.0   \n",
       "7811     m.0h9448x    Indian   14   m.0h9448x                        53.0   \n",
       "7812     m.0h9448x    Indian   14   m.0h9448x                        86.0   \n",
       "7814     m.0j63px2    Indian   12   m.0j63px2                        88.0   \n",
       "\n",
       "      HeadPoseYaw.scalar  HeadPosePitch.scalar  HeadPoseRoll.scalar  \\\n",
       "0                  100.0                  93.0                100.0   \n",
       "1                  100.0                  99.0                100.0   \n",
       "3                  100.0                  97.0                100.0   \n",
       "4                   90.0                 100.0                100.0   \n",
       "5                  100.0                 100.0                100.0   \n",
       "...                  ...                   ...                  ...   \n",
       "7809                70.0                  97.0                 99.0   \n",
       "7810               100.0                  99.0                100.0   \n",
       "7811                99.0                 100.0                100.0   \n",
       "7812               100.0                 100.0                100.0   \n",
       "7814                99.0                  98.0                100.0   \n",
       "\n",
       "     children_agegroup  \n",
       "0                  7-9  \n",
       "1                  4-6  \n",
       "3                  4-6  \n",
       "4                  4-6  \n",
       "5                  4-6  \n",
       "...                ...  \n",
       "7809             10-12  \n",
       "7810               4-6  \n",
       "7811             13-15  \n",
       "7812             13-15  \n",
       "7814             10-12  \n",
       "\n",
       "[3829 rows x 12 columns]"
      ]
     },
     "execution_count": 35,
     "metadata": {},
     "output_type": "execute_result"
    }
   ],
   "source": [
    "high_OFIQ"
   ]
  },
  {
   "cell_type": "code",
   "execution_count": 39,
   "metadata": {},
   "outputs": [],
   "source": [
    "high_OFIQ.to_csv('../../data/image_info_csvs/final_filtered_canonical_df_BIBLE.csv')"
   ]
  },
  {
   "cell_type": "code",
   "execution_count": 38,
   "metadata": {},
   "outputs": [
    {
     "data": {
      "text/plain": [
       "1741"
      ]
     },
     "execution_count": 38,
     "metadata": {},
     "output_type": "execute_result"
    }
   ],
   "source": [
    "len(high_OFIQ['identity_name'].unique())"
   ]
  },
  {
   "cell_type": "code",
   "execution_count": 37,
   "metadata": {},
   "outputs": [
    {
     "name": "stdout",
     "output_type": "stream",
     "text": [
      "730 1011\n"
     ]
    }
   ],
   "source": [
    "\n",
    "counts = high_OFIQ['identity_name'].value_counts()\n",
    "\n",
    "# Names that appear once\n",
    "names_once = counts[counts == 1].count()\n",
    "\n",
    "# Names that appear more than once\n",
    "names_more_than_once = counts[counts > 1].count()\n",
    "\n",
    "print(names_once, names_more_than_once)"
   ]
  },
  {
   "cell_type": "code",
   "execution_count": 23,
   "metadata": {},
   "outputs": [],
   "source": [
    "final_filtered_children_df.to_csv('../../data/image_info_csvs/final_filtered_children_df_BIBEL.csv')\n",
    "final_filtered_adults_df.to_csv('../../data/image_info_csvs/final_filtered_adults_df_BIBEL.csv')"
   ]
  },
  {
   "cell_type": "code",
   "execution_count": null,
   "metadata": {},
   "outputs": [],
   "source": []
  }
 ],
 "metadata": {
  "kernelspec": {
   "display_name": "best_master",
   "language": "python",
   "name": "python3"
  },
  "language_info": {
   "codemirror_mode": {
    "name": "ipython",
    "version": 3
   },
   "file_extension": ".py",
   "mimetype": "text/x-python",
   "name": "python",
   "nbconvert_exporter": "python",
   "pygments_lexer": "ipython3",
   "version": "3.10.6"
  }
 },
 "nbformat": 4,
 "nbformat_minor": 2
}
