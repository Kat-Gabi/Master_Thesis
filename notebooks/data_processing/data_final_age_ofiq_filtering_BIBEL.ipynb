{
 "cells": [
  {
   "cell_type": "markdown",
   "metadata": {},
   "source": [
    "## Resulting data frames to use for descriptive stats"
   ]
  },
  {
   "cell_type": "markdown",
   "metadata": {},
   "source": [
    "This notebook loads the original data frames and removes age std above 5 for adults and outliers above 10 for children.\n",
    "\n",
    "Additionally, adults data with OFIQ score below the 20th quantile are removed. "
   ]
  },
  {
   "cell_type": "code",
   "execution_count": 1,
   "metadata": {},
   "outputs": [],
   "source": [
    "import pandas as pd\n",
    "import seaborn as sns\n",
    "sns.set()\n",
    "import random\n",
    "random.seed(42)\n",
    "import numpy as np\n",
    "from collections import Counter\n"
   ]
  },
  {
   "cell_type": "code",
   "execution_count": 2,
   "metadata": {},
   "outputs": [],
   "source": [
    "# Dataframes with info, removes names not in magface results\n",
    "children_all = pd.read_csv('../../data/image_info_csvs/YLFW_full_info_including_children_from_adults.csv')\n",
    "adults_all = pd.read_csv('../../data/image_info_csvs/RFW_full_info_excluding_children.csv')"
   ]
  },
  {
   "cell_type": "markdown",
   "metadata": {},
   "source": [
    "### OFIQ"
   ]
  },
  {
   "cell_type": "markdown",
   "metadata": {},
   "source": [
    "#### Stratify på alder"
   ]
  },
  {
   "cell_type": "markdown",
   "metadata": {},
   "source": [
    "**Adults age std - before**"
   ]
  },
  {
   "cell_type": "code",
   "execution_count": 3,
   "metadata": {},
   "outputs": [
    {
     "data": {
      "text/plain": [
       "count    11238.000000\n",
       "mean         4.527498\n",
       "std          3.340651\n",
       "min          0.000000\n",
       "25%          2.217356\n",
       "50%          3.701351\n",
       "75%          5.737305\n",
       "90%          8.717798\n",
       "95%         11.212343\n",
       "max         34.648232\n",
       "Name: Age, dtype: float64"
      ]
     },
     "execution_count": 3,
     "metadata": {},
     "output_type": "execute_result"
    }
   ],
   "source": [
    "# ADULTS STD DEVIATIONS - BEFORE\n",
    "\n",
    "### All reference image names, enrolled and non-enrolled image names - adults ###\n",
    "a_mates = adults_all.groupby(\"identity_name\").agg({'identity_name': ['count']})\n",
    "enrolled_identity_names_a = a_mates[a_mates[('identity_name', 'count')] > 1].index\n",
    "\n",
    "\n",
    "\n",
    "adults_all[adults_all.identity_name.isin(enrolled_identity_names_a)].groupby(\"identity_name\").Age.std().describe(percentiles=[.25, .5, .75, .9, .95])"
   ]
  },
  {
   "cell_type": "markdown",
   "metadata": {},
   "source": [
    "**Remove adults data with age standard deviation above 5.** "
   ]
  },
  {
   "cell_type": "code",
   "execution_count": 4,
   "metadata": {},
   "outputs": [],
   "source": [
    "adults_age_std = adults_all[adults_all.identity_name.isin(enrolled_identity_names_a)].groupby(\"identity_name\").Age.std().sort_values(ascending=False)\n",
    "adults_below_5std = adults_age_std[adults_age_std >= 10].index\n",
    "#all adults NOT with age std below 5\n",
    "final_filtered_adults_df = adults_all[~adults_all.identity_name.isin(adults_below_5std)]\n"
   ]
  },
  {
   "cell_type": "code",
   "execution_count": 5,
   "metadata": {},
   "outputs": [
    {
     "name": "stdout",
     "output_type": "stream",
     "text": [
      "39360 11238 772 36728\n"
     ]
    }
   ],
   "source": [
    "print(len(adults_all),len(adults_age_std), len(adults_below_5std), len(final_filtered_adults_df))"
   ]
  },
  {
   "cell_type": "code",
   "execution_count": 6,
   "metadata": {},
   "outputs": [
    {
     "data": {
      "text/plain": [
       "count    10466.000000\n",
       "mean         3.869532\n",
       "std          2.213228\n",
       "min          0.000000\n",
       "25%          2.121320\n",
       "50%          3.535534\n",
       "75%          5.202563\n",
       "90%          7.090486\n",
       "95%          8.185353\n",
       "max          9.989995\n",
       "Name: Age, dtype: float64"
      ]
     },
     "execution_count": 6,
     "metadata": {},
     "output_type": "execute_result"
    }
   ],
   "source": [
    "# check\n",
    "final_filtered_adults_df.groupby(\"identity_name\").Age.std().describe(percentiles=[.25, .5, .75, .9, .95])"
   ]
  },
  {
   "cell_type": "markdown",
   "metadata": {},
   "source": [
    "**Children age deviation - before**"
   ]
  },
  {
   "cell_type": "code",
   "execution_count": 7,
   "metadata": {},
   "outputs": [
    {
     "data": {
      "text/plain": [
       "count    2098.000000\n",
       "mean        1.401640\n",
       "std         1.181351\n",
       "min         0.000000\n",
       "25%         0.577350\n",
       "50%         1.154701\n",
       "75%         2.061553\n",
       "90%         2.886751\n",
       "95%         3.703566\n",
       "99%         5.132960\n",
       "max         9.899495\n",
       "Name: Age, dtype: float64"
      ]
     },
     "execution_count": 7,
     "metadata": {},
     "output_type": "execute_result"
    }
   ],
   "source": [
    "\n",
    "### All reference image names, enrolled and non-enrolled image names - children ###\n",
    "c_mates = children_all.groupby(\"identity_name\").agg({'identity_name': ['count']})\n",
    "enrolled_identity_names_c = c_mates[c_mates[('identity_name', 'count')] > 1].index\n",
    "\n",
    "children_all[children_all.identity_name.isin(enrolled_identity_names_c)].groupby(\"identity_name\").Age.std().describe(percentiles=[.25, .5, .75, .9, .95, .99])"
   ]
  },
  {
   "cell_type": "markdown",
   "metadata": {},
   "source": [
    "**Remove children with age deviation above 10**"
   ]
  },
  {
   "cell_type": "code",
   "execution_count": 8,
   "metadata": {},
   "outputs": [],
   "source": [
    "children_age_std = children_all[children_all.identity_name.isin(enrolled_identity_names_c)].groupby(\"identity_name\").Age.std().sort_values(ascending=False)\n",
    "children_below_10std = children_age_std[children_age_std >= 10].index\n",
    "final_filtered_children_df = children_all[~children_all.identity_name.isin(children_below_10std)]\n"
   ]
  },
  {
   "cell_type": "code",
   "execution_count": 9,
   "metadata": {},
   "outputs": [
    {
     "data": {
      "text/plain": [
       "count    2098.000000\n",
       "mean        1.401640\n",
       "std         1.181351\n",
       "min         0.000000\n",
       "25%         0.577350\n",
       "50%         1.154701\n",
       "75%         2.061553\n",
       "90%         2.886751\n",
       "95%         3.703566\n",
       "max         9.899495\n",
       "Name: Age, dtype: float64"
      ]
     },
     "execution_count": 9,
     "metadata": {},
     "output_type": "execute_result"
    }
   ],
   "source": [
    "#check\n",
    "final_filtered_children_df.groupby(\"identity_name\").Age.std().describe(percentiles=[.25, .5, .75, .9, .95])"
   ]
  },
  {
   "cell_type": "markdown",
   "metadata": {},
   "source": [
    "# Removing the worst OFIQ samples "
   ]
  },
  {
   "cell_type": "code",
   "execution_count": null,
   "metadata": {},
   "outputs": [],
   "source": [
    "# OFIQ_children = pd.read_csv('../../data/OFIQ_results/OFIQ_children_all.csv', sep=';')\n",
    "# OFIQ_adults = pd.read_csv('../../data/OFIQ_results/table_adults_all_in_one.csv', sep=';')"
   ]
  },
  {
   "cell_type": "markdown",
   "metadata": {},
   "source": [
    "# Final filtered csvs"
   ]
  },
  {
   "cell_type": "code",
   "execution_count": null,
   "metadata": {},
   "outputs": [],
   "source": [
    "high_OFIQ = final_filtered_children_df[final_filtered_children_df['UnifiedQualityScore.scalar'] > final_filtered_children_df['UnifiedQualityScore.scalar'].median()]"
   ]
  },
  {
   "cell_type": "code",
   "execution_count": null,
   "metadata": {},
   "outputs": [],
   "source": [
    "high_OFIQ.to_csv('../../data/image_info_csvs/final_filtered_canonical_df_BIBLE.csv')"
   ]
  },
  {
   "cell_type": "code",
   "execution_count": null,
   "metadata": {},
   "outputs": [],
   "source": [
    "\n",
    "counts = high_OFIQ['identity_name'].value_counts()\n",
    "\n",
    "# Names that appear once\n",
    "names_once = counts[counts == 1].count()\n",
    "\n",
    "# Names that appear more than once\n",
    "names_more_than_once = counts[counts > 1].count()\n",
    "\n",
    "print(names_once, names_more_than_once)"
   ]
  },
  {
   "cell_type": "code",
   "execution_count": null,
   "metadata": {},
   "outputs": [],
   "source": [
    "\n",
    "OFIQ_filtered_adults = pd.read_csv('../../data/image_info_csvs/Image_pairs_similarityscores_OFIQ_worst_dropped.csv')\n"
   ]
  },
  {
   "cell_type": "code",
   "execution_count": null,
   "metadata": {},
   "outputs": [],
   "source": [
    "print(len(OFIQ_filtered_adults['identity_name'].unique()))\n",
    "print(len(OFIQ_filtered_adults['image_name'].unique()))"
   ]
  },
  {
   "cell_type": "code",
   "execution_count": null,
   "metadata": {},
   "outputs": [],
   "source": [
    "\n",
    "nyeste_måske = final_filtered_adults_df[final_filtered_adults_df.image_name.isin(OFIQ_filtered_adults['image_name'])]\n",
    "\n",
    "print(len(nyeste_måske['identity_name'].unique()))\n",
    "print(len(nyeste_måske['image_name'].unique()))"
   ]
  },
  {
   "cell_type": "code",
   "execution_count": null,
   "metadata": {},
   "outputs": [],
   "source": [
    "nyeste_måske"
   ]
  },
  {
   "cell_type": "code",
   "execution_count": null,
   "metadata": {},
   "outputs": [],
   "source": [
    "# final_filtered_children_df.to_csv('../../data/image_info_csvs/final_filtered_children_df_BIBEL.csv')\n",
    "nyeste_måske.to_csv('../../data/image_info_csvs/final_filtered_adults_df_BIBEL.csv')"
   ]
  },
  {
   "cell_type": "code",
   "execution_count": 11,
   "metadata": {},
   "outputs": [],
   "source": [
    "# final_filtered_adults_df.to_csv('../../data/image_info_csvs/final_filtered_adults_df_BIBEL.csv')"
   ]
  },
  {
   "cell_type": "code",
   "execution_count": null,
   "metadata": {},
   "outputs": [],
   "source": []
  }
 ],
 "metadata": {
  "kernelspec": {
   "display_name": "best_master",
   "language": "python",
   "name": "python3"
  },
  "language_info": {
   "codemirror_mode": {
    "name": "ipython",
    "version": 3
   },
   "file_extension": ".py",
   "mimetype": "text/x-python",
   "name": "python",
   "nbconvert_exporter": "python",
   "pygments_lexer": "ipython3",
   "version": "3.10.6"
  }
 },
 "nbformat": 4,
 "nbformat_minor": 2
}
