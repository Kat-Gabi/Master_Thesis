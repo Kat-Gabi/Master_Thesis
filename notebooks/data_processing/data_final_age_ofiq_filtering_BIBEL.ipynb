{
 "cells": [
  {
   "cell_type": "markdown",
   "metadata": {},
   "source": [
    "## Resulting data frames to use for descriptive stats"
   ]
  },
  {
   "cell_type": "markdown",
   "metadata": {},
   "source": [
    "This notebook loads the original data frames and removes age std above 5 for adults and outliers above 10 for children.\n",
    "\n",
    "Additionally, adults data with OFIQ score below the 20th quantile are removed. "
   ]
  },
  {
   "cell_type": "code",
<<<<<<< HEAD
   "execution_count": 7,
=======
   "execution_count": 1,
   "metadata": {},
   "outputs": [],
   "source": [
    "## Number of images not found by cropping method in magface \n",
    "\n",
    "def count_lines(file_path):\n",
    "    with open(file_path, 'r') as file:\n",
    "        line_count = sum(1 for line in file)\n",
    "    return line_count\n",
    "\n",
    "# Example usage:\n",
    "file_path = '/Users/gabriellakierulff/speciale_lokal/Images_not_recognized_cropping_magface_pred.txt'\n",
    "num_lines = count_lines(file_path)"
   ]
  },
  {
   "cell_type": "code",
   "execution_count": 2,
   "metadata": {},
   "outputs": [
    {
     "data": {
      "text/plain": [
       "3654"
      ]
     },
     "execution_count": 2,
     "metadata": {},
     "output_type": "execute_result"
    }
   ],
   "source": [
    "num_lines"
   ]
  },
  {
   "cell_type": "code",
   "execution_count": 3,
>>>>>>> origin/finetuning_dev
   "metadata": {},
   "outputs": [],
   "source": [
    "import pandas as pd\n",
    "import seaborn as sns\n",
    "sns.set()\n",
    "import random\n",
    "random.seed(42)\n",
    "import numpy as np\n",
    "from collections import Counter\n"
   ]
  },
  {
   "cell_type": "code",
<<<<<<< HEAD
   "execution_count": 8,
=======
   "execution_count": 4,
>>>>>>> origin/finetuning_dev
   "metadata": {},
   "outputs": [],
   "source": [
    "# Dataframes with info, removes names not in magface results\n",
<<<<<<< HEAD
    "children_all = pd.read_csv('../../data/image_info_csvs/YLFW_full_info_including_children_from_adults.csv')\n",
=======
    "children_all = pd.read_csv('../../data/image_info_csvs/YLFW_full_info_excluding_adults.csv')\n",
>>>>>>> origin/finetuning_dev
    "adults_all = pd.read_csv('../../data/image_info_csvs/RFW_full_info_excluding_children.csv')"
   ]
  },
  {
   "cell_type": "markdown",
   "metadata": {},
   "source": [
    "### OFIQ"
   ]
  },
  {
   "cell_type": "markdown",
   "metadata": {},
   "source": [
    "#### Stratify på alder"
   ]
  },
  {
   "cell_type": "markdown",
   "metadata": {},
   "source": [
    "**Adults age std - before**"
   ]
  },
  {
   "cell_type": "code",
<<<<<<< HEAD
   "execution_count": 9,
=======
   "execution_count": 5,
>>>>>>> origin/finetuning_dev
   "metadata": {},
   "outputs": [
    {
     "data": {
      "text/plain": [
<<<<<<< HEAD
       "count    11238.000000\n",
       "mean         4.527498\n",
       "std          3.340651\n",
       "min          0.000000\n",
       "25%          2.217356\n",
       "50%          3.701351\n",
       "75%          5.737305\n",
       "90%          8.717798\n",
       "95%         11.212343\n",
       "max         34.648232\n",
       "Name: Age, dtype: float64"
      ]
     },
     "execution_count": 9,
=======
       "count    10961.000000\n",
       "mean         4.492621\n",
       "std          3.411003\n",
       "min          0.000000\n",
       "25%          2.121320\n",
       "50%          3.605551\n",
       "75%          5.737305\n",
       "90%          8.746428\n",
       "95%         11.313708\n",
       "max         26.870058\n",
       "Name: Age, dtype: float64"
      ]
     },
     "execution_count": 5,
>>>>>>> origin/finetuning_dev
     "metadata": {},
     "output_type": "execute_result"
    }
   ],
   "source": [
    "# ADULTS STD DEVIATIONS - BEFORE\n",
    "\n",
    "### All reference image names, enrolled and non-enrolled image names - adults ###\n",
    "a_mates = adults_all.groupby(\"identity_name\").agg({'identity_name': ['count']})\n",
    "enrolled_identity_names_a = a_mates[a_mates[('identity_name', 'count')] > 1].index\n",
    "\n",
    "\n",
    "\n",
    "adults_all[adults_all.identity_name.isin(enrolled_identity_names_a)].groupby(\"identity_name\").Age.std().describe(percentiles=[.25, .5, .75, .9, .95])"
   ]
  },
  {
   "cell_type": "markdown",
   "metadata": {},
   "source": [
    "**Remove adults data with age standard deviation above 5.** "
   ]
  },
  {
   "cell_type": "code",
<<<<<<< HEAD
   "execution_count": 10,
=======
   "execution_count": 6,
>>>>>>> origin/finetuning_dev
   "metadata": {},
   "outputs": [],
   "source": [
    "adults_age_std = adults_all[adults_all.identity_name.isin(enrolled_identity_names_a)].groupby(\"identity_name\").Age.std().sort_values(ascending=False)\n",
<<<<<<< HEAD
    "adults_below_5std = adults_age_std[adults_age_std >= 10].index\n",
=======
    "adults_below_5std = adults_age_std[adults_age_std >= 5].index\n",
>>>>>>> origin/finetuning_dev
    "#all adults NOT with age std below 5\n",
    "final_filtered_adults_df = adults_all[~adults_all.identity_name.isin(adults_below_5std)]\n"
   ]
  },
  {
   "cell_type": "code",
<<<<<<< HEAD
   "execution_count": 11,
   "metadata": {},
   "outputs": [
    {
     "name": "stdout",
     "output_type": "stream",
     "text": [
      "39360 11238 772 36728\n"
     ]
    }
   ],
   "source": [
    "print(len(adults_all),len(adults_age_std), len(adults_below_5std), len(final_filtered_adults_df))"
   ]
  },
  {
   "cell_type": "code",
   "execution_count": 12,
=======
   "execution_count": 7,
>>>>>>> origin/finetuning_dev
   "metadata": {},
   "outputs": [
    {
     "data": {
      "text/plain": [
<<<<<<< HEAD
       "count    10466.000000\n",
       "mean         3.869532\n",
       "std          2.213228\n",
       "min          0.000000\n",
       "25%          2.121320\n",
       "50%          3.535534\n",
       "75%          5.202563\n",
       "90%          7.090486\n",
       "95%          8.185353\n",
       "max          9.989995\n",
       "Name: Age, dtype: float64"
      ]
     },
     "execution_count": 12,
=======
       "count    7445.000000\n",
       "mean        2.694945\n",
       "std         1.276123\n",
       "min         0.000000\n",
       "25%         1.732051\n",
       "50%         2.645751\n",
       "75%         3.651484\n",
       "90%         4.500000\n",
       "95%         4.725816\n",
       "max         5.000000\n",
       "Name: Age, dtype: float64"
      ]
     },
     "execution_count": 7,
>>>>>>> origin/finetuning_dev
     "metadata": {},
     "output_type": "execute_result"
    }
   ],
   "source": [
    "# check\n",
    "final_filtered_adults_df.groupby(\"identity_name\").Age.std().describe(percentiles=[.25, .5, .75, .9, .95])"
   ]
  },
  {
   "cell_type": "markdown",
   "metadata": {},
   "source": [
    "**Children age deviation - before**"
   ]
  },
  {
   "cell_type": "code",
<<<<<<< HEAD
   "execution_count": 13,
=======
   "execution_count": 8,
>>>>>>> origin/finetuning_dev
   "metadata": {},
   "outputs": [
    {
     "data": {
      "text/plain": [
<<<<<<< HEAD
       "count    2098.000000\n",
       "mean        1.401640\n",
       "std         1.181351\n",
       "min         0.000000\n",
       "25%         0.577350\n",
       "50%         1.154701\n",
       "75%         2.061553\n",
       "90%         2.886751\n",
       "95%         3.703566\n",
       "99%         5.132960\n",
       "max         9.899495\n",
       "Name: Age, dtype: float64"
      ]
     },
     "execution_count": 13,
=======
       "count    2482.000000\n",
       "mean        2.163802\n",
       "std         2.274560\n",
       "min         0.000000\n",
       "25%         0.707107\n",
       "50%         1.414214\n",
       "75%         2.828427\n",
       "90%         4.932883\n",
       "95%         6.501401\n",
       "99%        10.606602\n",
       "max        21.213203\n",
       "Name: Age, dtype: float64"
      ]
     },
     "execution_count": 8,
>>>>>>> origin/finetuning_dev
     "metadata": {},
     "output_type": "execute_result"
    }
   ],
   "source": [
    "\n",
    "### All reference image names, enrolled and non-enrolled image names - children ###\n",
    "c_mates = children_all.groupby(\"identity_name\").agg({'identity_name': ['count']})\n",
    "enrolled_identity_names_c = c_mates[c_mates[('identity_name', 'count')] > 1].index\n",
    "\n",
<<<<<<< HEAD
=======
    "\n",
    "\n",
>>>>>>> origin/finetuning_dev
    "children_all[children_all.identity_name.isin(enrolled_identity_names_c)].groupby(\"identity_name\").Age.std().describe(percentiles=[.25, .5, .75, .9, .95, .99])"
   ]
  },
  {
   "cell_type": "markdown",
   "metadata": {},
   "source": [
    "**Remove children with age deviation above 10**"
   ]
  },
  {
   "cell_type": "code",
<<<<<<< HEAD
   "execution_count": 14,
=======
   "execution_count": 9,
>>>>>>> origin/finetuning_dev
   "metadata": {},
   "outputs": [],
   "source": [
    "children_age_std = children_all[children_all.identity_name.isin(enrolled_identity_names_c)].groupby(\"identity_name\").Age.std().sort_values(ascending=False)\n",
    "children_below_10std = children_age_std[children_age_std >= 10].index\n",
    "final_filtered_children_df = children_all[~children_all.identity_name.isin(children_below_10std)]\n"
   ]
  },
  {
   "cell_type": "code",
<<<<<<< HEAD
   "execution_count": 15,
=======
   "execution_count": 10,
>>>>>>> origin/finetuning_dev
   "metadata": {},
   "outputs": [
    {
     "data": {
      "text/plain": [
<<<<<<< HEAD
       "count    2098.000000\n",
       "mean        1.401640\n",
       "std         1.181351\n",
       "min         0.000000\n",
       "25%         0.577350\n",
       "50%         1.154701\n",
       "75%         2.061553\n",
       "90%         2.886751\n",
       "95%         3.703566\n",
=======
       "count    2451.000000\n",
       "mean        2.018940\n",
       "std         1.852467\n",
       "min         0.000000\n",
       "25%         0.707107\n",
       "50%         1.414214\n",
       "75%         2.652036\n",
       "90%         4.582576\n",
       "95%         5.852350\n",
>>>>>>> origin/finetuning_dev
       "max         9.899495\n",
       "Name: Age, dtype: float64"
      ]
     },
<<<<<<< HEAD
     "execution_count": 15,
=======
     "execution_count": 10,
>>>>>>> origin/finetuning_dev
     "metadata": {},
     "output_type": "execute_result"
    }
   ],
   "source": [
    "#check\n",
    "final_filtered_children_df.groupby(\"identity_name\").Age.std().describe(percentiles=[.25, .5, .75, .9, .95])"
   ]
  },
  {
   "cell_type": "markdown",
   "metadata": {},
   "source": [
    "# Removing the worst OFIQ samples "
   ]
  },
  {
   "cell_type": "code",
<<<<<<< HEAD
   "execution_count": 18,
   "metadata": {},
   "outputs": [],
   "source": [
    "OFIQ_children = pd.read_csv('../../data/OFIQ_results/OFIQ_children_all.csv')\n",
    "# OFIQ_adults = pd.read_csv('../../data/OFIQ_results/table_adults_all_in_one.csv', sep=';')"
=======
   "execution_count": 11,
   "metadata": {},
   "outputs": [
    {
     "data": {
      "text/plain": [
       "'/mnt/c/Dokumenter/Dokumenter/UNI/Master/Thesis/GitHub_Repo/Master_Thesis/notebooks/data_processing'"
      ]
     },
     "execution_count": 11,
     "metadata": {},
     "output_type": "execute_result"
    }
   ],
   "source": [
    "import os\n",
    "os.getcwd()"
   ]
  },
  {
   "cell_type": "code",
   "execution_count": 12,
   "metadata": {},
   "outputs": [],
   "source": [
    "OFIQ_children = pd.read_csv('../../data/OFIQ_results/OFIQ_children_all.csv', sep=';')\n",
    "OFIQ_adults = pd.read_csv('../../data/OFIQ_results/table_adults_all_in_one.csv', sep=';')"
   ]
  },
  {
   "cell_type": "code",
   "execution_count": 13,
   "metadata": {},
   "outputs": [],
   "source": [
    "OFIQ_adults['image_name'] = OFIQ_adults.Filename.str.split('/').str[-1]\n",
    "OFIQ_adults['image_name'] = OFIQ_adults['image_name'].apply(lambda x: os.path.splitext(x)[0])"
   ]
  },
  {
   "cell_type": "code",
   "execution_count": 14,
   "metadata": {},
   "outputs": [
    {
     "data": {
      "text/plain": [
       "25.0"
      ]
     },
     "execution_count": 14,
     "metadata": {},
     "output_type": "execute_result"
    }
   ],
   "source": [
    "np.percentile(OFIQ_adults['UnifiedQualityScore.scalar'], 30)"
   ]
  },
  {
   "cell_type": "code",
   "execution_count": 21,
   "metadata": {},
   "outputs": [],
   "source": [
    "import numpy as np\n",
    "\n",
    "# Calculate the threshold using numpy.percentile\n",
    "threshold = np.percentile(OFIQ_adults['UnifiedQualityScore.scalar'], 30)\n",
    "\n",
    "# Filter the DataFrame based on the threshold\n",
    "OFIQ_adults_filtered = OFIQ_adults[OFIQ_adults['UnifiedQualityScore.scalar'] > threshold]\n"
   ]
  },
  {
   "cell_type": "code",
   "execution_count": 22,
   "metadata": {},
   "outputs": [],
   "source": [
    "# add the column OFIQ_adults_filtered[]'UnifiedQualityScore.scalar'] to the final_filtered_adults_df based on image_name\n",
    "final_filtered_adults_df_final = final_filtered_adults_df.merge(OFIQ_adults_filtered[['image_name', 'UnifiedQualityScore.scalar']], on='image_name', how='left')\n"
   ]
  },
  {
   "cell_type": "code",
   "execution_count": 23,
   "metadata": {},
   "outputs": [
    {
     "data": {
      "text/plain": [
       "7323"
      ]
     },
     "execution_count": 23,
     "metadata": {},
     "output_type": "execute_result"
    }
   ],
   "source": [
    "final_filtered_adults_df_final[\"UnifiedQualityScore.scalar\"].isna().sum()"
   ]
  },
  {
   "cell_type": "code",
   "execution_count": 24,
   "metadata": {},
   "outputs": [],
   "source": [
    "# drop children age column\n",
    "final_filtered_adults_df_final = final_filtered_adults_df_final.drop(columns=\"children_agegroup\")"
   ]
  },
  {
   "cell_type": "code",
   "execution_count": 25,
   "metadata": {},
   "outputs": [],
   "source": [
    "# Drop nans corresponding to rows with bad ofiq score\n",
    "final_filtered_adults_df_final = final_filtered_adults_df_final.dropna()"
>>>>>>> origin/finetuning_dev
   ]
  },
  {
   "cell_type": "markdown",
   "metadata": {},
   "source": [
    "# Final filtered csvs"
   ]
  },
  {
   "cell_type": "code",
<<<<<<< HEAD
   "execution_count": 25,
   "metadata": {},
   "outputs": [
    {
     "data": {
      "text/plain": [
       "28.390942816937443"
      ]
     },
     "execution_count": 25,
     "metadata": {},
     "output_type": "execute_result"
    }
   ],
   "source": [
    "final_filtered_children_df['UnifiedQualityScore.scalar'].mean()"
   ]
  },
  {
   "cell_type": "code",
   "execution_count": 24,
   "metadata": {},
   "outputs": [
    {
     "data": {
      "text/plain": [
       "count    7817.000000\n",
       "mean       28.390943\n",
       "std        17.882933\n",
       "min         2.000000\n",
       "25%        14.000000\n",
       "50%        24.000000\n",
       "75%        39.000000\n",
       "90%        55.000000\n",
       "95%        64.000000\n",
       "max        93.000000\n",
       "Name: UnifiedQualityScore.scalar, dtype: float64"
      ]
     },
     "execution_count": 24,
     "metadata": {},
     "output_type": "execute_result"
    }
   ],
   "source": [
    "final_filtered_children_df[\"UnifiedQualityScore.scalar\"].describe(percentiles=[.25, .5, .75, .9, .95])"
   ]
  },
  {
   "cell_type": "code",
   "execution_count": 20,
   "metadata": {},
   "outputs": [],
   "source": [
    "high_OFIQ = final_filtered_children_df[final_filtered_children_df['UnifiedQualityScore.scalar'] > final_filtered_children_df['UnifiedQualityScore.scalar'].mean()]"
   ]
  },
  {
   "cell_type": "code",
   "execution_count": 20,
   "metadata": {},
   "outputs": [],
   "source": [
    "## ONLY UNCOMMENT TO SAVE\n",
    "##high_OFIQ.to_csv('../../data/image_info_csvs/final_filtered_canonical_df_BIBLE.csv')"
   ]
  },
  {
   "cell_type": "code",
   "execution_count": 21,
   "metadata": {},
   "outputs": [
    {
     "name": "stdout",
     "output_type": "stream",
     "text": [
      "700 834\n"
     ]
    }
   ],
   "source": [
    "\n",
    "counts = high_OFIQ['identity_name'].value_counts()\n",
    "\n",
    "# Names that appear once\n",
    "names_once = counts[counts == 1].count()\n",
    "\n",
    "# Names that appear more than once\n",
    "names_more_than_once = counts[counts > 1].count()\n",
    "\n",
    "print(names_once, names_more_than_once)"
   ]
  },
  {
   "cell_type": "code",
   "execution_count": 19,
   "metadata": {},
   "outputs": [],
   "source": [
    "\n",
    "OFIQ_filtered_adults = pd.read_csv('../../data/image_info_csvs/Image_pairs_similarityscores_OFIQ_worst_dropped.csv')\n"
   ]
  },
  {
   "cell_type": "code",
   "execution_count": 20,
   "metadata": {},
   "outputs": [
    {
     "name": "stdout",
     "output_type": "stream",
     "text": [
      "5433\n",
      "11119\n"
     ]
    }
   ],
   "source": [
    "print(len(OFIQ_filtered_adults['identity_name'].unique()))\n",
    "print(len(OFIQ_filtered_adults['image_name'].unique()))"
   ]
  },
  {
   "cell_type": "code",
   "execution_count": 21,
   "metadata": {},
   "outputs": [
    {
     "name": "stdout",
     "output_type": "stream",
     "text": [
      "5139\n",
      "10547\n"
     ]
    }
   ],
   "source": [
    "\n",
    "nyeste_måske = final_filtered_adults_df[final_filtered_adults_df.image_name.isin(OFIQ_filtered_adults['image_name'])]\n",
    "\n",
    "print(len(nyeste_måske['identity_name'].unique()))\n",
    "print(len(nyeste_måske['image_name'].unique()))"
   ]
  },
  {
   "cell_type": "code",
   "execution_count": 22,
   "metadata": {},
   "outputs": [
    {
     "data": {
      "text/html": [
       "<div>\n",
       "<style scoped>\n",
       "    .dataframe tbody tr th:only-of-type {\n",
       "        vertical-align: middle;\n",
       "    }\n",
       "\n",
       "    .dataframe tbody tr th {\n",
       "        vertical-align: top;\n",
       "    }\n",
       "\n",
       "    .dataframe thead th {\n",
       "        text-align: right;\n",
       "    }\n",
       "</style>\n",
       "<table border=\"1\" class=\"dataframe\">\n",
       "  <thead>\n",
       "    <tr style=\"text-align: right;\">\n",
       "      <th></th>\n",
       "      <th>files_list</th>\n",
       "      <th>image_name</th>\n",
       "      <th>identity_name</th>\n",
       "      <th>enrolled</th>\n",
       "      <th>ethnicity</th>\n",
       "      <th>Age</th>\n",
       "      <th>Identity</th>\n",
       "      <th>UnifiedQualityScore.scalar</th>\n",
       "      <th>HeadPoseYaw.scalar</th>\n",
       "      <th>HeadPosePitch.scalar</th>\n",
       "      <th>HeadPoseRoll.scalar</th>\n",
       "      <th>children_agegroup</th>\n",
       "    </tr>\n",
       "  </thead>\n",
       "  <tbody>\n",
       "    <tr>\n",
       "      <th>25</th>\n",
       "      <td>African_m.012mh_/m.012mh__0004.jpg</td>\n",
       "      <td>m.012mh__0004</td>\n",
       "      <td>m.012mh_</td>\n",
       "      <td>enrolled</td>\n",
       "      <td>African</td>\n",
       "      <td>24</td>\n",
       "      <td>m.012mh_</td>\n",
       "      <td>51</td>\n",
       "      <td>97</td>\n",
       "      <td>85</td>\n",
       "      <td>100</td>\n",
       "      <td>NaN</td>\n",
       "    </tr>\n",
       "    <tr>\n",
       "      <th>28</th>\n",
       "      <td>African_m.012mk7/m.012mk7_0001.jpg</td>\n",
       "      <td>m.012mk7_0001</td>\n",
       "      <td>m.012mk7</td>\n",
       "      <td>enrolled</td>\n",
       "      <td>African</td>\n",
       "      <td>33</td>\n",
       "      <td>m.012mk7</td>\n",
       "      <td>23</td>\n",
       "      <td>100</td>\n",
       "      <td>99</td>\n",
       "      <td>100</td>\n",
       "      <td>NaN</td>\n",
       "    </tr>\n",
       "    <tr>\n",
       "      <th>31</th>\n",
       "      <td>African_m.012mmb/m.012mmb_0001.jpg</td>\n",
       "      <td>m.012mmb_0001</td>\n",
       "      <td>m.012mmb</td>\n",
       "      <td>enrolled</td>\n",
       "      <td>African</td>\n",
       "      <td>31</td>\n",
       "      <td>m.012mmb</td>\n",
       "      <td>44</td>\n",
       "      <td>93</td>\n",
       "      <td>95</td>\n",
       "      <td>100</td>\n",
       "      <td>NaN</td>\n",
       "    </tr>\n",
       "    <tr>\n",
       "      <th>32</th>\n",
       "      <td>African_m.012mmb/m.012mmb_0002.jpg</td>\n",
       "      <td>m.012mmb_0002</td>\n",
       "      <td>m.012mmb</td>\n",
       "      <td>enrolled</td>\n",
       "      <td>African</td>\n",
       "      <td>30</td>\n",
       "      <td>m.012mmb</td>\n",
       "      <td>21</td>\n",
       "      <td>100</td>\n",
       "      <td>98</td>\n",
       "      <td>100</td>\n",
       "      <td>NaN</td>\n",
       "    </tr>\n",
       "    <tr>\n",
       "      <th>34</th>\n",
       "      <td>African_m.012qsp/m.012qsp_0001.jpg</td>\n",
       "      <td>m.012qsp_0001</td>\n",
       "      <td>m.012qsp</td>\n",
       "      <td>enrolled</td>\n",
       "      <td>African</td>\n",
       "      <td>25</td>\n",
       "      <td>m.012qsp</td>\n",
       "      <td>48</td>\n",
       "      <td>99</td>\n",
       "      <td>97</td>\n",
       "      <td>100</td>\n",
       "      <td>NaN</td>\n",
       "    </tr>\n",
       "    <tr>\n",
       "      <th>...</th>\n",
       "      <td>...</td>\n",
       "      <td>...</td>\n",
       "      <td>...</td>\n",
       "      <td>...</td>\n",
       "      <td>...</td>\n",
       "      <td>...</td>\n",
       "      <td>...</td>\n",
       "      <td>...</td>\n",
       "      <td>...</td>\n",
       "      <td>...</td>\n",
       "      <td>...</td>\n",
       "      <td>...</td>\n",
       "    </tr>\n",
       "    <tr>\n",
       "      <th>39340</th>\n",
       "      <td>Indian_m.0sgg_cr/m.0sgg_cr_0004.jpg</td>\n",
       "      <td>m.0sgg_cr_0004</td>\n",
       "      <td>m.0sgg_cr</td>\n",
       "      <td>enrolled</td>\n",
       "      <td>Indian</td>\n",
       "      <td>29</td>\n",
       "      <td>m.0sgg_cr</td>\n",
       "      <td>35</td>\n",
       "      <td>100</td>\n",
       "      <td>97</td>\n",
       "      <td>100</td>\n",
       "      <td>NaN</td>\n",
       "    </tr>\n",
       "    <tr>\n",
       "      <th>39345</th>\n",
       "      <td>Indian_m.0tj9/m.0tj9_0001.jpg</td>\n",
       "      <td>m.0tj9_0001</td>\n",
       "      <td>m.0tj9</td>\n",
       "      <td>enrolled</td>\n",
       "      <td>Indian</td>\n",
       "      <td>49</td>\n",
       "      <td>m.0tj9</td>\n",
       "      <td>75</td>\n",
       "      <td>100</td>\n",
       "      <td>96</td>\n",
       "      <td>100</td>\n",
       "      <td>NaN</td>\n",
       "    </tr>\n",
       "    <tr>\n",
       "      <th>39353</th>\n",
       "      <td>Indian_m.0vshsz9/m.0vshsz9_0001.jpg</td>\n",
       "      <td>m.0vshsz9_0001</td>\n",
       "      <td>m.0vshsz9</td>\n",
       "      <td>enrolled</td>\n",
       "      <td>Indian</td>\n",
       "      <td>34</td>\n",
       "      <td>m.0vshsz9</td>\n",
       "      <td>87</td>\n",
       "      <td>96</td>\n",
       "      <td>100</td>\n",
       "      <td>100</td>\n",
       "      <td>NaN</td>\n",
       "    </tr>\n",
       "    <tr>\n",
       "      <th>39354</th>\n",
       "      <td>Indian_m.0vshsz9/m.0vshsz9_0002.jpg</td>\n",
       "      <td>m.0vshsz9_0002</td>\n",
       "      <td>m.0vshsz9</td>\n",
       "      <td>enrolled</td>\n",
       "      <td>Indian</td>\n",
       "      <td>36</td>\n",
       "      <td>m.0vshsz9</td>\n",
       "      <td>81</td>\n",
       "      <td>96</td>\n",
       "      <td>100</td>\n",
       "      <td>100</td>\n",
       "      <td>NaN</td>\n",
       "    </tr>\n",
       "    <tr>\n",
       "      <th>39355</th>\n",
       "      <td>Indian_m.0vshsz9/m.0vshsz9_0003.jpg</td>\n",
       "      <td>m.0vshsz9_0003</td>\n",
       "      <td>m.0vshsz9</td>\n",
       "      <td>enrolled</td>\n",
       "      <td>Indian</td>\n",
       "      <td>25</td>\n",
       "      <td>m.0vshsz9</td>\n",
       "      <td>76</td>\n",
       "      <td>99</td>\n",
       "      <td>96</td>\n",
       "      <td>100</td>\n",
       "      <td>NaN</td>\n",
       "    </tr>\n",
       "  </tbody>\n",
       "</table>\n",
       "<p>10547 rows × 12 columns</p>\n",
       "</div>"
      ],
      "text/plain": [
       "                                files_list      image_name identity_name  \\\n",
       "25      African_m.012mh_/m.012mh__0004.jpg   m.012mh__0004      m.012mh_   \n",
       "28      African_m.012mk7/m.012mk7_0001.jpg   m.012mk7_0001      m.012mk7   \n",
       "31      African_m.012mmb/m.012mmb_0001.jpg   m.012mmb_0001      m.012mmb   \n",
       "32      African_m.012mmb/m.012mmb_0002.jpg   m.012mmb_0002      m.012mmb   \n",
       "34      African_m.012qsp/m.012qsp_0001.jpg   m.012qsp_0001      m.012qsp   \n",
       "...                                    ...             ...           ...   \n",
       "39340  Indian_m.0sgg_cr/m.0sgg_cr_0004.jpg  m.0sgg_cr_0004     m.0sgg_cr   \n",
       "39345        Indian_m.0tj9/m.0tj9_0001.jpg     m.0tj9_0001        m.0tj9   \n",
       "39353  Indian_m.0vshsz9/m.0vshsz9_0001.jpg  m.0vshsz9_0001     m.0vshsz9   \n",
       "39354  Indian_m.0vshsz9/m.0vshsz9_0002.jpg  m.0vshsz9_0002     m.0vshsz9   \n",
       "39355  Indian_m.0vshsz9/m.0vshsz9_0003.jpg  m.0vshsz9_0003     m.0vshsz9   \n",
       "\n",
       "       enrolled ethnicity  Age   Identity  UnifiedQualityScore.scalar  \\\n",
       "25     enrolled   African   24   m.012mh_                          51   \n",
       "28     enrolled   African   33   m.012mk7                          23   \n",
       "31     enrolled   African   31   m.012mmb                          44   \n",
       "32     enrolled   African   30   m.012mmb                          21   \n",
       "34     enrolled   African   25   m.012qsp                          48   \n",
       "...         ...       ...  ...        ...                         ...   \n",
       "39340  enrolled    Indian   29  m.0sgg_cr                          35   \n",
       "39345  enrolled    Indian   49     m.0tj9                          75   \n",
       "39353  enrolled    Indian   34  m.0vshsz9                          87   \n",
       "39354  enrolled    Indian   36  m.0vshsz9                          81   \n",
       "39355  enrolled    Indian   25  m.0vshsz9                          76   \n",
       "\n",
       "       HeadPoseYaw.scalar  HeadPosePitch.scalar  HeadPoseRoll.scalar  \\\n",
       "25                     97                    85                  100   \n",
       "28                    100                    99                  100   \n",
       "31                     93                    95                  100   \n",
       "32                    100                    98                  100   \n",
       "34                     99                    97                  100   \n",
       "...                   ...                   ...                  ...   \n",
       "39340                 100                    97                  100   \n",
       "39345                 100                    96                  100   \n",
       "39353                  96                   100                  100   \n",
       "39354                  96                   100                  100   \n",
       "39355                  99                    96                  100   \n",
       "\n",
       "       children_agegroup  \n",
       "25                   NaN  \n",
       "28                   NaN  \n",
       "31                   NaN  \n",
       "32                   NaN  \n",
       "34                   NaN  \n",
       "...                  ...  \n",
       "39340                NaN  \n",
       "39345                NaN  \n",
       "39353                NaN  \n",
       "39354                NaN  \n",
       "39355                NaN  \n",
       "\n",
       "[10547 rows x 12 columns]"
      ]
     },
     "execution_count": 22,
     "metadata": {},
     "output_type": "execute_result"
    }
   ],
   "source": [
    "nyeste_måske"
   ]
  },
  {
   "cell_type": "code",
   "execution_count": 23,
   "metadata": {},
   "outputs": [],
   "source": [
    "# final_filtered_children_df.to_csv('../../data/image_info_csvs/final_filtered_children_df_BIBEL.csv')\n",
    "nyeste_måske.to_csv('../../data/image_info_csvs/final_filtered_adults_df_BIBEL.csv')"
   ]
  },
  {
   "cell_type": "code",
   "execution_count": 11,
   "metadata": {},
   "outputs": [],
   "source": [
    "# final_filtered_adults_df.to_csv('../../data/image_info_csvs/final_filtered_adults_df_BIBEL.csv')"
   ]
  },
  {
   "cell_type": "markdown",
   "metadata": {},
   "source": [
    "## Canonical for adults"
   ]
  },
  {
   "cell_type": "code",
   "execution_count": 2,
   "metadata": {},
   "outputs": [],
   "source": [
    "adults_bibel = pd.read_csv('../../data/image_info_csvs/final_filtered_adults_df_BIBEL.csv')"
   ]
  },
  {
   "cell_type": "code",
   "execution_count": 5,
   "metadata": {},
   "outputs": [],
   "source": [
    "OFIQ_adults = pd.read_csv('../../data/OFIQ_results/table_adults_all_in_one.csv')"
   ]
  },
  {
   "cell_type": "code",
   "execution_count": 26,
   "metadata": {},
   "outputs": [
    {
     "data": {
      "text/plain": [
       "count    40605.000000\n",
       "mean        43.308016\n",
       "std         25.261497\n",
       "min         -1.000000\n",
       "25%         21.000000\n",
       "50%         41.000000\n",
       "75%         64.000000\n",
       "90%         80.000000\n",
       "95%         86.000000\n",
       "max         98.000000\n",
       "Name: UnifiedQualityScore.scalar, dtype: float64"
      ]
     },
     "execution_count": 26,
     "metadata": {},
     "output_type": "execute_result"
    }
   ],
   "source": [
    "OFIQ_adults[\"UnifiedQualityScore.scalar\"].describe(percentiles=[.25, .5, .75, .9, .95])"
   ]
  },
  {
   "cell_type": "code",
   "execution_count": 28,
   "metadata": {},
   "outputs": [],
   "source": [
    "high_OFIQ_adults = adults_bibel[adults_bibel['UnifiedQualityScore.scalar'] > adults_bibel['UnifiedQualityScore.scalar'].mean()]"
   ]
  },
  {
   "cell_type": "code",
   "execution_count": 29,
   "metadata": {},
   "outputs": [],
   "source": [
    "## ONLY UNCOMMENT TO SAVE\n",
    "high_OFIQ_adults.to_csv('../../data/image_info_csvs/final_filtered_ADULTS_canonical_df_BIBLE.csv')"
=======
   "execution_count": 26,
   "metadata": {},
   "outputs": [],
   "source": [
    "final_filtered_children_df.to_csv('../../data/image_info_csvs/final_filtered_children_df_BIBEL.csv')\n",
    "final_filtered_adults_df.to_csv('../../data/image_info_csvs/final_filtered_adults_df_BIBEL.csv')"
>>>>>>> origin/finetuning_dev
   ]
  },
  {
   "cell_type": "code",
   "execution_count": null,
   "metadata": {},
   "outputs": [],
   "source": []
  }
 ],
 "metadata": {
  "kernelspec": {
   "display_name": "best_master",
   "language": "python",
   "name": "python3"
  },
  "language_info": {
   "codemirror_mode": {
    "name": "ipython",
    "version": 3
   },
   "file_extension": ".py",
   "mimetype": "text/x-python",
   "name": "python",
   "nbconvert_exporter": "python",
   "pygments_lexer": "ipython3",
   "version": "3.10.14"
  }
 },
 "nbformat": 4,
 "nbformat_minor": 2
}
