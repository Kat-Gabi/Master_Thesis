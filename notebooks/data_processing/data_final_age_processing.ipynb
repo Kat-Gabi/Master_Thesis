{
 "cells": [
  {
   "cell_type": "markdown",
   "metadata": {},
   "source": [
    "## Resulting data frames to use for descriptive stats"
   ]
  },
  {
   "cell_type": "markdown",
   "metadata": {},
   "source": [
    "This notebook loads the original data frames and removes age std above 5 for adults and outliers for children"
   ]
  },
  {
   "cell_type": "code",
   "execution_count": 1,
   "metadata": {},
   "outputs": [],
   "source": [
    "import pandas as pd\n",
    "import seaborn as sns\n",
    "sns.set()\n",
    "import random\n",
    "random.seed(42)\n",
    "import numpy as np\n",
    "from collections import Counter\n",
    "\n"
   ]
  },
  {
   "cell_type": "code",
   "execution_count": 2,
   "metadata": {},
   "outputs": [],
   "source": [
    "# Dataframes with info, removes names not in magface results\n",
    "children_all = pd.read_csv('../../data/YLFW_full_info_excluding_adults.csv') \n",
    "adults_all = pd.read_csv('../../data/RFW_full_info_excluding_children.csv') "
   ]
  },
  {
   "cell_type": "markdown",
   "metadata": {},
   "source": [
    "### OFIQ"
   ]
  },
  {
   "cell_type": "markdown",
   "metadata": {},
   "source": [
    "#### Stratify på alder"
   ]
  },
  {
   "cell_type": "markdown",
   "metadata": {},
   "source": [
    "**Adults age std - before**"
   ]
  },
  {
   "cell_type": "code",
   "execution_count": 21,
   "metadata": {},
   "outputs": [
    {
     "data": {
      "text/plain": [
       "count    10961.000000\n",
       "mean         4.492621\n",
       "std          3.411003\n",
       "min          0.000000\n",
       "25%          2.121320\n",
       "50%          3.605551\n",
       "75%          5.737305\n",
       "90%          8.746428\n",
       "95%         11.313708\n",
       "max         26.870058\n",
       "Name: Age, dtype: float64"
      ]
     },
     "execution_count": 21,
     "metadata": {},
     "output_type": "execute_result"
    }
   ],
   "source": [
    "# ADULTS STD DEVIATIONS - BEFORE \n",
    "\n",
    "### All reference image names, enrolled and non-enrolled image names - adults ###\n",
    "a_mates = adults_all.groupby(\"identity_name\").agg({'identity_name': ['count']})\n",
    "enrolled_identity_names_a = a_mates[a_mates[('identity_name', 'count')] > 1].index\n",
    "\n",
    "\n",
    "\n",
    "adults_all[adults_all.identity_name.isin(enrolled_identity_names_a)].groupby(\"identity_name\").Age.std().describe(percentiles=[.25, .5, .75, .9, .95])"
   ]
  },
  {
   "cell_type": "markdown",
   "metadata": {},
   "source": [
    "**Remove adults data with age standard deviation above 5.** "
   ]
  },
  {
   "cell_type": "code",
   "execution_count": 51,
   "metadata": {},
   "outputs": [],
   "source": [
    "adults_age_std = adults_all[adults_all.identity_name.isin(enrolled_identity_names_a)].groupby(\"identity_name\").Age.std().sort_values(ascending=False)\n",
    "adults_below_5std = adults_age_std[adults_age_std <= 5].index\n",
    "final_filtered_adults_df = adults_all[adults_all.identity_name.isin(adults_below_5std)]\n"
   ]
  },
  {
   "cell_type": "code",
   "execution_count": 55,
   "metadata": {},
   "outputs": [
    {
     "data": {
      "text/plain": [
       "count    7468.000000\n",
       "mean        2.702045\n",
       "std         1.280543\n",
       "min         0.000000\n",
       "25%         1.732051\n",
       "50%         2.645751\n",
       "75%         3.685557\n",
       "90%         4.505552\n",
       "95%         4.748307\n",
       "max         5.000000\n",
       "Name: Age, dtype: float64"
      ]
     },
     "execution_count": 55,
     "metadata": {},
     "output_type": "execute_result"
    }
   ],
   "source": [
    "# check\n",
    "final_filtered_adults_df.groupby(\"identity_name\").Age.std().describe(percentiles=[.25, .5, .75, .9, .95])"
   ]
  },
  {
   "cell_type": "markdown",
   "metadata": {},
   "source": [
    "**Children age deviation - before**"
   ]
  },
  {
   "cell_type": "code",
   "execution_count": 53,
   "metadata": {},
   "outputs": [
    {
     "data": {
      "text/plain": [
       "count    2482.000000\n",
       "mean        2.163802\n",
       "std         2.274560\n",
       "min         0.000000\n",
       "25%         0.707107\n",
       "50%         1.414214\n",
       "75%         2.828427\n",
       "90%         4.932883\n",
       "95%         6.501401\n",
       "99%        10.606602\n",
       "max        21.213203\n",
       "Name: Age, dtype: float64"
      ]
     },
     "execution_count": 53,
     "metadata": {},
     "output_type": "execute_result"
    }
   ],
   "source": [
    "\n",
    "### All reference image names, enrolled and non-enrolled image names - children ###\n",
    "c_mates = children_all.groupby(\"identity_name\").agg({'identity_name': ['count']})\n",
    "enrolled_identity_names_c = c_mates[c_mates[('identity_name', 'count')] > 1].index\n",
    "\n",
    "\n",
    "\n",
    "children_all[children_all.identity_name.isin(enrolled_identity_names_c)].groupby(\"identity_name\").Age.std().describe(percentiles=[.25, .5, .75, .9, .95, .99])"
   ]
  },
  {
   "cell_type": "markdown",
   "metadata": {},
   "source": [
    "**Remove children with age deviation above 10**"
   ]
  },
  {
   "cell_type": "code",
   "execution_count": 54,
   "metadata": {},
   "outputs": [],
   "source": [
    "children_age_std = children_all[children_all.identity_name.isin(enrolled_identity_names_c)].groupby(\"identity_name\").Age.std().sort_values(ascending=False)\n",
    "children_below_10std = children_age_std[children_age_std <= 10].index\n",
    "final_filtered_children_df = children_all[children_all.identity_name.isin(children_below_10std)]\n"
   ]
  },
  {
   "cell_type": "code",
   "execution_count": 56,
   "metadata": {},
   "outputs": [
    {
     "data": {
      "text/plain": [
       "count    2451.000000\n",
       "mean        2.018940\n",
       "std         1.852467\n",
       "min         0.000000\n",
       "25%         0.707107\n",
       "50%         1.414214\n",
       "75%         2.652036\n",
       "90%         4.582576\n",
       "95%         5.852350\n",
       "max         9.899495\n",
       "Name: Age, dtype: float64"
      ]
     },
     "execution_count": 56,
     "metadata": {},
     "output_type": "execute_result"
    }
   ],
   "source": [
    "#check\n",
    "final_filtered_children_df.groupby(\"identity_name\").Age.std().describe(percentiles=[.25, .5, .75, .9, .95])"
   ]
  },
  {
   "cell_type": "code",
   "execution_count": null,
   "metadata": {},
   "outputs": [],
   "source": []
  }
 ],
 "metadata": {
  "kernelspec": {
   "display_name": "best_master",
   "language": "python",
   "name": "python3"
  },
  "language_info": {
   "codemirror_mode": {
    "name": "ipython",
    "version": 3
   },
   "file_extension": ".py",
   "mimetype": "text/x-python",
   "name": "python",
   "nbconvert_exporter": "python",
   "pygments_lexer": "ipython3",
   "version": "3.11.8"
  }
 },
 "nbformat": 4,
 "nbformat_minor": 2
}
