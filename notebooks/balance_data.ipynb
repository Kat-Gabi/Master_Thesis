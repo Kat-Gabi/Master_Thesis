{
 "cells": [
  {
   "cell_type": "markdown",
   "metadata": {},
   "source": [
    "## 1. Balance Age groups in YLFW (undersampling)"
   ]
  },
  {
   "cell_type": "code",
   "execution_count": 1,
   "metadata": {},
   "outputs": [],
   "source": [
    "import pandas as pd\n",
    "import seaborn as sns\n",
    "sns.set()\n",
    "import random\n",
    "random.seed(42)\n"
   ]
  },
  {
   "cell_type": "markdown",
   "metadata": {},
   "source": [
    "### 1.1 Young Group"
   ]
  },
  {
   "cell_type": "code",
   "execution_count": 2,
   "metadata": {},
   "outputs": [],
   "source": [
    "y_df = pd.read_csv('../data/raw_full/YLFW/raw_ylfw_df.csv') "
   ]
  },
  {
   "cell_type": "code",
   "execution_count": 52,
   "metadata": {},
   "outputs": [
    {
     "data": {
      "text/html": [
       "<div>\n",
       "<style scoped>\n",
       "    .dataframe tbody tr th:only-of-type {\n",
       "        vertical-align: middle;\n",
       "    }\n",
       "\n",
       "    .dataframe tbody tr th {\n",
       "        vertical-align: top;\n",
       "    }\n",
       "\n",
       "    .dataframe thead tr th {\n",
       "        text-align: left;\n",
       "    }\n",
       "</style>\n",
       "<table border=\"1\" class=\"dataframe\">\n",
       "  <thead>\n",
       "    <tr>\n",
       "      <th></th>\n",
       "      <th>img_name</th>\n",
       "    </tr>\n",
       "    <tr>\n",
       "      <th></th>\n",
       "      <th>count</th>\n",
       "    </tr>\n",
       "  </thead>\n",
       "  <tbody>\n",
       "    <tr>\n",
       "      <th>count</th>\n",
       "      <td>955.000000</td>\n",
       "    </tr>\n",
       "    <tr>\n",
       "      <th>mean</th>\n",
       "      <td>1.732984</td>\n",
       "    </tr>\n",
       "    <tr>\n",
       "      <th>std</th>\n",
       "      <td>1.136820</td>\n",
       "    </tr>\n",
       "    <tr>\n",
       "      <th>min</th>\n",
       "      <td>1.000000</td>\n",
       "    </tr>\n",
       "    <tr>\n",
       "      <th>25%</th>\n",
       "      <td>1.000000</td>\n",
       "    </tr>\n",
       "    <tr>\n",
       "      <th>50%</th>\n",
       "      <td>1.000000</td>\n",
       "    </tr>\n",
       "    <tr>\n",
       "      <th>75%</th>\n",
       "      <td>2.000000</td>\n",
       "    </tr>\n",
       "    <tr>\n",
       "      <th>max</th>\n",
       "      <td>11.000000</td>\n",
       "    </tr>\n",
       "  </tbody>\n",
       "</table>\n",
       "</div>"
      ],
      "text/plain": [
       "         img_name\n",
       "            count\n",
       "count  955.000000\n",
       "mean     1.732984\n",
       "std      1.136820\n",
       "min      1.000000\n",
       "25%      1.000000\n",
       "50%      1.000000\n",
       "75%      2.000000\n",
       "max     11.000000"
      ]
     },
     "execution_count": 52,
     "metadata": {},
     "output_type": "execute_result"
    }
   ],
   "source": [
    "y_df[y_df.children_agegroup == \"7-9\"].groupby(\"im_id\").agg({'img_name': ['count']}).describe()"
   ]
  },
  {
   "cell_type": "code",
   "execution_count": 3,
   "metadata": {},
   "outputs": [
    {
     "data": {
      "text/plain": [
       "9229"
      ]
     },
     "execution_count": 3,
     "metadata": {},
     "output_type": "execute_result"
    }
   ],
   "source": [
    "len(y_df)"
   ]
  },
  {
   "cell_type": "code",
   "execution_count": 4,
   "metadata": {},
   "outputs": [
    {
     "data": {
      "text/plain": [
       "count    9229.000000\n",
       "mean        8.412829\n",
       "std         7.504623\n",
       "min         0.000000\n",
       "25%         3.000000\n",
       "50%         6.000000\n",
       "75%        11.000000\n",
       "max        42.000000\n",
       "Name: Age, dtype: float64"
      ]
     },
     "execution_count": 4,
     "metadata": {},
     "output_type": "execute_result"
    }
   ],
   "source": [
    "y_df.Age.describe()"
   ]
  },
  {
   "cell_type": "code",
   "execution_count": 5,
   "metadata": {},
   "outputs": [
    {
     "data": {
      "text/plain": [
       "children_agegroup\n",
       "0-3      2665\n",
       "4-6      2068\n",
       "7-9      1655\n",
       "10-12     923\n",
       "13-15     459\n",
       "16-18     383\n",
       "Name: count, dtype: int64"
      ]
     },
     "execution_count": 5,
     "metadata": {},
     "output_type": "execute_result"
    }
   ],
   "source": [
    "y_df[\"children_agegroup\"].value_counts() "
   ]
  },
  {
   "cell_type": "markdown",
   "metadata": {},
   "source": [
    "### 1.2 Adult Group"
   ]
  },
  {
   "cell_type": "code",
   "execution_count": 6,
   "metadata": {},
   "outputs": [],
   "source": [
    "a_df = pd.read_csv('../data/raw_full/RLFW/raw_rfw_df.csv') "
   ]
  },
  {
   "cell_type": "code",
   "execution_count": 7,
   "metadata": {},
   "outputs": [
    {
     "data": {
      "text/plain": [
       "40411"
      ]
     },
     "execution_count": 7,
     "metadata": {},
     "output_type": "execute_result"
    }
   ],
   "source": [
    "len(a_df)"
   ]
  },
  {
   "cell_type": "code",
   "execution_count": 8,
   "metadata": {},
   "outputs": [
    {
     "data": {
      "text/plain": [
       "Age\n",
       "26    1638\n",
       "27    1622\n",
       "25    1609\n",
       "28    1505\n",
       "24    1476\n",
       "      ... \n",
       "2        2\n",
       "3        2\n",
       "85       2\n",
       "88       1\n",
       "90       1\n",
       "Name: count, Length: 87, dtype: int64"
      ]
     },
     "execution_count": 8,
     "metadata": {},
     "output_type": "execute_result"
    }
   ],
   "source": [
    "a_df.Age.value_counts() "
   ]
  },
  {
   "cell_type": "code",
   "execution_count": 9,
   "metadata": {},
   "outputs": [
    {
     "data": {
      "text/plain": [
       "children_agegroup\n",
       "16-18    452\n",
       "13-15     92\n",
       "10-12     82\n",
       "7-9       44\n",
       "4-6       24\n",
       "0-3        4\n",
       "Name: count, dtype: int64"
      ]
     },
     "execution_count": 9,
     "metadata": {},
     "output_type": "execute_result"
    }
   ],
   "source": [
    "# Add childrens age group to adult data\n",
    "# Ensure 'Age' is of type integer\n",
    "a_df['Age'] = a_df['Age'].astype(int)\n",
    "\n",
    "# Define the age groups and corresponding labels\n",
    "age_bins = [0, 4, 7, 10, 13, 16, 19]  # adding one more bin for 16-18\n",
    "age_labels = ['0-3', '4-6', '7-9', '10-12', '13-15', '16-18']\n",
    "\n",
    "# Update the DataFrame with age groupings\n",
    "a_df['children_agegroup'] = pd.cut(a_df['Age'], bins=age_bins, labels=age_labels, right=False)\n",
    "a_df[\"children_agegroup\"].value_counts() \n",
    "\n"
   ]
  },
  {
   "cell_type": "markdown",
   "metadata": {},
   "source": [
    "### 3. Transfer childrens age groups in a_df to y_df"
   ]
  },
  {
   "cell_type": "code",
   "execution_count": 10,
   "metadata": {},
   "outputs": [],
   "source": [
    "a_data_children_agegroup = a_df[a_df.children_agegroup.notnull()]"
   ]
  },
  {
   "cell_type": "code",
   "execution_count": 63,
   "metadata": {},
   "outputs": [
    {
     "data": {
      "text/plain": [
       "(img_name, count)\n",
       "1                    263\n",
       "2                     81\n",
       "3                     49\n",
       "4                     26\n",
       "5                      3\n",
       "7                      1\n",
       "Name: count, dtype: int64"
      ]
     },
     "execution_count": 63,
     "metadata": {},
     "output_type": "execute_result"
    }
   ],
   "source": [
    "a_data_children_agegroup.groupby(\"im_id\").agg({'img_name': ['count']}).value_counts()"
   ]
  },
  {
   "cell_type": "code",
   "execution_count": 12,
   "metadata": {},
   "outputs": [
    {
     "data": {
      "text/html": [
       "<div>\n",
       "<style scoped>\n",
       "    .dataframe tbody tr th:only-of-type {\n",
       "        vertical-align: middle;\n",
       "    }\n",
       "\n",
       "    .dataframe tbody tr th {\n",
       "        vertical-align: top;\n",
       "    }\n",
       "\n",
       "    .dataframe thead th {\n",
       "        text-align: right;\n",
       "    }\n",
       "</style>\n",
       "<table border=\"1\" class=\"dataframe\">\n",
       "  <thead>\n",
       "    <tr style=\"text-align: right;\">\n",
       "      <th></th>\n",
       "      <th>img_name</th>\n",
       "      <th>Age</th>\n",
       "      <th>ethnicity</th>\n",
       "      <th>id_class</th>\n",
       "      <th>children_agegroup</th>\n",
       "      <th>im_id</th>\n",
       "      <th>img_org_name</th>\n",
       "      <th>face_id</th>\n",
       "    </tr>\n",
       "  </thead>\n",
       "  <tbody>\n",
       "    <tr>\n",
       "      <th>9917</th>\n",
       "      <td>m.02qpxkm</td>\n",
       "      <td>18</td>\n",
       "      <td>Asian</td>\n",
       "      <td>02qpxkm</td>\n",
       "      <td>16-18</td>\n",
       "      <td>02qpxkm</td>\n",
       "      <td>m.02qpxkm_0004</td>\n",
       "      <td>4.0</td>\n",
       "    </tr>\n",
       "    <tr>\n",
       "      <th>9918</th>\n",
       "      <td>m.01m49_z</td>\n",
       "      <td>14</td>\n",
       "      <td>Asian</td>\n",
       "      <td>01m49_z</td>\n",
       "      <td>13-15</td>\n",
       "      <td>01m49_z</td>\n",
       "      <td>m.01m49_z_0001</td>\n",
       "      <td>1.0</td>\n",
       "    </tr>\n",
       "    <tr>\n",
       "      <th>9919</th>\n",
       "      <td>m.0sgqn7h</td>\n",
       "      <td>9</td>\n",
       "      <td>Asian</td>\n",
       "      <td>0sgqn7h</td>\n",
       "      <td>7-9</td>\n",
       "      <td>0sgqn7h</td>\n",
       "      <td>m.0sgqn7h_0003</td>\n",
       "      <td>3.0</td>\n",
       "    </tr>\n",
       "    <tr>\n",
       "      <th>9920</th>\n",
       "      <td>m.0sgqn7h</td>\n",
       "      <td>17</td>\n",
       "      <td>Asian</td>\n",
       "      <td>0sgqn7h</td>\n",
       "      <td>16-18</td>\n",
       "      <td>0sgqn7h</td>\n",
       "      <td>m.0sgqn7h_0002</td>\n",
       "      <td>2.0</td>\n",
       "    </tr>\n",
       "    <tr>\n",
       "      <th>9921</th>\n",
       "      <td>m.0knwxrc</td>\n",
       "      <td>16</td>\n",
       "      <td>Asian</td>\n",
       "      <td>0knwxrc</td>\n",
       "      <td>16-18</td>\n",
       "      <td>0knwxrc</td>\n",
       "      <td>m.0knwxrc_0001</td>\n",
       "      <td>1.0</td>\n",
       "    </tr>\n",
       "    <tr>\n",
       "      <th>9922</th>\n",
       "      <td>m.0d5060</td>\n",
       "      <td>18</td>\n",
       "      <td>Asian</td>\n",
       "      <td>0d5060</td>\n",
       "      <td>16-18</td>\n",
       "      <td>0d5060</td>\n",
       "      <td>m.0d5060_0004</td>\n",
       "      <td>4.0</td>\n",
       "    </tr>\n",
       "    <tr>\n",
       "      <th>9923</th>\n",
       "      <td>m.0d5060</td>\n",
       "      <td>18</td>\n",
       "      <td>Asian</td>\n",
       "      <td>0d5060</td>\n",
       "      <td>16-18</td>\n",
       "      <td>0d5060</td>\n",
       "      <td>m.0d5060_0002</td>\n",
       "      <td>2.0</td>\n",
       "    </tr>\n",
       "    <tr>\n",
       "      <th>9924</th>\n",
       "      <td>m.05mz42q</td>\n",
       "      <td>18</td>\n",
       "      <td>Asian</td>\n",
       "      <td>05mz42q</td>\n",
       "      <td>16-18</td>\n",
       "      <td>05mz42q</td>\n",
       "      <td>m.05mz42q_0002</td>\n",
       "      <td>2.0</td>\n",
       "    </tr>\n",
       "    <tr>\n",
       "      <th>9925</th>\n",
       "      <td>m.0rpfv5x</td>\n",
       "      <td>17</td>\n",
       "      <td>Asian</td>\n",
       "      <td>0rpfv5x</td>\n",
       "      <td>16-18</td>\n",
       "      <td>0rpfv5x</td>\n",
       "      <td>m.0rpfv5x_0004</td>\n",
       "      <td>4.0</td>\n",
       "    </tr>\n",
       "    <tr>\n",
       "      <th>9926</th>\n",
       "      <td>m.048t9m</td>\n",
       "      <td>18</td>\n",
       "      <td>Asian</td>\n",
       "      <td>048t9m</td>\n",
       "      <td>16-18</td>\n",
       "      <td>048t9m</td>\n",
       "      <td>m.048t9m_0002</td>\n",
       "      <td>2.0</td>\n",
       "    </tr>\n",
       "  </tbody>\n",
       "</table>\n",
       "</div>"
      ],
      "text/plain": [
       "       img_name  Age ethnicity id_class children_agegroup    im_id  \\\n",
       "9917  m.02qpxkm   18     Asian  02qpxkm             16-18  02qpxkm   \n",
       "9918  m.01m49_z   14     Asian  01m49_z             13-15  01m49_z   \n",
       "9919  m.0sgqn7h    9     Asian  0sgqn7h               7-9  0sgqn7h   \n",
       "9920  m.0sgqn7h   17     Asian  0sgqn7h             16-18  0sgqn7h   \n",
       "9921  m.0knwxrc   16     Asian  0knwxrc             16-18  0knwxrc   \n",
       "9922   m.0d5060   18     Asian   0d5060             16-18   0d5060   \n",
       "9923   m.0d5060   18     Asian   0d5060             16-18   0d5060   \n",
       "9924  m.05mz42q   18     Asian  05mz42q             16-18  05mz42q   \n",
       "9925  m.0rpfv5x   17     Asian  0rpfv5x             16-18  0rpfv5x   \n",
       "9926   m.048t9m   18     Asian   048t9m             16-18   048t9m   \n",
       "\n",
       "        img_org_name  face_id  \n",
       "9917  m.02qpxkm_0004      4.0  \n",
       "9918  m.01m49_z_0001      1.0  \n",
       "9919  m.0sgqn7h_0003      3.0  \n",
       "9920  m.0sgqn7h_0002      2.0  \n",
       "9921  m.0knwxrc_0001      1.0  \n",
       "9922   m.0d5060_0004      4.0  \n",
       "9923   m.0d5060_0002      2.0  \n",
       "9924  m.05mz42q_0002      2.0  \n",
       "9925  m.0rpfv5x_0004      4.0  \n",
       "9926   m.048t9m_0002      2.0  "
      ]
     },
     "execution_count": 12,
     "metadata": {},
     "output_type": "execute_result"
    }
   ],
   "source": [
    "# Merge to ylfw\n",
    "ylfw_witha = pd.concat([y_df,a_data_children_agegroup],ignore_index=True)\n",
    "ylfw_witha[-10:]"
   ]
  },
  {
   "cell_type": "markdown",
   "metadata": {},
   "source": [
    "### 4. Undersample based on the minority class in the children's age group in YLFW\n",
    "- Keep racial distribution as in minority class\n",
    "- Delete based on IDs "
   ]
  },
  {
   "cell_type": "markdown",
   "metadata": {},
   "source": [
    "Distribution of age groups - based on IDS (obs be aware that each id have images in different age groups). Therefore we sample based on number of images per age group. \n"
   ]
  },
  {
   "cell_type": "code",
   "execution_count": 13,
   "metadata": {},
   "outputs": [
    {
     "data": {
      "text/html": [
       "<div>\n",
       "<style scoped>\n",
       "    .dataframe tbody tr th:only-of-type {\n",
       "        vertical-align: middle;\n",
       "    }\n",
       "\n",
       "    .dataframe tbody tr th {\n",
       "        vertical-align: top;\n",
       "    }\n",
       "\n",
       "    .dataframe thead tr th {\n",
       "        text-align: left;\n",
       "    }\n",
       "\n",
       "    .dataframe thead tr:last-of-type th {\n",
       "        text-align: right;\n",
       "    }\n",
       "</style>\n",
       "<table border=\"1\" class=\"dataframe\">\n",
       "  <thead>\n",
       "    <tr>\n",
       "      <th></th>\n",
       "      <th colspan=\"4\" halign=\"left\">Age</th>\n",
       "    </tr>\n",
       "    <tr>\n",
       "      <th></th>\n",
       "      <th>min</th>\n",
       "      <th>max</th>\n",
       "      <th>std</th>\n",
       "      <th>count</th>\n",
       "    </tr>\n",
       "    <tr>\n",
       "      <th>im_id</th>\n",
       "      <th></th>\n",
       "      <th></th>\n",
       "      <th></th>\n",
       "      <th></th>\n",
       "    </tr>\n",
       "  </thead>\n",
       "  <tbody>\n",
       "    <tr>\n",
       "      <th>Indian_87</th>\n",
       "      <td>0</td>\n",
       "      <td>30</td>\n",
       "      <td>21.213203</td>\n",
       "      <td>2</td>\n",
       "    </tr>\n",
       "    <tr>\n",
       "      <th>Asian_620</th>\n",
       "      <td>2</td>\n",
       "      <td>29</td>\n",
       "      <td>19.091883</td>\n",
       "      <td>2</td>\n",
       "    </tr>\n",
       "    <tr>\n",
       "      <th>Asian_570</th>\n",
       "      <td>2</td>\n",
       "      <td>35</td>\n",
       "      <td>18.502252</td>\n",
       "      <td>3</td>\n",
       "    </tr>\n",
       "    <tr>\n",
       "      <th>Asian_96</th>\n",
       "      <td>0</td>\n",
       "      <td>26</td>\n",
       "      <td>18.384776</td>\n",
       "      <td>2</td>\n",
       "    </tr>\n",
       "    <tr>\n",
       "      <th>African_44</th>\n",
       "      <td>6</td>\n",
       "      <td>32</td>\n",
       "      <td>18.384776</td>\n",
       "      <td>2</td>\n",
       "    </tr>\n",
       "  </tbody>\n",
       "</table>\n",
       "</div>"
      ],
      "text/plain": [
       "           Age                     \n",
       "           min max        std count\n",
       "im_id                              \n",
       "Indian_87    0  30  21.213203     2\n",
       "Asian_620    2  29  19.091883     2\n",
       "Asian_570    2  35  18.502252     3\n",
       "Asian_96     0  26  18.384776     2\n",
       "African_44   6  32  18.384776     2"
      ]
     },
     "execution_count": 13,
     "metadata": {},
     "output_type": "execute_result"
    }
   ],
   "source": [
    "# Standard deviation of age groups per identity\n",
    "ylfw_witha.groupby(\"im_id\").agg({'Age': ['min', 'max','std', 'count']}).sort_values(by=('Age', 'std'), ascending=False).head(5)"
   ]
  },
  {
   "cell_type": "code",
   "execution_count": 14,
   "metadata": {},
   "outputs": [
    {
     "data": {
      "text/plain": [
       "children_agegroup\n",
       "4-6      1169\n",
       "0-3      1123\n",
       "7-9       987\n",
       "10-12     670\n",
       "16-18     650\n",
       "13-15     428\n",
       "Name: im_id, dtype: int64"
      ]
     },
     "execution_count": 14,
     "metadata": {},
     "output_type": "execute_result"
    }
   ],
   "source": [
    "# Distribution of IDs per age group\n",
    "ylfw_witha.groupby('children_agegroup').im_id.nunique().sort_values(ascending=False)"
   ]
  },
  {
   "cell_type": "code",
   "execution_count": 15,
   "metadata": {},
   "outputs": [
    {
     "data": {
      "text/plain": [
       "children_agegroup\n",
       "0-3      2669\n",
       "4-6      2092\n",
       "7-9      1699\n",
       "10-12    1005\n",
       "16-18     835\n",
       "13-15     551\n",
       "Name: count, dtype: int64"
      ]
     },
     "execution_count": 15,
     "metadata": {},
     "output_type": "execute_result"
    }
   ],
   "source": [
    "# Distribution of age groups - based on number of images per age group\n",
    "ylfw_witha.children_agegroup.value_counts().sort_values(ascending=False)"
   ]
  },
  {
   "cell_type": "code",
   "execution_count": 16,
   "metadata": {},
   "outputs": [
    {
     "name": "stdout",
     "output_type": "stream",
     "text": [
      "13-15\n"
     ]
    }
   ],
   "source": [
    "# Take minority age group BASED ON N_IMAGES\n",
    "min_agegroup = ylfw_witha.groupby('children_agegroup').img_name.count().sort_values(ascending=False).idxmin()\n",
    "print(min_agegroup)"
   ]
  },
  {
   "cell_type": "code",
   "execution_count": 17,
   "metadata": {},
   "outputs": [
    {
     "data": {
      "text/plain": [
       "ethnicity\n",
       "African      164\n",
       "Indian       158\n",
       "Caucasian    117\n",
       "Asian        112\n",
       "Name: img_name, dtype: int64"
      ]
     },
     "execution_count": 17,
     "metadata": {},
     "output_type": "execute_result"
    }
   ],
   "source": [
    "# Get racial distribution of number of images in minority age group\n",
    "minority_agedf = ylfw_witha[ylfw_witha.children_agegroup == min_agegroup]\n",
    "minority_agedf.groupby('ethnicity').img_name.count().sort_values(ascending=False)"
   ]
  },
  {
   "cell_type": "code",
   "execution_count": 18,
   "metadata": {},
   "outputs": [
    {
     "data": {
      "text/html": [
       "<div>\n",
       "<style scoped>\n",
       "    .dataframe tbody tr th:only-of-type {\n",
       "        vertical-align: middle;\n",
       "    }\n",
       "\n",
       "    .dataframe tbody tr th {\n",
       "        vertical-align: top;\n",
       "    }\n",
       "\n",
       "    .dataframe thead th {\n",
       "        text-align: right;\n",
       "    }\n",
       "</style>\n",
       "<table border=\"1\" class=\"dataframe\">\n",
       "  <thead>\n",
       "    <tr style=\"text-align: right;\">\n",
       "      <th></th>\n",
       "      <th>img_name</th>\n",
       "      <th>Age</th>\n",
       "      <th>ethnicity</th>\n",
       "      <th>id_class</th>\n",
       "      <th>children_agegroup</th>\n",
       "      <th>im_id</th>\n",
       "      <th>img_org_name</th>\n",
       "      <th>face_id</th>\n",
       "    </tr>\n",
       "  </thead>\n",
       "  <tbody>\n",
       "    <tr>\n",
       "      <th>22</th>\n",
       "      <td>African_634_22</td>\n",
       "      <td>15</td>\n",
       "      <td>African</td>\n",
       "      <td>634</td>\n",
       "      <td>13-15</td>\n",
       "      <td>African_634</td>\n",
       "      <td>NaN</td>\n",
       "      <td>NaN</td>\n",
       "    </tr>\n",
       "    <tr>\n",
       "      <th>60</th>\n",
       "      <td>Caucasian_346_12</td>\n",
       "      <td>14</td>\n",
       "      <td>Caucasian</td>\n",
       "      <td>346</td>\n",
       "      <td>13-15</td>\n",
       "      <td>Caucasian_346</td>\n",
       "      <td>NaN</td>\n",
       "      <td>NaN</td>\n",
       "    </tr>\n",
       "    <tr>\n",
       "      <th>62</th>\n",
       "      <td>African_699_1</td>\n",
       "      <td>13</td>\n",
       "      <td>African</td>\n",
       "      <td>699</td>\n",
       "      <td>13-15</td>\n",
       "      <td>African_699</td>\n",
       "      <td>NaN</td>\n",
       "      <td>NaN</td>\n",
       "    </tr>\n",
       "    <tr>\n",
       "      <th>164</th>\n",
       "      <td>African_412_47</td>\n",
       "      <td>13</td>\n",
       "      <td>African</td>\n",
       "      <td>412</td>\n",
       "      <td>13-15</td>\n",
       "      <td>African_412</td>\n",
       "      <td>NaN</td>\n",
       "      <td>NaN</td>\n",
       "    </tr>\n",
       "    <tr>\n",
       "      <th>168</th>\n",
       "      <td>Asian_489_46</td>\n",
       "      <td>13</td>\n",
       "      <td>Asian</td>\n",
       "      <td>489</td>\n",
       "      <td>13-15</td>\n",
       "      <td>Asian_489</td>\n",
       "      <td>NaN</td>\n",
       "      <td>NaN</td>\n",
       "    </tr>\n",
       "    <tr>\n",
       "      <th>...</th>\n",
       "      <td>...</td>\n",
       "      <td>...</td>\n",
       "      <td>...</td>\n",
       "      <td>...</td>\n",
       "      <td>...</td>\n",
       "      <td>...</td>\n",
       "      <td>...</td>\n",
       "      <td>...</td>\n",
       "    </tr>\n",
       "    <tr>\n",
       "      <th>9898</th>\n",
       "      <td>m.05lq0j</td>\n",
       "      <td>14</td>\n",
       "      <td>Asian</td>\n",
       "      <td>05lq0j</td>\n",
       "      <td>13-15</td>\n",
       "      <td>05lq0j</td>\n",
       "      <td>m.05lq0j_0003</td>\n",
       "      <td>3.0</td>\n",
       "    </tr>\n",
       "    <tr>\n",
       "      <th>9907</th>\n",
       "      <td>m.05fwlf</td>\n",
       "      <td>13</td>\n",
       "      <td>Asian</td>\n",
       "      <td>05fwlf</td>\n",
       "      <td>13-15</td>\n",
       "      <td>05fwlf</td>\n",
       "      <td>m.05fwlf_0002</td>\n",
       "      <td>2.0</td>\n",
       "    </tr>\n",
       "    <tr>\n",
       "      <th>9914</th>\n",
       "      <td>m.0bmd0_6</td>\n",
       "      <td>15</td>\n",
       "      <td>Asian</td>\n",
       "      <td>0bmd0_6</td>\n",
       "      <td>13-15</td>\n",
       "      <td>0bmd0_6</td>\n",
       "      <td>m.0bmd0_6_0002</td>\n",
       "      <td>2.0</td>\n",
       "    </tr>\n",
       "    <tr>\n",
       "      <th>9916</th>\n",
       "      <td>m.0bmd0_6</td>\n",
       "      <td>13</td>\n",
       "      <td>Asian</td>\n",
       "      <td>0bmd0_6</td>\n",
       "      <td>13-15</td>\n",
       "      <td>0bmd0_6</td>\n",
       "      <td>m.0bmd0_6_0001</td>\n",
       "      <td>1.0</td>\n",
       "    </tr>\n",
       "    <tr>\n",
       "      <th>9918</th>\n",
       "      <td>m.01m49_z</td>\n",
       "      <td>14</td>\n",
       "      <td>Asian</td>\n",
       "      <td>01m49_z</td>\n",
       "      <td>13-15</td>\n",
       "      <td>01m49_z</td>\n",
       "      <td>m.01m49_z_0001</td>\n",
       "      <td>1.0</td>\n",
       "    </tr>\n",
       "  </tbody>\n",
       "</table>\n",
       "<p>551 rows × 8 columns</p>\n",
       "</div>"
      ],
      "text/plain": [
       "              img_name  Age  ethnicity id_class children_agegroup  \\\n",
       "22      African_634_22   15    African      634             13-15   \n",
       "60    Caucasian_346_12   14  Caucasian      346             13-15   \n",
       "62       African_699_1   13    African      699             13-15   \n",
       "164     African_412_47   13    African      412             13-15   \n",
       "168       Asian_489_46   13      Asian      489             13-15   \n",
       "...                ...  ...        ...      ...               ...   \n",
       "9898          m.05lq0j   14      Asian   05lq0j             13-15   \n",
       "9907          m.05fwlf   13      Asian   05fwlf             13-15   \n",
       "9914         m.0bmd0_6   15      Asian  0bmd0_6             13-15   \n",
       "9916         m.0bmd0_6   13      Asian  0bmd0_6             13-15   \n",
       "9918         m.01m49_z   14      Asian  01m49_z             13-15   \n",
       "\n",
       "              im_id    img_org_name  face_id  \n",
       "22      African_634             NaN      NaN  \n",
       "60    Caucasian_346             NaN      NaN  \n",
       "62      African_699             NaN      NaN  \n",
       "164     African_412             NaN      NaN  \n",
       "168       Asian_489             NaN      NaN  \n",
       "...             ...             ...      ...  \n",
       "9898         05lq0j   m.05lq0j_0003      3.0  \n",
       "9907         05fwlf   m.05fwlf_0002      2.0  \n",
       "9914        0bmd0_6  m.0bmd0_6_0002      2.0  \n",
       "9916        0bmd0_6  m.0bmd0_6_0001      1.0  \n",
       "9918        01m49_z  m.01m49_z_0001      1.0  \n",
       "\n",
       "[551 rows x 8 columns]"
      ]
     },
     "execution_count": 18,
     "metadata": {},
     "output_type": "execute_result"
    }
   ],
   "source": [
    "minority_agedf"
   ]
  },
  {
   "cell_type": "markdown",
   "metadata": {},
   "source": [
    "I.e. Remove samples in the other age groups such that they have approximately the same amount of images and same racial distribution. This is done by sampling the same amount of images within each ethnicity group. "
   ]
  },
  {
   "cell_type": "code",
   "execution_count": 19,
   "metadata": {},
   "outputs": [
    {
     "name": "stdout",
     "output_type": "stream",
     "text": [
      "min age group:  13-15 \n",
      "number of images:  551 \n",
      "\n",
      "racial distribution: ethnicity\n",
      "African      164\n",
      "Indian       158\n",
      "Caucasian    117\n",
      "Asian        112\n",
      "Name: img_name, dtype: int64\n"
     ]
    }
   ],
   "source": [
    "print(\"min age group: \", min_agegroup, \"\\nnumber of images: \", len(minority_agedf), \n",
    "      \"\\n\\nracial distribution:\", minority_agedf.groupby('ethnicity').img_name.count().sort_values(ascending=False))"
   ]
  },
  {
   "cell_type": "markdown",
   "metadata": {},
   "source": [
    "OBS inden dette: lav ethnicity dist for hver age group, for måske også og se hvilken der er mest balanced, og så balancér ift denne?? eller er det too much? "
   ]
  },
  {
   "cell_type": "code",
   "execution_count": 20,
   "metadata": {},
   "outputs": [
    {
     "data": {
      "text/html": [
       "<div>\n",
       "<style scoped>\n",
       "    .dataframe tbody tr th:only-of-type {\n",
       "        vertical-align: middle;\n",
       "    }\n",
       "\n",
       "    .dataframe tbody tr th {\n",
       "        vertical-align: top;\n",
       "    }\n",
       "\n",
       "    .dataframe thead th {\n",
       "        text-align: right;\n",
       "    }\n",
       "</style>\n",
       "<table border=\"1\" class=\"dataframe\">\n",
       "  <thead>\n",
       "    <tr style=\"text-align: right;\">\n",
       "      <th></th>\n",
       "      <th>img_name</th>\n",
       "      <th>Age</th>\n",
       "      <th>ethnicity</th>\n",
       "      <th>id_class</th>\n",
       "      <th>children_agegroup</th>\n",
       "      <th>im_id</th>\n",
       "      <th>img_org_name</th>\n",
       "      <th>face_id</th>\n",
       "    </tr>\n",
       "  </thead>\n",
       "  <tbody>\n",
       "    <tr>\n",
       "      <th>22</th>\n",
       "      <td>African_634_22</td>\n",
       "      <td>15</td>\n",
       "      <td>African</td>\n",
       "      <td>634</td>\n",
       "      <td>13-15</td>\n",
       "      <td>African_634</td>\n",
       "      <td>NaN</td>\n",
       "      <td>NaN</td>\n",
       "    </tr>\n",
       "    <tr>\n",
       "      <th>60</th>\n",
       "      <td>Caucasian_346_12</td>\n",
       "      <td>14</td>\n",
       "      <td>Caucasian</td>\n",
       "      <td>346</td>\n",
       "      <td>13-15</td>\n",
       "      <td>Caucasian_346</td>\n",
       "      <td>NaN</td>\n",
       "      <td>NaN</td>\n",
       "    </tr>\n",
       "    <tr>\n",
       "      <th>62</th>\n",
       "      <td>African_699_1</td>\n",
       "      <td>13</td>\n",
       "      <td>African</td>\n",
       "      <td>699</td>\n",
       "      <td>13-15</td>\n",
       "      <td>African_699</td>\n",
       "      <td>NaN</td>\n",
       "      <td>NaN</td>\n",
       "    </tr>\n",
       "    <tr>\n",
       "      <th>164</th>\n",
       "      <td>African_412_47</td>\n",
       "      <td>13</td>\n",
       "      <td>African</td>\n",
       "      <td>412</td>\n",
       "      <td>13-15</td>\n",
       "      <td>African_412</td>\n",
       "      <td>NaN</td>\n",
       "      <td>NaN</td>\n",
       "    </tr>\n",
       "    <tr>\n",
       "      <th>168</th>\n",
       "      <td>Asian_489_46</td>\n",
       "      <td>13</td>\n",
       "      <td>Asian</td>\n",
       "      <td>489</td>\n",
       "      <td>13-15</td>\n",
       "      <td>Asian_489</td>\n",
       "      <td>NaN</td>\n",
       "      <td>NaN</td>\n",
       "    </tr>\n",
       "    <tr>\n",
       "      <th>...</th>\n",
       "      <td>...</td>\n",
       "      <td>...</td>\n",
       "      <td>...</td>\n",
       "      <td>...</td>\n",
       "      <td>...</td>\n",
       "      <td>...</td>\n",
       "      <td>...</td>\n",
       "      <td>...</td>\n",
       "    </tr>\n",
       "    <tr>\n",
       "      <th>9898</th>\n",
       "      <td>m.05lq0j</td>\n",
       "      <td>14</td>\n",
       "      <td>Asian</td>\n",
       "      <td>05lq0j</td>\n",
       "      <td>13-15</td>\n",
       "      <td>05lq0j</td>\n",
       "      <td>m.05lq0j_0003</td>\n",
       "      <td>3.0</td>\n",
       "    </tr>\n",
       "    <tr>\n",
       "      <th>9907</th>\n",
       "      <td>m.05fwlf</td>\n",
       "      <td>13</td>\n",
       "      <td>Asian</td>\n",
       "      <td>05fwlf</td>\n",
       "      <td>13-15</td>\n",
       "      <td>05fwlf</td>\n",
       "      <td>m.05fwlf_0002</td>\n",
       "      <td>2.0</td>\n",
       "    </tr>\n",
       "    <tr>\n",
       "      <th>9914</th>\n",
       "      <td>m.0bmd0_6</td>\n",
       "      <td>15</td>\n",
       "      <td>Asian</td>\n",
       "      <td>0bmd0_6</td>\n",
       "      <td>13-15</td>\n",
       "      <td>0bmd0_6</td>\n",
       "      <td>m.0bmd0_6_0002</td>\n",
       "      <td>2.0</td>\n",
       "    </tr>\n",
       "    <tr>\n",
       "      <th>9916</th>\n",
       "      <td>m.0bmd0_6</td>\n",
       "      <td>13</td>\n",
       "      <td>Asian</td>\n",
       "      <td>0bmd0_6</td>\n",
       "      <td>13-15</td>\n",
       "      <td>0bmd0_6</td>\n",
       "      <td>m.0bmd0_6_0001</td>\n",
       "      <td>1.0</td>\n",
       "    </tr>\n",
       "    <tr>\n",
       "      <th>9918</th>\n",
       "      <td>m.01m49_z</td>\n",
       "      <td>14</td>\n",
       "      <td>Asian</td>\n",
       "      <td>01m49_z</td>\n",
       "      <td>13-15</td>\n",
       "      <td>01m49_z</td>\n",
       "      <td>m.01m49_z_0001</td>\n",
       "      <td>1.0</td>\n",
       "    </tr>\n",
       "  </tbody>\n",
       "</table>\n",
       "<p>551 rows × 8 columns</p>\n",
       "</div>"
      ],
      "text/plain": [
       "              img_name  Age  ethnicity id_class children_agegroup  \\\n",
       "22      African_634_22   15    African      634             13-15   \n",
       "60    Caucasian_346_12   14  Caucasian      346             13-15   \n",
       "62       African_699_1   13    African      699             13-15   \n",
       "164     African_412_47   13    African      412             13-15   \n",
       "168       Asian_489_46   13      Asian      489             13-15   \n",
       "...                ...  ...        ...      ...               ...   \n",
       "9898          m.05lq0j   14      Asian   05lq0j             13-15   \n",
       "9907          m.05fwlf   13      Asian   05fwlf             13-15   \n",
       "9914         m.0bmd0_6   15      Asian  0bmd0_6             13-15   \n",
       "9916         m.0bmd0_6   13      Asian  0bmd0_6             13-15   \n",
       "9918         m.01m49_z   14      Asian  01m49_z             13-15   \n",
       "\n",
       "              im_id    img_org_name  face_id  \n",
       "22      African_634             NaN      NaN  \n",
       "60    Caucasian_346             NaN      NaN  \n",
       "62      African_699             NaN      NaN  \n",
       "164     African_412             NaN      NaN  \n",
       "168       Asian_489             NaN      NaN  \n",
       "...             ...             ...      ...  \n",
       "9898         05lq0j   m.05lq0j_0003      3.0  \n",
       "9907         05fwlf   m.05fwlf_0002      2.0  \n",
       "9914        0bmd0_6  m.0bmd0_6_0002      2.0  \n",
       "9916        0bmd0_6  m.0bmd0_6_0001      1.0  \n",
       "9918        01m49_z  m.01m49_z_0001      1.0  \n",
       "\n",
       "[551 rows x 8 columns]"
      ]
     },
     "execution_count": 20,
     "metadata": {},
     "output_type": "execute_result"
    }
   ],
   "source": [
    "minority_agedf"
   ]
  },
  {
   "cell_type": "code",
   "execution_count": 21,
   "metadata": {},
   "outputs": [
    {
     "data": {
      "text/html": [
       "<div>\n",
       "<style scoped>\n",
       "    .dataframe tbody tr th:only-of-type {\n",
       "        vertical-align: middle;\n",
       "    }\n",
       "\n",
       "    .dataframe tbody tr th {\n",
       "        vertical-align: top;\n",
       "    }\n",
       "\n",
       "    .dataframe thead tr th {\n",
       "        text-align: left;\n",
       "    }\n",
       "\n",
       "    .dataframe thead tr:last-of-type th {\n",
       "        text-align: right;\n",
       "    }\n",
       "</style>\n",
       "<table border=\"1\" class=\"dataframe\">\n",
       "  <thead>\n",
       "    <tr>\n",
       "      <th></th>\n",
       "      <th>img_name</th>\n",
       "    </tr>\n",
       "    <tr>\n",
       "      <th></th>\n",
       "      <th>count</th>\n",
       "    </tr>\n",
       "    <tr>\n",
       "      <th>im_id</th>\n",
       "      <th></th>\n",
       "    </tr>\n",
       "  </thead>\n",
       "  <tbody>\n",
       "    <tr>\n",
       "      <th>01m49_z</th>\n",
       "      <td>1</td>\n",
       "    </tr>\n",
       "    <tr>\n",
       "      <th>01r4447</th>\n",
       "      <td>2</td>\n",
       "    </tr>\n",
       "    <tr>\n",
       "      <th>01vjy69</th>\n",
       "      <td>1</td>\n",
       "    </tr>\n",
       "    <tr>\n",
       "      <th>025wqb8</th>\n",
       "      <td>1</td>\n",
       "    </tr>\n",
       "    <tr>\n",
       "      <th>0264t6l</th>\n",
       "      <td>1</td>\n",
       "    </tr>\n",
       "    <tr>\n",
       "      <th>...</th>\n",
       "      <td>...</td>\n",
       "    </tr>\n",
       "    <tr>\n",
       "      <th>Indian_7</th>\n",
       "      <td>1</td>\n",
       "    </tr>\n",
       "    <tr>\n",
       "      <th>Indian_711</th>\n",
       "      <td>1</td>\n",
       "    </tr>\n",
       "    <tr>\n",
       "      <th>Indian_717</th>\n",
       "      <td>2</td>\n",
       "    </tr>\n",
       "    <tr>\n",
       "      <th>Indian_74</th>\n",
       "      <td>1</td>\n",
       "    </tr>\n",
       "    <tr>\n",
       "      <th>Indian_91</th>\n",
       "      <td>1</td>\n",
       "    </tr>\n",
       "  </tbody>\n",
       "</table>\n",
       "<p>428 rows × 1 columns</p>\n",
       "</div>"
      ],
      "text/plain": [
       "           img_name\n",
       "              count\n",
       "im_id              \n",
       "01m49_z           1\n",
       "01r4447           2\n",
       "01vjy69           1\n",
       "025wqb8           1\n",
       "0264t6l           1\n",
       "...             ...\n",
       "Indian_7          1\n",
       "Indian_711        1\n",
       "Indian_717        2\n",
       "Indian_74         1\n",
       "Indian_91         1\n",
       "\n",
       "[428 rows x 1 columns]"
      ]
     },
     "execution_count": 21,
     "metadata": {},
     "output_type": "execute_result"
    }
   ],
   "source": [
    "# get dist of images per ID in min group\n",
    "minority_agedf.groupby(\"im_id\").agg({'img_name': ['count']})"
   ]
  },
  {
   "cell_type": "code",
   "execution_count": 22,
   "metadata": {},
   "outputs": [
    {
     "name": "stdout",
     "output_type": "stream",
     "text": [
      "Average number of ims per id\n"
     ]
    },
    {
     "data": {
      "text/plain": [
       "img_name  count    1.287383\n",
       "dtype: float64"
      ]
     },
     "execution_count": 22,
     "metadata": {},
     "output_type": "execute_result"
    }
   ],
   "source": [
    "print(\"Average number of ims per id\")\n",
    "minority_agedf.groupby(\"im_id\").agg({'img_name': ['count']}).mean()"
   ]
  },
  {
   "cell_type": "code",
   "execution_count": 23,
   "metadata": {},
   "outputs": [
    {
     "data": {
      "text/html": [
       "<div>\n",
       "<style scoped>\n",
       "    .dataframe tbody tr th:only-of-type {\n",
       "        vertical-align: middle;\n",
       "    }\n",
       "\n",
       "    .dataframe tbody tr th {\n",
       "        vertical-align: top;\n",
       "    }\n",
       "\n",
       "    .dataframe thead th {\n",
       "        text-align: right;\n",
       "    }\n",
       "</style>\n",
       "<table border=\"1\" class=\"dataframe\">\n",
       "  <thead>\n",
       "    <tr style=\"text-align: right;\">\n",
       "      <th></th>\n",
       "      <th>img_name</th>\n",
       "      <th>Age</th>\n",
       "      <th>ethnicity</th>\n",
       "      <th>id_class</th>\n",
       "      <th>children_agegroup</th>\n",
       "      <th>im_id</th>\n",
       "      <th>img_org_name</th>\n",
       "      <th>face_id</th>\n",
       "    </tr>\n",
       "  </thead>\n",
       "  <tbody>\n",
       "    <tr>\n",
       "      <th>22</th>\n",
       "      <td>African_634_22</td>\n",
       "      <td>15</td>\n",
       "      <td>African</td>\n",
       "      <td>634</td>\n",
       "      <td>13-15</td>\n",
       "      <td>African_634</td>\n",
       "      <td>NaN</td>\n",
       "      <td>NaN</td>\n",
       "    </tr>\n",
       "    <tr>\n",
       "      <th>60</th>\n",
       "      <td>Caucasian_346_12</td>\n",
       "      <td>14</td>\n",
       "      <td>Caucasian</td>\n",
       "      <td>346</td>\n",
       "      <td>13-15</td>\n",
       "      <td>Caucasian_346</td>\n",
       "      <td>NaN</td>\n",
       "      <td>NaN</td>\n",
       "    </tr>\n",
       "    <tr>\n",
       "      <th>62</th>\n",
       "      <td>African_699_1</td>\n",
       "      <td>13</td>\n",
       "      <td>African</td>\n",
       "      <td>699</td>\n",
       "      <td>13-15</td>\n",
       "      <td>African_699</td>\n",
       "      <td>NaN</td>\n",
       "      <td>NaN</td>\n",
       "    </tr>\n",
       "    <tr>\n",
       "      <th>164</th>\n",
       "      <td>African_412_47</td>\n",
       "      <td>13</td>\n",
       "      <td>African</td>\n",
       "      <td>412</td>\n",
       "      <td>13-15</td>\n",
       "      <td>African_412</td>\n",
       "      <td>NaN</td>\n",
       "      <td>NaN</td>\n",
       "    </tr>\n",
       "    <tr>\n",
       "      <th>168</th>\n",
       "      <td>Asian_489_46</td>\n",
       "      <td>13</td>\n",
       "      <td>Asian</td>\n",
       "      <td>489</td>\n",
       "      <td>13-15</td>\n",
       "      <td>Asian_489</td>\n",
       "      <td>NaN</td>\n",
       "      <td>NaN</td>\n",
       "    </tr>\n",
       "    <tr>\n",
       "      <th>...</th>\n",
       "      <td>...</td>\n",
       "      <td>...</td>\n",
       "      <td>...</td>\n",
       "      <td>...</td>\n",
       "      <td>...</td>\n",
       "      <td>...</td>\n",
       "      <td>...</td>\n",
       "      <td>...</td>\n",
       "    </tr>\n",
       "    <tr>\n",
       "      <th>9898</th>\n",
       "      <td>m.05lq0j</td>\n",
       "      <td>14</td>\n",
       "      <td>Asian</td>\n",
       "      <td>05lq0j</td>\n",
       "      <td>13-15</td>\n",
       "      <td>05lq0j</td>\n",
       "      <td>m.05lq0j_0003</td>\n",
       "      <td>3.0</td>\n",
       "    </tr>\n",
       "    <tr>\n",
       "      <th>9907</th>\n",
       "      <td>m.05fwlf</td>\n",
       "      <td>13</td>\n",
       "      <td>Asian</td>\n",
       "      <td>05fwlf</td>\n",
       "      <td>13-15</td>\n",
       "      <td>05fwlf</td>\n",
       "      <td>m.05fwlf_0002</td>\n",
       "      <td>2.0</td>\n",
       "    </tr>\n",
       "    <tr>\n",
       "      <th>9914</th>\n",
       "      <td>m.0bmd0_6</td>\n",
       "      <td>15</td>\n",
       "      <td>Asian</td>\n",
       "      <td>0bmd0_6</td>\n",
       "      <td>13-15</td>\n",
       "      <td>0bmd0_6</td>\n",
       "      <td>m.0bmd0_6_0002</td>\n",
       "      <td>2.0</td>\n",
       "    </tr>\n",
       "    <tr>\n",
       "      <th>9916</th>\n",
       "      <td>m.0bmd0_6</td>\n",
       "      <td>13</td>\n",
       "      <td>Asian</td>\n",
       "      <td>0bmd0_6</td>\n",
       "      <td>13-15</td>\n",
       "      <td>0bmd0_6</td>\n",
       "      <td>m.0bmd0_6_0001</td>\n",
       "      <td>1.0</td>\n",
       "    </tr>\n",
       "    <tr>\n",
       "      <th>9918</th>\n",
       "      <td>m.01m49_z</td>\n",
       "      <td>14</td>\n",
       "      <td>Asian</td>\n",
       "      <td>01m49_z</td>\n",
       "      <td>13-15</td>\n",
       "      <td>01m49_z</td>\n",
       "      <td>m.01m49_z_0001</td>\n",
       "      <td>1.0</td>\n",
       "    </tr>\n",
       "  </tbody>\n",
       "</table>\n",
       "<p>551 rows × 8 columns</p>\n",
       "</div>"
      ],
      "text/plain": [
       "              img_name  Age  ethnicity id_class children_agegroup  \\\n",
       "22      African_634_22   15    African      634             13-15   \n",
       "60    Caucasian_346_12   14  Caucasian      346             13-15   \n",
       "62       African_699_1   13    African      699             13-15   \n",
       "164     African_412_47   13    African      412             13-15   \n",
       "168       Asian_489_46   13      Asian      489             13-15   \n",
       "...                ...  ...        ...      ...               ...   \n",
       "9898          m.05lq0j   14      Asian   05lq0j             13-15   \n",
       "9907          m.05fwlf   13      Asian   05fwlf             13-15   \n",
       "9914         m.0bmd0_6   15      Asian  0bmd0_6             13-15   \n",
       "9916         m.0bmd0_6   13      Asian  0bmd0_6             13-15   \n",
       "9918         m.01m49_z   14      Asian  01m49_z             13-15   \n",
       "\n",
       "              im_id    img_org_name  face_id  \n",
       "22      African_634             NaN      NaN  \n",
       "60    Caucasian_346             NaN      NaN  \n",
       "62      African_699             NaN      NaN  \n",
       "164     African_412             NaN      NaN  \n",
       "168       Asian_489             NaN      NaN  \n",
       "...             ...             ...      ...  \n",
       "9898         05lq0j   m.05lq0j_0003      3.0  \n",
       "9907         05fwlf   m.05fwlf_0002      2.0  \n",
       "9914        0bmd0_6  m.0bmd0_6_0002      2.0  \n",
       "9916        0bmd0_6  m.0bmd0_6_0001      1.0  \n",
       "9918        01m49_z  m.01m49_z_0001      1.0  \n",
       "\n",
       "[551 rows x 8 columns]"
      ]
     },
     "execution_count": 23,
     "metadata": {},
     "output_type": "execute_result"
    }
   ],
   "source": [
    "minority_agedf"
   ]
  },
  {
   "cell_type": "code",
   "execution_count": 24,
   "metadata": {},
   "outputs": [
    {
     "data": {
      "text/html": [
       "<div>\n",
       "<style scoped>\n",
       "    .dataframe tbody tr th:only-of-type {\n",
       "        vertical-align: middle;\n",
       "    }\n",
       "\n",
       "    .dataframe tbody tr th {\n",
       "        vertical-align: top;\n",
       "    }\n",
       "\n",
       "    .dataframe thead th {\n",
       "        text-align: right;\n",
       "    }\n",
       "</style>\n",
       "<table border=\"1\" class=\"dataframe\">\n",
       "  <thead>\n",
       "    <tr style=\"text-align: right;\">\n",
       "      <th></th>\n",
       "      <th>img_name</th>\n",
       "      <th>Age</th>\n",
       "      <th>ethnicity</th>\n",
       "      <th>id_class</th>\n",
       "      <th>children_agegroup</th>\n",
       "      <th>im_id</th>\n",
       "      <th>img_org_name</th>\n",
       "      <th>face_id</th>\n",
       "    </tr>\n",
       "  </thead>\n",
       "  <tbody>\n",
       "    <tr>\n",
       "      <th>22</th>\n",
       "      <td>African_634_22</td>\n",
       "      <td>15</td>\n",
       "      <td>African</td>\n",
       "      <td>634</td>\n",
       "      <td>13-15</td>\n",
       "      <td>African_634</td>\n",
       "      <td>NaN</td>\n",
       "      <td>NaN</td>\n",
       "    </tr>\n",
       "    <tr>\n",
       "      <th>60</th>\n",
       "      <td>Caucasian_346_12</td>\n",
       "      <td>14</td>\n",
       "      <td>Caucasian</td>\n",
       "      <td>346</td>\n",
       "      <td>13-15</td>\n",
       "      <td>Caucasian_346</td>\n",
       "      <td>NaN</td>\n",
       "      <td>NaN</td>\n",
       "    </tr>\n",
       "    <tr>\n",
       "      <th>62</th>\n",
       "      <td>African_699_1</td>\n",
       "      <td>13</td>\n",
       "      <td>African</td>\n",
       "      <td>699</td>\n",
       "      <td>13-15</td>\n",
       "      <td>African_699</td>\n",
       "      <td>NaN</td>\n",
       "      <td>NaN</td>\n",
       "    </tr>\n",
       "    <tr>\n",
       "      <th>164</th>\n",
       "      <td>African_412_47</td>\n",
       "      <td>13</td>\n",
       "      <td>African</td>\n",
       "      <td>412</td>\n",
       "      <td>13-15</td>\n",
       "      <td>African_412</td>\n",
       "      <td>NaN</td>\n",
       "      <td>NaN</td>\n",
       "    </tr>\n",
       "    <tr>\n",
       "      <th>168</th>\n",
       "      <td>Asian_489_46</td>\n",
       "      <td>13</td>\n",
       "      <td>Asian</td>\n",
       "      <td>489</td>\n",
       "      <td>13-15</td>\n",
       "      <td>Asian_489</td>\n",
       "      <td>NaN</td>\n",
       "      <td>NaN</td>\n",
       "    </tr>\n",
       "    <tr>\n",
       "      <th>...</th>\n",
       "      <td>...</td>\n",
       "      <td>...</td>\n",
       "      <td>...</td>\n",
       "      <td>...</td>\n",
       "      <td>...</td>\n",
       "      <td>...</td>\n",
       "      <td>...</td>\n",
       "      <td>...</td>\n",
       "    </tr>\n",
       "    <tr>\n",
       "      <th>9898</th>\n",
       "      <td>m.05lq0j</td>\n",
       "      <td>14</td>\n",
       "      <td>Asian</td>\n",
       "      <td>05lq0j</td>\n",
       "      <td>13-15</td>\n",
       "      <td>05lq0j</td>\n",
       "      <td>m.05lq0j_0003</td>\n",
       "      <td>3.0</td>\n",
       "    </tr>\n",
       "    <tr>\n",
       "      <th>9907</th>\n",
       "      <td>m.05fwlf</td>\n",
       "      <td>13</td>\n",
       "      <td>Asian</td>\n",
       "      <td>05fwlf</td>\n",
       "      <td>13-15</td>\n",
       "      <td>05fwlf</td>\n",
       "      <td>m.05fwlf_0002</td>\n",
       "      <td>2.0</td>\n",
       "    </tr>\n",
       "    <tr>\n",
       "      <th>9914</th>\n",
       "      <td>m.0bmd0_6</td>\n",
       "      <td>15</td>\n",
       "      <td>Asian</td>\n",
       "      <td>0bmd0_6</td>\n",
       "      <td>13-15</td>\n",
       "      <td>0bmd0_6</td>\n",
       "      <td>m.0bmd0_6_0002</td>\n",
       "      <td>2.0</td>\n",
       "    </tr>\n",
       "    <tr>\n",
       "      <th>9916</th>\n",
       "      <td>m.0bmd0_6</td>\n",
       "      <td>13</td>\n",
       "      <td>Asian</td>\n",
       "      <td>0bmd0_6</td>\n",
       "      <td>13-15</td>\n",
       "      <td>0bmd0_6</td>\n",
       "      <td>m.0bmd0_6_0001</td>\n",
       "      <td>1.0</td>\n",
       "    </tr>\n",
       "    <tr>\n",
       "      <th>9918</th>\n",
       "      <td>m.01m49_z</td>\n",
       "      <td>14</td>\n",
       "      <td>Asian</td>\n",
       "      <td>01m49_z</td>\n",
       "      <td>13-15</td>\n",
       "      <td>01m49_z</td>\n",
       "      <td>m.01m49_z_0001</td>\n",
       "      <td>1.0</td>\n",
       "    </tr>\n",
       "  </tbody>\n",
       "</table>\n",
       "<p>551 rows × 8 columns</p>\n",
       "</div>"
      ],
      "text/plain": [
       "              img_name  Age  ethnicity id_class children_agegroup  \\\n",
       "22      African_634_22   15    African      634             13-15   \n",
       "60    Caucasian_346_12   14  Caucasian      346             13-15   \n",
       "62       African_699_1   13    African      699             13-15   \n",
       "164     African_412_47   13    African      412             13-15   \n",
       "168       Asian_489_46   13      Asian      489             13-15   \n",
       "...                ...  ...        ...      ...               ...   \n",
       "9898          m.05lq0j   14      Asian   05lq0j             13-15   \n",
       "9907          m.05fwlf   13      Asian   05fwlf             13-15   \n",
       "9914         m.0bmd0_6   15      Asian  0bmd0_6             13-15   \n",
       "9916         m.0bmd0_6   13      Asian  0bmd0_6             13-15   \n",
       "9918         m.01m49_z   14      Asian  01m49_z             13-15   \n",
       "\n",
       "              im_id    img_org_name  face_id  \n",
       "22      African_634             NaN      NaN  \n",
       "60    Caucasian_346             NaN      NaN  \n",
       "62      African_699             NaN      NaN  \n",
       "164     African_412             NaN      NaN  \n",
       "168       Asian_489             NaN      NaN  \n",
       "...             ...             ...      ...  \n",
       "9898         05lq0j   m.05lq0j_0003      3.0  \n",
       "9907         05fwlf   m.05fwlf_0002      2.0  \n",
       "9914        0bmd0_6  m.0bmd0_6_0002      2.0  \n",
       "9916        0bmd0_6  m.0bmd0_6_0001      1.0  \n",
       "9918        01m49_z  m.01m49_z_0001      1.0  \n",
       "\n",
       "[551 rows x 8 columns]"
      ]
     },
     "execution_count": 24,
     "metadata": {},
     "output_type": "execute_result"
    }
   ],
   "source": [
    "minority_agedf"
   ]
  },
  {
   "cell_type": "code",
   "execution_count": 25,
   "metadata": {},
   "outputs": [],
   "source": [
    "etnicities = list(ylfw_witha.ethnicity.unique())\n",
    "\n",
    "# Save variables of frequency within each ethnicity\n",
    "minority_etnicity_dist = minority_agedf.groupby('ethnicity').img_name.count().sort_values(ascending=False)\n",
    "minority_n_ids = len(minority_agedf) # kommer automatisk at nå ca samme fordeling\n",
    "\n",
    "\n",
    "# Get this distribution of frequency in ethnicities from each age group\n",
    "ylfw_witha_balanced = minority_agedf.copy()\n",
    "for agegroup in age_labels:\n",
    "    if agegroup != min_agegroup:\n",
    "        agegroup_df = ylfw_witha[ylfw_witha.children_agegroup == agegroup]\n",
    "        nunique_ids = agegroup_df.im_id.nunique()\n",
    "        #get number of ids based on percentage dist of the minority age group\n",
    "        for e in etnicities:\n",
    "            freq_e = minority_etnicity_dist[e]\n",
    "                        \n",
    "            # randomly sample the images from the current age group from this ethnicity \n",
    "            age_ethn_df = agegroup_df[agegroup_df.ethnicity == e]\n",
    "            sample_eids = age_ethn_df.sample(n=freq_e, random_state=42)\n",
    "            \n",
    "            # add theese to the minority dataset\n",
    "            ylfw_witha_balanced = pd.concat([ylfw_witha_balanced, sample_eids], ignore_index=True)\n",
    "    \n",
    "        \n",
    " "
   ]
  },
  {
   "cell_type": "markdown",
   "metadata": {},
   "source": [
    "Check if balanced"
   ]
  },
  {
   "cell_type": "code",
   "execution_count": 26,
   "metadata": {},
   "outputs": [
    {
     "data": {
      "text/plain": [
       "children_agegroup\n",
       "13-15    551\n",
       "0-3      551\n",
       "4-6      551\n",
       "7-9      551\n",
       "10-12    551\n",
       "16-18    551\n",
       "Name: count, dtype: int64"
      ]
     },
     "execution_count": 26,
     "metadata": {},
     "output_type": "execute_result"
    }
   ],
   "source": [
    "# Age groups\n",
    "ylfw_witha_balanced.children_agegroup.value_counts()"
   ]
  },
  {
   "cell_type": "code",
   "execution_count": 27,
   "metadata": {},
   "outputs": [
    {
     "name": "stdout",
     "output_type": "stream",
     "text": [
      "Min age group distribution ethnicity\n",
      "African      164\n",
      "Indian       158\n",
      "Caucasian    117\n",
      "Asian        112\n",
      "Name: img_name, dtype: int64\n",
      "\n",
      "0-3\n",
      " ethnicity\n",
      "African      164\n",
      "Indian       158\n",
      "Caucasian    117\n",
      "Asian        112\n",
      "Name: img_name, dtype: int64\n",
      "\n",
      "16-18 ethnicity\n",
      "African      164\n",
      "Indian       158\n",
      "Caucasian    117\n",
      "Asian        112\n",
      "Name: img_name, dtype: int64\n"
     ]
    }
   ],
   "source": [
    "# Race distribution\n",
    "print(\"Min age group distribution\", minority_agedf.groupby('ethnicity').img_name.count().sort_values(ascending=False))\n",
    "print(\"\\n0-3\\n\",ylfw_witha_balanced[ylfw_witha_balanced.children_agegroup == \"0-3\"].groupby('ethnicity').img_name.count().sort_values(ascending=False))\n",
    "print(\"\\n16-18\",ylfw_witha_balanced[ylfw_witha_balanced.children_agegroup == \"16-18\"].groupby('ethnicity').img_name.count().sort_values(ascending=False))"
   ]
  },
  {
   "cell_type": "code",
   "execution_count": 39,
   "metadata": {},
   "outputs": [
    {
     "data": {
      "text/plain": [
       "children_agegroup\n",
       "13-15    551\n",
       "0-3      551\n",
       "4-6      551\n",
       "7-9      551\n",
       "10-12    551\n",
       "16-18    551\n",
       "Name: count, dtype: int64"
      ]
     },
     "execution_count": 39,
     "metadata": {},
     "output_type": "execute_result"
    }
   ],
   "source": [
    "ylfw_witha_balanced.children_agegroup.value_counts()"
   ]
  },
  {
   "cell_type": "code",
   "execution_count": 74,
   "metadata": {},
   "outputs": [
    {
     "data": {
      "text/plain": [
       "im_id\n",
       "Indian_484     8\n",
       "Indian_434     7\n",
       "African_261    7\n",
       "Indian_528     7\n",
       "Indian_531     7\n",
       "              ..\n",
       "Asian_102      1\n",
       "Asian_217      1\n",
       "Asian_362      1\n",
       "Asian_119      1\n",
       "Indian_515     1\n",
       "Name: count, Length: 2026, dtype: int64"
      ]
     },
     "execution_count": 74,
     "metadata": {},
     "output_type": "execute_result"
    }
   ],
   "source": [
    "ylfw_witha_balanced.im_id.value_counts()"
   ]
  },
  {
   "cell_type": "code",
   "execution_count": 71,
   "metadata": {},
   "outputs": [
    {
     "data": {
      "text/plain": [
       "808"
      ]
     },
     "execution_count": 71,
     "metadata": {},
     "output_type": "execute_result"
    }
   ],
   "source": [
    "(ylfw_witha_balanced.im_id.value_counts()>1).sum()"
   ]
  },
  {
   "cell_type": "code",
   "execution_count": null,
   "metadata": {},
   "outputs": [],
   "source": [
    "(ylfw_witha_balanced.im_id.value_counts()<1).sum()"
   ]
  },
  {
   "cell_type": "code",
   "execution_count": 67,
   "metadata": {},
   "outputs": [
    {
     "data": {
      "text/html": [
       "<div>\n",
       "<style scoped>\n",
       "    .dataframe tbody tr th:only-of-type {\n",
       "        vertical-align: middle;\n",
       "    }\n",
       "\n",
       "    .dataframe tbody tr th {\n",
       "        vertical-align: top;\n",
       "    }\n",
       "\n",
       "    .dataframe thead th {\n",
       "        text-align: right;\n",
       "    }\n",
       "</style>\n",
       "<table border=\"1\" class=\"dataframe\">\n",
       "  <thead>\n",
       "    <tr style=\"text-align: right;\">\n",
       "      <th></th>\n",
       "      <th>img_name</th>\n",
       "      <th>Age</th>\n",
       "      <th>ethnicity</th>\n",
       "      <th>id_class</th>\n",
       "      <th>children_agegroup</th>\n",
       "      <th>im_id</th>\n",
       "      <th>img_org_name</th>\n",
       "      <th>face_id</th>\n",
       "    </tr>\n",
       "  </thead>\n",
       "  <tbody>\n",
       "    <tr>\n",
       "      <th>33</th>\n",
       "      <td>Indian_602_106</td>\n",
       "      <td>14</td>\n",
       "      <td>Indian</td>\n",
       "      <td>602</td>\n",
       "      <td>13-15</td>\n",
       "      <td>Indian_602</td>\n",
       "      <td>NaN</td>\n",
       "      <td>NaN</td>\n",
       "    </tr>\n",
       "    <tr>\n",
       "      <th>2055</th>\n",
       "      <td>Indian_602_34</td>\n",
       "      <td>9</td>\n",
       "      <td>Indian</td>\n",
       "      <td>602</td>\n",
       "      <td>7-9</td>\n",
       "      <td>Indian_602</td>\n",
       "      <td>NaN</td>\n",
       "      <td>NaN</td>\n",
       "    </tr>\n",
       "    <tr>\n",
       "      <th>2077</th>\n",
       "      <td>Indian_602_48</td>\n",
       "      <td>7</td>\n",
       "      <td>Indian</td>\n",
       "      <td>602</td>\n",
       "      <td>7-9</td>\n",
       "      <td>Indian_602</td>\n",
       "      <td>NaN</td>\n",
       "      <td>NaN</td>\n",
       "    </tr>\n",
       "    <tr>\n",
       "      <th>2145</th>\n",
       "      <td>Indian_602_51</td>\n",
       "      <td>7</td>\n",
       "      <td>Indian</td>\n",
       "      <td>602</td>\n",
       "      <td>7-9</td>\n",
       "      <td>Indian_602</td>\n",
       "      <td>NaN</td>\n",
       "      <td>NaN</td>\n",
       "    </tr>\n",
       "    <tr>\n",
       "      <th>2196</th>\n",
       "      <td>Indian_602_4</td>\n",
       "      <td>7</td>\n",
       "      <td>Indian</td>\n",
       "      <td>602</td>\n",
       "      <td>7-9</td>\n",
       "      <td>Indian_602</td>\n",
       "      <td>NaN</td>\n",
       "      <td>NaN</td>\n",
       "    </tr>\n",
       "    <tr>\n",
       "      <th>2201</th>\n",
       "      <td>Indian_602_95</td>\n",
       "      <td>9</td>\n",
       "      <td>Indian</td>\n",
       "      <td>602</td>\n",
       "      <td>7-9</td>\n",
       "      <td>Indian_602</td>\n",
       "      <td>NaN</td>\n",
       "      <td>NaN</td>\n",
       "    </tr>\n",
       "    <tr>\n",
       "      <th>2645</th>\n",
       "      <td>Indian_602_60</td>\n",
       "      <td>11</td>\n",
       "      <td>Indian</td>\n",
       "      <td>602</td>\n",
       "      <td>10-12</td>\n",
       "      <td>Indian_602</td>\n",
       "      <td>NaN</td>\n",
       "      <td>NaN</td>\n",
       "    </tr>\n",
       "  </tbody>\n",
       "</table>\n",
       "</div>"
      ],
      "text/plain": [
       "            img_name  Age ethnicity id_class children_agegroup       im_id  \\\n",
       "33    Indian_602_106   14    Indian      602             13-15  Indian_602   \n",
       "2055   Indian_602_34    9    Indian      602               7-9  Indian_602   \n",
       "2077   Indian_602_48    7    Indian      602               7-9  Indian_602   \n",
       "2145   Indian_602_51    7    Indian      602               7-9  Indian_602   \n",
       "2196    Indian_602_4    7    Indian      602               7-9  Indian_602   \n",
       "2201   Indian_602_95    9    Indian      602               7-9  Indian_602   \n",
       "2645   Indian_602_60   11    Indian      602             10-12  Indian_602   \n",
       "\n",
       "     img_org_name  face_id  \n",
       "33            NaN      NaN  \n",
       "2055          NaN      NaN  \n",
       "2077          NaN      NaN  \n",
       "2145          NaN      NaN  \n",
       "2196          NaN      NaN  \n",
       "2201          NaN      NaN  \n",
       "2645          NaN      NaN  "
      ]
     },
     "execution_count": 67,
     "metadata": {},
     "output_type": "execute_result"
    }
   ],
   "source": [
    "ylfw_witha_balanced[ylfw_witha_balanced.im_id == \"Indian_602\"]"
   ]
  },
  {
   "cell_type": "code",
   "execution_count": 62,
   "metadata": {},
   "outputs": [
    {
     "data": {
      "text/html": [
       "<div>\n",
       "<style scoped>\n",
       "    .dataframe tbody tr th:only-of-type {\n",
       "        vertical-align: middle;\n",
       "    }\n",
       "\n",
       "    .dataframe tbody tr th {\n",
       "        vertical-align: top;\n",
       "    }\n",
       "\n",
       "    .dataframe thead th {\n",
       "        text-align: right;\n",
       "    }\n",
       "</style>\n",
       "<table border=\"1\" class=\"dataframe\">\n",
       "  <thead>\n",
       "    <tr style=\"text-align: right;\">\n",
       "      <th></th>\n",
       "      <th>img_name</th>\n",
       "      <th>Age</th>\n",
       "      <th>ethnicity</th>\n",
       "      <th>id_class</th>\n",
       "      <th>children_agegroup</th>\n",
       "      <th>im_id</th>\n",
       "      <th>img_org_name</th>\n",
       "      <th>face_id</th>\n",
       "    </tr>\n",
       "  </thead>\n",
       "  <tbody>\n",
       "    <tr>\n",
       "      <th>1102</th>\n",
       "      <td>m.0263vl0</td>\n",
       "      <td>5</td>\n",
       "      <td>Caucasian</td>\n",
       "      <td>0263vl0</td>\n",
       "      <td>4-6</td>\n",
       "      <td>0263vl0</td>\n",
       "      <td>m.0263vl0_0002</td>\n",
       "      <td>2.0</td>\n",
       "    </tr>\n",
       "    <tr>\n",
       "      <th>1103</th>\n",
       "      <td>Caucasian_133_31</td>\n",
       "      <td>4</td>\n",
       "      <td>Caucasian</td>\n",
       "      <td>133</td>\n",
       "      <td>4-6</td>\n",
       "      <td>Caucasian_133</td>\n",
       "      <td>NaN</td>\n",
       "      <td>NaN</td>\n",
       "    </tr>\n",
       "    <tr>\n",
       "      <th>1104</th>\n",
       "      <td>Caucasian_1285_4</td>\n",
       "      <td>6</td>\n",
       "      <td>Caucasian</td>\n",
       "      <td>1285</td>\n",
       "      <td>4-6</td>\n",
       "      <td>Caucasian_1285</td>\n",
       "      <td>NaN</td>\n",
       "      <td>NaN</td>\n",
       "    </tr>\n",
       "    <tr>\n",
       "      <th>1105</th>\n",
       "      <td>Caucasian_1339_7</td>\n",
       "      <td>5</td>\n",
       "      <td>Caucasian</td>\n",
       "      <td>1339</td>\n",
       "      <td>4-6</td>\n",
       "      <td>Caucasian_1339</td>\n",
       "      <td>NaN</td>\n",
       "      <td>NaN</td>\n",
       "    </tr>\n",
       "    <tr>\n",
       "      <th>1106</th>\n",
       "      <td>Caucasian_300_58</td>\n",
       "      <td>5</td>\n",
       "      <td>Caucasian</td>\n",
       "      <td>300</td>\n",
       "      <td>4-6</td>\n",
       "      <td>Caucasian_300</td>\n",
       "      <td>NaN</td>\n",
       "      <td>NaN</td>\n",
       "    </tr>\n",
       "    <tr>\n",
       "      <th>...</th>\n",
       "      <td>...</td>\n",
       "      <td>...</td>\n",
       "      <td>...</td>\n",
       "      <td>...</td>\n",
       "      <td>...</td>\n",
       "      <td>...</td>\n",
       "      <td>...</td>\n",
       "      <td>...</td>\n",
       "    </tr>\n",
       "    <tr>\n",
       "      <th>1648</th>\n",
       "      <td>Indian_272_3</td>\n",
       "      <td>4</td>\n",
       "      <td>Indian</td>\n",
       "      <td>272</td>\n",
       "      <td>4-6</td>\n",
       "      <td>Indian_272</td>\n",
       "      <td>NaN</td>\n",
       "      <td>NaN</td>\n",
       "    </tr>\n",
       "    <tr>\n",
       "      <th>1649</th>\n",
       "      <td>Indian_156_31</td>\n",
       "      <td>6</td>\n",
       "      <td>Indian</td>\n",
       "      <td>156</td>\n",
       "      <td>4-6</td>\n",
       "      <td>Indian_156</td>\n",
       "      <td>NaN</td>\n",
       "      <td>NaN</td>\n",
       "    </tr>\n",
       "    <tr>\n",
       "      <th>1650</th>\n",
       "      <td>Indian_651_5</td>\n",
       "      <td>4</td>\n",
       "      <td>Indian</td>\n",
       "      <td>651</td>\n",
       "      <td>4-6</td>\n",
       "      <td>Indian_651</td>\n",
       "      <td>NaN</td>\n",
       "      <td>NaN</td>\n",
       "    </tr>\n",
       "    <tr>\n",
       "      <th>1651</th>\n",
       "      <td>Indian_667_18</td>\n",
       "      <td>5</td>\n",
       "      <td>Indian</td>\n",
       "      <td>667</td>\n",
       "      <td>4-6</td>\n",
       "      <td>Indian_667</td>\n",
       "      <td>NaN</td>\n",
       "      <td>NaN</td>\n",
       "    </tr>\n",
       "    <tr>\n",
       "      <th>1652</th>\n",
       "      <td>Indian_19_1</td>\n",
       "      <td>4</td>\n",
       "      <td>Indian</td>\n",
       "      <td>19</td>\n",
       "      <td>4-6</td>\n",
       "      <td>Indian_19</td>\n",
       "      <td>NaN</td>\n",
       "      <td>NaN</td>\n",
       "    </tr>\n",
       "  </tbody>\n",
       "</table>\n",
       "<p>551 rows × 8 columns</p>\n",
       "</div>"
      ],
      "text/plain": [
       "              img_name  Age  ethnicity id_class children_agegroup  \\\n",
       "1102         m.0263vl0    5  Caucasian  0263vl0               4-6   \n",
       "1103  Caucasian_133_31    4  Caucasian      133               4-6   \n",
       "1104  Caucasian_1285_4    6  Caucasian     1285               4-6   \n",
       "1105  Caucasian_1339_7    5  Caucasian     1339               4-6   \n",
       "1106  Caucasian_300_58    5  Caucasian      300               4-6   \n",
       "...                ...  ...        ...      ...               ...   \n",
       "1648      Indian_272_3    4     Indian      272               4-6   \n",
       "1649     Indian_156_31    6     Indian      156               4-6   \n",
       "1650      Indian_651_5    4     Indian      651               4-6   \n",
       "1651     Indian_667_18    5     Indian      667               4-6   \n",
       "1652       Indian_19_1    4     Indian       19               4-6   \n",
       "\n",
       "               im_id    img_org_name  face_id  \n",
       "1102         0263vl0  m.0263vl0_0002      2.0  \n",
       "1103   Caucasian_133             NaN      NaN  \n",
       "1104  Caucasian_1285             NaN      NaN  \n",
       "1105  Caucasian_1339             NaN      NaN  \n",
       "1106   Caucasian_300             NaN      NaN  \n",
       "...              ...             ...      ...  \n",
       "1648      Indian_272             NaN      NaN  \n",
       "1649      Indian_156             NaN      NaN  \n",
       "1650      Indian_651             NaN      NaN  \n",
       "1651      Indian_667             NaN      NaN  \n",
       "1652       Indian_19             NaN      NaN  \n",
       "\n",
       "[551 rows x 8 columns]"
      ]
     },
     "execution_count": 62,
     "metadata": {},
     "output_type": "execute_result"
    }
   ],
   "source": [
    "ylfw_witha_balanced[ylfw_witha_balanced.children_agegroup == \"4-6\"]"
   ]
  },
  {
   "cell_type": "code",
   "execution_count": 65,
   "metadata": {},
   "outputs": [
    {
     "data": {
      "text/plain": [
       "2088"
      ]
     },
     "execution_count": 65,
     "metadata": {},
     "output_type": "execute_result"
    }
   ],
   "source": [
    "2*511+3*190+4*65+5*26+7*8+6*7+8*1"
   ]
  },
  {
   "cell_type": "code",
   "execution_count": 66,
   "metadata": {},
   "outputs": [
    {
     "data": {
      "text/html": [
       "<div>\n",
       "<style scoped>\n",
       "    .dataframe tbody tr th:only-of-type {\n",
       "        vertical-align: middle;\n",
       "    }\n",
       "\n",
       "    .dataframe tbody tr th {\n",
       "        vertical-align: top;\n",
       "    }\n",
       "\n",
       "    .dataframe thead tr th {\n",
       "        text-align: left;\n",
       "    }\n",
       "\n",
       "    .dataframe thead tr:last-of-type th {\n",
       "        text-align: right;\n",
       "    }\n",
       "</style>\n",
       "<table border=\"1\" class=\"dataframe\">\n",
       "  <thead>\n",
       "    <tr>\n",
       "      <th></th>\n",
       "      <th>img_name</th>\n",
       "    </tr>\n",
       "    <tr>\n",
       "      <th></th>\n",
       "      <th>count</th>\n",
       "    </tr>\n",
       "    <tr>\n",
       "      <th>im_id</th>\n",
       "      <th></th>\n",
       "    </tr>\n",
       "  </thead>\n",
       "  <tbody>\n",
       "    <tr>\n",
       "      <th>01167d3z</th>\n",
       "      <td>1</td>\n",
       "    </tr>\n",
       "    <tr>\n",
       "      <th>014nfw</th>\n",
       "      <td>1</td>\n",
       "    </tr>\n",
       "    <tr>\n",
       "      <th>015076</th>\n",
       "      <td>1</td>\n",
       "    </tr>\n",
       "    <tr>\n",
       "      <th>018fwb</th>\n",
       "      <td>2</td>\n",
       "    </tr>\n",
       "    <tr>\n",
       "      <th>01df1y</th>\n",
       "      <td>1</td>\n",
       "    </tr>\n",
       "    <tr>\n",
       "      <th>...</th>\n",
       "      <td>...</td>\n",
       "    </tr>\n",
       "    <tr>\n",
       "      <th>Indian_94</th>\n",
       "      <td>3</td>\n",
       "    </tr>\n",
       "    <tr>\n",
       "      <th>Indian_95</th>\n",
       "      <td>2</td>\n",
       "    </tr>\n",
       "    <tr>\n",
       "      <th>Indian_97</th>\n",
       "      <td>1</td>\n",
       "    </tr>\n",
       "    <tr>\n",
       "      <th>Indian_98</th>\n",
       "      <td>1</td>\n",
       "    </tr>\n",
       "    <tr>\n",
       "      <th>Indian_99</th>\n",
       "      <td>1</td>\n",
       "    </tr>\n",
       "  </tbody>\n",
       "</table>\n",
       "<p>2026 rows × 1 columns</p>\n",
       "</div>"
      ],
      "text/plain": [
       "          img_name\n",
       "             count\n",
       "im_id             \n",
       "01167d3z         1\n",
       "014nfw           1\n",
       "015076           1\n",
       "018fwb           2\n",
       "01df1y           1\n",
       "...            ...\n",
       "Indian_94        3\n",
       "Indian_95        2\n",
       "Indian_97        1\n",
       "Indian_98        1\n",
       "Indian_99        1\n",
       "\n",
       "[2026 rows x 1 columns]"
      ]
     },
     "execution_count": 66,
     "metadata": {},
     "output_type": "execute_result"
    }
   ],
   "source": [
    "ylfw_witha_balanced.groupby(\"im_id\").agg({'img_name': ['count']}).value_counts()"
   ]
  },
  {
   "cell_type": "code",
   "execution_count": 54,
   "metadata": {},
   "outputs": [
    {
     "data": {
      "text/plain": [
       "(img_name, count)\n",
       "1                    267\n",
       "2                     79\n",
       "3                     16\n",
       "4                     12\n",
       "6                      3\n",
       "5                      1\n",
       "7                      1\n",
       "Name: count, dtype: int64"
      ]
     },
     "execution_count": 54,
     "metadata": {},
     "output_type": "execute_result"
    }
   ],
   "source": [
    "ylfw_witha_balanced[ylfw_witha_balanced.children_agegroup == \"0-3\"].groupby(\"im_id\").agg({'img_name': ['count']}).value_counts()"
   ]
  },
  {
   "cell_type": "code",
   "execution_count": 56,
   "metadata": {},
   "outputs": [
    {
     "data": {
      "text/plain": [
       "(img_name, count)\n",
       "1                    355\n",
       "2                     70\n",
       "3                     16\n",
       "4                      2\n",
       "Name: count, dtype: int64"
      ]
     },
     "execution_count": 56,
     "metadata": {},
     "output_type": "execute_result"
    }
   ],
   "source": [
    "ylfw_witha_balanced[ylfw_witha_balanced.children_agegroup == \"4-6\"].groupby(\"im_id\").agg({'img_name': ['count']}).value_counts()"
   ]
  },
  {
   "cell_type": "code",
   "execution_count": 57,
   "metadata": {},
   "outputs": [
    {
     "data": {
      "text/plain": [
       "(img_name, count)\n",
       "1                    373\n",
       "2                     67\n",
       "3                      9\n",
       "4                      3\n",
       "5                      1\n",
       "Name: count, dtype: int64"
      ]
     },
     "execution_count": 57,
     "metadata": {},
     "output_type": "execute_result"
    }
   ],
   "source": [
    "ylfw_witha_balanced[ylfw_witha_balanced.children_agegroup == \"7-9\"].groupby(\"im_id\").agg({'img_name': ['count']}).value_counts()"
   ]
  },
  {
   "cell_type": "code",
   "execution_count": 58,
   "metadata": {},
   "outputs": [
    {
     "data": {
      "text/plain": [
       "(img_name, count)\n",
       "1                    338\n",
       "2                     76\n",
       "3                     15\n",
       "4                      4\n",
       "Name: count, dtype: int64"
      ]
     },
     "execution_count": 58,
     "metadata": {},
     "output_type": "execute_result"
    }
   ],
   "source": [
    "ylfw_witha_balanced[ylfw_witha_balanced.children_agegroup == \"10-12\"].groupby(\"im_id\").agg({'img_name': ['count']}).value_counts()"
   ]
  },
  {
   "cell_type": "code",
   "execution_count": 59,
   "metadata": {},
   "outputs": [
    {
     "data": {
      "text/plain": [
       "(img_name, count)\n",
       "1                    340\n",
       "2                     57\n",
       "3                     27\n",
       "4                      4\n",
       "Name: count, dtype: int64"
      ]
     },
     "execution_count": 59,
     "metadata": {},
     "output_type": "execute_result"
    }
   ],
   "source": [
    "ylfw_witha_balanced[ylfw_witha_balanced.children_agegroup == \"13-15\"].groupby(\"im_id\").agg({'img_name': ['count']}).value_counts()"
   ]
  },
  {
   "cell_type": "code",
   "execution_count": 60,
   "metadata": {},
   "outputs": [
    {
     "data": {
      "text/plain": [
       "(img_name, count)\n",
       "1                    391\n",
       "2                     60\n",
       "3                     12\n",
       "4                      1\n",
       "Name: count, dtype: int64"
      ]
     },
     "execution_count": 60,
     "metadata": {},
     "output_type": "execute_result"
    }
   ],
   "source": [
    "ylfw_witha_balanced[ylfw_witha_balanced.children_agegroup == \"16-18\"].groupby(\"im_id\").agg({'img_name': ['count']}).value_counts()"
   ]
  },
  {
   "cell_type": "code",
   "execution_count": 61,
   "metadata": {},
   "outputs": [],
   "source": [
    "ylfw_witha_balanced.to_csv('../data/raw_full/child_balanced.csv', index=False)"
   ]
  },
  {
   "cell_type": "markdown",
   "metadata": {},
   "source": [
    "## 2. Balance Data in adult group and children's group\n",
    "\n",
    "\n",
    "Mht race?"
   ]
  },
  {
   "cell_type": "code",
   "execution_count": 28,
   "metadata": {},
   "outputs": [
    {
     "data": {
      "text/plain": [
       "ethnicity\n",
       "African      0.297641\n",
       "Indian       0.286751\n",
       "Caucasian    0.212341\n",
       "Asian        0.203267\n",
       "Name: proportion, dtype: float64"
      ]
     },
     "execution_count": 28,
     "metadata": {},
     "output_type": "execute_result"
    }
   ],
   "source": [
    "# Racial distribution\n",
    "ylfw_witha_balanced.ethnicity.value_counts(normalize=True)"
   ]
  },
  {
   "cell_type": "code",
   "execution_count": 29,
   "metadata": {},
   "outputs": [
    {
     "data": {
      "text/plain": [
       "ethnicity\n",
       "African      0.256415\n",
       "Indian       0.256062\n",
       "Caucasian    0.250296\n",
       "Asian        0.237227\n",
       "Name: proportion, dtype: float64"
      ]
     },
     "execution_count": 29,
     "metadata": {},
     "output_type": "execute_result"
    }
   ],
   "source": [
    "# Remove childrens age group from adult data\n",
    "a_df = pd.read_csv('../data/raw_full/RLFW/raw_rfw_df.csv') \n",
    "a_df = a_df[a_df.Age > 18]\n",
    "\n",
    "# Check racial distribution\n",
    "a_df.ethnicity.value_counts(normalize=True)"
   ]
  },
  {
   "cell_type": "code",
   "execution_count": 84,
   "metadata": {},
   "outputs": [],
   "source": [
    "etnicities = list(ylfw_witha_balanced.ethnicity.unique())\n",
    "\n",
    "# Save variables of frequency within each ethnicity\n",
    "etnicity_dist = ylfw_witha_balanced.groupby('ethnicity').img_name.count().sort_values(ascending=False)\n",
    "a_balanced = pd.DataFrame()\n",
    "for e in etnicities:\n",
    "    freq_e = etnicity_dist[e]\n",
    "                \n",
    "    # randomly sample the images from the current age group from this ethnicity \n",
    "    age_ethn_df = a_df[a_df.ethnicity == e]\n",
    "    sample_eids = age_ethn_df.sample(n=freq_e, random_state=42)\n",
    "    \n",
    "    # add theese to the minority dataset\n",
    "    a_balanced = pd.concat([a_balanced, sample_eids], ignore_index=True)\n",
    "\n"
   ]
  },
  {
   "cell_type": "code",
   "execution_count": 85,
   "metadata": {},
   "outputs": [
    {
     "data": {
      "text/plain": [
       "ethnicity\n",
       "African      984\n",
       "Indian       948\n",
       "Caucasian    702\n",
       "Asian        672\n",
       "Name: img_name, dtype: int64"
      ]
     },
     "execution_count": 85,
     "metadata": {},
     "output_type": "execute_result"
    }
   ],
   "source": [
    "a_balanced.groupby('ethnicity').img_name.count().sort_values(ascending=False)"
   ]
  },
  {
   "cell_type": "code",
   "execution_count": 86,
   "metadata": {},
   "outputs": [
    {
     "data": {
      "text/plain": [
       "ethnicity\n",
       "African      984\n",
       "Indian       948\n",
       "Caucasian    702\n",
       "Asian        672\n",
       "Name: img_name, dtype: int64"
      ]
     },
     "execution_count": 86,
     "metadata": {},
     "output_type": "execute_result"
    }
   ],
   "source": [
    "ylfw_witha_balanced.groupby('ethnicity').img_name.count().sort_values(ascending=False)\n"
   ]
  },
  {
   "cell_type": "code",
   "execution_count": 87,
   "metadata": {},
   "outputs": [],
   "source": [
    "a_balanced.to_csv('../data/raw_full/adults_balanced.csv', index=False)"
   ]
  },
  {
   "cell_type": "code",
   "execution_count": null,
   "metadata": {},
   "outputs": [],
   "source": []
  }
 ],
 "metadata": {
  "kernelspec": {
   "display_name": "best_master",
   "language": "python",
   "name": "python3"
  },
  "language_info": {
   "codemirror_mode": {
    "name": "ipython",
    "version": 3
   },
   "file_extension": ".py",
   "mimetype": "text/x-python",
   "name": "python",
   "nbconvert_exporter": "python",
   "pygments_lexer": "ipython3",
   "version": "3.11.8"
  }
 },
 "nbformat": 4,
 "nbformat_minor": 2
}
