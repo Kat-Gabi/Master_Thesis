{
 "cells": [
  {
   "cell_type": "markdown",
   "metadata": {},
   "source": [
    "## 1. Balance Age groups in YLFW (undersampling)"
   ]
  },
  {
   "cell_type": "code",
   "execution_count": 165,
   "metadata": {},
   "outputs": [],
   "source": [
    "import pandas as pd\n",
    "import seaborn as sns\n",
    "sns.set()\n",
    "import random\n",
    "random.seed(42)\n"
   ]
  },
  {
   "cell_type": "markdown",
   "metadata": {},
   "source": [
    "### 1.1 Young Group"
   ]
  },
  {
   "cell_type": "code",
   "execution_count": 166,
   "metadata": {},
   "outputs": [],
   "source": [
    "y_df = pd.read_csv('../data/raw/YLFW_bench/raw_ylfw_df.csv') "
   ]
  },
  {
   "cell_type": "code",
   "execution_count": 167,
   "metadata": {},
   "outputs": [
    {
     "data": {
      "text/plain": [
       "34"
      ]
     },
     "execution_count": 167,
     "metadata": {},
     "output_type": "execute_result"
    }
   ],
   "source": [
    "len(y_df)"
   ]
  },
  {
   "cell_type": "code",
   "execution_count": 168,
   "metadata": {},
   "outputs": [
    {
     "data": {
      "text/plain": [
       "count    34.000000\n",
       "mean      5.558824\n",
       "std       4.300748\n",
       "min       0.000000\n",
       "25%       2.250000\n",
       "50%       4.000000\n",
       "75%       8.750000\n",
       "max      18.000000\n",
       "Name: Age, dtype: float64"
      ]
     },
     "execution_count": 168,
     "metadata": {},
     "output_type": "execute_result"
    }
   ],
   "source": [
    "y_df.Age.describe()"
   ]
  },
  {
   "cell_type": "code",
   "execution_count": 169,
   "metadata": {},
   "outputs": [
    {
     "data": {
      "text/plain": [
       "children_agegroup\n",
       "0-3      13\n",
       "4-6      10\n",
       "7-9       5\n",
       "10-12     3\n",
       "13-15     2\n",
       "16-18     1\n",
       "Name: count, dtype: int64"
      ]
     },
     "execution_count": 169,
     "metadata": {},
     "output_type": "execute_result"
    }
   ],
   "source": [
    "y_df[\"children_agegroup\"].value_counts() "
   ]
  },
  {
   "cell_type": "markdown",
   "metadata": {},
   "source": [
    "### 1.2 Adult Group"
   ]
  },
  {
   "cell_type": "code",
   "execution_count": 170,
   "metadata": {},
   "outputs": [],
   "source": [
    "a_df = pd.read_csv('../data/raw/RLFW_mini/raw_rfw_df.csv') "
   ]
  },
  {
   "cell_type": "code",
   "execution_count": 171,
   "metadata": {},
   "outputs": [
    {
     "data": {
      "text/plain": [
       "9"
      ]
     },
     "execution_count": 171,
     "metadata": {},
     "output_type": "execute_result"
    }
   ],
   "source": [
    "len(a_df)"
   ]
  },
  {
   "cell_type": "code",
   "execution_count": 172,
   "metadata": {},
   "outputs": [
    {
     "data": {
      "text/plain": [
       "Age\n",
       "45    3\n",
       "47    3\n",
       "50    3\n",
       "Name: count, dtype: int64"
      ]
     },
     "execution_count": 172,
     "metadata": {},
     "output_type": "execute_result"
    }
   ],
   "source": [
    "a_df.Age.value_counts() "
   ]
  },
  {
   "cell_type": "code",
   "execution_count": 173,
   "metadata": {},
   "outputs": [
    {
     "data": {
      "text/plain": [
       "children_agegroup\n",
       "4-6      3\n",
       "10-12    3\n",
       "0-3      0\n",
       "7-9      0\n",
       "13-15    0\n",
       "16-18    0\n",
       "Name: count, dtype: int64"
      ]
     },
     "execution_count": 173,
     "metadata": {},
     "output_type": "execute_result"
    }
   ],
   "source": [
    "# simulated data\n",
    "\n",
    "# Define the age groups and corresponding labels\n",
    "age_bins = [0, 45, 46, 47, 48, 49, 50]  # adding one more bin for 16-18\n",
    "age_labels = ['0-3', '4-6', '7-9', '10-12', '13-15', '16-18']\n",
    "\n",
    "# Update the DataFrame with age groupings\n",
    "a_df['children_agegroup'] = pd.cut(a_df['Age'], bins=age_bins, labels=age_labels, right=False)\n",
    "\n",
    "\n",
    "a_df[\"children_agegroup\"].value_counts() \n"
   ]
  },
  {
   "cell_type": "markdown",
   "metadata": {},
   "source": [
    "### 3. Transfer childrens age groups in a_df to y_df"
   ]
  },
  {
   "cell_type": "code",
   "execution_count": 174,
   "metadata": {},
   "outputs": [
    {
     "data": {
      "text/plain": [
       "0      4-6\n",
       "1      4-6\n",
       "2      4-6\n",
       "3    10-12\n",
       "4    10-12\n",
       "5    10-12\n",
       "6      NaN\n",
       "7      NaN\n",
       "8      NaN\n",
       "Name: children_agegroup, dtype: category\n",
       "Categories (6, object): ['0-3' < '4-6' < '7-9' < '10-12' < '13-15' < '16-18']"
      ]
     },
     "execution_count": 174,
     "metadata": {},
     "output_type": "execute_result"
    }
   ],
   "source": [
    "a_df.children_agegroup"
   ]
  },
  {
   "cell_type": "code",
   "execution_count": 175,
   "metadata": {},
   "outputs": [],
   "source": [
    "a_data_children_agegroup = a_df[a_df.children_agegroup.notnull()]"
   ]
  },
  {
   "cell_type": "code",
   "execution_count": 176,
   "metadata": {},
   "outputs": [
    {
     "data": {
      "text/html": [
       "<div>\n",
       "<style scoped>\n",
       "    .dataframe tbody tr th:only-of-type {\n",
       "        vertical-align: middle;\n",
       "    }\n",
       "\n",
       "    .dataframe tbody tr th {\n",
       "        vertical-align: top;\n",
       "    }\n",
       "\n",
       "    .dataframe thead th {\n",
       "        text-align: right;\n",
       "    }\n",
       "</style>\n",
       "<table border=\"1\" class=\"dataframe\">\n",
       "  <thead>\n",
       "    <tr style=\"text-align: right;\">\n",
       "      <th></th>\n",
       "      <th>img_name</th>\n",
       "      <th>Age</th>\n",
       "      <th>ethnicity</th>\n",
       "      <th>id_class</th>\n",
       "      <th>children_agegroup</th>\n",
       "      <th>im_id</th>\n",
       "      <th>face_id</th>\n",
       "    </tr>\n",
       "  </thead>\n",
       "  <tbody>\n",
       "    <tr>\n",
       "      <th>30</th>\n",
       "      <td>Asian_14_84</td>\n",
       "      <td>2</td>\n",
       "      <td>Asian</td>\n",
       "      <td>14</td>\n",
       "      <td>0-3</td>\n",
       "      <td>Asian_14</td>\n",
       "      <td>NaN</td>\n",
       "    </tr>\n",
       "    <tr>\n",
       "      <th>31</th>\n",
       "      <td>Asian_14_19</td>\n",
       "      <td>4</td>\n",
       "      <td>Asian</td>\n",
       "      <td>14</td>\n",
       "      <td>4-6</td>\n",
       "      <td>Asian_14</td>\n",
       "      <td>NaN</td>\n",
       "    </tr>\n",
       "    <tr>\n",
       "      <th>32</th>\n",
       "      <td>Caucasian_204_27</td>\n",
       "      <td>5</td>\n",
       "      <td>Caucasian</td>\n",
       "      <td>204</td>\n",
       "      <td>4-6</td>\n",
       "      <td>Caucasian_204</td>\n",
       "      <td>NaN</td>\n",
       "    </tr>\n",
       "    <tr>\n",
       "      <th>33</th>\n",
       "      <td>Indian_80_1</td>\n",
       "      <td>5</td>\n",
       "      <td>Indian</td>\n",
       "      <td>80</td>\n",
       "      <td>4-6</td>\n",
       "      <td>Indian_80</td>\n",
       "      <td>NaN</td>\n",
       "    </tr>\n",
       "    <tr>\n",
       "      <th>34</th>\n",
       "      <td>m.0b0h05</td>\n",
       "      <td>45</td>\n",
       "      <td>Asian</td>\n",
       "      <td>0b0h05</td>\n",
       "      <td>4-6</td>\n",
       "      <td>0b0h05</td>\n",
       "      <td>2.0</td>\n",
       "    </tr>\n",
       "    <tr>\n",
       "      <th>35</th>\n",
       "      <td>m.0b0h05</td>\n",
       "      <td>45</td>\n",
       "      <td>Asian</td>\n",
       "      <td>0b0h05</td>\n",
       "      <td>4-6</td>\n",
       "      <td>0b0h05</td>\n",
       "      <td>3.0</td>\n",
       "    </tr>\n",
       "    <tr>\n",
       "      <th>36</th>\n",
       "      <td>m.0b0h05</td>\n",
       "      <td>45</td>\n",
       "      <td>Asian</td>\n",
       "      <td>0b0h05</td>\n",
       "      <td>4-6</td>\n",
       "      <td>0b0h05</td>\n",
       "      <td>1.0</td>\n",
       "    </tr>\n",
       "    <tr>\n",
       "      <th>37</th>\n",
       "      <td>m.0b0h05</td>\n",
       "      <td>47</td>\n",
       "      <td>Asian</td>\n",
       "      <td>0b0h05</td>\n",
       "      <td>10-12</td>\n",
       "      <td>0b0h05</td>\n",
       "      <td>2.0</td>\n",
       "    </tr>\n",
       "    <tr>\n",
       "      <th>38</th>\n",
       "      <td>m.0b0h05</td>\n",
       "      <td>47</td>\n",
       "      <td>Asian</td>\n",
       "      <td>0b0h05</td>\n",
       "      <td>10-12</td>\n",
       "      <td>0b0h05</td>\n",
       "      <td>3.0</td>\n",
       "    </tr>\n",
       "    <tr>\n",
       "      <th>39</th>\n",
       "      <td>m.0b0h05</td>\n",
       "      <td>47</td>\n",
       "      <td>Asian</td>\n",
       "      <td>0b0h05</td>\n",
       "      <td>10-12</td>\n",
       "      <td>0b0h05</td>\n",
       "      <td>1.0</td>\n",
       "    </tr>\n",
       "  </tbody>\n",
       "</table>\n",
       "</div>"
      ],
      "text/plain": [
       "            img_name  Age  ethnicity id_class children_agegroup  \\\n",
       "30       Asian_14_84    2      Asian       14               0-3   \n",
       "31       Asian_14_19    4      Asian       14               4-6   \n",
       "32  Caucasian_204_27    5  Caucasian      204               4-6   \n",
       "33       Indian_80_1    5     Indian       80               4-6   \n",
       "34          m.0b0h05   45      Asian   0b0h05               4-6   \n",
       "35          m.0b0h05   45      Asian   0b0h05               4-6   \n",
       "36          m.0b0h05   45      Asian   0b0h05               4-6   \n",
       "37          m.0b0h05   47      Asian   0b0h05             10-12   \n",
       "38          m.0b0h05   47      Asian   0b0h05             10-12   \n",
       "39          m.0b0h05   47      Asian   0b0h05             10-12   \n",
       "\n",
       "            im_id  face_id  \n",
       "30       Asian_14      NaN  \n",
       "31       Asian_14      NaN  \n",
       "32  Caucasian_204      NaN  \n",
       "33      Indian_80      NaN  \n",
       "34         0b0h05      2.0  \n",
       "35         0b0h05      3.0  \n",
       "36         0b0h05      1.0  \n",
       "37         0b0h05      2.0  \n",
       "38         0b0h05      3.0  \n",
       "39         0b0h05      1.0  "
      ]
     },
     "execution_count": 176,
     "metadata": {},
     "output_type": "execute_result"
    }
   ],
   "source": [
    "# Merge to ylfw\n",
    "ylfw_witha = pd.concat([y_df,a_data_children_agegroup],ignore_index=True)\n",
    "ylfw_witha[-10:]"
   ]
  },
  {
   "cell_type": "markdown",
   "metadata": {},
   "source": [
    "### 4. Undersample based on the minority class in the children's age group in YLFW\n",
    "- Keep racial distribution as in minority class\n",
    "- Delete based on IDs "
   ]
  },
  {
   "cell_type": "markdown",
   "metadata": {},
   "source": [
    "Distribution of age groups - based on IDS (obs be aware that each id have images in different age groups). Therefore we sample based on number of images per age group. \n"
   ]
  },
  {
   "cell_type": "code",
   "execution_count": 187,
   "metadata": {},
   "outputs": [
    {
     "data": {
      "text/html": [
       "<div>\n",
       "<style scoped>\n",
       "    .dataframe tbody tr th:only-of-type {\n",
       "        vertical-align: middle;\n",
       "    }\n",
       "\n",
       "    .dataframe tbody tr th {\n",
       "        vertical-align: top;\n",
       "    }\n",
       "\n",
       "    .dataframe thead tr th {\n",
       "        text-align: left;\n",
       "    }\n",
       "\n",
       "    .dataframe thead tr:last-of-type th {\n",
       "        text-align: right;\n",
       "    }\n",
       "</style>\n",
       "<table border=\"1\" class=\"dataframe\">\n",
       "  <thead>\n",
       "    <tr>\n",
       "      <th></th>\n",
       "      <th colspan=\"4\" halign=\"left\">Age</th>\n",
       "    </tr>\n",
       "    <tr>\n",
       "      <th></th>\n",
       "      <th>min</th>\n",
       "      <th>max</th>\n",
       "      <th>std</th>\n",
       "      <th>count</th>\n",
       "    </tr>\n",
       "    <tr>\n",
       "      <th>im_id</th>\n",
       "      <th></th>\n",
       "      <th></th>\n",
       "      <th></th>\n",
       "      <th></th>\n",
       "    </tr>\n",
       "  </thead>\n",
       "  <tbody>\n",
       "    <tr>\n",
       "      <th>African_0</th>\n",
       "      <td>7</td>\n",
       "      <td>18</td>\n",
       "      <td>7.778175</td>\n",
       "      <td>2</td>\n",
       "    </tr>\n",
       "    <tr>\n",
       "      <th>African_1</th>\n",
       "      <td>2</td>\n",
       "      <td>5</td>\n",
       "      <td>2.121320</td>\n",
       "      <td>2</td>\n",
       "    </tr>\n",
       "    <tr>\n",
       "      <th>Caucasian_204</th>\n",
       "      <td>1</td>\n",
       "      <td>5</td>\n",
       "      <td>2.049390</td>\n",
       "      <td>5</td>\n",
       "    </tr>\n",
       "    <tr>\n",
       "      <th>Asian_386</th>\n",
       "      <td>8</td>\n",
       "      <td>13</td>\n",
       "      <td>1.690309</td>\n",
       "      <td>8</td>\n",
       "    </tr>\n",
       "    <tr>\n",
       "      <th>Caucasian_386</th>\n",
       "      <td>2</td>\n",
       "      <td>4</td>\n",
       "      <td>1.154701</td>\n",
       "      <td>4</td>\n",
       "    </tr>\n",
       "  </tbody>\n",
       "</table>\n",
       "</div>"
      ],
      "text/plain": [
       "              Age                    \n",
       "              min max       std count\n",
       "im_id                                \n",
       "African_0       7  18  7.778175     2\n",
       "African_1       2   5  2.121320     2\n",
       "Caucasian_204   1   5  2.049390     5\n",
       "Asian_386       8  13  1.690309     8\n",
       "Caucasian_386   2   4  1.154701     4"
      ]
     },
     "execution_count": 187,
     "metadata": {},
     "output_type": "execute_result"
    }
   ],
   "source": [
    "# Standard deviation of age groups per identity\n",
    "ylfw_witha.groupby(\"im_id\").agg({'Age': ['min', 'max','std', 'count']}).sort_values(by=('Age', 'std'), ascending=False).head(5)"
   ]
  },
  {
   "cell_type": "code",
   "execution_count": 177,
   "metadata": {},
   "outputs": [
    {
     "data": {
      "text/plain": [
       "children_agegroup\n",
       "4-6      7\n",
       "0-3      6\n",
       "10-12    2\n",
       "13-15    2\n",
       "7-9      2\n",
       "16-18    1\n",
       "Name: im_id, dtype: int64"
      ]
     },
     "execution_count": 177,
     "metadata": {},
     "output_type": "execute_result"
    }
   ],
   "source": [
    "# Distribution of IDs per age group\n",
    "ylfw_witha.groupby('children_agegroup').im_id.nunique().sort_values(ascending=False)"
   ]
  },
  {
   "cell_type": "code",
   "execution_count": 178,
   "metadata": {},
   "outputs": [
    {
     "data": {
      "text/plain": [
       "children_agegroup\n",
       "0-3      13\n",
       "4-6      13\n",
       "10-12     6\n",
       "7-9       5\n",
       "13-15     2\n",
       "16-18     1\n",
       "Name: count, dtype: int64"
      ]
     },
     "execution_count": 178,
     "metadata": {},
     "output_type": "execute_result"
    }
   ],
   "source": [
    "# Distribution of age groups - based on number of images per age group\n",
    "ylfw_witha.children_agegroup.value_counts()"
   ]
  },
  {
   "cell_type": "code",
   "execution_count": 191,
   "metadata": {},
   "outputs": [
    {
     "data": {
      "text/plain": [
       "children_agegroup\n",
       "0-3      13\n",
       "4-6      13\n",
       "10-12     6\n",
       "7-9       5\n",
       "13-15     2\n",
       "16-18     1\n",
       "Name: img_name, dtype: int64"
      ]
     },
     "execution_count": 191,
     "metadata": {},
     "output_type": "execute_result"
    }
   ],
   "source": [
    "ylfw_witha.groupby('children_agegroup').img_name.count().sort_values(ascending=False)"
   ]
  },
  {
   "cell_type": "code",
   "execution_count": 193,
   "metadata": {},
   "outputs": [
    {
     "name": "stdout",
     "output_type": "stream",
     "text": [
      "16-18\n"
     ]
    }
   ],
   "source": [
    "# Take minority age group BASED ON N_IMAGES\n",
    "min_agegroup = ylfw_witha.groupby('children_agegroup').img_name.count().sort_values(ascending=False).idxmin()\n",
    "print(min_agegroup)"
   ]
  },
  {
   "cell_type": "code",
   "execution_count": 196,
   "metadata": {},
   "outputs": [
    {
     "name": "stdout",
     "output_type": "stream",
     "text": [
      "synthetic min age group 0-3\n"
     ]
    },
    {
     "data": {
      "text/plain": [
       "ethnicity\n",
       "Caucasian    7\n",
       "Asian        4\n",
       "African      1\n",
       "Indian       1\n",
       "Name: img_name, dtype: int64"
      ]
     },
     "execution_count": 196,
     "metadata": {},
     "output_type": "execute_result"
    }
   ],
   "source": [
    "### ONLY FOR MINI VERSION\n",
    "synth_min_agegroup = ylfw_witha.children_agegroup.value_counts().idxmax()\n",
    "print(\"synthetic min age group\", synth_min_agegroup)\n",
    "\n",
    "# Get racial distribution of number of images in minority age group\n",
    "minority_agedf = ylfw_witha[ylfw_witha.children_agegroup == synth_min_agegroup]\n",
    "minority_agedf.groupby('ethnicity').img_name.count().sort_values(ascending=False)"
   ]
  },
  {
   "cell_type": "markdown",
   "metadata": {},
   "source": [
    "I.e. Remove samples in the other age groups such that they have approximately the same amount of images and same racial distribution. This is done by sampling the same amount of images within each ethnicity group. "
   ]
  },
  {
   "cell_type": "code",
   "execution_count": 197,
   "metadata": {},
   "outputs": [
    {
     "name": "stdout",
     "output_type": "stream",
     "text": [
      "min age group:  16-18 \n",
      "number of images:  13 \n",
      "\n",
      "racial distribution: ethnicity\n",
      "Caucasian    7\n",
      "Asian        4\n",
      "African      1\n",
      "Indian       1\n",
      "Name: img_name, dtype: int64\n"
     ]
    }
   ],
   "source": [
    "print(\"min age group: \", min_agegroup, \"\\nnumber of images: \", len(minority_agedf), \n",
    "      \"\\n\\nracial distribution:\", minority_agedf.groupby('ethnicity').img_name.count().sort_values(ascending=False))"
   ]
  },
  {
   "cell_type": "markdown",
   "metadata": {},
   "source": [
    "OBS inden dette: lav ethnicity dist for hver age group, for måske også og se hvilken der er mest balanced, og så balancér ift denne?? eller er det too much? "
   ]
  },
  {
   "cell_type": "code",
   "execution_count": 203,
   "metadata": {},
   "outputs": [
    {
     "data": {
      "text/html": [
       "<div>\n",
       "<style scoped>\n",
       "    .dataframe tbody tr th:only-of-type {\n",
       "        vertical-align: middle;\n",
       "    }\n",
       "\n",
       "    .dataframe tbody tr th {\n",
       "        vertical-align: top;\n",
       "    }\n",
       "\n",
       "    .dataframe thead th {\n",
       "        text-align: right;\n",
       "    }\n",
       "</style>\n",
       "<table border=\"1\" class=\"dataframe\">\n",
       "  <thead>\n",
       "    <tr style=\"text-align: right;\">\n",
       "      <th></th>\n",
       "      <th>img_name</th>\n",
       "      <th>Age</th>\n",
       "      <th>ethnicity</th>\n",
       "      <th>id_class</th>\n",
       "      <th>children_agegroup</th>\n",
       "      <th>im_id</th>\n",
       "      <th>face_id</th>\n",
       "    </tr>\n",
       "  </thead>\n",
       "  <tbody>\n",
       "    <tr>\n",
       "      <th>0</th>\n",
       "      <td>Caucasian_604_4</td>\n",
       "      <td>1</td>\n",
       "      <td>Caucasian</td>\n",
       "      <td>604</td>\n",
       "      <td>0-3</td>\n",
       "      <td>Caucasian_604</td>\n",
       "      <td>NaN</td>\n",
       "    </tr>\n",
       "    <tr>\n",
       "      <th>4</th>\n",
       "      <td>Caucasian_204_1</td>\n",
       "      <td>1</td>\n",
       "      <td>Caucasian</td>\n",
       "      <td>204</td>\n",
       "      <td>0-3</td>\n",
       "      <td>Caucasian_204</td>\n",
       "      <td>NaN</td>\n",
       "    </tr>\n",
       "    <tr>\n",
       "      <th>5</th>\n",
       "      <td>Asian_14_12</td>\n",
       "      <td>3</td>\n",
       "      <td>Asian</td>\n",
       "      <td>14</td>\n",
       "      <td>0-3</td>\n",
       "      <td>Asian_14</td>\n",
       "      <td>NaN</td>\n",
       "    </tr>\n",
       "    <tr>\n",
       "      <th>6</th>\n",
       "      <td>Caucasian_386_9</td>\n",
       "      <td>2</td>\n",
       "      <td>Caucasian</td>\n",
       "      <td>386</td>\n",
       "      <td>0-3</td>\n",
       "      <td>Caucasian_386</td>\n",
       "      <td>NaN</td>\n",
       "    </tr>\n",
       "    <tr>\n",
       "      <th>8</th>\n",
       "      <td>Indian_98_7</td>\n",
       "      <td>3</td>\n",
       "      <td>Indian</td>\n",
       "      <td>98</td>\n",
       "      <td>0-3</td>\n",
       "      <td>Indian_98</td>\n",
       "      <td>NaN</td>\n",
       "    </tr>\n",
       "    <tr>\n",
       "      <th>12</th>\n",
       "      <td>Caucasian_204_25</td>\n",
       "      <td>1</td>\n",
       "      <td>Caucasian</td>\n",
       "      <td>204</td>\n",
       "      <td>0-3</td>\n",
       "      <td>Caucasian_204</td>\n",
       "      <td>NaN</td>\n",
       "    </tr>\n",
       "    <tr>\n",
       "      <th>14</th>\n",
       "      <td>Asian_14_33</td>\n",
       "      <td>3</td>\n",
       "      <td>Asian</td>\n",
       "      <td>14</td>\n",
       "      <td>0-3</td>\n",
       "      <td>Asian_14</td>\n",
       "      <td>NaN</td>\n",
       "    </tr>\n",
       "    <tr>\n",
       "      <th>18</th>\n",
       "      <td>Caucasian_604_15</td>\n",
       "      <td>1</td>\n",
       "      <td>Caucasian</td>\n",
       "      <td>604</td>\n",
       "      <td>0-3</td>\n",
       "      <td>Caucasian_604</td>\n",
       "      <td>NaN</td>\n",
       "    </tr>\n",
       "    <tr>\n",
       "      <th>19</th>\n",
       "      <td>Asian_14_6</td>\n",
       "      <td>3</td>\n",
       "      <td>Asian</td>\n",
       "      <td>14</td>\n",
       "      <td>0-3</td>\n",
       "      <td>Asian_14</td>\n",
       "      <td>NaN</td>\n",
       "    </tr>\n",
       "    <tr>\n",
       "      <th>20</th>\n",
       "      <td>Caucasian_604_20</td>\n",
       "      <td>0</td>\n",
       "      <td>Caucasian</td>\n",
       "      <td>604</td>\n",
       "      <td>0-3</td>\n",
       "      <td>Caucasian_604</td>\n",
       "      <td>NaN</td>\n",
       "    </tr>\n",
       "    <tr>\n",
       "      <th>23</th>\n",
       "      <td>Caucasian_386_3</td>\n",
       "      <td>2</td>\n",
       "      <td>Caucasian</td>\n",
       "      <td>386</td>\n",
       "      <td>0-3</td>\n",
       "      <td>Caucasian_386</td>\n",
       "      <td>NaN</td>\n",
       "    </tr>\n",
       "    <tr>\n",
       "      <th>29</th>\n",
       "      <td>African_1_4</td>\n",
       "      <td>2</td>\n",
       "      <td>African</td>\n",
       "      <td>1</td>\n",
       "      <td>0-3</td>\n",
       "      <td>African_1</td>\n",
       "      <td>NaN</td>\n",
       "    </tr>\n",
       "    <tr>\n",
       "      <th>30</th>\n",
       "      <td>Asian_14_84</td>\n",
       "      <td>2</td>\n",
       "      <td>Asian</td>\n",
       "      <td>14</td>\n",
       "      <td>0-3</td>\n",
       "      <td>Asian_14</td>\n",
       "      <td>NaN</td>\n",
       "    </tr>\n",
       "  </tbody>\n",
       "</table>\n",
       "</div>"
      ],
      "text/plain": [
       "            img_name  Age  ethnicity id_class children_agegroup  \\\n",
       "0    Caucasian_604_4    1  Caucasian      604               0-3   \n",
       "4    Caucasian_204_1    1  Caucasian      204               0-3   \n",
       "5        Asian_14_12    3      Asian       14               0-3   \n",
       "6    Caucasian_386_9    2  Caucasian      386               0-3   \n",
       "8        Indian_98_7    3     Indian       98               0-3   \n",
       "12  Caucasian_204_25    1  Caucasian      204               0-3   \n",
       "14       Asian_14_33    3      Asian       14               0-3   \n",
       "18  Caucasian_604_15    1  Caucasian      604               0-3   \n",
       "19        Asian_14_6    3      Asian       14               0-3   \n",
       "20  Caucasian_604_20    0  Caucasian      604               0-3   \n",
       "23   Caucasian_386_3    2  Caucasian      386               0-3   \n",
       "29       African_1_4    2    African        1               0-3   \n",
       "30       Asian_14_84    2      Asian       14               0-3   \n",
       "\n",
       "            im_id  face_id  \n",
       "0   Caucasian_604      NaN  \n",
       "4   Caucasian_204      NaN  \n",
       "5        Asian_14      NaN  \n",
       "6   Caucasian_386      NaN  \n",
       "8       Indian_98      NaN  \n",
       "12  Caucasian_204      NaN  \n",
       "14       Asian_14      NaN  \n",
       "18  Caucasian_604      NaN  \n",
       "19       Asian_14      NaN  \n",
       "20  Caucasian_604      NaN  \n",
       "23  Caucasian_386      NaN  \n",
       "29      African_1      NaN  \n",
       "30       Asian_14      NaN  "
      ]
     },
     "execution_count": 203,
     "metadata": {},
     "output_type": "execute_result"
    }
   ],
   "source": [
    "minority_agedf"
   ]
  },
  {
   "cell_type": "code",
   "execution_count": 205,
   "metadata": {},
   "outputs": [
    {
     "data": {
      "text/html": [
       "<div>\n",
       "<style scoped>\n",
       "    .dataframe tbody tr th:only-of-type {\n",
       "        vertical-align: middle;\n",
       "    }\n",
       "\n",
       "    .dataframe tbody tr th {\n",
       "        vertical-align: top;\n",
       "    }\n",
       "\n",
       "    .dataframe thead tr th {\n",
       "        text-align: left;\n",
       "    }\n",
       "\n",
       "    .dataframe thead tr:last-of-type th {\n",
       "        text-align: right;\n",
       "    }\n",
       "</style>\n",
       "<table border=\"1\" class=\"dataframe\">\n",
       "  <thead>\n",
       "    <tr>\n",
       "      <th></th>\n",
       "      <th>img_name</th>\n",
       "    </tr>\n",
       "    <tr>\n",
       "      <th></th>\n",
       "      <th>count</th>\n",
       "    </tr>\n",
       "    <tr>\n",
       "      <th>im_id</th>\n",
       "      <th></th>\n",
       "    </tr>\n",
       "  </thead>\n",
       "  <tbody>\n",
       "    <tr>\n",
       "      <th>African_1</th>\n",
       "      <td>1</td>\n",
       "    </tr>\n",
       "    <tr>\n",
       "      <th>Asian_14</th>\n",
       "      <td>4</td>\n",
       "    </tr>\n",
       "    <tr>\n",
       "      <th>Caucasian_204</th>\n",
       "      <td>2</td>\n",
       "    </tr>\n",
       "    <tr>\n",
       "      <th>Caucasian_386</th>\n",
       "      <td>2</td>\n",
       "    </tr>\n",
       "    <tr>\n",
       "      <th>Caucasian_604</th>\n",
       "      <td>3</td>\n",
       "    </tr>\n",
       "    <tr>\n",
       "      <th>Indian_98</th>\n",
       "      <td>1</td>\n",
       "    </tr>\n",
       "  </tbody>\n",
       "</table>\n",
       "</div>"
      ],
      "text/plain": [
       "              img_name\n",
       "                 count\n",
       "im_id                 \n",
       "African_1            1\n",
       "Asian_14             4\n",
       "Caucasian_204        2\n",
       "Caucasian_386        2\n",
       "Caucasian_604        3\n",
       "Indian_98            1"
      ]
     },
     "execution_count": 205,
     "metadata": {},
     "output_type": "execute_result"
    }
   ],
   "source": [
    "# get dist of images per ID in min group\n",
    "minority_agedf.groupby(\"im_id\").agg({'img_name': ['count']})"
   ]
  },
  {
   "cell_type": "code",
   "execution_count": 206,
   "metadata": {},
   "outputs": [
    {
     "data": {
      "text/plain": [
       "img_name  count    2.166667\n",
       "dtype: float64"
      ]
     },
     "execution_count": 206,
     "metadata": {},
     "output_type": "execute_result"
    }
   ],
   "source": [
    "print(\"Average number of ims per id\")\n",
    "minority_agedf.groupby(\"im_id\").agg({'img_name': ['count']}).mean()"
   ]
  },
  {
   "cell_type": "code",
   "execution_count": 184,
   "metadata": {},
   "outputs": [],
   "source": [
    "etnicities = list(ylfw_witha.ethnicity.unique())\n",
    "\n",
    "minority_agedf = minority_agedf #REAL\n",
    "minority_agedf = ylfw_witha[ylfw_witha.children_agegroup == \"4-6\"] #WHEN SIMULATING\n",
    "\n",
    "# Save variables of frequency within each ethnicity\n",
    "minority_etnicity_dist = minority_agedf.groupby('ethnicity').img_name.count().sort_values(ascending=False)\n",
    "minority_n_ids = len(minority_agedf) # kommer automatisk at nå ca samme fordeling\n",
    "\n",
    "\n",
    "# Get this distribution of frequency in ethnicities from each age group\n",
    "ylfw_witha_balanced = minority_agedf.copy()\n",
    "for agegroup in ylfw_witha.children_agegroup.unique():\n",
    "    if agegroup != synth_min_agegroup:\n",
    "        agegroup_df = ylfw_witha[ylfw_witha.children_agegroup == agegroup]\n",
    "        nunique_ids = agegroup_df.im_id.nunique()\n",
    "        #get number of ids based on percentage dist of the minority age group\n",
    "        for e in etnicities:\n",
    "            freq_e = minority_etnicity_dist[e]\n",
    "                        \n",
    "            # randomly sample the images from the current age group from this ethnicity \n",
    "            age_ethn_df = agegroup_df[agegroup_df.ethnicity == e]\n",
    "            sample_eids = age_ethn_df.sample(n=freq_e, random_state=42)\n",
    "            \n",
    "            # add theese to the minority dataset\n",
    "            ylfw_witha_balanced = pd.concat([ylfw_witha_balanced, agegroup_df], ignore_index=True)\n",
    "    \n",
    "        \n",
    " "
   ]
  },
  {
   "cell_type": "markdown",
   "metadata": {},
   "source": [
    "## 2. Balance Data in adult group and children's group\n",
    "\n",
    "\n",
    "OBS: Også mht race?"
   ]
  },
  {
   "cell_type": "code",
   "execution_count": 185,
   "metadata": {},
   "outputs": [
    {
     "ename": "TypeError",
     "evalue": "'int' object is not iterable",
     "output_type": "error",
     "traceback": [
      "\u001b[0;31m---------------------------------------------------------------------------\u001b[0m",
      "\u001b[0;31mTypeError\u001b[0m                                 Traceback (most recent call last)",
      "Cell \u001b[0;32mIn[185], line 10\u001b[0m\n\u001b[1;32m      8\u001b[0m \u001b[38;5;66;03m# random sample same numebr of ids from the adult dataset\u001b[39;00m\n\u001b[1;32m      9\u001b[0m a_ids \u001b[38;5;241m=\u001b[39m a_df\u001b[38;5;241m.\u001b[39mim_id\u001b[38;5;241m.\u001b[39mnunique()\n\u001b[0;32m---> 10\u001b[0m a_sample_ids \u001b[38;5;241m=\u001b[39m random\u001b[38;5;241m.\u001b[39msample(\u001b[38;5;28;43mlist\u001b[39;49m\u001b[43m(\u001b[49m\u001b[43ma_ids\u001b[49m\u001b[43m)\u001b[49m, n_young_sample_ids)\n\u001b[1;32m     12\u001b[0m \u001b[38;5;66;03m# new adult's age agroup\u001b[39;00m\n\u001b[1;32m     13\u001b[0m sample_eids_df \u001b[38;5;241m=\u001b[39m agegroup_df[agegroup_df\u001b[38;5;241m.\u001b[39mim_id\u001b[38;5;241m.\u001b[39misin(sample_eids)]\n",
      "\u001b[0;31mTypeError\u001b[0m: 'int' object is not iterable"
     ]
    }
   ],
   "source": [
    "# lets say theres 20 ids in young age group\n",
    "\n",
    "n_young_sample_ids = ylfw_witha_balanced.im_id.nunique()\n",
    "\n",
    "a_df = pd.read_csv('../data/raw/RLFW_mini/raw_rfw_df.csv') \n",
    "a_df = a_df[a_df.Age < 18]\n",
    "\n",
    "# random sample same numebr of ids from the adult dataset\n",
    "a_ids = a_df.im_id.nunique()\n",
    "a_sample_ids = random.sample(list(a_ids), n_young_sample_ids)\n",
    "\n",
    "# new adult's age agroup\n",
    "sample_eids_df = agegroup_df[agegroup_df.im_id.isin(sample_eids)]\n",
    "\n",
    "print(\"N ids in young age group: \", n_young_sample_ids, \"\\nN ids in adult age group: \", len(a_sample_ids))\n",
    "\n",
    "\n",
    "\n"
   ]
  },
  {
   "cell_type": "code",
   "execution_count": null,
   "metadata": {},
   "outputs": [],
   "source": []
  }
 ],
 "metadata": {
  "kernelspec": {
   "display_name": "best_master",
   "language": "python",
   "name": "python3"
  },
  "language_info": {
   "codemirror_mode": {
    "name": "ipython",
    "version": 3
   },
   "file_extension": ".py",
   "mimetype": "text/x-python",
   "name": "python",
   "nbconvert_exporter": "python",
   "pygments_lexer": "ipython3",
   "version": "3.11.8"
  }
 },
 "nbformat": 4,
 "nbformat_minor": 2
}
