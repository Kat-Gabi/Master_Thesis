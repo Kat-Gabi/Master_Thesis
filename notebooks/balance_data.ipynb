{
 "cells": [
  {
   "cell_type": "markdown",
   "metadata": {},
   "source": [
    "## 1. Balance Age groups in YLFW (undersampling)"
   ]
  },
  {
   "cell_type": "code",
   "execution_count": 7,
   "metadata": {},
   "outputs": [],
   "source": [
    "import pandas as pd\n",
    "import seaborn as sns\n",
    "sns.set()\n",
    "import random\n",
    "random.seed(42)\n"
   ]
  },
  {
   "cell_type": "markdown",
   "metadata": {},
   "source": [
    "### 1.1 Young Group"
   ]
  },
  {
   "cell_type": "code",
   "execution_count": 8,
   "metadata": {},
   "outputs": [
    {
     "ename": "FileNotFoundError",
     "evalue": "[Errno 2] No such file or directory: '../data/raw_full/YLFW/raw_ylfw_df.csv'",
     "output_type": "error",
     "traceback": [
      "\u001b[0;31m---------------------------------------------------------------------------\u001b[0m",
      "\u001b[0;31mFileNotFoundError\u001b[0m                         Traceback (most recent call last)",
      "Cell \u001b[0;32mIn[8], line 1\u001b[0m\n\u001b[0;32m----> 1\u001b[0m y_df \u001b[38;5;241m=\u001b[39m \u001b[43mpd\u001b[49m\u001b[38;5;241;43m.\u001b[39;49m\u001b[43mread_csv\u001b[49m\u001b[43m(\u001b[49m\u001b[38;5;124;43m'\u001b[39;49m\u001b[38;5;124;43m../data/raw_full/YLFW/raw_ylfw_df.csv\u001b[39;49m\u001b[38;5;124;43m'\u001b[39;49m\u001b[43m)\u001b[49m\n",
      "File \u001b[0;32m~/.local/lib/python3.10/site-packages/pandas/util/_decorators.py:311\u001b[0m, in \u001b[0;36mdeprecate_nonkeyword_arguments.<locals>.decorate.<locals>.wrapper\u001b[0;34m(*args, **kwargs)\u001b[0m\n\u001b[1;32m    305\u001b[0m \u001b[38;5;28;01mif\u001b[39;00m \u001b[38;5;28mlen\u001b[39m(args) \u001b[38;5;241m>\u001b[39m num_allow_args:\n\u001b[1;32m    306\u001b[0m     warnings\u001b[38;5;241m.\u001b[39mwarn(\n\u001b[1;32m    307\u001b[0m         msg\u001b[38;5;241m.\u001b[39mformat(arguments\u001b[38;5;241m=\u001b[39marguments),\n\u001b[1;32m    308\u001b[0m         \u001b[38;5;167;01mFutureWarning\u001b[39;00m,\n\u001b[1;32m    309\u001b[0m         stacklevel\u001b[38;5;241m=\u001b[39mstacklevel,\n\u001b[1;32m    310\u001b[0m     )\n\u001b[0;32m--> 311\u001b[0m \u001b[38;5;28;01mreturn\u001b[39;00m \u001b[43mfunc\u001b[49m\u001b[43m(\u001b[49m\u001b[38;5;241;43m*\u001b[39;49m\u001b[43margs\u001b[49m\u001b[43m,\u001b[49m\u001b[43m \u001b[49m\u001b[38;5;241;43m*\u001b[39;49m\u001b[38;5;241;43m*\u001b[39;49m\u001b[43mkwargs\u001b[49m\u001b[43m)\u001b[49m\n",
      "File \u001b[0;32m~/.local/lib/python3.10/site-packages/pandas/io/parsers/readers.py:678\u001b[0m, in \u001b[0;36mread_csv\u001b[0;34m(filepath_or_buffer, sep, delimiter, header, names, index_col, usecols, squeeze, prefix, mangle_dupe_cols, dtype, engine, converters, true_values, false_values, skipinitialspace, skiprows, skipfooter, nrows, na_values, keep_default_na, na_filter, verbose, skip_blank_lines, parse_dates, infer_datetime_format, keep_date_col, date_parser, dayfirst, cache_dates, iterator, chunksize, compression, thousands, decimal, lineterminator, quotechar, quoting, doublequote, escapechar, comment, encoding, encoding_errors, dialect, error_bad_lines, warn_bad_lines, on_bad_lines, delim_whitespace, low_memory, memory_map, float_precision, storage_options)\u001b[0m\n\u001b[1;32m    663\u001b[0m kwds_defaults \u001b[38;5;241m=\u001b[39m _refine_defaults_read(\n\u001b[1;32m    664\u001b[0m     dialect,\n\u001b[1;32m    665\u001b[0m     delimiter,\n\u001b[0;32m   (...)\u001b[0m\n\u001b[1;32m    674\u001b[0m     defaults\u001b[38;5;241m=\u001b[39m{\u001b[38;5;124m\"\u001b[39m\u001b[38;5;124mdelimiter\u001b[39m\u001b[38;5;124m\"\u001b[39m: \u001b[38;5;124m\"\u001b[39m\u001b[38;5;124m,\u001b[39m\u001b[38;5;124m\"\u001b[39m},\n\u001b[1;32m    675\u001b[0m )\n\u001b[1;32m    676\u001b[0m kwds\u001b[38;5;241m.\u001b[39mupdate(kwds_defaults)\n\u001b[0;32m--> 678\u001b[0m \u001b[38;5;28;01mreturn\u001b[39;00m \u001b[43m_read\u001b[49m\u001b[43m(\u001b[49m\u001b[43mfilepath_or_buffer\u001b[49m\u001b[43m,\u001b[49m\u001b[43m \u001b[49m\u001b[43mkwds\u001b[49m\u001b[43m)\u001b[49m\n",
      "File \u001b[0;32m~/.local/lib/python3.10/site-packages/pandas/io/parsers/readers.py:575\u001b[0m, in \u001b[0;36m_read\u001b[0;34m(filepath_or_buffer, kwds)\u001b[0m\n\u001b[1;32m    572\u001b[0m _validate_names(kwds\u001b[38;5;241m.\u001b[39mget(\u001b[38;5;124m\"\u001b[39m\u001b[38;5;124mnames\u001b[39m\u001b[38;5;124m\"\u001b[39m, \u001b[38;5;28;01mNone\u001b[39;00m))\n\u001b[1;32m    574\u001b[0m \u001b[38;5;66;03m# Create the parser.\u001b[39;00m\n\u001b[0;32m--> 575\u001b[0m parser \u001b[38;5;241m=\u001b[39m \u001b[43mTextFileReader\u001b[49m\u001b[43m(\u001b[49m\u001b[43mfilepath_or_buffer\u001b[49m\u001b[43m,\u001b[49m\u001b[43m \u001b[49m\u001b[38;5;241;43m*\u001b[39;49m\u001b[38;5;241;43m*\u001b[39;49m\u001b[43mkwds\u001b[49m\u001b[43m)\u001b[49m\n\u001b[1;32m    577\u001b[0m \u001b[38;5;28;01mif\u001b[39;00m chunksize \u001b[38;5;129;01mor\u001b[39;00m iterator:\n\u001b[1;32m    578\u001b[0m     \u001b[38;5;28;01mreturn\u001b[39;00m parser\n",
      "File \u001b[0;32m~/.local/lib/python3.10/site-packages/pandas/io/parsers/readers.py:932\u001b[0m, in \u001b[0;36mTextFileReader.__init__\u001b[0;34m(self, f, engine, **kwds)\u001b[0m\n\u001b[1;32m    929\u001b[0m     \u001b[38;5;28mself\u001b[39m\u001b[38;5;241m.\u001b[39moptions[\u001b[38;5;124m\"\u001b[39m\u001b[38;5;124mhas_index_names\u001b[39m\u001b[38;5;124m\"\u001b[39m] \u001b[38;5;241m=\u001b[39m kwds[\u001b[38;5;124m\"\u001b[39m\u001b[38;5;124mhas_index_names\u001b[39m\u001b[38;5;124m\"\u001b[39m]\n\u001b[1;32m    931\u001b[0m \u001b[38;5;28mself\u001b[39m\u001b[38;5;241m.\u001b[39mhandles: IOHandles \u001b[38;5;241m|\u001b[39m \u001b[38;5;28;01mNone\u001b[39;00m \u001b[38;5;241m=\u001b[39m \u001b[38;5;28;01mNone\u001b[39;00m\n\u001b[0;32m--> 932\u001b[0m \u001b[38;5;28mself\u001b[39m\u001b[38;5;241m.\u001b[39m_engine \u001b[38;5;241m=\u001b[39m \u001b[38;5;28;43mself\u001b[39;49m\u001b[38;5;241;43m.\u001b[39;49m\u001b[43m_make_engine\u001b[49m\u001b[43m(\u001b[49m\u001b[43mf\u001b[49m\u001b[43m,\u001b[49m\u001b[43m \u001b[49m\u001b[38;5;28;43mself\u001b[39;49m\u001b[38;5;241;43m.\u001b[39;49m\u001b[43mengine\u001b[49m\u001b[43m)\u001b[49m\n",
      "File \u001b[0;32m~/.local/lib/python3.10/site-packages/pandas/io/parsers/readers.py:1216\u001b[0m, in \u001b[0;36mTextFileReader._make_engine\u001b[0;34m(self, f, engine)\u001b[0m\n\u001b[1;32m   1212\u001b[0m     mode \u001b[38;5;241m=\u001b[39m \u001b[38;5;124m\"\u001b[39m\u001b[38;5;124mrb\u001b[39m\u001b[38;5;124m\"\u001b[39m\n\u001b[1;32m   1213\u001b[0m \u001b[38;5;66;03m# error: No overload variant of \"get_handle\" matches argument types\u001b[39;00m\n\u001b[1;32m   1214\u001b[0m \u001b[38;5;66;03m# \"Union[str, PathLike[str], ReadCsvBuffer[bytes], ReadCsvBuffer[str]]\"\u001b[39;00m\n\u001b[1;32m   1215\u001b[0m \u001b[38;5;66;03m# , \"str\", \"bool\", \"Any\", \"Any\", \"Any\", \"Any\", \"Any\"\u001b[39;00m\n\u001b[0;32m-> 1216\u001b[0m \u001b[38;5;28mself\u001b[39m\u001b[38;5;241m.\u001b[39mhandles \u001b[38;5;241m=\u001b[39m \u001b[43mget_handle\u001b[49m\u001b[43m(\u001b[49m\u001b[43m  \u001b[49m\u001b[38;5;66;43;03m# type: ignore[call-overload]\u001b[39;49;00m\n\u001b[1;32m   1217\u001b[0m \u001b[43m    \u001b[49m\u001b[43mf\u001b[49m\u001b[43m,\u001b[49m\n\u001b[1;32m   1218\u001b[0m \u001b[43m    \u001b[49m\u001b[43mmode\u001b[49m\u001b[43m,\u001b[49m\n\u001b[1;32m   1219\u001b[0m \u001b[43m    \u001b[49m\u001b[43mencoding\u001b[49m\u001b[38;5;241;43m=\u001b[39;49m\u001b[38;5;28;43mself\u001b[39;49m\u001b[38;5;241;43m.\u001b[39;49m\u001b[43moptions\u001b[49m\u001b[38;5;241;43m.\u001b[39;49m\u001b[43mget\u001b[49m\u001b[43m(\u001b[49m\u001b[38;5;124;43m\"\u001b[39;49m\u001b[38;5;124;43mencoding\u001b[39;49m\u001b[38;5;124;43m\"\u001b[39;49m\u001b[43m,\u001b[49m\u001b[43m \u001b[49m\u001b[38;5;28;43;01mNone\u001b[39;49;00m\u001b[43m)\u001b[49m\u001b[43m,\u001b[49m\n\u001b[1;32m   1220\u001b[0m \u001b[43m    \u001b[49m\u001b[43mcompression\u001b[49m\u001b[38;5;241;43m=\u001b[39;49m\u001b[38;5;28;43mself\u001b[39;49m\u001b[38;5;241;43m.\u001b[39;49m\u001b[43moptions\u001b[49m\u001b[38;5;241;43m.\u001b[39;49m\u001b[43mget\u001b[49m\u001b[43m(\u001b[49m\u001b[38;5;124;43m\"\u001b[39;49m\u001b[38;5;124;43mcompression\u001b[39;49m\u001b[38;5;124;43m\"\u001b[39;49m\u001b[43m,\u001b[49m\u001b[43m \u001b[49m\u001b[38;5;28;43;01mNone\u001b[39;49;00m\u001b[43m)\u001b[49m\u001b[43m,\u001b[49m\n\u001b[1;32m   1221\u001b[0m \u001b[43m    \u001b[49m\u001b[43mmemory_map\u001b[49m\u001b[38;5;241;43m=\u001b[39;49m\u001b[38;5;28;43mself\u001b[39;49m\u001b[38;5;241;43m.\u001b[39;49m\u001b[43moptions\u001b[49m\u001b[38;5;241;43m.\u001b[39;49m\u001b[43mget\u001b[49m\u001b[43m(\u001b[49m\u001b[38;5;124;43m\"\u001b[39;49m\u001b[38;5;124;43mmemory_map\u001b[39;49m\u001b[38;5;124;43m\"\u001b[39;49m\u001b[43m,\u001b[49m\u001b[43m \u001b[49m\u001b[38;5;28;43;01mFalse\u001b[39;49;00m\u001b[43m)\u001b[49m\u001b[43m,\u001b[49m\n\u001b[1;32m   1222\u001b[0m \u001b[43m    \u001b[49m\u001b[43mis_text\u001b[49m\u001b[38;5;241;43m=\u001b[39;49m\u001b[43mis_text\u001b[49m\u001b[43m,\u001b[49m\n\u001b[1;32m   1223\u001b[0m \u001b[43m    \u001b[49m\u001b[43merrors\u001b[49m\u001b[38;5;241;43m=\u001b[39;49m\u001b[38;5;28;43mself\u001b[39;49m\u001b[38;5;241;43m.\u001b[39;49m\u001b[43moptions\u001b[49m\u001b[38;5;241;43m.\u001b[39;49m\u001b[43mget\u001b[49m\u001b[43m(\u001b[49m\u001b[38;5;124;43m\"\u001b[39;49m\u001b[38;5;124;43mencoding_errors\u001b[39;49m\u001b[38;5;124;43m\"\u001b[39;49m\u001b[43m,\u001b[49m\u001b[43m \u001b[49m\u001b[38;5;124;43m\"\u001b[39;49m\u001b[38;5;124;43mstrict\u001b[39;49m\u001b[38;5;124;43m\"\u001b[39;49m\u001b[43m)\u001b[49m\u001b[43m,\u001b[49m\n\u001b[1;32m   1224\u001b[0m \u001b[43m    \u001b[49m\u001b[43mstorage_options\u001b[49m\u001b[38;5;241;43m=\u001b[39;49m\u001b[38;5;28;43mself\u001b[39;49m\u001b[38;5;241;43m.\u001b[39;49m\u001b[43moptions\u001b[49m\u001b[38;5;241;43m.\u001b[39;49m\u001b[43mget\u001b[49m\u001b[43m(\u001b[49m\u001b[38;5;124;43m\"\u001b[39;49m\u001b[38;5;124;43mstorage_options\u001b[39;49m\u001b[38;5;124;43m\"\u001b[39;49m\u001b[43m,\u001b[49m\u001b[43m \u001b[49m\u001b[38;5;28;43;01mNone\u001b[39;49;00m\u001b[43m)\u001b[49m\u001b[43m,\u001b[49m\n\u001b[1;32m   1225\u001b[0m \u001b[43m\u001b[49m\u001b[43m)\u001b[49m\n\u001b[1;32m   1226\u001b[0m \u001b[38;5;28;01massert\u001b[39;00m \u001b[38;5;28mself\u001b[39m\u001b[38;5;241m.\u001b[39mhandles \u001b[38;5;129;01mis\u001b[39;00m \u001b[38;5;129;01mnot\u001b[39;00m \u001b[38;5;28;01mNone\u001b[39;00m\n\u001b[1;32m   1227\u001b[0m f \u001b[38;5;241m=\u001b[39m \u001b[38;5;28mself\u001b[39m\u001b[38;5;241m.\u001b[39mhandles\u001b[38;5;241m.\u001b[39mhandle\n",
      "File \u001b[0;32m~/.local/lib/python3.10/site-packages/pandas/io/common.py:786\u001b[0m, in \u001b[0;36mget_handle\u001b[0;34m(path_or_buf, mode, encoding, compression, memory_map, is_text, errors, storage_options)\u001b[0m\n\u001b[1;32m    781\u001b[0m \u001b[38;5;28;01melif\u001b[39;00m \u001b[38;5;28misinstance\u001b[39m(handle, \u001b[38;5;28mstr\u001b[39m):\n\u001b[1;32m    782\u001b[0m     \u001b[38;5;66;03m# Check whether the filename is to be opened in binary mode.\u001b[39;00m\n\u001b[1;32m    783\u001b[0m     \u001b[38;5;66;03m# Binary mode does not support 'encoding' and 'newline'.\u001b[39;00m\n\u001b[1;32m    784\u001b[0m     \u001b[38;5;28;01mif\u001b[39;00m ioargs\u001b[38;5;241m.\u001b[39mencoding \u001b[38;5;129;01mand\u001b[39;00m \u001b[38;5;124m\"\u001b[39m\u001b[38;5;124mb\u001b[39m\u001b[38;5;124m\"\u001b[39m \u001b[38;5;129;01mnot\u001b[39;00m \u001b[38;5;129;01min\u001b[39;00m ioargs\u001b[38;5;241m.\u001b[39mmode:\n\u001b[1;32m    785\u001b[0m         \u001b[38;5;66;03m# Encoding\u001b[39;00m\n\u001b[0;32m--> 786\u001b[0m         handle \u001b[38;5;241m=\u001b[39m \u001b[38;5;28;43mopen\u001b[39;49m\u001b[43m(\u001b[49m\n\u001b[1;32m    787\u001b[0m \u001b[43m            \u001b[49m\u001b[43mhandle\u001b[49m\u001b[43m,\u001b[49m\n\u001b[1;32m    788\u001b[0m \u001b[43m            \u001b[49m\u001b[43mioargs\u001b[49m\u001b[38;5;241;43m.\u001b[39;49m\u001b[43mmode\u001b[49m\u001b[43m,\u001b[49m\n\u001b[1;32m    789\u001b[0m \u001b[43m            \u001b[49m\u001b[43mencoding\u001b[49m\u001b[38;5;241;43m=\u001b[39;49m\u001b[43mioargs\u001b[49m\u001b[38;5;241;43m.\u001b[39;49m\u001b[43mencoding\u001b[49m\u001b[43m,\u001b[49m\n\u001b[1;32m    790\u001b[0m \u001b[43m            \u001b[49m\u001b[43merrors\u001b[49m\u001b[38;5;241;43m=\u001b[39;49m\u001b[43merrors\u001b[49m\u001b[43m,\u001b[49m\n\u001b[1;32m    791\u001b[0m \u001b[43m            \u001b[49m\u001b[43mnewline\u001b[49m\u001b[38;5;241;43m=\u001b[39;49m\u001b[38;5;124;43m\"\u001b[39;49m\u001b[38;5;124;43m\"\u001b[39;49m\u001b[43m,\u001b[49m\n\u001b[1;32m    792\u001b[0m \u001b[43m        \u001b[49m\u001b[43m)\u001b[49m\n\u001b[1;32m    793\u001b[0m     \u001b[38;5;28;01melse\u001b[39;00m:\n\u001b[1;32m    794\u001b[0m         \u001b[38;5;66;03m# Binary mode\u001b[39;00m\n\u001b[1;32m    795\u001b[0m         handle \u001b[38;5;241m=\u001b[39m \u001b[38;5;28mopen\u001b[39m(handle, ioargs\u001b[38;5;241m.\u001b[39mmode)\n",
      "\u001b[0;31mFileNotFoundError\u001b[0m: [Errno 2] No such file or directory: '../data/raw_full/YLFW/raw_ylfw_df.csv'"
     ]
    }
   ],
   "source": [
    "y_df = pd.read_csv('../data/raw_full/YLFW/raw_ylfw_df.csv')"
   ]
  },
  {
   "cell_type": "code",
   "execution_count": 52,
   "metadata": {},
   "outputs": [
    {
     "data": {
      "text/html": [
       "<div>\n",
       "<style scoped>\n",
       "    .dataframe tbody tr th:only-of-type {\n",
       "        vertical-align: middle;\n",
       "    }\n",
       "\n",
       "    .dataframe tbody tr th {\n",
       "        vertical-align: top;\n",
       "    }\n",
       "\n",
       "    .dataframe thead tr th {\n",
       "        text-align: left;\n",
       "    }\n",
       "</style>\n",
       "<table border=\"1\" class=\"dataframe\">\n",
       "  <thead>\n",
       "    <tr>\n",
       "      <th></th>\n",
       "      <th>img_name</th>\n",
       "    </tr>\n",
       "    <tr>\n",
       "      <th></th>\n",
       "      <th>count</th>\n",
       "    </tr>\n",
       "  </thead>\n",
       "  <tbody>\n",
       "    <tr>\n",
       "      <th>count</th>\n",
       "      <td>955.000000</td>\n",
       "    </tr>\n",
       "    <tr>\n",
       "      <th>mean</th>\n",
       "      <td>1.732984</td>\n",
       "    </tr>\n",
       "    <tr>\n",
       "      <th>std</th>\n",
       "      <td>1.136820</td>\n",
       "    </tr>\n",
       "    <tr>\n",
       "      <th>min</th>\n",
       "      <td>1.000000</td>\n",
       "    </tr>\n",
       "    <tr>\n",
       "      <th>25%</th>\n",
       "      <td>1.000000</td>\n",
       "    </tr>\n",
       "    <tr>\n",
       "      <th>50%</th>\n",
       "      <td>1.000000</td>\n",
       "    </tr>\n",
       "    <tr>\n",
       "      <th>75%</th>\n",
       "      <td>2.000000</td>\n",
       "    </tr>\n",
       "    <tr>\n",
       "      <th>max</th>\n",
       "      <td>11.000000</td>\n",
       "    </tr>\n",
       "  </tbody>\n",
       "</table>\n",
       "</div>"
      ],
      "text/plain": [
       "         img_name\n",
       "            count\n",
       "count  955.000000\n",
       "mean     1.732984\n",
       "std      1.136820\n",
       "min      1.000000\n",
       "25%      1.000000\n",
       "50%      1.000000\n",
       "75%      2.000000\n",
       "max     11.000000"
      ]
     },
     "execution_count": 52,
     "metadata": {},
     "output_type": "execute_result"
    }
   ],
   "source": [
    "y_df[y_df.children_agegroup == \"7-9\"].groupby(\"im_id\").agg({'img_name': ['count']}).describe()"
   ]
  },
  {
   "cell_type": "code",
   "execution_count": 3,
   "metadata": {},
   "outputs": [
    {
     "data": {
      "text/plain": [
       "9229"
      ]
     },
     "execution_count": 3,
     "metadata": {},
     "output_type": "execute_result"
    }
   ],
   "source": [
    "len(y_df)"
   ]
  },
  {
   "cell_type": "code",
   "execution_count": 4,
   "metadata": {},
   "outputs": [
    {
     "data": {
      "text/plain": [
       "count    9229.000000\n",
       "mean        8.412829\n",
       "std         7.504623\n",
       "min         0.000000\n",
       "25%         3.000000\n",
       "50%         6.000000\n",
       "75%        11.000000\n",
       "max        42.000000\n",
       "Name: Age, dtype: float64"
      ]
     },
     "execution_count": 4,
     "metadata": {},
     "output_type": "execute_result"
    }
   ],
   "source": [
    "y_df.Age.describe()"
   ]
  },
  {
   "cell_type": "code",
   "execution_count": 5,
   "metadata": {},
   "outputs": [
    {
     "data": {
      "text/plain": [
       "children_agegroup\n",
       "0-3      2665\n",
       "4-6      2068\n",
       "7-9      1655\n",
       "10-12     923\n",
       "13-15     459\n",
       "16-18     383\n",
       "Name: count, dtype: int64"
      ]
     },
     "execution_count": 5,
     "metadata": {},
     "output_type": "execute_result"
    }
   ],
   "source": [
    "y_df[\"children_agegroup\"].value_counts()"
   ]
  },
  {
   "cell_type": "markdown",
   "metadata": {},
   "source": [
    "### 1.2 Adult Group"
   ]
  },
  {
   "cell_type": "code",
   "execution_count": 6,
   "metadata": {},
   "outputs": [],
   "source": [
    "a_df = pd.read_csv('../data/raw_full/RLFW/raw_rfw_df.csv')"
   ]
  },
  {
   "cell_type": "code",
   "execution_count": 7,
   "metadata": {},
   "outputs": [
    {
     "data": {
      "text/plain": [
       "40411"
      ]
     },
     "execution_count": 7,
     "metadata": {},
     "output_type": "execute_result"
    }
   ],
   "source": [
    "len(a_df)"
   ]
  },
  {
   "cell_type": "code",
   "execution_count": 8,
   "metadata": {},
   "outputs": [
    {
     "data": {
      "text/plain": [
       "Age\n",
       "26    1638\n",
       "27    1622\n",
       "25    1609\n",
       "28    1505\n",
       "24    1476\n",
       "      ... \n",
       "2        2\n",
       "3        2\n",
       "85       2\n",
       "88       1\n",
       "90       1\n",
       "Name: count, Length: 87, dtype: int64"
      ]
     },
     "execution_count": 8,
     "metadata": {},
     "output_type": "execute_result"
    }
   ],
   "source": [
    "a_df.Age.value_counts()"
   ]
  },
  {
   "cell_type": "code",
   "execution_count": 9,
   "metadata": {},
   "outputs": [
    {
     "data": {
      "text/plain": [
       "children_agegroup\n",
       "16-18    452\n",
       "13-15     92\n",
       "10-12     82\n",
       "7-9       44\n",
       "4-6       24\n",
       "0-3        4\n",
       "Name: count, dtype: int64"
      ]
     },
     "execution_count": 9,
     "metadata": {},
     "output_type": "execute_result"
    }
   ],
   "source": [
    "# Add childrens age group to adult data\n",
    "# Ensure 'Age' is of type integer\n",
    "a_df['Age'] = a_df['Age'].astype(int)\n",
    "\n",
    "# Define the age groups and corresponding labels\n",
    "age_bins = [0, 4, 7, 10, 13, 16, 19]  # adding one more bin for 16-18\n",
    "age_labels = ['0-3', '4-6', '7-9', '10-12', '13-15', '16-18']\n",
    "\n",
    "# Update the DataFrame with age groupings\n",
    "a_df['children_agegroup'] = pd.cut(a_df['Age'], bins=age_bins, labels=age_labels, right=False)\n",
    "a_df[\"children_agegroup\"].value_counts()\n"
   ]
  },
  {
   "cell_type": "code",
   "execution_count": null,
   "metadata": {},
   "outputs": [],
   "source": [
    "a_df[\"children_agegroup\"].isnsa"
   ]
  },
  {
   "cell_type": "markdown",
   "metadata": {},
   "source": [
    "### 3. Transfer childrens age groups in a_df to y_df"
   ]
  },
  {
   "cell_type": "code",
   "execution_count": 10,
   "metadata": {},
   "outputs": [],
   "source": [
    "a_data_children_agegroup = a_df[a_df.children_agegroup.notnull()]"
   ]
  },
  {
   "cell_type": "code",
   "execution_count": 63,
   "metadata": {},
   "outputs": [
    {
     "data": {
      "text/plain": [
       "(img_name, count)\n",
       "1                    263\n",
       "2                     81\n",
       "3                     49\n",
       "4                     26\n",
       "5                      3\n",
       "7                      1\n",
       "Name: count, dtype: int64"
      ]
     },
     "execution_count": 63,
     "metadata": {},
     "output_type": "execute_result"
    }
   ],
   "source": [
    "a_data_children_agegroup.groupby(\"im_id\").agg({'img_name': ['count']}).value_counts()"
   ]
  },
  {
   "cell_type": "code",
   "execution_count": 12,
   "metadata": {},
   "outputs": [
    {
     "data": {
      "text/html": [
       "<div>\n",
       "<style scoped>\n",
       "    .dataframe tbody tr th:only-of-type {\n",
       "        vertical-align: middle;\n",
       "    }\n",
       "\n",
       "    .dataframe tbody tr th {\n",
       "        vertical-align: top;\n",
       "    }\n",
       "\n",
       "    .dataframe thead th {\n",
       "        text-align: right;\n",
       "    }\n",
       "</style>\n",
       "<table border=\"1\" class=\"dataframe\">\n",
       "  <thead>\n",
       "    <tr style=\"text-align: right;\">\n",
       "      <th></th>\n",
       "      <th>img_name</th>\n",
       "      <th>Age</th>\n",
       "      <th>ethnicity</th>\n",
       "      <th>id_class</th>\n",
       "      <th>children_agegroup</th>\n",
       "      <th>im_id</th>\n",
       "      <th>img_org_name</th>\n",
       "      <th>face_id</th>\n",
       "    </tr>\n",
       "  </thead>\n",
       "  <tbody>\n",
       "    <tr>\n",
       "      <th>9917</th>\n",
       "      <td>m.02qpxkm</td>\n",
       "      <td>18</td>\n",
       "      <td>Asian</td>\n",
       "      <td>02qpxkm</td>\n",
       "      <td>16-18</td>\n",
       "      <td>02qpxkm</td>\n",
       "      <td>m.02qpxkm_0004</td>\n",
       "      <td>4.0</td>\n",
       "    </tr>\n",
       "    <tr>\n",
       "      <th>9918</th>\n",
       "      <td>m.01m49_z</td>\n",
       "      <td>14</td>\n",
       "      <td>Asian</td>\n",
       "      <td>01m49_z</td>\n",
       "      <td>13-15</td>\n",
       "      <td>01m49_z</td>\n",
       "      <td>m.01m49_z_0001</td>\n",
       "      <td>1.0</td>\n",
       "    </tr>\n",
       "    <tr>\n",
       "      <th>9919</th>\n",
       "      <td>m.0sgqn7h</td>\n",
       "      <td>9</td>\n",
       "      <td>Asian</td>\n",
       "      <td>0sgqn7h</td>\n",
       "      <td>7-9</td>\n",
       "      <td>0sgqn7h</td>\n",
       "      <td>m.0sgqn7h_0003</td>\n",
       "      <td>3.0</td>\n",
       "    </tr>\n",
       "    <tr>\n",
       "      <th>9920</th>\n",
       "      <td>m.0sgqn7h</td>\n",
       "      <td>17</td>\n",
       "      <td>Asian</td>\n",
       "      <td>0sgqn7h</td>\n",
       "      <td>16-18</td>\n",
       "      <td>0sgqn7h</td>\n",
       "      <td>m.0sgqn7h_0002</td>\n",
       "      <td>2.0</td>\n",
       "    </tr>\n",
       "    <tr>\n",
       "      <th>9921</th>\n",
       "      <td>m.0knwxrc</td>\n",
       "      <td>16</td>\n",
       "      <td>Asian</td>\n",
       "      <td>0knwxrc</td>\n",
       "      <td>16-18</td>\n",
       "      <td>0knwxrc</td>\n",
       "      <td>m.0knwxrc_0001</td>\n",
       "      <td>1.0</td>\n",
       "    </tr>\n",
       "    <tr>\n",
       "      <th>9922</th>\n",
       "      <td>m.0d5060</td>\n",
       "      <td>18</td>\n",
       "      <td>Asian</td>\n",
       "      <td>0d5060</td>\n",
       "      <td>16-18</td>\n",
       "      <td>0d5060</td>\n",
       "      <td>m.0d5060_0004</td>\n",
       "      <td>4.0</td>\n",
       "    </tr>\n",
       "    <tr>\n",
       "      <th>9923</th>\n",
       "      <td>m.0d5060</td>\n",
       "      <td>18</td>\n",
       "      <td>Asian</td>\n",
       "      <td>0d5060</td>\n",
       "      <td>16-18</td>\n",
       "      <td>0d5060</td>\n",
       "      <td>m.0d5060_0002</td>\n",
       "      <td>2.0</td>\n",
       "    </tr>\n",
       "    <tr>\n",
       "      <th>9924</th>\n",
       "      <td>m.05mz42q</td>\n",
       "      <td>18</td>\n",
       "      <td>Asian</td>\n",
       "      <td>05mz42q</td>\n",
       "      <td>16-18</td>\n",
       "      <td>05mz42q</td>\n",
       "      <td>m.05mz42q_0002</td>\n",
       "      <td>2.0</td>\n",
       "    </tr>\n",
       "    <tr>\n",
       "      <th>9925</th>\n",
       "      <td>m.0rpfv5x</td>\n",
       "      <td>17</td>\n",
       "      <td>Asian</td>\n",
       "      <td>0rpfv5x</td>\n",
       "      <td>16-18</td>\n",
       "      <td>0rpfv5x</td>\n",
       "      <td>m.0rpfv5x_0004</td>\n",
       "      <td>4.0</td>\n",
       "    </tr>\n",
       "    <tr>\n",
       "      <th>9926</th>\n",
       "      <td>m.048t9m</td>\n",
       "      <td>18</td>\n",
       "      <td>Asian</td>\n",
       "      <td>048t9m</td>\n",
       "      <td>16-18</td>\n",
       "      <td>048t9m</td>\n",
       "      <td>m.048t9m_0002</td>\n",
       "      <td>2.0</td>\n",
       "    </tr>\n",
       "  </tbody>\n",
       "</table>\n",
       "</div>"
      ],
      "text/plain": [
       "       img_name  Age ethnicity id_class children_agegroup    im_id  \\\n",
       "9917  m.02qpxkm   18     Asian  02qpxkm             16-18  02qpxkm   \n",
       "9918  m.01m49_z   14     Asian  01m49_z             13-15  01m49_z   \n",
       "9919  m.0sgqn7h    9     Asian  0sgqn7h               7-9  0sgqn7h   \n",
       "9920  m.0sgqn7h   17     Asian  0sgqn7h             16-18  0sgqn7h   \n",
       "9921  m.0knwxrc   16     Asian  0knwxrc             16-18  0knwxrc   \n",
       "9922   m.0d5060   18     Asian   0d5060             16-18   0d5060   \n",
       "9923   m.0d5060   18     Asian   0d5060             16-18   0d5060   \n",
       "9924  m.05mz42q   18     Asian  05mz42q             16-18  05mz42q   \n",
       "9925  m.0rpfv5x   17     Asian  0rpfv5x             16-18  0rpfv5x   \n",
       "9926   m.048t9m   18     Asian   048t9m             16-18   048t9m   \n",
       "\n",
       "        img_org_name  face_id  \n",
       "9917  m.02qpxkm_0004      4.0  \n",
       "9918  m.01m49_z_0001      1.0  \n",
       "9919  m.0sgqn7h_0003      3.0  \n",
       "9920  m.0sgqn7h_0002      2.0  \n",
       "9921  m.0knwxrc_0001      1.0  \n",
       "9922   m.0d5060_0004      4.0  \n",
       "9923   m.0d5060_0002      2.0  \n",
       "9924  m.05mz42q_0002      2.0  \n",
       "9925  m.0rpfv5x_0004      4.0  \n",
       "9926   m.048t9m_0002      2.0  "
      ]
     },
     "execution_count": 12,
     "metadata": {},
     "output_type": "execute_result"
    }
   ],
   "source": [
    "# Merge to ylfw\n",
    "ylfw_witha = pd.concat([y_df,a_data_children_agegroup],ignore_index=True)\n",
    "ylfw_witha[-10:]"
   ]
  },
  {
   "cell_type": "markdown",
   "metadata": {},
   "source": [
    "### 4. Undersample based on the minority class in the children's age group in YLFW\n",
    "- Keep racial distribution as in minority class\n",
    "- Delete based on IDs "
   ]
  },
  {
   "cell_type": "markdown",
   "metadata": {},
   "source": [
    "Distribution of age groups - based on IDS (obs be aware that each id have images in different age groups). Therefore we sample based on number of images per age group. \n"
   ]
  },
  {
   "cell_type": "code",
   "execution_count": 13,
   "metadata": {},
   "outputs": [
    {
     "data": {
      "text/html": [
       "<div>\n",
       "<style scoped>\n",
       "    .dataframe tbody tr th:only-of-type {\n",
       "        vertical-align: middle;\n",
       "    }\n",
       "\n",
       "    .dataframe tbody tr th {\n",
       "        vertical-align: top;\n",
       "    }\n",
       "\n",
       "    .dataframe thead tr th {\n",
       "        text-align: left;\n",
       "    }\n",
       "\n",
       "    .dataframe thead tr:last-of-type th {\n",
       "        text-align: right;\n",
       "    }\n",
       "</style>\n",
       "<table border=\"1\" class=\"dataframe\">\n",
       "  <thead>\n",
       "    <tr>\n",
       "      <th></th>\n",
       "      <th colspan=\"4\" halign=\"left\">Age</th>\n",
       "    </tr>\n",
       "    <tr>\n",
       "      <th></th>\n",
       "      <th>min</th>\n",
       "      <th>max</th>\n",
       "      <th>std</th>\n",
       "      <th>count</th>\n",
       "    </tr>\n",
       "    <tr>\n",
       "      <th>im_id</th>\n",
       "      <th></th>\n",
       "      <th></th>\n",
       "      <th></th>\n",
       "      <th></th>\n",
       "    </tr>\n",
       "  </thead>\n",
       "  <tbody>\n",
       "    <tr>\n",
       "      <th>Indian_87</th>\n",
       "      <td>0</td>\n",
       "      <td>30</td>\n",
       "      <td>21.213203</td>\n",
       "      <td>2</td>\n",
       "    </tr>\n",
       "    <tr>\n",
       "      <th>Asian_620</th>\n",
       "      <td>2</td>\n",
       "      <td>29</td>\n",
       "      <td>19.091883</td>\n",
       "      <td>2</td>\n",
       "    </tr>\n",
       "    <tr>\n",
       "      <th>Asian_570</th>\n",
       "      <td>2</td>\n",
       "      <td>35</td>\n",
       "      <td>18.502252</td>\n",
       "      <td>3</td>\n",
       "    </tr>\n",
       "    <tr>\n",
       "      <th>Asian_96</th>\n",
       "      <td>0</td>\n",
       "      <td>26</td>\n",
       "      <td>18.384776</td>\n",
       "      <td>2</td>\n",
       "    </tr>\n",
       "    <tr>\n",
       "      <th>African_44</th>\n",
       "      <td>6</td>\n",
       "      <td>32</td>\n",
       "      <td>18.384776</td>\n",
       "      <td>2</td>\n",
       "    </tr>\n",
       "  </tbody>\n",
       "</table>\n",
       "</div>"
      ],
      "text/plain": [
       "           Age                     \n",
       "           min max        std count\n",
       "im_id                              \n",
       "Indian_87    0  30  21.213203     2\n",
       "Asian_620    2  29  19.091883     2\n",
       "Asian_570    2  35  18.502252     3\n",
       "Asian_96     0  26  18.384776     2\n",
       "African_44   6  32  18.384776     2"
      ]
     },
     "execution_count": 13,
     "metadata": {},
     "output_type": "execute_result"
    }
   ],
   "source": [
    "# Standard deviation of age groups per identity\n",
    "ylfw_witha.groupby(\"im_id\").agg({'Age': ['min', 'max','std', 'count']}).sort_values(by=('Age', 'std'), ascending=False).head(5)"
   ]
  },
  {
   "cell_type": "code",
   "execution_count": 14,
   "metadata": {},
   "outputs": [
    {
     "data": {
      "text/plain": [
       "children_agegroup\n",
       "4-6      1169\n",
       "0-3      1123\n",
       "7-9       987\n",
       "10-12     670\n",
       "16-18     650\n",
       "13-15     428\n",
       "Name: im_id, dtype: int64"
      ]
     },
     "execution_count": 14,
     "metadata": {},
     "output_type": "execute_result"
    }
   ],
   "source": [
    "# Distribution of IDs per age group\n",
    "ylfw_witha.groupby('children_agegroup').im_id.nunique().sort_values(ascending=False)"
   ]
  },
  {
   "cell_type": "code",
   "execution_count": 15,
   "metadata": {},
   "outputs": [
    {
     "data": {
      "text/plain": [
       "children_agegroup\n",
       "0-3      2669\n",
       "4-6      2092\n",
       "7-9      1699\n",
       "10-12    1005\n",
       "16-18     835\n",
       "13-15     551\n",
       "Name: count, dtype: int64"
      ]
     },
     "execution_count": 15,
     "metadata": {},
     "output_type": "execute_result"
    }
   ],
   "source": [
    "# Distribution of age groups - based on number of images per age group\n",
    "ylfw_witha.children_agegroup.value_counts().sort_values(ascending=False)"
   ]
  },
  {
   "cell_type": "code",
   "execution_count": 16,
   "metadata": {},
   "outputs": [
    {
     "name": "stdout",
     "output_type": "stream",
     "text": [
      "13-15\n"
     ]
    }
   ],
   "source": [
    "# Take minority age group BASED ON N_IMAGES\n",
    "min_agegroup = ylfw_witha.groupby('children_agegroup').img_name.count().sort_values(ascending=False).idxmin()\n",
    "print(min_agegroup)"
   ]
  },
  {
   "cell_type": "code",
   "execution_count": 17,
   "metadata": {},
   "outputs": [
    {
     "data": {
      "text/plain": [
       "ethnicity\n",
       "African      164\n",
       "Indian       158\n",
       "Caucasian    117\n",
       "Asian        112\n",
       "Name: img_name, dtype: int64"
      ]
     },
     "execution_count": 17,
     "metadata": {},
     "output_type": "execute_result"
    }
   ],
   "source": [
    "# Get racial distribution of number of images in minority age group\n",
    "minority_agedf = ylfw_witha[ylfw_witha.children_agegroup == min_agegroup]\n",
    "minority_agedf.groupby('ethnicity').img_name.count().sort_values(ascending=False)"
   ]
  },
  {
   "cell_type": "code",
   "execution_count": 18,
   "metadata": {},
   "outputs": [
    {
     "data": {
      "text/html": [
       "<div>\n",
       "<style scoped>\n",
       "    .dataframe tbody tr th:only-of-type {\n",
       "        vertical-align: middle;\n",
       "    }\n",
       "\n",
       "    .dataframe tbody tr th {\n",
       "        vertical-align: top;\n",
       "    }\n",
       "\n",
       "    .dataframe thead th {\n",
       "        text-align: right;\n",
       "    }\n",
       "</style>\n",
       "<table border=\"1\" class=\"dataframe\">\n",
       "  <thead>\n",
       "    <tr style=\"text-align: right;\">\n",
       "      <th></th>\n",
       "      <th>img_name</th>\n",
       "      <th>Age</th>\n",
       "      <th>ethnicity</th>\n",
       "      <th>id_class</th>\n",
       "      <th>children_agegroup</th>\n",
       "      <th>im_id</th>\n",
       "      <th>img_org_name</th>\n",
       "      <th>face_id</th>\n",
       "    </tr>\n",
       "  </thead>\n",
       "  <tbody>\n",
       "    <tr>\n",
       "      <th>22</th>\n",
       "      <td>African_634_22</td>\n",
       "      <td>15</td>\n",
       "      <td>African</td>\n",
       "      <td>634</td>\n",
       "      <td>13-15</td>\n",
       "      <td>African_634</td>\n",
       "      <td>NaN</td>\n",
       "      <td>NaN</td>\n",
       "    </tr>\n",
       "    <tr>\n",
       "      <th>60</th>\n",
       "      <td>Caucasian_346_12</td>\n",
       "      <td>14</td>\n",
       "      <td>Caucasian</td>\n",
       "      <td>346</td>\n",
       "      <td>13-15</td>\n",
       "      <td>Caucasian_346</td>\n",
       "      <td>NaN</td>\n",
       "      <td>NaN</td>\n",
       "    </tr>\n",
       "    <tr>\n",
       "      <th>62</th>\n",
       "      <td>African_699_1</td>\n",
       "      <td>13</td>\n",
       "      <td>African</td>\n",
       "      <td>699</td>\n",
       "      <td>13-15</td>\n",
       "      <td>African_699</td>\n",
       "      <td>NaN</td>\n",
       "      <td>NaN</td>\n",
       "    </tr>\n",
       "    <tr>\n",
       "      <th>164</th>\n",
       "      <td>African_412_47</td>\n",
       "      <td>13</td>\n",
       "      <td>African</td>\n",
       "      <td>412</td>\n",
       "      <td>13-15</td>\n",
       "      <td>African_412</td>\n",
       "      <td>NaN</td>\n",
       "      <td>NaN</td>\n",
       "    </tr>\n",
       "    <tr>\n",
       "      <th>168</th>\n",
       "      <td>Asian_489_46</td>\n",
       "      <td>13</td>\n",
       "      <td>Asian</td>\n",
       "      <td>489</td>\n",
       "      <td>13-15</td>\n",
       "      <td>Asian_489</td>\n",
       "      <td>NaN</td>\n",
       "      <td>NaN</td>\n",
       "    </tr>\n",
       "    <tr>\n",
       "      <th>...</th>\n",
       "      <td>...</td>\n",
       "      <td>...</td>\n",
       "      <td>...</td>\n",
       "      <td>...</td>\n",
       "      <td>...</td>\n",
       "      <td>...</td>\n",
       "      <td>...</td>\n",
       "      <td>...</td>\n",
       "    </tr>\n",
       "    <tr>\n",
       "      <th>9898</th>\n",
       "      <td>m.05lq0j</td>\n",
       "      <td>14</td>\n",
       "      <td>Asian</td>\n",
       "      <td>05lq0j</td>\n",
       "      <td>13-15</td>\n",
       "      <td>05lq0j</td>\n",
       "      <td>m.05lq0j_0003</td>\n",
       "      <td>3.0</td>\n",
       "    </tr>\n",
       "    <tr>\n",
       "      <th>9907</th>\n",
       "      <td>m.05fwlf</td>\n",
       "      <td>13</td>\n",
       "      <td>Asian</td>\n",
       "      <td>05fwlf</td>\n",
       "      <td>13-15</td>\n",
       "      <td>05fwlf</td>\n",
       "      <td>m.05fwlf_0002</td>\n",
       "      <td>2.0</td>\n",
       "    </tr>\n",
       "    <tr>\n",
       "      <th>9914</th>\n",
       "      <td>m.0bmd0_6</td>\n",
       "      <td>15</td>\n",
       "      <td>Asian</td>\n",
       "      <td>0bmd0_6</td>\n",
       "      <td>13-15</td>\n",
       "      <td>0bmd0_6</td>\n",
       "      <td>m.0bmd0_6_0002</td>\n",
       "      <td>2.0</td>\n",
       "    </tr>\n",
       "    <tr>\n",
       "      <th>9916</th>\n",
       "      <td>m.0bmd0_6</td>\n",
       "      <td>13</td>\n",
       "      <td>Asian</td>\n",
       "      <td>0bmd0_6</td>\n",
       "      <td>13-15</td>\n",
       "      <td>0bmd0_6</td>\n",
       "      <td>m.0bmd0_6_0001</td>\n",
       "      <td>1.0</td>\n",
       "    </tr>\n",
       "    <tr>\n",
       "      <th>9918</th>\n",
       "      <td>m.01m49_z</td>\n",
       "      <td>14</td>\n",
       "      <td>Asian</td>\n",
       "      <td>01m49_z</td>\n",
       "      <td>13-15</td>\n",
       "      <td>01m49_z</td>\n",
       "      <td>m.01m49_z_0001</td>\n",
       "      <td>1.0</td>\n",
       "    </tr>\n",
       "  </tbody>\n",
       "</table>\n",
       "<p>551 rows × 8 columns</p>\n",
       "</div>"
      ],
      "text/plain": [
       "              img_name  Age  ethnicity id_class children_agegroup  \\\n",
       "22      African_634_22   15    African      634             13-15   \n",
       "60    Caucasian_346_12   14  Caucasian      346             13-15   \n",
       "62       African_699_1   13    African      699             13-15   \n",
       "164     African_412_47   13    African      412             13-15   \n",
       "168       Asian_489_46   13      Asian      489             13-15   \n",
       "...                ...  ...        ...      ...               ...   \n",
       "9898          m.05lq0j   14      Asian   05lq0j             13-15   \n",
       "9907          m.05fwlf   13      Asian   05fwlf             13-15   \n",
       "9914         m.0bmd0_6   15      Asian  0bmd0_6             13-15   \n",
       "9916         m.0bmd0_6   13      Asian  0bmd0_6             13-15   \n",
       "9918         m.01m49_z   14      Asian  01m49_z             13-15   \n",
       "\n",
       "              im_id    img_org_name  face_id  \n",
       "22      African_634             NaN      NaN  \n",
       "60    Caucasian_346             NaN      NaN  \n",
       "62      African_699             NaN      NaN  \n",
       "164     African_412             NaN      NaN  \n",
       "168       Asian_489             NaN      NaN  \n",
       "...             ...             ...      ...  \n",
       "9898         05lq0j   m.05lq0j_0003      3.0  \n",
       "9907         05fwlf   m.05fwlf_0002      2.0  \n",
       "9914        0bmd0_6  m.0bmd0_6_0002      2.0  \n",
       "9916        0bmd0_6  m.0bmd0_6_0001      1.0  \n",
       "9918        01m49_z  m.01m49_z_0001      1.0  \n",
       "\n",
       "[551 rows x 8 columns]"
      ]
     },
     "execution_count": 18,
     "metadata": {},
     "output_type": "execute_result"
    }
   ],
   "source": [
    "minority_agedf"
   ]
  },
  {
   "cell_type": "markdown",
   "metadata": {},
   "source": [
    "I.e. Remove samples in the other age groups such that they have approximately the same amount of images and same racial distribution. This is done by sampling the same amount of images within each ethnicity group. "
   ]
  },
  {
   "cell_type": "code",
   "execution_count": 19,
   "metadata": {},
   "outputs": [
    {
     "name": "stdout",
     "output_type": "stream",
     "text": [
      "min age group:  13-15 \n",
      "number of images:  551 \n",
      "\n",
      "racial distribution: ethnicity\n",
      "African      164\n",
      "Indian       158\n",
      "Caucasian    117\n",
      "Asian        112\n",
      "Name: img_name, dtype: int64\n"
     ]
    }
   ],
   "source": [
    "print(\"min age group: \", min_agegroup, \"\\nnumber of images: \", len(minority_agedf),\n",
    "      \"\\n\\nracial distribution:\", minority_agedf.groupby('ethnicity').img_name.count().sort_values(ascending=False))"
   ]
  },
  {
   "cell_type": "markdown",
   "metadata": {},
   "source": [
    "OBS inden dette: lav ethnicity dist for hver age group, for måske også og se hvilken der er mest balanced, og så balancér ift denne?? eller er det too much? "
   ]
  },
  {
   "cell_type": "code",
   "execution_count": 20,
   "metadata": {},
   "outputs": [
    {
     "data": {
      "text/html": [
       "<div>\n",
       "<style scoped>\n",
       "    .dataframe tbody tr th:only-of-type {\n",
       "        vertical-align: middle;\n",
       "    }\n",
       "\n",
       "    .dataframe tbody tr th {\n",
       "        vertical-align: top;\n",
       "    }\n",
       "\n",
       "    .dataframe thead th {\n",
       "        text-align: right;\n",
       "    }\n",
       "</style>\n",
       "<table border=\"1\" class=\"dataframe\">\n",
       "  <thead>\n",
       "    <tr style=\"text-align: right;\">\n",
       "      <th></th>\n",
       "      <th>img_name</th>\n",
       "      <th>Age</th>\n",
       "      <th>ethnicity</th>\n",
       "      <th>id_class</th>\n",
       "      <th>children_agegroup</th>\n",
       "      <th>im_id</th>\n",
       "      <th>img_org_name</th>\n",
       "      <th>face_id</th>\n",
       "    </tr>\n",
       "  </thead>\n",
       "  <tbody>\n",
       "    <tr>\n",
       "      <th>22</th>\n",
       "      <td>African_634_22</td>\n",
       "      <td>15</td>\n",
       "      <td>African</td>\n",
       "      <td>634</td>\n",
       "      <td>13-15</td>\n",
       "      <td>African_634</td>\n",
       "      <td>NaN</td>\n",
       "      <td>NaN</td>\n",
       "    </tr>\n",
       "    <tr>\n",
       "      <th>60</th>\n",
       "      <td>Caucasian_346_12</td>\n",
       "      <td>14</td>\n",
       "      <td>Caucasian</td>\n",
       "      <td>346</td>\n",
       "      <td>13-15</td>\n",
       "      <td>Caucasian_346</td>\n",
       "      <td>NaN</td>\n",
       "      <td>NaN</td>\n",
       "    </tr>\n",
       "    <tr>\n",
       "      <th>62</th>\n",
       "      <td>African_699_1</td>\n",
       "      <td>13</td>\n",
       "      <td>African</td>\n",
       "      <td>699</td>\n",
       "      <td>13-15</td>\n",
       "      <td>African_699</td>\n",
       "      <td>NaN</td>\n",
       "      <td>NaN</td>\n",
       "    </tr>\n",
       "    <tr>\n",
       "      <th>164</th>\n",
       "      <td>African_412_47</td>\n",
       "      <td>13</td>\n",
       "      <td>African</td>\n",
       "      <td>412</td>\n",
       "      <td>13-15</td>\n",
       "      <td>African_412</td>\n",
       "      <td>NaN</td>\n",
       "      <td>NaN</td>\n",
       "    </tr>\n",
       "    <tr>\n",
       "      <th>168</th>\n",
       "      <td>Asian_489_46</td>\n",
       "      <td>13</td>\n",
       "      <td>Asian</td>\n",
       "      <td>489</td>\n",
       "      <td>13-15</td>\n",
       "      <td>Asian_489</td>\n",
       "      <td>NaN</td>\n",
       "      <td>NaN</td>\n",
       "    </tr>\n",
       "    <tr>\n",
       "      <th>...</th>\n",
       "      <td>...</td>\n",
       "      <td>...</td>\n",
       "      <td>...</td>\n",
       "      <td>...</td>\n",
       "      <td>...</td>\n",
       "      <td>...</td>\n",
       "      <td>...</td>\n",
       "      <td>...</td>\n",
       "    </tr>\n",
       "    <tr>\n",
       "      <th>9898</th>\n",
       "      <td>m.05lq0j</td>\n",
       "      <td>14</td>\n",
       "      <td>Asian</td>\n",
       "      <td>05lq0j</td>\n",
       "      <td>13-15</td>\n",
       "      <td>05lq0j</td>\n",
       "      <td>m.05lq0j_0003</td>\n",
       "      <td>3.0</td>\n",
       "    </tr>\n",
       "    <tr>\n",
       "      <th>9907</th>\n",
       "      <td>m.05fwlf</td>\n",
       "      <td>13</td>\n",
       "      <td>Asian</td>\n",
       "      <td>05fwlf</td>\n",
       "      <td>13-15</td>\n",
       "      <td>05fwlf</td>\n",
       "      <td>m.05fwlf_0002</td>\n",
       "      <td>2.0</td>\n",
       "    </tr>\n",
       "    <tr>\n",
       "      <th>9914</th>\n",
       "      <td>m.0bmd0_6</td>\n",
       "      <td>15</td>\n",
       "      <td>Asian</td>\n",
       "      <td>0bmd0_6</td>\n",
       "      <td>13-15</td>\n",
       "      <td>0bmd0_6</td>\n",
       "      <td>m.0bmd0_6_0002</td>\n",
       "      <td>2.0</td>\n",
       "    </tr>\n",
       "    <tr>\n",
       "      <th>9916</th>\n",
       "      <td>m.0bmd0_6</td>\n",
       "      <td>13</td>\n",
       "      <td>Asian</td>\n",
       "      <td>0bmd0_6</td>\n",
       "      <td>13-15</td>\n",
       "      <td>0bmd0_6</td>\n",
       "      <td>m.0bmd0_6_0001</td>\n",
       "      <td>1.0</td>\n",
       "    </tr>\n",
       "    <tr>\n",
       "      <th>9918</th>\n",
       "      <td>m.01m49_z</td>\n",
       "      <td>14</td>\n",
       "      <td>Asian</td>\n",
       "      <td>01m49_z</td>\n",
       "      <td>13-15</td>\n",
       "      <td>01m49_z</td>\n",
       "      <td>m.01m49_z_0001</td>\n",
       "      <td>1.0</td>\n",
       "    </tr>\n",
       "  </tbody>\n",
       "</table>\n",
       "<p>551 rows × 8 columns</p>\n",
       "</div>"
      ],
      "text/plain": [
       "              img_name  Age  ethnicity id_class children_agegroup  \\\n",
       "22      African_634_22   15    African      634             13-15   \n",
       "60    Caucasian_346_12   14  Caucasian      346             13-15   \n",
       "62       African_699_1   13    African      699             13-15   \n",
       "164     African_412_47   13    African      412             13-15   \n",
       "168       Asian_489_46   13      Asian      489             13-15   \n",
       "...                ...  ...        ...      ...               ...   \n",
       "9898          m.05lq0j   14      Asian   05lq0j             13-15   \n",
       "9907          m.05fwlf   13      Asian   05fwlf             13-15   \n",
       "9914         m.0bmd0_6   15      Asian  0bmd0_6             13-15   \n",
       "9916         m.0bmd0_6   13      Asian  0bmd0_6             13-15   \n",
       "9918         m.01m49_z   14      Asian  01m49_z             13-15   \n",
       "\n",
       "              im_id    img_org_name  face_id  \n",
       "22      African_634             NaN      NaN  \n",
       "60    Caucasian_346             NaN      NaN  \n",
       "62      African_699             NaN      NaN  \n",
       "164     African_412             NaN      NaN  \n",
       "168       Asian_489             NaN      NaN  \n",
       "...             ...             ...      ...  \n",
       "9898         05lq0j   m.05lq0j_0003      3.0  \n",
       "9907         05fwlf   m.05fwlf_0002      2.0  \n",
       "9914        0bmd0_6  m.0bmd0_6_0002      2.0  \n",
       "9916        0bmd0_6  m.0bmd0_6_0001      1.0  \n",
       "9918        01m49_z  m.01m49_z_0001      1.0  \n",
       "\n",
       "[551 rows x 8 columns]"
      ]
     },
     "execution_count": 20,
     "metadata": {},
     "output_type": "execute_result"
    }
   ],
   "source": [
    "minority_agedf"
   ]
  },
  {
   "cell_type": "code",
   "execution_count": 21,
   "metadata": {},
   "outputs": [
    {
     "data": {
      "text/html": [
       "<div>\n",
       "<style scoped>\n",
       "    .dataframe tbody tr th:only-of-type {\n",
       "        vertical-align: middle;\n",
       "    }\n",
       "\n",
       "    .dataframe tbody tr th {\n",
       "        vertical-align: top;\n",
       "    }\n",
       "\n",
       "    .dataframe thead tr th {\n",
       "        text-align: left;\n",
       "    }\n",
       "\n",
       "    .dataframe thead tr:last-of-type th {\n",
       "        text-align: right;\n",
       "    }\n",
       "</style>\n",
       "<table border=\"1\" class=\"dataframe\">\n",
       "  <thead>\n",
       "    <tr>\n",
       "      <th></th>\n",
       "      <th>img_name</th>\n",
       "    </tr>\n",
       "    <tr>\n",
       "      <th></th>\n",
       "      <th>count</th>\n",
       "    </tr>\n",
       "    <tr>\n",
       "      <th>im_id</th>\n",
       "      <th></th>\n",
       "    </tr>\n",
       "  </thead>\n",
       "  <tbody>\n",
       "    <tr>\n",
       "      <th>01m49_z</th>\n",
       "      <td>1</td>\n",
       "    </tr>\n",
       "    <tr>\n",
       "      <th>01r4447</th>\n",
       "      <td>2</td>\n",
       "    </tr>\n",
       "    <tr>\n",
       "      <th>01vjy69</th>\n",
       "      <td>1</td>\n",
       "    </tr>\n",
       "    <tr>\n",
       "      <th>025wqb8</th>\n",
       "      <td>1</td>\n",
       "    </tr>\n",
       "    <tr>\n",
       "      <th>0264t6l</th>\n",
       "      <td>1</td>\n",
       "    </tr>\n",
       "    <tr>\n",
       "      <th>...</th>\n",
       "      <td>...</td>\n",
       "    </tr>\n",
       "    <tr>\n",
       "      <th>Indian_7</th>\n",
       "      <td>1</td>\n",
       "    </tr>\n",
       "    <tr>\n",
       "      <th>Indian_711</th>\n",
       "      <td>1</td>\n",
       "    </tr>\n",
       "    <tr>\n",
       "      <th>Indian_717</th>\n",
       "      <td>2</td>\n",
       "    </tr>\n",
       "    <tr>\n",
       "      <th>Indian_74</th>\n",
       "      <td>1</td>\n",
       "    </tr>\n",
       "    <tr>\n",
       "      <th>Indian_91</th>\n",
       "      <td>1</td>\n",
       "    </tr>\n",
       "  </tbody>\n",
       "</table>\n",
       "<p>428 rows × 1 columns</p>\n",
       "</div>"
      ],
      "text/plain": [
       "           img_name\n",
       "              count\n",
       "im_id              \n",
       "01m49_z           1\n",
       "01r4447           2\n",
       "01vjy69           1\n",
       "025wqb8           1\n",
       "0264t6l           1\n",
       "...             ...\n",
       "Indian_7          1\n",
       "Indian_711        1\n",
       "Indian_717        2\n",
       "Indian_74         1\n",
       "Indian_91         1\n",
       "\n",
       "[428 rows x 1 columns]"
      ]
     },
     "execution_count": 21,
     "metadata": {},
     "output_type": "execute_result"
    }
   ],
   "source": [
    "# get dist of images per ID in min group\n",
    "minority_agedf.groupby(\"im_id\").agg({'img_name': ['count']})"
   ]
  },
  {
   "cell_type": "code",
   "execution_count": 22,
   "metadata": {},
   "outputs": [
    {
     "name": "stdout",
     "output_type": "stream",
     "text": [
      "Average number of ims per id\n"
     ]
    },
    {
     "data": {
      "text/plain": [
       "img_name  count    1.287383\n",
       "dtype: float64"
      ]
     },
     "execution_count": 22,
     "metadata": {},
     "output_type": "execute_result"
    }
   ],
   "source": [
    "print(\"Average number of ims per id\")\n",
    "minority_agedf.groupby(\"im_id\").agg({'img_name': ['count']}).mean()"
   ]
  },
  {
   "cell_type": "code",
   "execution_count": 23,
   "metadata": {},
   "outputs": [
    {
     "data": {
      "text/html": [
       "<div>\n",
       "<style scoped>\n",
       "    .dataframe tbody tr th:only-of-type {\n",
       "        vertical-align: middle;\n",
       "    }\n",
       "\n",
       "    .dataframe tbody tr th {\n",
       "        vertical-align: top;\n",
       "    }\n",
       "\n",
       "    .dataframe thead th {\n",
       "        text-align: right;\n",
       "    }\n",
       "</style>\n",
       "<table border=\"1\" class=\"dataframe\">\n",
       "  <thead>\n",
       "    <tr style=\"text-align: right;\">\n",
       "      <th></th>\n",
       "      <th>img_name</th>\n",
       "      <th>Age</th>\n",
       "      <th>ethnicity</th>\n",
       "      <th>id_class</th>\n",
       "      <th>children_agegroup</th>\n",
       "      <th>im_id</th>\n",
       "      <th>img_org_name</th>\n",
       "      <th>face_id</th>\n",
       "    </tr>\n",
       "  </thead>\n",
       "  <tbody>\n",
       "    <tr>\n",
       "      <th>22</th>\n",
       "      <td>African_634_22</td>\n",
       "      <td>15</td>\n",
       "      <td>African</td>\n",
       "      <td>634</td>\n",
       "      <td>13-15</td>\n",
       "      <td>African_634</td>\n",
       "      <td>NaN</td>\n",
       "      <td>NaN</td>\n",
       "    </tr>\n",
       "    <tr>\n",
       "      <th>60</th>\n",
       "      <td>Caucasian_346_12</td>\n",
       "      <td>14</td>\n",
       "      <td>Caucasian</td>\n",
       "      <td>346</td>\n",
       "      <td>13-15</td>\n",
       "      <td>Caucasian_346</td>\n",
       "      <td>NaN</td>\n",
       "      <td>NaN</td>\n",
       "    </tr>\n",
       "    <tr>\n",
       "      <th>62</th>\n",
       "      <td>African_699_1</td>\n",
       "      <td>13</td>\n",
       "      <td>African</td>\n",
       "      <td>699</td>\n",
       "      <td>13-15</td>\n",
       "      <td>African_699</td>\n",
       "      <td>NaN</td>\n",
       "      <td>NaN</td>\n",
       "    </tr>\n",
       "    <tr>\n",
       "      <th>164</th>\n",
       "      <td>African_412_47</td>\n",
       "      <td>13</td>\n",
       "      <td>African</td>\n",
       "      <td>412</td>\n",
       "      <td>13-15</td>\n",
       "      <td>African_412</td>\n",
       "      <td>NaN</td>\n",
       "      <td>NaN</td>\n",
       "    </tr>\n",
       "    <tr>\n",
       "      <th>168</th>\n",
       "      <td>Asian_489_46</td>\n",
       "      <td>13</td>\n",
       "      <td>Asian</td>\n",
       "      <td>489</td>\n",
       "      <td>13-15</td>\n",
       "      <td>Asian_489</td>\n",
       "      <td>NaN</td>\n",
       "      <td>NaN</td>\n",
       "    </tr>\n",
       "    <tr>\n",
       "      <th>...</th>\n",
       "      <td>...</td>\n",
       "      <td>...</td>\n",
       "      <td>...</td>\n",
       "      <td>...</td>\n",
       "      <td>...</td>\n",
       "      <td>...</td>\n",
       "      <td>...</td>\n",
       "      <td>...</td>\n",
       "    </tr>\n",
       "    <tr>\n",
       "      <th>9898</th>\n",
       "      <td>m.05lq0j</td>\n",
       "      <td>14</td>\n",
       "      <td>Asian</td>\n",
       "      <td>05lq0j</td>\n",
       "      <td>13-15</td>\n",
       "      <td>05lq0j</td>\n",
       "      <td>m.05lq0j_0003</td>\n",
       "      <td>3.0</td>\n",
       "    </tr>\n",
       "    <tr>\n",
       "      <th>9907</th>\n",
       "      <td>m.05fwlf</td>\n",
       "      <td>13</td>\n",
       "      <td>Asian</td>\n",
       "      <td>05fwlf</td>\n",
       "      <td>13-15</td>\n",
       "      <td>05fwlf</td>\n",
       "      <td>m.05fwlf_0002</td>\n",
       "      <td>2.0</td>\n",
       "    </tr>\n",
       "    <tr>\n",
       "      <th>9914</th>\n",
       "      <td>m.0bmd0_6</td>\n",
       "      <td>15</td>\n",
       "      <td>Asian</td>\n",
       "      <td>0bmd0_6</td>\n",
       "      <td>13-15</td>\n",
       "      <td>0bmd0_6</td>\n",
       "      <td>m.0bmd0_6_0002</td>\n",
       "      <td>2.0</td>\n",
       "    </tr>\n",
       "    <tr>\n",
       "      <th>9916</th>\n",
       "      <td>m.0bmd0_6</td>\n",
       "      <td>13</td>\n",
       "      <td>Asian</td>\n",
       "      <td>0bmd0_6</td>\n",
       "      <td>13-15</td>\n",
       "      <td>0bmd0_6</td>\n",
       "      <td>m.0bmd0_6_0001</td>\n",
       "      <td>1.0</td>\n",
       "    </tr>\n",
       "    <tr>\n",
       "      <th>9918</th>\n",
       "      <td>m.01m49_z</td>\n",
       "      <td>14</td>\n",
       "      <td>Asian</td>\n",
       "      <td>01m49_z</td>\n",
       "      <td>13-15</td>\n",
       "      <td>01m49_z</td>\n",
       "      <td>m.01m49_z_0001</td>\n",
       "      <td>1.0</td>\n",
       "    </tr>\n",
       "  </tbody>\n",
       "</table>\n",
       "<p>551 rows × 8 columns</p>\n",
       "</div>"
      ],
      "text/plain": [
       "              img_name  Age  ethnicity id_class children_agegroup  \\\n",
       "22      African_634_22   15    African      634             13-15   \n",
       "60    Caucasian_346_12   14  Caucasian      346             13-15   \n",
       "62       African_699_1   13    African      699             13-15   \n",
       "164     African_412_47   13    African      412             13-15   \n",
       "168       Asian_489_46   13      Asian      489             13-15   \n",
       "...                ...  ...        ...      ...               ...   \n",
       "9898          m.05lq0j   14      Asian   05lq0j             13-15   \n",
       "9907          m.05fwlf   13      Asian   05fwlf             13-15   \n",
       "9914         m.0bmd0_6   15      Asian  0bmd0_6             13-15   \n",
       "9916         m.0bmd0_6   13      Asian  0bmd0_6             13-15   \n",
       "9918         m.01m49_z   14      Asian  01m49_z             13-15   \n",
       "\n",
       "              im_id    img_org_name  face_id  \n",
       "22      African_634             NaN      NaN  \n",
       "60    Caucasian_346             NaN      NaN  \n",
       "62      African_699             NaN      NaN  \n",
       "164     African_412             NaN      NaN  \n",
       "168       Asian_489             NaN      NaN  \n",
       "...             ...             ...      ...  \n",
       "9898         05lq0j   m.05lq0j_0003      3.0  \n",
       "9907         05fwlf   m.05fwlf_0002      2.0  \n",
       "9914        0bmd0_6  m.0bmd0_6_0002      2.0  \n",
       "9916        0bmd0_6  m.0bmd0_6_0001      1.0  \n",
       "9918        01m49_z  m.01m49_z_0001      1.0  \n",
       "\n",
       "[551 rows x 8 columns]"
      ]
     },
     "execution_count": 23,
     "metadata": {},
     "output_type": "execute_result"
    }
   ],
   "source": [
    "minority_agedf"
   ]
  },
  {
   "cell_type": "code",
   "execution_count": 24,
   "metadata": {},
   "outputs": [
    {
     "data": {
      "text/html": [
       "<div>\n",
       "<style scoped>\n",
       "    .dataframe tbody tr th:only-of-type {\n",
       "        vertical-align: middle;\n",
       "    }\n",
       "\n",
       "    .dataframe tbody tr th {\n",
       "        vertical-align: top;\n",
       "    }\n",
       "\n",
       "    .dataframe thead th {\n",
       "        text-align: right;\n",
       "    }\n",
       "</style>\n",
       "<table border=\"1\" class=\"dataframe\">\n",
       "  <thead>\n",
       "    <tr style=\"text-align: right;\">\n",
       "      <th></th>\n",
       "      <th>img_name</th>\n",
       "      <th>Age</th>\n",
       "      <th>ethnicity</th>\n",
       "      <th>id_class</th>\n",
       "      <th>children_agegroup</th>\n",
       "      <th>im_id</th>\n",
       "      <th>img_org_name</th>\n",
       "      <th>face_id</th>\n",
       "    </tr>\n",
       "  </thead>\n",
       "  <tbody>\n",
       "    <tr>\n",
       "      <th>22</th>\n",
       "      <td>African_634_22</td>\n",
       "      <td>15</td>\n",
       "      <td>African</td>\n",
       "      <td>634</td>\n",
       "      <td>13-15</td>\n",
       "      <td>African_634</td>\n",
       "      <td>NaN</td>\n",
       "      <td>NaN</td>\n",
       "    </tr>\n",
       "    <tr>\n",
       "      <th>60</th>\n",
       "      <td>Caucasian_346_12</td>\n",
       "      <td>14</td>\n",
       "      <td>Caucasian</td>\n",
       "      <td>346</td>\n",
       "      <td>13-15</td>\n",
       "      <td>Caucasian_346</td>\n",
       "      <td>NaN</td>\n",
       "      <td>NaN</td>\n",
       "    </tr>\n",
       "    <tr>\n",
       "      <th>62</th>\n",
       "      <td>African_699_1</td>\n",
       "      <td>13</td>\n",
       "      <td>African</td>\n",
       "      <td>699</td>\n",
       "      <td>13-15</td>\n",
       "      <td>African_699</td>\n",
       "      <td>NaN</td>\n",
       "      <td>NaN</td>\n",
       "    </tr>\n",
       "    <tr>\n",
       "      <th>164</th>\n",
       "      <td>African_412_47</td>\n",
       "      <td>13</td>\n",
       "      <td>African</td>\n",
       "      <td>412</td>\n",
       "      <td>13-15</td>\n",
       "      <td>African_412</td>\n",
       "      <td>NaN</td>\n",
       "      <td>NaN</td>\n",
       "    </tr>\n",
       "    <tr>\n",
       "      <th>168</th>\n",
       "      <td>Asian_489_46</td>\n",
       "      <td>13</td>\n",
       "      <td>Asian</td>\n",
       "      <td>489</td>\n",
       "      <td>13-15</td>\n",
       "      <td>Asian_489</td>\n",
       "      <td>NaN</td>\n",
       "      <td>NaN</td>\n",
       "    </tr>\n",
       "    <tr>\n",
       "      <th>...</th>\n",
       "      <td>...</td>\n",
       "      <td>...</td>\n",
       "      <td>...</td>\n",
       "      <td>...</td>\n",
       "      <td>...</td>\n",
       "      <td>...</td>\n",
       "      <td>...</td>\n",
       "      <td>...</td>\n",
       "    </tr>\n",
       "    <tr>\n",
       "      <th>9898</th>\n",
       "      <td>m.05lq0j</td>\n",
       "      <td>14</td>\n",
       "      <td>Asian</td>\n",
       "      <td>05lq0j</td>\n",
       "      <td>13-15</td>\n",
       "      <td>05lq0j</td>\n",
       "      <td>m.05lq0j_0003</td>\n",
       "      <td>3.0</td>\n",
       "    </tr>\n",
       "    <tr>\n",
       "      <th>9907</th>\n",
       "      <td>m.05fwlf</td>\n",
       "      <td>13</td>\n",
       "      <td>Asian</td>\n",
       "      <td>05fwlf</td>\n",
       "      <td>13-15</td>\n",
       "      <td>05fwlf</td>\n",
       "      <td>m.05fwlf_0002</td>\n",
       "      <td>2.0</td>\n",
       "    </tr>\n",
       "    <tr>\n",
       "      <th>9914</th>\n",
       "      <td>m.0bmd0_6</td>\n",
       "      <td>15</td>\n",
       "      <td>Asian</td>\n",
       "      <td>0bmd0_6</td>\n",
       "      <td>13-15</td>\n",
       "      <td>0bmd0_6</td>\n",
       "      <td>m.0bmd0_6_0002</td>\n",
       "      <td>2.0</td>\n",
       "    </tr>\n",
       "    <tr>\n",
       "      <th>9916</th>\n",
       "      <td>m.0bmd0_6</td>\n",
       "      <td>13</td>\n",
       "      <td>Asian</td>\n",
       "      <td>0bmd0_6</td>\n",
       "      <td>13-15</td>\n",
       "      <td>0bmd0_6</td>\n",
       "      <td>m.0bmd0_6_0001</td>\n",
       "      <td>1.0</td>\n",
       "    </tr>\n",
       "    <tr>\n",
       "      <th>9918</th>\n",
       "      <td>m.01m49_z</td>\n",
       "      <td>14</td>\n",
       "      <td>Asian</td>\n",
       "      <td>01m49_z</td>\n",
       "      <td>13-15</td>\n",
       "      <td>01m49_z</td>\n",
       "      <td>m.01m49_z_0001</td>\n",
       "      <td>1.0</td>\n",
       "    </tr>\n",
       "  </tbody>\n",
       "</table>\n",
       "<p>551 rows × 8 columns</p>\n",
       "</div>"
      ],
      "text/plain": [
       "              img_name  Age  ethnicity id_class children_agegroup  \\\n",
       "22      African_634_22   15    African      634             13-15   \n",
       "60    Caucasian_346_12   14  Caucasian      346             13-15   \n",
       "62       African_699_1   13    African      699             13-15   \n",
       "164     African_412_47   13    African      412             13-15   \n",
       "168       Asian_489_46   13      Asian      489             13-15   \n",
       "...                ...  ...        ...      ...               ...   \n",
       "9898          m.05lq0j   14      Asian   05lq0j             13-15   \n",
       "9907          m.05fwlf   13      Asian   05fwlf             13-15   \n",
       "9914         m.0bmd0_6   15      Asian  0bmd0_6             13-15   \n",
       "9916         m.0bmd0_6   13      Asian  0bmd0_6             13-15   \n",
       "9918         m.01m49_z   14      Asian  01m49_z             13-15   \n",
       "\n",
       "              im_id    img_org_name  face_id  \n",
       "22      African_634             NaN      NaN  \n",
       "60    Caucasian_346             NaN      NaN  \n",
       "62      African_699             NaN      NaN  \n",
       "164     African_412             NaN      NaN  \n",
       "168       Asian_489             NaN      NaN  \n",
       "...             ...             ...      ...  \n",
       "9898         05lq0j   m.05lq0j_0003      3.0  \n",
       "9907         05fwlf   m.05fwlf_0002      2.0  \n",
       "9914        0bmd0_6  m.0bmd0_6_0002      2.0  \n",
       "9916        0bmd0_6  m.0bmd0_6_0001      1.0  \n",
       "9918        01m49_z  m.01m49_z_0001      1.0  \n",
       "\n",
       "[551 rows x 8 columns]"
      ]
     },
     "execution_count": 24,
     "metadata": {},
     "output_type": "execute_result"
    }
   ],
   "source": [
    "minority_agedf"
   ]
  },
  {
   "cell_type": "code",
   "execution_count": 25,
   "metadata": {},
   "outputs": [],
   "source": [
    "etnicities = list(ylfw_witha.ethnicity.unique())\n",
    "\n",
    "# Save variables of frequency within each ethnicity\n",
    "minority_etnicity_dist = minority_agedf.groupby('ethnicity').img_name.count().sort_values(ascending=False)\n",
    "minority_n_ids = len(minority_agedf) # kommer automatisk at nå ca samme fordeling\n",
    "\n",
    "\n",
    "# Get this distribution of frequency in ethnicities from each age group\n",
    "ylfw_witha_balanced = minority_agedf.copy()\n",
    "for agegroup in age_labels:\n",
    "    if agegroup != min_agegroup:\n",
    "        agegroup_df = ylfw_witha[ylfw_witha.children_agegroup == agegroup]\n",
    "        nunique_ids = agegroup_df.im_id.nunique()\n",
    "        #get number of ids based on percentage dist of the minority age group\n",
    "        for e in etnicities:\n",
    "            freq_e = minority_etnicity_dist[e]\n",
    "\n",
    "            # randomly sample the images from the current age group from this ethnicity\n",
    "            age_ethn_df = agegroup_df[agegroup_df.ethnicity == e]\n",
    "            sample_eids = age_ethn_df.sample(n=freq_e, random_state=42)\n",
    "\n",
    "            # add theese to the minority dataset\n",
    "            ylfw_witha_balanced = pd.concat([ylfw_witha_balanced, sample_eids], ignore_index=True)\n"
   ]
  },
  {
   "cell_type": "markdown",
   "metadata": {},
   "source": [
    "Check if balanced"
   ]
  },
  {
   "cell_type": "code",
   "execution_count": 26,
   "metadata": {},
   "outputs": [
    {
     "data": {
      "text/plain": [
       "children_agegroup\n",
       "13-15    551\n",
       "0-3      551\n",
       "4-6      551\n",
       "7-9      551\n",
       "10-12    551\n",
       "16-18    551\n",
       "Name: count, dtype: int64"
      ]
     },
     "execution_count": 26,
     "metadata": {},
     "output_type": "execute_result"
    }
   ],
   "source": [
    "# Age groups\n",
    "ylfw_witha_balanced.children_agegroup.value_counts()"
   ]
  },
  {
   "cell_type": "code",
   "execution_count": 89,
   "metadata": {},
   "outputs": [
    {
     "name": "stdout",
     "output_type": "stream",
     "text": [
      "Min age group distribution ethnicity\n",
      "African      164\n",
      "Indian       158\n",
      "Caucasian    117\n",
      "Asian        112\n",
      "Name: img_name, dtype: int64\n",
      "\n",
      "0-3\n",
      " ethnicity\n",
      "African      164\n",
      "Indian       158\n",
      "Caucasian    117\n",
      "Asian        112\n",
      "Name: img_name, dtype: int64\n",
      "\n",
      "16-18 ethnicity\n",
      "African      164\n",
      "Indian       158\n",
      "Caucasian    117\n",
      "Asian        112\n",
      "Name: img_name, dtype: int64\n"
     ]
    }
   ],
   "source": [
    "# Race distribution\n",
    "print(\"Min age group distribution\", minority_agedf.groupby('ethnicity').img_name.count().sort_values(ascending=False))\n",
    "print(\"\\n0-3\\n\",ylfw_witha_balanced[ylfw_witha_balanced.children_agegroup == \"0-3\"].groupby('ethnicity').img_name.count().sort_values(ascending=False))\n",
    "print(\"\\n16-18\",ylfw_witha_balanced[ylfw_witha_balanced.children_agegroup == \"16-18\"].groupby('ethnicity').img_name.count().sort_values(ascending=False))"
   ]
  },
  {
   "cell_type": "code",
   "execution_count": 88,
   "metadata": {},
   "outputs": [
    {
     "data": {
      "text/plain": [
       "children_agegroup\n",
       "13-15    551\n",
       "0-3      551\n",
       "4-6      551\n",
       "7-9      551\n",
       "10-12    551\n",
       "16-18    551\n",
       "Name: count, dtype: int64"
      ]
     },
     "execution_count": 88,
     "metadata": {},
     "output_type": "execute_result"
    }
   ],
   "source": [
    "ylfw_witha_balanced.children_agegroup.value_counts()"
   ]
  },
  {
   "cell_type": "code",
   "execution_count": 90,
   "metadata": {},
   "outputs": [],
   "source": [
    "ylfw_witha_balanced.to_csv('../master_thesis/data/child_balanced.csv', index=False)"
   ]
  },
  {
   "cell_type": "markdown",
   "metadata": {},
   "source": [
    "## 2. Balance Data in adult group and children's group\n",
    "\n",
    "\n",
    "Mht race?"
   ]
  },
  {
   "cell_type": "code",
   "execution_count": 28,
   "metadata": {},
   "outputs": [
    {
     "data": {
      "text/plain": [
       "ethnicity\n",
       "African      0.297641\n",
       "Indian       0.286751\n",
       "Caucasian    0.212341\n",
       "Asian        0.203267\n",
       "Name: proportion, dtype: float64"
      ]
     },
     "execution_count": 28,
     "metadata": {},
     "output_type": "execute_result"
    }
   ],
   "source": [
    "# Racial distribution\n",
    "ylfw_witha_balanced.ethnicity.value_counts(normalize=True)"
   ]
  },
  {
   "cell_type": "code",
   "execution_count": 29,
   "metadata": {},
   "outputs": [
    {
     "data": {
      "text/plain": [
       "ethnicity\n",
       "African      0.256415\n",
       "Indian       0.256062\n",
       "Caucasian    0.250296\n",
       "Asian        0.237227\n",
       "Name: proportion, dtype: float64"
      ]
     },
     "execution_count": 29,
     "metadata": {},
     "output_type": "execute_result"
    }
   ],
   "source": [
    "# Remove childrens age group from adult data\n",
    "a_df = pd.read_csv('../data/raw_full/RLFW/raw_rfw_df.csv')\n",
    "a_df = a_df[a_df.Age > 18]\n",
    "\n",
    "# Check racial distribution\n",
    "a_df.ethnicity.value_counts(normalize=True)"
   ]
  },
  {
   "cell_type": "code",
   "execution_count": 84,
   "metadata": {},
   "outputs": [],
   "source": [
    "etnicities = list(ylfw_witha_balanced.ethnicity.unique())\n",
    "\n",
    "# Save variables of frequency within each ethnicity\n",
    "etnicity_dist = ylfw_witha_balanced.groupby('ethnicity').img_name.count().sort_values(ascending=False)\n",
    "a_balanced = pd.DataFrame()\n",
    "for e in etnicities:\n",
    "    freq_e = etnicity_dist[e]\n",
    "\n",
    "    # randomly sample the images from the current age group from this ethnicity\n",
    "    age_ethn_df = a_df[a_df.ethnicity == e]\n",
    "    sample_eids = age_ethn_df.sample(n=freq_e, random_state=42)\n",
    "\n",
    "    # add theese to the minority dataset\n",
    "    a_balanced = pd.concat([a_balanced, sample_eids], ignore_index=True)\n"
   ]
  },
  {
   "cell_type": "code",
   "execution_count": 85,
   "metadata": {},
   "outputs": [
    {
     "data": {
      "text/plain": [
       "ethnicity\n",
       "African      984\n",
       "Indian       948\n",
       "Caucasian    702\n",
       "Asian        672\n",
       "Name: img_name, dtype: int64"
      ]
     },
     "execution_count": 85,
     "metadata": {},
     "output_type": "execute_result"
    }
   ],
   "source": [
    "a_balanced.groupby('ethnicity').img_name.count().sort_values(ascending=False)"
   ]
  },
  {
   "cell_type": "code",
   "execution_count": 86,
   "metadata": {},
   "outputs": [
    {
     "data": {
      "text/plain": [
       "ethnicity\n",
       "African      984\n",
       "Indian       948\n",
       "Caucasian    702\n",
       "Asian        672\n",
       "Name: img_name, dtype: int64"
      ]
     },
     "execution_count": 86,
     "metadata": {},
     "output_type": "execute_result"
    }
   ],
   "source": [
    "ylfw_witha_balanced.groupby('ethnicity').img_name.count().sort_values(ascending=False)\n"
   ]
  },
  {
   "cell_type": "code",
   "execution_count": 91,
   "metadata": {},
   "outputs": [],
   "source": [
    "a_balanced.to_csv('../master_thesis/data/adults_balanced.csv', index=False)"
   ]
  },
  {
   "cell_type": "code",
   "execution_count": null,
   "metadata": {},
   "outputs": [],
   "source": []
  }
 ],
 "metadata": {
  "kernelspec": {
   "display_name": "best_master",
   "language": "python",
   "name": "python3"
  },
  "language_info": {
   "codemirror_mode": {
    "name": "ipython",
    "version": 3
   },
   "file_extension": ".py",
   "mimetype": "text/x-python",
   "name": "python",
   "nbconvert_exporter": "python",
   "pygments_lexer": "ipython3",
   "version": "3.11.8"
  }
 },
 "nbformat": 4,
 "nbformat_minor": 2
}
